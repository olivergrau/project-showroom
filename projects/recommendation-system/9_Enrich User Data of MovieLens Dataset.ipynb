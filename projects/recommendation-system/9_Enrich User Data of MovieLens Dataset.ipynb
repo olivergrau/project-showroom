{
 "cells": [
  {
   "cell_type": "markdown",
   "metadata": {},
   "source": [
    "# Python code for generating synthetic user data to enrich the MovieLens dataset.\n",
    "\n",
    "The code does the following:\n",
    "\n",
    "- Loads the ratings.csv to extract all unique user IDs.\n",
    "- Adds approximately 25% new user records with synthetic user IDs.\n",
    "- Augments the data with synthetic features like age, sex, favorite genres, and other features with values generated from reasonable distributions.\n",
    "- Writes the resulting enriched user data to a CSV file user_enriched.csv."
   ]
  },
  {
   "cell_type": "code",
   "execution_count": 1,
   "metadata": {},
   "outputs": [
    {
     "name": "stdout",
     "output_type": "stream",
     "text": [
      "User enriched data written to data/ml-latest-small/user_enriched.csv\n",
      "   userId  age     sex           favorite_genres  num_reviews  avg_rating  \\\n",
      "0       1   39    male   Comedy, Action, Mystery           58        3.44   \n",
      "1       2   33  female         Fantasy, Thriller           56        3.18   \n",
      "2       3   41    male                    Comedy           48        4.37   \n",
      "3       4   50  female  Thriller, Comedy, Horror           56        3.34   \n",
      "4       5   32    male          Action, Thriller           51        4.42   \n",
      "\n",
      "  spending_category  \n",
      "0              High  \n",
      "1              High  \n",
      "2            Medium  \n",
      "3               Low  \n",
      "4               Low  \n"
     ]
    }
   ],
   "source": [
    "import pandas as pd\n",
    "import numpy as np\n",
    "import random\n",
    "\n",
    "# Set seed for reproducibility\n",
    "np.random.seed(42)\n",
    "random.seed(42)\n",
    "\n",
    "# Load ratings.csv to extract user IDs\n",
    "ratings_path = \"data/ml-latest-small/ratings.csv\"\n",
    "ratings = pd.read_csv(ratings_path)\n",
    "\n",
    "# Extract unique user IDs\n",
    "existing_user_ids = ratings['userId'].unique()\n",
    "n_existing_users = len(existing_user_ids)\n",
    "\n",
    "# Generate 25% additional synthetic user IDs\n",
    "n_new_users = int(n_existing_users * 0.25)\n",
    "new_user_ids = range(existing_user_ids.max() + 1, existing_user_ids.max() + 1 + n_new_users)\n",
    "\n",
    "# Combine existing and new user IDs\n",
    "all_user_ids = np.concatenate([existing_user_ids, new_user_ids])\n",
    "\n",
    "# Create a DataFrame for user_enriched.csv\n",
    "user_enriched = pd.DataFrame({'userId': all_user_ids})\n",
    "\n",
    "# Generate synthetic features\n",
    "# Age: Normally distributed between 18 and 65\n",
    "user_enriched['age'] = np.random.normal(loc=35, scale=10, size=len(user_enriched)).clip(18, 65).astype(int)\n",
    "\n",
    "# Sex: Randomly assign \"male\" or \"female\"\n",
    "user_enriched['sex'] = np.random.choice(['male', 'female'], size=len(user_enriched), p=[0.5, 0.5])\n",
    "\n",
    "# Favorite genres: Randomly assign 1-3 favorite genres from a predefined list\n",
    "genres = ['Action', 'Comedy', 'Drama', 'Fantasy', 'Horror', 'Mystery', 'Romance', 'Sci-Fi', 'Thriller']\n",
    "user_enriched['favorite_genres'] = user_enriched.apply(\n",
    "    lambda _: ', '.join(random.sample(genres, random.randint(1, 3))), axis=1\n",
    ")\n",
    "\n",
    "# Number of reviews: Simulate how active a user is, following a skewed distribution\n",
    "user_enriched['num_reviews'] = np.random.poisson(lam=50, size=len(user_enriched)).clip(1, 200)\n",
    "\n",
    "# Average rating: Normally distributed around 3.5 with a slight bias\n",
    "user_enriched['avg_rating'] = np.random.normal(loc=3.5, scale=0.5, size=len(user_enriched)).clip(1, 5).round(2)\n",
    "\n",
    "# Spending category: Simulate how much users spend on movie services (Low, Medium, High)\n",
    "user_enriched['spending_category'] = pd.cut(\n",
    "    np.random.uniform(0, 1, size=len(user_enriched)),\n",
    "    bins=[0, 0.33, 0.66, 1],\n",
    "    labels=['Low', 'Medium', 'High']\n",
    ")\n",
    "\n",
    "# Write enriched user data to CSV\n",
    "output_path = \"data/ml-latest-small/user_enriched.csv\"\n",
    "user_enriched.to_csv(output_path, index=False)\n",
    "print(f\"User enriched data written to {output_path}\")\n",
    "\n",
    "# Preview the DataFrame\n",
    "print(user_enriched.head())\n"
   ]
  }
 ],
 "metadata": {
  "kernelspec": {
   "display_name": "Python 3 (ipykernel)",
   "language": "python",
   "name": "python3"
  },
  "language_info": {
   "codemirror_mode": {
    "name": "ipython",
    "version": 3
   },
   "file_extension": ".py",
   "mimetype": "text/x-python",
   "name": "python",
   "nbconvert_exporter": "python",
   "pygments_lexer": "ipython3",
   "version": "3.9.20"
  }
 },
 "nbformat": 4,
 "nbformat_minor": 2
}
