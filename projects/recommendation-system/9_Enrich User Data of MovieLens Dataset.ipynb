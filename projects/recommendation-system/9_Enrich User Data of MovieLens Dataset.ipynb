{
 "cells": [
  {
   "cell_type": "markdown",
   "metadata": {},
   "source": [
    "# Python code for generating synthetic user data to enrich the MovieLens dataset.\n",
    "\n",
    "The code does the following:\n",
    "\n",
    "- Loads the ratings.csv to extract all unique user IDs.\n",
    "- Adds approximately 25% new user records with synthetic user IDs. (Optional)\n",
    "- Augments the data with synthetic features like age, sex, favorite genres, and other features with values generated from reasonable distributions.\n",
    "- Writes the resulting enriched user data to a CSV file user_enriched.csv."
   ]
  },
  {
   "cell_type": "code",
   "execution_count": 12,
   "metadata": {},
   "outputs": [
    {
     "name": "stdout",
     "output_type": "stream",
     "text": [
      "Aggregating genres for users...\n",
      "Assigning favorite genres to users...\n"
     ]
    },
    {
     "name": "stderr",
     "output_type": "stream",
     "text": [
      "Processing Users: 100%|███████████████████████████████████████████████████| 200948/200948 [00:00<00:00, 271749.04user/s]\n"
     ]
    },
    {
     "name": "stdout",
     "output_type": "stream",
     "text": [
      "User enriched data written to data/ml-32m/users_enriched.csv\n",
      "   userId  age     sex  num_reviews  avg_rating spending_category  \\\n",
      "0       1   39    male           48        2.58            Medium   \n",
      "1       2   33  female           51        2.71            Medium   \n",
      "2       3   41  female           51        3.38            Medium   \n",
      "3       4   50    male           49        2.73               Low   \n",
      "4       5   32    male           49        3.52            Medium   \n",
      "5       6   32    male           43        3.49              High   \n",
      "6       7   50    male           47        3.49               Low   \n",
      "7       8   42  female           53        3.31              High   \n",
      "8       9   30    male           59        4.06               Low   \n",
      "9      10   40  female           47        4.04              High   \n",
      "\n",
      "             favorite_genres  \n",
      "0    Comedy, Action, Romance  \n",
      "1              Children, War  \n",
      "2                   Children  \n",
      "3  Sci-Fi, Adventure, Horror  \n",
      "4                     Action  \n",
      "5                     Comedy  \n",
      "6                     Action  \n",
      "7   Crime, Thriller, Romance  \n",
      "8         Film-Noir, Western  \n",
      "9     Fantasy, Action, Crime  \n"
     ]
    }
   ],
   "source": [
    "import pandas as pd\n",
    "import numpy as np\n",
    "import random\n",
    "from collections import defaultdict\n",
    "from tqdm import tqdm  # For progress bar\n",
    "\n",
    "# Set seed for reproducibility\n",
    "np.random.seed(42)\n",
    "random.seed(42)\n",
    "\n",
    "# Load ratings.csv and movies_enriched.csv\n",
    "ratings_path = \"data/ml-32m/ratings.csv\"\n",
    "movies_path = \"data/ml-32m/movies_enriched.csv\"\n",
    "ratings = pd.read_csv(ratings_path)\n",
    "movies = pd.read_csv(movies_path)\n",
    "\n",
    "# User options\n",
    "add_new_users = False  # Set to False if no new users should be added\n",
    "\n",
    "# Extract unique user IDs\n",
    "existing_user_ids = ratings['userId'].unique()\n",
    "n_existing_users = len(existing_user_ids)\n",
    "\n",
    "if add_new_users:\n",
    "    # Generate 25% additional synthetic user IDs\n",
    "    n_new_users = int(n_existing_users * 0.25)\n",
    "    new_user_ids = range(existing_user_ids.max() + 1, existing_user_ids.max() + 1 + n_new_users)\n",
    "    all_user_ids = np.concatenate([existing_user_ids, new_user_ids])\n",
    "else:\n",
    "    all_user_ids = existing_user_ids\n",
    "\n",
    "# Create a DataFrame for user_enriched.csv\n",
    "user_enriched = pd.DataFrame({'userId': all_user_ids})\n",
    "\n",
    "# Generate synthetic features\n",
    "user_enriched['age'] = np.random.normal(loc=35, scale=10, size=len(user_enriched)).clip(18, 65).astype(int)\n",
    "user_enriched['sex'] = np.random.choice(['male', 'female'], size=len(user_enriched), p=[0.5, 0.5])\n",
    "user_enriched['num_reviews'] = np.random.poisson(lam=50, size=len(user_enriched)).clip(1, 200)\n",
    "user_enriched['avg_rating'] = np.random.normal(loc=3.5, scale=0.5, size=len(user_enriched)).clip(1, 5).round(2)\n",
    "user_enriched['spending_category'] = pd.cut(\n",
    "    np.random.uniform(0, 1, size=len(user_enriched)),\n",
    "    bins=[0, 0.33, 0.66, 1],\n",
    "    labels=['Low', 'Medium', 'High']\n",
    ")\n",
    "\n",
    "# Preprocess genres into a lookup table for efficiency\n",
    "movies['genres'] = movies['genres'].fillna('')\n",
    "movie_genres_lookup = movies.set_index('movieId')['genres'].str.split('|').apply(set).to_dict()\n",
    "\n",
    "# Create a mapping of userId to a set of all genres from rated movies\n",
    "user_genres = defaultdict(set)\n",
    "print(\"Aggregating genres for users...\")\n",
    "for user_id, movie_id in zip(ratings['userId'], ratings['movieId']):\n",
    "    if movie_id in movie_genres_lookup:\n",
    "        user_genres[user_id].update(movie_genres_lookup[movie_id])\n",
    "\n",
    "# Vectorized function to derive favorite genres\n",
    "def derive_favorite_genres(user_id, user_genres, pick_subset=True, min_favs=1, max_favs=3):\n",
    "    genres = sorted(user_genres.get(user_id, []))\n",
    "    if pick_subset and genres:\n",
    "        n_genres = random.randint(min_favs, max_favs)\n",
    "        return ', '.join(random.sample(genres, min(n_genres, len(genres))))\n",
    "    return ', '.join(genres)\n",
    "\n",
    "# Assign favorite genres to users with a progress bar\n",
    "print(\"Assigning favorite genres to users...\")\n",
    "user_enriched['favorite_genres'] = [\n",
    "    derive_favorite_genres(uid, user_genres, pick_subset=True, min_favs=1, max_favs=3)\n",
    "    for uid in tqdm(user_enriched['userId'], desc=\"Processing Users\", unit=\"user\")\n",
    "]\n",
    "\n",
    "# Save the enriched user data to a CSV file\n",
    "output_path = \"data/ml-32m/users_enriched.csv\"\n",
    "user_enriched.to_csv(output_path, index=False)\n",
    "print(f\"User enriched data written to {output_path}\")\n",
    "\n",
    "# Preview the DataFrame\n",
    "print(user_enriched.head(10))"
   ]
  }
 ],
 "metadata": {
  "kernelspec": {
   "display_name": "Python 3 (ipykernel)",
   "language": "python",
   "name": "python3"
  },
  "language_info": {
   "codemirror_mode": {
    "name": "ipython",
    "version": 3
   },
   "file_extension": ".py",
   "mimetype": "text/x-python",
   "name": "python",
   "nbconvert_exporter": "python",
   "pygments_lexer": "ipython3",
   "version": "3.9.20"
  }
 },
 "nbformat": 4,
 "nbformat_minor": 2
}
