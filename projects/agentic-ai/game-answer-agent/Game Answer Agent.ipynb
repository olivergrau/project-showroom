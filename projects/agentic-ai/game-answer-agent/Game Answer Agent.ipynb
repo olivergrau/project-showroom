{
 "cells": [
  {
   "cell_type": "markdown",
   "id": "6fdd0bcb",
   "metadata": {},
   "source": [
    "# GameAnswerAgent Project"
   ]
  },
  {
   "cell_type": "markdown",
   "id": "9325b035",
   "metadata": {},
   "source": [
    "## The Agent\n",
    "\n",
    "In this part of the project, you'll use your VectorDB to be part of your Agent as a tool.\n",
    "\n",
    "You're building GameAnswerAgent, an AI Research Agent for the video game industry. The agent will:\n",
    "1. Answer questions using internal knowledge (RAG)\n",
    "2. Search the web when needed\n",
    "3. Maintain conversation state\n",
    "4. Return structured outputs\n",
    "5. Store useful information for future use"
   ]
  },
  {
   "cell_type": "markdown",
   "id": "2b42de90",
   "metadata": {},
   "source": [
    "### Setup"
   ]
  },
  {
   "cell_type": "code",
   "execution_count": null,
   "id": "a963d4ca",
   "metadata": {},
   "outputs": [],
   "source": [
    "import importlib.util\n",
    "import sys\n",
    "\n",
    "# Check if 'pysqlite3' is available before importing\n",
    "if importlib.util.find_spec(\"pysqlite3\") is not None:\n",
    "    import pysqlite3\n",
    "    sys.modules['sqlite3'] = sys.modules.pop('pysqlite3')"
   ]
  },
  {
   "cell_type": "code",
   "execution_count": null,
   "id": "fd10c06e",
   "metadata": {},
   "outputs": [],
   "source": [
    "import os\n",
    "from dotenv import load_dotenv\n",
    "from lib.tooling import tool\n",
    "from tavily import TavilyClient\n",
    "from datetime import datetime\n",
    "from typing import Dict\n",
    "import json"
   ]
  },
  {
   "cell_type": "code",
   "execution_count": 4,
   "id": "87e465d4",
   "metadata": {},
   "outputs": [],
   "source": [
    "load_dotenv()\n",
    "\n",
    "OPENAI_API_KEY = os.getenv(\"OPENAI_API_KEY\")\n",
    "OPENAI_API_BASE = os.getenv(\"OPENAI_API_BASE\")\n",
    "\n",
    "TAVILY_API_KEY = os.getenv(\"TAVILY_API_KEY\")\n",
    "CHROMA_OPENAI_API_KEY = os.getenv(\"CHROMA_OPENAI_API_KEY\")\n",
    "CHROMA_OPENAI_API_BASE = os.getenv(\"CHROMA_OPENAI_API_BASE\")"
   ]
  },
  {
   "cell_type": "code",
   "execution_count": 5,
   "id": "ce364221",
   "metadata": {},
   "outputs": [],
   "source": [
    "import chromadb\n",
    "from chromadb.utils import embedding_functions\n",
    "\n",
    "chroma_client = chromadb.PersistentClient(path=\"chromadb\")\n",
    "embedding_fn = embedding_functions.OpenAIEmbeddingFunction(\n",
    "    api_key=os.getenv(\"CHROMA_OPENAI_API_KEY\"),\n",
    "    model_name=\"text-embedding-3-small\",\n",
    "    api_base=os.getenv(\"CHROMA_OPENAI_API_BASE\", \"https://api.openai.com/v1\")\n",
    ")\n",
    "\n",
    "collection = chroma_client.get_collection(\"udaplay\")\n",
    "\n",
    "client = TavilyClient(api_key=TAVILY_API_KEY)"
   ]
  },
  {
   "cell_type": "markdown",
   "id": "27de4729",
   "metadata": {},
   "source": [
    "### Tools"
   ]
  },
  {
   "cell_type": "markdown",
   "id": "46ab2dac",
   "metadata": {},
   "source": [
    "We are going to build at least 3 tools:\n",
    "- retrieve_game: To search the vector DB\n",
    "- evaluate_retrieval: To assess the retrieval performance\n",
    "- game_web_search: If no good, search the web\n"
   ]
  },
  {
   "cell_type": "markdown",
   "id": "ce4f14cd",
   "metadata": {},
   "source": [
    "#### Retrieve Game Tool\n",
    "The `retrieve_game` tool is a semantic search function that queries a vector database for video game information based on a user's input. It uses the ChromaDB collection to find the most relevant results matching the query, leveraging embeddings for similarity search. The function returns a list of dictionaries, each containing key details about a game (name, platform, release year, description). This tool enables the agent to answer questions using structured, contextually relevant data from the internal database, making it suitable for retrieval-augmented generation (RAG) workflows."
   ]
  },
  {
   "cell_type": "code",
   "execution_count": 6,
   "id": "b25c36dd",
   "metadata": {},
   "outputs": [],
   "source": [
    "@tool(\n",
    "    name=\"retrieve_game\",\n",
    "    description=\"Semantic search: Finds most results in the vector DB\"\n",
    ")\n",
    "def retrieve_game(query: str):\n",
    "    \"\"\"\n",
    "    Retrieve game information based on a query.\n",
    "    \n",
    "    Args:\n",
    "        query (str): The query to search for in the game database.\n",
    "    \n",
    "    Returns:\n",
    "        list: A list of dictionaries containing game information.\n",
    "    \"\"\"\n",
    "    \n",
    "    # Use the chroma client and collection to perform the search\n",
    "    results = collection.query(\n",
    "        query_texts=query, n_results=1)\n",
    "    \n",
    "    formatted_results = []\n",
    "\n",
    "    # results['metadatas'] is a list of lists → [[metadata1, metadata2, ...]]\n",
    "    for metadata in results[\"metadatas\"][0]:  # Access the first query’s results\n",
    "        formatted_results.append({\n",
    "            \"Name\": metadata.get(\"Name\"),\n",
    "            \"Platform\": metadata.get(\"Platform\"),\n",
    "            \"YearOfRelease\": metadata.get(\"YearOfRelease\"),\n",
    "            \"Description\": metadata.get(\"Description\")\n",
    "        })\n",
    "    \n",
    "    return formatted_results"
   ]
  },
  {
   "cell_type": "markdown",
   "id": "910dc945",
   "metadata": {},
   "source": [
    "#### Evaluate Retrieval Tool\n",
    "The `evaluate_retrieval` tool is designed to assess the usefulness of documents retrieved from the vector database in answering a user's question. It leverages the `AgentEvaluator` class, which provides automated evaluation capabilities using an LLM. The tool parses the retrieved documents, formats them for clarity, and creates a test case describing the user's query and the expected outcome. The `AgentEvaluator` then analyzes the agent's response (the retrieved documents) and generates feedback on whether the information is sufficient and relevant. This process ensures that the agent only relies on internal knowledge when it is adequate, and can trigger a web search if the evaluation finds gaps. The use of `AgentEvaluator` enables objective, consistent, and scalable evaluation of retrieval quality within the agent workflow."
   ]
  },
  {
   "cell_type": "code",
   "execution_count": 7,
   "id": "0d9d014b",
   "metadata": {},
   "outputs": [],
   "source": [
    "from lib.evaluation import AgentEvaluator, TestCase\n",
    "from json_repair import repair_json\n",
    "\n",
    "@tool(\n",
    "    name=\"evaluate_retrieval\",\n",
    "    description=\"Based on the user's question and on the list of retrieved documents, it will analyze the usability of the documents to respond to that question.\"\n",
    ")\n",
    "def evaluate_retrieval(question: str, retrieved_docs: str):\n",
    "    \"\"\"\n",
    "    Evaluate the relevance of retrieved documents for a given question.\n",
    "\n",
    "    Args:\n",
    "        question (str): The original question from the user.\n",
    "        retrieved_docs (list): The list of retrieved documents.\n",
    "\n",
    "    Returns:\n",
    "        dict: A report on the usefulness of the retrieved documents.\n",
    "    \"\"\"\n",
    "    # Use the AgentEvaluator class for document retrieval evaluation\n",
    "    evaluator = AgentEvaluator(api_key=OPENAI_API_KEY, base_url=OPENAI_API_BASE)\n",
    "        \n",
    "    try:\n",
    "        parsed_docs = json.loads(repair_json(retrieved_docs))\n",
    "    except json.JSONDecodeError as e:\n",
    "        raise ValueError(f\"Invalid JSON passed to evaluate_retrieval: {e}. Original input: {retrieved_docs} \")\n",
    "    \n",
    "    # Format the retrieved documents for evaluation\n",
    "    docs_text = \"\"\n",
    "    if parsed_docs:\n",
    "        for i, doc in enumerate(parsed_docs, start=1):\n",
    "            if isinstance(doc, dict):\n",
    "                # Handle structured document format\n",
    "                platform = doc.get('Platform', 'Unknown')\n",
    "                name = doc.get('Name', 'Unknown')\n",
    "                year = doc.get('YearOfRelease', 'Unknown')\n",
    "                description = doc.get('Description', 'No description')\n",
    "                docs_text += f\"Document {i}:\\n- Platform: {platform}\\n- Name: {name}\\n- Year: {year}\\n- Description: {description}\\n\\n\"\n",
    "            else:\n",
    "                # Handle plain text documents\n",
    "                docs_text += f\"Document {i}: {str(doc)}\\n\\n\"\n",
    "    else:\n",
    "        docs_text = \"No documents retrieved.\"\n",
    "    \n",
    "    # Create a mock TestCase for document evaluation\n",
    "    test_case = TestCase(\n",
    "        id=\"doc_eval\",\n",
    "        description=\"Evaluate if retrieved documents are sufficient to answer the user's question\",\n",
    "        user_query=question,\n",
    "        expected_tools=[\"retrieve_game\"],\n",
    "        reference_answer=\"Documents should contain relevant information to answer the question\"\n",
    "    )\n",
    "    \n",
    "    # Use evaluate_final_response with the formatted documents as the agent response\n",
    "    evaluation_result = evaluator.evaluate_final_response(\n",
    "        test_case=test_case,\n",
    "        agent_response=docs_text,\n",
    "        execution_time=0.0,\n",
    "        total_tokens=0\n",
    "    )\n",
    "    \n",
    "    # Extract the useful information and return in the expected format\n",
    "    return {\n",
    "        \"useful\": evaluation_result.task_completion.task_completed,\n",
    "        \"description\": evaluation_result.feedback\n",
    "    }"
   ]
  },
  {
   "cell_type": "markdown",
   "id": "c7935a26",
   "metadata": {},
   "source": [
    "#### Game Web Search Tool\n",
    "\n",
    "The `game_web_search` tool enables the agent to search the web for video game information using the Tavily API. When invoked, it takes a user's query and an optional search depth parameter (`basic` or `advanced`). The tool sends the query to Tavily, requesting a concise answer and relevant search results. It returns a structured dictionary containing the answer, a list of results, and metadata such as the timestamp and original query. This tool is used when internal knowledge is insufficient, allowing the agent to provide up-to-date information from external sources.\n"
   ]
  },
  {
   "cell_type": "code",
   "execution_count": 8,
   "id": "2ad698aa",
   "metadata": {},
   "outputs": [],
   "source": [
    "@tool\n",
    "def game_web_search(query: str, search_depth: str = \"advanced\") -> Dict:\n",
    "    \"\"\"\n",
    "    Search the web using Tavily API\n",
    "    args:\n",
    "        query (str): Search query\n",
    "        search_depth (str): Type of search - 'basic' or 'advanced' (default: advanced)\n",
    "    \"\"\"\n",
    "    client = TavilyClient(api_key=TAVILY_API_KEY)\n",
    "    \n",
    "    # Perform the search\n",
    "    search_result = client.search(\n",
    "        query=query,\n",
    "        search_depth=search_depth,\n",
    "        include_answer=True,\n",
    "        include_raw_content=False,\n",
    "        include_images=False\n",
    "    )\n",
    "    \n",
    "    # Format the results\n",
    "    formatted_results = {\n",
    "        \"answer\": search_result.get(\"answer\", \"\"),\n",
    "        \"results\": search_result.get(\"results\", []),\n",
    "        \"search_metadata\": {\n",
    "            \"timestamp\": datetime.now().isoformat(),\n",
    "            \"query\": query\n",
    "        }\n",
    "    }\n",
    "    \n",
    "    return formatted_results"
   ]
  },
  {
   "cell_type": "markdown",
   "id": "df844b3b",
   "metadata": {},
   "source": [
    "### Agent\n",
    "#### GameAnswerAgent Architecture\n",
    "\n",
    "##### **State Machine Workflow:**\n",
    "1. **UserQuery** → **RAG Step** → **Evaluation** → **Decision Point**\n",
    "2. If evaluation shows RAG results are sufficient → **Answer Step** → **Terminate**\n",
    "3. If evaluation shows RAG results are insufficient → **Web Step** → **Answer Step** → **Terminate**\n",
    "\n",
    "##### **Key Components:**\n",
    "\n",
    "1. **GameAgentState**: Custom state schema that tracks:\n",
    "   - `user_query`: The original question\n",
    "   - `rag_results`: Retrieved documents from vector DB\n",
    "   - `evaluation_result`: Assessment of document relevance\n",
    "   - `web_results`: Web search results (if needed)\n",
    "   - `final_answer`: The composed final response\n",
    "   - `needs_web_search`: Decision flag\n",
    "\n",
    "2. **Sub-Agents**: Exactly as you specified:\n",
    "   ```python\n",
    "   # RAG agent with retrieval + evaluation tools\n",
    "   self.rag_agent = Agent(\n",
    "       model_name=model_name,\n",
    "       instructions=rag_instructions,\n",
    "       tools=[retrieve_game, evaluate_retrieval],\n",
    "   )\n",
    "\n",
    "   # Web agent with search tool\n",
    "   self.web_agent = Agent(\n",
    "       model_name=model_name,\n",
    "       instructions=web_instructions,\n",
    "       tools=[game_web_search],\n",
    "   )\n",
    "   ```\n",
    "\n",
    "3. **Workflow Steps**:\n",
    "   - **`_rag_step`**: Invokes RAG agent to retrieve docs and evaluate them\n",
    "   - **`_web_step`**: Invokes Web agent when RAG results are insufficient\n",
    "   - **`_answer_step`**: Combines available information into final answer\n",
    "\n",
    "4. **Smart Transitions**: Uses conditional logic to decide whether web search is needed based on the evaluation result"
   ]
  },
  {
   "cell_type": "markdown",
   "id": "c40845a8",
   "metadata": {},
   "source": [
    "## Running the agent"
   ]
  },
  {
   "cell_type": "code",
   "execution_count": 9,
   "id": "31c56281",
   "metadata": {},
   "outputs": [
    {
     "name": "stderr",
     "output_type": "stream",
     "text": [
      "[DEBUG] Handlers on logger: 1\n"
     ]
    }
   ],
   "source": [
    "from lib.game_answer_agent import GameAnswerAgent# Create the GameAnswerAgent\n",
    "\n",
    "game_agent = GameAnswerAgent(\n",
    "    model_name=\"gpt-4o-mini\", \n",
    "    retrieve_game=retrieve_game,\n",
    "    evaluate_retrieval=evaluate_retrieval,\n",
    "    game_web_search=game_web_search,\n",
    "    base_url=OPENAI_API_BASE, \n",
    "    api_key=OPENAI_API_KEY,\n",
    "    log_level=\"debug\")"
   ]
  },
  {
   "cell_type": "code",
   "execution_count": 10,
   "id": "6e85ecf0",
   "metadata": {},
   "outputs": [
    {
     "name": "stderr",
     "output_type": "stream",
     "text": [
      "[INFO] Starting workflow for query: 'Was Mortal Kombat X released for Playstation 5?'\n",
      "[DEBUG] [StateMachine] Starting: __entry__\n",
      "[DEBUG] RAG Step: Processing query 'Was Mortal Kombat X released for Playstation 5?'\n",
      "[DEBUG] [StateMachine] Starting: __entry__\n",
      "[DEBUG] [StateMachine] Executing step: message_prep\n",
      "[DEBUG] [StateMachine] Executing step: llm_processor\n",
      "[DEBUG] [StateMachine] Executing step: tool_executor\n",
      "[DEBUG] [StateMachine] Executing step: llm_processor\n",
      "[DEBUG] [StateMachine] Executing step: tool_executor\n",
      "[DEBUG] [StateMachine] Executing step: llm_processor\n",
      "[DEBUG] [StateMachine] Executing step: tool_executor\n",
      "[DEBUG] [StateMachine] Executing step: llm_processor\n",
      "[DEBUG] [StateMachine] Executing step: tool_executor\n",
      "[DEBUG] [StateMachine] Executing step: llm_processor\n",
      "[DEBUG] [StateMachine] Terminating: __termination__\n",
      "[DEBUG] RAG results: [{'Name': 'Halo Infinite', 'Platform': 'Xbox Series X|S', 'YearOfRelease': 2021, 'Description': \"The latest installment in the Halo franchise, featuring Master Chief's return in a new open-world setting.\"}]\n",
      "[DEBUG] Evaluation result: {'useful': False, 'description': \"The agent response did not address the user's query about Mortal Kombat X and instead provided information about a different game, Halo Infinite. Therefore, it did not complete the task of evaluating the sufficiency of documents to answer the user's question. The format of the response is correct, but it failed to follow the implicit instruction to provide relevant information related to the user's query.\"}\n",
      "[DEBUG] [StateMachine] Executing step: rag_step\n",
      "[DEBUG] Web Step: Searching web for 'Was Mortal Kombat X released for Playstation 5?'\n",
      "[DEBUG] [StateMachine] Starting: __entry__\n",
      "[DEBUG] [StateMachine] Executing step: message_prep\n",
      "[DEBUG] [StateMachine] Executing step: llm_processor\n",
      "[DEBUG] [StateMachine] Executing step: tool_executor\n",
      "[DEBUG] [StateMachine] Executing step: llm_processor\n",
      "[DEBUG] [StateMachine] Terminating: __termination__\n",
      "[DEBUG] Web search results: {'answer': 'Mortal Kombat X was originally released for PlayStation 4 on April 14, 2015. While it is not a dedicated PlayStation 5 title, it is playable on the PS5 console. However, some features available on the PS4 version may be absent when played on the PS5, and online features require an account to access.\\n\\nFor more details, you can check the [Wikipedia page for Mortal Kombat X](https://en.wikipedia.org/wiki/Mortal_Kombat_X) or the [PlayStation page](https://www.playstation.com/en-us/games/mortal-kombat-x_msm_moved/).'}\n",
      "[DEBUG] [StateMachine] Executing step: web_step\n",
      "[DEBUG] Answer Step: Generating final response\n",
      "[INFO] Final answer: Based on web search:\n",
      "Mortal Kombat X was originally released for PlayStation 4 on April 14, 2015. While it is not a dedicated PlayStation 5 title, it is playable on the PS5 console. However, some features available on the PS4 version may be absent when played on the PS5, and online features require an account to access.\n",
      "\n",
      "For more details, you can check the [Wikipedia page for Mortal Kombat X](https://en.wikipedia.org/wiki/Mortal_Kombat_X) or the [PlayStation page](https://www.playstation.com/en-us/games/mortal-kombat-x_msm_moved/).\n",
      "[DEBUG] [StateMachine] Executing step: answer_step\n",
      "[DEBUG] [StateMachine] Terminating: __termination__\n"
     ]
    },
    {
     "name": "stdout",
     "output_type": "stream",
     "text": [
      "\n",
      "Final answer: Based on web search:\n",
      "Mortal Kombat X was originally released for PlayStation 4 on April 14, 2015. While it is not a dedicated PlayStation 5 title, it is playable on the PS5 console. However, some features available on the PS4 version may be absent when played on the PS5, and online features require an account to access.\n",
      "\n",
      "For more details, you can check the [Wikipedia page for Mortal Kombat X](https://en.wikipedia.org/wiki/Mortal_Kombat_X) or the [PlayStation page](https://www.playstation.com/en-us/games/mortal-kombat-x_msm_moved/).\n"
     ]
    }
   ],
   "source": [
    "answer = game_agent.ask(\"Was Mortal Kombat X released for Playstation 5?\")\n",
    "print()\n",
    "print(f\"Final answer: {answer}\")"
   ]
  },
  {
   "cell_type": "markdown",
   "id": "317fcb26",
   "metadata": {},
   "source": [
    "\n",
    "\n",
    "The implementation properly uses the existing Agent class for the sub-components and leverages the state machine framework to create a sophisticated workflow that can intelligently decide when to fall back to web search based on the quality of retrieved documents."
   ]
  },
  {
   "cell_type": "markdown",
   "id": "a44d79b7",
   "metadata": {},
   "source": [
    "## Multiple test cases"
   ]
  },
  {
   "cell_type": "code",
   "execution_count": 11,
   "id": "0ec23893",
   "metadata": {},
   "outputs": [
    {
     "name": "stderr",
     "output_type": "stream",
     "text": [
      "[INFO] Starting workflow for query: 'When Pokémon Gold and Silver was released?'\n",
      "[DEBUG] [StateMachine] Starting: __entry__\n",
      "[DEBUG] RAG Step: Processing query 'When Pokémon Gold and Silver was released?'\n",
      "[DEBUG] [StateMachine] Starting: __entry__\n",
      "[DEBUG] [StateMachine] Executing step: message_prep\n"
     ]
    },
    {
     "name": "stdout",
     "output_type": "stream",
     "text": [
      "================================================================================\n",
      "Testing GameAnswerAgent\n",
      "================================================================================\n",
      "\n",
      "1. Testing: When Pokémon Gold and Silver was released?\n",
      "------------------------------------------------------------\n"
     ]
    },
    {
     "name": "stderr",
     "output_type": "stream",
     "text": [
      "[DEBUG] [StateMachine] Executing step: llm_processor\n",
      "[DEBUG] [StateMachine] Executing step: tool_executor\n",
      "[DEBUG] [StateMachine] Executing step: llm_processor\n",
      "[DEBUG] [StateMachine] Executing step: tool_executor\n",
      "[DEBUG] [StateMachine] Executing step: llm_processor\n",
      "[DEBUG] [StateMachine] Terminating: __termination__\n",
      "[DEBUG] RAG results: [{'Name': 'Pokémon Gold and Silver', 'Platform': 'Game Boy Color', 'YearOfRelease': 1999, 'Description': 'Second-generation Pokémon games introducing new regions, Pokémon, and gameplay mechanics.'}]\n",
      "[DEBUG] Evaluation result: {'useful': True, 'description': \"The agent response successfully provides relevant information about the release of Pokémon Gold and Silver, including the year of release (1999), which directly answers the user's query. The format is clear and structured, listing the details in an organized manner. Additionally, the response adheres to the implicit instruction to include relevant information to answer the question.\"}\n",
      "[DEBUG] [StateMachine] Executing step: rag_step\n",
      "[DEBUG] Answer Step: Generating final response\n",
      "[INFO] Final answer: Based on our game database:\n",
      "- Pokémon Gold and Silver (Game Boy Color, 1999): Second-generation Pokémon games introducing new regions, Pokémon, and gameplay mechanics.\n",
      "\n",
      "[DEBUG] [StateMachine] Executing step: answer_step\n",
      "[DEBUG] [StateMachine] Terminating: __termination__\n",
      "[INFO] Starting workflow for query: 'Which one was the first 3D platformer Mario game?'\n",
      "[DEBUG] [StateMachine] Starting: __entry__\n",
      "[DEBUG] RAG Step: Processing query 'Which one was the first 3D platformer Mario game?'\n",
      "[DEBUG] [StateMachine] Starting: __entry__\n",
      "[DEBUG] [StateMachine] Executing step: message_prep\n"
     ]
    },
    {
     "name": "stdout",
     "output_type": "stream",
     "text": [
      "Answer: Based on our game database:\n",
      "- Pokémon Gold and Silver (Game Boy Color, 1999): Second-generation Pokémon games introducing new regions, Pokémon, and gameplay mechanics.\n",
      "\n",
      "\n",
      "================================================================================\n",
      "\n",
      "2. Testing: Which one was the first 3D platformer Mario game?\n",
      "------------------------------------------------------------\n"
     ]
    },
    {
     "name": "stderr",
     "output_type": "stream",
     "text": [
      "[DEBUG] [StateMachine] Executing step: llm_processor\n",
      "[DEBUG] [StateMachine] Executing step: tool_executor\n",
      "[DEBUG] [StateMachine] Executing step: llm_processor\n",
      "[DEBUG] [StateMachine] Executing step: tool_executor\n",
      "[DEBUG] [StateMachine] Executing step: llm_processor\n",
      "[DEBUG] [StateMachine] Terminating: __termination__\n",
      "[DEBUG] RAG results: [{'Name': 'Super Mario 64', 'Platform': 'Nintendo 64', 'YearOfRelease': 1996, 'Description': \"A groundbreaking 3D platformer that set new standards for the genre, featuring Mario's quest to rescue Princess Peach.\"}]\n",
      "[DEBUG] Evaluation result: {'useful': True, 'description': \"The agent response successfully identifies 'Super Mario 64' as the first 3D platformer Mario game, which directly answers the user's query. The format is clear and structured, providing relevant details about the game. Additionally, the response adheres to the implicit instructions by including sufficient information to address the user's question.\"}\n",
      "[DEBUG] [StateMachine] Executing step: rag_step\n",
      "[DEBUG] Answer Step: Generating final response\n",
      "[INFO] Final answer: Based on our game database:\n",
      "- Super Mario 64 (Nintendo 64, 1996): A groundbreaking 3D platformer that set new standards for the genre, featuring Mario's quest to rescue Princess Peach.\n",
      "\n",
      "[DEBUG] [StateMachine] Executing step: answer_step\n",
      "[DEBUG] [StateMachine] Terminating: __termination__\n",
      "[INFO] Starting workflow for query: 'Was Mortal Kombat X released for Playstation 5?'\n",
      "[DEBUG] [StateMachine] Starting: __entry__\n",
      "[DEBUG] RAG Step: Processing query 'Was Mortal Kombat X released for Playstation 5?'\n",
      "[DEBUG] [StateMachine] Starting: __entry__\n",
      "[DEBUG] [StateMachine] Executing step: message_prep\n"
     ]
    },
    {
     "name": "stdout",
     "output_type": "stream",
     "text": [
      "Answer: Based on our game database:\n",
      "- Super Mario 64 (Nintendo 64, 1996): A groundbreaking 3D platformer that set new standards for the genre, featuring Mario's quest to rescue Princess Peach.\n",
      "\n",
      "\n",
      "================================================================================\n",
      "\n",
      "3. Testing: Was Mortal Kombat X released for Playstation 5?\n",
      "------------------------------------------------------------\n"
     ]
    },
    {
     "name": "stderr",
     "output_type": "stream",
     "text": [
      "[DEBUG] [StateMachine] Executing step: llm_processor\n",
      "[DEBUG] [StateMachine] Executing step: tool_executor\n",
      "[DEBUG] [StateMachine] Executing step: llm_processor\n",
      "[DEBUG] [StateMachine] Executing step: tool_executor\n",
      "[DEBUG] [StateMachine] Executing step: llm_processor\n",
      "[DEBUG] [StateMachine] Executing step: tool_executor\n",
      "[DEBUG] [StateMachine] Executing step: llm_processor\n",
      "[DEBUG] [StateMachine] Executing step: tool_executor\n",
      "[DEBUG] [StateMachine] Executing step: llm_processor\n",
      "[DEBUG] [StateMachine] Terminating: __termination__\n",
      "[DEBUG] RAG results: [{'Name': 'Halo Infinite', 'Platform': 'Xbox Series X|S', 'YearOfRelease': 2021, 'Description': \"The latest installment in the Halo franchise, featuring Master Chief's return in a new open-world setting.\"}]\n",
      "[DEBUG] Evaluation result: {'useful': False, 'description': \"The agent response did not address the user's query about Mortal Kombat X and instead provided information about a different game, Halo Infinite. Therefore, it did not complete the task of evaluating the sufficiency of documents to answer the user's question. The format of the response is correct, but it failed to follow the implicit instruction to provide relevant information related to the user's query.\"}\n",
      "[DEBUG] [StateMachine] Executing step: rag_step\n",
      "[DEBUG] Web Step: Searching web for 'Was Mortal Kombat X released for Playstation 5?'\n",
      "[DEBUG] [StateMachine] Starting: __entry__\n",
      "[DEBUG] [StateMachine] Executing step: message_prep\n",
      "[DEBUG] [StateMachine] Executing step: llm_processor\n",
      "[DEBUG] [StateMachine] Terminating: __termination__\n",
      "[DEBUG] Web search results: {'answer': 'Mortal Kombat X was not released as a dedicated title for PlayStation 5. It was originally released for PlayStation 4 on April 14, 2015. However, it is playable on the PS5, although some features available in the PS4 version may not be present, and online features require an account to use.'}\n",
      "[DEBUG] [StateMachine] Executing step: web_step\n",
      "[DEBUG] Answer Step: Generating final response\n",
      "[INFO] Final answer: Based on web search:\n",
      "Mortal Kombat X was not released as a dedicated title for PlayStation 5. It was originally released for PlayStation 4 on April 14, 2015. However, it is playable on the PS5, although some features available in the PS4 version may not be present, and online features require an account to use.\n",
      "[DEBUG] [StateMachine] Executing step: answer_step\n",
      "[DEBUG] [StateMachine] Terminating: __termination__\n"
     ]
    },
    {
     "name": "stdout",
     "output_type": "stream",
     "text": [
      "Answer: Based on web search:\n",
      "Mortal Kombat X was not released as a dedicated title for PlayStation 5. It was originally released for PlayStation 4 on April 14, 2015. However, it is playable on the PS5, although some features available in the PS4 version may not be present, and online features require an account to use.\n",
      "\n",
      "================================================================================\n",
      "Testing Complete!\n",
      "================================================================================\n"
     ]
    }
   ],
   "source": [
    "# Test the GameAnswerAgent with the three sample queries\n",
    "\n",
    "print(\"=\" * 80)\n",
    "print(\"Testing GameAnswerAgent\")\n",
    "print(\"=\" * 80)\n",
    "\n",
    "# Test Query 1: When Pokémon Gold and Silver was released?\n",
    "print(\"\\n1. Testing: When Pokémon Gold and Silver was released?\")\n",
    "print(\"-\" * 60)\n",
    "answer1 = game_agent.ask(\"When Pokémon Gold and Silver was released?\")\n",
    "print(f\"Answer: {answer1}\")\n",
    "\n",
    "print(\"\\n\" + \"=\" * 80)\n",
    "\n",
    "# Test Query 2: Which one was the first 3D platformer Mario game?\n",
    "print(\"\\n2. Testing: Which one was the first 3D platformer Mario game?\")\n",
    "print(\"-\" * 60)\n",
    "answer2 = game_agent.ask(\"Which one was the first 3D platformer Mario game?\")\n",
    "print(f\"Answer: {answer2}\")\n",
    "\n",
    "print(\"\\n\" + \"=\" * 80)\n",
    "\n",
    "# Test Query 3: Was Mortal Kombat X released for Playstation 5?\n",
    "print(\"\\n3. Testing: Was Mortal Kombat X released for Playstation 5?\")\n",
    "print(\"-\" * 60)\n",
    "answer3 = game_agent.ask(\"Was Mortal Kombat X released for Playstation 5?\")\n",
    "print(f\"Answer: {answer3}\")\n",
    "\n",
    "print(\"\\n\" + \"=\" * 80)\n",
    "print(\"Testing Complete!\")\n",
    "print(\"=\" * 80)"
   ]
  },
  {
   "cell_type": "markdown",
   "id": "cbc91729",
   "metadata": {},
   "source": [
    "### Proving conversational state"
   ]
  },
  {
   "cell_type": "code",
   "execution_count": null,
   "id": "5b499ec2",
   "metadata": {},
   "outputs": [],
   "source": [
    "from framework.game_answer_agent import GameAnswerAgent# Create the GameAnswerAgent\n",
    "\n",
    "game_agent = GameAnswerAgent(\n",
    "    model_name=\"gpt-4o-mini\", \n",
    "    retrieve_game=retrieve_game,\n",
    "    evaluate_retrieval=evaluate_retrieval,\n",
    "    game_web_search=game_web_search,\n",
    "    base_url=OPENAI_API_BASE, \n",
    "    api_key=OPENAI_API_KEY,\n",
    "    log_level=\"debug\",\n",
    "    session_id=\"s1\")"
   ]
  },
  {
   "cell_type": "code",
   "execution_count": null,
   "id": "056876a7",
   "metadata": {},
   "outputs": [],
   "source": [
    "print(\"=\" * 80)\n",
    "print(\"Testing GameAnswerAgent's conversational state\")\n",
    "print(\"=\" * 80)\n",
    "\n",
    "# Test Query 1: When Pokémon Gold and Silver was released?\n",
    "print(\"\\n1. Testing: When Pokémon Gold and Silver was released?\")\n",
    "print(\"-\" * 60)\n",
    "answer1 = game_agent.ask(\"When Pokémon Gold and Silver was released?\")\n",
    "print(f\"Answer: {answer1}\")\n",
    "\n",
    "print(\"\\n\" + \"=\" * 80)\n",
    "\n",
    "print(\"\\n2. Testing: Which was the game I asked you about?\")\n",
    "print(\"-\" * 60)\n",
    "answer2 = game_agent.ask(\"Which was the game I asked you about?\")\n",
    "print(f\"Answer: {answer2}\")\n",
    "\n",
    "print(\"\\n\" + \"=\" * 80)\n",
    "\n",
    "print(\"\\n2. Testing: Describe the main features of the game I asked you about?\")\n",
    "print(\"-\" * 60)\n",
    "answer3 = game_agent.ask(\"What are the main features of the game I asked you about?\")\n",
    "print(f\"Answer: {answer3}\")"
   ]
  },
  {
   "cell_type": "markdown",
   "id": "6edd4696",
   "metadata": {},
   "source": [
    "## Results Report: GameAnswerAgent Evaluation\n",
    "\n",
    "### Query 1: When Pokémon Gold and Silver was released?\n",
    "**Agent Response:**  \n",
    "Based on our game database:  \n",
    "- Pokémon Gold and Silver (Game Boy Color, 1999): Second-generation Pokémon games introducing new regions, Pokémon, and gameplay mechanics.\n",
    "\n",
    "**Assessment:**  \n",
    "The agent successfully retrieved accurate information from the internal database, including platform and release year.\n",
    "\n",
    "---\n",
    "\n",
    "### Query 2: Which one was the first 3D platformer Mario game?\n",
    "**Agent Response:**  \n",
    "Based on our game database:  \n",
    "- Super Mario 64 (Nintendo 64, 1996): A groundbreaking 3D platformer that set new standards for the genre, featuring Mario's quest to rescue Princess Peach.\n",
    "\n",
    "**Assessment:**  \n",
    "The agent correctly identified Super Mario 64 as the first 3D Mario platformer, providing relevant details from the database.\n",
    "\n",
    "---\n",
    "\n",
    "### Query 3: Was Mortal Kombat X released for Playstation 5?\n",
    "**Agent Response:**  \n",
    "Based on web search:  \n",
    "Mortal Kombat X was not released as a dedicated title for PlayStation 5. It was originally released for PlayStation 4 on April 14, 2015. However, it is playable on the PS5, although some features available in the PS4 version may not be present, and online features require an account to use.\n",
    "\n",
    "**Assessment:**  \n",
    "The agent determined that internal data was insufficient and correctly utilized web search to provide a comprehensive answer, clarifying compatibility and release details.\n",
    "\n",
    "---\n",
    "\n",
    "### Summary\n",
    "\n",
    "- The GameAnswerAgent accurately answers questions using both internal knowledge and web search when necessary.\n",
    "- For database-covered queries, responses are concise and relevant.\n",
    "- For queries beyond the database scope, the agent seamlessly transitions to web search, ensuring complete and up-to-date information."
   ]
  }
 ],
 "metadata": {
  "kernelspec": {
   "display_name": "udaplay",
   "language": "python",
   "name": "python3"
  },
  "language_info": {
   "codemirror_mode": {
    "name": "ipython",
    "version": 3
   },
   "file_extension": ".py",
   "mimetype": "text/x-python",
   "name": "python",
   "nbconvert_exporter": "python",
   "pygments_lexer": "ipython3",
   "version": "3.10.18"
  }
 },
 "nbformat": 4,
 "nbformat_minor": 5
}
