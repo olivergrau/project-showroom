{
 "cells": [
  {
   "cell_type": "markdown",
   "id": "6fdd0bcb",
   "metadata": {},
   "source": [
    "# GameAnswerAgent Project"
   ]
  },
  {
   "cell_type": "markdown",
   "id": "9325b035",
   "metadata": {},
   "source": [
    "## Offline RAG\n",
    "\n",
    "In this part of the project, we prepare a VectorDB using Chroma.\n",
    "\n",
    "The data is inside folder `project/starter/games`. Each file will become a document in the collection you'll create.\n",
    "Example.:\n",
    "```json\n",
    "{\n",
    "  \"Name\": \"Gran Turismo\",\n",
    "  \"Platform\": \"PlayStation 1\",\n",
    "  \"Genre\": \"Racing\",\n",
    "  \"Publisher\": \"Sony Computer Entertainment\",\n",
    "  \"Description\": \"A realistic racing simulator featuring a wide array of cars and tracks, setting a new standard for the genre.\",\n",
    "  \"YearOfRelease\": 1997\n",
    "}\n",
    "```\n"
   ]
  },
  {
   "cell_type": "markdown",
   "id": "2b42de90",
   "metadata": {},
   "source": [
    "## Workspace compatibility setup\n",
    "\n",
    "This cell ensures compatibility and avoiding issues with SQLite in Jupyter environments.  \n",
    "It checks for the presence of `pysqlite3` and sets up the correct module for database operations."
   ]
  },
  {
   "cell_type": "code",
   "execution_count": null,
   "id": "61283b25",
   "metadata": {},
   "outputs": [],
   "source": [
    "import importlib.util\n",
    "import sys\n",
    "\n",
    "# Check if 'pysqlite3' is available before importing\n",
    "if importlib.util.find_spec(\"pysqlite3\") is not None:\n",
    "    import pysqlite3\n",
    "    sys.modules['sqlite3'] = sys.modules.pop('pysqlite3')"
   ]
  },
  {
   "cell_type": "markdown",
   "id": "8a7a4ec7",
   "metadata": {},
   "source": [
    "## Import required libraries\n",
    "\n",
    "This cell imports essential Python libraries and modules for environment variable management, file operations, and ChromaDB setup."
   ]
  },
  {
   "cell_type": "code",
   "execution_count": 2,
   "id": "a8d56169",
   "metadata": {},
   "outputs": [],
   "source": [
    "import os\n",
    "import json\n",
    "import chromadb\n",
    "from chromadb.utils import embedding_functions\n",
    "from dotenv import load_dotenv"
   ]
  },
  {
   "cell_type": "markdown",
   "id": "cd03d43e",
   "metadata": {},
   "source": [
    "## Load environment variables\n",
    "\n",
    "This cell loads environment variables from the `.env` file so they can be used in the notebook."
   ]
  },
  {
   "cell_type": "code",
   "execution_count": 3,
   "id": "87e465d4",
   "metadata": {},
   "outputs": [
    {
     "data": {
      "text/plain": [
       "True"
      ]
     },
     "execution_count": 3,
     "metadata": {},
     "output_type": "execute_result"
    }
   ],
   "source": [
    "load_dotenv()"
   ]
  },
  {
   "cell_type": "markdown",
   "id": "27de4729",
   "metadata": {},
   "source": [
    "## Instantiate ChromaDB client\n",
    "\n",
    "This cell creates a persistent ChromaDB client instance, specifying the path for the database files."
   ]
  },
  {
   "cell_type": "code",
   "execution_count": null,
   "id": "b25c36dd",
   "metadata": {},
   "outputs": [],
   "source": [
    "chroma_client = chromadb.PersistentClient(path=\"chromadb2\")                                           "
   ]
  },
  {
   "cell_type": "markdown",
   "id": "df844b3b",
   "metadata": {},
   "source": [
    "## Set up embedding function\n",
    "\n",
    "This cell configures the embedding function for ChromaDB using OpenAI's API.  \n",
    "It specifies the model and API endpoint to use for generating text embeddings."
   ]
  },
  {
   "cell_type": "code",
   "execution_count": null,
   "id": "31c56281",
   "metadata": {},
   "outputs": [],
   "source": [
    "embedding_fn = embedding_functions.OpenAIEmbeddingFunction(\n",
    "    api_key=os.getenv(\"CHROMA_OPENAI_API_KEY\"),\n",
    "    model_name=\"text-embedding-3-small\",\n",
    "    api_base=os.getenv(\"CHROMA_OPENAI_API_BASE\", \"https://api.openai.com/v1\")\n",
    ")"
   ]
  },
  {
   "cell_type": "markdown",
   "id": "807f8a62",
   "metadata": {},
   "source": [
    "## Create ChromaDB collection\n",
    "\n",
    "This cell creates a new collection in ChromaDB for storing game documents.  \n",
    "You can choose any name for your collection and specify the embedding function to use."
   ]
  },
  {
   "cell_type": "code",
   "execution_count": null,
   "id": "0ec23893",
   "metadata": {},
   "outputs": [],
   "source": [
    "collection = chroma_client.create_collection(\n",
    "   name=\"udaplay\",\n",
    "   embedding_function=embedding_fn\n",
    ")"
   ]
  },
  {
   "cell_type": "markdown",
   "id": "f0a55081",
   "metadata": {},
   "source": [
    "## Add documents to the collection\n",
    "\n",
    "This cell loads game data from JSON files in the `games` directory and adds them to the ChromaDB collection.  \n",
    "Each file is parsed and indexed with its metadata for semantic search."
   ]
  },
  {
   "cell_type": "code",
   "execution_count": 8,
   "id": "eb83fbb1",
   "metadata": {},
   "outputs": [],
   "source": [
    "# Make sure you have a directory \"project/starter/games\"\n",
    "data_dir = \"games\"\n",
    "\n",
    "for file_name in sorted(os.listdir(data_dir)):\n",
    "    if not file_name.endswith(\".json\"):\n",
    "        continue\n",
    "\n",
    "    file_path = os.path.join(data_dir, file_name)\n",
    "    with open(file_path, \"r\", encoding=\"utf-8\") as f:\n",
    "        game = json.load(f)\n",
    "\n",
    "    # You can change what text you want to index\n",
    "    content = f\"[{game['Platform']}] {game['Name']} ({game['YearOfRelease']}) - {game['Description']}\"\n",
    "\n",
    "    # Use file name (like 001) as ID\n",
    "    doc_id = os.path.splitext(file_name)[0]\n",
    "\n",
    "    collection.add(\n",
    "        ids=[doc_id],\n",
    "        documents=[content],\n",
    "        metadatas=[game]\n",
    "    )"
   ]
  },
  {
   "cell_type": "markdown",
   "id": "a03993d8",
   "metadata": {},
   "source": [
    "### Querying the DB"
   ]
  },
  {
   "cell_type": "code",
   "execution_count": null,
   "id": "29243376",
   "metadata": {},
   "outputs": [],
   "source": [
    "# Basic query: Search for racing games\n",
    "query_text = \"racing games with cars\"\n",
    "results = collection.query(\n",
    "    query_texts=[query_text],\n",
    "    n_results=3\n",
    ")\n",
    "\n",
    "print(f\"Query: '{query_text}'\")\n",
    "print(f\"Found {len(results['ids'][0])} results:\")\n",
    "for i, (doc_id, document, metadata) in enumerate(zip(results['ids'][0], results['documents'][0], results['metadatas'][0])):\n",
    "    print(f\"\\n{i+1}. ID: {doc_id}\")\n",
    "    print(f\"   Game: {metadata['Name']}\")\n",
    "    print(f\"   Platform: {metadata['Platform']}\")\n",
    "    print(f\"   Genre: {metadata['Genre']}\")\n",
    "    print(f\"   Year: {metadata['YearOfRelease']}\")\n",
    "    print(f\"   Document: {document}\")"
   ]
  },
  {
   "cell_type": "code",
   "execution_count": null,
   "id": "d52ab2ae",
   "metadata": {},
   "outputs": [],
   "source": [
    "# Query with metadata filtering: Find PlayStation games from the 1990s\n",
    "query_text = \"quest\"\n",
    "results = collection.query(\n",
    "    query_texts=[query_text],\n",
    "    n_results=5,\n",
    "    where={\n",
    "        \"$and\": [\n",
    "            {\"Platform\": {\"$eq\": \"Super Nintendo Entertainment System (SNES)\"}},\n",
    "            {\"YearOfRelease\": {\"$gte\": 1990}},\n",
    "            {\"YearOfRelease\": {\"$lt\": 2000}}\n",
    "        ]\n",
    "    }\n",
    ")\n",
    "\n",
    "print(f\"Query: '{query_text}' with filters (SNES, 1990s)\")\n",
    "print(f\"Found {len(results['ids'][0])} results:\")\n",
    "for i, (doc_id, document, metadata) in enumerate(zip(results['ids'][0], results['documents'][0], results['metadatas'][0])):\n",
    "    print(f\"\\n{i+1}. {metadata['Name']} ({metadata['YearOfRelease']})\")\n",
    "    print(f\"   Genre: {metadata['Genre']}\")\n",
    "    print(f\"   Publisher: {metadata['Publisher']}\")\n",
    "    print(f\"   Description: {metadata['Description']}\")"
   ]
  },
  {
   "cell_type": "code",
   "execution_count": null,
   "id": "97ecb4c2",
   "metadata": {},
   "outputs": [],
   "source": [
    "# Query by genre: Find all RPG games\n",
    "results = collection.query(\n",
    "    query_texts=[\"role playing fantasy adventure\"],\n",
    "    n_results=10,\n",
    "    where={\"Genre\": {\"$eq\": \"Role-playing\"}}\n",
    ")\n",
    "\n",
    "print(\"RPG Games in the collection:\")\n",
    "for i, (doc_id, document, metadata) in enumerate(zip(results['ids'][0], results['documents'][0], results['metadatas'][0])):\n",
    "    print(f\"{i+1}. {metadata['Name']} ({metadata['Platform']}, {metadata['YearOfRelease']})\")\n",
    "    print(f\"   {metadata['Description'][:100]}...\")\n",
    "    print()"
   ]
  },
  {
   "cell_type": "code",
   "execution_count": null,
   "id": "667eff71",
   "metadata": {},
   "outputs": [],
   "source": [
    "# Get specific documents by ID\n",
    "specific_ids = [\"001\", \"005\", \"010\"]\n",
    "results = collection.get(\n",
    "    ids=specific_ids,\n",
    "    include=[\"documents\", \"metadatas\"]\n",
    ")\n",
    "\n",
    "print(\"Specific games by ID:\")\n",
    "for doc_id, document, metadata in zip(results['ids'], results['documents'], results['metadatas']):\n",
    "    print(f\"ID {doc_id}: {metadata['Name']}\")\n",
    "    print(f\"  Platform: {metadata['Platform']}\")\n",
    "    print(f\"  Genre: {metadata['Genre']}\")\n",
    "    print(f\"  Year: {metadata['YearOfRelease']}\")\n",
    "    print(f\"  Document: {document}\")\n",
    "    print()"
   ]
  },
  {
   "cell_type": "code",
   "execution_count": null,
   "id": "00db3106",
   "metadata": {},
   "outputs": [],
   "source": [
    "# Collection statistics and exploration\n",
    "print(\"Collection Information:\")\n",
    "print(f\"Collection name: {collection.name}\")\n",
    "print(f\"Total documents: {collection.count()}\")\n",
    "print()\n",
    "\n",
    "# Get all documents to explore the data\n",
    "all_docs = collection.get(include=[\"metadatas\"])\n",
    "platforms = [doc['Platform'] for doc in all_docs['metadatas']]\n",
    "genres = [doc['Genre'] for doc in all_docs['metadatas']]\n",
    "years = [doc['YearOfRelease'] for doc in all_docs['metadatas']]\n",
    "\n",
    "from collections import Counter\n",
    "\n",
    "print(\"Platform distribution:\")\n",
    "for platform, count in Counter(platforms).most_common():\n",
    "    print(f\"  {platform}: {count}\")\n",
    "\n",
    "print(\"\\nGenre distribution:\")\n",
    "for genre, count in Counter(genres).most_common():\n",
    "    print(f\"  {genre}: {count}\")\n",
    "\n",
    "print(f\"\\nYear range: {min(years)} - {max(years)}\")"
   ]
  }
 ],
 "metadata": {
  "kernelspec": {
   "display_name": "udaplay",
   "language": "python",
   "name": "python3"
  },
  "language_info": {
   "codemirror_mode": {
    "name": "ipython",
    "version": 3
   },
   "file_extension": ".py",
   "mimetype": "text/x-python",
   "name": "python",
   "nbconvert_exporter": "python",
   "pygments_lexer": "ipython3",
   "version": "3.10.18"
  }
 },
 "nbformat": 4,
 "nbformat_minor": 5
}
