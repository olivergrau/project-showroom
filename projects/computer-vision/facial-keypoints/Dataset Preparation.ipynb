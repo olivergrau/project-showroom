﻿{
 "cells": [
  {
   "cell_type": "code",
   "id": "initial_id",
   "metadata": {
    "collapsed": true,
    "ExecuteTime": {
     "end_time": "2024-11-01T16:38:08.555110Z",
     "start_time": "2024-11-01T16:37:59.389313Z"
    }
   },
   "source": [
    "import os\n",
    "import json\n",
    "import shutil\n",
    "import random\n",
    "from sklearn.model_selection import train_test_split\n",
    "\n",
    "# Paths\n",
    "data_folder = \"data/archive/images\"  # Folder containing images and the all_data.json file\n",
    "output_folder = \"data/high_quality\"  # Output folder for train, valid, test subfolders\n",
    "\n",
    "# Create output directories\n",
    "os.makedirs(os.path.join(output_folder, \"train\"), exist_ok=True)\n",
    "os.makedirs(os.path.join(output_folder, \"valid\"), exist_ok=True)\n",
    "os.makedirs(os.path.join(output_folder, \"test\"), exist_ok=True)\n",
    "\n",
    "# Load the JSON data\n",
    "with open(os.path.join(data_folder, \"../all_data.json\"), \"r\") as file:\n",
    "    all_data = json.load(file)\n",
    "\n",
    "# Convert JSON dictionary to a list of tuples (key, data) for indexing\n",
    "data_items = list(all_data.items())\n",
    "\n",
    "# Split data into train, validation, and test sets\n",
    "train_items, test_items = train_test_split(data_items, test_size=0.2, random_state=42)\n",
    "train_items, valid_items = train_test_split(train_items, test_size=0.25, random_state=42)  # 0.25 * 0.8 = 0.2\n",
    "\n",
    "# Helper function to save a subset\n",
    "def save_subset(items, subset_name):\n",
    "    subset_data = {k: v for k, v in items}\n",
    "\n",
    "    # Save subset JSON\n",
    "    with open(os.path.join(output_folder, subset_name, \"all_data.json\"), \"w\") as f:\n",
    "        json.dump(subset_data, f, indent=4)\n",
    "\n",
    "    # Copy images to the subset folder\n",
    "    for _, item in items:\n",
    "        src_img_path = os.path.join(data_folder, item[\"file_name\"])\n",
    "        dest_img_path = os.path.join(output_folder, subset_name, item[\"file_name\"])\n",
    "        shutil.copy2(src_img_path, dest_img_path)\n",
    "\n",
    "# Save train, valid, and test subsets\n",
    "save_subset(train_items, \"train\")\n",
    "save_subset(valid_items, \"valid\")\n",
    "save_subset(test_items, \"test\")\n",
    "\n",
    "print(\"Data has been split and organized successfully.\")\n"
   ],
   "outputs": [
    {
     "name": "stdout",
     "output_type": "stream",
     "text": [
      "Data has been split and organized successfully.\n"
     ]
    }
   ],
   "execution_count": 2
  },
  {
   "metadata": {},
   "cell_type": "code",
   "outputs": [],
   "execution_count": null,
   "source": "",
   "id": "16ea7575abbefad"
  }
 ],
 "metadata": {
  "kernelspec": {
   "display_name": "Python 3",
   "language": "python",
   "name": "python3"
  },
  "language_info": {
   "codemirror_mode": {
    "name": "ipython",
    "version": 2
   },
   "file_extension": ".py",
   "mimetype": "text/x-python",
   "name": "python",
   "nbconvert_exporter": "python",
   "pygments_lexer": "ipython2",
   "version": "2.7.6"
  }
 },
 "nbformat": 4,
 "nbformat_minor": 5
}
