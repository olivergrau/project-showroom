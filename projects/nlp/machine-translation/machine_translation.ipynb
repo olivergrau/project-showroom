{
 "cells": [
  {
   "cell_type": "markdown",
   "metadata": {
    "collapsed": true,
    "jupyter": {
     "outputs_hidden": true
    }
   },
   "source": [
    "# Machine Translation Project\n",
    "In this notebook, sections that end with **'(IMPLEMENTATION)'** in the header indicate that the following blocks of code will require additional functionality which you must provide. Please be sure to read the instructions carefully!\n",
    "\n",
    "## Introduction\n",
    "In this notebook, you will build a deep neural network that functions as part of an end-to-end machine translation pipeline. Your completed pipeline will accept English text as input and return the French translation.\n",
    "\n",
    "- **Preprocess** - You'll convert text to sequence of integers.\n",
    "- **Models** Create models which accepts a sequence of integers as input and returns a probability distribution over possible translations. After learning about the basic types of neural networks that are often used for machine translation, you will engage in your own investigations, to design your own model!\n",
    "- **Prediction** Run the model on English text."
   ]
  },
  {
   "cell_type": "code",
   "execution_count": 1,
   "metadata": {},
   "outputs": [
    {
     "name": "stderr",
     "output_type": "stream",
     "text": [
      "2024-09-15 13:58:20.519921: I tensorflow/core/util/port.cc:111] oneDNN custom operations are on. You may see slightly different numerical results due to floating-point round-off errors from different computation orders. To turn them off, set the environment variable `TF_ENABLE_ONEDNN_OPTS=0`.\n",
      "2024-09-15 13:58:20.659800: E tensorflow/compiler/xla/stream_executor/cuda/cuda_dnn.cc:9342] Unable to register cuDNN factory: Attempting to register factory for plugin cuDNN when one has already been registered\n",
      "2024-09-15 13:58:20.659829: E tensorflow/compiler/xla/stream_executor/cuda/cuda_fft.cc:609] Unable to register cuFFT factory: Attempting to register factory for plugin cuFFT when one has already been registered\n",
      "2024-09-15 13:58:20.659893: E tensorflow/compiler/xla/stream_executor/cuda/cuda_blas.cc:1518] Unable to register cuBLAS factory: Attempting to register factory for plugin cuBLAS when one has already been registered\n",
      "2024-09-15 13:58:20.689916: I tensorflow/core/platform/cpu_feature_guard.cc:182] This TensorFlow binary is optimized to use available CPU instructions in performance-critical operations.\n",
      "To enable the following instructions: AVX2 AVX_VNNI FMA, in other operations, rebuild TensorFlow with the appropriate compiler flags.\n"
     ]
    }
   ],
   "source": [
    "%load_ext autoreload\n",
    "%aimport helper, project_tests\n",
    "%autoreload 1"
   ]
  },
  {
   "cell_type": "code",
   "execution_count": null,
   "metadata": {},
   "outputs": [
    {
     "name": "stdout",
     "output_type": "stream",
     "text": [
      "/bin/bash: /home/oliver/anaconda3/envs/tf-2.14-gpu/lib/libtinfo.so.6: no version information available (required by /bin/bash)\n",
      "keras==2.14.0\n"
     ]
    }
   ],
   "source": [
    "# Should return keras==2.14.0 and tf-keras==2.14.1\n",
    "%pip freeze | grep keras"
   ]
  },
  {
   "cell_type": "code",
   "execution_count": null,
   "metadata": {},
   "outputs": [
    {
     "name": "stdout",
     "output_type": "stream",
     "text": [
      "/bin/bash: /home/oliver/anaconda3/envs/tf-2.14-gpu/lib/libtinfo.so.6: no version information available (required by /bin/bash)\n",
      "tensorflow==2.14.0\n",
      "tensorflow-datasets==4.9.3\n",
      "tensorflow-estimator==2.14.0\n",
      "tensorflow-hub==0.15.0\n",
      "tensorflow-io-gcs-filesystem==0.37.1\n",
      "tensorflow-metadata==1.15.0\n"
     ]
    }
   ],
   "source": [
    "# Should return tensorflow==2.14.0\n",
    "%pip freeze | grep tensorflow"
   ]
  },
  {
   "cell_type": "code",
   "execution_count": 12,
   "metadata": {},
   "outputs": [],
   "source": [
    "import collections\n",
    "\n",
    "import helper\n",
    "import numpy as np\n",
    "import project_tests as tests\n",
    "\n",
    "from tensorflow.keras.preprocessing.text import Tokenizer\n",
    "from keras.preprocessing.sequence import pad_sequences\n",
    "from keras.models import Model\n",
    "from tensorflow.keras.layers import GRU, Input, Dense, TimeDistributed, Activation, RepeatVector, Bidirectional\n",
    "from keras.layers import Embedding\n",
    "from keras.optimizers import Adam\n",
    "from keras.losses import sparse_categorical_crossentropy\n",
    "from tensorflow.keras.utils import plot_model"
   ]
  },
  {
   "cell_type": "markdown",
   "metadata": {},
   "source": [
    "## Dataset\n",
    "We begin by investigating the dataset that will be used to train and evaluate your pipeline.  The most common datasets used for machine translation are from [WMT](http://www.statmt.org/).  However, that will take a long time to train a neural network on.  We'll be using a dataset we created for this project that contains a small vocabulary.  You'll be able to train your model in a reasonable time with this dataset.\n",
    "### Load Data\n",
    "The data is located in `data/small_vocab_en` and `data/small_vocab_fr`. The `small_vocab_en` file contains English sentences with their French translations in the `small_vocab_fr` file. Load the English and French data from these files from running the cell below."
   ]
  },
  {
   "cell_type": "code",
   "execution_count": 5,
   "metadata": {},
   "outputs": [
    {
     "name": "stdout",
     "output_type": "stream",
     "text": [
      "Dataset Loaded\n"
     ]
    }
   ],
   "source": [
    "# Load English data\n",
    "english_sentences = helper.load_data('data/small_vocab_en')\n",
    "# Load French data\n",
    "french_sentences = helper.load_data('data/small_vocab_fr')\n",
    "\n",
    "print('Dataset Loaded')"
   ]
  },
  {
   "cell_type": "markdown",
   "metadata": {},
   "source": [
    "### Files\n",
    "Each line in `small_vocab_en` contains an English sentence with the respective translation in each line of `small_vocab_fr`.  View the first two lines from each file."
   ]
  },
  {
   "cell_type": "code",
   "execution_count": 6,
   "metadata": {},
   "outputs": [
    {
     "name": "stdout",
     "output_type": "stream",
     "text": [
      "small_vocab_en Line 1:  new jersey is sometimes quiet during autumn , and it is snowy in april .\n",
      "small_vocab_fr Line 1:  new jersey est parfois calme pendant l' automne , et il est neigeux en avril .\n",
      "small_vocab_en Line 2:  the united states is usually chilly during july , and it is usually freezing in november .\n",
      "small_vocab_fr Line 2:  les états-unis est généralement froid en juillet , et il gèle habituellement en novembre .\n"
     ]
    }
   ],
   "source": [
    "for sample_i in range(2):\n",
    "    print('small_vocab_en Line {}:  {}'.format(sample_i + 1, english_sentences[sample_i]))\n",
    "    print('small_vocab_fr Line {}:  {}'.format(sample_i + 1, french_sentences[sample_i]))"
   ]
  },
  {
   "cell_type": "markdown",
   "metadata": {},
   "source": [
    "From looking at the sentences, you can see they have been preprocessed already.  The puncuations have been delimited using spaces. All the text have been converted to lowercase.  This should save you some time, but the text requires more preprocessing.\n",
    "### Vocabulary\n",
    "The complexity of the problem is determined by the complexity of the vocabulary.  A more complex vocabulary is a more complex problem.  Let's look at the complexity of the dataset we'll be working with."
   ]
  },
  {
   "cell_type": "code",
   "execution_count": 7,
   "metadata": {},
   "outputs": [
    {
     "name": "stdout",
     "output_type": "stream",
     "text": [
      "1823250 English words.\n",
      "227 unique English words.\n",
      "10 Most common words in the English dataset:\n",
      "\"is\" \",\" \".\" \"in\" \"it\" \"during\" \"the\" \"but\" \"and\" \"sometimes\"\n",
      "\n",
      "1961295 French words.\n",
      "355 unique French words.\n",
      "10 Most common words in the French dataset:\n",
      "\"est\" \".\" \",\" \"en\" \"il\" \"les\" \"mais\" \"et\" \"la\" \"parfois\"\n"
     ]
    }
   ],
   "source": [
    "english_words_counter = collections.Counter([word for sentence in english_sentences for word in sentence.split()])\n",
    "french_words_counter = collections.Counter([word for sentence in french_sentences for word in sentence.split()])\n",
    "\n",
    "print('{} English words.'.format(len([word for sentence in english_sentences for word in sentence.split()])))\n",
    "print('{} unique English words.'.format(len(english_words_counter)))\n",
    "print('10 Most common words in the English dataset:')\n",
    "print('\"' + '\" \"'.join(list(zip(*english_words_counter.most_common(10)))[0]) + '\"')\n",
    "print()\n",
    "print('{} French words.'.format(len([word for sentence in french_sentences for word in sentence.split()])))\n",
    "print('{} unique French words.'.format(len(french_words_counter)))\n",
    "print('10 Most common words in the French dataset:')\n",
    "print('\"' + '\" \"'.join(list(zip(*french_words_counter.most_common(10)))[0]) + '\"')"
   ]
  },
  {
   "cell_type": "markdown",
   "metadata": {},
   "source": [
    "For comparison, _Alice's Adventures in Wonderland_ contains 2,766 unique words of a total of 15,500 words.\n",
    "## Preprocess\n",
    "For this project, you won't use text data as input to your model. Instead, you'll convert the text into sequences of integers using the following preprocess methods:\n",
    "1. Tokenize the words into ids\n",
    "2. Add padding to make all the sequences the same length.\n",
    "\n",
    "Time to start preprocessing the data...\n",
    "### Tokenize (IMPLEMENTATION)\n",
    "For a neural network to predict on text data, it first has to be turned into data it can understand. Text data like \"dog\" is a sequence of ASCII character encodings.  Since a neural network is a series of multiplication and addition operations, the input data needs to be number(s).\n",
    "\n",
    "We can turn each character into a number or each word into a number.  These are called character and word ids, respectively.  Character ids are used for character level models that generate text predictions for each character.  A word level model uses word ids that generate text predictions for each word.  Word level models tend to learn better, since they are lower in complexity, so we'll use those.\n",
    "\n",
    "Turn each sentence into a sequence of words ids using Keras's [`Tokenizer`](https://keras.io/preprocessing/text/#tokenizer) function. Use this function to tokenize `english_sentences` and `french_sentences` in the cell below.\n",
    "\n",
    "Running the cell will run `tokenize` on sample data and show output for debugging."
   ]
  },
  {
   "cell_type": "code",
   "execution_count": 8,
   "metadata": {},
   "outputs": [
    {
     "name": "stdout",
     "output_type": "stream",
     "text": [
      "Sequence 1 in x\n",
      "  Input:  The quick brown fox jumps over the lazy dog .\n",
      "  Output: [1, 2, 4, 5, 6, 7, 1, 8, 9]\n",
      "Sequence 2 in x\n",
      "  Input:  By Jove , my quick study of lexicography won a prize .\n",
      "  Output: [10, 11, 12, 2, 13, 14, 15, 16, 3, 17]\n",
      "Sequence 3 in x\n",
      "  Input:  This is a short sentence .\n",
      "  Output: [18, 19, 3, 20, 21]\n"
     ]
    }
   ],
   "source": [
    "def tokenize(x):\n",
    "    \"\"\"\n",
    "    Tokenize x\n",
    "    :param x: List of sentences/strings to be tokenized\n",
    "    :return: Tuple of (tokenized x data, tokenizer used to tokenize x)\n",
    "    \"\"\"\n",
    "    x_tk = Tokenizer(char_level=False)\n",
    "    x_tk.fit_on_texts(x)\n",
    "\n",
    "    return x_tk.texts_to_sequences(x), x_tk\n",
    "    \n",
    "tests.test_tokenize(tokenize)\n",
    "\n",
    "# Tokenize Example output\n",
    "text_sentences = [\n",
    "    'The quick brown fox jumps over the lazy dog .',\n",
    "    'By Jove , my quick study of lexicography won a prize .',\n",
    "    'This is a short sentence .']\n",
    "text_tokenized, text_tokenizer = tokenize(text_sentences)\n",
    "\n",
    "for sample_i, (sent, token_sent) in enumerate(zip(text_sentences, text_tokenized)):\n",
    "    print('Sequence {} in x'.format(sample_i + 1))\n",
    "    print('  Input:  {}'.format(sent))\n",
    "    print('  Output: {}'.format(token_sent))"
   ]
  },
  {
   "cell_type": "markdown",
   "metadata": {},
   "source": [
    "### Padding (IMPLEMENTATION)\n",
    "When batching the sequence of word ids together, each sequence needs to be the same length.  Since sentences are dynamic in length, we can add padding to the end of the sequences to make them the same length.\n",
    "\n",
    "Make sure all the English sequences have the same length and all the French sequences have the same length by adding padding to the **end** of each sequence using Keras's [`pad_sequences`](https://keras.io/preprocessing/sequence/#pad_sequences) function."
   ]
  },
  {
   "cell_type": "code",
   "execution_count": 9,
   "metadata": {},
   "outputs": [
    {
     "name": "stdout",
     "output_type": "stream",
     "text": [
      "Sequence 1 in x\n",
      "  Input:  [1 2 4 5 6 7 1 8 9]\n",
      "  Output: [1 2 4 5 6 7 1 8 9 0]\n",
      "Sequence 2 in x\n",
      "  Input:  [10 11 12  2 13 14 15 16  3 17]\n",
      "  Output: [10 11 12  2 13 14 15 16  3 17]\n",
      "Sequence 3 in x\n",
      "  Input:  [18 19  3 20 21]\n",
      "  Output: [18 19  3 20 21  0  0  0  0  0]\n"
     ]
    }
   ],
   "source": [
    "def pad(x, length=None):\n",
    "    \"\"\"\n",
    "    Pad x\n",
    "    :param x: List of sequences.\n",
    "    :param length: Length to pad the sequence to.  If None, use length of longest sequence in x.\n",
    "    :return: Padded numpy array of sequences\n",
    "    \"\"\"\n",
    "    if length is None:\n",
    "        length = max([len(sentence) for sentence in x])\n",
    "    return pad_sequences(x, maxlen=length, padding='post')\n",
    "    \n",
    "tests.test_pad(pad)\n",
    "\n",
    "# Pad Tokenized output\n",
    "test_pad = pad(text_tokenized)\n",
    "for sample_i, (token_sent, pad_sent) in enumerate(zip(text_tokenized, test_pad)):\n",
    "    print('Sequence {} in x'.format(sample_i + 1))\n",
    "    print('  Input:  {}'.format(np.array(token_sent)))\n",
    "    print('  Output: {}'.format(pad_sent))"
   ]
  },
  {
   "cell_type": "markdown",
   "metadata": {},
   "source": [
    "### Preprocess Pipeline\n",
    "Your focus for this project is to build neural network architecture, so we won't ask you to create a preprocess pipeline.  Instead, we've provided you with the implementation of the `preprocess` function."
   ]
  },
  {
   "cell_type": "code",
   "execution_count": 10,
   "metadata": {},
   "outputs": [
    {
     "name": "stdout",
     "output_type": "stream",
     "text": [
      "Data Preprocessed\n",
      "Max English sentence length: 15\n",
      "Max French sentence length: 21\n",
      "English vocabulary size: 199\n",
      "French vocabulary size: 344\n"
     ]
    }
   ],
   "source": [
    "def preprocess(x, y):\n",
    "    \"\"\"\n",
    "    Preprocess x and y\n",
    "    :param x: Feature List of sentences\n",
    "    :param y: Label List of sentences\n",
    "    :return: Tuple of (Preprocessed x, Preprocessed y, x tokenizer, y tokenizer)\n",
    "    \"\"\"\n",
    "    preprocess_x, x_tk = tokenize(x)\n",
    "    preprocess_y, y_tk = tokenize(y)\n",
    "\n",
    "    preprocess_x = pad(preprocess_x)\n",
    "    preprocess_y = pad(preprocess_y)\n",
    "\n",
    "    # Keras's sparse_categorical_crossentropy function requires the labels to be in 3 dimensions\n",
    "    preprocess_y = preprocess_y.reshape(*preprocess_y.shape, 1)\n",
    "\n",
    "    return preprocess_x, preprocess_y, x_tk, y_tk\n",
    "\n",
    "preproc_english_sentences, preproc_french_sentences, english_tokenizer, french_tokenizer =\\\n",
    "    preprocess(english_sentences, french_sentences)\n",
    "    \n",
    "max_english_sequence_length = preproc_english_sentences.shape[1]\n",
    "max_french_sequence_length = preproc_french_sentences.shape[1]\n",
    "english_vocab_size = len(english_tokenizer.word_index)\n",
    "french_vocab_size = len(french_tokenizer.word_index)\n",
    "\n",
    "print('Data Preprocessed')\n",
    "print(\"Max English sentence length:\", max_english_sequence_length)\n",
    "print(\"Max French sentence length:\", max_french_sequence_length)\n",
    "print(\"English vocabulary size:\", english_vocab_size)\n",
    "print(\"French vocabulary size:\", french_vocab_size)"
   ]
  },
  {
   "cell_type": "markdown",
   "metadata": {},
   "source": [
    "## Models\n",
    "In this section, you will experiment with various neural network architectures.\n",
    "You will begin by training four relatively simple architectures.\n",
    "- Model 1 is a simple RNN\n",
    "- Model 2 is a RNN with Embedding\n",
    "- Model 3 is a Bidirectional RNN\n",
    "- Model 4 is an Encoder-Decoder RNN\n",
    "\n",
    "After experimenting with the four simple architectures, you will construct a deeper architecture that is designed to outperform all four models.\n",
    "### Ids Back to Text\n",
    "The neural network will be translating the input to words ids, which isn't the final form we want.  We want the French translation.  The function `logits_to_text` will bridge the gab between the logits from the neural network to the French translation.  You'll be using this function to better understand the output of the neural network."
   ]
  },
  {
   "cell_type": "code",
   "execution_count": 11,
   "metadata": {},
   "outputs": [
    {
     "name": "stdout",
     "output_type": "stream",
     "text": [
      "`logits_to_text` function loaded.\n"
     ]
    }
   ],
   "source": [
    "def logits_to_text(logits, tokenizer):\n",
    "    \"\"\"\n",
    "    Turn logits from a neural network into text using the tokenizer\n",
    "    :param logits: Logits from a neural network\n",
    "    :param tokenizer: Keras Tokenizer fit on the labels\n",
    "    :return: String that represents the text of the logits\n",
    "    \"\"\"\n",
    "    index_to_words = {id: word for word, id in tokenizer.word_index.items()}\n",
    "    index_to_words[0] = '<PAD>'\n",
    "\n",
    "    return ' '.join([index_to_words[prediction] for prediction in np.argmax(logits, 1)])\n",
    "\n",
    "print('`logits_to_text` function loaded.')"
   ]
  },
  {
   "cell_type": "markdown",
   "metadata": {},
   "source": [
    "### Model 1: RNN (IMPLEMENTATION)\n",
    "![RNN](images/rnn.png)\n",
    "\n",
    "A basic RNN model is a good baseline for sequence data.  In this model, you'll build a RNN that translates English to French."
   ]
  },
  {
   "cell_type": "markdown",
   "metadata": {},
   "source": [
    "<p align=\"center\">\n",
    "    <img src=\"./model_simple_plot.png\" alt=\"Architecture of Encoder Decoder\" />\n",
    "</p>"
   ]
  },
  {
   "cell_type": "code",
   "execution_count": 15,
   "metadata": {},
   "outputs": [
    {
     "name": "stdout",
     "output_type": "stream",
     "text": [
      "Epoch 1/10\n"
     ]
    },
    {
     "name": "stderr",
     "output_type": "stream",
     "text": [
      "2024-09-15 14:02:26.931304: I tensorflow/compiler/xla/service/service.cc:168] XLA service 0x7f9a580144a0 initialized for platform CUDA (this does not guarantee that XLA will be used). Devices:\n",
      "2024-09-15 14:02:26.931344: I tensorflow/compiler/xla/service/service.cc:176]   StreamExecutor device (0): NVIDIA GeForce RTX 4070 Laptop GPU, Compute Capability 8.9\n",
      "2024-09-15 14:02:26.941165: I tensorflow/compiler/mlir/tensorflow/utils/dump_mlir_util.cc:269] disabling MLIR crash reproducer, set env var `MLIR_CRASH_REPRODUCER_DIRECTORY` to enable.\n",
      "2024-09-15 14:02:26.968324: I tensorflow/compiler/xla/stream_executor/cuda/cuda_dnn.cc:442] Loaded cuDNN version 8700\n",
      "2024-09-15 14:02:27.070008: I ./tensorflow/compiler/jit/device_compiler.h:186] Compiled cluster using XLA!  This line is logged at most once for the lifetime of the process.\n"
     ]
    },
    {
     "name": "stdout",
     "output_type": "stream",
     "text": [
      "108/108 [==============================] - 4s 26ms/step - loss: 3.3433 - accuracy: 0.4070 - val_loss: nan - val_accuracy: 0.4589\n",
      "Epoch 2/10\n",
      "108/108 [==============================] - 2s 22ms/step - loss: 2.4171 - accuracy: 0.4693 - val_loss: nan - val_accuracy: 0.4915\n",
      "Epoch 3/10\n",
      "108/108 [==============================] - 2s 22ms/step - loss: 2.1892 - accuracy: 0.5185 - val_loss: nan - val_accuracy: 0.5305\n",
      "Epoch 4/10\n",
      "108/108 [==============================] - 2s 23ms/step - loss: 2.0133 - accuracy: 0.5419 - val_loss: nan - val_accuracy: 0.5554\n",
      "Epoch 5/10\n",
      "108/108 [==============================] - 2s 22ms/step - loss: 1.8704 - accuracy: 0.5586 - val_loss: nan - val_accuracy: 0.5654\n",
      "Epoch 6/10\n",
      "108/108 [==============================] - 2s 22ms/step - loss: 1.7618 - accuracy: 0.5729 - val_loss: nan - val_accuracy: 0.5795\n",
      "Epoch 7/10\n",
      "108/108 [==============================] - 2s 22ms/step - loss: 1.6861 - accuracy: 0.5824 - val_loss: nan - val_accuracy: 0.5859\n",
      "Epoch 8/10\n",
      "108/108 [==============================] - 2s 21ms/step - loss: 1.6283 - accuracy: 0.5899 - val_loss: nan - val_accuracy: 0.5950\n",
      "Epoch 9/10\n",
      "108/108 [==============================] - 2s 22ms/step - loss: 1.5782 - accuracy: 0.5977 - val_loss: nan - val_accuracy: 0.6024\n",
      "Epoch 10/10\n",
      "108/108 [==============================] - 2s 23ms/step - loss: 1.5355 - accuracy: 0.6036 - val_loss: nan - val_accuracy: 0.6056\n",
      "1/1 [==============================] - 0s 123ms/step\n",
      "la jersey est parfois chaud en en et il est est en en <PAD> <PAD> <PAD> <PAD> <PAD> <PAD> <PAD> <PAD>\n"
     ]
    }
   ],
   "source": [
    "from tensorflow.keras.layers import Input, SimpleRNN, Dense, TimeDistributed, Activation\n",
    "import sys\n",
    "\n",
    "def simple_model(input_shape, output_sequence_length, english_vocab_size, french_vocab_size):\n",
    "    \"\"\"\n",
    "    Build and train a basic RNN on x and y\n",
    "    :param input_shape: Tuple of input shape\n",
    "    :param output_sequence_length: Length of output sequence (not used in this simple model version)\n",
    "    :param english_vocab_size: Number of unique English words in the dataset (not used in this simple model version)\n",
    "    :param french_vocab_size: Number of unique French words in the dataset\n",
    "    :return: Keras model built, but not trained\n",
    "    \"\"\"\n",
    "    learning_rate = 1e-3\n",
    "  \n",
    "    # Input layer: sequences of English words (integers)\n",
    "    input_seq = Input(shape=input_shape[1:]) # we remove the batch size, because Keras infers it implicitely (Caution: it is a 1d tuple, not a numpy array)\n",
    "    \n",
    "    # Simple RNN layer (return_sequences=True to output the entire sequence)\n",
    "    rnn = SimpleRNN(64, return_sequences=True)(input_seq)\n",
    "    \n",
    "    # Fully connected layer with output for each time step\n",
    "    logits = TimeDistributed(Dense(french_vocab_size))(rnn)\n",
    "    \n",
    "    # Apply softmax to output a probability distribution over the French vocabulary\n",
    "    output_seq = Activation('softmax')(logits)\n",
    "    \n",
    "    # Create the model\n",
    "    model = Model(inputs=input_seq, outputs=output_seq)\n",
    "    \n",
    "    model.compile(loss=sparse_categorical_crossentropy,\n",
    "                  optimizer=Adam(learning_rate),\n",
    "                  metrics=['accuracy'])\n",
    "    \n",
    "    return model\n",
    "    \n",
    "tests.test_simple_model(simple_model)\n",
    "\n",
    "# Important: we prepare the english sentences so that it pads them to the size of the target language (french),\n",
    "# because the RNN returns all processed english sentences and feeds that to the TimeDistributed DenseLayer, \n",
    "# and that needs the same input size as output size because of the nature of sequentual processing.\n",
    "tmp_x = pad(preproc_english_sentences, max_french_sequence_length)\n",
    "\n",
    "# Reshaping the input to work with a basic RNN (RNN needs a third dimension for sequencual processing]\n",
    "tmp_x = tmp_x.reshape((tmp_x.shape[0], tmp_x.shape[1], 1))  # (batch_size, sequence_length, 1)\n",
    "\n",
    "# Train the neural network\n",
    "simple_rnn_model = simple_model(\n",
    "    tmp_x.shape,\n",
    "    max_french_sequence_length,\n",
    "    english_vocab_size,\n",
    "    french_vocab_size)\n",
    "\n",
    "# Plot the model and save it as an image\n",
    "plot_model(simple_rnn_model, to_file='./model_simple_plot.png', show_shapes=True, show_layer_names=True)\n",
    "\n",
    "simple_rnn_model.fit(tmp_x, preproc_french_sentences, batch_size=1024, epochs=10, validation_split=0.2)\n",
    "\n",
    "# Print prediction(s)\n",
    "print(logits_to_text(simple_rnn_model.predict(tmp_x[:1])[0], french_tokenizer))"
   ]
  },
  {
   "cell_type": "markdown",
   "metadata": {},
   "source": [
    "### Model 2: Embedding (IMPLEMENTATION)\n",
    "![RNN](images/embedding.png)\n",
    "\n",
    "You've turned the words into ids, but there's a better representation of a word.  This is called word embeddings.  An embedding is a vector representation of the word that is close to similar words in n-dimensional space, where the n represents the size of the embedding vectors.\n",
    "\n",
    "In this model, you'll create a RNN model using embedding."
   ]
  },
  {
   "cell_type": "markdown",
   "metadata": {},
   "source": [
    "<p align=\"center\">\n",
    "    <img src=\"./model_embed_plot.png\" alt=\"Architecture of Encoder Decoder\" />\n",
    "</p>"
   ]
  },
  {
   "cell_type": "code",
   "execution_count": 18,
   "metadata": {},
   "outputs": [
    {
     "name": "stdout",
     "output_type": "stream",
     "text": [
      "Epoch 1/10\n",
      "108/108 [==============================] - 6s 49ms/step - loss: 3.5013 - accuracy: 0.4067 - val_loss: nan - val_accuracy: 0.4561\n",
      "Epoch 2/10\n",
      "108/108 [==============================] - 4s 36ms/step - loss: 2.2968 - accuracy: 0.5227 - val_loss: nan - val_accuracy: 0.5900\n",
      "Epoch 3/10\n",
      "108/108 [==============================] - 3s 32ms/step - loss: 1.5914 - accuracy: 0.6426 - val_loss: nan - val_accuracy: 0.6820\n",
      "Epoch 4/10\n",
      "108/108 [==============================] - 4s 33ms/step - loss: 1.2088 - accuracy: 0.7154 - val_loss: nan - val_accuracy: 0.7471\n",
      "Epoch 5/10\n",
      "108/108 [==============================] - 4s 33ms/step - loss: 0.9625 - accuracy: 0.7632 - val_loss: nan - val_accuracy: 0.7794\n",
      "Epoch 6/10\n",
      "108/108 [==============================] - 4s 33ms/step - loss: 0.8126 - accuracy: 0.7931 - val_loss: nan - val_accuracy: 0.8053\n",
      "Epoch 7/10\n",
      "108/108 [==============================] - 4s 34ms/step - loss: 0.7109 - accuracy: 0.8159 - val_loss: nan - val_accuracy: 0.8250\n",
      "Epoch 8/10\n",
      "108/108 [==============================] - 4s 34ms/step - loss: 0.6385 - accuracy: 0.8309 - val_loss: nan - val_accuracy: 0.8368\n",
      "Epoch 9/10\n",
      "108/108 [==============================] - 3s 32ms/step - loss: 0.5826 - accuracy: 0.8439 - val_loss: nan - val_accuracy: 0.8494\n",
      "Epoch 10/10\n",
      "108/108 [==============================] - 3s 32ms/step - loss: 0.5392 - accuracy: 0.8549 - val_loss: nan - val_accuracy: 0.8602\n",
      "1/1 [==============================] - 0s 117ms/step\n",
      "new jersey est parfois calme en cours de il est est en en <PAD> <PAD> <PAD> <PAD> <PAD> <PAD> <PAD> <PAD>\n"
     ]
    }
   ],
   "source": [
    "def embed_model(input_shape, output_sequence_length, english_vocab_size, french_vocab_size):\n",
    "    \"\"\"\n",
    "    Build and train a RNN model using word embedding on x and y\n",
    "    :param input_shape: Tuple of input shape\n",
    "    :param output_sequence_length: Length of output sequence\n",
    "    :param english_vocab_size: Number of unique English words in the dataset\n",
    "    :param french_vocab_size: Number of unique French words in the dataset\n",
    "    :return: Keras model built, but not trained\n",
    "    \"\"\"\n",
    "    # TODO: Build the layers\n",
    "    learning_rate = 1e-3\n",
    "    \n",
    "    # Input layer: sequences of English words (integers)\n",
    "    input_seq = Input(shape=input_shape[1:]) # we remove the batch size, because Keras infers it implicitely\n",
    "\n",
    "    encoder_embedding = Embedding(input_dim=english_vocab_size, output_dim=100, mask_zero=False)(input_seq)\n",
    "    \n",
    "    # Simple RNN layer (return_sequences=True to output the entire sequence)\n",
    "    rnn = SimpleRNN(64, return_sequences=True)(encoder_embedding)\n",
    "    \n",
    "    # Fully connected layer with output for each time step\n",
    "    logits = TimeDistributed(Dense(french_vocab_size))(rnn)\n",
    "    \n",
    "    # Apply softmax to output a probability distribution over the French vocabulary\n",
    "    output_seq = Activation('softmax')(logits)\n",
    "    \n",
    "    # Create the model\n",
    "    model = Model(inputs=input_seq, outputs=output_seq)\n",
    "    \n",
    "    model.compile(loss=sparse_categorical_crossentropy,\n",
    "                  optimizer=Adam(learning_rate),\n",
    "                  metrics=['accuracy'])\n",
    "    \n",
    "    return model\n",
    "    \n",
    "tests.test_embed_model(embed_model)\n",
    "\n",
    "# Reshaping the input to work with an RNN with an embedding\n",
    "tmp_x = pad(preproc_english_sentences, max_french_sequence_length)\n",
    "tmp_x = tmp_x.reshape((-1, max_french_sequence_length))\n",
    "\n",
    "# Train the neural network\n",
    "embed_model = embed_model(\n",
    "    tmp_x.shape,\n",
    "    max_french_sequence_length,\n",
    "    english_vocab_size,\n",
    "    french_vocab_size)\n",
    "\n",
    "# Plot the model and save it as an image\n",
    "plot_model(embed_model, to_file='./model_embed_plot.png', show_shapes=True, show_layer_names=True)\n",
    "\n",
    "embed_model.fit(tmp_x, preproc_french_sentences, batch_size=1024, epochs=10, validation_split=0.2)\n",
    "\n",
    "# Print prediction(s)\n",
    "print(logits_to_text(embed_model.predict(tmp_x[:1])[0], french_tokenizer))"
   ]
  },
  {
   "cell_type": "markdown",
   "metadata": {},
   "source": [
    "### Model 3: Bidirectional RNNs (IMPLEMENTATION)\n",
    "![RNN](images/bidirectional.png)\n",
    "One restriction of a RNN is that it can't see the future input, only the past.  This is where bidirectional recurrent neural networks come in.  They are able to see the future data."
   ]
  },
  {
   "cell_type": "markdown",
   "metadata": {},
   "source": [
    "<p align=\"center\">\n",
    "    <img src=\"./model_birnn_plot.png\" alt=\"Architecture of Encoder Decoder\" />\n",
    "</p>"
   ]
  },
  {
   "cell_type": "code",
   "execution_count": 19,
   "metadata": {},
   "outputs": [
    {
     "name": "stdout",
     "output_type": "stream",
     "text": [
      "Epoch 1/10\n",
      "108/108 [==============================] - 7s 49ms/step - loss: 2.4582 - accuracy: 0.5130 - val_loss: nan - val_accuracy: 0.5854\n",
      "Epoch 2/10\n",
      "108/108 [==============================] - 5s 45ms/step - loss: 1.6508 - accuracy: 0.5984 - val_loss: nan - val_accuracy: 0.6131\n",
      "Epoch 3/10\n",
      "108/108 [==============================] - 5s 45ms/step - loss: 1.4637 - accuracy: 0.6178 - val_loss: nan - val_accuracy: 0.6268\n",
      "Epoch 4/10\n",
      "108/108 [==============================] - 5s 43ms/step - loss: 1.3641 - accuracy: 0.6322 - val_loss: nan - val_accuracy: 0.6377\n",
      "Epoch 5/10\n",
      "108/108 [==============================] - 5s 44ms/step - loss: 1.2904 - accuracy: 0.6448 - val_loss: nan - val_accuracy: 0.6517\n",
      "Epoch 6/10\n",
      "108/108 [==============================] - 5s 48ms/step - loss: 1.2329 - accuracy: 0.6568 - val_loss: nan - val_accuracy: 0.6631\n",
      "Epoch 7/10\n",
      "108/108 [==============================] - 5s 44ms/step - loss: 1.1857 - accuracy: 0.6651 - val_loss: nan - val_accuracy: 0.6695\n",
      "Epoch 8/10\n",
      "108/108 [==============================] - 5s 42ms/step - loss: 1.1464 - accuracy: 0.6720 - val_loss: nan - val_accuracy: 0.6763\n",
      "Epoch 9/10\n",
      "108/108 [==============================] - 5s 43ms/step - loss: 1.1140 - accuracy: 0.6768 - val_loss: nan - val_accuracy: 0.6789\n",
      "Epoch 10/10\n",
      "108/108 [==============================] - 5s 44ms/step - loss: 1.0866 - accuracy: 0.6811 - val_loss: nan - val_accuracy: 0.6831\n",
      "1/1 [==============================] - 0s 149ms/step\n",
      "new jersey est parfois calme en en et il est est en en <PAD> <PAD> <PAD> <PAD> <PAD> <PAD> <PAD> <PAD>\n"
     ]
    }
   ],
   "source": [
    "from tensorflow.keras.layers import Input, SimpleRNN, Bidirectional, Dense, TimeDistributed, Activation, Embedding\n",
    "\n",
    "def bd_model(input_shape, output_sequence_length, english_vocab_size, french_vocab_size):\n",
    "    \"\"\"\n",
    "    Build and train a bidirectional RNN model on x and y\n",
    "    :param input_shape: Tuple of input shape\n",
    "    :param output_sequence_length: Length of output sequence\n",
    "    :param english_vocab_size: Number of unique English words in the dataset\n",
    "    :param french_vocab_size: Number of unique French words in the dataset\n",
    "    :return: Keras model built, but not trained\n",
    "    \"\"\"\n",
    "    # TODO: Build the layers\n",
    "    learning_rate = 1e-3\n",
    "    hidden_units = 128\n",
    "    \n",
    "    # Input layer: sequences of English words (integers)\n",
    "    input_seq = Input(shape=input_shape[1:]) # we remove the batch size, because Keras infers it implicitely\n",
    "\n",
    "    # Bidirectional RNN\n",
    "    rnn = Bidirectional(\n",
    "        SimpleRNN(hidden_units, return_sequences=True, return_state=False),\n",
    "        name='bidirectional_encoder'\n",
    "    )(input_seq)\n",
    "\n",
    "    # Fully connected layer with output for each time step\n",
    "    logits = TimeDistributed(Dense(french_vocab_size))(rnn)\n",
    "    \n",
    "    # Apply softmax to output a probability distribution over the French vocabulary\n",
    "    output_seq = Activation('softmax')(logits)\n",
    "    \n",
    "    # Create the model\n",
    "    model = Model(inputs=input_seq, outputs=output_seq)\n",
    "    \n",
    "    model.compile(loss=sparse_categorical_crossentropy,\n",
    "                  optimizer=Adam(learning_rate),\n",
    "                  metrics=['accuracy'])\n",
    "    \n",
    "    return model    \n",
    "    \n",
    "tests.test_bd_model(bd_model)\n",
    "\n",
    "# Reshaping the input to work with an RNN with an embedding\n",
    "tmp_x = pad(preproc_english_sentences, max_french_sequence_length)\n",
    "\n",
    "# The bidirectional model is without embedding (I assume so because of the test_bd_model), so the input needs a third dimension for the tokens\n",
    "tmp_x = tmp_x.reshape((tmp_x.shape[0], tmp_x.shape[1], 1))  # (batch_size, sequence_length, 1)\n",
    "\n",
    "# Train the neural network\n",
    "bd_model = bd_model(\n",
    "    tmp_x.shape,\n",
    "    max_french_sequence_length,\n",
    "    english_vocab_size,\n",
    "    french_vocab_size)\n",
    "\n",
    "# Plot the model and save it as an image\n",
    "plot_model(bd_model, to_file='./model_birnn_plot.png', show_shapes=True, show_layer_names=True)\n",
    "\n",
    "bd_model.fit(tmp_x, preproc_french_sentences, batch_size=1024, epochs=10, validation_split=0.2)\n",
    "\n",
    "# Print prediction(s)\n",
    "print(logits_to_text(bd_model.predict(tmp_x[:1])[0], french_tokenizer))"
   ]
  },
  {
   "cell_type": "markdown",
   "metadata": {},
   "source": [
    "### Model 4: Encoder-Decoder (IMPLEMENTATION)\n",
    "Time to look at encoder-decoder models.  This model is made up of an encoder and decoder. The encoder creates a matrix representation of the sentence.  The decoder takes this matrix as input and predicts the translation as output.\n",
    "\n",
    "Create an encoder-decoder model in the cell below."
   ]
  },
  {
   "cell_type": "code",
   "execution_count": 21,
   "metadata": {},
   "outputs": [
    {
     "name": "stdout",
     "output_type": "stream",
     "text": [
      "Epoch 1/10\n",
      "108/108 [==============================] - 17s 71ms/step - loss: 3.3714 - accuracy: 0.4054 - val_loss: nan - val_accuracy: 0.4713\n",
      "Epoch 2/10\n",
      "108/108 [==============================] - 6s 56ms/step - loss: 2.3189 - accuracy: 0.5023 - val_loss: nan - val_accuracy: 0.5394\n",
      "Epoch 3/10\n",
      "108/108 [==============================] - 6s 55ms/step - loss: 1.9649 - accuracy: 0.5506 - val_loss: nan - val_accuracy: 0.5651\n",
      "Epoch 4/10\n",
      "108/108 [==============================] - 6s 54ms/step - loss: 1.7142 - accuracy: 0.5819 - val_loss: nan - val_accuracy: 0.5928\n",
      "Epoch 5/10\n",
      "108/108 [==============================] - 6s 54ms/step - loss: 1.5614 - accuracy: 0.5989 - val_loss: nan - val_accuracy: 0.6067\n",
      "Epoch 6/10\n",
      "108/108 [==============================] - 6s 56ms/step - loss: 1.4623 - accuracy: 0.6123 - val_loss: nan - val_accuracy: 0.6151\n",
      "Epoch 7/10\n",
      "108/108 [==============================] - 6s 56ms/step - loss: 1.4201 - accuracy: 0.6170 - val_loss: nan - val_accuracy: 0.6155\n",
      "Epoch 8/10\n",
      "108/108 [==============================] - 6s 54ms/step - loss: 1.3753 - accuracy: 0.6249 - val_loss: nan - val_accuracy: 0.6282\n",
      "Epoch 9/10\n",
      "108/108 [==============================] - 6s 54ms/step - loss: 1.3417 - accuracy: 0.6286 - val_loss: nan - val_accuracy: 0.6315\n",
      "Epoch 10/10\n",
      "108/108 [==============================] - 6s 53ms/step - loss: 1.3209 - accuracy: 0.6309 - val_loss: nan - val_accuracy: 0.6294\n",
      "WARNING:tensorflow:5 out of the last 5 calls to <function Model.make_predict_function.<locals>.predict_function at 0x7f9d00a7cdc0> triggered tf.function retracing. Tracing is expensive and the excessive number of tracings could be due to (1) creating @tf.function repeatedly in a loop, (2) passing tensors with different shapes, (3) passing Python objects instead of tensors. For (1), please define your @tf.function outside of the loop. For (2), @tf.function has reduce_retracing=True option that can avoid unnecessary retracing. For (3), please refer to https://www.tensorflow.org/guide/function#controlling_retracing and https://www.tensorflow.org/api_docs/python/tf/function for  more details.\n",
      "1/1 [==============================] - 1s 1s/step\n",
      "new jersey est jamais agréable en l' mais il est est en en <PAD> <PAD> <PAD> <PAD> <PAD> <PAD> <PAD> <PAD>\n"
     ]
    }
   ],
   "source": [
    "from tensorflow.keras.layers import Input, SimpleRNN, Dense, Activation, Embedding, Bidirectional, Concatenate, Lambda\n",
    "from tensorflow.keras.models import Model\n",
    "from tensorflow.keras.optimizers import Adam\n",
    "from tensorflow.keras.losses import sparse_categorical_crossentropy\n",
    "from tensorflow.keras.utils import plot_model\n",
    "import tensorflow.keras.backend as K\n",
    "import tensorflow as tf\n",
    "\n",
    "def encdec_model(input_shape, output_sequence_length, english_vocab_size, french_vocab_size):\n",
    "    \"\"\"\n",
    "    Build and train a basic encoder-decoder RNN for machine translation without teacher forcing.\n",
    "    :param input_shape: Tuple of input shape (input sequence)\n",
    "    :param output_sequence_length: Length of output sequence (target sequence)\n",
    "    :param english_vocab_size: Number of unique English words in the dataset (input)\n",
    "    :param french_vocab_size: Number of unique French words in the dataset (output)\n",
    "    :return: Keras model built, but not trained\n",
    "    \"\"\"\n",
    "    learning_rate = 1e-3\n",
    "    hidden_units = 128\n",
    "    \n",
    "    ### ENCODER\n",
    "    \n",
    "    # Input layer: sequences of English words (tokenized integers)\n",
    "    encoder_input = Input(shape=input_shape[1:])  # Shape (sequence_length,)    \n",
    "    \n",
    "    # Simple RNN for the encoder (using the final hidden state)\n",
    "    _, encoder_hidden = SimpleRNN(hidden_units, return_sequences=False, return_state=True)(encoder_input)        \n",
    "    \n",
    "    ### DECODER\n",
    "    \n",
    "    # So this here is special, instead of solely rely on the context vector we feed the previous generated word \n",
    "    # as input to the next time sequence. For that I have to implement the loop by myself because Keras doesn't support\n",
    "    # this out of the box.\n",
    "    \n",
    "    decoder_input = tf.zeros((tf.shape(encoder_input)[0], 1, 1), dtype=tf.float32)\n",
    "    \n",
    "    # Define the RNN cell and Dense layer outside the loop\n",
    "    decoder_rnn_cell = SimpleRNN(hidden_units, return_state=True, name='decoder_rnn_cell')\n",
    "    decoder_dense = Dense(french_vocab_size, activation='softmax', name='decoder_output_dense')\n",
    "\n",
    "    # Initialize variables for the loop\n",
    "    outputs = []\n",
    "    state = encoder_hidden\n",
    "\n",
    "    # Loop over the output sequence length\n",
    "    for _ in range(output_sequence_length):\n",
    "        # Convert the integer tokens to float32 for compatibility with RNN layers (RNNs require float inputs)\n",
    "        decoder_input_float = tf.cast(decoder_input, tf.float32)        \n",
    "        \n",
    "        # Run one step of the decoder RNN\n",
    "        decoder_output, state = decoder_rnn_cell(decoder_input_float, initial_state=state)\n",
    "    \n",
    "        # Compute the output probabilities\n",
    "        decoder_logits = decoder_dense(decoder_output)  # Shape: (batch_size, french_vocab_size)\n",
    "    \n",
    "        # Append the output\n",
    "        outputs.append(tf.expand_dims(decoder_logits, 1))  # Shape: (batch_size, 1, french_vocab_size)\n",
    "    \n",
    "        # Use the last predicted word as the next input (greedy decoding)\n",
    "        predicted_token = tf.argmax(decoder_logits, axis=-1)  # Shape: (batch_size,)\n",
    "        \n",
    "        # Update the decoder input for the next time step (use predicted tokens)\n",
    "        decoder_input = tf.expand_dims(tf.expand_dims(predicted_token, axis=1), axis=-1)\n",
    "    \n",
    "    # Concatenate all outputs\n",
    "    decoder_outputs = Concatenate(axis=1, name='decoder_outputs')(outputs)  # Shape: (batch_size, output_sequence_length, french_vocab_size)\n",
    "\n",
    "    # Create the model\n",
    "    model = Model(inputs=encoder_input, outputs=decoder_outputs)\n",
    "    \n",
    "    # Compile the model\n",
    "    model.compile(loss=sparse_categorical_crossentropy,\n",
    "                  optimizer=Adam(learning_rate),\n",
    "                  metrics=['accuracy'])\n",
    "    \n",
    "    return model\n",
    "\n",
    "tests.test_encdec_model(encdec_model)\n",
    "\n",
    "# Reshape the input English sentences (padding to max length of French sentences)\n",
    "tmp_x = pad(preproc_english_sentences, max_french_sequence_length)\n",
    "\n",
    "# Reshape to match the input shape requirements (add the feature dimension)\n",
    "tmp_x = tmp_x.reshape((tmp_x.shape[0], tmp_x.shape[1], 1))  # (batch_size, sequence_length, 1)\n",
    "\n",
    "# Set the correct input shape and vocabulary sizes\n",
    "input_shape = tmp_x.shape\n",
    "output_sequence_length = preproc_french_sentences.shape[1]\n",
    "\n",
    "# Remove the last dimension (reshape to (batch_size, sequence_length))\n",
    "preproc_french_sentences = preproc_french_sentences.reshape((-1, preproc_french_sentences.shape[1]))\n",
    "\n",
    "# Build the encoder-decoder model\n",
    "encoder_decoder_rnn_model = encdec_model(\n",
    "    input_shape,\n",
    "    output_sequence_length,\n",
    "    english_vocab_size,\n",
    "    french_vocab_size\n",
    ")\n",
    "\n",
    "# Plot the model and save it as an image\n",
    "plot_model(encoder_decoder_rnn_model, to_file='./model_encdec_plot.png', show_shapes=True, show_layer_names=True)\n",
    "\n",
    "# Train the model using English sentences as input and French sentences as labels (as before)\n",
    "encoder_decoder_rnn_model.fit(tmp_x, preproc_french_sentences, \n",
    "                              batch_size=1024, epochs=10, validation_split=0.2)\n",
    "\n",
    "# Print prediction(s)\n",
    "print(logits_to_text(encoder_decoder_rnn_model.predict(tmp_x[:1])[0], french_tokenizer))"
   ]
  },
  {
   "cell_type": "markdown",
   "metadata": {},
   "source": [
    "### Model 5: Custom (IMPLEMENTATION)\n",
    "Use everything you learned from the previous models to create a model that incorporates embedding and a bidirectional rnn into one model."
   ]
  },
  {
   "cell_type": "code",
   "execution_count": 27,
   "metadata": {},
   "outputs": [
    {
     "name": "stdout",
     "output_type": "stream",
     "text": [
      "Epoch 1/10\n",
      "108/108 [==============================] - 30s 163ms/step - loss: 2.7260 - accuracy: 0.4602 - val_loss: nan - val_accuracy: 0.5407\n",
      "Epoch 2/10\n",
      "108/108 [==============================] - 13s 122ms/step - loss: 1.7397 - accuracy: 0.5876 - val_loss: nan - val_accuracy: 0.6069\n",
      "Epoch 3/10\n",
      "108/108 [==============================] - 13s 117ms/step - loss: 1.5275 - accuracy: 0.6021 - val_loss: nan - val_accuracy: 0.6133\n",
      "Epoch 4/10\n",
      "108/108 [==============================] - 13s 121ms/step - loss: 1.3566 - accuracy: 0.6323 - val_loss: nan - val_accuracy: 0.6440\n",
      "Epoch 5/10\n",
      "108/108 [==============================] - 13s 117ms/step - loss: 1.2995 - accuracy: 0.6433 - val_loss: nan - val_accuracy: 0.6531\n",
      "Epoch 6/10\n",
      "108/108 [==============================] - 13s 118ms/step - loss: 1.2761 - accuracy: 0.6493 - val_loss: nan - val_accuracy: 0.6509\n",
      "Epoch 7/10\n",
      "108/108 [==============================] - 13s 118ms/step - loss: 1.1699 - accuracy: 0.6713 - val_loss: nan - val_accuracy: 0.6771\n",
      "Epoch 8/10\n",
      "108/108 [==============================] - 14s 127ms/step - loss: 1.0996 - accuracy: 0.6874 - val_loss: nan - val_accuracy: 0.7027\n",
      "Epoch 9/10\n",
      "108/108 [==============================] - 13s 121ms/step - loss: 1.0011 - accuracy: 0.7121 - val_loss: nan - val_accuracy: 0.7244\n",
      "Epoch 10/10\n",
      "108/108 [==============================] - 13s 122ms/step - loss: 0.9258 - accuracy: 0.7310 - val_loss: nan - val_accuracy: 0.7370\n",
      "1/1 [==============================] - 2s 2s/step\n",
      "new jersey est parfois chaud pendant l' et il est est est en en <PAD> <PAD> <PAD> <PAD> <PAD> <PAD> <PAD>\n"
     ]
    }
   ],
   "source": [
    "from tensorflow.keras.layers import Input, SimpleRNN, Dense, Activation, Embedding, Bidirectional, Concatenate, Lambda\n",
    "from tensorflow.keras.models import Model\n",
    "from tensorflow.keras.optimizers import Adam\n",
    "from tensorflow.keras.losses import sparse_categorical_crossentropy\n",
    "import tensorflow as tf\n",
    "\n",
    "def final_model(input_shape, output_sequence_length, english_vocab_size, french_vocab_size):\n",
    "    learning_rate = 1e-3\n",
    "    hidden_units = 512\n",
    "    \n",
    "    ### ENCODER\n",
    "    \n",
    "    # Input layer: sequences of English words (tokenized integers)\n",
    "    encoder_input = Input(shape=input_shape[1:], name='encoder_input')  # Shape: (sequence_length,)\n",
    "\n",
    "    # Embedding layer for the encoder\n",
    "    encoder_embedding = Embedding(input_dim=english_vocab_size, output_dim=hidden_units, name='encoder_embedding')(encoder_input)\n",
    "    \n",
    "    # Bidirectional RNN for the encoder\n",
    "    encoder_outputs, forward_h, backward_h = Bidirectional(\n",
    "        SimpleRNN(hidden_units, return_sequences=False, return_state=True),\n",
    "        name='bidirectional_encoder'\n",
    "    )(encoder_embedding)\n",
    "    \n",
    "    # Concatenate the forward and backward hidden states\n",
    "    encoder_hidden = Concatenate(name='encoder_hidden')([forward_h, backward_h])  # Shape: (batch_size, 2 * hidden_units)\n",
    "    \n",
    "    # Optionally, transform encoder_hidden back to hidden_units size\n",
    "    encoder_hidden = Dense(hidden_units, activation='tanh', name='encoder_hidden_dense')(encoder_hidden)\n",
    "    \n",
    "    ### DECODER\n",
    "    \n",
    "    # Initialize decoder input with the start token\n",
    "    def create_initial_decoder_input(encoder_input):\n",
    "        batch_size = tf.shape(encoder_input)[0]\n",
    "        start_tokens = tf.fill([batch_size, 1], 0)  # Shape: (batch_size, 1)\n",
    "        return start_tokens  # Integer tensor\n",
    "\n",
    "    #decoder_input = Lambda(create_initial_decoder_input, name='decoder_input')(encoder_input)  # Shape: (batch_size, 1)\n",
    "    decoder_input = create_initial_decoder_input(encoder_input)\n",
    "    \n",
    "    # Embedding layer for the decoder\n",
    "    decoder_embedding_layer = Embedding(input_dim=french_vocab_size, output_dim=hidden_units, name='decoder_embedding')\n",
    "\n",
    "    # So this here is special, instead of solely rely on the context vector we feed the previous generated word \n",
    "    # as input to the next time sequence. For that I have to implement the loop by myself because Keras doesn't support\n",
    "    # this out of the box. \n",
    "    \n",
    "    # Define the RNN cell and Dense layer outside the loop\n",
    "    decoder_rnn_cell = SimpleRNN(hidden_units, return_state=True, name='decoder_rnn_cell')\n",
    "    decoder_dense = Dense(french_vocab_size, activation='softmax', name='decoder_output_dense')\n",
    "    \n",
    "    # Initialize variables for the loop\n",
    "    outputs = []\n",
    "    state = encoder_hidden\n",
    "    decoder_input_embedded = decoder_embedding_layer(decoder_input)  # Shape: (batch_size, 1, hidden_units)\n",
    "    \n",
    "    # Loop over the output sequence length\n",
    "    for _ in range(output_sequence_length):\n",
    "        # Run one step of the decoder RNN\n",
    "        decoder_output, state = decoder_rnn_cell(decoder_input_embedded, initial_state=state)\n",
    "        \n",
    "        # Compute the output probabilities\n",
    "        decoder_logits = decoder_dense(decoder_output)  # Shape: (batch_size, french_vocab_size)\n",
    "        \n",
    "        # Append the output\n",
    "        outputs.append(tf.expand_dims(decoder_logits, 1))  # Shape: (batch_size, 1, french_vocab_size)\n",
    "        \n",
    "        # Use the last predicted word as the next input (greedy decoding)\n",
    "        predicted_token = tf.argmax(decoder_logits, axis=-1)  # Shape: (batch_size,)\n",
    "        decoder_input_embedded = decoder_embedding_layer(tf.expand_dims(predicted_token, 1))  # Shape: (batch_size, 1, hidden_units)\n",
    "    \n",
    "    # Concatenate all outputs\n",
    "    decoder_outputs = Concatenate(axis=1, name='decoder_outputs')(outputs)  # Shape: (batch_size, output_sequence_length, french_vocab_size)\n",
    "    \n",
    "    # Create the model\n",
    "    model = Model(inputs=encoder_input, outputs=decoder_outputs)\n",
    "    \n",
    "    # Compile the model\n",
    "    model.compile(loss=sparse_categorical_crossentropy, optimizer=Adam(learning_rate), metrics=['accuracy'])\n",
    "    \n",
    "    return model\n",
    "\n",
    "tests.test_model_final(final_model)\n",
    "\n",
    "# Reshape the input English sentences (padding to max length of French sentences)\n",
    "tmp_x = pad(preproc_english_sentences, max_english_sequence_length)\n",
    "\n",
    "# Set the correct input shape and vocabulary sizes\n",
    "input_shape = tmp_x.shape\n",
    "output_sequence_length = preproc_french_sentences.shape[1]\n",
    "\n",
    "# Remove the last dimension (reshape to (batch_size, sequence_length))\n",
    "preproc_french_sentences = preproc_french_sentences.reshape((-1, preproc_french_sentences.shape[1]))\n",
    "\n",
    "# Build the final model\n",
    "model_final = final_model(\n",
    "    input_shape,\n",
    "    output_sequence_length,\n",
    "    english_vocab_size,\n",
    "    french_vocab_size\n",
    ")\n",
    "\n",
    "# Plot the model and save it as an image\n",
    "plot_model(model_final, to_file='./model_final_plot.png', show_shapes=True, show_layer_names=True)\n",
    "\n",
    "# Train the model using English sentences as input and French sentences as labels (as before)\n",
    "model_final.fit(tmp_x, preproc_french_sentences, \n",
    "                    batch_size=1024, epochs=10, validation_split=0.2)\n",
    "\n",
    "# Print prediction(s)\n",
    "print(logits_to_text(model_final.predict(tmp_x[:1])[0], french_tokenizer))"
   ]
  },
  {
   "cell_type": "markdown",
   "metadata": {},
   "source": [
    "## Prediction (IMPLEMENTATION)"
   ]
  },
  {
   "cell_type": "code",
   "execution_count": 26,
   "metadata": {},
   "outputs": [
    {
     "name": "stdout",
     "output_type": "stream",
     "text": [
      "Epoch 1/30\n",
      "108/108 [==============================] - 28s 149ms/step - loss: 2.6838 - accuracy: 0.4481 - val_loss: nan - val_accuracy: 0.5224\n",
      "Epoch 2/30\n",
      "108/108 [==============================] - 14s 130ms/step - loss: 1.7029 - accuracy: 0.5911 - val_loss: nan - val_accuracy: 0.6239\n",
      "Epoch 3/30\n",
      "108/108 [==============================] - 14s 129ms/step - loss: 1.2618 - accuracy: 0.6608 - val_loss: nan - val_accuracy: 0.6740\n",
      "Epoch 4/30\n",
      "108/108 [==============================] - 13s 125ms/step - loss: 1.0937 - accuracy: 0.6950 - val_loss: nan - val_accuracy: 0.7117\n",
      "Epoch 5/30\n",
      "108/108 [==============================] - 13s 124ms/step - loss: 0.9811 - accuracy: 0.7219 - val_loss: nan - val_accuracy: 0.7329\n",
      "Epoch 6/30\n",
      "108/108 [==============================] - 13s 122ms/step - loss: 0.8890 - accuracy: 0.7445 - val_loss: nan - val_accuracy: 0.7572\n",
      "Epoch 7/30\n",
      "108/108 [==============================] - 13s 122ms/step - loss: 0.8027 - accuracy: 0.7691 - val_loss: nan - val_accuracy: 0.7814\n",
      "Epoch 8/30\n",
      "108/108 [==============================] - 13s 118ms/step - loss: 0.7205 - accuracy: 0.7872 - val_loss: nan - val_accuracy: 0.7949\n",
      "Epoch 9/30\n",
      "108/108 [==============================] - 13s 118ms/step - loss: 0.6527 - accuracy: 0.8047 - val_loss: nan - val_accuracy: 0.8140\n",
      "Epoch 10/30\n",
      "108/108 [==============================] - 13s 116ms/step - loss: 0.5794 - accuracy: 0.8252 - val_loss: nan - val_accuracy: 0.8354\n",
      "Epoch 11/30\n",
      "108/108 [==============================] - 12s 115ms/step - loss: 0.5207 - accuracy: 0.8422 - val_loss: nan - val_accuracy: 0.8498\n",
      "Epoch 12/30\n",
      "108/108 [==============================] - 12s 116ms/step - loss: 0.4619 - accuracy: 0.8612 - val_loss: nan - val_accuracy: 0.8669\n",
      "Epoch 13/30\n",
      "108/108 [==============================] - 12s 111ms/step - loss: 0.4097 - accuracy: 0.8769 - val_loss: nan - val_accuracy: 0.8854\n",
      "Epoch 14/30\n",
      "108/108 [==============================] - 12s 112ms/step - loss: 0.3657 - accuracy: 0.8902 - val_loss: nan - val_accuracy: 0.8904\n",
      "Epoch 15/30\n",
      "108/108 [==============================] - 12s 112ms/step - loss: 0.3284 - accuracy: 0.9007 - val_loss: nan - val_accuracy: 0.9007\n",
      "Epoch 16/30\n",
      "108/108 [==============================] - 12s 108ms/step - loss: 0.2964 - accuracy: 0.9104 - val_loss: nan - val_accuracy: 0.9076\n",
      "Epoch 17/30\n",
      "108/108 [==============================] - 12s 109ms/step - loss: 0.2623 - accuracy: 0.9210 - val_loss: nan - val_accuracy: 0.9158\n",
      "Epoch 18/30\n",
      "108/108 [==============================] - 12s 113ms/step - loss: 0.2307 - accuracy: 0.9309 - val_loss: nan - val_accuracy: 0.9259\n",
      "Epoch 19/30\n",
      "108/108 [==============================] - 12s 113ms/step - loss: 0.2107 - accuracy: 0.9373 - val_loss: nan - val_accuracy: 0.9341\n",
      "Epoch 20/30\n",
      "108/108 [==============================] - 12s 110ms/step - loss: 0.1871 - accuracy: 0.9449 - val_loss: nan - val_accuracy: 0.9402\n",
      "Epoch 21/30\n",
      "108/108 [==============================] - 12s 110ms/step - loss: 0.1696 - accuracy: 0.9506 - val_loss: nan - val_accuracy: 0.9453\n",
      "Epoch 22/30\n",
      "108/108 [==============================] - 12s 112ms/step - loss: 0.1556 - accuracy: 0.9547 - val_loss: nan - val_accuracy: 0.9499\n",
      "Epoch 23/30\n",
      "108/108 [==============================] - 12s 109ms/step - loss: 0.1440 - accuracy: 0.9586 - val_loss: nan - val_accuracy: 0.9538\n",
      "Epoch 24/30\n",
      "108/108 [==============================] - 12s 108ms/step - loss: 0.1249 - accuracy: 0.9649 - val_loss: nan - val_accuracy: 0.9561\n",
      "Epoch 25/30\n",
      "108/108 [==============================] - 12s 108ms/step - loss: 0.1180 - accuracy: 0.9669 - val_loss: nan - val_accuracy: 0.9579\n",
      "Epoch 26/30\n",
      "108/108 [==============================] - 12s 111ms/step - loss: 0.1055 - accuracy: 0.9708 - val_loss: nan - val_accuracy: 0.9563\n",
      "Epoch 27/30\n",
      "108/108 [==============================] - 12s 115ms/step - loss: 0.1122 - accuracy: 0.9684 - val_loss: nan - val_accuracy: 0.9588\n",
      "Epoch 28/30\n",
      "108/108 [==============================] - 12s 114ms/step - loss: 0.0975 - accuracy: 0.9727 - val_loss: nan - val_accuracy: 0.9633\n",
      "Epoch 29/30\n",
      "108/108 [==============================] - 12s 108ms/step - loss: 0.0832 - accuracy: 0.9770 - val_loss: nan - val_accuracy: 0.9641\n",
      "Epoch 30/30\n",
      "108/108 [==============================] - 12s 108ms/step - loss: 0.0782 - accuracy: 0.9783 - val_loss: nan - val_accuracy: 0.9614\n",
      "1/1 [==============================] - 2s 2s/step\n",
      "Sample 1:\n",
      "il a vu un vieux camion jaune <PAD> <PAD> <PAD> <PAD> <PAD> <PAD> <PAD> <PAD> <PAD> <PAD> <PAD> <PAD> <PAD> <PAD>\n",
      "Il a vu un vieux camion jaune\n",
      "Sample 2:\n",
      "new jersey est parfois calme pendant l' automne et il est neigeux en avril <PAD> <PAD> <PAD> <PAD> <PAD> <PAD> <PAD>\n",
      "new jersey est parfois calme pendant l' automne et il est neigeux en avril <PAD> <PAD> <PAD> <PAD> <PAD> <PAD> <PAD>\n"
     ]
    }
   ],
   "source": [
    "def final_predictions(x, y, x_tk, y_tk):\n",
    "    \"\"\"\n",
    "    Gets predictions using the final model\n",
    "    :param x: Preprocessed English data\n",
    "    :param y: Preprocessed French data\n",
    "    :param x_tk: English tokenizer\n",
    "    :param y_tk: French tokenizer\n",
    "    \"\"\"\n",
    "    # TODO: Train neural network using model_final\n",
    "    # Reshape the input English sentences (padding to max length of english sentences)\n",
    "    tmp_x = pad(x, max_english_sequence_length)\n",
    "    \n",
    "    # Set the correct input shape and vocabulary sizes\n",
    "    input_shape = tmp_x.shape\n",
    "    output_sequence_length = y.shape[1]\n",
    "    \n",
    "    # Remove the last dimension (reshape to (batch_size, sequence_length))\n",
    "    preproc_french_sentences = y.reshape((-1, y.shape[1]))\n",
    "    \n",
    "    # Build the final model\n",
    "    model = final_model(\n",
    "        input_shape,\n",
    "        output_sequence_length,\n",
    "        english_vocab_size,\n",
    "        french_vocab_size\n",
    "    )\n",
    "    \n",
    "    # Train the model using English sentences as input and French sentences as labels (as before)\n",
    "    model.fit(tmp_x, preproc_french_sentences, \n",
    "                        batch_size=1024, epochs=30, validation_split=0.2)\n",
    "\n",
    "     \n",
    "    ## DON'T EDIT ANYTHING BELOW THIS LINE\n",
    "    y_id_to_word = {value: key for key, value in y_tk.word_index.items()}\n",
    "    y_id_to_word[0] = '<PAD>'\n",
    "\n",
    "    sentence = 'he saw a old yellow truck'\n",
    "    sentence = [x_tk.word_index[word] for word in sentence.split()]\n",
    "    sentence = pad_sequences([sentence], maxlen=x.shape[-1], padding='post')\n",
    "    sentences = np.array([sentence[0], x[0]])\n",
    "    \n",
    "    predictions = model.predict(sentences, len(sentences))\n",
    "\n",
    "    print('Sample 1:')\n",
    "    print(' '.join([y_id_to_word[np.argmax(x)] for x in predictions[0]]))\n",
    "    print('Il a vu un vieux camion jaune')\n",
    "    print('Sample 2:')\n",
    "    print(' '.join([y_id_to_word[np.argmax(x)] for x in predictions[1]]))\n",
    "    print(' '.join([y_id_to_word[np.max(x)] for x in y[0]]))\n",
    "\n",
    "final_predictions(preproc_english_sentences, preproc_french_sentences, english_tokenizer, french_tokenizer)"
   ]
  },
  {
   "cell_type": "markdown",
   "metadata": {},
   "source": [
    "## Submission\n",
    "When you're ready to submit, complete the following steps:\n",
    "1. Review the rubric to ensure your submission meets all requirements to pass\n",
    "2. Generate an HTML version of this notebook\n",
    "\n",
    "  - Run the next cell to attempt automatic generation (this is the recommended method in Workspaces)\n",
    "  - Navigate to **FILE -> Download as -> HTML (.html)**\n",
    "  - Manually generate a copy using `nbconvert` from your shell terminal\n",
    "```\n",
    "$ pip install nbconvert\n",
    "$ python -m nbconvert machine_translation.ipynb\n",
    "```\n",
    "  \n",
    "3. Submit the project\n",
    "\n",
    "  - If you are in a Workspace, simply click the \"Submit Project\" button (bottom towards the right)\n",
    "  \n",
    "  - Otherwise, add the following files into a zip archive and submit them \n",
    "  - `helper.py`\n",
    "  - `machine_translation.ipynb`\n",
    "  - `machine_translation.html`\n",
    "    - You can export the notebook by navigating to **File -> Download as -> HTML (.html)**."
   ]
  },
  {
   "cell_type": "markdown",
   "metadata": {},
   "source": [
    "### Generate the html\n",
    "\n",
    "**Save your notebook before running the next cell to generate the HTML output.** Then submit your project."
   ]
  },
  {
   "cell_type": "code",
   "execution_count": null,
   "metadata": {},
   "outputs": [],
   "source": [
    "# Save before you run this cell!\n",
    "!!jupyter nbconvert *.ipynb"
   ]
  },
  {
   "cell_type": "markdown",
   "metadata": {},
   "source": [
    "## Optional Enhancements\n",
    "\n",
    "This project focuses on learning various network architectures for machine translation, but we don't evaluate the models according to best practices by splitting the data into separate test & training sets -- so the model accuracy is overstated. Use the [`sklearn.model_selection.train_test_split()`](http://scikit-learn.org/stable/modules/generated/sklearn.model_selection.train_test_split.html) function to create separate training & test datasets, then retrain each of the models using only the training set and evaluate the prediction accuracy using the hold out test set. Does the \"best\" model change?"
   ]
  }
 ],
 "metadata": {
  "kernelspec": {
   "display_name": "Python 3 (ipykernel)",
   "language": "python",
   "name": "python3"
  },
  "language_info": {
   "codemirror_mode": {
    "name": "ipython",
    "version": 3
   },
   "file_extension": ".py",
   "mimetype": "text/x-python",
   "name": "python",
   "nbconvert_exporter": "python",
   "pygments_lexer": "ipython3",
   "version": "3.9.19"
  }
 },
 "nbformat": 4,
 "nbformat_minor": 4
}
