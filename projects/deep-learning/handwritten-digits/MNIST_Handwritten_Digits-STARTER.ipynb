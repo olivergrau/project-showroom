{
 "cells": [
  {
   "cell_type": "markdown",
   "metadata": {},
   "source": [
    "# Introduction\n",
    "\n",
    "In this project, you will build a neural network of your own design to evaluate the MNIST dataset.\n",
    "\n",
    "Some of the benchmark results on MNIST include can be found [on Yann LeCun's page](https://webcache.googleusercontent.com/search?q=cache:stAVPik6onEJ:yann.lecun.com/exdb/mnist) and include:\n",
    "\n",
    "88% [Lecun et al., 1998](https://hal.science/hal-03926082/document)\n",
    "\n",
    "95.3% [Lecun et al., 1998](https://hal.science/hal-03926082v1/document)\n",
    "\n",
    "99.65% [Ciresan et al., 2011](http://people.idsia.ch/~juergen/ijcai2011.pdf)\n",
    "\n",
    "\n",
    "MNIST is a great dataset for sanity checking your models, since the accuracy levels achieved by large convolutional neural networks and small linear models are both quite high. This makes it important to be familiar with the data.\n",
    "\n",
    "## Installation"
   ]
  },
  {
   "cell_type": "code",
   "execution_count": null,
   "metadata": {},
   "outputs": [],
   "source": [
    "# Update the PATH to include the user installation directory. \n",
    "import os\n",
    "# os.environ['PATH'] = f\"{os.environ['PATH']}:/root/.local/bin\"\n",
    "\n",
    "# Restart the Kernel before you move on to the next step."
   ]
  },
  {
   "cell_type": "markdown",
   "metadata": {},
   "source": [
    "#### Important: Restart the Kernel before you move on to the next step."
   ]
  },
  {
   "cell_type": "code",
   "execution_count": null,
   "metadata": {},
   "outputs": [],
   "source": [
    "# Install requirements\n",
    "!python -m pip install -r requirements.txt"
   ]
  },
  {
   "cell_type": "markdown",
   "metadata": {},
   "source": [
    "## Imports"
   ]
  },
  {
   "cell_type": "code",
   "execution_count": 16,
   "metadata": {},
   "outputs": [],
   "source": [
    "## This cell contains the essential imports you will need – DO NOT CHANGE THE CONTENTS! ##\n",
    "import torch\n",
    "import torch.nn as nn\n",
    "import torch.nn.functional as F\n",
    "import torch.optim as optim\n",
    "import torchvision\n",
    "import torchvision.transforms as transforms\n",
    "import matplotlib.pyplot as plt\n",
    "import numpy as np\n",
    "import os\n",
    "import time\n",
    "import copy"
   ]
  },
  {
   "cell_type": "markdown",
   "metadata": {},
   "source": [
    "## Load the Dataset\n",
    "\n",
    "Specify your transforms as a list if you intend to .\n",
    "The transforms module is already loaded as `transforms`.\n",
    "\n",
    "MNIST is fortunately included in the torchvision module.\n",
    "Then, you can create your dataset using the `MNIST` object from `torchvision.datasets` ([the documentation is available here](https://pytorch.org/vision/stable/datasets.html#mnist)).\n",
    "Make sure to specify `download=True`! \n",
    "\n",
    "Once your dataset is created, you'll also need to define a `DataLoader` from the `torch.utils.data` module for both the train and the test set."
   ]
  },
  {
   "cell_type": "code",
   "execution_count": 2,
   "metadata": {},
   "outputs": [],
   "source": [
    "def show_dataset_shapes(dataloaders):\n",
    "    \"\"\"\n",
    "    Prints the shapes of one batch of data from the train, validation, and test datasets.\n",
    "\n",
    "    Args:\n",
    "        dataloaders (dict): A dictionary containing DataLoader objects for 'train', 'valid', and 'test'.\n",
    "    \"\"\"\n",
    "    for phase in ['train', 'valid', 'test']:\n",
    "        dataiter = iter(dataloaders[phase])\n",
    "        images, labels = next(dataiter)\n",
    "\n",
    "        print(f\"{phase.capitalize()} set:\")\n",
    "        print(f\"  Images batch shape: {images.shape}\")\n",
    "        print(f\"  Labels batch shape: {labels.shape}\")\n",
    "        print(f\"  Number of samples: {len(dataloaders[phase].dataset)}\")\n",
    "        print()\n"
   ]
  },
  {
   "cell_type": "code",
   "execution_count": 4,
   "metadata": {},
   "outputs": [
    {
     "name": "stdout",
     "output_type": "stream",
     "text": [
      "\n",
      "Train set:\n",
      "  Images batch shape: torch.Size([128, 1, 28, 28])\n",
      "  Labels batch shape: torch.Size([128])\n",
      "  Number of samples: 48000\n",
      "\n",
      "Valid set:\n",
      "  Images batch shape: torch.Size([128, 1, 28, 28])\n",
      "  Labels batch shape: torch.Size([128])\n",
      "  Number of samples: 12000\n",
      "\n",
      "Test set:\n",
      "  Images batch shape: torch.Size([128, 1, 28, 28])\n",
      "  Labels batch shape: torch.Size([128])\n",
      "  Number of samples: 10000\n",
      "\n"
     ]
    }
   ],
   "source": [
    "import torch\n",
    "import torchvision\n",
    "import torchvision.transforms as transforms\n",
    "from torch.utils.data import random_split\n",
    "\n",
    "# Batch size\n",
    "batch_size = 128\n",
    "\n",
    "# Determine the device (GPU or CPU)\n",
    "device = torch.device(\"cuda:0\" if torch.cuda.is_available() else \"cpu\")\n",
    "\n",
    "# Transform data for use in neural networks.\n",
    "\n",
    "# Define data augmentation and normalization transforms for MNIST\n",
    "transform_train = transforms.Compose([\n",
    "    transforms.RandomCrop(28, padding=2), # Augment training data to improve robustness\n",
    "    transforms.RandomHorizontalFlip(),    # Augment training data to improve robustness\n",
    "    transforms.ToTensor(),\n",
    "    transforms.Normalize((0.1307,), (0.3081,)) # Normalization for MNIST\n",
    "])\n",
    "\n",
    "transform_test = transforms.Compose([\n",
    "    transforms.ToTensor(),\n",
    "    transforms.Normalize((0.1307,), (0.3081,))\n",
    "])\n",
    "\n",
    "# Create training set and define training dataloader\n",
    "trainset = torchvision.datasets.MNIST(root='./data', train=True,\n",
    "                                      download=True, transform=transform_train)\n",
    "\n",
    "# Split the training set into train and validation sets\n",
    "train_size = int(0.8 * len(trainset))\n",
    "valid_size = len(trainset) - train_size\n",
    "\n",
    "trainset, validset = random_split(trainset, [train_size, valid_size])\n",
    "\n",
    "# Use DataLoader to feed training data to PyTorch models\n",
    "trainloader = torch.utils.data.DataLoader(trainset, batch_size=batch_size,\n",
    "                                          shuffle=True, num_workers=4)\n",
    "\n",
    "# Define validation dataloader\n",
    "validloader = torch.utils.data.DataLoader(validset, batch_size=batch_size,\n",
    "                                          shuffle=False, num_workers=4)\n",
    "\n",
    "# Create test set and define test dataloader\n",
    "testset = torchvision.datasets.MNIST(root='./data', train=False,\n",
    "                                     download=True, transform=transform_test)\n",
    "\n",
    "testloader = torch.utils.data.DataLoader(testset, batch_size=batch_size,\n",
    "                                         shuffle=False, num_workers=4)\n",
    "\n",
    "# Update dataloaders and dataset sizes dictionaries\n",
    "dataloaders = {'train': trainloader, 'valid': validloader, 'test': testloader}\n",
    "dataset_sizes = {'train': len(trainset), 'valid': len(validset), 'test': len(testset)}\n",
    "\n",
    "print()\n",
    "# Explore datasets and describe their properties to set and optimize neural network parameters.\n",
    "show_dataset_shapes(dataloaders)\n"
   ]
  },
  {
   "cell_type": "markdown",
   "metadata": {},
   "source": [
    "## Justify your preprocessing\n",
    "\n",
    "In your own words, why did you choose the transforms you chose? If you didn't use any preprocessing steps, why not?"
   ]
  },
  {
   "cell_type": "markdown",
   "metadata": {},
   "source": [
    "I've added to augmentation steps, one cropping with padding of 2 and RandomHorizontalFlip. This should prove the training, because of those transformations the variance of the training data is increased.\n",
    "\n",
    "And I've configured the normalization (looked the values in the MNIST documentation)."
   ]
  },
  {
   "cell_type": "markdown",
   "metadata": {},
   "source": [
    "## Explore the Dataset\n",
    "Using matplotlib, numpy, and torch, explore the dimensions of your data.\n",
    "\n",
    "You can view images using the `show5` function defined below – it takes a data loader as an argument.\n",
    "Remember that normalized images will look really weird to you! You may want to try changing your transforms to view images.\n",
    "Typically using no transforms other than `toTensor()` works well for viewing – but not as well for training your network.\n",
    "If `show5` doesn't work, go back and check your code for creating your data loaders and your training/test sets."
   ]
  },
  {
   "cell_type": "code",
   "execution_count": 5,
   "metadata": {},
   "outputs": [],
   "source": [
    "## This cell contains a function for showing 5 images from a dataloader – DO NOT CHANGE THE CONTENTS! ##\n",
    "import numpy as np\n",
    "import matplotlib.pyplot as plt\n",
    "import torchvision\n",
    "\n",
    "classes = [str(i) for i in range(10)]\n",
    "\n",
    "def show5(img_loader):\n",
    "    dataiter = iter(img_loader)\n",
    "    \n",
    "    batch = next(dataiter)\n",
    "    labels = batch[1][0:5]\n",
    "    images = batch[0][0:5]\n",
    "    \n",
    "    # Mean and std for the MNIST dataset\n",
    "    mean = 0.1307\n",
    "    std = 0.3081\n",
    "\n",
    "    for i in range(len(images)):\n",
    "        print(\"Label: \" + classes[labels[i].item()])\n",
    "    \n",
    "        image = images[i].numpy()\n",
    "        \n",
    "        # Denormalise\n",
    "        image = image * std + mean\n",
    "                \n",
    "        image = np.clip(image, 0, 1)\n",
    "        \n",
    "        # Transpose (from PyTorch (C, H, W) to Numpy (H, W, C))\n",
    "        # Since MNIST is grayscale, we do not need to transpose for color channels\n",
    "        image = np.transpose(image, (1, 2, 0)) if image.shape[0] == 3 else image[0]\n",
    "        \n",
    "        plt.figure(figsize=(1, 1))\n",
    "        plt.axis('off')\n",
    "        plt.imshow(image, cmap='gray')\n",
    "        plt.show()\n"
   ]
  },
  {
   "cell_type": "code",
   "execution_count": 6,
   "metadata": {},
   "outputs": [
    {
     "name": "stdout",
     "output_type": "stream",
     "text": [
      "Label: 7\n"
     ]
    },
    {
     "data": {
      "image/png": "[encoded data removed]",
      "text/plain": [
       "<Figure size 100x100 with 1 Axes>"
      ]
     },
     "metadata": {},
     "output_type": "display_data"
    },
    {
     "name": "stdout",
     "output_type": "stream",
     "text": [
      "Label: 2\n"
     ]
    },
    {
     "data": {
      "image/png": "[encoded data removed]",
      "text/plain": [
       "<Figure size 100x100 with 1 Axes>"
      ]
     },
     "metadata": {},
     "output_type": "display_data"
    },
    {
     "name": "stdout",
     "output_type": "stream",
     "text": [
      "Label: 1\n"
     ]
    },
    {
     "data": {
      "image/png": "[encoded data removed]",
      "text/plain": [
       "<Figure size 100x100 with 1 Axes>"
      ]
     },
     "metadata": {},
     "output_type": "display_data"
    },
    {
     "name": "stdout",
     "output_type": "stream",
     "text": [
      "Label: 0\n"
     ]
    },
    {
     "data": {
      "image/png": "[encoded data removed]",
      "text/plain": [
       "<Figure size 100x100 with 1 Axes>"
      ]
     },
     "metadata": {},
     "output_type": "display_data"
    },
    {
     "name": "stdout",
     "output_type": "stream",
     "text": [
      "Label: 4\n"
     ]
    },
    {
     "data": {
      "image/png": "[encoded data removed]",
      "text/plain": [
       "<Figure size 100x100 with 1 Axes>"
      ]
     },
     "metadata": {},
     "output_type": "display_data"
    }
   ],
   "source": [
    "# Explore data\n",
    "show5(testloader)"
   ]
  },
  {
   "cell_type": "markdown",
   "metadata": {},
   "source": [
    "## Build your Neural Network\n",
    "Using the layers in `torch.nn` (which has been imported as `nn`) and the `torch.nn.functional` module (imported as `F`), construct a neural network based on the parameters of the dataset.\n",
    "Use any architecture you like. \n",
    "\n",
    "*Note*: If you did not flatten your tensors in your transforms or as part of your preprocessing and you are using only `Linear` layers, make sure to use the `Flatten` layer in your network!"
   ]
  },
  {
   "cell_type": "code",
   "execution_count": 9,
   "metadata": {},
   "outputs": [],
   "source": [
    "import torch\n",
    "import torch.nn as nn\n",
    "import os\n",
    "\n",
    "class MNISTCNN(nn.Module):\n",
    "    def __init__(self, num_classes=10):\n",
    "        super(MNISTCNN, self).__init__()\n",
    "        self.conv1 = nn.Conv2d(1, 32, kernel_size=3, stride=1, padding=1)\n",
    "        self.conv2 = nn.Conv2d(32, 64, kernel_size=3, stride=1, padding=1)\n",
    "        self.conv3 = nn.Conv2d(64, 128, kernel_size=3, stride=1, padding=1)\n",
    "        self.fc1 = nn.Linear(128 * 3 * 3, 128)\n",
    "        self.fc2 = nn.Linear(128, num_classes)\n",
    "        self.dropout = nn.Dropout(0.5)\n",
    "\n",
    "    def forward(self, x):\n",
    "        x = nn.functional.relu(nn.functional.max_pool2d(self.conv1(x), 2))\n",
    "        x = nn.functional.relu(nn.functional.max_pool2d(self.conv2(x), 2))\n",
    "        x = nn.functional.relu(nn.functional.max_pool2d(self.conv3(x), 2))\n",
    "        x = x.view(x.size(0), -1)  # Flatten\n",
    "        x = self.dropout(x)\n",
    "        x = nn.functional.relu(self.fc1(x))\n",
    "        x = self.fc2(x)\n",
    "        return x"
   ]
  },
  {
   "cell_type": "code",
   "execution_count": 10,
   "metadata": {},
   "outputs": [
    {
     "name": "stdout",
     "output_type": "stream",
     "text": [
      "MNISTCNN(\n",
      "  (conv1): Conv2d(1, 32, kernel_size=(3, 3), stride=(1, 1), padding=(1, 1))\n",
      "  (conv2): Conv2d(32, 64, kernel_size=(3, 3), stride=(1, 1), padding=(1, 1))\n",
      "  (conv3): Conv2d(64, 128, kernel_size=(3, 3), stride=(1, 1), padding=(1, 1))\n",
      "  (fc1): Linear(in_features=1152, out_features=128, bias=True)\n",
      "  (fc2): Linear(in_features=128, out_features=10, bias=True)\n",
      "  (dropout): Dropout(p=0.5, inplace=False)\n",
      ")\n",
      "Start/Continue with epoch: 0\n"
     ]
    }
   ],
   "source": [
    "device = torch.device(\"cuda\" if torch.cuda.is_available() else \"cpu\")\n",
    "\n",
    "model = MNISTCNN(num_classes=10).to(device) \n",
    "model = model.to(device)\n",
    "\n",
    "# Select a loss function for training a classification network.\n",
    "criterion = nn.CrossEntropyLoss()\n",
    "\n",
    "# Define an optimizer to minimize loss function and update model parameters for improved accuracy.\n",
    "optimizer = optim.Adam(model.parameters(), lr=0.001)\n",
    "\n",
    "# override the learning rate of the default optimizer and integrate a StepLR strategy (because I wanted to test that too)\n",
    "scheduler = optim.lr_scheduler.StepLR(optimizer, step_size=7, gamma=0.1)\n",
    "\n",
    "print(model)\n",
    "\n",
    "# you can load a previously saved model here\n",
    "if os.path.exists(\"checkpoint/checkpoint.pth\"):\n",
    "    start_epoch, criterion = load_checkpoint(model, optimizer, 'checkpoint/checkpoint.pth')\n",
    "else:\n",
    "    start_epoch = 0\n",
    "\n",
    "#start_epoch = 0\n",
    "print(f\"Start/Continue with epoch: {start_epoch}\")"
   ]
  },
  {
   "cell_type": "code",
   "execution_count": 12,
   "metadata": {},
   "outputs": [],
   "source": [
    "# Train a neural network using PyTorch to achieve a given level of accuracy.\n",
    "def train_model(model, criterion, optimizer, scheduler, start_epoch=0, num_epochs=20, patience=5, min_delta=0.001):\n",
    "    since = time.time()\n",
    "\n",
    "    # lets deep copy the current model so we can return the model with the highest accuracy later on\n",
    "    best_model_wts = copy.deepcopy(model.state_dict())\n",
    "    best_acc = 0.0\n",
    "    epochs_no_improve = 0\n",
    "    \n",
    "    train_losses = []\n",
    "    valid_losses = []\n",
    "    \n",
    "    for epoch in range(start_epoch, num_epochs + start_epoch):\n",
    "        print(f'Epoch {epoch}/{num_epochs  + start_epoch - 1}')\n",
    "        print('-' * 10)\n",
    "\n",
    "        # time measure for epoch\n",
    "        epoch_since = time.time()\n",
    "        \n",
    "        for phase in ['train', 'valid']:\n",
    "            if phase == 'train':\n",
    "                model.train()\n",
    "            else:\n",
    "                model.eval()\n",
    "\n",
    "            running_loss = 0.0\n",
    "            running_corrects = 0\n",
    "\n",
    "            for inputs, labels in dataloaders[phase]:\n",
    "                inputs = inputs.to(device)\n",
    "                labels = labels.to(device)\n",
    "\n",
    "                optimizer.zero_grad()\n",
    "\n",
    "                with torch.set_grad_enabled(phase == 'train'):\n",
    "                    outputs = model(inputs)\n",
    "                    _, preds = torch.max(outputs, 1)\n",
    "                    loss = criterion(outputs, labels)\n",
    "\n",
    "                    if phase == 'train':\n",
    "                        loss.backward()\n",
    "                        optimizer.step()\n",
    "\n",
    "                running_loss += loss.item() * inputs.size(0)\n",
    "                running_corrects += torch.sum(preds == labels.data)\n",
    "\n",
    "            if phase == 'train':\n",
    "                scheduler.step()\n",
    "\n",
    "            epoch_loss = running_loss / dataset_sizes[phase]\n",
    "            epoch_acc = running_corrects.double() / dataset_sizes[phase]\n",
    "\n",
    "            # save the losses for plotting it later\n",
    "            if phase == 'train':\n",
    "                train_losses.append(epoch_loss)\n",
    "            else:\n",
    "                valid_losses.append(epoch_loss)\n",
    "                \n",
    "            # validation Loss and Accuracy\n",
    "            print(f'{phase} Loss: {epoch_loss:.4f} Acc: {epoch_acc:.4f}')\n",
    "\n",
    "            # check for improvement in validation phase\n",
    "            if phase == 'valid':\n",
    "                if epoch_acc > best_acc + min_delta:\n",
    "                    best_acc = epoch_acc\n",
    "                    best_model_wts = copy.deepcopy(model.state_dict())\n",
    "                    epochs_no_improve = 0\n",
    "                else:\n",
    "                    epochs_no_improve += 1\n",
    "\n",
    "        # early stopping\n",
    "        if epochs_no_improve >= patience:\n",
    "            print(f'Early stopping triggered after {patience} epochs with no improvement.')\n",
    "            break\n",
    "\n",
    "        epoch_time_elapsed = time.time() - epoch_since\n",
    "        print(f'Epoch {epoch} complete in {epoch_time_elapsed // 60:.0f}m {epoch_time_elapsed % 60:.0f}s')\n",
    "        print()\n",
    "\n",
    "    # validation Loss and Accuracy\n",
    "    time_elapsed = time.time() - since\n",
    "    print(f'Training complete in {time_elapsed // 60:.0f}m {time_elapsed % 60:.0f}s')\n",
    "    print(f'Best val Acc: {best_acc:.4f}')\n",
    "\n",
    "    # return the best (most accurate) model\n",
    "    model.load_state_dict(best_model_wts)\n",
    "    return model, train_losses, valid_losses"
   ]
  },
  {
   "cell_type": "markdown",
   "metadata": {},
   "source": [
    "Specify a loss function and an optimizer, and instantiate the model.\n",
    "\n",
    "If you use a less common loss function, please note why you chose that loss function in a comment."
   ]
  },
  {
   "cell_type": "markdown",
   "metadata": {},
   "source": [
    "**Remarks** to Loss Function:\n",
    "\n",
    "I think CrossEntropyLoss is not so exotic, so I am going to try it with that loss function type first. Please be **aware** of the fact, that no explicit soft-max activation function needs to be defined in the output layer if CrossEntropyLoss is used. CrossEntropyLoss already implements a soft-max."
   ]
  },
  {
   "cell_type": "markdown",
   "metadata": {},
   "source": [
    "## Running your Neural Network\n",
    "Use whatever method you like to train your neural network, and ensure you record the average loss at each epoch. \n",
    "Don't forget to use `torch.device()` and the `.to()` method for both your model and your data if you are using GPU!\n",
    "\n",
    "If you want to print your loss **during** each epoch, you can use the `enumerate` function and print the loss after a set number of batches. 250 batches works well for most people!"
   ]
  },
  {
   "cell_type": "code",
   "execution_count": 17,
   "metadata": {},
   "outputs": [
    {
     "name": "stdout",
     "output_type": "stream",
     "text": [
      "Epoch 0/19\n",
      "----------\n",
      "train Loss: 0.5552 Acc: 0.8150\n",
      "valid Loss: 0.1747 Acc: 0.9442\n",
      "Epoch 0 complete in 0m 4s\n",
      "\n",
      "Epoch 1/19\n",
      "----------\n",
      "train Loss: 0.1931 Acc: 0.9407\n",
      "valid Loss: 0.1137 Acc: 0.9628\n",
      "Epoch 1 complete in 0m 3s\n",
      "\n",
      "Epoch 2/19\n",
      "----------\n",
      "train Loss: 0.1442 Acc: 0.9547\n",
      "valid Loss: 0.0799 Acc: 0.9758\n",
      "Epoch 2 complete in 0m 3s\n",
      "\n",
      "Epoch 3/19\n",
      "----------\n",
      "train Loss: 0.1210 Acc: 0.9619\n",
      "valid Loss: 0.0738 Acc: 0.9773\n",
      "Epoch 3 complete in 0m 3s\n",
      "\n",
      "Epoch 4/19\n",
      "----------\n",
      "train Loss: 0.1081 Acc: 0.9671\n",
      "valid Loss: 0.0671 Acc: 0.9787\n",
      "Epoch 4 complete in 0m 3s\n",
      "\n",
      "Epoch 5/19\n",
      "----------\n",
      "train Loss: 0.0936 Acc: 0.9708\n",
      "valid Loss: 0.0624 Acc: 0.9804\n",
      "Epoch 5 complete in 0m 3s\n",
      "\n",
      "Epoch 6/19\n",
      "----------\n",
      "train Loss: 0.0893 Acc: 0.9717\n",
      "valid Loss: 0.0549 Acc: 0.9830\n",
      "Epoch 6 complete in 0m 3s\n",
      "\n",
      "Epoch 7/19\n",
      "----------\n",
      "train Loss: 0.0720 Acc: 0.9768\n",
      "valid Loss: 0.0480 Acc: 0.9848\n",
      "Epoch 7 complete in 0m 3s\n",
      "\n",
      "Epoch 8/19\n",
      "----------\n",
      "train Loss: 0.0657 Acc: 0.9790\n",
      "valid Loss: 0.0432 Acc: 0.9858\n",
      "Epoch 8 complete in 0m 3s\n",
      "\n",
      "Epoch 9/19\n",
      "----------\n",
      "train Loss: 0.0642 Acc: 0.9797\n",
      "valid Loss: 0.0435 Acc: 0.9864\n",
      "Epoch 9 complete in 0m 3s\n",
      "\n",
      "Epoch 10/19\n",
      "----------\n",
      "train Loss: 0.0635 Acc: 0.9799\n",
      "valid Loss: 0.0419 Acc: 0.9858\n",
      "Epoch 10 complete in 0m 3s\n",
      "\n",
      "Epoch 11/19\n",
      "----------\n",
      "train Loss: 0.0618 Acc: 0.9800\n",
      "valid Loss: 0.0419 Acc: 0.9878\n",
      "Epoch 11 complete in 0m 3s\n",
      "\n",
      "Epoch 12/19\n",
      "----------\n",
      "train Loss: 0.0609 Acc: 0.9806\n",
      "valid Loss: 0.0413 Acc: 0.9868\n",
      "Epoch 12 complete in 0m 3s\n",
      "\n",
      "Epoch 13/19\n",
      "----------\n",
      "train Loss: 0.0590 Acc: 0.9813\n",
      "valid Loss: 0.0423 Acc: 0.9862\n",
      "Epoch 13 complete in 0m 3s\n",
      "\n",
      "Epoch 14/19\n",
      "----------\n",
      "train Loss: 0.0558 Acc: 0.9821\n",
      "valid Loss: 0.0400 Acc: 0.9869\n",
      "Epoch 14 complete in 0m 3s\n",
      "\n",
      "Epoch 15/19\n",
      "----------\n",
      "train Loss: 0.0581 Acc: 0.9812\n",
      "valid Loss: 0.0413 Acc: 0.9868\n",
      "Epoch 15 complete in 0m 3s\n",
      "\n",
      "Epoch 16/19\n",
      "----------\n",
      "train Loss: 0.0568 Acc: 0.9817\n",
      "valid Loss: 0.0391 Acc: 0.9873\n",
      "Early stopping triggered after 5 epochs with no improvement.\n",
      "Training complete in 0m 51s\n",
      "Best val Acc: 0.9878\n"
     ]
    }
   ],
   "source": [
    "trained_model, train_loss, valid_loss = train_model(model, criterion, optimizer, scheduler, start_epoch=start_epoch, num_epochs=20, patience=2)"
   ]
  },
  {
   "cell_type": "markdown",
   "metadata": {},
   "source": [
    "Plot the training loss (and validation loss/accuracy, if recorded)."
   ]
  },
  {
   "cell_type": "code",
   "execution_count": 18,
   "metadata": {},
   "outputs": [],
   "source": [
    "def plot_losses(train_losses, valid_losses):\n",
    "    \"\"\"\n",
    "    Plots the training and validation losses over epochs.\n",
    "\n",
    "    Args:\n",
    "        train_losses (list): List of training losses recorded at the end of each epoch.\n",
    "        valid_losses (list): List of validation losses recorded at the end of each epoch.\n",
    "    \"\"\"\n",
    "    plt.figure(figsize=(10, 6))\n",
    "    plt.plot(train_losses, label='Training Loss')\n",
    "    plt.plot(valid_losses, label='Validation Loss')\n",
    "    plt.xlabel('Epoch')\n",
    "    plt.ylabel('Loss')\n",
    "    plt.title('Training and Validation Loss Over Epochs')\n",
    "    plt.legend()\n",
    "    plt.grid(True)\n",
    "    plt.show()"
   ]
  },
  {
   "cell_type": "code",
   "execution_count": 19,
   "metadata": {},
   "outputs": [
    {
     "data": {
      "image/png": "[encoded data removed]",
      "text/plain": [
       "<Figure size 1000x600 with 1 Axes>"
      ]
     },
     "metadata": {},
     "output_type": "display_data"
    }
   ],
   "source": [
    "# Compute and plot average loss to track model performance.\n",
    "plot_losses(train_loss, valid_loss)"
   ]
  },
  {
   "cell_type": "markdown",
   "metadata": {},
   "source": [
    "## Testing your model\n",
    "Using the previously created `DataLoader` for the test set, compute the percentage of correct predictions using the highest probability prediction. \n",
    "\n",
    "If your accuracy is over 90%, great work, but see if you can push a bit further! \n",
    "If your accuracy is under 90%, you'll need to make improvements.\n",
    "Go back and check your model architecture, loss function, and optimizer to make sure they're appropriate for an image classification task."
   ]
  },
  {
   "cell_type": "code",
   "execution_count": 21,
   "metadata": {},
   "outputs": [],
   "source": [
    "def evaluate_model(model, dataloader, criterion, device):\n",
    "    \"\"\"\n",
    "    Evaluates the model on the test set.\n",
    "\n",
    "    Args:\n",
    "        model (nn.Module): The model to evaluate.\n",
    "        dataloader (torch.utils.data.DataLoader): The dataloader for the test set.\n",
    "        criterion (nn.CrossEntropyLoss): The loss function.\n",
    "        device (torch.device): The device to evaluate on (CPU/GPU).\n",
    "\n",
    "    Returns:\n",
    "        None\n",
    "    \"\"\"\n",
    "    model.eval()\n",
    "    running_loss = 0.0\n",
    "    running_corrects = 0\n",
    "\n",
    "    for inputs, labels in dataloader:\n",
    "        inputs = inputs.to(device)\n",
    "        labels = labels.to(device)\n",
    "\n",
    "        with torch.no_grad():\n",
    "            outputs = model(inputs)\n",
    "            _, preds = torch.max(outputs, 1)\n",
    "            loss = criterion(outputs, labels)\n",
    "\n",
    "        running_loss += loss.item() * inputs.size(0)\n",
    "        running_corrects += torch.sum(preds == labels.data)\n",
    "\n",
    "    total_loss = running_loss / len(dataloader.dataset)\n",
    "    total_acc = running_corrects.double() / len(dataloader.dataset)\n",
    "\n",
    "    print(f'Test Loss: {total_loss:.4f} Acc: {total_acc:.4f}')"
   ]
  },
  {
   "cell_type": "code",
   "execution_count": 22,
   "metadata": {},
   "outputs": [
    {
     "name": "stdout",
     "output_type": "stream",
     "text": [
      "\n",
      "Evaluating the model on the test set...\n",
      "Test Loss: 0.0342 Acc: 0.9893\n"
     ]
    }
   ],
   "source": [
    "# Use DataLoaders to test the accuracy of a model.\n",
    "print(\"\\nEvaluating the model on the test set...\")\n",
    "evaluate_model(model, dataloaders['test'], criterion, device)"
   ]
  },
  {
   "cell_type": "markdown",
   "metadata": {},
   "source": [
    "## Improving your model\n",
    "\n",
    "Once your model is done training, try tweaking your hyperparameters and training again below to improve your accuracy on the test set!"
   ]
  },
  {
   "cell_type": "markdown",
   "metadata": {},
   "source": [
    "Sadly, there is nothing more to improve. I think nearly 99% is a good rate."
   ]
  },
  {
   "cell_type": "markdown",
   "metadata": {},
   "source": [
    "## Saving your model\n",
    "Using `torch.save`, save your model for future loading."
   ]
  },
  {
   "cell_type": "code",
   "execution_count": 23,
   "metadata": {},
   "outputs": [],
   "source": [
    "# Save trained model parameters for later use.\n",
    "def save_checkpoint(model, optimizer, save_dir, epoch, criterion):\n",
    "    \"\"\"\n",
    "    Saves the current state of the model, optimizer, and other relevant information to a checkpoint file.\n",
    "\n",
    "    Args:\n",
    "        model (nn.Module): The model to save.\n",
    "        optimizer (optim.Adam): The optimizer to save.\n",
    "        save_dir (str): The directory to save the checkpoint file in.\n",
    "        epoch (int): The current epoch.        \n",
    "        criterion (nn.CrossEntropyLoss): The loss function to save.\n",
    "    \"\"\"\n",
    "    checkpoint = {\n",
    "        'epoch': epoch,        \n",
    "        'state_dict': model.state_dict(),\n",
    "        'optimizer_state_dict': optimizer.state_dict(),        \n",
    "        'criterion': criterion.state_dict(),\n",
    "        #'learning_rate': learning_rate\n",
    "    }\n",
    "    \n",
    "    torch.save(checkpoint, os.path.join(save_dir, 'checkpoint.pth'))"
   ]
  },
  {
   "cell_type": "code",
   "execution_count": 24,
   "metadata": {},
   "outputs": [],
   "source": [
    "save_checkpoint(model, optimizer, \"./checkpoint\", 20, criterion)"
   ]
  },
  {
   "cell_type": "code",
   "execution_count": null,
   "metadata": {},
   "outputs": [],
   "source": []
  }
 ],
 "metadata": {
  "kernelspec": {
   "display_name": "Python 3 (ipykernel)",
   "language": "python",
   "name": "python3"
  },
  "language_info": {
   "codemirror_mode": {
    "name": "ipython",
    "version": 3
   },
   "file_extension": ".py",
   "mimetype": "text/x-python",
   "name": "python",
   "nbconvert_exporter": "python",
   "pygments_lexer": "ipython3",
   "version": "3.10.14"
  }
 },
 "nbformat": 4,
 "nbformat_minor": 4
}
