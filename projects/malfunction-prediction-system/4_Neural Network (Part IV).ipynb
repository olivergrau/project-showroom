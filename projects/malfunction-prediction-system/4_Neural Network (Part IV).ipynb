{
 "cells": [
  {
   "cell_type": "markdown",
   "metadata": {},
   "source": [
    "# Transformer based Neural Network for RUL Prediction\n",
    "\n",
    "## Introduction\n",
    "\n",
    "This notebook focuses on designing and implementing neural network models for predicting the Remaining Useful Life (RUL) of engines using the NASA CMAPSS dataset and a transformer based model. The dataset provides multivariate time-series data capturing engine operational and sensor measurements. By analyzing these sequences, we aim to estimate the RUL, which is critical for predictive maintenance and avoiding unexpected failures.\n",
    "\n",
    "In this notebook we are going to NOT use the **engineered** features.\n",
    "\n",
    "### Objectives\n",
    "1. **Develop a Baseline Model:** (Done)\n",
    "   - Implement a baseline neural network using **RNN** layers to leverage the sequential nature of the data.\n",
    "   - Evaluate the baseline model's performance as a benchmark.\n",
    "\n",
    "2. **Experiment with more complex models like GRU and Transformer-Based Models:**\n",
    "   - Implement a more advanced architecture based on transformers for sequence modeling and feature extraction.\n",
    "   - Compare its performance with the LSTM-based baseline model.\n",
    "\n",
    "### Plan\n",
    "1. **Prepare the Data:**\n",
    "   - Use the preprocessed and scaled dataset created in previous notebooks.\n",
    "   - Ensure the dataset supports both original features and optional engineered features for flexibility in experimentation.\n",
    "\n",
    "2. **Baseline Model (LSTM):**\n",
    "   - Use LSTM layers to capture temporal dependencies in the sequence data.\n",
    "   - Evaluate the model's performance using Mean Squared Error (MSE) as the loss metric.\n",
    "\n",
    "3. **Transformer-Based Model:**\n",
    "   - Design a transformer architecture for sequence-to-sequence modeling.\n",
    "   - Focus on capturing long-range dependencies and complex interactions among features.\n",
    "\n",
    "4. **Model Comparison and Evaluation:**\n",
    "   - Compare the models on key metrics such as Mean Absolute Error (MAE) and MSE.\n",
    "   - Analyze the advantages and trade-offs of each approach.\n",
    "\n",
    "### Why Use LSTMs and Transformers?\n",
    "- **LSTMs:** \n",
    "  - Effective at capturing temporal dependencies and patterns in sequential data.\n",
    "  - Provide a strong benchmark for sequence modeling tasks.\n",
    "- **Transformers:**\n",
    "  - Offer enhanced capability to model long-range dependencies compared to LSTMs.\n",
    "  - Utilize attention mechanisms to focus on the most relevant parts of the sequence.\n",
    "\n",
    "### Expected Outcome\n",
    "By the end of this notebook, we aim to:\n",
    "- Establish a strong baseline model for RUL prediction.\n",
    "- Explore the potential of transformer-based models for handling sequence data.\n",
    "- Gain insights into the strengths and limitations of these architectures for predictive maintenance tasks.\n",
    "\n",
    "Let's begin by loading the prepared dataset and setting up the baseline model.\n"
   ]
  },
  {
   "cell_type": "markdown",
   "metadata": {},
   "source": [
    "# Preparing our existing CMAPSSDataset for a transformer based network\n",
    "Our sequence based CMAPSSDataset is already in good shape to serve as a data pipeline for the transformer net architecture. But we need to add one thing:\n",
    "\n",
    "1. Creating an attention mask to ignore padded timesteps"
   ]
  },
  {
   "cell_type": "markdown",
   "metadata": {},
   "source": [
    "**Another** task is:\n",
    "\n",
    "1. Clarify the question how you pool the final sequence embedding (mean pooling, [CLS] token, etc.)"
   ]
  },
  {
   "cell_type": "markdown",
   "metadata": {},
   "source": [
    "\n",
    "## Pooling the Final Sequence Embedding in Transformer Models\n",
    "\n",
    "Pooling the **final sequence embeddings** is a critical step in Transformer-based models for time-series tasks like RUL prediction. Let’s break it down and explore the options:\n",
    "\n",
    "---\n",
    "\n",
    "### 1. **Why Do You Need Pooling?**\n",
    "\n",
    "The Transformer outputs embeddings for **each timestep** (sequence position). For example:\n",
    "- Input: Shape $(\\text{batch size}, \\text{seq len}, \\text{feature dim})$\n",
    "- Transformer Output: Shape $(\\text{batch size}, \\text{seq len}, \\text{d\\_model})$\n",
    "\n",
    "Each row in this output corresponds to the representation of a specific timestep, enriched by attention over the entire sequence. However:\n",
    "- For **RUL prediction**, you need a **single output vector** per sequence because RUL is a scalar (one value per sequence).\n",
    "- To get this single vector, you must **pool** the sequence embeddings into one representation.\n",
    "\n",
    "---\n",
    "\n",
    "### 2. **Common Pooling Strategies**\n",
    "\n",
    "#### 2.1. **Mean Pooling (Global Average Pooling)**\n",
    "\n",
    "- Take the average of all timestep embeddings across the sequence:\n",
    "  $$\n",
    "  \\text{pooled\\_vector} = \\frac{1}{\\text{seq len}} \\sum_{t=1}^{\\text{seq len}} \\text{embeddings}[t]\n",
    "  $$\n",
    "- This results in a single vector of shape $(\\text{batch size}, \\text{d\\_model})$.\n",
    "\n",
    "**Advantages**:\n",
    "- Simple and computationally efficient.\n",
    "- Works well when every timestep contributes equally to the sequence’s meaning.\n",
    "\n",
    "**Disadvantages**:\n",
    "- Assumes all timesteps are equally important, which may not hold if some timesteps contain more critical information (e.g., degradation trends at later cycles).\n",
    "\n",
    "---\n",
    "\n",
    "#### 2.2. **Max Pooling**\n",
    "\n",
    "- Take the maximum value across timesteps for each embedding dimension:\n",
    "  $$\n",
    "  \\text{pooled\\_vector}[i] = \\max_{t=1}^{\\text{seq len}} \\text{embeddings}[t][i]\n",
    "  $$\n",
    "- Shape: $(\\text{batch size}, \\text{d\\_model})$.\n",
    "\n",
    "**Advantages**:\n",
    "- Focuses on the most “prominent” features across the sequence, which may highlight key degradation signals.\n",
    "\n",
    "**Disadvantages**:\n",
    "- Discards subtler variations across timesteps, which might be useful for RUL prediction.\n",
    "\n",
    "---\n",
    "\n",
    "#### 2.3. **Attention-Based Pooling**\n",
    "\n",
    "Instead of fixed pooling (mean or max), you can use an **attention mechanism** to compute a weighted sum of embeddings:\n",
    "- Learn a weight for each timestep based on its importance.\n",
    "- Formula:\n",
    "  $$\n",
    "  \\text{pooled\\_vector} = \\sum_{t=1}^{\\text{seq len}} \\alpha_t \\cdot \\text{embeddings}[t]\n",
    "  $$\n",
    "  where $\\alpha_t$ are attention weights:\n",
    "  $$\n",
    "  \\alpha_t = \\text{softmax}(W \\cdot \\text{embeddings}[t])\n",
    "  $$\n",
    "- $W$ is a learnable parameter (linear layer).\n",
    "\n",
    "**Advantages**:\n",
    "- Dynamically learns which timesteps are most important.\n",
    "- Especially useful for RUL prediction, where later timesteps may carry more degradation information.\n",
    "\n",
    "**Disadvantages**:\n",
    "- Adds extra parameters and computation.\n",
    "\n",
    "---\n",
    "\n",
    "#### 2.4. **[CLS] Token**\n",
    "\n",
    "Inspired by Transformers in NLP (e.g., BERT), you can prepend a **special token** (e.g., `[CLS]`) to your input sequence. This token:\n",
    "- Has its own learnable embedding.\n",
    "- After passing through the Transformer, the embedding of the `[CLS]` token represents the entire sequence.\n",
    "\n",
    "**Advantages**:\n",
    "- Simple to implement.\n",
    "- The model learns to focus the `[CLS]` embedding on the overall sequence meaning.\n",
    "\n",
    "**Disadvantages**:\n",
    "- The `[CLS]` token may not always effectively summarize the sequence, especially for smaller datasets or unoptimized models.\n",
    "\n",
    "---\n",
    "\n",
    "#### 2.5. **Last Timestep**\n",
    "\n",
    "For some sequence tasks, only the final timestep is considered (similar to an RNN’s default behavior). Here, you directly take the last timestep embedding:\n",
    "- \n",
    "$$\n",
    "\\text{pooled\\_vector} = \\text{embeddings}[-1]\n",
    "$$\n",
    "- Shape: $(\\text{batch size}, \\text{d\\_model})$.\n",
    "\n",
    "**Advantages**:\n",
    "- Simple and intuitive for time-series tasks like RUL, where later timesteps are often more indicative of failure.\n",
    "- Computationally cheap.\n",
    "\n",
    "**Disadvantages**:\n",
    "- Ignores information from earlier timesteps, which may still contain valuable signals (e.g., long-term trends).\n",
    "\n",
    "---\n",
    "\n",
    "### 3. **Which Pooling Strategy to Use?**\n",
    "\n",
    "#### Recommendations for the NASA Turbofan Dataset:\n",
    "\n",
    "1. **Start with Mean Pooling**:  \n",
    "   - It’s simple, effective, and works well as a baseline.\n",
    "\n",
    "2. **Explore Attention-Based Pooling**:  \n",
    "   - Particularly useful for RUL prediction since later timesteps often dominate the degradation signal.\n",
    "\n",
    "3. **Consider Last Timestep**:  \n",
    "   - If your sequences are long, or the model focuses too much on early cycles, this can prioritize the most recent data.\n",
    "\n",
    "4. **[CLS] Token**:  \n",
    "   - Works well for full-sequence modeling. If you’re using variable-length sequences or Transformers with a fixed input length, `[CLS]` pooling can be a robust alternative.\n",
    "\n",
    "---\n",
    "\n",
    "### 4. **Code Examples**\n",
    "\n",
    "#### Mean Pooling\n",
    "```python\n",
    "class TransformerRULModel(nn.Module):\n",
    "    def forward(self, x, mask=None):\n",
    "        # x: (batch_size, seq_len, d_model)\n",
    "        x = self.transformer_encoder(x, src_key_padding_mask=mask)\n",
    "        # Mean pooling over sequence dimension\n",
    "        x = x.mean(dim=1)  # Shape: (batch_size, d_model)\n",
    "        output = self.regressor(x)\n",
    "        return output\n",
    "```\n",
    "\n",
    "---\n",
    "\n",
    "#### Attention-Based Pooling\n",
    "```python\n",
    "class TransformerRULModel(nn.Module):\n",
    "    def __init__(self, d_model):\n",
    "        super().__init__()\n",
    "        self.attention = nn.Sequential(\n",
    "            nn.Linear(d_model, d_model),\n",
    "            nn.Tanh(),\n",
    "            nn.Linear(d_model, 1)  # Scalar score for each timestep\n",
    "        )\n",
    "        self.regressor = nn.Linear(d_model, 1)\n",
    "\n",
    "    def forward(self, x, mask=None):\n",
    "        # x: (batch_size, seq_len, d_model)\n",
    "        x = self.transformer_encoder(x, src_key_padding_mask=mask)\n",
    "\n",
    "        # Attention weights\n",
    "        attn_scores = self.attention(x)  # Shape: (batch_size, seq_len, 1)\n",
    "        attn_weights = torch.softmax(attn_scores, dim=1)  # Shape: (batch_size, seq_len, 1)\n",
    "\n",
    "        # Weighted sum\n",
    "        context_vector = (x * attn_weights).sum(dim=1)  # Shape: (batch_size, d_model)\n",
    "        output = self.regressor(context_vector)  # Shape: (batch_size, 1)\n",
    "        return output\n",
    "```\n",
    "\n",
    "---\n",
    "\n",
    "#### [CLS] Token\n",
    "```python\n",
    "class TransformerRULModel(nn.Module):\n",
    "    def forward(self, x, mask=None):\n",
    "        # Add [CLS] token to the input\n",
    "        cls_token = self.cls_embedding.expand(x.size(0), 1, -1)  # Shape: (batch_size, 1, d_model)\n",
    "        x = torch.cat([cls_token, x], dim=1)  # Shape: (batch_size, seq_len+1, d_model)\n",
    "\n",
    "        x = self.transformer_encoder(x, src_key_padding_mask=mask)\n",
    "\n",
    "        # Use the first embedding (CLS token)\n",
    "        cls_embedding = x[:, 0, :]  # Shape: (batch_size, d_model)\n",
    "        output = self.regressor(cls_embedding)  # Shape: (batch_size, 1)\n",
    "        return output\n",
    "```\n",
    "\n",
    "---\n",
    "\n",
    "### 5. **Comparison of Strategies**\n",
    "\n",
    "| **Pooling Method**   | **Advantages**                          | **Disadvantages**                     | **Use Case**                                 |\n",
    "|-----------------------|------------------------------------------|----------------------------------------|----------------------------------------------|\n",
    "| **Mean Pooling**      | Simple, efficient                       | Assumes all timesteps are equally important | Baseline for most tasks                       |\n",
    "| **Max Pooling**       | Focuses on prominent features           | Ignores subtler signals                | Detecting sharp degradation patterns         |\n",
    "| **Attention Pooling** | Learns importance dynamically           | Computationally more expensive         | Tasks with unequal timestep importance       |\n",
    "| **[CLS] Token**       | Learns an explicit sequence summary     | Requires training to focus on `[CLS]` | General-purpose; good for variable-length    |\n",
    "| **Last Timestep**     | Prioritizes most recent timesteps       | Ignores earlier sequence information   | Strong trend toward failure in final cycles  |\n",
    "\n",
    "---\n",
    "\n",
    "**Final Advice**: Start simple (mean pooling) and evaluate. If mean pooling doesn’t capture RUL trends effectively, experiment with attention-based pooling or [CLS] tokens.\n"
   ]
  },
  {
   "cell_type": "code",
   "execution_count": 5,
   "metadata": {},
   "outputs": [],
   "source": [
    "import torch\n",
    "from torch.utils.data import DataLoader\n",
    "from codebase.v5.dataset import CMAPSSDataset, SequenceCMAPSSDataset\n",
    "\n",
    "def prepare_sequence_dataloader(\n",
    "        data_dir, data_index, feature_cols, batch_size=32, \n",
    "        mode=\"train\", compute_engineered_features=True, sequence_length=30, overlap=20):\n",
    "    \"\"\"\n",
    "    Prepares the DataLoader for the CMAPSS dataset with attention masking.\n",
    "    \n",
    "    Args:\n",
    "        data_dir (str): Directory containing the dataset files.\n",
    "        data_index (int): Index of the dataset file to load (0 to 3).\n",
    "        feature_cols (list): List of feature columns to use.\n",
    "        batch_size (int): Batch size for the DataLoader.\n",
    "        mode (str): Mode of the dataset, \"train\" or \"test\".\n",
    "        compute_engineered_features (bool): Whether to include engineered features.\n",
    "        sequence_length (int): Length of the sequence to extract.\n",
    "        overlap (int): Number of overlapping time steps between consecutive sequences.\n",
    "        \n",
    "    Returns:\n",
    "        DataLoader: PyTorch DataLoader for the CMAPSS dataset with masking.\n",
    "    \"\"\"\n",
    "    # Initialize the base dataset\n",
    "    dataset = CMAPSSDataset(\n",
    "        data_dir=data_dir,\n",
    "        data_index=data_index,\n",
    "        feature_cols=feature_cols,\n",
    "        mode=mode,\n",
    "        compute_engineered_features=compute_engineered_features,\n",
    "        features_to_engineer=[\"sensor_12\", \"sensor_7\", \"sensor_21\", \"sensor_20\", \"sensor_11\", \"sensor_4\", \"sensor_15\"]\n",
    "    )\n",
    "    \n",
    "    # Wrap it with the sequence-based dataset\n",
    "    sequence_dataset = SequenceCMAPSSDataset(\n",
    "        dataset=dataset, sequence_length=sequence_length, overlap=overlap)\n",
    "\n",
    "    # Define a custom collate function for masking the sequences\n",
    "    def collate_fn(batch):\n",
    "        \"\"\"\n",
    "        Custom collate function to handle padding and masking.\n",
    "        \n",
    "        Args:\n",
    "            batch (list): List of tuples (features, target, engine_id, cycles).\n",
    "            \n",
    "        Returns:\n",
    "            tuple: Features tensor, target tensor (if train mode), attention mask, and other meta info.\n",
    "        \"\"\"\n",
    "        features_list, targets_list, masks_list, engine_ids, cycles_list = [], [], [], [], []\n",
    "        \n",
    "        for sample in batch:\n",
    "            features, target, engine_id, cycles = sample\n",
    "            \n",
    "            # Identify padded timesteps (assumes padding is all-zero rows)\n",
    "            mask = (features.sum(dim=-1) != 0)  # True for real timesteps, False for padded\n",
    "            \n",
    "            if mask.sum() < mask.size(0):  # Skip fully-padded sequences\n",
    "                print(\"Adding partially-padded sequence\")\n",
    "                features_list.append(features)\n",
    "                masks_list.append(mask)\n",
    "                engine_ids.append(engine_id)\n",
    "                cycles_list.append(cycles)\n",
    "            else:\n",
    "                print(\"Skipping fully-padded sequence\")\n",
    "                continue\n",
    "            \n",
    "            # Add target only in train mode\n",
    "            if mode == \"train\":\n",
    "                targets_list.append(target)\n",
    "\n",
    "        # Stack features and masks\n",
    "        features_tensor = torch.stack(features_list)  # Shape: (batch_size, seq_len, num_features)\n",
    "        masks_tensor = torch.stack(masks_list)        # Shape: (batch_size, seq_len)\n",
    "        cycles_tensor = torch.stack(cycles_list)      # Shape: (batch_size, seq_len)\n",
    "        \n",
    "        # Handle train and test modes\n",
    "        if mode == \"train\":\n",
    "            targets_tensor = torch.stack(targets_list)  # Shape: (batch_size,)\n",
    "            return features_tensor, targets_tensor, masks_tensor, engine_ids, cycles_tensor\n",
    "        else:\n",
    "            return features_tensor, masks_tensor, engine_ids, cycles_tensor\n",
    "\n",
    "    # Create DataLoader with the custom collate function\n",
    "    dataloader = DataLoader(\n",
    "        sequence_dataset, batch_size=batch_size, shuffle=False, num_workers=8, collate_fn=collate_fn\n",
    "    )\n",
    "    \n",
    "    return dataloader"
   ]
  },
  {
   "cell_type": "code",
   "execution_count": 6,
   "metadata": {},
   "outputs": [],
   "source": [
    "def test_sequence_dataset(dataloader, mode=\"train\"):\n",
    "    \"\"\"\n",
    "    Test the SequenceCMAPSSDataset and display an example output.\n",
    "\n",
    "    Args:\n",
    "        dataset (CMAPSSDataset): The original CMAPSSDataset instance.\n",
    "        sequence_length (int): Length of each sequence.\n",
    "        batch_size (int): Batch size for the DataLoader.\n",
    "    \"\"\"\n",
    "    \n",
    "    # Fetch one batch\n",
    "    for batch_idx, batch in enumerate(dataloader):\n",
    "        if mode == \"train\":\n",
    "            sequences, targets, masks, engine_ids, _ = batch\n",
    "            print(f\"Batch {batch_idx + 1}\")\n",
    "            print(f\"Sequences Shape: {sequences.shape}\")  # Expected: (batch_size, sequence_length, num_features)\n",
    "            print(f\"Targets Shape: {targets.shape}\")  # Expected: (batch_size,)\n",
    "            print(f\"Attention Masks Shape: {masks.shape}\")\n",
    "            print(f\"Sample Sequence (First in Batch):\\n{sequences[0]}\")\n",
    "            print(f\"Corresponding Target (First in Batch):\\n{targets[0]}\")\n",
    "            print(f\"Engine ID (First in batch): {engine_ids[0]}\")\n",
    "        else:\n",
    "            sequences, masks, engine_ids, engine_ids = batch\n",
    "            print(f\"Batch {batch_idx + 1}\")\n",
    "            print(f\"Sequences Shape: {sequences.shape}\")  # Expected: (batch_size, sequence_length, num_features)\n",
    "            print(f\"Attention Masks Shape: {masks.shape}\")\n",
    "            print(f\"Sample Sequence (First in Batch):\\n{sequences[0]}\")\n",
    "            print(f\"Engine ID (First in batch): {engine_ids[0]}\")\n",
    "        break  # Only fetch the first batch for demonstration\n"
   ]
  },
  {
   "cell_type": "code",
   "execution_count": 7,
   "metadata": {},
   "outputs": [
    {
     "name": "stdout",
     "output_type": "stream",
     "text": [
      "Skipping fully-padded sequence\n",
      "Skipping fully-padded sequence\n",
      "Skipping fully-padded sequence\n",
      "Skipping fully-padded sequence\n",
      "Skipping fully-padded sequence\n",
      "Skipping fully-padded sequence\n",
      "Skipping fully-padded sequence\n",
      "Skipping fully-padded sequence\n",
      "Skipping fully-padded sequence\n",
      "Skipping fully-padded sequence\n",
      "Skipping fully-padded sequence\n",
      "Skipping fully-padded sequence\n",
      "Skipping fully-padded sequence\n",
      "Skipping fully-padded sequence\n",
      "Skipping fully-padded sequence\n",
      "Skipping fully-padded sequence\n",
      "Skipping fully-padded sequence\n",
      "Skipping fully-padded sequence\n",
      "Skipping fully-padded sequence\n",
      "Skipping fully-padded sequence\n",
      "Skipping fully-padded sequence\n",
      "Skipping fully-padded sequence\n",
      "Skipping fully-padded sequence\n",
      "Skipping fully-padded sequence\n",
      "Skipping fully-padded sequence\n",
      "Skipping fully-padded sequence\n",
      "Skipping fully-padded sequence\n",
      "Skipping fully-padded sequence\n",
      "Skipping fully-padded sequence\n",
      "Skipping fully-padded sequence\n",
      "Skipping fully-padded sequence\n",
      "Skipping fully-padded sequence\n",
      "Skipping fully-padded sequence\n",
      "Skipping fully-padded sequence\n",
      "Skipping fully-padded sequence\n",
      "Skipping fully-padded sequence\n",
      "Skipping fully-padded sequence\n",
      "Skipping fully-padded sequence\n",
      "Skipping fully-padded sequence\n",
      "Skipping fully-padded sequence\n",
      "Skipping fully-padded sequence\n",
      "Skipping fully-padded sequence\n",
      "Skipping fully-padded sequence\n",
      "Skipping fully-padded sequence\n",
      "Skipping fully-padded sequence\n",
      "Skipping fully-padded sequence\n",
      "Skipping fully-padded sequence\n",
      "Skipping fully-padded sequence\n",
      "Skipping fully-padded sequence\n",
      "Skipping fully-padded sequence\n",
      "Skipping fully-padded sequence\n",
      "Skipping fully-padded sequence\n",
      "Skipping fully-padded sequence\n",
      "Skipping fully-padded sequence\n",
      "Skipping fully-padded sequence\n",
      "Skipping fully-padded sequence\n",
      "Skipping fully-padded sequence\n",
      "Skipping fully-padded sequence\n",
      "Skipping fully-padded sequence\n",
      "Skipping fully-padded sequence\n",
      "Skipping fully-padded sequence\n",
      "Skipping fully-padded sequence\n",
      "Skipping fully-padded sequence\n",
      "Skipping fully-padded sequence\n",
      "Skipping fully-padded sequence\n",
      "Skipping fully-padded sequence\n",
      "Skipping fully-padded sequence\n",
      "Skipping fully-padded sequence\n",
      "Skipping fully-padded sequence\n",
      "Skipping fully-padded sequence\n",
      "Skipping fully-padded sequence\n",
      "Skipping fully-padded sequence\n",
      "Skipping fully-padded sequence\n",
      "Skipping fully-padded sequence\n",
      "Skipping fully-padded sequence\n",
      "Skipping fully-padded sequence\n",
      "Skipping fully-padded sequence\n",
      "Skipping fully-padded sequence\n",
      "Skipping fully-padded sequence\n",
      "Skipping fully-padded sequence\n",
      "Skipping fully-padded sequence\n",
      "Skipping fully-padded sequence\n",
      "Skipping fully-padded sequence\n",
      "Skipping fully-padded sequence\n",
      "Skipping fully-padded sequence\n",
      "Skipping fully-padded sequence\n",
      "Skipping fully-padded sequence\n",
      "Skipping fully-padded sequence\n",
      "Skipping fully-padded sequence\n",
      "Skipping fully-padded sequence\n",
      "Skipping fully-padded sequence\n",
      "Skipping fully-padded sequence\n",
      "Skipping fully-padded sequence\n",
      "Skipping fully-padded sequence\n",
      "Skipping fully-padded sequence\n",
      "Skipping fully-padded sequence\n",
      "Skipping fully-padded sequence\n",
      "Skipping fully-padded sequence\n",
      "Skipping fully-padded sequence\n",
      "Skipping fully-padded sequence\n",
      "Skipping fully-padded sequence\n",
      "Skipping fully-padded sequence\n",
      "Skipping fully-padded sequence\n",
      "Skipping fully-padded sequence\n",
      "Skipping fully-padded sequence\n",
      "Skipping fully-padded sequence\n",
      "Skipping fully-padded sequence\n",
      "Skipping fully-padded sequence\n",
      "Skipping fully-padded sequence\n",
      "Skipping fully-padded sequence\n",
      "Skipping fully-padded sequence\n",
      "Skipping fully-padded sequence\n",
      "Skipping fully-padded sequence\n",
      "Skipping fully-padded sequence\n",
      "Skipping fully-padded sequence\n",
      "Skipping fully-padded sequence\n",
      "Skipping fully-padded sequence\n",
      "Skipping fully-padded sequence\n",
      "Skipping fully-padded sequence\n",
      "Skipping fully-padded sequence\n",
      "Skipping fully-padded sequence\n",
      "Skipping fully-padded sequence\n",
      "Skipping fully-padded sequence\n",
      "Skipping fully-padded sequence\n",
      "Skipping fully-padded sequence\n",
      "Skipping fully-padded sequence\n",
      "Skipping fully-padded sequence\n",
      "Skipping fully-padded sequence\n",
      "Skipping fully-padded sequence\n",
      "Skipping fully-padded sequence\n",
      "Skipping fully-padded sequence\n",
      "Skipping fully-padded sequence\n",
      "Skipping fully-padded sequence\n",
      "Skipping fully-padded sequence\n",
      "Skipping fully-padded sequence\n",
      "Skipping fully-padded sequence\n",
      "Skipping fully-padded sequence\n",
      "Skipping fully-padded sequence\n",
      "Skipping fully-padded sequence\n",
      "Skipping fully-padded sequence\n",
      "Skipping fully-padded sequence\n",
      "Skipping fully-padded sequence\n",
      "Skipping fully-padded sequence\n",
      "Skipping fully-padded sequence\n",
      "Skipping fully-padded sequence\n",
      "Skipping fully-padded sequence\n",
      "Skipping fully-padded sequence\n",
      "Skipping fully-padded sequence\n",
      "Skipping fully-padded sequence\n",
      "Skipping fully-padded sequence\n",
      "Skipping fully-padded sequence\n",
      "Skipping fully-padded sequence\n",
      "Skipping fully-padded sequence\n",
      "Skipping fully-padded sequence\n",
      "Skipping fully-padded sequence\n",
      "Skipping fully-padded sequence\n",
      "Skipping fully-padded sequence\n",
      "Skipping fully-padded sequence\n",
      "Skipping fully-padded sequence\n",
      "Skipping fully-padded sequence\n",
      "Skipping fully-padded sequence\n",
      "Skipping fully-padded sequence\n",
      "Skipping fully-padded sequence\n",
      "Skipping fully-padded sequence\n",
      "Skipping fully-padded sequence\n",
      "Skipping fully-padded sequence\n",
      "Skipping fully-padded sequence\n",
      "Skipping fully-padded sequence\n",
      "Skipping fully-padded sequence\n",
      "Skipping fully-padded sequence\n",
      "Skipping fully-padded sequence\n",
      "Skipping fully-padded sequence\n",
      "Skipping fully-padded sequence\n",
      "Skipping fully-padded sequence\n",
      "Skipping fully-padded sequence\n",
      "Skipping fully-padded sequence\n",
      "Skipping fully-padded sequence\n",
      "Skipping fully-padded sequence\n",
      "Skipping fully-padded sequence\n",
      "Skipping fully-padded sequence\n",
      "Skipping fully-padded sequence\n",
      "Skipping fully-padded sequence\n",
      "Skipping fully-padded sequence\n",
      "Skipping fully-padded sequence\n",
      "Skipping fully-padded sequence\n",
      "Skipping fully-padded sequence\n",
      "Skipping fully-padded sequence\n",
      "Skipping fully-padded sequence\n",
      "Skipping fully-padded sequence\n",
      "Skipping fully-padded sequence\n",
      "Skipping fully-padded sequence\n",
      "Skipping fully-padded sequence\n",
      "Skipping fully-padded sequence\n",
      "Skipping fully-padded sequence\n",
      "Skipping fully-padded sequence\n",
      "Skipping fully-padded sequence\n",
      "Skipping fully-padded sequence\n",
      "Skipping fully-padded sequence\n",
      "Skipping fully-padded sequence\n",
      "Skipping fully-padded sequence\n",
      "Skipping fully-padded sequence\n",
      "Skipping fully-padded sequence\n",
      "Skipping fully-padded sequence\n",
      "Skipping fully-padded sequence\n",
      "Skipping fully-padded sequence\n",
      "Skipping fully-padded sequence\n",
      "Skipping fully-padded sequence\n",
      "Skipping fully-padded sequence\n",
      "Skipping fully-padded sequence\n",
      "Skipping fully-padded sequence\n",
      "Skipping fully-padded sequence\n",
      "Skipping fully-padded sequence\n",
      "Skipping fully-padded sequence\n",
      "Skipping fully-padded sequence\n",
      "Skipping fully-padded sequence\n",
      "Skipping fully-padded sequence\n",
      "Skipping fully-padded sequence\n",
      "Skipping fully-padded sequence\n",
      "Skipping fully-padded sequence\n",
      "Skipping fully-padded sequence\n",
      "Skipping fully-padded sequence\n",
      "Skipping fully-padded sequence\n",
      "Skipping fully-padded sequence\n",
      "Skipping fully-padded sequence\n",
      "Skipping fully-padded sequence\n",
      "Skipping fully-padded sequence\n",
      "Skipping fully-padded sequence\n",
      "Skipping fully-padded sequence\n",
      "Skipping fully-padded sequence\n",
      "Skipping fully-padded sequence\n",
      "Skipping fully-padded sequence\n",
      "Skipping fully-padded sequence\n",
      "Skipping fully-padded sequence\n",
      "Skipping fully-padded sequence\n",
      "Skipping fully-padded sequence\n",
      "Skipping fully-padded sequence\n",
      "Skipping fully-padded sequence\n",
      "Skipping fully-padded sequence\n",
      "Skipping fully-padded sequence\n",
      "Skipping fully-padded sequence\n",
      "Skipping fully-padded sequence\n",
      "Skipping fully-padded sequence\n",
      "Skipping fully-padded sequence\n",
      "Skipping fully-padded sequence\n",
      "Skipping fully-padded sequence\n",
      "Skipping fully-padded sequence\n",
      "Skipping fully-padded sequence\n",
      "Skipping fully-padded sequence\n",
      "Skipping fully-padded sequence\n",
      "Skipping fully-padded sequence\n",
      "Skipping fully-padded sequence\n",
      "Skipping fully-padded sequence\n",
      "Skipping fully-padded sequence\n",
      "Skipping fully-padded sequence\n",
      "Skipping fully-padded sequence\n",
      "Skipping fully-padded sequence\n",
      "Skipping fully-padded sequence\n",
      "Skipping fully-padded sequence\n",
      "Skipping fully-padded sequence\n",
      "Skipping fully-padded sequence\n",
      "Skipping fully-padded sequence\n",
      "Skipping fully-padded sequence\n",
      "Skipping fully-padded sequence\n",
      "Skipping fully-padded sequence\n",
      "Skipping fully-padded sequence\n",
      "Skipping fully-padded sequence\n",
      "Skipping fully-padded sequence\n",
      "Skipping fully-padded sequence\n",
      "Skipping fully-padded sequence\n",
      "Skipping fully-padded sequence\n",
      "Skipping fully-padded sequence\n",
      "Skipping fully-padded sequence\n",
      "Skipping fully-padded sequence\n",
      "Skipping fully-padded sequence\n",
      "Skipping fully-padded sequence\n",
      "Skipping fully-padded sequence\n",
      "Skipping fully-padded sequence\n",
      "Skipping fully-padded sequence\n",
      "Skipping fully-padded sequence\n",
      "Skipping fully-padded sequence\n",
      "Skipping fully-padded sequence\n",
      "Skipping fully-padded sequence\n",
      "Skipping fully-padded sequence\n",
      "Skipping fully-padded sequence\n",
      "Skipping fully-padded sequence\n",
      "Skipping fully-padded sequence\n",
      "Skipping fully-padded sequence\n",
      "Skipping fully-padded sequence\n",
      "Skipping fully-padded sequence\n",
      "Skipping fully-padded sequence\n",
      "Skipping fully-padded sequence\n",
      "Skipping fully-padded sequence\n",
      "Skipping fully-padded sequence\n",
      "Skipping fully-padded sequence\n",
      "Skipping fully-padded sequence\n",
      "Skipping fully-padded sequence\n",
      "Skipping fully-padded sequence\n",
      "Skipping fully-padded sequence\n",
      "Skipping fully-padded sequence\n",
      "Skipping fully-padded sequence\n",
      "Skipping fully-padded sequence\n",
      "Skipping fully-padded sequence\n",
      "Skipping fully-padded sequence\n",
      "Skipping fully-padded sequence\n",
      "Skipping fully-padded sequence\n",
      "Skipping fully-padded sequence\n",
      "Skipping fully-padded sequence\n",
      "Skipping fully-padded sequence\n",
      "Skipping fully-padded sequence\n",
      "Skipping fully-padded sequence\n",
      "Skipping fully-padded sequence\n",
      "Skipping fully-padded sequence\n",
      "Skipping fully-padded sequence\n",
      "Skipping fully-padded sequence\n",
      "Skipping fully-padded sequence\n",
      "Skipping fully-padded sequence\n",
      "Skipping fully-padded sequence\n",
      "Skipping fully-padded sequence\n",
      "Skipping fully-padded sequence\n",
      "Skipping fully-padded sequence\n",
      "Skipping fully-padded sequence\n",
      "Skipping fully-padded sequence\n",
      "Skipping fully-padded sequence\n",
      "Skipping fully-padded sequence\n",
      "Skipping fully-padded sequence\n",
      "Skipping fully-padded sequence\n",
      "Skipping fully-padded sequence\n",
      "Skipping fully-padded sequence\n",
      "Skipping fully-padded sequence\n",
      "Skipping fully-padded sequence\n",
      "Skipping fully-padded sequence\n",
      "Skipping fully-padded sequence\n",
      "Skipping fully-padded sequence\n",
      "Skipping fully-padded sequence\n",
      "Skipping fully-padded sequence\n",
      "Skipping fully-padded sequence\n",
      "Skipping fully-padded sequence\n",
      "Skipping fully-padded sequence\n",
      "Skipping fully-padded sequence\n",
      "Skipping fully-padded sequence\n",
      "Skipping fully-padded sequence\n",
      "Skipping fully-padded sequence\n",
      "Skipping fully-padded sequence\n",
      "Skipping fully-padded sequence\n",
      "Skipping fully-padded sequence\n",
      "Skipping fully-padded sequence\n",
      "Skipping fully-padded sequence\n",
      "Skipping fully-padded sequence\n",
      "Skipping fully-padded sequence\n",
      "Skipping fully-padded sequence\n",
      "Skipping fully-padded sequence\n",
      "Skipping fully-padded sequence\n",
      "Skipping fully-padded sequence\n",
      "Skipping fully-padded sequence\n",
      "Skipping fully-padded sequence\n",
      "Skipping fully-padded sequence\n",
      "Skipping fully-padded sequence\n",
      "Skipping fully-padded sequence\n",
      "Skipping fully-padded sequence\n",
      "Skipping fully-padded sequence\n",
      "Skipping fully-padded sequence\n",
      "Skipping fully-padded sequence\n",
      "Skipping fully-padded sequence\n",
      "Skipping fully-padded sequence\n",
      "Skipping fully-padded sequence\n",
      "Skipping fully-padded sequence\n",
      "Skipping fully-padded sequence\n",
      "Skipping fully-padded sequence\n",
      "Skipping fully-padded sequence\n",
      "Skipping fully-padded sequence\n",
      "Skipping fully-padded sequence\n",
      "Skipping fully-padded sequence\n",
      "Skipping fully-padded sequence\n",
      "Skipping fully-padded sequence\n",
      "Skipping fully-padded sequence\n",
      "Skipping fully-padded sequence\n",
      "Skipping fully-padded sequence\n",
      "Skipping fully-padded sequence\n",
      "Skipping fully-padded sequence\n",
      "Skipping fully-padded sequence\n",
      "Skipping fully-padded sequence\n",
      "Skipping fully-padded sequence\n",
      "Skipping fully-padded sequence\n",
      "Skipping fully-padded sequence\n",
      "Skipping fully-padded sequence\n",
      "Skipping fully-padded sequence\n",
      "Skipping fully-padded sequence\n",
      "Skipping fully-padded sequence\n",
      "Skipping fully-padded sequence\n",
      "Skipping fully-padded sequence\n",
      "Skipping fully-padded sequence\n",
      "Skipping fully-padded sequence\n",
      "Skipping fully-padded sequence\n",
      "Skipping fully-padded sequence\n",
      "Skipping fully-padded sequence\n",
      "Skipping fully-padded sequence\n",
      "Skipping fully-padded sequence\n",
      "Skipping fully-padded sequence\n",
      "Skipping fully-padded sequence\n",
      "Skipping fully-padded sequence\n",
      "Skipping fully-padded sequence\n",
      "Skipping fully-padded sequence\n",
      "Skipping fully-padded sequence\n",
      "Skipping fully-padded sequence\n",
      "Skipping fully-padded sequence\n",
      "Skipping fully-padded sequence\n",
      "Skipping fully-padded sequence\n",
      "Skipping fully-padded sequence\n",
      "Skipping fully-padded sequence\n",
      "Skipping fully-padded sequence\n",
      "Skipping fully-padded sequence\n",
      "Skipping fully-padded sequence\n",
      "Skipping fully-padded sequence\n",
      "Skipping fully-padded sequence\n",
      "Skipping fully-padded sequence\n",
      "Skipping fully-padded sequence\n",
      "Skipping fully-padded sequence\n",
      "Skipping fully-padded sequence\n",
      "Skipping fully-padded sequence\n",
      "Skipping fully-padded sequence\n",
      "Skipping fully-padded sequence\n",
      "Skipping fully-padded sequence\n",
      "Skipping fully-padded sequence\n",
      "Skipping fully-padded sequence\n",
      "Skipping fully-padded sequence\n",
      "Skipping fully-padded sequence\n",
      "Skipping fully-padded sequence\n",
      "Skipping fully-padded sequence\n",
      "Skipping fully-padded sequence\n",
      "Skipping fully-padded sequence\n",
      "Skipping fully-padded sequence\n",
      "Skipping fully-padded sequence\n",
      "Skipping fully-padded sequence\n",
      "Skipping fully-padded sequence\n",
      "Skipping fully-padded sequence\n",
      "Skipping fully-padded sequence\n",
      "Skipping fully-padded sequence\n",
      "Skipping fully-padded sequence\n",
      "Skipping fully-padded sequence\n",
      "Skipping fully-padded sequence\n",
      "Skipping fully-padded sequence\n",
      "Skipping fully-padded sequence\n",
      "Skipping fully-padded sequence\n",
      "Skipping fully-padded sequence\n",
      "Skipping fully-padded sequence\n",
      "Skipping fully-padded sequence\n",
      "Skipping fully-padded sequence\n",
      "Skipping fully-padded sequence\n",
      "Skipping fully-padded sequence\n",
      "Skipping fully-padded sequence\n",
      "Skipping fully-padded sequence\n",
      "Skipping fully-padded sequence\n",
      "Skipping fully-padded sequence\n",
      "Skipping fully-padded sequence\n",
      "Skipping fully-padded sequence\n",
      "Skipping fully-padded sequence\n",
      "Skipping fully-padded sequence\n",
      "Skipping fully-padded sequence\n",
      "Skipping fully-padded sequence\n",
      "Skipping fully-padded sequence\n",
      "Skipping fully-padded sequence\n",
      "Skipping fully-padded sequence\n",
      "Skipping fully-padded sequence\n",
      "Skipping fully-padded sequence\n",
      "Skipping fully-padded sequence\n",
      "Skipping fully-padded sequence\n",
      "Skipping fully-padded sequence\n",
      "Skipping fully-padded sequence\n",
      "Skipping fully-padded sequence\n",
      "Skipping fully-padded sequence\n",
      "Skipping fully-padded sequence\n",
      "Skipping fully-padded sequence\n",
      "Skipping fully-padded sequence\n",
      "Skipping fully-padded sequence\n",
      "Skipping fully-padded sequence\n",
      "Skipping fully-padded sequence\n",
      "Skipping fully-padded sequence\n",
      "Skipping fully-padded sequence\n",
      "Skipping fully-padded sequence\n",
      "Skipping fully-padded sequence\n",
      "Skipping fully-padded sequence\n",
      "Skipping fully-padded sequence\n",
      "Skipping fully-padded sequence\n",
      "Skipping fully-padded sequence\n",
      "Skipping fully-padded sequence\n",
      "Skipping fully-padded sequence\n",
      "Skipping fully-padded sequence\n",
      "Skipping fully-padded sequence\n",
      "Skipping fully-padded sequence\n",
      "Skipping fully-padded sequence\n",
      "Skipping fully-padded sequence\n",
      "Skipping fully-padded sequence\n",
      "Skipping fully-padded sequence\n",
      "Skipping fully-padded sequence\n",
      "Skipping fully-padded sequence\n",
      "Skipping fully-padded sequence\n",
      "Skipping fully-padded sequence\n",
      "Skipping fully-padded sequence\n",
      "Skipping fully-padded sequence\n",
      "Skipping fully-padded sequence\n",
      "Skipping fully-padded sequence\n",
      "Skipping fully-padded sequence\n",
      "Skipping fully-padded sequence\n",
      "Skipping fully-padded sequence\n",
      "Skipping fully-padded sequence\n",
      "Skipping fully-padded sequence\n",
      "Skipping fully-padded sequence\n",
      "Skipping fully-padded sequence\n",
      "Skipping fully-padded sequence\n",
      "Skipping fully-padded sequence\n",
      "Skipping fully-padded sequence\n",
      "Skipping fully-padded sequence\n",
      "Skipping fully-padded sequence\n",
      "Skipping fully-padded sequence\n",
      "Skipping fully-padded sequence\n",
      "Skipping fully-padded sequence\n",
      "Skipping fully-padded sequence\n",
      "Skipping fully-padded sequence\n",
      "Skipping fully-padded sequence\n",
      "Skipping fully-padded sequence\n",
      "Skipping fully-padded sequence\n",
      "Skipping fully-padded sequence\n",
      "Skipping fully-padded sequence\n",
      "Skipping fully-padded sequence\n",
      "Skipping fully-padded sequence\n",
      "Skipping fully-padded sequence\n",
      "Skipping fully-padded sequence\n",
      "Skipping fully-padded sequence\n",
      "Skipping fully-padded sequence\n",
      "Skipping fully-padded sequence\n",
      "Skipping fully-padded sequence\n",
      "Skipping fully-padded sequence\n",
      "Skipping fully-padded sequence\n",
      "Skipping fully-padded sequence\n",
      "Skipping fully-padded sequence\n",
      "Skipping fully-padded sequence\n",
      "Skipping fully-padded sequence\n",
      "Skipping fully-padded sequence\n",
      "Skipping fully-padded sequence\n",
      "Skipping fully-padded sequence\n",
      "Skipping fully-padded sequence\n",
      "Skipping fully-padded sequence\n",
      "Skipping fully-padded sequence\n",
      "Skipping fully-padded sequence\n",
      "Skipping fully-padded sequence\n",
      "Skipping fully-padded sequence\n",
      "Skipping fully-padded sequence\n",
      "Skipping fully-padded sequence\n",
      "Skipping fully-padded sequence\n",
      "Skipping fully-padded sequence\n",
      "Skipping fully-padded sequence\n",
      "Skipping fully-padded sequence\n",
      "Skipping fully-padded sequence\n",
      "Skipping fully-padded sequence\n",
      "Skipping fully-padded sequence\n",
      "Skipping fully-padded sequence\n",
      "Skipping fully-padded sequence\n",
      "Skipping fully-padded sequence\n",
      "Skipping fully-padded sequence\n",
      "Skipping fully-padded sequence\n",
      "Skipping fully-padded sequence\n",
      "Skipping fully-padded sequence\n",
      "Skipping fully-padded sequence\n",
      "Skipping fully-padded sequence\n",
      "Skipping fully-padded sequence\n",
      "Skipping fully-padded sequence\n",
      "Skipping fully-padded sequence\n",
      "Skipping fully-padded sequence\n",
      "Skipping fully-padded sequence\n",
      "Skipping fully-padded sequence\n",
      "Skipping fully-padded sequence\n",
      "Skipping fully-padded sequence\n",
      "Skipping fully-padded sequence\n",
      "Skipping fully-padded sequence\n",
      "Skipping fully-padded sequence\n",
      "Skipping fully-padded sequence\n",
      "Skipping fully-padded sequence\n",
      "Skipping fully-padded sequence\n",
      "Skipping fully-padded sequence\n",
      "Skipping fully-padded sequence\n",
      "Skipping fully-padded sequence\n",
      "Skipping fully-padded sequence\n",
      "Skipping fully-padded sequence\n",
      "Skipping fully-padded sequence\n",
      "Skipping fully-padded sequence\n",
      "Skipping fully-padded sequence\n",
      "Skipping fully-padded sequence\n",
      "Skipping fully-padded sequence\n",
      "Skipping fully-padded sequence\n",
      "Skipping fully-padded sequence\n",
      "Skipping fully-padded sequence\n",
      "Skipping fully-padded sequence\n",
      "Skipping fully-padded sequence\n",
      "Skipping fully-padded sequence\n",
      "Skipping fully-padded sequence\n",
      "Skipping fully-padded sequence\n",
      "Skipping fully-padded sequence\n",
      "Skipping fully-padded sequence\n",
      "Skipping fully-padded sequence\n",
      "Skipping fully-padded sequence\n",
      "Skipping fully-padded sequence\n",
      "Skipping fully-padded sequence\n",
      "Skipping fully-padded sequence\n",
      "Skipping fully-padded sequence\n",
      "Skipping fully-padded sequence\n",
      "Skipping fully-padded sequence\n",
      "Skipping fully-padded sequence\n",
      "Skipping fully-padded sequence\n",
      "Skipping fully-padded sequence\n",
      "Skipping fully-padded sequence\n",
      "Skipping fully-padded sequence\n",
      "Skipping fully-padded sequence\n",
      "Skipping fully-padded sequence\n",
      "Skipping fully-padded sequence\n",
      "Skipping fully-padded sequence\n",
      "Skipping fully-padded sequence\n",
      "Skipping fully-padded sequence\n",
      "Skipping fully-padded sequence\n",
      "Skipping fully-padded sequence\n",
      "Skipping fully-padded sequence\n",
      "Skipping fully-padded sequence\n",
      "Skipping fully-padded sequence\n",
      "Skipping fully-padded sequence\n",
      "Skipping fully-padded sequence\n",
      "Skipping fully-padded sequence\n",
      "Skipping fully-padded sequence\n",
      "Skipping fully-padded sequence\n",
      "Skipping fully-padded sequence\n",
      "Skipping fully-padded sequence\n"
     ]
    },
    {
     "ename": "RuntimeError",
     "evalue": "Caught RuntimeError in DataLoader worker process 0.\nOriginal Traceback (most recent call last):\n  File \"/home/oliver/anaconda3/envs/pytorch_env/lib/python3.9/site-packages/torch/utils/data/_utils/worker.py\", line 351, in _worker_loop\n    data = fetcher.fetch(index)  # type: ignore[possibly-undefined]\n  File \"/home/oliver/anaconda3/envs/pytorch_env/lib/python3.9/site-packages/torch/utils/data/_utils/fetch.py\", line 55, in fetch\n    return self.collate_fn(data)\n  File \"/tmp/ipykernel_2571453/381229384.py\", line 72, in collate_fn\n    features_tensor = torch.stack(features_list)  # Shape: (batch_size, seq_len, num_features)\nRuntimeError: stack expects a non-empty TensorList\n",
     "output_type": "error",
     "traceback": [
      "\u001b[0;31m---------------------------------------------------------------------------\u001b[0m",
      "\u001b[0;31mRuntimeError\u001b[0m                              Traceback (most recent call last)",
      "Cell \u001b[0;32mIn[7], line 29\u001b[0m\n\u001b[1;32m     23\u001b[0m sequence_train_loader \u001b[38;5;241m=\u001b[39m prepare_sequence_dataloader(\n\u001b[1;32m     24\u001b[0m     data_dir\u001b[38;5;241m=\u001b[39mdata_dir, data_index\u001b[38;5;241m=\u001b[39mdata_index, feature_cols\u001b[38;5;241m=\u001b[39mfeature_cols, \n\u001b[1;32m     25\u001b[0m     batch_size\u001b[38;5;241m=\u001b[39mbatch_size, mode\u001b[38;5;241m=\u001b[39m\u001b[38;5;124m\"\u001b[39m\u001b[38;5;124mtrain\u001b[39m\u001b[38;5;124m\"\u001b[39m, sequence_length\u001b[38;5;241m=\u001b[39msequence_length, overlap\u001b[38;5;241m=\u001b[39moverlap,\n\u001b[1;32m     26\u001b[0m     compute_engineered_features\u001b[38;5;241m=\u001b[39mcompute_engineered_features)\n\u001b[1;32m     28\u001b[0m \u001b[38;5;66;03m# Test the sequence dataset\u001b[39;00m\n\u001b[0;32m---> 29\u001b[0m \u001b[43mtest_sequence_dataset\u001b[49m\u001b[43m(\u001b[49m\u001b[43msequence_train_loader\u001b[49m\u001b[43m,\u001b[49m\u001b[43m \u001b[49m\u001b[43mmode\u001b[49m\u001b[38;5;241;43m=\u001b[39;49m\u001b[38;5;124;43m\"\u001b[39;49m\u001b[38;5;124;43mtrain\u001b[39;49m\u001b[38;5;124;43m\"\u001b[39;49m\u001b[43m)\u001b[49m\n",
      "Cell \u001b[0;32mIn[6], line 12\u001b[0m, in \u001b[0;36mtest_sequence_dataset\u001b[0;34m(dataloader, mode)\u001b[0m\n\u001b[1;32m      2\u001b[0m \u001b[38;5;250m\u001b[39m\u001b[38;5;124;03m\"\"\"\u001b[39;00m\n\u001b[1;32m      3\u001b[0m \u001b[38;5;124;03mTest the SequenceCMAPSSDataset and display an example output.\u001b[39;00m\n\u001b[1;32m      4\u001b[0m \n\u001b[0;32m   (...)\u001b[0m\n\u001b[1;32m      8\u001b[0m \u001b[38;5;124;03m    batch_size (int): Batch size for the DataLoader.\u001b[39;00m\n\u001b[1;32m      9\u001b[0m \u001b[38;5;124;03m\"\"\"\u001b[39;00m\n\u001b[1;32m     11\u001b[0m \u001b[38;5;66;03m# Fetch one batch\u001b[39;00m\n\u001b[0;32m---> 12\u001b[0m \u001b[38;5;28;01mfor\u001b[39;00m batch_idx, batch \u001b[38;5;129;01min\u001b[39;00m \u001b[38;5;28menumerate\u001b[39m(dataloader):\n\u001b[1;32m     13\u001b[0m     \u001b[38;5;28;01mif\u001b[39;00m mode \u001b[38;5;241m==\u001b[39m \u001b[38;5;124m\"\u001b[39m\u001b[38;5;124mtrain\u001b[39m\u001b[38;5;124m\"\u001b[39m:\n\u001b[1;32m     14\u001b[0m         sequences, targets, masks, engine_ids, _ \u001b[38;5;241m=\u001b[39m batch\n",
      "File \u001b[0;32m~/anaconda3/envs/pytorch_env/lib/python3.9/site-packages/torch/utils/data/dataloader.py:701\u001b[0m, in \u001b[0;36m_BaseDataLoaderIter.__next__\u001b[0;34m(self)\u001b[0m\n\u001b[1;32m    698\u001b[0m \u001b[38;5;28;01mif\u001b[39;00m \u001b[38;5;28mself\u001b[39m\u001b[38;5;241m.\u001b[39m_sampler_iter \u001b[38;5;129;01mis\u001b[39;00m \u001b[38;5;28;01mNone\u001b[39;00m:\n\u001b[1;32m    699\u001b[0m     \u001b[38;5;66;03m# TODO(https://github.com/pytorch/pytorch/issues/76750)\u001b[39;00m\n\u001b[1;32m    700\u001b[0m     \u001b[38;5;28mself\u001b[39m\u001b[38;5;241m.\u001b[39m_reset()  \u001b[38;5;66;03m# type: ignore[call-arg]\u001b[39;00m\n\u001b[0;32m--> 701\u001b[0m data \u001b[38;5;241m=\u001b[39m \u001b[38;5;28;43mself\u001b[39;49m\u001b[38;5;241;43m.\u001b[39;49m\u001b[43m_next_data\u001b[49m\u001b[43m(\u001b[49m\u001b[43m)\u001b[49m\n\u001b[1;32m    702\u001b[0m \u001b[38;5;28mself\u001b[39m\u001b[38;5;241m.\u001b[39m_num_yielded \u001b[38;5;241m+\u001b[39m\u001b[38;5;241m=\u001b[39m \u001b[38;5;241m1\u001b[39m\n\u001b[1;32m    703\u001b[0m \u001b[38;5;28;01mif\u001b[39;00m (\n\u001b[1;32m    704\u001b[0m     \u001b[38;5;28mself\u001b[39m\u001b[38;5;241m.\u001b[39m_dataset_kind \u001b[38;5;241m==\u001b[39m _DatasetKind\u001b[38;5;241m.\u001b[39mIterable\n\u001b[1;32m    705\u001b[0m     \u001b[38;5;129;01mand\u001b[39;00m \u001b[38;5;28mself\u001b[39m\u001b[38;5;241m.\u001b[39m_IterableDataset_len_called \u001b[38;5;129;01mis\u001b[39;00m \u001b[38;5;129;01mnot\u001b[39;00m \u001b[38;5;28;01mNone\u001b[39;00m\n\u001b[1;32m    706\u001b[0m     \u001b[38;5;129;01mand\u001b[39;00m \u001b[38;5;28mself\u001b[39m\u001b[38;5;241m.\u001b[39m_num_yielded \u001b[38;5;241m>\u001b[39m \u001b[38;5;28mself\u001b[39m\u001b[38;5;241m.\u001b[39m_IterableDataset_len_called\n\u001b[1;32m    707\u001b[0m ):\n",
      "File \u001b[0;32m~/anaconda3/envs/pytorch_env/lib/python3.9/site-packages/torch/utils/data/dataloader.py:1465\u001b[0m, in \u001b[0;36m_MultiProcessingDataLoaderIter._next_data\u001b[0;34m(self)\u001b[0m\n\u001b[1;32m   1463\u001b[0m \u001b[38;5;28;01melse\u001b[39;00m:\n\u001b[1;32m   1464\u001b[0m     \u001b[38;5;28;01mdel\u001b[39;00m \u001b[38;5;28mself\u001b[39m\u001b[38;5;241m.\u001b[39m_task_info[idx]\n\u001b[0;32m-> 1465\u001b[0m     \u001b[38;5;28;01mreturn\u001b[39;00m \u001b[38;5;28;43mself\u001b[39;49m\u001b[38;5;241;43m.\u001b[39;49m\u001b[43m_process_data\u001b[49m\u001b[43m(\u001b[49m\u001b[43mdata\u001b[49m\u001b[43m)\u001b[49m\n",
      "File \u001b[0;32m~/anaconda3/envs/pytorch_env/lib/python3.9/site-packages/torch/utils/data/dataloader.py:1491\u001b[0m, in \u001b[0;36m_MultiProcessingDataLoaderIter._process_data\u001b[0;34m(self, data)\u001b[0m\n\u001b[1;32m   1489\u001b[0m \u001b[38;5;28mself\u001b[39m\u001b[38;5;241m.\u001b[39m_try_put_index()\n\u001b[1;32m   1490\u001b[0m \u001b[38;5;28;01mif\u001b[39;00m \u001b[38;5;28misinstance\u001b[39m(data, ExceptionWrapper):\n\u001b[0;32m-> 1491\u001b[0m     \u001b[43mdata\u001b[49m\u001b[38;5;241;43m.\u001b[39;49m\u001b[43mreraise\u001b[49m\u001b[43m(\u001b[49m\u001b[43m)\u001b[49m\n\u001b[1;32m   1492\u001b[0m \u001b[38;5;28;01mreturn\u001b[39;00m data\n",
      "File \u001b[0;32m~/anaconda3/envs/pytorch_env/lib/python3.9/site-packages/torch/_utils.py:715\u001b[0m, in \u001b[0;36mExceptionWrapper.reraise\u001b[0;34m(self)\u001b[0m\n\u001b[1;32m    711\u001b[0m \u001b[38;5;28;01mexcept\u001b[39;00m \u001b[38;5;167;01mTypeError\u001b[39;00m:\n\u001b[1;32m    712\u001b[0m     \u001b[38;5;66;03m# If the exception takes multiple arguments, don't try to\u001b[39;00m\n\u001b[1;32m    713\u001b[0m     \u001b[38;5;66;03m# instantiate since we don't know how to\u001b[39;00m\n\u001b[1;32m    714\u001b[0m     \u001b[38;5;28;01mraise\u001b[39;00m \u001b[38;5;167;01mRuntimeError\u001b[39;00m(msg) \u001b[38;5;28;01mfrom\u001b[39;00m \u001b[38;5;28;01mNone\u001b[39;00m\n\u001b[0;32m--> 715\u001b[0m \u001b[38;5;28;01mraise\u001b[39;00m exception\n",
      "\u001b[0;31mRuntimeError\u001b[0m: Caught RuntimeError in DataLoader worker process 0.\nOriginal Traceback (most recent call last):\n  File \"/home/oliver/anaconda3/envs/pytorch_env/lib/python3.9/site-packages/torch/utils/data/_utils/worker.py\", line 351, in _worker_loop\n    data = fetcher.fetch(index)  # type: ignore[possibly-undefined]\n  File \"/home/oliver/anaconda3/envs/pytorch_env/lib/python3.9/site-packages/torch/utils/data/_utils/fetch.py\", line 55, in fetch\n    return self.collate_fn(data)\n  File \"/tmp/ipykernel_2571453/381229384.py\", line 72, in collate_fn\n    features_tensor = torch.stack(features_list)  # Shape: (batch_size, seq_len, num_features)\nRuntimeError: stack expects a non-empty TensorList\n"
     ]
    }
   ],
   "source": [
    "import pandas as pd\n",
    "\n",
    "# Set up paths and features\n",
    "data_dir = \"data/CMAPSSData\"\n",
    "data_index = 1  # Choose FD001, FD002, etc.\n",
    "\n",
    "compute_engineered_features = True # deactivated for this notebook\n",
    "sequence_length = 30\n",
    "batch_size = 512\n",
    "overlap = 0\n",
    "\n",
    "train_data = pd.read_csv(\"./data/CMAPSSData/train_FD001.txt\", sep=r'\\s+', header=None)\n",
    "train_data.columns = ['engine_id', 'cycle'] + [f'os_{i+1}' for i in range(3)] + [f'sensor_{i}' for i in range(1, 22)]\n",
    "\n",
    "feature_cols = [f'os_{i+1}' for i in range(3)] + [f'sensor_{i}' for i in range(1, 22)]\n",
    "\n",
    "constant_cols = train_data[feature_cols].nunique()\n",
    "constant_cols = constant_cols[constant_cols == 1]\n",
    "\n",
    "feature_cols = [col for col in feature_cols if col not in constant_cols.index.tolist()]\n",
    "\n",
    "# Prepare DataLoader\n",
    "sequence_train_loader = prepare_sequence_dataloader(\n",
    "    data_dir=data_dir, data_index=data_index, feature_cols=feature_cols, \n",
    "    batch_size=batch_size, mode=\"train\", sequence_length=sequence_length, overlap=overlap,\n",
    "    compute_engineered_features=compute_engineered_features)\n",
    "\n",
    "# Test the sequence dataset\n",
    "test_sequence_dataset(sequence_train_loader, mode=\"train\")"
   ]
  },
  {
   "cell_type": "markdown",
   "metadata": {},
   "source": [
    "## The code for the grouped k-fold approach:\n",
    "See explanations in previous notebook."
   ]
  },
  {
   "cell_type": "code",
   "execution_count": 34,
   "metadata": {},
   "outputs": [],
   "source": [
    "from sklearn.model_selection import GroupKFold\n",
    "from torch.utils.data import DataLoader\n",
    "\n",
    "# Function to implement Group k-Fold with your custom dataset\n",
    "def prepare_kfold_cross_validation_loaders(original_dataset, sequence_length, overlap, n_splits=5, batch_size=32):\n",
    "    \"\"\"\n",
    "    Implements Group k-Fold Cross-Validation for the CMAPSS dataset.\n",
    "    \n",
    "    Args:\n",
    "        original_dataset (CMAPSSDataset): The original dataset instance.\n",
    "        sequence_length (int): Length of each sequence.\n",
    "        overlap (int): Overlap between sequences.\n",
    "        n_splits (int): Number of folds for cross-validation.\n",
    "        batch_size (int): Batch size for the DataLoader.\n",
    "    \n",
    "    Returns:\n",
    "        List[Tuple[DataLoader, DataLoader]]: Training and validation DataLoaders for each fold.\n",
    "    \"\"\"\n",
    "\n",
    "    mode = \"train\"\n",
    "\n",
    "    # Define a custom collate function for masking the sequences\n",
    "    def collate_fn(batch):\n",
    "        \"\"\"\n",
    "        Custom collate function to handle padding and masking.\n",
    "        \n",
    "        Args:\n",
    "            batch (list): List of tuples (features, target, engine_id, cycles).\n",
    "            \n",
    "        Returns:\n",
    "            tuple: Features tensor, target tensor (if train mode), attention mask, and other meta info.\n",
    "        \"\"\"\n",
    "        features_list, targets_list, masks_list, engine_ids, cycles_list = [], [], [], [], []\n",
    "        \n",
    "        for sample in batch:\n",
    "            features, target, engine_id, cycles = sample\n",
    "            \n",
    "            # Identify padded timesteps (assumes padding is all-zero rows)\n",
    "            mask = (features.sum(dim=-1) != 0)  # True for real timesteps, False for padded\n",
    "            \n",
    "            if mask.sum() < mask.size(0):  # Skip fully-padded sequences\n",
    "                features_list.append(features)\n",
    "                masks_list.append(mask)\n",
    "                engine_ids.append(engine_id)\n",
    "                cycles_list.append(cycles)\n",
    "            else:\n",
    "                print(\"Skipping fully-padded sequence.\")\n",
    "                continue\n",
    "            \n",
    "            # Add target only in train mode\n",
    "            if mode == \"train\":\n",
    "                targets_list.append(target)\n",
    "\n",
    "        # Stack features and masks\n",
    "        features_tensor = torch.stack(features_list)  # Shape: (batch_size, seq_len, num_features)\n",
    "        masks_tensor = torch.stack(masks_list)        # Shape: (batch_size, seq_len)\n",
    "        cycles_tensor = torch.stack(cycles_list)      # Shape: (batch_size, seq_len)\n",
    "        \n",
    "        # Handle train and test modes\n",
    "        if mode == \"train\":\n",
    "            targets_tensor = torch.stack(targets_list)  # Shape: (batch_size,)\n",
    "            return features_tensor, targets_tensor, masks_tensor, engine_ids, cycles_tensor\n",
    "        else:\n",
    "            return features_tensor, masks_tensor, engine_ids, cycles_tensor\n",
    "\n",
    "    # Extract engine IDs and features for grouping\n",
    "    engine_ids = original_dataset.data['engine_id'].values\n",
    "    features = original_dataset.data[original_dataset.feature_cols].values\n",
    "    targets = original_dataset.data['RUL'].values\n",
    "\n",
    "    # Initialize GroupKFold\n",
    "    group_kfold = GroupKFold(n_splits=n_splits)\n",
    "\n",
    "    fold_loaders = []  # Store DataLoaders for each fold\n",
    "\n",
    "    # Perform Group k-Fold split (features and targets are not directly used for the split)\n",
    "    for fold, (train_idx, val_idx) in enumerate(group_kfold.split(features, targets, groups=engine_ids)):\n",
    "        print(f\"Fold {fold + 1}/{n_splits}\")\n",
    "        \n",
    "        # Create train and validation datasets\n",
    "        train_data = original_dataset.data.iloc[train_idx]\n",
    "        val_data = original_dataset.data.iloc[val_idx]\n",
    "\n",
    "        train_dataset = SequenceCMAPSSDataset(\n",
    "            dataset=CMAPSSDatasetSubset(train_data, original_dataset.feature_cols, mode=\"train\"),\n",
    "            sequence_length=sequence_length,\n",
    "            overlap=overlap\n",
    "        )\n",
    "\n",
    "        val_dataset = SequenceCMAPSSDataset(\n",
    "            dataset=CMAPSSDatasetSubset(val_data, original_dataset.feature_cols, mode=\"train\"),\n",
    "            sequence_length=sequence_length,\n",
    "            overlap=overlap\n",
    "        )\n",
    "\n",
    "        # Create DataLoaders\n",
    "        train_loader = DataLoader(train_dataset, batch_size=batch_size, shuffle=False, num_workers=8, collate_fn=collate_fn)\n",
    "        val_loader = DataLoader(val_dataset, batch_size=batch_size, shuffle=False, num_workers=8, collate_fn=collate_fn)\n",
    "\n",
    "        fold_loaders.append((train_loader, val_loader))\n",
    "    \n",
    "    return fold_loaders\n",
    "\n",
    "# Helper class to create a subset of the CMAPSSDataset\n",
    "class CMAPSSDatasetSubset(CMAPSSDataset):\n",
    "    def __init__(self, data_subset, feature_cols, mode):\n",
    "        \"\"\"\n",
    "        Creates a subset of the CMAPSSDataset using the provided data.\n",
    "\n",
    "        Args:\n",
    "            data_subset (pd.DataFrame): Subset of the original dataset.\n",
    "            feature_cols (list): List of feature columns to include.\n",
    "            mode (str): Mode of the dataset, \"train\" or \"test\".\n",
    "        \"\"\"\n",
    "        self.data = data_subset\n",
    "        self.feature_cols = feature_cols\n",
    "        self.mode = mode\n"
   ]
  },
  {
   "cell_type": "code",
   "execution_count": null,
   "metadata": {},
   "outputs": [
    {
     "name": "stdout",
     "output_type": "stream",
     "text": [
      "Fold 1/5\n",
      "Fold 2/5\n",
      "Fold 3/5\n",
      "Fold 4/5\n",
      "Fold 5/5\n",
      "Fold 1\n",
      "  Number of training sequences: 503\n"
     ]
    },
    {
     "name": "stderr",
     "output_type": "stream",
     "text": [
      "Exception ignored in: <function _MultiProcessingDataLoaderIter.__del__ at 0x7fc8f1357940><function _MultiProcessingDataLoaderIter.__del__ at 0x7fc8f1357940>\n",
      "Exception ignored in: Exception ignored in: <function _ConnectionBase.__del__ at 0x7fc79b518790>\n",
      "Traceback (most recent call last):\n",
      "  File \"/home/oliver/anaconda3/envs/pytorch_env/lib/python3.9/multiprocessing/connection.py\", line 132, in __del__\n",
      "    self._close()\n",
      "  File \"/home/oliver/anaconda3/envs/pytorch_env/lib/python3.9/multiprocessing/connection.py\", line 361, in _close\n",
      "    _close(self._handle)\n",
      "OSError: [Errno 9] Bad file descriptor\n",
      "Traceback (most recent call last):\n",
      "  File \"/home/oliver/anaconda3/envs/pytorch_env/lib/python3.9/multiprocessing/queues.py\", line 239, in _feed\n",
      "    reader_close()\n",
      "  File \"/home/oliver/anaconda3/envs/pytorch_env/lib/python3.9/multiprocessing/connection.py\", line 177, in close\n",
      "    self._close()\n",
      "  File \"/home/oliver/anaconda3/envs/pytorch_env/lib/python3.9/multiprocessing/connection.py\", line 361, in _close\n",
      "    _close(self._handle)\n",
      "OSError: [Errno 9] Bad file descriptor\n",
      "Traceback (most recent call last):\n",
      "  File \"/home/oliver/anaconda3/envs/pytorch_env/lib/python3.9/multiprocessing/queues.py\", line 239, in _feed\n",
      "    reader_close()\n",
      "  File \"/home/oliver/anaconda3/envs/pytorch_env/lib/python3.9/multiprocessing/connection.py\", line 177, in close\n",
      "    self._close()\n",
      "  File \"/home/oliver/anaconda3/envs/pytorch_env/lib/python3.9/multiprocessing/connection.py\", line 361, in _close\n",
      "    _close(self._handle)\n",
      "OSError: [Errno 9] Bad file descriptor\n",
      "\n",
      "Traceback (most recent call last):\n",
      "Traceback (most recent call last):\n",
      "<function _MultiProcessingDataLoaderIter.__del__ at 0x7fc8f1357940>  File \"/home/oliver/anaconda3/envs/pytorch_env/lib/python3.9/site-packages/torch/utils/data/dataloader.py\", line 1604, in __del__\n",
      "  File \"/home/oliver/anaconda3/envs/pytorch_env/lib/python3.9/site-packages/torch/utils/data/dataloader.py\", line 1604, in __del__\n",
      "    \n",
      "Exception ignored in:     self._shutdown_workers()Traceback (most recent call last):\n",
      "self._shutdown_workers()<function _MultiProcessingDataLoaderIter.__del__ at 0x7fc8f1357940>\n",
      "  File \"/home/oliver/anaconda3/envs/pytorch_env/lib/python3.9/site-packages/torch/utils/data/dataloader.py\", line 1604, in __del__\n",
      "\n",
      "\n",
      "Exception ignored in:   File \"/home/oliver/anaconda3/envs/pytorch_env/lib/python3.9/site-packages/torch/utils/data/dataloader.py\", line 1587, in _shutdown_workers\n",
      "Exception ignored in:       File \"/home/oliver/anaconda3/envs/pytorch_env/lib/python3.9/site-packages/torch/utils/data/dataloader.py\", line 1587, in _shutdown_workers\n",
      "Traceback (most recent call last):\n",
      "<function _MultiProcessingDataLoaderIter.__del__ at 0x7fc8f1357940>    self._shutdown_workers()<function _MultiProcessingDataLoaderIter.__del__ at 0x7fc8f1357940>  File \"/home/oliver/anaconda3/envs/pytorch_env/lib/python3.9/site-packages/torch/utils/data/dataloader.py\", line 1604, in __del__\n",
      "\n",
      "    if w.is_alive():\n",
      "\n",
      "Exception ignored in:     Traceback (most recent call last):\n",
      "  File \"/home/oliver/anaconda3/envs/pytorch_env/lib/python3.9/site-packages/torch/utils/data/dataloader.py\", line 1587, in _shutdown_workers\n",
      "if w.is_alive():Traceback (most recent call last):\n",
      "\n",
      "<function _MultiProcessingDataLoaderIter.__del__ at 0x7fc8f1357940>  File \"/home/oliver/anaconda3/envs/pytorch_env/lib/python3.9/site-packages/torch/utils/data/dataloader.py\", line 1604, in __del__\n",
      "self._shutdown_workers()  File \"/home/oliver/anaconda3/envs/pytorch_env/lib/python3.9/site-packages/torch/utils/data/dataloader.py\", line 1604, in __del__\n",
      "\n",
      "      File \"/home/oliver/anaconda3/envs/pytorch_env/lib/python3.9/multiprocessing/process.py\", line 160, in is_alive\n",
      "\n",
      "\n",
      "  File \"/home/oliver/anaconda3/envs/pytorch_env/lib/python3.9/multiprocessing/process.py\", line 160, in is_alive\n",
      "            if w.is_alive():Traceback (most recent call last):\n",
      "  File \"/home/oliver/anaconda3/envs/pytorch_env/lib/python3.9/site-packages/torch/utils/data/dataloader.py\", line 1587, in _shutdown_workers\n",
      "    self._shutdown_workers()assert self._parent_pid == os.getpid(), 'can only test a child process'\n",
      "self._shutdown_workers()  File \"/home/oliver/anaconda3/envs/pytorch_env/lib/python3.9/site-packages/torch/utils/data/dataloader.py\", line 1604, in __del__\n",
      "assert self._parent_pid == os.getpid(), 'can only test a child process'\n",
      "  File \"/home/oliver/anaconda3/envs/pytorch_env/lib/python3.9/multiprocessing/process.py\", line 160, in is_alive\n",
      "\n",
      "    \n",
      "\n",
      "  File \"/home/oliver/anaconda3/envs/pytorch_env/lib/python3.9/site-packages/torch/utils/data/dataloader.py\", line 1587, in _shutdown_workers\n",
      "    Exception ignored in:     AssertionError  File \"/home/oliver/anaconda3/envs/pytorch_env/lib/python3.9/site-packages/torch/utils/data/dataloader.py\", line 1587, in _shutdown_workers\n",
      "if w.is_alive():AssertionError\n",
      ":     self._shutdown_workers()<function _MultiProcessingDataLoaderIter.__del__ at 0x7fc8f1357940>assert self._parent_pid == os.getpid(), 'can only test a child process':       File \"/home/oliver/anaconda3/envs/pytorch_env/lib/python3.9/multiprocessing/process.py\", line 160, in is_alive\n",
      "can only test a child processif w.is_alive():\n",
      "\n",
      "\n",
      "can only test a child process    \n",
      "if w.is_alive():\n",
      "Traceback (most recent call last):\n",
      "  File \"/home/oliver/anaconda3/envs/pytorch_env/lib/python3.9/site-packages/torch/utils/data/dataloader.py\", line 1587, in _shutdown_workers\n",
      "\n",
      "AssertionError\n",
      "assert self._parent_pid == os.getpid(), 'can only test a child process'  File \"/home/oliver/anaconda3/envs/pytorch_env/lib/python3.9/multiprocessing/process.py\", line 160, in is_alive\n",
      "  File \"/home/oliver/anaconda3/envs/pytorch_env/lib/python3.9/site-packages/torch/utils/data/dataloader.py\", line 1604, in __del__\n",
      "    :   File \"/home/oliver/anaconda3/envs/pytorch_env/lib/python3.9/multiprocessing/process.py\", line 160, in is_alive\n",
      "\n",
      "        if w.is_alive():can only test a child processassert self._parent_pid == os.getpid(), 'can only test a child process'self._shutdown_workers()\n",
      "\n",
      "\n",
      "    \n",
      "AssertionErrorAssertionError:   File \"/home/oliver/anaconda3/envs/pytorch_env/lib/python3.9/multiprocessing/process.py\", line 160, in is_alive\n",
      ": assert self._parent_pid == os.getpid(), 'can only test a child process'  File \"/home/oliver/anaconda3/envs/pytorch_env/lib/python3.9/site-packages/torch/utils/data/dataloader.py\", line 1587, in _shutdown_workers\n",
      "can only test a child process    can only test a child process\n",
      "\n",
      "assert self._parent_pid == os.getpid(), 'can only test a child process'\n",
      "    AssertionError\n",
      "if w.is_alive():: AssertionErrorcan only test a child process: \n",
      "  File \"/home/oliver/anaconda3/envs/pytorch_env/lib/python3.9/multiprocessing/process.py\", line 160, in is_alive\n",
      "can only test a child process\n",
      "\n",
      "    assert self._parent_pid == os.getpid(), 'can only test a child process'\n",
      "AssertionError: can only test a child process\n",
      "Traceback (most recent call last):\n",
      "Traceback (most recent call last):\n",
      "Traceback (most recent call last):\n",
      "Traceback (most recent call last):\n",
      "  File \"/home/oliver/anaconda3/envs/pytorch_env/lib/python3.9/multiprocessing/queues.py\", line 239, in _feed\n",
      "    reader_close()\n",
      "Traceback (most recent call last):\n",
      "Traceback (most recent call last):\n",
      "Traceback (most recent call last):\n",
      "Traceback (most recent call last):\n",
      "Traceback (most recent call last):\n",
      "Traceback (most recent call last):\n",
      "Traceback (most recent call last):\n",
      "  File \"/home/oliver/anaconda3/envs/pytorch_env/lib/python3.9/multiprocessing/queues.py\", line 239, in _feed\n",
      "    reader_close()\n",
      "Traceback (most recent call last):\n",
      "Traceback (most recent call last):\n",
      "Traceback (most recent call last):\n",
      "Traceback (most recent call last):\n",
      "Traceback (most recent call last):\n",
      "  File \"/home/oliver/anaconda3/envs/pytorch_env/lib/python3.9/multiprocessing/connection.py\", line 177, in close\n",
      "    self._close()\n",
      "Traceback (most recent call last):\n",
      "  File \"/home/oliver/anaconda3/envs/pytorch_env/lib/python3.9/multiprocessing/queues.py\", line 239, in _feed\n",
      "    reader_close()\n",
      "Traceback (most recent call last):\n",
      "  File \"/home/oliver/anaconda3/envs/pytorch_env/lib/python3.9/multiprocessing/queues.py\", line 239, in _feed\n",
      "    reader_close()\n",
      "Traceback (most recent call last):\n",
      "Traceback (most recent call last):\n",
      "Traceback (most recent call last):\n",
      "Traceback (most recent call last):\n",
      "Traceback (most recent call last):\n",
      "Traceback (most recent call last):\n",
      "Traceback (most recent call last):\n",
      "Traceback (most recent call last):\n",
      "  File \"/home/oliver/anaconda3/envs/pytorch_env/lib/python3.9/multiprocessing/queues.py\", line 239, in _feed\n",
      "    reader_close()\n",
      "Traceback (most recent call last):\n",
      "Traceback (most recent call last):\n",
      "Traceback (most recent call last):\n",
      "  File \"/home/oliver/anaconda3/envs/pytorch_env/lib/python3.9/multiprocessing/queues.py\", line 239, in _feed\n",
      "    reader_close()\n",
      "  File \"/home/oliver/anaconda3/envs/pytorch_env/lib/python3.9/multiprocessing/queues.py\", line 239, in _feed\n",
      "    reader_close()\n",
      "  File \"/home/oliver/anaconda3/envs/pytorch_env/lib/python3.9/multiprocessing/queues.py\", line 239, in _feed\n",
      "    reader_close()\n",
      "  File \"/home/oliver/anaconda3/envs/pytorch_env/lib/python3.9/multiprocessing/queues.py\", line 239, in _feed\n",
      "    reader_close()\n",
      "Traceback (most recent call last):\n",
      "  File \"/home/oliver/anaconda3/envs/pytorch_env/lib/python3.9/multiprocessing/queues.py\", line 239, in _feed\n",
      "    reader_close()\n",
      "Traceback (most recent call last):\n",
      "  File \"/home/oliver/anaconda3/envs/pytorch_env/lib/python3.9/multiprocessing/connection.py\", line 361, in _close\n",
      "    _close(self._handle)\n",
      "Traceback (most recent call last):\n",
      "  File \"/home/oliver/anaconda3/envs/pytorch_env/lib/python3.9/multiprocessing/connection.py\", line 177, in close\n",
      "    self._close()\n",
      "  File \"/home/oliver/anaconda3/envs/pytorch_env/lib/python3.9/multiprocessing/connection.py\", line 177, in close\n",
      "    self._close()\n",
      "  File \"/home/oliver/anaconda3/envs/pytorch_env/lib/python3.9/multiprocessing/connection.py\", line 177, in close\n",
      "    self._close()\n",
      "Traceback (most recent call last):\n",
      "Traceback (most recent call last):\n",
      "  File \"/home/oliver/anaconda3/envs/pytorch_env/lib/python3.9/multiprocessing/queues.py\", line 239, in _feed\n",
      "    reader_close()\n",
      "Traceback (most recent call last):\n",
      "  File \"/home/oliver/anaconda3/envs/pytorch_env/lib/python3.9/multiprocessing/queues.py\", line 239, in _feed\n",
      "    reader_close()\n",
      "  File \"/home/oliver/anaconda3/envs/pytorch_env/lib/python3.9/multiprocessing/queues.py\", line 239, in _feed\n",
      "    reader_close()\n",
      "  File \"/home/oliver/anaconda3/envs/pytorch_env/lib/python3.9/multiprocessing/queues.py\", line 239, in _feed\n",
      "    reader_close()\n",
      "  File \"/home/oliver/anaconda3/envs/pytorch_env/lib/python3.9/multiprocessing/queues.py\", line 239, in _feed\n",
      "    reader_close()\n",
      "  File \"/home/oliver/anaconda3/envs/pytorch_env/lib/python3.9/multiprocessing/queues.py\", line 239, in _feed\n",
      "    reader_close()\n",
      "  File \"/home/oliver/anaconda3/envs/pytorch_env/lib/python3.9/multiprocessing/queues.py\", line 239, in _feed\n",
      "    reader_close()\n",
      "Traceback (most recent call last):\n",
      "Traceback (most recent call last):\n",
      "  File \"/home/oliver/anaconda3/envs/pytorch_env/lib/python3.9/multiprocessing/queues.py\", line 239, in _feed\n",
      "    reader_close()\n",
      "Traceback (most recent call last):\n",
      "Traceback (most recent call last):\n",
      "  File \"/home/oliver/anaconda3/envs/pytorch_env/lib/python3.9/multiprocessing/queues.py\", line 239, in _feed\n",
      "    reader_close()\n",
      "  File \"/home/oliver/anaconda3/envs/pytorch_env/lib/python3.9/multiprocessing/queues.py\", line 239, in _feed\n",
      "    reader_close()\n",
      "Traceback (most recent call last):\n",
      "  File \"/home/oliver/anaconda3/envs/pytorch_env/lib/python3.9/multiprocessing/queues.py\", line 239, in _feed\n",
      "    reader_close()\n",
      "  File \"/home/oliver/anaconda3/envs/pytorch_env/lib/python3.9/multiprocessing/connection.py\", line 177, in close\n",
      "    self._close()\n",
      "  File \"/home/oliver/anaconda3/envs/pytorch_env/lib/python3.9/multiprocessing/queues.py\", line 239, in _feed\n",
      "    reader_close()\n",
      "  File \"/home/oliver/anaconda3/envs/pytorch_env/lib/python3.9/multiprocessing/queues.py\", line 239, in _feed\n",
      "    reader_close()\n",
      "  File \"/home/oliver/anaconda3/envs/pytorch_env/lib/python3.9/multiprocessing/connection.py\", line 177, in close\n",
      "    self._close()\n",
      "Traceback (most recent call last):\n",
      "  File \"/home/oliver/anaconda3/envs/pytorch_env/lib/python3.9/multiprocessing/connection.py\", line 177, in close\n",
      "    self._close()\n",
      "  File \"/home/oliver/anaconda3/envs/pytorch_env/lib/python3.9/multiprocessing/connection.py\", line 361, in _close\n",
      "    _close(self._handle)\n",
      "  File \"/home/oliver/anaconda3/envs/pytorch_env/lib/python3.9/multiprocessing/queues.py\", line 239, in _feed\n",
      "    reader_close()\n",
      "  File \"/home/oliver/anaconda3/envs/pytorch_env/lib/python3.9/multiprocessing/connection.py\", line 361, in _close\n",
      "    _close(self._handle)\n",
      "  File \"/home/oliver/anaconda3/envs/pytorch_env/lib/python3.9/multiprocessing/queues.py\", line 239, in _feed\n",
      "    reader_close()\n",
      "  File \"/home/oliver/anaconda3/envs/pytorch_env/lib/python3.9/multiprocessing/queues.py\", line 239, in _feed\n",
      "    reader_close()\n",
      "Traceback (most recent call last):\n",
      "  File \"/home/oliver/anaconda3/envs/pytorch_env/lib/python3.9/multiprocessing/queues.py\", line 239, in _feed\n",
      "    reader_close()\n",
      "  File \"/home/oliver/anaconda3/envs/pytorch_env/lib/python3.9/multiprocessing/queues.py\", line 239, in _feed\n",
      "    reader_close()\n",
      "Traceback (most recent call last):\n",
      "  File \"/home/oliver/anaconda3/envs/pytorch_env/lib/python3.9/multiprocessing/queues.py\", line 239, in _feed\n",
      "    reader_close()\n",
      "Traceback (most recent call last):\n",
      "Traceback (most recent call last):\n",
      "  File \"/home/oliver/anaconda3/envs/pytorch_env/lib/python3.9/multiprocessing/queues.py\", line 239, in _feed\n",
      "    reader_close()\n",
      "  File \"/home/oliver/anaconda3/envs/pytorch_env/lib/python3.9/multiprocessing/queues.py\", line 239, in _feed\n",
      "    reader_close()\n",
      "Traceback (most recent call last):\n",
      "  File \"/home/oliver/anaconda3/envs/pytorch_env/lib/python3.9/multiprocessing/queues.py\", line 239, in _feed\n",
      "    reader_close()\n",
      "  File \"/home/oliver/anaconda3/envs/pytorch_env/lib/python3.9/multiprocessing/connection.py\", line 177, in close\n",
      "    self._close()\n"
     ]
    },
    {
     "ename": "KeyboardInterrupt",
     "evalue": "",
     "output_type": "error",
     "traceback": [
      "\u001b[0;31m---------------------------------------------------------------------------\u001b[0m",
      "\u001b[0;31mKeyboardInterrupt\u001b[0m                         Traceback (most recent call last)",
      "Cell \u001b[0;32mIn[36], line 32\u001b[0m\n\u001b[1;32m     30\u001b[0m \u001b[38;5;66;03m# Training DataLoader\u001b[39;00m\n\u001b[1;32m     31\u001b[0m \u001b[38;5;28mprint\u001b[39m(\u001b[38;5;124mf\u001b[39m\u001b[38;5;124m\"\u001b[39m\u001b[38;5;124m  Number of training sequences: \u001b[39m\u001b[38;5;132;01m{\u001b[39;00m\u001b[38;5;28mlen\u001b[39m(train_loader\u001b[38;5;241m.\u001b[39mdataset)\u001b[38;5;132;01m}\u001b[39;00m\u001b[38;5;124m\"\u001b[39m)\n\u001b[0;32m---> 32\u001b[0m first_train_item \u001b[38;5;241m=\u001b[39m \u001b[38;5;28;43mnext\u001b[39;49m\u001b[43m(\u001b[49m\u001b[38;5;28;43miter\u001b[39;49m\u001b[43m(\u001b[49m\u001b[43mtrain_loader\u001b[49m\u001b[43m)\u001b[49m\u001b[43m)\u001b[49m\n\u001b[1;32m     33\u001b[0m train_features, train_targets, train_masks, train_engine_ids, cycles \u001b[38;5;241m=\u001b[39m first_train_item\n\u001b[1;32m     34\u001b[0m \u001b[38;5;28mprint\u001b[39m(\u001b[38;5;124mf\u001b[39m\u001b[38;5;124m\"\u001b[39m\u001b[38;5;124m  Training Features Shape: \u001b[39m\u001b[38;5;132;01m{\u001b[39;00mtrain_features\u001b[38;5;241m.\u001b[39mshape\u001b[38;5;132;01m}\u001b[39;00m\u001b[38;5;124m\"\u001b[39m)\n",
      "File \u001b[0;32m~/anaconda3/envs/pytorch_env/lib/python3.9/site-packages/torch/utils/data/dataloader.py:701\u001b[0m, in \u001b[0;36m_BaseDataLoaderIter.__next__\u001b[0;34m(self)\u001b[0m\n\u001b[1;32m    698\u001b[0m \u001b[38;5;28;01mif\u001b[39;00m \u001b[38;5;28mself\u001b[39m\u001b[38;5;241m.\u001b[39m_sampler_iter \u001b[38;5;129;01mis\u001b[39;00m \u001b[38;5;28;01mNone\u001b[39;00m:\n\u001b[1;32m    699\u001b[0m     \u001b[38;5;66;03m# TODO(https://github.com/pytorch/pytorch/issues/76750)\u001b[39;00m\n\u001b[1;32m    700\u001b[0m     \u001b[38;5;28mself\u001b[39m\u001b[38;5;241m.\u001b[39m_reset()  \u001b[38;5;66;03m# type: ignore[call-arg]\u001b[39;00m\n\u001b[0;32m--> 701\u001b[0m data \u001b[38;5;241m=\u001b[39m \u001b[38;5;28;43mself\u001b[39;49m\u001b[38;5;241;43m.\u001b[39;49m\u001b[43m_next_data\u001b[49m\u001b[43m(\u001b[49m\u001b[43m)\u001b[49m\n\u001b[1;32m    702\u001b[0m \u001b[38;5;28mself\u001b[39m\u001b[38;5;241m.\u001b[39m_num_yielded \u001b[38;5;241m+\u001b[39m\u001b[38;5;241m=\u001b[39m \u001b[38;5;241m1\u001b[39m\n\u001b[1;32m    703\u001b[0m \u001b[38;5;28;01mif\u001b[39;00m (\n\u001b[1;32m    704\u001b[0m     \u001b[38;5;28mself\u001b[39m\u001b[38;5;241m.\u001b[39m_dataset_kind \u001b[38;5;241m==\u001b[39m _DatasetKind\u001b[38;5;241m.\u001b[39mIterable\n\u001b[1;32m    705\u001b[0m     \u001b[38;5;129;01mand\u001b[39;00m \u001b[38;5;28mself\u001b[39m\u001b[38;5;241m.\u001b[39m_IterableDataset_len_called \u001b[38;5;129;01mis\u001b[39;00m \u001b[38;5;129;01mnot\u001b[39;00m \u001b[38;5;28;01mNone\u001b[39;00m\n\u001b[1;32m    706\u001b[0m     \u001b[38;5;129;01mand\u001b[39;00m \u001b[38;5;28mself\u001b[39m\u001b[38;5;241m.\u001b[39m_num_yielded \u001b[38;5;241m>\u001b[39m \u001b[38;5;28mself\u001b[39m\u001b[38;5;241m.\u001b[39m_IterableDataset_len_called\n\u001b[1;32m    707\u001b[0m ):\n",
      "File \u001b[0;32m~/anaconda3/envs/pytorch_env/lib/python3.9/site-packages/torch/utils/data/dataloader.py:1448\u001b[0m, in \u001b[0;36m_MultiProcessingDataLoaderIter._next_data\u001b[0;34m(self)\u001b[0m\n\u001b[1;32m   1445\u001b[0m     \u001b[38;5;28;01mreturn\u001b[39;00m \u001b[38;5;28mself\u001b[39m\u001b[38;5;241m.\u001b[39m_process_data(data)\n\u001b[1;32m   1447\u001b[0m \u001b[38;5;28;01massert\u001b[39;00m \u001b[38;5;129;01mnot\u001b[39;00m \u001b[38;5;28mself\u001b[39m\u001b[38;5;241m.\u001b[39m_shutdown \u001b[38;5;129;01mand\u001b[39;00m \u001b[38;5;28mself\u001b[39m\u001b[38;5;241m.\u001b[39m_tasks_outstanding \u001b[38;5;241m>\u001b[39m \u001b[38;5;241m0\u001b[39m\n\u001b[0;32m-> 1448\u001b[0m idx, data \u001b[38;5;241m=\u001b[39m \u001b[38;5;28;43mself\u001b[39;49m\u001b[38;5;241;43m.\u001b[39;49m\u001b[43m_get_data\u001b[49m\u001b[43m(\u001b[49m\u001b[43m)\u001b[49m\n\u001b[1;32m   1449\u001b[0m \u001b[38;5;28mself\u001b[39m\u001b[38;5;241m.\u001b[39m_tasks_outstanding \u001b[38;5;241m-\u001b[39m\u001b[38;5;241m=\u001b[39m \u001b[38;5;241m1\u001b[39m\n\u001b[1;32m   1450\u001b[0m \u001b[38;5;28;01mif\u001b[39;00m \u001b[38;5;28mself\u001b[39m\u001b[38;5;241m.\u001b[39m_dataset_kind \u001b[38;5;241m==\u001b[39m _DatasetKind\u001b[38;5;241m.\u001b[39mIterable:\n\u001b[1;32m   1451\u001b[0m     \u001b[38;5;66;03m# Check for _IterableDatasetStopIteration\u001b[39;00m\n",
      "File \u001b[0;32m~/anaconda3/envs/pytorch_env/lib/python3.9/site-packages/torch/utils/data/dataloader.py:1412\u001b[0m, in \u001b[0;36m_MultiProcessingDataLoaderIter._get_data\u001b[0;34m(self)\u001b[0m\n\u001b[1;32m   1408\u001b[0m     \u001b[38;5;66;03m# In this case, `self._data_queue` is a `queue.Queue`,. But we don't\u001b[39;00m\n\u001b[1;32m   1409\u001b[0m     \u001b[38;5;66;03m# need to call `.task_done()` because we don't use `.join()`.\u001b[39;00m\n\u001b[1;32m   1410\u001b[0m \u001b[38;5;28;01melse\u001b[39;00m:\n\u001b[1;32m   1411\u001b[0m     \u001b[38;5;28;01mwhile\u001b[39;00m \u001b[38;5;28;01mTrue\u001b[39;00m:\n\u001b[0;32m-> 1412\u001b[0m         success, data \u001b[38;5;241m=\u001b[39m \u001b[38;5;28;43mself\u001b[39;49m\u001b[38;5;241;43m.\u001b[39;49m\u001b[43m_try_get_data\u001b[49m\u001b[43m(\u001b[49m\u001b[43m)\u001b[49m\n\u001b[1;32m   1413\u001b[0m         \u001b[38;5;28;01mif\u001b[39;00m success:\n\u001b[1;32m   1414\u001b[0m             \u001b[38;5;28;01mreturn\u001b[39;00m data\n",
      "File \u001b[0;32m~/anaconda3/envs/pytorch_env/lib/python3.9/site-packages/torch/utils/data/dataloader.py:1243\u001b[0m, in \u001b[0;36m_MultiProcessingDataLoaderIter._try_get_data\u001b[0;34m(self, timeout)\u001b[0m\n\u001b[1;32m   1230\u001b[0m \u001b[38;5;28;01mdef\u001b[39;00m \u001b[38;5;21m_try_get_data\u001b[39m(\u001b[38;5;28mself\u001b[39m, timeout\u001b[38;5;241m=\u001b[39m_utils\u001b[38;5;241m.\u001b[39mMP_STATUS_CHECK_INTERVAL):\n\u001b[1;32m   1231\u001b[0m     \u001b[38;5;66;03m# Tries to fetch data from `self._data_queue` once for a given timeout.\u001b[39;00m\n\u001b[1;32m   1232\u001b[0m     \u001b[38;5;66;03m# This can also be used as inner loop of fetching without timeout, with\u001b[39;00m\n\u001b[0;32m   (...)\u001b[0m\n\u001b[1;32m   1240\u001b[0m     \u001b[38;5;66;03m# Returns a 2-tuple:\u001b[39;00m\n\u001b[1;32m   1241\u001b[0m     \u001b[38;5;66;03m#   (bool: whether successfully get data, any: data if successful else None)\u001b[39;00m\n\u001b[1;32m   1242\u001b[0m     \u001b[38;5;28;01mtry\u001b[39;00m:\n\u001b[0;32m-> 1243\u001b[0m         data \u001b[38;5;241m=\u001b[39m \u001b[38;5;28;43mself\u001b[39;49m\u001b[38;5;241;43m.\u001b[39;49m\u001b[43m_data_queue\u001b[49m\u001b[38;5;241;43m.\u001b[39;49m\u001b[43mget\u001b[49m\u001b[43m(\u001b[49m\u001b[43mtimeout\u001b[49m\u001b[38;5;241;43m=\u001b[39;49m\u001b[43mtimeout\u001b[49m\u001b[43m)\u001b[49m\n\u001b[1;32m   1244\u001b[0m         \u001b[38;5;28;01mreturn\u001b[39;00m (\u001b[38;5;28;01mTrue\u001b[39;00m, data)\n\u001b[1;32m   1245\u001b[0m     \u001b[38;5;28;01mexcept\u001b[39;00m \u001b[38;5;167;01mException\u001b[39;00m \u001b[38;5;28;01mas\u001b[39;00m e:\n\u001b[1;32m   1246\u001b[0m         \u001b[38;5;66;03m# At timeout and error, we manually check whether any worker has\u001b[39;00m\n\u001b[1;32m   1247\u001b[0m         \u001b[38;5;66;03m# failed. Note that this is the only mechanism for Windows to detect\u001b[39;00m\n\u001b[1;32m   1248\u001b[0m         \u001b[38;5;66;03m# worker failures.\u001b[39;00m\n",
      "File \u001b[0;32m~/anaconda3/envs/pytorch_env/lib/python3.9/multiprocessing/queues.py:113\u001b[0m, in \u001b[0;36mQueue.get\u001b[0;34m(self, block, timeout)\u001b[0m\n\u001b[1;32m    111\u001b[0m \u001b[38;5;28;01mif\u001b[39;00m block:\n\u001b[1;32m    112\u001b[0m     timeout \u001b[38;5;241m=\u001b[39m deadline \u001b[38;5;241m-\u001b[39m time\u001b[38;5;241m.\u001b[39mmonotonic()\n\u001b[0;32m--> 113\u001b[0m     \u001b[38;5;28;01mif\u001b[39;00m \u001b[38;5;129;01mnot\u001b[39;00m \u001b[38;5;28;43mself\u001b[39;49m\u001b[38;5;241;43m.\u001b[39;49m\u001b[43m_poll\u001b[49m\u001b[43m(\u001b[49m\u001b[43mtimeout\u001b[49m\u001b[43m)\u001b[49m:\n\u001b[1;32m    114\u001b[0m         \u001b[38;5;28;01mraise\u001b[39;00m Empty\n\u001b[1;32m    115\u001b[0m \u001b[38;5;28;01melif\u001b[39;00m \u001b[38;5;129;01mnot\u001b[39;00m \u001b[38;5;28mself\u001b[39m\u001b[38;5;241m.\u001b[39m_poll():\n",
      "File \u001b[0;32m~/anaconda3/envs/pytorch_env/lib/python3.9/multiprocessing/connection.py:257\u001b[0m, in \u001b[0;36m_ConnectionBase.poll\u001b[0;34m(self, timeout)\u001b[0m\n\u001b[1;32m    255\u001b[0m \u001b[38;5;28mself\u001b[39m\u001b[38;5;241m.\u001b[39m_check_closed()\n\u001b[1;32m    256\u001b[0m \u001b[38;5;28mself\u001b[39m\u001b[38;5;241m.\u001b[39m_check_readable()\n\u001b[0;32m--> 257\u001b[0m \u001b[38;5;28;01mreturn\u001b[39;00m \u001b[38;5;28;43mself\u001b[39;49m\u001b[38;5;241;43m.\u001b[39;49m\u001b[43m_poll\u001b[49m\u001b[43m(\u001b[49m\u001b[43mtimeout\u001b[49m\u001b[43m)\u001b[49m\n",
      "File \u001b[0;32m~/anaconda3/envs/pytorch_env/lib/python3.9/multiprocessing/connection.py:424\u001b[0m, in \u001b[0;36mConnection._poll\u001b[0;34m(self, timeout)\u001b[0m\n\u001b[1;32m    423\u001b[0m \u001b[38;5;28;01mdef\u001b[39;00m \u001b[38;5;21m_poll\u001b[39m(\u001b[38;5;28mself\u001b[39m, timeout):\n\u001b[0;32m--> 424\u001b[0m     r \u001b[38;5;241m=\u001b[39m \u001b[43mwait\u001b[49m\u001b[43m(\u001b[49m\u001b[43m[\u001b[49m\u001b[38;5;28;43mself\u001b[39;49m\u001b[43m]\u001b[49m\u001b[43m,\u001b[49m\u001b[43m \u001b[49m\u001b[43mtimeout\u001b[49m\u001b[43m)\u001b[49m\n\u001b[1;32m    425\u001b[0m     \u001b[38;5;28;01mreturn\u001b[39;00m \u001b[38;5;28mbool\u001b[39m(r)\n",
      "File \u001b[0;32m~/anaconda3/envs/pytorch_env/lib/python3.9/multiprocessing/connection.py:931\u001b[0m, in \u001b[0;36mwait\u001b[0;34m(object_list, timeout)\u001b[0m\n\u001b[1;32m    928\u001b[0m     deadline \u001b[38;5;241m=\u001b[39m time\u001b[38;5;241m.\u001b[39mmonotonic() \u001b[38;5;241m+\u001b[39m timeout\n\u001b[1;32m    930\u001b[0m \u001b[38;5;28;01mwhile\u001b[39;00m \u001b[38;5;28;01mTrue\u001b[39;00m:\n\u001b[0;32m--> 931\u001b[0m     ready \u001b[38;5;241m=\u001b[39m \u001b[43mselector\u001b[49m\u001b[38;5;241;43m.\u001b[39;49m\u001b[43mselect\u001b[49m\u001b[43m(\u001b[49m\u001b[43mtimeout\u001b[49m\u001b[43m)\u001b[49m\n\u001b[1;32m    932\u001b[0m     \u001b[38;5;28;01mif\u001b[39;00m ready:\n\u001b[1;32m    933\u001b[0m         \u001b[38;5;28;01mreturn\u001b[39;00m [key\u001b[38;5;241m.\u001b[39mfileobj \u001b[38;5;28;01mfor\u001b[39;00m (key, events) \u001b[38;5;129;01min\u001b[39;00m ready]\n",
      "File \u001b[0;32m~/anaconda3/envs/pytorch_env/lib/python3.9/selectors.py:416\u001b[0m, in \u001b[0;36m_PollLikeSelector.select\u001b[0;34m(self, timeout)\u001b[0m\n\u001b[1;32m    414\u001b[0m ready \u001b[38;5;241m=\u001b[39m []\n\u001b[1;32m    415\u001b[0m \u001b[38;5;28;01mtry\u001b[39;00m:\n\u001b[0;32m--> 416\u001b[0m     fd_event_list \u001b[38;5;241m=\u001b[39m \u001b[38;5;28;43mself\u001b[39;49m\u001b[38;5;241;43m.\u001b[39;49m\u001b[43m_selector\u001b[49m\u001b[38;5;241;43m.\u001b[39;49m\u001b[43mpoll\u001b[49m\u001b[43m(\u001b[49m\u001b[43mtimeout\u001b[49m\u001b[43m)\u001b[49m\n\u001b[1;32m    417\u001b[0m \u001b[38;5;28;01mexcept\u001b[39;00m \u001b[38;5;167;01mInterruptedError\u001b[39;00m:\n\u001b[1;32m    418\u001b[0m     \u001b[38;5;28;01mreturn\u001b[39;00m ready\n",
      "\u001b[0;31mKeyboardInterrupt\u001b[0m: "
     ]
    },
    {
     "name": "stderr",
     "output_type": "stream",
     "text": [
      "  File \"/home/oliver/anaconda3/envs/pytorch_env/lib/python3.9/multiprocessing/queues.py\", line 239, in _feed\n",
      "    reader_close()\n",
      "Traceback (most recent call last):\n",
      "  File \"/home/oliver/anaconda3/envs/pytorch_env/lib/python3.9/multiprocessing/connection.py\", line 177, in close\n",
      "    self._close()\n",
      "  File \"/home/oliver/anaconda3/envs/pytorch_env/lib/python3.9/multiprocessing/connection.py\", line 177, in close\n",
      "    self._close()\n",
      "  File \"/home/oliver/anaconda3/envs/pytorch_env/lib/python3.9/multiprocessing/connection.py\", line 177, in close\n",
      "    self._close()\n",
      "Traceback (most recent call last):\n",
      "OSError: [Errno 9] Bad file descriptor\n",
      "  File \"/home/oliver/anaconda3/envs/pytorch_env/lib/python3.9/multiprocessing/connection.py\", line 177, in close\n",
      "    self._close()\n",
      "  File \"/home/oliver/anaconda3/envs/pytorch_env/lib/python3.9/multiprocessing/queues.py\", line 239, in _feed\n",
      "    reader_close()\n",
      "Traceback (most recent call last):\n",
      "  File \"/home/oliver/anaconda3/envs/pytorch_env/lib/python3.9/multiprocessing/connection.py\", line 177, in close\n",
      "    self._close()\n",
      "  File \"/home/oliver/anaconda3/envs/pytorch_env/lib/python3.9/multiprocessing/queues.py\", line 239, in _feed\n",
      "    reader_close()\n",
      "  File \"/home/oliver/anaconda3/envs/pytorch_env/lib/python3.9/multiprocessing/connection.py\", line 177, in close\n",
      "    self._close()\n",
      "  File \"/home/oliver/anaconda3/envs/pytorch_env/lib/python3.9/multiprocessing/queues.py\", line 239, in _feed\n",
      "    reader_close()\n",
      "  File \"/home/oliver/anaconda3/envs/pytorch_env/lib/python3.9/multiprocessing/connection.py\", line 177, in close\n",
      "    self._close()\n",
      "  File \"/home/oliver/anaconda3/envs/pytorch_env/lib/python3.9/multiprocessing/queues.py\", line 239, in _feed\n",
      "    reader_close()\n",
      "  File \"/home/oliver/anaconda3/envs/pytorch_env/lib/python3.9/multiprocessing/queues.py\", line 239, in _feed\n",
      "    reader_close()\n",
      "  File \"/home/oliver/anaconda3/envs/pytorch_env/lib/python3.9/multiprocessing/queues.py\", line 239, in _feed\n",
      "    reader_close()\n",
      "  File \"/home/oliver/anaconda3/envs/pytorch_env/lib/python3.9/multiprocessing/connection.py\", line 177, in close\n",
      "    self._close()\n",
      "  File \"/home/oliver/anaconda3/envs/pytorch_env/lib/python3.9/multiprocessing/connection.py\", line 177, in close\n",
      "    self._close()\n",
      "  File \"/home/oliver/anaconda3/envs/pytorch_env/lib/python3.9/multiprocessing/queues.py\", line 239, in _feed\n",
      "    reader_close()\n",
      "  File \"/home/oliver/anaconda3/envs/pytorch_env/lib/python3.9/multiprocessing/connection.py\", line 177, in close\n",
      "    self._close()\n",
      "OSError: [Errno 9] Bad file descriptor\n",
      "  File \"/home/oliver/anaconda3/envs/pytorch_env/lib/python3.9/multiprocessing/queues.py\", line 239, in _feed\n",
      "    reader_close()\n",
      "  File \"/home/oliver/anaconda3/envs/pytorch_env/lib/python3.9/multiprocessing/connection.py\", line 177, in close\n",
      "    self._close()\n",
      "  File \"/home/oliver/anaconda3/envs/pytorch_env/lib/python3.9/multiprocessing/connection.py\", line 361, in _close\n",
      "    _close(self._handle)\n",
      "  File \"/home/oliver/anaconda3/envs/pytorch_env/lib/python3.9/multiprocessing/connection.py\", line 177, in close\n",
      "    self._close()\n",
      "  File \"/home/oliver/anaconda3/envs/pytorch_env/lib/python3.9/multiprocessing/queues.py\", line 239, in _feed\n",
      "    reader_close()\n",
      "Traceback (most recent call last):\n",
      "  File \"/home/oliver/anaconda3/envs/pytorch_env/lib/python3.9/multiprocessing/connection.py\", line 361, in _close\n",
      "    _close(self._handle)\n",
      "  File \"/home/oliver/anaconda3/envs/pytorch_env/lib/python3.9/multiprocessing/connection.py\", line 177, in close\n",
      "    self._close()\n",
      "  File \"/home/oliver/anaconda3/envs/pytorch_env/lib/python3.9/multiprocessing/connection.py\", line 361, in _close\n",
      "    _close(self._handle)\n",
      "  File \"/home/oliver/anaconda3/envs/pytorch_env/lib/python3.9/multiprocessing/connection.py\", line 361, in _close\n",
      "    _close(self._handle)\n",
      "  File \"/home/oliver/anaconda3/envs/pytorch_env/lib/python3.9/multiprocessing/connection.py\", line 361, in _close\n",
      "    _close(self._handle)\n",
      "  File \"/home/oliver/anaconda3/envs/pytorch_env/lib/python3.9/multiprocessing/connection.py\", line 177, in close\n",
      "    self._close()\n",
      "  File \"/home/oliver/anaconda3/envs/pytorch_env/lib/python3.9/multiprocessing/connection.py\", line 361, in _close\n",
      "    _close(self._handle)\n",
      "  File \"/home/oliver/anaconda3/envs/pytorch_env/lib/python3.9/multiprocessing/connection.py\", line 177, in close\n",
      "    self._close()\n",
      "  File \"/home/oliver/anaconda3/envs/pytorch_env/lib/python3.9/multiprocessing/connection.py\", line 177, in close\n",
      "    self._close()\n",
      "  File \"/home/oliver/anaconda3/envs/pytorch_env/lib/python3.9/multiprocessing/connection.py\", line 361, in _close\n",
      "    _close(self._handle)\n",
      "  File \"/home/oliver/anaconda3/envs/pytorch_env/lib/python3.9/multiprocessing/connection.py\", line 177, in close\n",
      "    self._close()\n",
      "OSError: [Errno 9] Bad file descriptor\n",
      "OSError: [Errno 9] Bad file descriptor\n",
      "  File \"/home/oliver/anaconda3/envs/pytorch_env/lib/python3.9/multiprocessing/queues.py\", line 239, in _feed\n",
      "    reader_close()\n",
      "  File \"/home/oliver/anaconda3/envs/pytorch_env/lib/python3.9/multiprocessing/queues.py\", line 239, in _feed\n",
      "    reader_close()\n",
      "OSError: [Errno 9] Bad file descriptor\n",
      "  File \"/home/oliver/anaconda3/envs/pytorch_env/lib/python3.9/multiprocessing/connection.py\", line 177, in close\n",
      "    self._close()\n",
      "  File \"/home/oliver/anaconda3/envs/pytorch_env/lib/python3.9/multiprocessing/queues.py\", line 239, in _feed\n",
      "    reader_close()\n",
      "Traceback (most recent call last):\n",
      "  File \"/home/oliver/anaconda3/envs/pytorch_env/lib/python3.9/multiprocessing/queues.py\", line 239, in _feed\n",
      "    reader_close()\n",
      "  File \"/home/oliver/anaconda3/envs/pytorch_env/lib/python3.9/multiprocessing/connection.py\", line 361, in _close\n",
      "    _close(self._handle)\n",
      "  File \"/home/oliver/anaconda3/envs/pytorch_env/lib/python3.9/multiprocessing/connection.py\", line 177, in close\n",
      "    self._close()\n",
      "OSError: [Errno 9] Bad file descriptor\n",
      "  File \"/home/oliver/anaconda3/envs/pytorch_env/lib/python3.9/multiprocessing/queues.py\", line 239, in _feed\n",
      "    reader_close()\n",
      "  File \"/home/oliver/anaconda3/envs/pytorch_env/lib/python3.9/multiprocessing/connection.py\", line 177, in close\n",
      "    self._close()\n",
      "  File \"/home/oliver/anaconda3/envs/pytorch_env/lib/python3.9/multiprocessing/connection.py\", line 177, in close\n",
      "    self._close()\n",
      "  File \"/home/oliver/anaconda3/envs/pytorch_env/lib/python3.9/multiprocessing/connection.py\", line 177, in close\n",
      "    self._close()\n",
      "  File \"/home/oliver/anaconda3/envs/pytorch_env/lib/python3.9/multiprocessing/connection.py\", line 361, in _close\n",
      "    _close(self._handle)\n",
      "  File \"/home/oliver/anaconda3/envs/pytorch_env/lib/python3.9/multiprocessing/connection.py\", line 361, in _close\n",
      "    _close(self._handle)\n",
      "  File \"/home/oliver/anaconda3/envs/pytorch_env/lib/python3.9/multiprocessing/connection.py\", line 177, in close\n",
      "    self._close()\n",
      "  File \"/home/oliver/anaconda3/envs/pytorch_env/lib/python3.9/multiprocessing/connection.py\", line 361, in _close\n",
      "    _close(self._handle)\n",
      "  File \"/home/oliver/anaconda3/envs/pytorch_env/lib/python3.9/multiprocessing/connection.py\", line 177, in close\n",
      "    self._close()\n",
      "  File \"/home/oliver/anaconda3/envs/pytorch_env/lib/python3.9/multiprocessing/connection.py\", line 177, in close\n",
      "    self._close()\n",
      "  File \"/home/oliver/anaconda3/envs/pytorch_env/lib/python3.9/multiprocessing/connection.py\", line 177, in close\n",
      "    self._close()\n",
      "  File \"/home/oliver/anaconda3/envs/pytorch_env/lib/python3.9/multiprocessing/connection.py\", line 361, in _close\n",
      "    _close(self._handle)\n",
      "OSError: [Errno 9] Bad file descriptor\n",
      "  File \"/home/oliver/anaconda3/envs/pytorch_env/lib/python3.9/multiprocessing/queues.py\", line 239, in _feed\n",
      "    reader_close()\n",
      "Traceback (most recent call last):\n",
      "  File \"/home/oliver/anaconda3/envs/pytorch_env/lib/python3.9/multiprocessing/connection.py\", line 177, in close\n",
      "    self._close()\n",
      "OSError: [Errno 9] Bad file descriptor\n",
      "  File \"/home/oliver/anaconda3/envs/pytorch_env/lib/python3.9/multiprocessing/queues.py\", line 239, in _feed\n",
      "    reader_close()\n",
      "  File \"/home/oliver/anaconda3/envs/pytorch_env/lib/python3.9/multiprocessing/connection.py\", line 177, in close\n",
      "    self._close()\n",
      "  File \"/home/oliver/anaconda3/envs/pytorch_env/lib/python3.9/multiprocessing/connection.py\", line 361, in _close\n",
      "    _close(self._handle)\n",
      "  File \"/home/oliver/anaconda3/envs/pytorch_env/lib/python3.9/multiprocessing/connection.py\", line 361, in _close\n",
      "    _close(self._handle)\n",
      "Traceback (most recent call last):\n",
      "OSError: [Errno 9] Bad file descriptor\n",
      "  File \"/home/oliver/anaconda3/envs/pytorch_env/lib/python3.9/multiprocessing/connection.py\", line 361, in _close\n",
      "    _close(self._handle)\n",
      "  File \"/home/oliver/anaconda3/envs/pytorch_env/lib/python3.9/multiprocessing/connection.py\", line 177, in close\n",
      "    self._close()\n",
      "  File \"/home/oliver/anaconda3/envs/pytorch_env/lib/python3.9/multiprocessing/queues.py\", line 239, in _feed\n",
      "    reader_close()\n",
      "  File \"/home/oliver/anaconda3/envs/pytorch_env/lib/python3.9/multiprocessing/connection.py\", line 177, in close\n",
      "    self._close()\n",
      "OSError: [Errno 9] Bad file descriptor\n",
      "Traceback (most recent call last):\n",
      "OSError: [Errno 9] Bad file descriptor\n",
      "  File \"/home/oliver/anaconda3/envs/pytorch_env/lib/python3.9/multiprocessing/connection.py\", line 361, in _close\n",
      "    _close(self._handle)\n",
      "  File \"/home/oliver/anaconda3/envs/pytorch_env/lib/python3.9/multiprocessing/queues.py\", line 239, in _feed\n",
      "    reader_close()\n",
      "  File \"/home/oliver/anaconda3/envs/pytorch_env/lib/python3.9/multiprocessing/connection.py\", line 361, in _close\n",
      "    _close(self._handle)\n",
      "  File \"/home/oliver/anaconda3/envs/pytorch_env/lib/python3.9/multiprocessing/connection.py\", line 177, in close\n",
      "    self._close()\n",
      "  File \"/home/oliver/anaconda3/envs/pytorch_env/lib/python3.9/multiprocessing/queues.py\", line 239, in _feed\n",
      "    reader_close()\n",
      "Traceback (most recent call last):\n",
      "  File \"/home/oliver/anaconda3/envs/pytorch_env/lib/python3.9/multiprocessing/connection.py\", line 361, in _close\n",
      "    _close(self._handle)\n",
      "OSError: [Errno 9] Bad file descriptor\n",
      "  File \"/home/oliver/anaconda3/envs/pytorch_env/lib/python3.9/multiprocessing/connection.py\", line 177, in close\n",
      "    self._close()\n",
      "  File \"/home/oliver/anaconda3/envs/pytorch_env/lib/python3.9/multiprocessing/connection.py\", line 177, in close\n",
      "    self._close()\n",
      "OSError: [Errno 9] Bad file descriptor\n",
      "  File \"/home/oliver/anaconda3/envs/pytorch_env/lib/python3.9/multiprocessing/connection.py\", line 361, in _close\n",
      "    _close(self._handle)\n",
      "  File \"/home/oliver/anaconda3/envs/pytorch_env/lib/python3.9/multiprocessing/connection.py\", line 361, in _close\n",
      "    _close(self._handle)\n",
      "  File \"/home/oliver/anaconda3/envs/pytorch_env/lib/python3.9/multiprocessing/connection.py\", line 361, in _close\n",
      "    _close(self._handle)\n",
      "  File \"/home/oliver/anaconda3/envs/pytorch_env/lib/python3.9/multiprocessing/connection.py\", line 361, in _close\n",
      "    _close(self._handle)\n",
      "  File \"/home/oliver/anaconda3/envs/pytorch_env/lib/python3.9/multiprocessing/connection.py\", line 361, in _close\n",
      "    _close(self._handle)\n",
      "Traceback (most recent call last):\n",
      "  File \"/home/oliver/anaconda3/envs/pytorch_env/lib/python3.9/multiprocessing/connection.py\", line 361, in _close\n",
      "    _close(self._handle)\n",
      "  File \"/home/oliver/anaconda3/envs/pytorch_env/lib/python3.9/multiprocessing/connection.py\", line 361, in _close\n",
      "    _close(self._handle)\n",
      "  File \"/home/oliver/anaconda3/envs/pytorch_env/lib/python3.9/multiprocessing/connection.py\", line 361, in _close\n",
      "    _close(self._handle)\n",
      "  File \"/home/oliver/anaconda3/envs/pytorch_env/lib/python3.9/multiprocessing/connection.py\", line 177, in close\n",
      "    self._close()\n",
      "  File \"/home/oliver/anaconda3/envs/pytorch_env/lib/python3.9/multiprocessing/connection.py\", line 177, in close\n",
      "    self._close()\n",
      "OSError: [Errno 9] Bad file descriptor\n",
      "  File \"/home/oliver/anaconda3/envs/pytorch_env/lib/python3.9/multiprocessing/connection.py\", line 177, in close\n",
      "    self._close()\n",
      "  File \"/home/oliver/anaconda3/envs/pytorch_env/lib/python3.9/multiprocessing/connection.py\", line 177, in close\n",
      "    self._close()\n",
      "  File \"/home/oliver/anaconda3/envs/pytorch_env/lib/python3.9/multiprocessing/connection.py\", line 177, in close\n",
      "    self._close()\n",
      "OSError: [Errno 9] Bad file descriptor\n",
      "  File \"/home/oliver/anaconda3/envs/pytorch_env/lib/python3.9/multiprocessing/connection.py\", line 177, in close\n",
      "    self._close()\n",
      "OSError: [Errno 9] Bad file descriptor\n",
      "OSError: [Errno 9] Bad file descriptor\n",
      "  File \"/home/oliver/anaconda3/envs/pytorch_env/lib/python3.9/multiprocessing/connection.py\", line 361, in _close\n",
      "    _close(self._handle)\n",
      "  File \"/home/oliver/anaconda3/envs/pytorch_env/lib/python3.9/multiprocessing/queues.py\", line 239, in _feed\n",
      "    reader_close()\n",
      "OSError: [Errno 9] Bad file descriptor\n",
      "OSError: [Errno 9] Bad file descriptor\n",
      "OSError: [Errno 9] Bad file descriptor\n",
      "  File \"/home/oliver/anaconda3/envs/pytorch_env/lib/python3.9/multiprocessing/connection.py\", line 361, in _close\n",
      "    _close(self._handle)\n",
      "  File \"/home/oliver/anaconda3/envs/pytorch_env/lib/python3.9/multiprocessing/connection.py\", line 177, in close\n",
      "    self._close()\n",
      "  File \"/home/oliver/anaconda3/envs/pytorch_env/lib/python3.9/multiprocessing/connection.py\", line 361, in _close\n",
      "    _close(self._handle)\n",
      "  File \"/home/oliver/anaconda3/envs/pytorch_env/lib/python3.9/multiprocessing/connection.py\", line 361, in _close\n",
      "    _close(self._handle)\n",
      "  File \"/home/oliver/anaconda3/envs/pytorch_env/lib/python3.9/multiprocessing/connection.py\", line 361, in _close\n",
      "    _close(self._handle)\n",
      "  File \"/home/oliver/anaconda3/envs/pytorch_env/lib/python3.9/multiprocessing/connection.py\", line 177, in close\n",
      "    self._close()\n",
      "  File \"/home/oliver/anaconda3/envs/pytorch_env/lib/python3.9/multiprocessing/connection.py\", line 361, in _close\n",
      "    _close(self._handle)\n",
      "  File \"/home/oliver/anaconda3/envs/pytorch_env/lib/python3.9/multiprocessing/queues.py\", line 239, in _feed\n",
      "    reader_close()\n",
      "OSError: [Errno 9] Bad file descriptor\n",
      "  File \"/home/oliver/anaconda3/envs/pytorch_env/lib/python3.9/multiprocessing/connection.py\", line 177, in close\n",
      "    self._close()\n",
      "  File \"/home/oliver/anaconda3/envs/pytorch_env/lib/python3.9/multiprocessing/connection.py\", line 361, in _close\n",
      "    _close(self._handle)\n",
      "  File \"/home/oliver/anaconda3/envs/pytorch_env/lib/python3.9/multiprocessing/connection.py\", line 361, in _close\n",
      "    _close(self._handle)\n",
      "OSError: [Errno 9] Bad file descriptor\n",
      "  File \"/home/oliver/anaconda3/envs/pytorch_env/lib/python3.9/multiprocessing/connection.py\", line 361, in _close\n",
      "    _close(self._handle)\n",
      "  File \"/home/oliver/anaconda3/envs/pytorch_env/lib/python3.9/multiprocessing/connection.py\", line 361, in _close\n",
      "    _close(self._handle)\n",
      "  File \"/home/oliver/anaconda3/envs/pytorch_env/lib/python3.9/multiprocessing/queues.py\", line 239, in _feed\n",
      "    reader_close()\n",
      "  File \"/home/oliver/anaconda3/envs/pytorch_env/lib/python3.9/multiprocessing/connection.py\", line 177, in close\n",
      "    self._close()\n",
      "  File \"/home/oliver/anaconda3/envs/pytorch_env/lib/python3.9/multiprocessing/connection.py\", line 361, in _close\n",
      "    _close(self._handle)\n",
      "OSError: [Errno 9] Bad file descriptor\n",
      "  File \"/home/oliver/anaconda3/envs/pytorch_env/lib/python3.9/multiprocessing/connection.py\", line 361, in _close\n",
      "    _close(self._handle)\n",
      "  File \"/home/oliver/anaconda3/envs/pytorch_env/lib/python3.9/multiprocessing/connection.py\", line 361, in _close\n",
      "    _close(self._handle)\n",
      "  File \"/home/oliver/anaconda3/envs/pytorch_env/lib/python3.9/multiprocessing/connection.py\", line 361, in _close\n",
      "    _close(self._handle)\n",
      "OSError: [Errno 9] Bad file descriptor\n",
      "  File \"/home/oliver/anaconda3/envs/pytorch_env/lib/python3.9/multiprocessing/connection.py\", line 361, in _close\n",
      "    _close(self._handle)\n",
      "  File \"/home/oliver/anaconda3/envs/pytorch_env/lib/python3.9/multiprocessing/connection.py\", line 361, in _close\n",
      "    _close(self._handle)\n",
      "OSError: [Errno 9] Bad file descriptor\n",
      "  File \"/home/oliver/anaconda3/envs/pytorch_env/lib/python3.9/multiprocessing/queues.py\", line 239, in _feed\n",
      "    reader_close()\n",
      "  File \"/home/oliver/anaconda3/envs/pytorch_env/lib/python3.9/multiprocessing/connection.py\", line 361, in _close\n",
      "    _close(self._handle)\n",
      "OSError: [Errno 9] Bad file descriptor\n",
      "  File \"/home/oliver/anaconda3/envs/pytorch_env/lib/python3.9/multiprocessing/connection.py\", line 177, in close\n",
      "    self._close()\n",
      "OSError: [Errno 9] Bad file descriptor\n",
      "  File \"/home/oliver/anaconda3/envs/pytorch_env/lib/python3.9/multiprocessing/connection.py\", line 361, in _close\n",
      "    _close(self._handle)\n",
      "OSError: [Errno 9] Bad file descriptor\n",
      "OSError: [Errno 9] Bad file descriptor\n",
      "OSError: [Errno 9] Bad file descriptor\n",
      "  File \"/home/oliver/anaconda3/envs/pytorch_env/lib/python3.9/multiprocessing/connection.py\", line 177, in close\n",
      "    self._close()\n",
      "OSError: [Errno 9] Bad file descriptor\n",
      "  File \"/home/oliver/anaconda3/envs/pytorch_env/lib/python3.9/multiprocessing/connection.py\", line 361, in _close\n",
      "    _close(self._handle)\n",
      "  File \"/home/oliver/anaconda3/envs/pytorch_env/lib/python3.9/multiprocessing/connection.py\", line 177, in close\n",
      "    self._close()\n",
      "OSError: [Errno 9] Bad file descriptor\n",
      "OSError: [Errno 9] Bad file descriptor\n",
      "OSError: [Errno 9] Bad file descriptor\n",
      "  File \"/home/oliver/anaconda3/envs/pytorch_env/lib/python3.9/multiprocessing/connection.py\", line 361, in _close\n",
      "    _close(self._handle)\n",
      "OSError: [Errno 9] Bad file descriptor\n",
      "OSError: [Errno 9] Bad file descriptor\n",
      "  File \"/home/oliver/anaconda3/envs/pytorch_env/lib/python3.9/multiprocessing/connection.py\", line 361, in _close\n",
      "    _close(self._handle)\n",
      "  File \"/home/oliver/anaconda3/envs/pytorch_env/lib/python3.9/multiprocessing/connection.py\", line 177, in close\n",
      "    self._close()\n",
      "OSError: [Errno 9] Bad file descriptor\n",
      "OSError: [Errno 9] Bad file descriptor\n",
      "OSError: [Errno 9] Bad file descriptor\n",
      "  File \"/home/oliver/anaconda3/envs/pytorch_env/lib/python3.9/multiprocessing/connection.py\", line 361, in _close\n",
      "    _close(self._handle)\n",
      "OSError: [Errno 9] Bad file descriptor\n",
      "OSError: [Errno 9] Bad file descriptor\n",
      "OSError: [Errno 9] Bad file descriptor\n",
      "OSError: [Errno 9] Bad file descriptor\n",
      "  File \"/home/oliver/anaconda3/envs/pytorch_env/lib/python3.9/multiprocessing/connection.py\", line 361, in _close\n",
      "    _close(self._handle)\n",
      "  File \"/home/oliver/anaconda3/envs/pytorch_env/lib/python3.9/multiprocessing/connection.py\", line 361, in _close\n",
      "    _close(self._handle)\n",
      "OSError: [Errno 9] Bad file descriptor\n",
      "OSError: [Errno 9] Bad file descriptor\n",
      "OSError: [Errno 9] Bad file descriptor\n",
      "OSError: [Errno 9] Bad file descriptor\n",
      "OSError: [Errno 9] Bad file descriptor\n",
      "  File \"/home/oliver/anaconda3/envs/pytorch_env/lib/python3.9/multiprocessing/connection.py\", line 361, in _close\n",
      "    _close(self._handle)\n",
      "  File \"/home/oliver/anaconda3/envs/pytorch_env/lib/python3.9/multiprocessing/connection.py\", line 177, in close\n",
      "    self._close()\n",
      "OSError: [Errno 9] Bad file descriptor\n",
      "  File \"/home/oliver/anaconda3/envs/pytorch_env/lib/python3.9/multiprocessing/connection.py\", line 361, in _close\n",
      "    _close(self._handle)\n",
      "OSError: [Errno 9] Bad file descriptor\n",
      "  File \"/home/oliver/anaconda3/envs/pytorch_env/lib/python3.9/multiprocessing/connection.py\", line 361, in _close\n",
      "    _close(self._handle)\n",
      "OSError: [Errno 9] Bad file descriptor\n",
      "OSError: [Errno 9] Bad file descriptor\n",
      "OSError: [Errno 9] Bad file descriptor\n",
      "OSError: [Errno 9] Bad file descriptor\n",
      "OSError: [Errno 9] Bad file descriptor\n",
      "OSError: [Errno 9] Bad file descriptor\n"
     ]
    },
    {
     "ename": "KeyboardInterrupt",
     "evalue": "",
     "output_type": "error",
     "traceback": [
      "\u001b[0;31m---------------------------------------------------------------------------\u001b[0m",
      "\u001b[0;31mKeyboardInterrupt\u001b[0m                         Traceback (most recent call last)",
      "Cell \u001b[0;32mIn[36], line 32\u001b[0m\n\u001b[1;32m     30\u001b[0m \u001b[38;5;66;03m# Training DataLoader\u001b[39;00m\n\u001b[1;32m     31\u001b[0m \u001b[38;5;28mprint\u001b[39m(\u001b[38;5;124mf\u001b[39m\u001b[38;5;124m\"\u001b[39m\u001b[38;5;124m  Number of training sequences: \u001b[39m\u001b[38;5;132;01m{\u001b[39;00m\u001b[38;5;28mlen\u001b[39m(train_loader\u001b[38;5;241m.\u001b[39mdataset)\u001b[38;5;132;01m}\u001b[39;00m\u001b[38;5;124m\"\u001b[39m)\n\u001b[0;32m---> 32\u001b[0m first_train_item \u001b[38;5;241m=\u001b[39m \u001b[38;5;28mnext\u001b[39m(\u001b[38;5;28;43miter\u001b[39;49m\u001b[43m(\u001b[49m\u001b[43mtrain_loader\u001b[49m\u001b[43m)\u001b[49m)\n\u001b[1;32m     33\u001b[0m train_features, train_targets, train_masks, train_engine_ids, cycles \u001b[38;5;241m=\u001b[39m first_train_item\n\u001b[1;32m     34\u001b[0m \u001b[38;5;28mprint\u001b[39m(\u001b[38;5;124mf\u001b[39m\u001b[38;5;124m\"\u001b[39m\u001b[38;5;124m  Training Features Shape: \u001b[39m\u001b[38;5;132;01m{\u001b[39;00mtrain_features\u001b[38;5;241m.\u001b[39mshape\u001b[38;5;132;01m}\u001b[39;00m\u001b[38;5;124m\"\u001b[39m)\n",
      "File \u001b[0;32m~/anaconda3/envs/pytorch_env/lib/python3.9/site-packages/torch/utils/data/dataloader.py:484\u001b[0m, in \u001b[0;36mDataLoader.__iter__\u001b[0;34m(self)\u001b[0m\n\u001b[1;32m    482\u001b[0m     \u001b[38;5;28;01mreturn\u001b[39;00m \u001b[38;5;28mself\u001b[39m\u001b[38;5;241m.\u001b[39m_iterator\n\u001b[1;32m    483\u001b[0m \u001b[38;5;28;01melse\u001b[39;00m:\n\u001b[0;32m--> 484\u001b[0m     \u001b[38;5;28;01mreturn\u001b[39;00m \u001b[38;5;28;43mself\u001b[39;49m\u001b[38;5;241;43m.\u001b[39;49m\u001b[43m_get_iterator\u001b[49m\u001b[43m(\u001b[49m\u001b[43m)\u001b[49m\n",
      "File \u001b[0;32m~/anaconda3/envs/pytorch_env/lib/python3.9/site-packages/torch/utils/data/dataloader.py:415\u001b[0m, in \u001b[0;36mDataLoader._get_iterator\u001b[0;34m(self)\u001b[0m\n\u001b[1;32m    413\u001b[0m \u001b[38;5;28;01melse\u001b[39;00m:\n\u001b[1;32m    414\u001b[0m     \u001b[38;5;28mself\u001b[39m\u001b[38;5;241m.\u001b[39mcheck_worker_number_rationality()\n\u001b[0;32m--> 415\u001b[0m     \u001b[38;5;28;01mreturn\u001b[39;00m \u001b[43m_MultiProcessingDataLoaderIter\u001b[49m\u001b[43m(\u001b[49m\u001b[38;5;28;43mself\u001b[39;49m\u001b[43m)\u001b[49m\n",
      "File \u001b[0;32m~/anaconda3/envs/pytorch_env/lib/python3.9/site-packages/torch/utils/data/dataloader.py:1138\u001b[0m, in \u001b[0;36m_MultiProcessingDataLoaderIter.__init__\u001b[0;34m(self, loader)\u001b[0m\n\u001b[1;32m   1131\u001b[0m w\u001b[38;5;241m.\u001b[39mdaemon \u001b[38;5;241m=\u001b[39m \u001b[38;5;28;01mTrue\u001b[39;00m\n\u001b[1;32m   1132\u001b[0m \u001b[38;5;66;03m# NB: Process.start() actually take some time as it needs to\u001b[39;00m\n\u001b[1;32m   1133\u001b[0m \u001b[38;5;66;03m#     start a process and pass the arguments over via a pipe.\u001b[39;00m\n\u001b[1;32m   1134\u001b[0m \u001b[38;5;66;03m#     Therefore, we only add a worker to self._workers list after\u001b[39;00m\n\u001b[1;32m   1135\u001b[0m \u001b[38;5;66;03m#     it started, so that we do not call .join() if program dies\u001b[39;00m\n\u001b[1;32m   1136\u001b[0m \u001b[38;5;66;03m#     before it starts, and __del__ tries to join but will get:\u001b[39;00m\n\u001b[1;32m   1137\u001b[0m \u001b[38;5;66;03m#     AssertionError: can only join a started process.\u001b[39;00m\n\u001b[0;32m-> 1138\u001b[0m \u001b[43mw\u001b[49m\u001b[38;5;241;43m.\u001b[39;49m\u001b[43mstart\u001b[49m\u001b[43m(\u001b[49m\u001b[43m)\u001b[49m\n\u001b[1;32m   1139\u001b[0m \u001b[38;5;28mself\u001b[39m\u001b[38;5;241m.\u001b[39m_index_queues\u001b[38;5;241m.\u001b[39mappend(index_queue)\n\u001b[1;32m   1140\u001b[0m \u001b[38;5;28mself\u001b[39m\u001b[38;5;241m.\u001b[39m_workers\u001b[38;5;241m.\u001b[39mappend(w)\n",
      "File \u001b[0;32m~/anaconda3/envs/pytorch_env/lib/python3.9/multiprocessing/process.py:121\u001b[0m, in \u001b[0;36mBaseProcess.start\u001b[0;34m(self)\u001b[0m\n\u001b[1;32m    118\u001b[0m \u001b[38;5;28;01massert\u001b[39;00m \u001b[38;5;129;01mnot\u001b[39;00m _current_process\u001b[38;5;241m.\u001b[39m_config\u001b[38;5;241m.\u001b[39mget(\u001b[38;5;124m'\u001b[39m\u001b[38;5;124mdaemon\u001b[39m\u001b[38;5;124m'\u001b[39m), \\\n\u001b[1;32m    119\u001b[0m        \u001b[38;5;124m'\u001b[39m\u001b[38;5;124mdaemonic processes are not allowed to have children\u001b[39m\u001b[38;5;124m'\u001b[39m\n\u001b[1;32m    120\u001b[0m _cleanup()\n\u001b[0;32m--> 121\u001b[0m \u001b[38;5;28mself\u001b[39m\u001b[38;5;241m.\u001b[39m_popen \u001b[38;5;241m=\u001b[39m \u001b[38;5;28;43mself\u001b[39;49m\u001b[38;5;241;43m.\u001b[39;49m\u001b[43m_Popen\u001b[49m\u001b[43m(\u001b[49m\u001b[38;5;28;43mself\u001b[39;49m\u001b[43m)\u001b[49m\n\u001b[1;32m    122\u001b[0m \u001b[38;5;28mself\u001b[39m\u001b[38;5;241m.\u001b[39m_sentinel \u001b[38;5;241m=\u001b[39m \u001b[38;5;28mself\u001b[39m\u001b[38;5;241m.\u001b[39m_popen\u001b[38;5;241m.\u001b[39msentinel\n\u001b[1;32m    123\u001b[0m \u001b[38;5;66;03m# Avoid a refcycle if the target function holds an indirect\u001b[39;00m\n\u001b[1;32m    124\u001b[0m \u001b[38;5;66;03m# reference to the process object (see bpo-30775)\u001b[39;00m\n",
      "File \u001b[0;32m~/anaconda3/envs/pytorch_env/lib/python3.9/multiprocessing/context.py:224\u001b[0m, in \u001b[0;36mProcess._Popen\u001b[0;34m(process_obj)\u001b[0m\n\u001b[1;32m    222\u001b[0m \u001b[38;5;129m@staticmethod\u001b[39m\n\u001b[1;32m    223\u001b[0m \u001b[38;5;28;01mdef\u001b[39;00m \u001b[38;5;21m_Popen\u001b[39m(process_obj):\n\u001b[0;32m--> 224\u001b[0m     \u001b[38;5;28;01mreturn\u001b[39;00m \u001b[43m_default_context\u001b[49m\u001b[38;5;241;43m.\u001b[39;49m\u001b[43mget_context\u001b[49m\u001b[43m(\u001b[49m\u001b[43m)\u001b[49m\u001b[38;5;241;43m.\u001b[39;49m\u001b[43mProcess\u001b[49m\u001b[38;5;241;43m.\u001b[39;49m\u001b[43m_Popen\u001b[49m\u001b[43m(\u001b[49m\u001b[43mprocess_obj\u001b[49m\u001b[43m)\u001b[49m\n",
      "File \u001b[0;32m~/anaconda3/envs/pytorch_env/lib/python3.9/multiprocessing/context.py:277\u001b[0m, in \u001b[0;36mForkProcess._Popen\u001b[0;34m(process_obj)\u001b[0m\n\u001b[1;32m    274\u001b[0m \u001b[38;5;129m@staticmethod\u001b[39m\n\u001b[1;32m    275\u001b[0m \u001b[38;5;28;01mdef\u001b[39;00m \u001b[38;5;21m_Popen\u001b[39m(process_obj):\n\u001b[1;32m    276\u001b[0m     \u001b[38;5;28;01mfrom\u001b[39;00m \u001b[38;5;21;01m.\u001b[39;00m\u001b[38;5;21;01mpopen_fork\u001b[39;00m \u001b[38;5;28;01mimport\u001b[39;00m Popen\n\u001b[0;32m--> 277\u001b[0m     \u001b[38;5;28;01mreturn\u001b[39;00m \u001b[43mPopen\u001b[49m\u001b[43m(\u001b[49m\u001b[43mprocess_obj\u001b[49m\u001b[43m)\u001b[49m\n",
      "File \u001b[0;32m~/anaconda3/envs/pytorch_env/lib/python3.9/multiprocessing/popen_fork.py:19\u001b[0m, in \u001b[0;36mPopen.__init__\u001b[0;34m(self, process_obj)\u001b[0m\n\u001b[1;32m     17\u001b[0m \u001b[38;5;28mself\u001b[39m\u001b[38;5;241m.\u001b[39mreturncode \u001b[38;5;241m=\u001b[39m \u001b[38;5;28;01mNone\u001b[39;00m\n\u001b[1;32m     18\u001b[0m \u001b[38;5;28mself\u001b[39m\u001b[38;5;241m.\u001b[39mfinalizer \u001b[38;5;241m=\u001b[39m \u001b[38;5;28;01mNone\u001b[39;00m\n\u001b[0;32m---> 19\u001b[0m \u001b[38;5;28;43mself\u001b[39;49m\u001b[38;5;241;43m.\u001b[39;49m\u001b[43m_launch\u001b[49m\u001b[43m(\u001b[49m\u001b[43mprocess_obj\u001b[49m\u001b[43m)\u001b[49m\n",
      "File \u001b[0;32m~/anaconda3/envs/pytorch_env/lib/python3.9/multiprocessing/popen_fork.py:66\u001b[0m, in \u001b[0;36mPopen._launch\u001b[0;34m(self, process_obj)\u001b[0m\n\u001b[1;32m     64\u001b[0m parent_r, child_w \u001b[38;5;241m=\u001b[39m os\u001b[38;5;241m.\u001b[39mpipe()\n\u001b[1;32m     65\u001b[0m child_r, parent_w \u001b[38;5;241m=\u001b[39m os\u001b[38;5;241m.\u001b[39mpipe()\n\u001b[0;32m---> 66\u001b[0m \u001b[38;5;28mself\u001b[39m\u001b[38;5;241m.\u001b[39mpid \u001b[38;5;241m=\u001b[39m \u001b[43mos\u001b[49m\u001b[38;5;241;43m.\u001b[39;49m\u001b[43mfork\u001b[49m\u001b[43m(\u001b[49m\u001b[43m)\u001b[49m\n\u001b[1;32m     67\u001b[0m \u001b[38;5;28;01mif\u001b[39;00m \u001b[38;5;28mself\u001b[39m\u001b[38;5;241m.\u001b[39mpid \u001b[38;5;241m==\u001b[39m \u001b[38;5;241m0\u001b[39m:\n\u001b[1;32m     68\u001b[0m     \u001b[38;5;28;01mtry\u001b[39;00m:\n",
      "File \u001b[0;32m~/anaconda3/envs/pytorch_env/lib/python3.9/site-packages/debugpy/_vendored/pydevd/_pydev_bundle/pydev_monkey.py:956\u001b[0m, in \u001b[0;36mcreate_fork.<locals>.new_fork\u001b[0;34m()\u001b[0m\n\u001b[1;32m    954\u001b[0m     PydevdCustomization\u001b[38;5;241m.\u001b[39mDEFAULT_PROTOCOL \u001b[38;5;241m=\u001b[39m protocol\n\u001b[1;32m    955\u001b[0m     PydevdCustomization\u001b[38;5;241m.\u001b[39mDEBUG_MODE \u001b[38;5;241m=\u001b[39m debug_mode\n\u001b[0;32m--> 956\u001b[0m     \u001b[43m_on_forked_process\u001b[49m\u001b[43m(\u001b[49m\u001b[43msetup_tracing\u001b[49m\u001b[38;5;241;43m=\u001b[39;49m\u001b[43mapply_arg_patch\u001b[49m\u001b[43m \u001b[49m\u001b[38;5;129;43;01mand\u001b[39;49;00m\u001b[43m \u001b[49m\u001b[38;5;129;43;01mnot\u001b[39;49;00m\u001b[43m \u001b[49m\u001b[43mis_subprocess_fork\u001b[49m\u001b[43m)\u001b[49m\n\u001b[1;32m    957\u001b[0m \u001b[38;5;28;01melse\u001b[39;00m:\n\u001b[1;32m    958\u001b[0m     set_global_debugger(\u001b[38;5;28;01mNone\u001b[39;00m)\n",
      "File \u001b[0;32m~/anaconda3/envs/pytorch_env/lib/python3.9/site-packages/debugpy/_vendored/pydevd/_pydev_bundle/pydev_monkey.py:232\u001b[0m, in \u001b[0;36m_on_forked_process\u001b[0;34m(setup_tracing)\u001b[0m\n\u001b[1;32m    230\u001b[0m \u001b[38;5;28;01mimport\u001b[39;00m \u001b[38;5;21;01mpydevd\u001b[39;00m\n\u001b[1;32m    231\u001b[0m pydevd\u001b[38;5;241m.\u001b[39mthreadingCurrentThread()\u001b[38;5;241m.\u001b[39m__pydevd_main_thread \u001b[38;5;241m=\u001b[39m \u001b[38;5;28;01mTrue\u001b[39;00m\n\u001b[0;32m--> 232\u001b[0m \u001b[43mpydevd\u001b[49m\u001b[38;5;241;43m.\u001b[39;49m\u001b[43msettrace_forked\u001b[49m\u001b[43m(\u001b[49m\u001b[43msetup_tracing\u001b[49m\u001b[38;5;241;43m=\u001b[39;49m\u001b[43msetup_tracing\u001b[49m\u001b[43m)\u001b[49m\n",
      "File \u001b[0;32m~/anaconda3/envs/pytorch_env/lib/python3.9/site-packages/debugpy/_vendored/pydevd/pydevd.py:3134\u001b[0m, in \u001b[0;36msettrace_forked\u001b[0;34m(setup_tracing)\u001b[0m\n\u001b[1;32m   3131\u001b[0m \u001b[38;5;28;01mif\u001b[39;00m clear_thread_local_info \u001b[38;5;129;01mis\u001b[39;00m \u001b[38;5;129;01mnot\u001b[39;00m \u001b[38;5;28;01mNone\u001b[39;00m:\n\u001b[1;32m   3132\u001b[0m     clear_thread_local_info()\n\u001b[0;32m-> 3134\u001b[0m \u001b[43msettrace\u001b[49m\u001b[43m(\u001b[49m\n\u001b[1;32m   3135\u001b[0m \u001b[43m        \u001b[49m\u001b[43mhost\u001b[49m\u001b[43m,\u001b[49m\n\u001b[1;32m   3136\u001b[0m \u001b[43m        \u001b[49m\u001b[43mport\u001b[49m\u001b[38;5;241;43m=\u001b[39;49m\u001b[43mport\u001b[49m\u001b[43m,\u001b[49m\n\u001b[1;32m   3137\u001b[0m \u001b[43m        \u001b[49m\u001b[43msuspend\u001b[49m\u001b[38;5;241;43m=\u001b[39;49m\u001b[38;5;28;43;01mFalse\u001b[39;49;00m\u001b[43m,\u001b[49m\n\u001b[1;32m   3138\u001b[0m \u001b[43m        \u001b[49m\u001b[43mtrace_only_current_thread\u001b[49m\u001b[38;5;241;43m=\u001b[39;49m\u001b[38;5;28;43;01mFalse\u001b[39;49;00m\u001b[43m,\u001b[49m\n\u001b[1;32m   3139\u001b[0m \u001b[43m        \u001b[49m\u001b[43moverwrite_prev_trace\u001b[49m\u001b[38;5;241;43m=\u001b[39;49m\u001b[38;5;28;43;01mTrue\u001b[39;49;00m\u001b[43m,\u001b[49m\n\u001b[1;32m   3140\u001b[0m \u001b[43m        \u001b[49m\u001b[43mpatch_multiprocessing\u001b[49m\u001b[38;5;241;43m=\u001b[39;49m\u001b[38;5;28;43;01mTrue\u001b[39;49;00m\u001b[43m,\u001b[49m\n\u001b[1;32m   3141\u001b[0m \u001b[43m        \u001b[49m\u001b[43maccess_token\u001b[49m\u001b[38;5;241;43m=\u001b[39;49m\u001b[43maccess_token\u001b[49m\u001b[43m,\u001b[49m\n\u001b[1;32m   3142\u001b[0m \u001b[43m        \u001b[49m\u001b[43mclient_access_token\u001b[49m\u001b[38;5;241;43m=\u001b[39;49m\u001b[43mclient_access_token\u001b[49m\u001b[43m,\u001b[49m\n\u001b[1;32m   3143\u001b[0m \u001b[43m\u001b[49m\u001b[43m)\u001b[49m\n",
      "File \u001b[0;32m~/anaconda3/envs/pytorch_env/lib/python3.9/site-packages/debugpy/_vendored/pydevd/pydevd.py:2821\u001b[0m, in \u001b[0;36msettrace\u001b[0;34m(host, stdout_to_server, stderr_to_server, port, suspend, trace_only_current_thread, overwrite_prev_trace, patch_multiprocessing, stop_at_frame, block_until_connected, wait_for_ready_to_run, dont_trace_start_patterns, dont_trace_end_patterns, access_token, client_access_token, notify_stdin, **kwargs)\u001b[0m\n\u001b[1;32m   2818\u001b[0m __setup_holder__ \u001b[38;5;241m=\u001b[39m kwargs\u001b[38;5;241m.\u001b[39mget(\u001b[38;5;124m'\u001b[39m\u001b[38;5;124m__setup_holder__\u001b[39m\u001b[38;5;124m'\u001b[39m)\n\u001b[1;32m   2820\u001b[0m \u001b[38;5;28;01mwith\u001b[39;00m _set_trace_lock:\n\u001b[0;32m-> 2821\u001b[0m     \u001b[43m_locked_settrace\u001b[49m\u001b[43m(\u001b[49m\n\u001b[1;32m   2822\u001b[0m \u001b[43m        \u001b[49m\u001b[43mhost\u001b[49m\u001b[43m,\u001b[49m\n\u001b[1;32m   2823\u001b[0m \u001b[43m        \u001b[49m\u001b[43mstdout_to_server\u001b[49m\u001b[43m,\u001b[49m\n\u001b[1;32m   2824\u001b[0m \u001b[43m        \u001b[49m\u001b[43mstderr_to_server\u001b[49m\u001b[43m,\u001b[49m\n\u001b[1;32m   2825\u001b[0m \u001b[43m        \u001b[49m\u001b[43mport\u001b[49m\u001b[43m,\u001b[49m\n\u001b[1;32m   2826\u001b[0m \u001b[43m        \u001b[49m\u001b[43msuspend\u001b[49m\u001b[43m,\u001b[49m\n\u001b[1;32m   2827\u001b[0m \u001b[43m        \u001b[49m\u001b[43mtrace_only_current_thread\u001b[49m\u001b[43m,\u001b[49m\n\u001b[1;32m   2828\u001b[0m \u001b[43m        \u001b[49m\u001b[43mpatch_multiprocessing\u001b[49m\u001b[43m,\u001b[49m\n\u001b[1;32m   2829\u001b[0m \u001b[43m        \u001b[49m\u001b[43mstop_at_frame\u001b[49m\u001b[43m,\u001b[49m\n\u001b[1;32m   2830\u001b[0m \u001b[43m        \u001b[49m\u001b[43mblock_until_connected\u001b[49m\u001b[43m,\u001b[49m\n\u001b[1;32m   2831\u001b[0m \u001b[43m        \u001b[49m\u001b[43mwait_for_ready_to_run\u001b[49m\u001b[43m,\u001b[49m\n\u001b[1;32m   2832\u001b[0m \u001b[43m        \u001b[49m\u001b[43mdont_trace_start_patterns\u001b[49m\u001b[43m,\u001b[49m\n\u001b[1;32m   2833\u001b[0m \u001b[43m        \u001b[49m\u001b[43mdont_trace_end_patterns\u001b[49m\u001b[43m,\u001b[49m\n\u001b[1;32m   2834\u001b[0m \u001b[43m        \u001b[49m\u001b[43maccess_token\u001b[49m\u001b[43m,\u001b[49m\n\u001b[1;32m   2835\u001b[0m \u001b[43m        \u001b[49m\u001b[43mclient_access_token\u001b[49m\u001b[43m,\u001b[49m\n\u001b[1;32m   2836\u001b[0m \u001b[43m        \u001b[49m\u001b[43m__setup_holder__\u001b[49m\u001b[38;5;241;43m=\u001b[39;49m\u001b[43m__setup_holder__\u001b[49m\u001b[43m,\u001b[49m\n\u001b[1;32m   2837\u001b[0m \u001b[43m        \u001b[49m\u001b[43mnotify_stdin\u001b[49m\u001b[38;5;241;43m=\u001b[39;49m\u001b[43mnotify_stdin\u001b[49m\u001b[43m,\u001b[49m\n\u001b[1;32m   2838\u001b[0m \u001b[43m    \u001b[49m\u001b[43m)\u001b[49m\n",
      "File \u001b[0;32m~/anaconda3/envs/pytorch_env/lib/python3.9/site-packages/debugpy/_vendored/pydevd/pydevd.py:2929\u001b[0m, in \u001b[0;36m_locked_settrace\u001b[0;34m(host, stdout_to_server, stderr_to_server, port, suspend, trace_only_current_thread, patch_multiprocessing, stop_at_frame, block_until_connected, wait_for_ready_to_run, dont_trace_start_patterns, dont_trace_end_patterns, access_token, client_access_token, __setup_holder__, notify_stdin)\u001b[0m\n\u001b[1;32m   2926\u001b[0m \u001b[38;5;28;01mif\u001b[39;00m \u001b[38;5;129;01mnot\u001b[39;00m wait_for_ready_to_run:\n\u001b[1;32m   2927\u001b[0m     py_db\u001b[38;5;241m.\u001b[39mready_to_run \u001b[38;5;241m=\u001b[39m \u001b[38;5;28;01mTrue\u001b[39;00m\n\u001b[0;32m-> 2929\u001b[0m \u001b[43mpy_db\u001b[49m\u001b[38;5;241;43m.\u001b[39;49m\u001b[43mwait_for_ready_to_run\u001b[49m\u001b[43m(\u001b[49m\u001b[43m)\u001b[49m\n\u001b[1;32m   2930\u001b[0m py_db\u001b[38;5;241m.\u001b[39mstart_auxiliary_daemon_threads()\n\u001b[1;32m   2932\u001b[0m \u001b[38;5;28;01mtry\u001b[39;00m:\n",
      "File \u001b[0;32m~/anaconda3/envs/pytorch_env/lib/python3.9/site-packages/debugpy/_vendored/pydevd/pydevd.py:838\u001b[0m, in \u001b[0;36mPyDB.wait_for_ready_to_run\u001b[0;34m(self)\u001b[0m\n\u001b[1;32m    836\u001b[0m \u001b[38;5;28mself\u001b[39m\u001b[38;5;241m.\u001b[39mprocess_internal_commands()\n\u001b[1;32m    837\u001b[0m \u001b[38;5;28mself\u001b[39m\u001b[38;5;241m.\u001b[39m_py_db_command_thread_event\u001b[38;5;241m.\u001b[39mclear()\n\u001b[0;32m--> 838\u001b[0m \u001b[38;5;28;43mself\u001b[39;49m\u001b[38;5;241;43m.\u001b[39;49m\u001b[43m_py_db_command_thread_event\u001b[49m\u001b[38;5;241;43m.\u001b[39;49m\u001b[43mwait\u001b[49m\u001b[43m(\u001b[49m\u001b[38;5;241;43m0.1\u001b[39;49m\u001b[43m)\u001b[49m\n",
      "File \u001b[0;32m~/anaconda3/envs/pytorch_env/lib/python3.9/threading.py:581\u001b[0m, in \u001b[0;36mEvent.wait\u001b[0;34m(self, timeout)\u001b[0m\n\u001b[1;32m    579\u001b[0m signaled \u001b[38;5;241m=\u001b[39m \u001b[38;5;28mself\u001b[39m\u001b[38;5;241m.\u001b[39m_flag\n\u001b[1;32m    580\u001b[0m \u001b[38;5;28;01mif\u001b[39;00m \u001b[38;5;129;01mnot\u001b[39;00m signaled:\n\u001b[0;32m--> 581\u001b[0m     signaled \u001b[38;5;241m=\u001b[39m \u001b[38;5;28;43mself\u001b[39;49m\u001b[38;5;241;43m.\u001b[39;49m\u001b[43m_cond\u001b[49m\u001b[38;5;241;43m.\u001b[39;49m\u001b[43mwait\u001b[49m\u001b[43m(\u001b[49m\u001b[43mtimeout\u001b[49m\u001b[43m)\u001b[49m\n\u001b[1;32m    582\u001b[0m \u001b[38;5;28;01mreturn\u001b[39;00m signaled\n",
      "File \u001b[0;32m~/anaconda3/envs/pytorch_env/lib/python3.9/threading.py:316\u001b[0m, in \u001b[0;36mCondition.wait\u001b[0;34m(self, timeout)\u001b[0m\n\u001b[1;32m    314\u001b[0m \u001b[38;5;28;01melse\u001b[39;00m:\n\u001b[1;32m    315\u001b[0m     \u001b[38;5;28;01mif\u001b[39;00m timeout \u001b[38;5;241m>\u001b[39m \u001b[38;5;241m0\u001b[39m:\n\u001b[0;32m--> 316\u001b[0m         gotit \u001b[38;5;241m=\u001b[39m \u001b[43mwaiter\u001b[49m\u001b[38;5;241;43m.\u001b[39;49m\u001b[43macquire\u001b[49m\u001b[43m(\u001b[49m\u001b[38;5;28;43;01mTrue\u001b[39;49;00m\u001b[43m,\u001b[49m\u001b[43m \u001b[49m\u001b[43mtimeout\u001b[49m\u001b[43m)\u001b[49m\n\u001b[1;32m    317\u001b[0m     \u001b[38;5;28;01melse\u001b[39;00m:\n\u001b[1;32m    318\u001b[0m         gotit \u001b[38;5;241m=\u001b[39m waiter\u001b[38;5;241m.\u001b[39macquire(\u001b[38;5;28;01mFalse\u001b[39;00m)\n",
      "\u001b[0;31mKeyboardInterrupt\u001b[0m: "
     ]
    },
    {
     "ename": "KeyboardInterrupt",
     "evalue": "",
     "output_type": "error",
     "traceback": [
      "\u001b[0;31m---------------------------------------------------------------------------\u001b[0m",
      "\u001b[0;31mKeyboardInterrupt\u001b[0m                         Traceback (most recent call last)",
      "Cell \u001b[0;32mIn[36], line 32\u001b[0m\n\u001b[1;32m     30\u001b[0m \u001b[38;5;66;03m# Training DataLoader\u001b[39;00m\n\u001b[1;32m     31\u001b[0m \u001b[38;5;28mprint\u001b[39m(\u001b[38;5;124mf\u001b[39m\u001b[38;5;124m\"\u001b[39m\u001b[38;5;124m  Number of training sequences: \u001b[39m\u001b[38;5;132;01m{\u001b[39;00m\u001b[38;5;28mlen\u001b[39m(train_loader\u001b[38;5;241m.\u001b[39mdataset)\u001b[38;5;132;01m}\u001b[39;00m\u001b[38;5;124m\"\u001b[39m)\n\u001b[0;32m---> 32\u001b[0m first_train_item \u001b[38;5;241m=\u001b[39m \u001b[38;5;28mnext\u001b[39m(\u001b[38;5;28;43miter\u001b[39;49m\u001b[43m(\u001b[49m\u001b[43mtrain_loader\u001b[49m\u001b[43m)\u001b[49m)\n\u001b[1;32m     33\u001b[0m train_features, train_targets, train_masks, train_engine_ids, cycles \u001b[38;5;241m=\u001b[39m first_train_item\n\u001b[1;32m     34\u001b[0m \u001b[38;5;28mprint\u001b[39m(\u001b[38;5;124mf\u001b[39m\u001b[38;5;124m\"\u001b[39m\u001b[38;5;124m  Training Features Shape: \u001b[39m\u001b[38;5;132;01m{\u001b[39;00mtrain_features\u001b[38;5;241m.\u001b[39mshape\u001b[38;5;132;01m}\u001b[39;00m\u001b[38;5;124m\"\u001b[39m)\n",
      "File \u001b[0;32m~/anaconda3/envs/pytorch_env/lib/python3.9/site-packages/torch/utils/data/dataloader.py:484\u001b[0m, in \u001b[0;36mDataLoader.__iter__\u001b[0;34m(self)\u001b[0m\n\u001b[1;32m    482\u001b[0m     \u001b[38;5;28;01mreturn\u001b[39;00m \u001b[38;5;28mself\u001b[39m\u001b[38;5;241m.\u001b[39m_iterator\n\u001b[1;32m    483\u001b[0m \u001b[38;5;28;01melse\u001b[39;00m:\n\u001b[0;32m--> 484\u001b[0m     \u001b[38;5;28;01mreturn\u001b[39;00m \u001b[38;5;28;43mself\u001b[39;49m\u001b[38;5;241;43m.\u001b[39;49m\u001b[43m_get_iterator\u001b[49m\u001b[43m(\u001b[49m\u001b[43m)\u001b[49m\n",
      "File \u001b[0;32m~/anaconda3/envs/pytorch_env/lib/python3.9/site-packages/torch/utils/data/dataloader.py:415\u001b[0m, in \u001b[0;36mDataLoader._get_iterator\u001b[0;34m(self)\u001b[0m\n\u001b[1;32m    413\u001b[0m \u001b[38;5;28;01melse\u001b[39;00m:\n\u001b[1;32m    414\u001b[0m     \u001b[38;5;28mself\u001b[39m\u001b[38;5;241m.\u001b[39mcheck_worker_number_rationality()\n\u001b[0;32m--> 415\u001b[0m     \u001b[38;5;28;01mreturn\u001b[39;00m \u001b[43m_MultiProcessingDataLoaderIter\u001b[49m\u001b[43m(\u001b[49m\u001b[38;5;28;43mself\u001b[39;49m\u001b[43m)\u001b[49m\n",
      "File \u001b[0;32m~/anaconda3/envs/pytorch_env/lib/python3.9/site-packages/torch/utils/data/dataloader.py:1138\u001b[0m, in \u001b[0;36m_MultiProcessingDataLoaderIter.__init__\u001b[0;34m(self, loader)\u001b[0m\n\u001b[1;32m   1131\u001b[0m w\u001b[38;5;241m.\u001b[39mdaemon \u001b[38;5;241m=\u001b[39m \u001b[38;5;28;01mTrue\u001b[39;00m\n\u001b[1;32m   1132\u001b[0m \u001b[38;5;66;03m# NB: Process.start() actually take some time as it needs to\u001b[39;00m\n\u001b[1;32m   1133\u001b[0m \u001b[38;5;66;03m#     start a process and pass the arguments over via a pipe.\u001b[39;00m\n\u001b[1;32m   1134\u001b[0m \u001b[38;5;66;03m#     Therefore, we only add a worker to self._workers list after\u001b[39;00m\n\u001b[1;32m   1135\u001b[0m \u001b[38;5;66;03m#     it started, so that we do not call .join() if program dies\u001b[39;00m\n\u001b[1;32m   1136\u001b[0m \u001b[38;5;66;03m#     before it starts, and __del__ tries to join but will get:\u001b[39;00m\n\u001b[1;32m   1137\u001b[0m \u001b[38;5;66;03m#     AssertionError: can only join a started process.\u001b[39;00m\n\u001b[0;32m-> 1138\u001b[0m \u001b[43mw\u001b[49m\u001b[38;5;241;43m.\u001b[39;49m\u001b[43mstart\u001b[49m\u001b[43m(\u001b[49m\u001b[43m)\u001b[49m\n\u001b[1;32m   1139\u001b[0m \u001b[38;5;28mself\u001b[39m\u001b[38;5;241m.\u001b[39m_index_queues\u001b[38;5;241m.\u001b[39mappend(index_queue)\n\u001b[1;32m   1140\u001b[0m \u001b[38;5;28mself\u001b[39m\u001b[38;5;241m.\u001b[39m_workers\u001b[38;5;241m.\u001b[39mappend(w)\n",
      "File \u001b[0;32m~/anaconda3/envs/pytorch_env/lib/python3.9/multiprocessing/process.py:121\u001b[0m, in \u001b[0;36mBaseProcess.start\u001b[0;34m(self)\u001b[0m\n\u001b[1;32m    118\u001b[0m \u001b[38;5;28;01massert\u001b[39;00m \u001b[38;5;129;01mnot\u001b[39;00m _current_process\u001b[38;5;241m.\u001b[39m_config\u001b[38;5;241m.\u001b[39mget(\u001b[38;5;124m'\u001b[39m\u001b[38;5;124mdaemon\u001b[39m\u001b[38;5;124m'\u001b[39m), \\\n\u001b[1;32m    119\u001b[0m        \u001b[38;5;124m'\u001b[39m\u001b[38;5;124mdaemonic processes are not allowed to have children\u001b[39m\u001b[38;5;124m'\u001b[39m\n\u001b[1;32m    120\u001b[0m _cleanup()\n\u001b[0;32m--> 121\u001b[0m \u001b[38;5;28mself\u001b[39m\u001b[38;5;241m.\u001b[39m_popen \u001b[38;5;241m=\u001b[39m \u001b[38;5;28;43mself\u001b[39;49m\u001b[38;5;241;43m.\u001b[39;49m\u001b[43m_Popen\u001b[49m\u001b[43m(\u001b[49m\u001b[38;5;28;43mself\u001b[39;49m\u001b[43m)\u001b[49m\n\u001b[1;32m    122\u001b[0m \u001b[38;5;28mself\u001b[39m\u001b[38;5;241m.\u001b[39m_sentinel \u001b[38;5;241m=\u001b[39m \u001b[38;5;28mself\u001b[39m\u001b[38;5;241m.\u001b[39m_popen\u001b[38;5;241m.\u001b[39msentinel\n\u001b[1;32m    123\u001b[0m \u001b[38;5;66;03m# Avoid a refcycle if the target function holds an indirect\u001b[39;00m\n\u001b[1;32m    124\u001b[0m \u001b[38;5;66;03m# reference to the process object (see bpo-30775)\u001b[39;00m\n",
      "File \u001b[0;32m~/anaconda3/envs/pytorch_env/lib/python3.9/multiprocessing/context.py:224\u001b[0m, in \u001b[0;36mProcess._Popen\u001b[0;34m(process_obj)\u001b[0m\n\u001b[1;32m    222\u001b[0m \u001b[38;5;129m@staticmethod\u001b[39m\n\u001b[1;32m    223\u001b[0m \u001b[38;5;28;01mdef\u001b[39;00m \u001b[38;5;21m_Popen\u001b[39m(process_obj):\n\u001b[0;32m--> 224\u001b[0m     \u001b[38;5;28;01mreturn\u001b[39;00m \u001b[43m_default_context\u001b[49m\u001b[38;5;241;43m.\u001b[39;49m\u001b[43mget_context\u001b[49m\u001b[43m(\u001b[49m\u001b[43m)\u001b[49m\u001b[38;5;241;43m.\u001b[39;49m\u001b[43mProcess\u001b[49m\u001b[38;5;241;43m.\u001b[39;49m\u001b[43m_Popen\u001b[49m\u001b[43m(\u001b[49m\u001b[43mprocess_obj\u001b[49m\u001b[43m)\u001b[49m\n",
      "File \u001b[0;32m~/anaconda3/envs/pytorch_env/lib/python3.9/multiprocessing/context.py:277\u001b[0m, in \u001b[0;36mForkProcess._Popen\u001b[0;34m(process_obj)\u001b[0m\n\u001b[1;32m    274\u001b[0m \u001b[38;5;129m@staticmethod\u001b[39m\n\u001b[1;32m    275\u001b[0m \u001b[38;5;28;01mdef\u001b[39;00m \u001b[38;5;21m_Popen\u001b[39m(process_obj):\n\u001b[1;32m    276\u001b[0m     \u001b[38;5;28;01mfrom\u001b[39;00m \u001b[38;5;21;01m.\u001b[39;00m\u001b[38;5;21;01mpopen_fork\u001b[39;00m \u001b[38;5;28;01mimport\u001b[39;00m Popen\n\u001b[0;32m--> 277\u001b[0m     \u001b[38;5;28;01mreturn\u001b[39;00m \u001b[43mPopen\u001b[49m\u001b[43m(\u001b[49m\u001b[43mprocess_obj\u001b[49m\u001b[43m)\u001b[49m\n",
      "File \u001b[0;32m~/anaconda3/envs/pytorch_env/lib/python3.9/multiprocessing/popen_fork.py:19\u001b[0m, in \u001b[0;36mPopen.__init__\u001b[0;34m(self, process_obj)\u001b[0m\n\u001b[1;32m     17\u001b[0m \u001b[38;5;28mself\u001b[39m\u001b[38;5;241m.\u001b[39mreturncode \u001b[38;5;241m=\u001b[39m \u001b[38;5;28;01mNone\u001b[39;00m\n\u001b[1;32m     18\u001b[0m \u001b[38;5;28mself\u001b[39m\u001b[38;5;241m.\u001b[39mfinalizer \u001b[38;5;241m=\u001b[39m \u001b[38;5;28;01mNone\u001b[39;00m\n\u001b[0;32m---> 19\u001b[0m \u001b[38;5;28;43mself\u001b[39;49m\u001b[38;5;241;43m.\u001b[39;49m\u001b[43m_launch\u001b[49m\u001b[43m(\u001b[49m\u001b[43mprocess_obj\u001b[49m\u001b[43m)\u001b[49m\n",
      "File \u001b[0;32m~/anaconda3/envs/pytorch_env/lib/python3.9/multiprocessing/popen_fork.py:66\u001b[0m, in \u001b[0;36mPopen._launch\u001b[0;34m(self, process_obj)\u001b[0m\n\u001b[1;32m     64\u001b[0m parent_r, child_w \u001b[38;5;241m=\u001b[39m os\u001b[38;5;241m.\u001b[39mpipe()\n\u001b[1;32m     65\u001b[0m child_r, parent_w \u001b[38;5;241m=\u001b[39m os\u001b[38;5;241m.\u001b[39mpipe()\n\u001b[0;32m---> 66\u001b[0m \u001b[38;5;28mself\u001b[39m\u001b[38;5;241m.\u001b[39mpid \u001b[38;5;241m=\u001b[39m \u001b[43mos\u001b[49m\u001b[38;5;241;43m.\u001b[39;49m\u001b[43mfork\u001b[49m\u001b[43m(\u001b[49m\u001b[43m)\u001b[49m\n\u001b[1;32m     67\u001b[0m \u001b[38;5;28;01mif\u001b[39;00m \u001b[38;5;28mself\u001b[39m\u001b[38;5;241m.\u001b[39mpid \u001b[38;5;241m==\u001b[39m \u001b[38;5;241m0\u001b[39m:\n\u001b[1;32m     68\u001b[0m     \u001b[38;5;28;01mtry\u001b[39;00m:\n",
      "File \u001b[0;32m~/anaconda3/envs/pytorch_env/lib/python3.9/site-packages/debugpy/_vendored/pydevd/_pydev_bundle/pydev_monkey.py:956\u001b[0m, in \u001b[0;36mcreate_fork.<locals>.new_fork\u001b[0;34m()\u001b[0m\n\u001b[1;32m    954\u001b[0m     PydevdCustomization\u001b[38;5;241m.\u001b[39mDEFAULT_PROTOCOL \u001b[38;5;241m=\u001b[39m protocol\n\u001b[1;32m    955\u001b[0m     PydevdCustomization\u001b[38;5;241m.\u001b[39mDEBUG_MODE \u001b[38;5;241m=\u001b[39m debug_mode\n\u001b[0;32m--> 956\u001b[0m     \u001b[43m_on_forked_process\u001b[49m\u001b[43m(\u001b[49m\u001b[43msetup_tracing\u001b[49m\u001b[38;5;241;43m=\u001b[39;49m\u001b[43mapply_arg_patch\u001b[49m\u001b[43m \u001b[49m\u001b[38;5;129;43;01mand\u001b[39;49;00m\u001b[43m \u001b[49m\u001b[38;5;129;43;01mnot\u001b[39;49;00m\u001b[43m \u001b[49m\u001b[43mis_subprocess_fork\u001b[49m\u001b[43m)\u001b[49m\n\u001b[1;32m    957\u001b[0m \u001b[38;5;28;01melse\u001b[39;00m:\n\u001b[1;32m    958\u001b[0m     set_global_debugger(\u001b[38;5;28;01mNone\u001b[39;00m)\n",
      "File \u001b[0;32m~/anaconda3/envs/pytorch_env/lib/python3.9/site-packages/debugpy/_vendored/pydevd/_pydev_bundle/pydev_monkey.py:232\u001b[0m, in \u001b[0;36m_on_forked_process\u001b[0;34m(setup_tracing)\u001b[0m\n\u001b[1;32m    230\u001b[0m \u001b[38;5;28;01mimport\u001b[39;00m \u001b[38;5;21;01mpydevd\u001b[39;00m\n\u001b[1;32m    231\u001b[0m pydevd\u001b[38;5;241m.\u001b[39mthreadingCurrentThread()\u001b[38;5;241m.\u001b[39m__pydevd_main_thread \u001b[38;5;241m=\u001b[39m \u001b[38;5;28;01mTrue\u001b[39;00m\n\u001b[0;32m--> 232\u001b[0m \u001b[43mpydevd\u001b[49m\u001b[38;5;241;43m.\u001b[39;49m\u001b[43msettrace_forked\u001b[49m\u001b[43m(\u001b[49m\u001b[43msetup_tracing\u001b[49m\u001b[38;5;241;43m=\u001b[39;49m\u001b[43msetup_tracing\u001b[49m\u001b[43m)\u001b[49m\n",
      "File \u001b[0;32m~/anaconda3/envs/pytorch_env/lib/python3.9/site-packages/debugpy/_vendored/pydevd/pydevd.py:3134\u001b[0m, in \u001b[0;36msettrace_forked\u001b[0;34m(setup_tracing)\u001b[0m\n\u001b[1;32m   3131\u001b[0m \u001b[38;5;28;01mif\u001b[39;00m clear_thread_local_info \u001b[38;5;129;01mis\u001b[39;00m \u001b[38;5;129;01mnot\u001b[39;00m \u001b[38;5;28;01mNone\u001b[39;00m:\n\u001b[1;32m   3132\u001b[0m     clear_thread_local_info()\n\u001b[0;32m-> 3134\u001b[0m \u001b[43msettrace\u001b[49m\u001b[43m(\u001b[49m\n\u001b[1;32m   3135\u001b[0m \u001b[43m        \u001b[49m\u001b[43mhost\u001b[49m\u001b[43m,\u001b[49m\n\u001b[1;32m   3136\u001b[0m \u001b[43m        \u001b[49m\u001b[43mport\u001b[49m\u001b[38;5;241;43m=\u001b[39;49m\u001b[43mport\u001b[49m\u001b[43m,\u001b[49m\n\u001b[1;32m   3137\u001b[0m \u001b[43m        \u001b[49m\u001b[43msuspend\u001b[49m\u001b[38;5;241;43m=\u001b[39;49m\u001b[38;5;28;43;01mFalse\u001b[39;49;00m\u001b[43m,\u001b[49m\n\u001b[1;32m   3138\u001b[0m \u001b[43m        \u001b[49m\u001b[43mtrace_only_current_thread\u001b[49m\u001b[38;5;241;43m=\u001b[39;49m\u001b[38;5;28;43;01mFalse\u001b[39;49;00m\u001b[43m,\u001b[49m\n\u001b[1;32m   3139\u001b[0m \u001b[43m        \u001b[49m\u001b[43moverwrite_prev_trace\u001b[49m\u001b[38;5;241;43m=\u001b[39;49m\u001b[38;5;28;43;01mTrue\u001b[39;49;00m\u001b[43m,\u001b[49m\n\u001b[1;32m   3140\u001b[0m \u001b[43m        \u001b[49m\u001b[43mpatch_multiprocessing\u001b[49m\u001b[38;5;241;43m=\u001b[39;49m\u001b[38;5;28;43;01mTrue\u001b[39;49;00m\u001b[43m,\u001b[49m\n\u001b[1;32m   3141\u001b[0m \u001b[43m        \u001b[49m\u001b[43maccess_token\u001b[49m\u001b[38;5;241;43m=\u001b[39;49m\u001b[43maccess_token\u001b[49m\u001b[43m,\u001b[49m\n\u001b[1;32m   3142\u001b[0m \u001b[43m        \u001b[49m\u001b[43mclient_access_token\u001b[49m\u001b[38;5;241;43m=\u001b[39;49m\u001b[43mclient_access_token\u001b[49m\u001b[43m,\u001b[49m\n\u001b[1;32m   3143\u001b[0m \u001b[43m\u001b[49m\u001b[43m)\u001b[49m\n",
      "File \u001b[0;32m~/anaconda3/envs/pytorch_env/lib/python3.9/site-packages/debugpy/_vendored/pydevd/pydevd.py:2821\u001b[0m, in \u001b[0;36msettrace\u001b[0;34m(host, stdout_to_server, stderr_to_server, port, suspend, trace_only_current_thread, overwrite_prev_trace, patch_multiprocessing, stop_at_frame, block_until_connected, wait_for_ready_to_run, dont_trace_start_patterns, dont_trace_end_patterns, access_token, client_access_token, notify_stdin, **kwargs)\u001b[0m\n\u001b[1;32m   2818\u001b[0m __setup_holder__ \u001b[38;5;241m=\u001b[39m kwargs\u001b[38;5;241m.\u001b[39mget(\u001b[38;5;124m'\u001b[39m\u001b[38;5;124m__setup_holder__\u001b[39m\u001b[38;5;124m'\u001b[39m)\n\u001b[1;32m   2820\u001b[0m \u001b[38;5;28;01mwith\u001b[39;00m _set_trace_lock:\n\u001b[0;32m-> 2821\u001b[0m     \u001b[43m_locked_settrace\u001b[49m\u001b[43m(\u001b[49m\n\u001b[1;32m   2822\u001b[0m \u001b[43m        \u001b[49m\u001b[43mhost\u001b[49m\u001b[43m,\u001b[49m\n\u001b[1;32m   2823\u001b[0m \u001b[43m        \u001b[49m\u001b[43mstdout_to_server\u001b[49m\u001b[43m,\u001b[49m\n\u001b[1;32m   2824\u001b[0m \u001b[43m        \u001b[49m\u001b[43mstderr_to_server\u001b[49m\u001b[43m,\u001b[49m\n\u001b[1;32m   2825\u001b[0m \u001b[43m        \u001b[49m\u001b[43mport\u001b[49m\u001b[43m,\u001b[49m\n\u001b[1;32m   2826\u001b[0m \u001b[43m        \u001b[49m\u001b[43msuspend\u001b[49m\u001b[43m,\u001b[49m\n\u001b[1;32m   2827\u001b[0m \u001b[43m        \u001b[49m\u001b[43mtrace_only_current_thread\u001b[49m\u001b[43m,\u001b[49m\n\u001b[1;32m   2828\u001b[0m \u001b[43m        \u001b[49m\u001b[43mpatch_multiprocessing\u001b[49m\u001b[43m,\u001b[49m\n\u001b[1;32m   2829\u001b[0m \u001b[43m        \u001b[49m\u001b[43mstop_at_frame\u001b[49m\u001b[43m,\u001b[49m\n\u001b[1;32m   2830\u001b[0m \u001b[43m        \u001b[49m\u001b[43mblock_until_connected\u001b[49m\u001b[43m,\u001b[49m\n\u001b[1;32m   2831\u001b[0m \u001b[43m        \u001b[49m\u001b[43mwait_for_ready_to_run\u001b[49m\u001b[43m,\u001b[49m\n\u001b[1;32m   2832\u001b[0m \u001b[43m        \u001b[49m\u001b[43mdont_trace_start_patterns\u001b[49m\u001b[43m,\u001b[49m\n\u001b[1;32m   2833\u001b[0m \u001b[43m        \u001b[49m\u001b[43mdont_trace_end_patterns\u001b[49m\u001b[43m,\u001b[49m\n\u001b[1;32m   2834\u001b[0m \u001b[43m        \u001b[49m\u001b[43maccess_token\u001b[49m\u001b[43m,\u001b[49m\n\u001b[1;32m   2835\u001b[0m \u001b[43m        \u001b[49m\u001b[43mclient_access_token\u001b[49m\u001b[43m,\u001b[49m\n\u001b[1;32m   2836\u001b[0m \u001b[43m        \u001b[49m\u001b[43m__setup_holder__\u001b[49m\u001b[38;5;241;43m=\u001b[39;49m\u001b[43m__setup_holder__\u001b[49m\u001b[43m,\u001b[49m\n\u001b[1;32m   2837\u001b[0m \u001b[43m        \u001b[49m\u001b[43mnotify_stdin\u001b[49m\u001b[38;5;241;43m=\u001b[39;49m\u001b[43mnotify_stdin\u001b[49m\u001b[43m,\u001b[49m\n\u001b[1;32m   2838\u001b[0m \u001b[43m    \u001b[49m\u001b[43m)\u001b[49m\n",
      "File \u001b[0;32m~/anaconda3/envs/pytorch_env/lib/python3.9/site-packages/debugpy/_vendored/pydevd/pydevd.py:2929\u001b[0m, in \u001b[0;36m_locked_settrace\u001b[0;34m(host, stdout_to_server, stderr_to_server, port, suspend, trace_only_current_thread, patch_multiprocessing, stop_at_frame, block_until_connected, wait_for_ready_to_run, dont_trace_start_patterns, dont_trace_end_patterns, access_token, client_access_token, __setup_holder__, notify_stdin)\u001b[0m\n\u001b[1;32m   2926\u001b[0m \u001b[38;5;28;01mif\u001b[39;00m \u001b[38;5;129;01mnot\u001b[39;00m wait_for_ready_to_run:\n\u001b[1;32m   2927\u001b[0m     py_db\u001b[38;5;241m.\u001b[39mready_to_run \u001b[38;5;241m=\u001b[39m \u001b[38;5;28;01mTrue\u001b[39;00m\n\u001b[0;32m-> 2929\u001b[0m \u001b[43mpy_db\u001b[49m\u001b[38;5;241;43m.\u001b[39;49m\u001b[43mwait_for_ready_to_run\u001b[49m\u001b[43m(\u001b[49m\u001b[43m)\u001b[49m\n\u001b[1;32m   2930\u001b[0m py_db\u001b[38;5;241m.\u001b[39mstart_auxiliary_daemon_threads()\n\u001b[1;32m   2932\u001b[0m \u001b[38;5;28;01mtry\u001b[39;00m:\n",
      "File \u001b[0;32m~/anaconda3/envs/pytorch_env/lib/python3.9/site-packages/debugpy/_vendored/pydevd/pydevd.py:838\u001b[0m, in \u001b[0;36mPyDB.wait_for_ready_to_run\u001b[0;34m(self)\u001b[0m\n\u001b[1;32m    836\u001b[0m \u001b[38;5;28mself\u001b[39m\u001b[38;5;241m.\u001b[39mprocess_internal_commands()\n\u001b[1;32m    837\u001b[0m \u001b[38;5;28mself\u001b[39m\u001b[38;5;241m.\u001b[39m_py_db_command_thread_event\u001b[38;5;241m.\u001b[39mclear()\n\u001b[0;32m--> 838\u001b[0m \u001b[38;5;28;43mself\u001b[39;49m\u001b[38;5;241;43m.\u001b[39;49m\u001b[43m_py_db_command_thread_event\u001b[49m\u001b[38;5;241;43m.\u001b[39;49m\u001b[43mwait\u001b[49m\u001b[43m(\u001b[49m\u001b[38;5;241;43m0.1\u001b[39;49m\u001b[43m)\u001b[49m\n",
      "File \u001b[0;32m~/anaconda3/envs/pytorch_env/lib/python3.9/threading.py:581\u001b[0m, in \u001b[0;36mEvent.wait\u001b[0;34m(self, timeout)\u001b[0m\n\u001b[1;32m    579\u001b[0m signaled \u001b[38;5;241m=\u001b[39m \u001b[38;5;28mself\u001b[39m\u001b[38;5;241m.\u001b[39m_flag\n\u001b[1;32m    580\u001b[0m \u001b[38;5;28;01mif\u001b[39;00m \u001b[38;5;129;01mnot\u001b[39;00m signaled:\n\u001b[0;32m--> 581\u001b[0m     signaled \u001b[38;5;241m=\u001b[39m \u001b[38;5;28;43mself\u001b[39;49m\u001b[38;5;241;43m.\u001b[39;49m\u001b[43m_cond\u001b[49m\u001b[38;5;241;43m.\u001b[39;49m\u001b[43mwait\u001b[49m\u001b[43m(\u001b[49m\u001b[43mtimeout\u001b[49m\u001b[43m)\u001b[49m\n\u001b[1;32m    582\u001b[0m \u001b[38;5;28;01mreturn\u001b[39;00m signaled\n",
      "File \u001b[0;32m~/anaconda3/envs/pytorch_env/lib/python3.9/threading.py:316\u001b[0m, in \u001b[0;36mCondition.wait\u001b[0;34m(self, timeout)\u001b[0m\n\u001b[1;32m    314\u001b[0m \u001b[38;5;28;01melse\u001b[39;00m:\n\u001b[1;32m    315\u001b[0m     \u001b[38;5;28;01mif\u001b[39;00m timeout \u001b[38;5;241m>\u001b[39m \u001b[38;5;241m0\u001b[39m:\n\u001b[0;32m--> 316\u001b[0m         gotit \u001b[38;5;241m=\u001b[39m \u001b[43mwaiter\u001b[49m\u001b[38;5;241;43m.\u001b[39;49m\u001b[43macquire\u001b[49m\u001b[43m(\u001b[49m\u001b[38;5;28;43;01mTrue\u001b[39;49;00m\u001b[43m,\u001b[49m\u001b[43m \u001b[49m\u001b[43mtimeout\u001b[49m\u001b[43m)\u001b[49m\n\u001b[1;32m    317\u001b[0m     \u001b[38;5;28;01melse\u001b[39;00m:\n\u001b[1;32m    318\u001b[0m         gotit \u001b[38;5;241m=\u001b[39m waiter\u001b[38;5;241m.\u001b[39macquire(\u001b[38;5;28;01mFalse\u001b[39;00m)\n",
      "\u001b[0;31mKeyboardInterrupt\u001b[0m: "
     ]
    },
    {
     "ename": "KeyboardInterrupt",
     "evalue": "",
     "output_type": "error",
     "traceback": [
      "\u001b[0;31m---------------------------------------------------------------------------\u001b[0m",
      "\u001b[0;31mKeyboardInterrupt\u001b[0m                         Traceback (most recent call last)",
      "Cell \u001b[0;32mIn[36], line 32\u001b[0m\n\u001b[1;32m     30\u001b[0m \u001b[38;5;66;03m# Training DataLoader\u001b[39;00m\n\u001b[1;32m     31\u001b[0m \u001b[38;5;28mprint\u001b[39m(\u001b[38;5;124mf\u001b[39m\u001b[38;5;124m\"\u001b[39m\u001b[38;5;124m  Number of training sequences: \u001b[39m\u001b[38;5;132;01m{\u001b[39;00m\u001b[38;5;28mlen\u001b[39m(train_loader\u001b[38;5;241m.\u001b[39mdataset)\u001b[38;5;132;01m}\u001b[39;00m\u001b[38;5;124m\"\u001b[39m)\n\u001b[0;32m---> 32\u001b[0m first_train_item \u001b[38;5;241m=\u001b[39m \u001b[38;5;28mnext\u001b[39m(\u001b[38;5;28;43miter\u001b[39;49m\u001b[43m(\u001b[49m\u001b[43mtrain_loader\u001b[49m\u001b[43m)\u001b[49m)\n\u001b[1;32m     33\u001b[0m train_features, train_targets, train_masks, train_engine_ids, cycles \u001b[38;5;241m=\u001b[39m first_train_item\n\u001b[1;32m     34\u001b[0m \u001b[38;5;28mprint\u001b[39m(\u001b[38;5;124mf\u001b[39m\u001b[38;5;124m\"\u001b[39m\u001b[38;5;124m  Training Features Shape: \u001b[39m\u001b[38;5;132;01m{\u001b[39;00mtrain_features\u001b[38;5;241m.\u001b[39mshape\u001b[38;5;132;01m}\u001b[39;00m\u001b[38;5;124m\"\u001b[39m)\n",
      "File \u001b[0;32m~/anaconda3/envs/pytorch_env/lib/python3.9/site-packages/torch/utils/data/dataloader.py:484\u001b[0m, in \u001b[0;36mDataLoader.__iter__\u001b[0;34m(self)\u001b[0m\n\u001b[1;32m    482\u001b[0m     \u001b[38;5;28;01mreturn\u001b[39;00m \u001b[38;5;28mself\u001b[39m\u001b[38;5;241m.\u001b[39m_iterator\n\u001b[1;32m    483\u001b[0m \u001b[38;5;28;01melse\u001b[39;00m:\n\u001b[0;32m--> 484\u001b[0m     \u001b[38;5;28;01mreturn\u001b[39;00m \u001b[38;5;28;43mself\u001b[39;49m\u001b[38;5;241;43m.\u001b[39;49m\u001b[43m_get_iterator\u001b[49m\u001b[43m(\u001b[49m\u001b[43m)\u001b[49m\n",
      "File \u001b[0;32m~/anaconda3/envs/pytorch_env/lib/python3.9/site-packages/torch/utils/data/dataloader.py:415\u001b[0m, in \u001b[0;36mDataLoader._get_iterator\u001b[0;34m(self)\u001b[0m\n\u001b[1;32m    413\u001b[0m \u001b[38;5;28;01melse\u001b[39;00m:\n\u001b[1;32m    414\u001b[0m     \u001b[38;5;28mself\u001b[39m\u001b[38;5;241m.\u001b[39mcheck_worker_number_rationality()\n\u001b[0;32m--> 415\u001b[0m     \u001b[38;5;28;01mreturn\u001b[39;00m \u001b[43m_MultiProcessingDataLoaderIter\u001b[49m\u001b[43m(\u001b[49m\u001b[38;5;28;43mself\u001b[39;49m\u001b[43m)\u001b[49m\n",
      "File \u001b[0;32m~/anaconda3/envs/pytorch_env/lib/python3.9/site-packages/torch/utils/data/dataloader.py:1138\u001b[0m, in \u001b[0;36m_MultiProcessingDataLoaderIter.__init__\u001b[0;34m(self, loader)\u001b[0m\n\u001b[1;32m   1131\u001b[0m w\u001b[38;5;241m.\u001b[39mdaemon \u001b[38;5;241m=\u001b[39m \u001b[38;5;28;01mTrue\u001b[39;00m\n\u001b[1;32m   1132\u001b[0m \u001b[38;5;66;03m# NB: Process.start() actually take some time as it needs to\u001b[39;00m\n\u001b[1;32m   1133\u001b[0m \u001b[38;5;66;03m#     start a process and pass the arguments over via a pipe.\u001b[39;00m\n\u001b[1;32m   1134\u001b[0m \u001b[38;5;66;03m#     Therefore, we only add a worker to self._workers list after\u001b[39;00m\n\u001b[1;32m   1135\u001b[0m \u001b[38;5;66;03m#     it started, so that we do not call .join() if program dies\u001b[39;00m\n\u001b[1;32m   1136\u001b[0m \u001b[38;5;66;03m#     before it starts, and __del__ tries to join but will get:\u001b[39;00m\n\u001b[1;32m   1137\u001b[0m \u001b[38;5;66;03m#     AssertionError: can only join a started process.\u001b[39;00m\n\u001b[0;32m-> 1138\u001b[0m \u001b[43mw\u001b[49m\u001b[38;5;241;43m.\u001b[39;49m\u001b[43mstart\u001b[49m\u001b[43m(\u001b[49m\u001b[43m)\u001b[49m\n\u001b[1;32m   1139\u001b[0m \u001b[38;5;28mself\u001b[39m\u001b[38;5;241m.\u001b[39m_index_queues\u001b[38;5;241m.\u001b[39mappend(index_queue)\n\u001b[1;32m   1140\u001b[0m \u001b[38;5;28mself\u001b[39m\u001b[38;5;241m.\u001b[39m_workers\u001b[38;5;241m.\u001b[39mappend(w)\n",
      "File \u001b[0;32m~/anaconda3/envs/pytorch_env/lib/python3.9/multiprocessing/process.py:121\u001b[0m, in \u001b[0;36mBaseProcess.start\u001b[0;34m(self)\u001b[0m\n\u001b[1;32m    118\u001b[0m \u001b[38;5;28;01massert\u001b[39;00m \u001b[38;5;129;01mnot\u001b[39;00m _current_process\u001b[38;5;241m.\u001b[39m_config\u001b[38;5;241m.\u001b[39mget(\u001b[38;5;124m'\u001b[39m\u001b[38;5;124mdaemon\u001b[39m\u001b[38;5;124m'\u001b[39m), \\\n\u001b[1;32m    119\u001b[0m        \u001b[38;5;124m'\u001b[39m\u001b[38;5;124mdaemonic processes are not allowed to have children\u001b[39m\u001b[38;5;124m'\u001b[39m\n\u001b[1;32m    120\u001b[0m _cleanup()\n\u001b[0;32m--> 121\u001b[0m \u001b[38;5;28mself\u001b[39m\u001b[38;5;241m.\u001b[39m_popen \u001b[38;5;241m=\u001b[39m \u001b[38;5;28;43mself\u001b[39;49m\u001b[38;5;241;43m.\u001b[39;49m\u001b[43m_Popen\u001b[49m\u001b[43m(\u001b[49m\u001b[38;5;28;43mself\u001b[39;49m\u001b[43m)\u001b[49m\n\u001b[1;32m    122\u001b[0m \u001b[38;5;28mself\u001b[39m\u001b[38;5;241m.\u001b[39m_sentinel \u001b[38;5;241m=\u001b[39m \u001b[38;5;28mself\u001b[39m\u001b[38;5;241m.\u001b[39m_popen\u001b[38;5;241m.\u001b[39msentinel\n\u001b[1;32m    123\u001b[0m \u001b[38;5;66;03m# Avoid a refcycle if the target function holds an indirect\u001b[39;00m\n\u001b[1;32m    124\u001b[0m \u001b[38;5;66;03m# reference to the process object (see bpo-30775)\u001b[39;00m\n",
      "File \u001b[0;32m~/anaconda3/envs/pytorch_env/lib/python3.9/multiprocessing/context.py:224\u001b[0m, in \u001b[0;36mProcess._Popen\u001b[0;34m(process_obj)\u001b[0m\n\u001b[1;32m    222\u001b[0m \u001b[38;5;129m@staticmethod\u001b[39m\n\u001b[1;32m    223\u001b[0m \u001b[38;5;28;01mdef\u001b[39;00m \u001b[38;5;21m_Popen\u001b[39m(process_obj):\n\u001b[0;32m--> 224\u001b[0m     \u001b[38;5;28;01mreturn\u001b[39;00m \u001b[43m_default_context\u001b[49m\u001b[38;5;241;43m.\u001b[39;49m\u001b[43mget_context\u001b[49m\u001b[43m(\u001b[49m\u001b[43m)\u001b[49m\u001b[38;5;241;43m.\u001b[39;49m\u001b[43mProcess\u001b[49m\u001b[38;5;241;43m.\u001b[39;49m\u001b[43m_Popen\u001b[49m\u001b[43m(\u001b[49m\u001b[43mprocess_obj\u001b[49m\u001b[43m)\u001b[49m\n",
      "File \u001b[0;32m~/anaconda3/envs/pytorch_env/lib/python3.9/multiprocessing/context.py:277\u001b[0m, in \u001b[0;36mForkProcess._Popen\u001b[0;34m(process_obj)\u001b[0m\n\u001b[1;32m    274\u001b[0m \u001b[38;5;129m@staticmethod\u001b[39m\n\u001b[1;32m    275\u001b[0m \u001b[38;5;28;01mdef\u001b[39;00m \u001b[38;5;21m_Popen\u001b[39m(process_obj):\n\u001b[1;32m    276\u001b[0m     \u001b[38;5;28;01mfrom\u001b[39;00m \u001b[38;5;21;01m.\u001b[39;00m\u001b[38;5;21;01mpopen_fork\u001b[39;00m \u001b[38;5;28;01mimport\u001b[39;00m Popen\n\u001b[0;32m--> 277\u001b[0m     \u001b[38;5;28;01mreturn\u001b[39;00m \u001b[43mPopen\u001b[49m\u001b[43m(\u001b[49m\u001b[43mprocess_obj\u001b[49m\u001b[43m)\u001b[49m\n",
      "File \u001b[0;32m~/anaconda3/envs/pytorch_env/lib/python3.9/multiprocessing/popen_fork.py:19\u001b[0m, in \u001b[0;36mPopen.__init__\u001b[0;34m(self, process_obj)\u001b[0m\n\u001b[1;32m     17\u001b[0m \u001b[38;5;28mself\u001b[39m\u001b[38;5;241m.\u001b[39mreturncode \u001b[38;5;241m=\u001b[39m \u001b[38;5;28;01mNone\u001b[39;00m\n\u001b[1;32m     18\u001b[0m \u001b[38;5;28mself\u001b[39m\u001b[38;5;241m.\u001b[39mfinalizer \u001b[38;5;241m=\u001b[39m \u001b[38;5;28;01mNone\u001b[39;00m\n\u001b[0;32m---> 19\u001b[0m \u001b[38;5;28;43mself\u001b[39;49m\u001b[38;5;241;43m.\u001b[39;49m\u001b[43m_launch\u001b[49m\u001b[43m(\u001b[49m\u001b[43mprocess_obj\u001b[49m\u001b[43m)\u001b[49m\n",
      "File \u001b[0;32m~/anaconda3/envs/pytorch_env/lib/python3.9/multiprocessing/popen_fork.py:66\u001b[0m, in \u001b[0;36mPopen._launch\u001b[0;34m(self, process_obj)\u001b[0m\n\u001b[1;32m     64\u001b[0m parent_r, child_w \u001b[38;5;241m=\u001b[39m os\u001b[38;5;241m.\u001b[39mpipe()\n\u001b[1;32m     65\u001b[0m child_r, parent_w \u001b[38;5;241m=\u001b[39m os\u001b[38;5;241m.\u001b[39mpipe()\n\u001b[0;32m---> 66\u001b[0m \u001b[38;5;28mself\u001b[39m\u001b[38;5;241m.\u001b[39mpid \u001b[38;5;241m=\u001b[39m \u001b[43mos\u001b[49m\u001b[38;5;241;43m.\u001b[39;49m\u001b[43mfork\u001b[49m\u001b[43m(\u001b[49m\u001b[43m)\u001b[49m\n\u001b[1;32m     67\u001b[0m \u001b[38;5;28;01mif\u001b[39;00m \u001b[38;5;28mself\u001b[39m\u001b[38;5;241m.\u001b[39mpid \u001b[38;5;241m==\u001b[39m \u001b[38;5;241m0\u001b[39m:\n\u001b[1;32m     68\u001b[0m     \u001b[38;5;28;01mtry\u001b[39;00m:\n",
      "File \u001b[0;32m~/anaconda3/envs/pytorch_env/lib/python3.9/site-packages/debugpy/_vendored/pydevd/_pydev_bundle/pydev_monkey.py:956\u001b[0m, in \u001b[0;36mcreate_fork.<locals>.new_fork\u001b[0;34m()\u001b[0m\n\u001b[1;32m    954\u001b[0m     PydevdCustomization\u001b[38;5;241m.\u001b[39mDEFAULT_PROTOCOL \u001b[38;5;241m=\u001b[39m protocol\n\u001b[1;32m    955\u001b[0m     PydevdCustomization\u001b[38;5;241m.\u001b[39mDEBUG_MODE \u001b[38;5;241m=\u001b[39m debug_mode\n\u001b[0;32m--> 956\u001b[0m     \u001b[43m_on_forked_process\u001b[49m\u001b[43m(\u001b[49m\u001b[43msetup_tracing\u001b[49m\u001b[38;5;241;43m=\u001b[39;49m\u001b[43mapply_arg_patch\u001b[49m\u001b[43m \u001b[49m\u001b[38;5;129;43;01mand\u001b[39;49;00m\u001b[43m \u001b[49m\u001b[38;5;129;43;01mnot\u001b[39;49;00m\u001b[43m \u001b[49m\u001b[43mis_subprocess_fork\u001b[49m\u001b[43m)\u001b[49m\n\u001b[1;32m    957\u001b[0m \u001b[38;5;28;01melse\u001b[39;00m:\n\u001b[1;32m    958\u001b[0m     set_global_debugger(\u001b[38;5;28;01mNone\u001b[39;00m)\n",
      "File \u001b[0;32m~/anaconda3/envs/pytorch_env/lib/python3.9/site-packages/debugpy/_vendored/pydevd/_pydev_bundle/pydev_monkey.py:232\u001b[0m, in \u001b[0;36m_on_forked_process\u001b[0;34m(setup_tracing)\u001b[0m\n\u001b[1;32m    230\u001b[0m \u001b[38;5;28;01mimport\u001b[39;00m \u001b[38;5;21;01mpydevd\u001b[39;00m\n\u001b[1;32m    231\u001b[0m pydevd\u001b[38;5;241m.\u001b[39mthreadingCurrentThread()\u001b[38;5;241m.\u001b[39m__pydevd_main_thread \u001b[38;5;241m=\u001b[39m \u001b[38;5;28;01mTrue\u001b[39;00m\n\u001b[0;32m--> 232\u001b[0m \u001b[43mpydevd\u001b[49m\u001b[38;5;241;43m.\u001b[39;49m\u001b[43msettrace_forked\u001b[49m\u001b[43m(\u001b[49m\u001b[43msetup_tracing\u001b[49m\u001b[38;5;241;43m=\u001b[39;49m\u001b[43msetup_tracing\u001b[49m\u001b[43m)\u001b[49m\n",
      "File \u001b[0;32m~/anaconda3/envs/pytorch_env/lib/python3.9/site-packages/debugpy/_vendored/pydevd/pydevd.py:3134\u001b[0m, in \u001b[0;36msettrace_forked\u001b[0;34m(setup_tracing)\u001b[0m\n\u001b[1;32m   3131\u001b[0m \u001b[38;5;28;01mif\u001b[39;00m clear_thread_local_info \u001b[38;5;129;01mis\u001b[39;00m \u001b[38;5;129;01mnot\u001b[39;00m \u001b[38;5;28;01mNone\u001b[39;00m:\n\u001b[1;32m   3132\u001b[0m     clear_thread_local_info()\n\u001b[0;32m-> 3134\u001b[0m \u001b[43msettrace\u001b[49m\u001b[43m(\u001b[49m\n\u001b[1;32m   3135\u001b[0m \u001b[43m        \u001b[49m\u001b[43mhost\u001b[49m\u001b[43m,\u001b[49m\n\u001b[1;32m   3136\u001b[0m \u001b[43m        \u001b[49m\u001b[43mport\u001b[49m\u001b[38;5;241;43m=\u001b[39;49m\u001b[43mport\u001b[49m\u001b[43m,\u001b[49m\n\u001b[1;32m   3137\u001b[0m \u001b[43m        \u001b[49m\u001b[43msuspend\u001b[49m\u001b[38;5;241;43m=\u001b[39;49m\u001b[38;5;28;43;01mFalse\u001b[39;49;00m\u001b[43m,\u001b[49m\n\u001b[1;32m   3138\u001b[0m \u001b[43m        \u001b[49m\u001b[43mtrace_only_current_thread\u001b[49m\u001b[38;5;241;43m=\u001b[39;49m\u001b[38;5;28;43;01mFalse\u001b[39;49;00m\u001b[43m,\u001b[49m\n\u001b[1;32m   3139\u001b[0m \u001b[43m        \u001b[49m\u001b[43moverwrite_prev_trace\u001b[49m\u001b[38;5;241;43m=\u001b[39;49m\u001b[38;5;28;43;01mTrue\u001b[39;49;00m\u001b[43m,\u001b[49m\n\u001b[1;32m   3140\u001b[0m \u001b[43m        \u001b[49m\u001b[43mpatch_multiprocessing\u001b[49m\u001b[38;5;241;43m=\u001b[39;49m\u001b[38;5;28;43;01mTrue\u001b[39;49;00m\u001b[43m,\u001b[49m\n\u001b[1;32m   3141\u001b[0m \u001b[43m        \u001b[49m\u001b[43maccess_token\u001b[49m\u001b[38;5;241;43m=\u001b[39;49m\u001b[43maccess_token\u001b[49m\u001b[43m,\u001b[49m\n\u001b[1;32m   3142\u001b[0m \u001b[43m        \u001b[49m\u001b[43mclient_access_token\u001b[49m\u001b[38;5;241;43m=\u001b[39;49m\u001b[43mclient_access_token\u001b[49m\u001b[43m,\u001b[49m\n\u001b[1;32m   3143\u001b[0m \u001b[43m\u001b[49m\u001b[43m)\u001b[49m\n",
      "File \u001b[0;32m~/anaconda3/envs/pytorch_env/lib/python3.9/site-packages/debugpy/_vendored/pydevd/pydevd.py:2821\u001b[0m, in \u001b[0;36msettrace\u001b[0;34m(host, stdout_to_server, stderr_to_server, port, suspend, trace_only_current_thread, overwrite_prev_trace, patch_multiprocessing, stop_at_frame, block_until_connected, wait_for_ready_to_run, dont_trace_start_patterns, dont_trace_end_patterns, access_token, client_access_token, notify_stdin, **kwargs)\u001b[0m\n\u001b[1;32m   2818\u001b[0m __setup_holder__ \u001b[38;5;241m=\u001b[39m kwargs\u001b[38;5;241m.\u001b[39mget(\u001b[38;5;124m'\u001b[39m\u001b[38;5;124m__setup_holder__\u001b[39m\u001b[38;5;124m'\u001b[39m)\n\u001b[1;32m   2820\u001b[0m \u001b[38;5;28;01mwith\u001b[39;00m _set_trace_lock:\n\u001b[0;32m-> 2821\u001b[0m     \u001b[43m_locked_settrace\u001b[49m\u001b[43m(\u001b[49m\n\u001b[1;32m   2822\u001b[0m \u001b[43m        \u001b[49m\u001b[43mhost\u001b[49m\u001b[43m,\u001b[49m\n\u001b[1;32m   2823\u001b[0m \u001b[43m        \u001b[49m\u001b[43mstdout_to_server\u001b[49m\u001b[43m,\u001b[49m\n\u001b[1;32m   2824\u001b[0m \u001b[43m        \u001b[49m\u001b[43mstderr_to_server\u001b[49m\u001b[43m,\u001b[49m\n\u001b[1;32m   2825\u001b[0m \u001b[43m        \u001b[49m\u001b[43mport\u001b[49m\u001b[43m,\u001b[49m\n\u001b[1;32m   2826\u001b[0m \u001b[43m        \u001b[49m\u001b[43msuspend\u001b[49m\u001b[43m,\u001b[49m\n\u001b[1;32m   2827\u001b[0m \u001b[43m        \u001b[49m\u001b[43mtrace_only_current_thread\u001b[49m\u001b[43m,\u001b[49m\n\u001b[1;32m   2828\u001b[0m \u001b[43m        \u001b[49m\u001b[43mpatch_multiprocessing\u001b[49m\u001b[43m,\u001b[49m\n\u001b[1;32m   2829\u001b[0m \u001b[43m        \u001b[49m\u001b[43mstop_at_frame\u001b[49m\u001b[43m,\u001b[49m\n\u001b[1;32m   2830\u001b[0m \u001b[43m        \u001b[49m\u001b[43mblock_until_connected\u001b[49m\u001b[43m,\u001b[49m\n\u001b[1;32m   2831\u001b[0m \u001b[43m        \u001b[49m\u001b[43mwait_for_ready_to_run\u001b[49m\u001b[43m,\u001b[49m\n\u001b[1;32m   2832\u001b[0m \u001b[43m        \u001b[49m\u001b[43mdont_trace_start_patterns\u001b[49m\u001b[43m,\u001b[49m\n\u001b[1;32m   2833\u001b[0m \u001b[43m        \u001b[49m\u001b[43mdont_trace_end_patterns\u001b[49m\u001b[43m,\u001b[49m\n\u001b[1;32m   2834\u001b[0m \u001b[43m        \u001b[49m\u001b[43maccess_token\u001b[49m\u001b[43m,\u001b[49m\n\u001b[1;32m   2835\u001b[0m \u001b[43m        \u001b[49m\u001b[43mclient_access_token\u001b[49m\u001b[43m,\u001b[49m\n\u001b[1;32m   2836\u001b[0m \u001b[43m        \u001b[49m\u001b[43m__setup_holder__\u001b[49m\u001b[38;5;241;43m=\u001b[39;49m\u001b[43m__setup_holder__\u001b[49m\u001b[43m,\u001b[49m\n\u001b[1;32m   2837\u001b[0m \u001b[43m        \u001b[49m\u001b[43mnotify_stdin\u001b[49m\u001b[38;5;241;43m=\u001b[39;49m\u001b[43mnotify_stdin\u001b[49m\u001b[43m,\u001b[49m\n\u001b[1;32m   2838\u001b[0m \u001b[43m    \u001b[49m\u001b[43m)\u001b[49m\n",
      "File \u001b[0;32m~/anaconda3/envs/pytorch_env/lib/python3.9/site-packages/debugpy/_vendored/pydevd/pydevd.py:2929\u001b[0m, in \u001b[0;36m_locked_settrace\u001b[0;34m(host, stdout_to_server, stderr_to_server, port, suspend, trace_only_current_thread, patch_multiprocessing, stop_at_frame, block_until_connected, wait_for_ready_to_run, dont_trace_start_patterns, dont_trace_end_patterns, access_token, client_access_token, __setup_holder__, notify_stdin)\u001b[0m\n\u001b[1;32m   2926\u001b[0m \u001b[38;5;28;01mif\u001b[39;00m \u001b[38;5;129;01mnot\u001b[39;00m wait_for_ready_to_run:\n\u001b[1;32m   2927\u001b[0m     py_db\u001b[38;5;241m.\u001b[39mready_to_run \u001b[38;5;241m=\u001b[39m \u001b[38;5;28;01mTrue\u001b[39;00m\n\u001b[0;32m-> 2929\u001b[0m \u001b[43mpy_db\u001b[49m\u001b[38;5;241;43m.\u001b[39;49m\u001b[43mwait_for_ready_to_run\u001b[49m\u001b[43m(\u001b[49m\u001b[43m)\u001b[49m\n\u001b[1;32m   2930\u001b[0m py_db\u001b[38;5;241m.\u001b[39mstart_auxiliary_daemon_threads()\n\u001b[1;32m   2932\u001b[0m \u001b[38;5;28;01mtry\u001b[39;00m:\n",
      "File \u001b[0;32m~/anaconda3/envs/pytorch_env/lib/python3.9/site-packages/debugpy/_vendored/pydevd/pydevd.py:838\u001b[0m, in \u001b[0;36mPyDB.wait_for_ready_to_run\u001b[0;34m(self)\u001b[0m\n\u001b[1;32m    836\u001b[0m \u001b[38;5;28mself\u001b[39m\u001b[38;5;241m.\u001b[39mprocess_internal_commands()\n\u001b[1;32m    837\u001b[0m \u001b[38;5;28mself\u001b[39m\u001b[38;5;241m.\u001b[39m_py_db_command_thread_event\u001b[38;5;241m.\u001b[39mclear()\n\u001b[0;32m--> 838\u001b[0m \u001b[38;5;28;43mself\u001b[39;49m\u001b[38;5;241;43m.\u001b[39;49m\u001b[43m_py_db_command_thread_event\u001b[49m\u001b[38;5;241;43m.\u001b[39;49m\u001b[43mwait\u001b[49m\u001b[43m(\u001b[49m\u001b[38;5;241;43m0.1\u001b[39;49m\u001b[43m)\u001b[49m\n",
      "File \u001b[0;32m~/anaconda3/envs/pytorch_env/lib/python3.9/threading.py:581\u001b[0m, in \u001b[0;36mEvent.wait\u001b[0;34m(self, timeout)\u001b[0m\n\u001b[1;32m    579\u001b[0m signaled \u001b[38;5;241m=\u001b[39m \u001b[38;5;28mself\u001b[39m\u001b[38;5;241m.\u001b[39m_flag\n\u001b[1;32m    580\u001b[0m \u001b[38;5;28;01mif\u001b[39;00m \u001b[38;5;129;01mnot\u001b[39;00m signaled:\n\u001b[0;32m--> 581\u001b[0m     signaled \u001b[38;5;241m=\u001b[39m \u001b[38;5;28;43mself\u001b[39;49m\u001b[38;5;241;43m.\u001b[39;49m\u001b[43m_cond\u001b[49m\u001b[38;5;241;43m.\u001b[39;49m\u001b[43mwait\u001b[49m\u001b[43m(\u001b[49m\u001b[43mtimeout\u001b[49m\u001b[43m)\u001b[49m\n\u001b[1;32m    582\u001b[0m \u001b[38;5;28;01mreturn\u001b[39;00m signaled\n",
      "File \u001b[0;32m~/anaconda3/envs/pytorch_env/lib/python3.9/threading.py:316\u001b[0m, in \u001b[0;36mCondition.wait\u001b[0;34m(self, timeout)\u001b[0m\n\u001b[1;32m    314\u001b[0m \u001b[38;5;28;01melse\u001b[39;00m:\n\u001b[1;32m    315\u001b[0m     \u001b[38;5;28;01mif\u001b[39;00m timeout \u001b[38;5;241m>\u001b[39m \u001b[38;5;241m0\u001b[39m:\n\u001b[0;32m--> 316\u001b[0m         gotit \u001b[38;5;241m=\u001b[39m \u001b[43mwaiter\u001b[49m\u001b[38;5;241;43m.\u001b[39;49m\u001b[43macquire\u001b[49m\u001b[43m(\u001b[49m\u001b[38;5;28;43;01mTrue\u001b[39;49;00m\u001b[43m,\u001b[49m\u001b[43m \u001b[49m\u001b[43mtimeout\u001b[49m\u001b[43m)\u001b[49m\n\u001b[1;32m    317\u001b[0m     \u001b[38;5;28;01melse\u001b[39;00m:\n\u001b[1;32m    318\u001b[0m         gotit \u001b[38;5;241m=\u001b[39m waiter\u001b[38;5;241m.\u001b[39macquire(\u001b[38;5;28;01mFalse\u001b[39;00m)\n",
      "\u001b[0;31mKeyboardInterrupt\u001b[0m: "
     ]
    },
    {
     "ename": "KeyboardInterrupt",
     "evalue": "",
     "output_type": "error",
     "traceback": [
      "\u001b[0;31m---------------------------------------------------------------------------\u001b[0m",
      "\u001b[0;31mKeyboardInterrupt\u001b[0m                         Traceback (most recent call last)",
      "Cell \u001b[0;32mIn[36], line 32\u001b[0m\n\u001b[1;32m     30\u001b[0m \u001b[38;5;66;03m# Training DataLoader\u001b[39;00m\n\u001b[1;32m     31\u001b[0m \u001b[38;5;28mprint\u001b[39m(\u001b[38;5;124mf\u001b[39m\u001b[38;5;124m\"\u001b[39m\u001b[38;5;124m  Number of training sequences: \u001b[39m\u001b[38;5;132;01m{\u001b[39;00m\u001b[38;5;28mlen\u001b[39m(train_loader\u001b[38;5;241m.\u001b[39mdataset)\u001b[38;5;132;01m}\u001b[39;00m\u001b[38;5;124m\"\u001b[39m)\n\u001b[0;32m---> 32\u001b[0m first_train_item \u001b[38;5;241m=\u001b[39m \u001b[38;5;28mnext\u001b[39m(\u001b[38;5;28;43miter\u001b[39;49m\u001b[43m(\u001b[49m\u001b[43mtrain_loader\u001b[49m\u001b[43m)\u001b[49m)\n\u001b[1;32m     33\u001b[0m train_features, train_targets, train_masks, train_engine_ids, cycles \u001b[38;5;241m=\u001b[39m first_train_item\n\u001b[1;32m     34\u001b[0m \u001b[38;5;28mprint\u001b[39m(\u001b[38;5;124mf\u001b[39m\u001b[38;5;124m\"\u001b[39m\u001b[38;5;124m  Training Features Shape: \u001b[39m\u001b[38;5;132;01m{\u001b[39;00mtrain_features\u001b[38;5;241m.\u001b[39mshape\u001b[38;5;132;01m}\u001b[39;00m\u001b[38;5;124m\"\u001b[39m)\n",
      "File \u001b[0;32m~/anaconda3/envs/pytorch_env/lib/python3.9/site-packages/torch/utils/data/dataloader.py:484\u001b[0m, in \u001b[0;36mDataLoader.__iter__\u001b[0;34m(self)\u001b[0m\n\u001b[1;32m    482\u001b[0m     \u001b[38;5;28;01mreturn\u001b[39;00m \u001b[38;5;28mself\u001b[39m\u001b[38;5;241m.\u001b[39m_iterator\n\u001b[1;32m    483\u001b[0m \u001b[38;5;28;01melse\u001b[39;00m:\n\u001b[0;32m--> 484\u001b[0m     \u001b[38;5;28;01mreturn\u001b[39;00m \u001b[38;5;28;43mself\u001b[39;49m\u001b[38;5;241;43m.\u001b[39;49m\u001b[43m_get_iterator\u001b[49m\u001b[43m(\u001b[49m\u001b[43m)\u001b[49m\n",
      "File \u001b[0;32m~/anaconda3/envs/pytorch_env/lib/python3.9/site-packages/torch/utils/data/dataloader.py:415\u001b[0m, in \u001b[0;36mDataLoader._get_iterator\u001b[0;34m(self)\u001b[0m\n\u001b[1;32m    413\u001b[0m \u001b[38;5;28;01melse\u001b[39;00m:\n\u001b[1;32m    414\u001b[0m     \u001b[38;5;28mself\u001b[39m\u001b[38;5;241m.\u001b[39mcheck_worker_number_rationality()\n\u001b[0;32m--> 415\u001b[0m     \u001b[38;5;28;01mreturn\u001b[39;00m \u001b[43m_MultiProcessingDataLoaderIter\u001b[49m\u001b[43m(\u001b[49m\u001b[38;5;28;43mself\u001b[39;49m\u001b[43m)\u001b[49m\n",
      "File \u001b[0;32m~/anaconda3/envs/pytorch_env/lib/python3.9/site-packages/torch/utils/data/dataloader.py:1138\u001b[0m, in \u001b[0;36m_MultiProcessingDataLoaderIter.__init__\u001b[0;34m(self, loader)\u001b[0m\n\u001b[1;32m   1131\u001b[0m w\u001b[38;5;241m.\u001b[39mdaemon \u001b[38;5;241m=\u001b[39m \u001b[38;5;28;01mTrue\u001b[39;00m\n\u001b[1;32m   1132\u001b[0m \u001b[38;5;66;03m# NB: Process.start() actually take some time as it needs to\u001b[39;00m\n\u001b[1;32m   1133\u001b[0m \u001b[38;5;66;03m#     start a process and pass the arguments over via a pipe.\u001b[39;00m\n\u001b[1;32m   1134\u001b[0m \u001b[38;5;66;03m#     Therefore, we only add a worker to self._workers list after\u001b[39;00m\n\u001b[1;32m   1135\u001b[0m \u001b[38;5;66;03m#     it started, so that we do not call .join() if program dies\u001b[39;00m\n\u001b[1;32m   1136\u001b[0m \u001b[38;5;66;03m#     before it starts, and __del__ tries to join but will get:\u001b[39;00m\n\u001b[1;32m   1137\u001b[0m \u001b[38;5;66;03m#     AssertionError: can only join a started process.\u001b[39;00m\n\u001b[0;32m-> 1138\u001b[0m \u001b[43mw\u001b[49m\u001b[38;5;241;43m.\u001b[39;49m\u001b[43mstart\u001b[49m\u001b[43m(\u001b[49m\u001b[43m)\u001b[49m\n\u001b[1;32m   1139\u001b[0m \u001b[38;5;28mself\u001b[39m\u001b[38;5;241m.\u001b[39m_index_queues\u001b[38;5;241m.\u001b[39mappend(index_queue)\n\u001b[1;32m   1140\u001b[0m \u001b[38;5;28mself\u001b[39m\u001b[38;5;241m.\u001b[39m_workers\u001b[38;5;241m.\u001b[39mappend(w)\n",
      "File \u001b[0;32m~/anaconda3/envs/pytorch_env/lib/python3.9/multiprocessing/process.py:121\u001b[0m, in \u001b[0;36mBaseProcess.start\u001b[0;34m(self)\u001b[0m\n\u001b[1;32m    118\u001b[0m \u001b[38;5;28;01massert\u001b[39;00m \u001b[38;5;129;01mnot\u001b[39;00m _current_process\u001b[38;5;241m.\u001b[39m_config\u001b[38;5;241m.\u001b[39mget(\u001b[38;5;124m'\u001b[39m\u001b[38;5;124mdaemon\u001b[39m\u001b[38;5;124m'\u001b[39m), \\\n\u001b[1;32m    119\u001b[0m        \u001b[38;5;124m'\u001b[39m\u001b[38;5;124mdaemonic processes are not allowed to have children\u001b[39m\u001b[38;5;124m'\u001b[39m\n\u001b[1;32m    120\u001b[0m _cleanup()\n\u001b[0;32m--> 121\u001b[0m \u001b[38;5;28mself\u001b[39m\u001b[38;5;241m.\u001b[39m_popen \u001b[38;5;241m=\u001b[39m \u001b[38;5;28;43mself\u001b[39;49m\u001b[38;5;241;43m.\u001b[39;49m\u001b[43m_Popen\u001b[49m\u001b[43m(\u001b[49m\u001b[38;5;28;43mself\u001b[39;49m\u001b[43m)\u001b[49m\n\u001b[1;32m    122\u001b[0m \u001b[38;5;28mself\u001b[39m\u001b[38;5;241m.\u001b[39m_sentinel \u001b[38;5;241m=\u001b[39m \u001b[38;5;28mself\u001b[39m\u001b[38;5;241m.\u001b[39m_popen\u001b[38;5;241m.\u001b[39msentinel\n\u001b[1;32m    123\u001b[0m \u001b[38;5;66;03m# Avoid a refcycle if the target function holds an indirect\u001b[39;00m\n\u001b[1;32m    124\u001b[0m \u001b[38;5;66;03m# reference to the process object (see bpo-30775)\u001b[39;00m\n",
      "File \u001b[0;32m~/anaconda3/envs/pytorch_env/lib/python3.9/multiprocessing/context.py:224\u001b[0m, in \u001b[0;36mProcess._Popen\u001b[0;34m(process_obj)\u001b[0m\n\u001b[1;32m    222\u001b[0m \u001b[38;5;129m@staticmethod\u001b[39m\n\u001b[1;32m    223\u001b[0m \u001b[38;5;28;01mdef\u001b[39;00m \u001b[38;5;21m_Popen\u001b[39m(process_obj):\n\u001b[0;32m--> 224\u001b[0m     \u001b[38;5;28;01mreturn\u001b[39;00m \u001b[43m_default_context\u001b[49m\u001b[38;5;241;43m.\u001b[39;49m\u001b[43mget_context\u001b[49m\u001b[43m(\u001b[49m\u001b[43m)\u001b[49m\u001b[38;5;241;43m.\u001b[39;49m\u001b[43mProcess\u001b[49m\u001b[38;5;241;43m.\u001b[39;49m\u001b[43m_Popen\u001b[49m\u001b[43m(\u001b[49m\u001b[43mprocess_obj\u001b[49m\u001b[43m)\u001b[49m\n",
      "File \u001b[0;32m~/anaconda3/envs/pytorch_env/lib/python3.9/multiprocessing/context.py:277\u001b[0m, in \u001b[0;36mForkProcess._Popen\u001b[0;34m(process_obj)\u001b[0m\n\u001b[1;32m    274\u001b[0m \u001b[38;5;129m@staticmethod\u001b[39m\n\u001b[1;32m    275\u001b[0m \u001b[38;5;28;01mdef\u001b[39;00m \u001b[38;5;21m_Popen\u001b[39m(process_obj):\n\u001b[1;32m    276\u001b[0m     \u001b[38;5;28;01mfrom\u001b[39;00m \u001b[38;5;21;01m.\u001b[39;00m\u001b[38;5;21;01mpopen_fork\u001b[39;00m \u001b[38;5;28;01mimport\u001b[39;00m Popen\n\u001b[0;32m--> 277\u001b[0m     \u001b[38;5;28;01mreturn\u001b[39;00m \u001b[43mPopen\u001b[49m\u001b[43m(\u001b[49m\u001b[43mprocess_obj\u001b[49m\u001b[43m)\u001b[49m\n",
      "File \u001b[0;32m~/anaconda3/envs/pytorch_env/lib/python3.9/multiprocessing/popen_fork.py:19\u001b[0m, in \u001b[0;36mPopen.__init__\u001b[0;34m(self, process_obj)\u001b[0m\n\u001b[1;32m     17\u001b[0m \u001b[38;5;28mself\u001b[39m\u001b[38;5;241m.\u001b[39mreturncode \u001b[38;5;241m=\u001b[39m \u001b[38;5;28;01mNone\u001b[39;00m\n\u001b[1;32m     18\u001b[0m \u001b[38;5;28mself\u001b[39m\u001b[38;5;241m.\u001b[39mfinalizer \u001b[38;5;241m=\u001b[39m \u001b[38;5;28;01mNone\u001b[39;00m\n\u001b[0;32m---> 19\u001b[0m \u001b[38;5;28;43mself\u001b[39;49m\u001b[38;5;241;43m.\u001b[39;49m\u001b[43m_launch\u001b[49m\u001b[43m(\u001b[49m\u001b[43mprocess_obj\u001b[49m\u001b[43m)\u001b[49m\n",
      "File \u001b[0;32m~/anaconda3/envs/pytorch_env/lib/python3.9/multiprocessing/popen_fork.py:66\u001b[0m, in \u001b[0;36mPopen._launch\u001b[0;34m(self, process_obj)\u001b[0m\n\u001b[1;32m     64\u001b[0m parent_r, child_w \u001b[38;5;241m=\u001b[39m os\u001b[38;5;241m.\u001b[39mpipe()\n\u001b[1;32m     65\u001b[0m child_r, parent_w \u001b[38;5;241m=\u001b[39m os\u001b[38;5;241m.\u001b[39mpipe()\n\u001b[0;32m---> 66\u001b[0m \u001b[38;5;28mself\u001b[39m\u001b[38;5;241m.\u001b[39mpid \u001b[38;5;241m=\u001b[39m \u001b[43mos\u001b[49m\u001b[38;5;241;43m.\u001b[39;49m\u001b[43mfork\u001b[49m\u001b[43m(\u001b[49m\u001b[43m)\u001b[49m\n\u001b[1;32m     67\u001b[0m \u001b[38;5;28;01mif\u001b[39;00m \u001b[38;5;28mself\u001b[39m\u001b[38;5;241m.\u001b[39mpid \u001b[38;5;241m==\u001b[39m \u001b[38;5;241m0\u001b[39m:\n\u001b[1;32m     68\u001b[0m     \u001b[38;5;28;01mtry\u001b[39;00m:\n",
      "File \u001b[0;32m~/anaconda3/envs/pytorch_env/lib/python3.9/site-packages/debugpy/_vendored/pydevd/_pydev_bundle/pydev_monkey.py:956\u001b[0m, in \u001b[0;36mcreate_fork.<locals>.new_fork\u001b[0;34m()\u001b[0m\n\u001b[1;32m    954\u001b[0m     PydevdCustomization\u001b[38;5;241m.\u001b[39mDEFAULT_PROTOCOL \u001b[38;5;241m=\u001b[39m protocol\n\u001b[1;32m    955\u001b[0m     PydevdCustomization\u001b[38;5;241m.\u001b[39mDEBUG_MODE \u001b[38;5;241m=\u001b[39m debug_mode\n\u001b[0;32m--> 956\u001b[0m     \u001b[43m_on_forked_process\u001b[49m\u001b[43m(\u001b[49m\u001b[43msetup_tracing\u001b[49m\u001b[38;5;241;43m=\u001b[39;49m\u001b[43mapply_arg_patch\u001b[49m\u001b[43m \u001b[49m\u001b[38;5;129;43;01mand\u001b[39;49;00m\u001b[43m \u001b[49m\u001b[38;5;129;43;01mnot\u001b[39;49;00m\u001b[43m \u001b[49m\u001b[43mis_subprocess_fork\u001b[49m\u001b[43m)\u001b[49m\n\u001b[1;32m    957\u001b[0m \u001b[38;5;28;01melse\u001b[39;00m:\n\u001b[1;32m    958\u001b[0m     set_global_debugger(\u001b[38;5;28;01mNone\u001b[39;00m)\n",
      "File \u001b[0;32m~/anaconda3/envs/pytorch_env/lib/python3.9/site-packages/debugpy/_vendored/pydevd/_pydev_bundle/pydev_monkey.py:232\u001b[0m, in \u001b[0;36m_on_forked_process\u001b[0;34m(setup_tracing)\u001b[0m\n\u001b[1;32m    230\u001b[0m \u001b[38;5;28;01mimport\u001b[39;00m \u001b[38;5;21;01mpydevd\u001b[39;00m\n\u001b[1;32m    231\u001b[0m pydevd\u001b[38;5;241m.\u001b[39mthreadingCurrentThread()\u001b[38;5;241m.\u001b[39m__pydevd_main_thread \u001b[38;5;241m=\u001b[39m \u001b[38;5;28;01mTrue\u001b[39;00m\n\u001b[0;32m--> 232\u001b[0m \u001b[43mpydevd\u001b[49m\u001b[38;5;241;43m.\u001b[39;49m\u001b[43msettrace_forked\u001b[49m\u001b[43m(\u001b[49m\u001b[43msetup_tracing\u001b[49m\u001b[38;5;241;43m=\u001b[39;49m\u001b[43msetup_tracing\u001b[49m\u001b[43m)\u001b[49m\n",
      "File \u001b[0;32m~/anaconda3/envs/pytorch_env/lib/python3.9/site-packages/debugpy/_vendored/pydevd/pydevd.py:3134\u001b[0m, in \u001b[0;36msettrace_forked\u001b[0;34m(setup_tracing)\u001b[0m\n\u001b[1;32m   3131\u001b[0m \u001b[38;5;28;01mif\u001b[39;00m clear_thread_local_info \u001b[38;5;129;01mis\u001b[39;00m \u001b[38;5;129;01mnot\u001b[39;00m \u001b[38;5;28;01mNone\u001b[39;00m:\n\u001b[1;32m   3132\u001b[0m     clear_thread_local_info()\n\u001b[0;32m-> 3134\u001b[0m \u001b[43msettrace\u001b[49m\u001b[43m(\u001b[49m\n\u001b[1;32m   3135\u001b[0m \u001b[43m        \u001b[49m\u001b[43mhost\u001b[49m\u001b[43m,\u001b[49m\n\u001b[1;32m   3136\u001b[0m \u001b[43m        \u001b[49m\u001b[43mport\u001b[49m\u001b[38;5;241;43m=\u001b[39;49m\u001b[43mport\u001b[49m\u001b[43m,\u001b[49m\n\u001b[1;32m   3137\u001b[0m \u001b[43m        \u001b[49m\u001b[43msuspend\u001b[49m\u001b[38;5;241;43m=\u001b[39;49m\u001b[38;5;28;43;01mFalse\u001b[39;49;00m\u001b[43m,\u001b[49m\n\u001b[1;32m   3138\u001b[0m \u001b[43m        \u001b[49m\u001b[43mtrace_only_current_thread\u001b[49m\u001b[38;5;241;43m=\u001b[39;49m\u001b[38;5;28;43;01mFalse\u001b[39;49;00m\u001b[43m,\u001b[49m\n\u001b[1;32m   3139\u001b[0m \u001b[43m        \u001b[49m\u001b[43moverwrite_prev_trace\u001b[49m\u001b[38;5;241;43m=\u001b[39;49m\u001b[38;5;28;43;01mTrue\u001b[39;49;00m\u001b[43m,\u001b[49m\n\u001b[1;32m   3140\u001b[0m \u001b[43m        \u001b[49m\u001b[43mpatch_multiprocessing\u001b[49m\u001b[38;5;241;43m=\u001b[39;49m\u001b[38;5;28;43;01mTrue\u001b[39;49;00m\u001b[43m,\u001b[49m\n\u001b[1;32m   3141\u001b[0m \u001b[43m        \u001b[49m\u001b[43maccess_token\u001b[49m\u001b[38;5;241;43m=\u001b[39;49m\u001b[43maccess_token\u001b[49m\u001b[43m,\u001b[49m\n\u001b[1;32m   3142\u001b[0m \u001b[43m        \u001b[49m\u001b[43mclient_access_token\u001b[49m\u001b[38;5;241;43m=\u001b[39;49m\u001b[43mclient_access_token\u001b[49m\u001b[43m,\u001b[49m\n\u001b[1;32m   3143\u001b[0m \u001b[43m\u001b[49m\u001b[43m)\u001b[49m\n",
      "File \u001b[0;32m~/anaconda3/envs/pytorch_env/lib/python3.9/site-packages/debugpy/_vendored/pydevd/pydevd.py:2821\u001b[0m, in \u001b[0;36msettrace\u001b[0;34m(host, stdout_to_server, stderr_to_server, port, suspend, trace_only_current_thread, overwrite_prev_trace, patch_multiprocessing, stop_at_frame, block_until_connected, wait_for_ready_to_run, dont_trace_start_patterns, dont_trace_end_patterns, access_token, client_access_token, notify_stdin, **kwargs)\u001b[0m\n\u001b[1;32m   2818\u001b[0m __setup_holder__ \u001b[38;5;241m=\u001b[39m kwargs\u001b[38;5;241m.\u001b[39mget(\u001b[38;5;124m'\u001b[39m\u001b[38;5;124m__setup_holder__\u001b[39m\u001b[38;5;124m'\u001b[39m)\n\u001b[1;32m   2820\u001b[0m \u001b[38;5;28;01mwith\u001b[39;00m _set_trace_lock:\n\u001b[0;32m-> 2821\u001b[0m     \u001b[43m_locked_settrace\u001b[49m\u001b[43m(\u001b[49m\n\u001b[1;32m   2822\u001b[0m \u001b[43m        \u001b[49m\u001b[43mhost\u001b[49m\u001b[43m,\u001b[49m\n\u001b[1;32m   2823\u001b[0m \u001b[43m        \u001b[49m\u001b[43mstdout_to_server\u001b[49m\u001b[43m,\u001b[49m\n\u001b[1;32m   2824\u001b[0m \u001b[43m        \u001b[49m\u001b[43mstderr_to_server\u001b[49m\u001b[43m,\u001b[49m\n\u001b[1;32m   2825\u001b[0m \u001b[43m        \u001b[49m\u001b[43mport\u001b[49m\u001b[43m,\u001b[49m\n\u001b[1;32m   2826\u001b[0m \u001b[43m        \u001b[49m\u001b[43msuspend\u001b[49m\u001b[43m,\u001b[49m\n\u001b[1;32m   2827\u001b[0m \u001b[43m        \u001b[49m\u001b[43mtrace_only_current_thread\u001b[49m\u001b[43m,\u001b[49m\n\u001b[1;32m   2828\u001b[0m \u001b[43m        \u001b[49m\u001b[43mpatch_multiprocessing\u001b[49m\u001b[43m,\u001b[49m\n\u001b[1;32m   2829\u001b[0m \u001b[43m        \u001b[49m\u001b[43mstop_at_frame\u001b[49m\u001b[43m,\u001b[49m\n\u001b[1;32m   2830\u001b[0m \u001b[43m        \u001b[49m\u001b[43mblock_until_connected\u001b[49m\u001b[43m,\u001b[49m\n\u001b[1;32m   2831\u001b[0m \u001b[43m        \u001b[49m\u001b[43mwait_for_ready_to_run\u001b[49m\u001b[43m,\u001b[49m\n\u001b[1;32m   2832\u001b[0m \u001b[43m        \u001b[49m\u001b[43mdont_trace_start_patterns\u001b[49m\u001b[43m,\u001b[49m\n\u001b[1;32m   2833\u001b[0m \u001b[43m        \u001b[49m\u001b[43mdont_trace_end_patterns\u001b[49m\u001b[43m,\u001b[49m\n\u001b[1;32m   2834\u001b[0m \u001b[43m        \u001b[49m\u001b[43maccess_token\u001b[49m\u001b[43m,\u001b[49m\n\u001b[1;32m   2835\u001b[0m \u001b[43m        \u001b[49m\u001b[43mclient_access_token\u001b[49m\u001b[43m,\u001b[49m\n\u001b[1;32m   2836\u001b[0m \u001b[43m        \u001b[49m\u001b[43m__setup_holder__\u001b[49m\u001b[38;5;241;43m=\u001b[39;49m\u001b[43m__setup_holder__\u001b[49m\u001b[43m,\u001b[49m\n\u001b[1;32m   2837\u001b[0m \u001b[43m        \u001b[49m\u001b[43mnotify_stdin\u001b[49m\u001b[38;5;241;43m=\u001b[39;49m\u001b[43mnotify_stdin\u001b[49m\u001b[43m,\u001b[49m\n\u001b[1;32m   2838\u001b[0m \u001b[43m    \u001b[49m\u001b[43m)\u001b[49m\n",
      "File \u001b[0;32m~/anaconda3/envs/pytorch_env/lib/python3.9/site-packages/debugpy/_vendored/pydevd/pydevd.py:2929\u001b[0m, in \u001b[0;36m_locked_settrace\u001b[0;34m(host, stdout_to_server, stderr_to_server, port, suspend, trace_only_current_thread, patch_multiprocessing, stop_at_frame, block_until_connected, wait_for_ready_to_run, dont_trace_start_patterns, dont_trace_end_patterns, access_token, client_access_token, __setup_holder__, notify_stdin)\u001b[0m\n\u001b[1;32m   2926\u001b[0m \u001b[38;5;28;01mif\u001b[39;00m \u001b[38;5;129;01mnot\u001b[39;00m wait_for_ready_to_run:\n\u001b[1;32m   2927\u001b[0m     py_db\u001b[38;5;241m.\u001b[39mready_to_run \u001b[38;5;241m=\u001b[39m \u001b[38;5;28;01mTrue\u001b[39;00m\n\u001b[0;32m-> 2929\u001b[0m \u001b[43mpy_db\u001b[49m\u001b[38;5;241;43m.\u001b[39;49m\u001b[43mwait_for_ready_to_run\u001b[49m\u001b[43m(\u001b[49m\u001b[43m)\u001b[49m\n\u001b[1;32m   2930\u001b[0m py_db\u001b[38;5;241m.\u001b[39mstart_auxiliary_daemon_threads()\n\u001b[1;32m   2932\u001b[0m \u001b[38;5;28;01mtry\u001b[39;00m:\n",
      "File \u001b[0;32m~/anaconda3/envs/pytorch_env/lib/python3.9/site-packages/debugpy/_vendored/pydevd/pydevd.py:838\u001b[0m, in \u001b[0;36mPyDB.wait_for_ready_to_run\u001b[0;34m(self)\u001b[0m\n\u001b[1;32m    836\u001b[0m \u001b[38;5;28mself\u001b[39m\u001b[38;5;241m.\u001b[39mprocess_internal_commands()\n\u001b[1;32m    837\u001b[0m \u001b[38;5;28mself\u001b[39m\u001b[38;5;241m.\u001b[39m_py_db_command_thread_event\u001b[38;5;241m.\u001b[39mclear()\n\u001b[0;32m--> 838\u001b[0m \u001b[38;5;28;43mself\u001b[39;49m\u001b[38;5;241;43m.\u001b[39;49m\u001b[43m_py_db_command_thread_event\u001b[49m\u001b[38;5;241;43m.\u001b[39;49m\u001b[43mwait\u001b[49m\u001b[43m(\u001b[49m\u001b[38;5;241;43m0.1\u001b[39;49m\u001b[43m)\u001b[49m\n",
      "File \u001b[0;32m~/anaconda3/envs/pytorch_env/lib/python3.9/threading.py:581\u001b[0m, in \u001b[0;36mEvent.wait\u001b[0;34m(self, timeout)\u001b[0m\n\u001b[1;32m    579\u001b[0m signaled \u001b[38;5;241m=\u001b[39m \u001b[38;5;28mself\u001b[39m\u001b[38;5;241m.\u001b[39m_flag\n\u001b[1;32m    580\u001b[0m \u001b[38;5;28;01mif\u001b[39;00m \u001b[38;5;129;01mnot\u001b[39;00m signaled:\n\u001b[0;32m--> 581\u001b[0m     signaled \u001b[38;5;241m=\u001b[39m \u001b[38;5;28;43mself\u001b[39;49m\u001b[38;5;241;43m.\u001b[39;49m\u001b[43m_cond\u001b[49m\u001b[38;5;241;43m.\u001b[39;49m\u001b[43mwait\u001b[49m\u001b[43m(\u001b[49m\u001b[43mtimeout\u001b[49m\u001b[43m)\u001b[49m\n\u001b[1;32m    582\u001b[0m \u001b[38;5;28;01mreturn\u001b[39;00m signaled\n",
      "File \u001b[0;32m~/anaconda3/envs/pytorch_env/lib/python3.9/threading.py:316\u001b[0m, in \u001b[0;36mCondition.wait\u001b[0;34m(self, timeout)\u001b[0m\n\u001b[1;32m    314\u001b[0m \u001b[38;5;28;01melse\u001b[39;00m:\n\u001b[1;32m    315\u001b[0m     \u001b[38;5;28;01mif\u001b[39;00m timeout \u001b[38;5;241m>\u001b[39m \u001b[38;5;241m0\u001b[39m:\n\u001b[0;32m--> 316\u001b[0m         gotit \u001b[38;5;241m=\u001b[39m \u001b[43mwaiter\u001b[49m\u001b[38;5;241;43m.\u001b[39;49m\u001b[43macquire\u001b[49m\u001b[43m(\u001b[49m\u001b[38;5;28;43;01mTrue\u001b[39;49;00m\u001b[43m,\u001b[49m\u001b[43m \u001b[49m\u001b[43mtimeout\u001b[49m\u001b[43m)\u001b[49m\n\u001b[1;32m    317\u001b[0m     \u001b[38;5;28;01melse\u001b[39;00m:\n\u001b[1;32m    318\u001b[0m         gotit \u001b[38;5;241m=\u001b[39m waiter\u001b[38;5;241m.\u001b[39macquire(\u001b[38;5;28;01mFalse\u001b[39;00m)\n",
      "\u001b[0;31mKeyboardInterrupt\u001b[0m: "
     ]
    },
    {
     "ename": "KeyboardInterrupt",
     "evalue": "",
     "output_type": "error",
     "traceback": [
      "\u001b[0;31m---------------------------------------------------------------------------\u001b[0m",
      "\u001b[0;31mKeyboardInterrupt\u001b[0m                         Traceback (most recent call last)",
      "Cell \u001b[0;32mIn[36], line 32\u001b[0m\n\u001b[1;32m     30\u001b[0m \u001b[38;5;66;03m# Training DataLoader\u001b[39;00m\n\u001b[1;32m     31\u001b[0m \u001b[38;5;28mprint\u001b[39m(\u001b[38;5;124mf\u001b[39m\u001b[38;5;124m\"\u001b[39m\u001b[38;5;124m  Number of training sequences: \u001b[39m\u001b[38;5;132;01m{\u001b[39;00m\u001b[38;5;28mlen\u001b[39m(train_loader\u001b[38;5;241m.\u001b[39mdataset)\u001b[38;5;132;01m}\u001b[39;00m\u001b[38;5;124m\"\u001b[39m)\n\u001b[0;32m---> 32\u001b[0m first_train_item \u001b[38;5;241m=\u001b[39m \u001b[38;5;28mnext\u001b[39m(\u001b[38;5;28;43miter\u001b[39;49m\u001b[43m(\u001b[49m\u001b[43mtrain_loader\u001b[49m\u001b[43m)\u001b[49m)\n\u001b[1;32m     33\u001b[0m train_features, train_targets, train_masks, train_engine_ids, cycles \u001b[38;5;241m=\u001b[39m first_train_item\n\u001b[1;32m     34\u001b[0m \u001b[38;5;28mprint\u001b[39m(\u001b[38;5;124mf\u001b[39m\u001b[38;5;124m\"\u001b[39m\u001b[38;5;124m  Training Features Shape: \u001b[39m\u001b[38;5;132;01m{\u001b[39;00mtrain_features\u001b[38;5;241m.\u001b[39mshape\u001b[38;5;132;01m}\u001b[39;00m\u001b[38;5;124m\"\u001b[39m)\n",
      "File \u001b[0;32m~/anaconda3/envs/pytorch_env/lib/python3.9/site-packages/torch/utils/data/dataloader.py:484\u001b[0m, in \u001b[0;36mDataLoader.__iter__\u001b[0;34m(self)\u001b[0m\n\u001b[1;32m    482\u001b[0m     \u001b[38;5;28;01mreturn\u001b[39;00m \u001b[38;5;28mself\u001b[39m\u001b[38;5;241m.\u001b[39m_iterator\n\u001b[1;32m    483\u001b[0m \u001b[38;5;28;01melse\u001b[39;00m:\n\u001b[0;32m--> 484\u001b[0m     \u001b[38;5;28;01mreturn\u001b[39;00m \u001b[38;5;28;43mself\u001b[39;49m\u001b[38;5;241;43m.\u001b[39;49m\u001b[43m_get_iterator\u001b[49m\u001b[43m(\u001b[49m\u001b[43m)\u001b[49m\n",
      "File \u001b[0;32m~/anaconda3/envs/pytorch_env/lib/python3.9/site-packages/torch/utils/data/dataloader.py:415\u001b[0m, in \u001b[0;36mDataLoader._get_iterator\u001b[0;34m(self)\u001b[0m\n\u001b[1;32m    413\u001b[0m \u001b[38;5;28;01melse\u001b[39;00m:\n\u001b[1;32m    414\u001b[0m     \u001b[38;5;28mself\u001b[39m\u001b[38;5;241m.\u001b[39mcheck_worker_number_rationality()\n\u001b[0;32m--> 415\u001b[0m     \u001b[38;5;28;01mreturn\u001b[39;00m \u001b[43m_MultiProcessingDataLoaderIter\u001b[49m\u001b[43m(\u001b[49m\u001b[38;5;28;43mself\u001b[39;49m\u001b[43m)\u001b[49m\n",
      "File \u001b[0;32m~/anaconda3/envs/pytorch_env/lib/python3.9/site-packages/torch/utils/data/dataloader.py:1138\u001b[0m, in \u001b[0;36m_MultiProcessingDataLoaderIter.__init__\u001b[0;34m(self, loader)\u001b[0m\n\u001b[1;32m   1131\u001b[0m w\u001b[38;5;241m.\u001b[39mdaemon \u001b[38;5;241m=\u001b[39m \u001b[38;5;28;01mTrue\u001b[39;00m\n\u001b[1;32m   1132\u001b[0m \u001b[38;5;66;03m# NB: Process.start() actually take some time as it needs to\u001b[39;00m\n\u001b[1;32m   1133\u001b[0m \u001b[38;5;66;03m#     start a process and pass the arguments over via a pipe.\u001b[39;00m\n\u001b[1;32m   1134\u001b[0m \u001b[38;5;66;03m#     Therefore, we only add a worker to self._workers list after\u001b[39;00m\n\u001b[1;32m   1135\u001b[0m \u001b[38;5;66;03m#     it started, so that we do not call .join() if program dies\u001b[39;00m\n\u001b[1;32m   1136\u001b[0m \u001b[38;5;66;03m#     before it starts, and __del__ tries to join but will get:\u001b[39;00m\n\u001b[1;32m   1137\u001b[0m \u001b[38;5;66;03m#     AssertionError: can only join a started process.\u001b[39;00m\n\u001b[0;32m-> 1138\u001b[0m \u001b[43mw\u001b[49m\u001b[38;5;241;43m.\u001b[39;49m\u001b[43mstart\u001b[49m\u001b[43m(\u001b[49m\u001b[43m)\u001b[49m\n\u001b[1;32m   1139\u001b[0m \u001b[38;5;28mself\u001b[39m\u001b[38;5;241m.\u001b[39m_index_queues\u001b[38;5;241m.\u001b[39mappend(index_queue)\n\u001b[1;32m   1140\u001b[0m \u001b[38;5;28mself\u001b[39m\u001b[38;5;241m.\u001b[39m_workers\u001b[38;5;241m.\u001b[39mappend(w)\n",
      "File \u001b[0;32m~/anaconda3/envs/pytorch_env/lib/python3.9/multiprocessing/process.py:121\u001b[0m, in \u001b[0;36mBaseProcess.start\u001b[0;34m(self)\u001b[0m\n\u001b[1;32m    118\u001b[0m \u001b[38;5;28;01massert\u001b[39;00m \u001b[38;5;129;01mnot\u001b[39;00m _current_process\u001b[38;5;241m.\u001b[39m_config\u001b[38;5;241m.\u001b[39mget(\u001b[38;5;124m'\u001b[39m\u001b[38;5;124mdaemon\u001b[39m\u001b[38;5;124m'\u001b[39m), \\\n\u001b[1;32m    119\u001b[0m        \u001b[38;5;124m'\u001b[39m\u001b[38;5;124mdaemonic processes are not allowed to have children\u001b[39m\u001b[38;5;124m'\u001b[39m\n\u001b[1;32m    120\u001b[0m _cleanup()\n\u001b[0;32m--> 121\u001b[0m \u001b[38;5;28mself\u001b[39m\u001b[38;5;241m.\u001b[39m_popen \u001b[38;5;241m=\u001b[39m \u001b[38;5;28;43mself\u001b[39;49m\u001b[38;5;241;43m.\u001b[39;49m\u001b[43m_Popen\u001b[49m\u001b[43m(\u001b[49m\u001b[38;5;28;43mself\u001b[39;49m\u001b[43m)\u001b[49m\n\u001b[1;32m    122\u001b[0m \u001b[38;5;28mself\u001b[39m\u001b[38;5;241m.\u001b[39m_sentinel \u001b[38;5;241m=\u001b[39m \u001b[38;5;28mself\u001b[39m\u001b[38;5;241m.\u001b[39m_popen\u001b[38;5;241m.\u001b[39msentinel\n\u001b[1;32m    123\u001b[0m \u001b[38;5;66;03m# Avoid a refcycle if the target function holds an indirect\u001b[39;00m\n\u001b[1;32m    124\u001b[0m \u001b[38;5;66;03m# reference to the process object (see bpo-30775)\u001b[39;00m\n",
      "File \u001b[0;32m~/anaconda3/envs/pytorch_env/lib/python3.9/multiprocessing/context.py:224\u001b[0m, in \u001b[0;36mProcess._Popen\u001b[0;34m(process_obj)\u001b[0m\n\u001b[1;32m    222\u001b[0m \u001b[38;5;129m@staticmethod\u001b[39m\n\u001b[1;32m    223\u001b[0m \u001b[38;5;28;01mdef\u001b[39;00m \u001b[38;5;21m_Popen\u001b[39m(process_obj):\n\u001b[0;32m--> 224\u001b[0m     \u001b[38;5;28;01mreturn\u001b[39;00m \u001b[43m_default_context\u001b[49m\u001b[38;5;241;43m.\u001b[39;49m\u001b[43mget_context\u001b[49m\u001b[43m(\u001b[49m\u001b[43m)\u001b[49m\u001b[38;5;241;43m.\u001b[39;49m\u001b[43mProcess\u001b[49m\u001b[38;5;241;43m.\u001b[39;49m\u001b[43m_Popen\u001b[49m\u001b[43m(\u001b[49m\u001b[43mprocess_obj\u001b[49m\u001b[43m)\u001b[49m\n",
      "File \u001b[0;32m~/anaconda3/envs/pytorch_env/lib/python3.9/multiprocessing/context.py:277\u001b[0m, in \u001b[0;36mForkProcess._Popen\u001b[0;34m(process_obj)\u001b[0m\n\u001b[1;32m    274\u001b[0m \u001b[38;5;129m@staticmethod\u001b[39m\n\u001b[1;32m    275\u001b[0m \u001b[38;5;28;01mdef\u001b[39;00m \u001b[38;5;21m_Popen\u001b[39m(process_obj):\n\u001b[1;32m    276\u001b[0m     \u001b[38;5;28;01mfrom\u001b[39;00m \u001b[38;5;21;01m.\u001b[39;00m\u001b[38;5;21;01mpopen_fork\u001b[39;00m \u001b[38;5;28;01mimport\u001b[39;00m Popen\n\u001b[0;32m--> 277\u001b[0m     \u001b[38;5;28;01mreturn\u001b[39;00m \u001b[43mPopen\u001b[49m\u001b[43m(\u001b[49m\u001b[43mprocess_obj\u001b[49m\u001b[43m)\u001b[49m\n",
      "File \u001b[0;32m~/anaconda3/envs/pytorch_env/lib/python3.9/multiprocessing/popen_fork.py:19\u001b[0m, in \u001b[0;36mPopen.__init__\u001b[0;34m(self, process_obj)\u001b[0m\n\u001b[1;32m     17\u001b[0m \u001b[38;5;28mself\u001b[39m\u001b[38;5;241m.\u001b[39mreturncode \u001b[38;5;241m=\u001b[39m \u001b[38;5;28;01mNone\u001b[39;00m\n\u001b[1;32m     18\u001b[0m \u001b[38;5;28mself\u001b[39m\u001b[38;5;241m.\u001b[39mfinalizer \u001b[38;5;241m=\u001b[39m \u001b[38;5;28;01mNone\u001b[39;00m\n\u001b[0;32m---> 19\u001b[0m \u001b[38;5;28;43mself\u001b[39;49m\u001b[38;5;241;43m.\u001b[39;49m\u001b[43m_launch\u001b[49m\u001b[43m(\u001b[49m\u001b[43mprocess_obj\u001b[49m\u001b[43m)\u001b[49m\n",
      "File \u001b[0;32m~/anaconda3/envs/pytorch_env/lib/python3.9/multiprocessing/popen_fork.py:66\u001b[0m, in \u001b[0;36mPopen._launch\u001b[0;34m(self, process_obj)\u001b[0m\n\u001b[1;32m     64\u001b[0m parent_r, child_w \u001b[38;5;241m=\u001b[39m os\u001b[38;5;241m.\u001b[39mpipe()\n\u001b[1;32m     65\u001b[0m child_r, parent_w \u001b[38;5;241m=\u001b[39m os\u001b[38;5;241m.\u001b[39mpipe()\n\u001b[0;32m---> 66\u001b[0m \u001b[38;5;28mself\u001b[39m\u001b[38;5;241m.\u001b[39mpid \u001b[38;5;241m=\u001b[39m \u001b[43mos\u001b[49m\u001b[38;5;241;43m.\u001b[39;49m\u001b[43mfork\u001b[49m\u001b[43m(\u001b[49m\u001b[43m)\u001b[49m\n\u001b[1;32m     67\u001b[0m \u001b[38;5;28;01mif\u001b[39;00m \u001b[38;5;28mself\u001b[39m\u001b[38;5;241m.\u001b[39mpid \u001b[38;5;241m==\u001b[39m \u001b[38;5;241m0\u001b[39m:\n\u001b[1;32m     68\u001b[0m     \u001b[38;5;28;01mtry\u001b[39;00m:\n",
      "File \u001b[0;32m~/anaconda3/envs/pytorch_env/lib/python3.9/site-packages/debugpy/_vendored/pydevd/_pydev_bundle/pydev_monkey.py:956\u001b[0m, in \u001b[0;36mcreate_fork.<locals>.new_fork\u001b[0;34m()\u001b[0m\n\u001b[1;32m    954\u001b[0m     PydevdCustomization\u001b[38;5;241m.\u001b[39mDEFAULT_PROTOCOL \u001b[38;5;241m=\u001b[39m protocol\n\u001b[1;32m    955\u001b[0m     PydevdCustomization\u001b[38;5;241m.\u001b[39mDEBUG_MODE \u001b[38;5;241m=\u001b[39m debug_mode\n\u001b[0;32m--> 956\u001b[0m     \u001b[43m_on_forked_process\u001b[49m\u001b[43m(\u001b[49m\u001b[43msetup_tracing\u001b[49m\u001b[38;5;241;43m=\u001b[39;49m\u001b[43mapply_arg_patch\u001b[49m\u001b[43m \u001b[49m\u001b[38;5;129;43;01mand\u001b[39;49;00m\u001b[43m \u001b[49m\u001b[38;5;129;43;01mnot\u001b[39;49;00m\u001b[43m \u001b[49m\u001b[43mis_subprocess_fork\u001b[49m\u001b[43m)\u001b[49m\n\u001b[1;32m    957\u001b[0m \u001b[38;5;28;01melse\u001b[39;00m:\n\u001b[1;32m    958\u001b[0m     set_global_debugger(\u001b[38;5;28;01mNone\u001b[39;00m)\n",
      "File \u001b[0;32m~/anaconda3/envs/pytorch_env/lib/python3.9/site-packages/debugpy/_vendored/pydevd/_pydev_bundle/pydev_monkey.py:232\u001b[0m, in \u001b[0;36m_on_forked_process\u001b[0;34m(setup_tracing)\u001b[0m\n\u001b[1;32m    230\u001b[0m \u001b[38;5;28;01mimport\u001b[39;00m \u001b[38;5;21;01mpydevd\u001b[39;00m\n\u001b[1;32m    231\u001b[0m pydevd\u001b[38;5;241m.\u001b[39mthreadingCurrentThread()\u001b[38;5;241m.\u001b[39m__pydevd_main_thread \u001b[38;5;241m=\u001b[39m \u001b[38;5;28;01mTrue\u001b[39;00m\n\u001b[0;32m--> 232\u001b[0m \u001b[43mpydevd\u001b[49m\u001b[38;5;241;43m.\u001b[39;49m\u001b[43msettrace_forked\u001b[49m\u001b[43m(\u001b[49m\u001b[43msetup_tracing\u001b[49m\u001b[38;5;241;43m=\u001b[39;49m\u001b[43msetup_tracing\u001b[49m\u001b[43m)\u001b[49m\n",
      "File \u001b[0;32m~/anaconda3/envs/pytorch_env/lib/python3.9/site-packages/debugpy/_vendored/pydevd/pydevd.py:3134\u001b[0m, in \u001b[0;36msettrace_forked\u001b[0;34m(setup_tracing)\u001b[0m\n\u001b[1;32m   3131\u001b[0m \u001b[38;5;28;01mif\u001b[39;00m clear_thread_local_info \u001b[38;5;129;01mis\u001b[39;00m \u001b[38;5;129;01mnot\u001b[39;00m \u001b[38;5;28;01mNone\u001b[39;00m:\n\u001b[1;32m   3132\u001b[0m     clear_thread_local_info()\n\u001b[0;32m-> 3134\u001b[0m \u001b[43msettrace\u001b[49m\u001b[43m(\u001b[49m\n\u001b[1;32m   3135\u001b[0m \u001b[43m        \u001b[49m\u001b[43mhost\u001b[49m\u001b[43m,\u001b[49m\n\u001b[1;32m   3136\u001b[0m \u001b[43m        \u001b[49m\u001b[43mport\u001b[49m\u001b[38;5;241;43m=\u001b[39;49m\u001b[43mport\u001b[49m\u001b[43m,\u001b[49m\n\u001b[1;32m   3137\u001b[0m \u001b[43m        \u001b[49m\u001b[43msuspend\u001b[49m\u001b[38;5;241;43m=\u001b[39;49m\u001b[38;5;28;43;01mFalse\u001b[39;49;00m\u001b[43m,\u001b[49m\n\u001b[1;32m   3138\u001b[0m \u001b[43m        \u001b[49m\u001b[43mtrace_only_current_thread\u001b[49m\u001b[38;5;241;43m=\u001b[39;49m\u001b[38;5;28;43;01mFalse\u001b[39;49;00m\u001b[43m,\u001b[49m\n\u001b[1;32m   3139\u001b[0m \u001b[43m        \u001b[49m\u001b[43moverwrite_prev_trace\u001b[49m\u001b[38;5;241;43m=\u001b[39;49m\u001b[38;5;28;43;01mTrue\u001b[39;49;00m\u001b[43m,\u001b[49m\n\u001b[1;32m   3140\u001b[0m \u001b[43m        \u001b[49m\u001b[43mpatch_multiprocessing\u001b[49m\u001b[38;5;241;43m=\u001b[39;49m\u001b[38;5;28;43;01mTrue\u001b[39;49;00m\u001b[43m,\u001b[49m\n\u001b[1;32m   3141\u001b[0m \u001b[43m        \u001b[49m\u001b[43maccess_token\u001b[49m\u001b[38;5;241;43m=\u001b[39;49m\u001b[43maccess_token\u001b[49m\u001b[43m,\u001b[49m\n\u001b[1;32m   3142\u001b[0m \u001b[43m        \u001b[49m\u001b[43mclient_access_token\u001b[49m\u001b[38;5;241;43m=\u001b[39;49m\u001b[43mclient_access_token\u001b[49m\u001b[43m,\u001b[49m\n\u001b[1;32m   3143\u001b[0m \u001b[43m\u001b[49m\u001b[43m)\u001b[49m\n",
      "File \u001b[0;32m~/anaconda3/envs/pytorch_env/lib/python3.9/site-packages/debugpy/_vendored/pydevd/pydevd.py:2821\u001b[0m, in \u001b[0;36msettrace\u001b[0;34m(host, stdout_to_server, stderr_to_server, port, suspend, trace_only_current_thread, overwrite_prev_trace, patch_multiprocessing, stop_at_frame, block_until_connected, wait_for_ready_to_run, dont_trace_start_patterns, dont_trace_end_patterns, access_token, client_access_token, notify_stdin, **kwargs)\u001b[0m\n\u001b[1;32m   2818\u001b[0m __setup_holder__ \u001b[38;5;241m=\u001b[39m kwargs\u001b[38;5;241m.\u001b[39mget(\u001b[38;5;124m'\u001b[39m\u001b[38;5;124m__setup_holder__\u001b[39m\u001b[38;5;124m'\u001b[39m)\n\u001b[1;32m   2820\u001b[0m \u001b[38;5;28;01mwith\u001b[39;00m _set_trace_lock:\n\u001b[0;32m-> 2821\u001b[0m     \u001b[43m_locked_settrace\u001b[49m\u001b[43m(\u001b[49m\n\u001b[1;32m   2822\u001b[0m \u001b[43m        \u001b[49m\u001b[43mhost\u001b[49m\u001b[43m,\u001b[49m\n\u001b[1;32m   2823\u001b[0m \u001b[43m        \u001b[49m\u001b[43mstdout_to_server\u001b[49m\u001b[43m,\u001b[49m\n\u001b[1;32m   2824\u001b[0m \u001b[43m        \u001b[49m\u001b[43mstderr_to_server\u001b[49m\u001b[43m,\u001b[49m\n\u001b[1;32m   2825\u001b[0m \u001b[43m        \u001b[49m\u001b[43mport\u001b[49m\u001b[43m,\u001b[49m\n\u001b[1;32m   2826\u001b[0m \u001b[43m        \u001b[49m\u001b[43msuspend\u001b[49m\u001b[43m,\u001b[49m\n\u001b[1;32m   2827\u001b[0m \u001b[43m        \u001b[49m\u001b[43mtrace_only_current_thread\u001b[49m\u001b[43m,\u001b[49m\n\u001b[1;32m   2828\u001b[0m \u001b[43m        \u001b[49m\u001b[43mpatch_multiprocessing\u001b[49m\u001b[43m,\u001b[49m\n\u001b[1;32m   2829\u001b[0m \u001b[43m        \u001b[49m\u001b[43mstop_at_frame\u001b[49m\u001b[43m,\u001b[49m\n\u001b[1;32m   2830\u001b[0m \u001b[43m        \u001b[49m\u001b[43mblock_until_connected\u001b[49m\u001b[43m,\u001b[49m\n\u001b[1;32m   2831\u001b[0m \u001b[43m        \u001b[49m\u001b[43mwait_for_ready_to_run\u001b[49m\u001b[43m,\u001b[49m\n\u001b[1;32m   2832\u001b[0m \u001b[43m        \u001b[49m\u001b[43mdont_trace_start_patterns\u001b[49m\u001b[43m,\u001b[49m\n\u001b[1;32m   2833\u001b[0m \u001b[43m        \u001b[49m\u001b[43mdont_trace_end_patterns\u001b[49m\u001b[43m,\u001b[49m\n\u001b[1;32m   2834\u001b[0m \u001b[43m        \u001b[49m\u001b[43maccess_token\u001b[49m\u001b[43m,\u001b[49m\n\u001b[1;32m   2835\u001b[0m \u001b[43m        \u001b[49m\u001b[43mclient_access_token\u001b[49m\u001b[43m,\u001b[49m\n\u001b[1;32m   2836\u001b[0m \u001b[43m        \u001b[49m\u001b[43m__setup_holder__\u001b[49m\u001b[38;5;241;43m=\u001b[39;49m\u001b[43m__setup_holder__\u001b[49m\u001b[43m,\u001b[49m\n\u001b[1;32m   2837\u001b[0m \u001b[43m        \u001b[49m\u001b[43mnotify_stdin\u001b[49m\u001b[38;5;241;43m=\u001b[39;49m\u001b[43mnotify_stdin\u001b[49m\u001b[43m,\u001b[49m\n\u001b[1;32m   2838\u001b[0m \u001b[43m    \u001b[49m\u001b[43m)\u001b[49m\n",
      "File \u001b[0;32m~/anaconda3/envs/pytorch_env/lib/python3.9/site-packages/debugpy/_vendored/pydevd/pydevd.py:2929\u001b[0m, in \u001b[0;36m_locked_settrace\u001b[0;34m(host, stdout_to_server, stderr_to_server, port, suspend, trace_only_current_thread, patch_multiprocessing, stop_at_frame, block_until_connected, wait_for_ready_to_run, dont_trace_start_patterns, dont_trace_end_patterns, access_token, client_access_token, __setup_holder__, notify_stdin)\u001b[0m\n\u001b[1;32m   2926\u001b[0m \u001b[38;5;28;01mif\u001b[39;00m \u001b[38;5;129;01mnot\u001b[39;00m wait_for_ready_to_run:\n\u001b[1;32m   2927\u001b[0m     py_db\u001b[38;5;241m.\u001b[39mready_to_run \u001b[38;5;241m=\u001b[39m \u001b[38;5;28;01mTrue\u001b[39;00m\n\u001b[0;32m-> 2929\u001b[0m \u001b[43mpy_db\u001b[49m\u001b[38;5;241;43m.\u001b[39;49m\u001b[43mwait_for_ready_to_run\u001b[49m\u001b[43m(\u001b[49m\u001b[43m)\u001b[49m\n\u001b[1;32m   2930\u001b[0m py_db\u001b[38;5;241m.\u001b[39mstart_auxiliary_daemon_threads()\n\u001b[1;32m   2932\u001b[0m \u001b[38;5;28;01mtry\u001b[39;00m:\n",
      "File \u001b[0;32m~/anaconda3/envs/pytorch_env/lib/python3.9/site-packages/debugpy/_vendored/pydevd/pydevd.py:838\u001b[0m, in \u001b[0;36mPyDB.wait_for_ready_to_run\u001b[0;34m(self)\u001b[0m\n\u001b[1;32m    836\u001b[0m \u001b[38;5;28mself\u001b[39m\u001b[38;5;241m.\u001b[39mprocess_internal_commands()\n\u001b[1;32m    837\u001b[0m \u001b[38;5;28mself\u001b[39m\u001b[38;5;241m.\u001b[39m_py_db_command_thread_event\u001b[38;5;241m.\u001b[39mclear()\n\u001b[0;32m--> 838\u001b[0m \u001b[38;5;28;43mself\u001b[39;49m\u001b[38;5;241;43m.\u001b[39;49m\u001b[43m_py_db_command_thread_event\u001b[49m\u001b[38;5;241;43m.\u001b[39;49m\u001b[43mwait\u001b[49m\u001b[43m(\u001b[49m\u001b[38;5;241;43m0.1\u001b[39;49m\u001b[43m)\u001b[49m\n",
      "File \u001b[0;32m~/anaconda3/envs/pytorch_env/lib/python3.9/threading.py:581\u001b[0m, in \u001b[0;36mEvent.wait\u001b[0;34m(self, timeout)\u001b[0m\n\u001b[1;32m    579\u001b[0m signaled \u001b[38;5;241m=\u001b[39m \u001b[38;5;28mself\u001b[39m\u001b[38;5;241m.\u001b[39m_flag\n\u001b[1;32m    580\u001b[0m \u001b[38;5;28;01mif\u001b[39;00m \u001b[38;5;129;01mnot\u001b[39;00m signaled:\n\u001b[0;32m--> 581\u001b[0m     signaled \u001b[38;5;241m=\u001b[39m \u001b[38;5;28;43mself\u001b[39;49m\u001b[38;5;241;43m.\u001b[39;49m\u001b[43m_cond\u001b[49m\u001b[38;5;241;43m.\u001b[39;49m\u001b[43mwait\u001b[49m\u001b[43m(\u001b[49m\u001b[43mtimeout\u001b[49m\u001b[43m)\u001b[49m\n\u001b[1;32m    582\u001b[0m \u001b[38;5;28;01mreturn\u001b[39;00m signaled\n",
      "File \u001b[0;32m~/anaconda3/envs/pytorch_env/lib/python3.9/threading.py:316\u001b[0m, in \u001b[0;36mCondition.wait\u001b[0;34m(self, timeout)\u001b[0m\n\u001b[1;32m    314\u001b[0m \u001b[38;5;28;01melse\u001b[39;00m:\n\u001b[1;32m    315\u001b[0m     \u001b[38;5;28;01mif\u001b[39;00m timeout \u001b[38;5;241m>\u001b[39m \u001b[38;5;241m0\u001b[39m:\n\u001b[0;32m--> 316\u001b[0m         gotit \u001b[38;5;241m=\u001b[39m \u001b[43mwaiter\u001b[49m\u001b[38;5;241;43m.\u001b[39;49m\u001b[43macquire\u001b[49m\u001b[43m(\u001b[49m\u001b[38;5;28;43;01mTrue\u001b[39;49;00m\u001b[43m,\u001b[49m\u001b[43m \u001b[49m\u001b[43mtimeout\u001b[49m\u001b[43m)\u001b[49m\n\u001b[1;32m    317\u001b[0m     \u001b[38;5;28;01melse\u001b[39;00m:\n\u001b[1;32m    318\u001b[0m         gotit \u001b[38;5;241m=\u001b[39m waiter\u001b[38;5;241m.\u001b[39macquire(\u001b[38;5;28;01mFalse\u001b[39;00m)\n",
      "\u001b[0;31mKeyboardInterrupt\u001b[0m: "
     ]
    },
    {
     "ename": "KeyboardInterrupt",
     "evalue": "",
     "output_type": "error",
     "traceback": [
      "\u001b[0;31m---------------------------------------------------------------------------\u001b[0m",
      "\u001b[0;31mKeyboardInterrupt\u001b[0m                         Traceback (most recent call last)",
      "Cell \u001b[0;32mIn[36], line 32\u001b[0m\n\u001b[1;32m     30\u001b[0m \u001b[38;5;66;03m# Training DataLoader\u001b[39;00m\n\u001b[1;32m     31\u001b[0m \u001b[38;5;28mprint\u001b[39m(\u001b[38;5;124mf\u001b[39m\u001b[38;5;124m\"\u001b[39m\u001b[38;5;124m  Number of training sequences: \u001b[39m\u001b[38;5;132;01m{\u001b[39;00m\u001b[38;5;28mlen\u001b[39m(train_loader\u001b[38;5;241m.\u001b[39mdataset)\u001b[38;5;132;01m}\u001b[39;00m\u001b[38;5;124m\"\u001b[39m)\n\u001b[0;32m---> 32\u001b[0m first_train_item \u001b[38;5;241m=\u001b[39m \u001b[38;5;28mnext\u001b[39m(\u001b[38;5;28;43miter\u001b[39;49m\u001b[43m(\u001b[49m\u001b[43mtrain_loader\u001b[49m\u001b[43m)\u001b[49m)\n\u001b[1;32m     33\u001b[0m train_features, train_targets, train_masks, train_engine_ids, cycles \u001b[38;5;241m=\u001b[39m first_train_item\n\u001b[1;32m     34\u001b[0m \u001b[38;5;28mprint\u001b[39m(\u001b[38;5;124mf\u001b[39m\u001b[38;5;124m\"\u001b[39m\u001b[38;5;124m  Training Features Shape: \u001b[39m\u001b[38;5;132;01m{\u001b[39;00mtrain_features\u001b[38;5;241m.\u001b[39mshape\u001b[38;5;132;01m}\u001b[39;00m\u001b[38;5;124m\"\u001b[39m)\n",
      "File \u001b[0;32m~/anaconda3/envs/pytorch_env/lib/python3.9/site-packages/torch/utils/data/dataloader.py:484\u001b[0m, in \u001b[0;36mDataLoader.__iter__\u001b[0;34m(self)\u001b[0m\n\u001b[1;32m    482\u001b[0m     \u001b[38;5;28;01mreturn\u001b[39;00m \u001b[38;5;28mself\u001b[39m\u001b[38;5;241m.\u001b[39m_iterator\n\u001b[1;32m    483\u001b[0m \u001b[38;5;28;01melse\u001b[39;00m:\n\u001b[0;32m--> 484\u001b[0m     \u001b[38;5;28;01mreturn\u001b[39;00m \u001b[38;5;28;43mself\u001b[39;49m\u001b[38;5;241;43m.\u001b[39;49m\u001b[43m_get_iterator\u001b[49m\u001b[43m(\u001b[49m\u001b[43m)\u001b[49m\n",
      "File \u001b[0;32m~/anaconda3/envs/pytorch_env/lib/python3.9/site-packages/torch/utils/data/dataloader.py:415\u001b[0m, in \u001b[0;36mDataLoader._get_iterator\u001b[0;34m(self)\u001b[0m\n\u001b[1;32m    413\u001b[0m \u001b[38;5;28;01melse\u001b[39;00m:\n\u001b[1;32m    414\u001b[0m     \u001b[38;5;28mself\u001b[39m\u001b[38;5;241m.\u001b[39mcheck_worker_number_rationality()\n\u001b[0;32m--> 415\u001b[0m     \u001b[38;5;28;01mreturn\u001b[39;00m \u001b[43m_MultiProcessingDataLoaderIter\u001b[49m\u001b[43m(\u001b[49m\u001b[38;5;28;43mself\u001b[39;49m\u001b[43m)\u001b[49m\n",
      "File \u001b[0;32m~/anaconda3/envs/pytorch_env/lib/python3.9/site-packages/torch/utils/data/dataloader.py:1138\u001b[0m, in \u001b[0;36m_MultiProcessingDataLoaderIter.__init__\u001b[0;34m(self, loader)\u001b[0m\n\u001b[1;32m   1131\u001b[0m w\u001b[38;5;241m.\u001b[39mdaemon \u001b[38;5;241m=\u001b[39m \u001b[38;5;28;01mTrue\u001b[39;00m\n\u001b[1;32m   1132\u001b[0m \u001b[38;5;66;03m# NB: Process.start() actually take some time as it needs to\u001b[39;00m\n\u001b[1;32m   1133\u001b[0m \u001b[38;5;66;03m#     start a process and pass the arguments over via a pipe.\u001b[39;00m\n\u001b[1;32m   1134\u001b[0m \u001b[38;5;66;03m#     Therefore, we only add a worker to self._workers list after\u001b[39;00m\n\u001b[1;32m   1135\u001b[0m \u001b[38;5;66;03m#     it started, so that we do not call .join() if program dies\u001b[39;00m\n\u001b[1;32m   1136\u001b[0m \u001b[38;5;66;03m#     before it starts, and __del__ tries to join but will get:\u001b[39;00m\n\u001b[1;32m   1137\u001b[0m \u001b[38;5;66;03m#     AssertionError: can only join a started process.\u001b[39;00m\n\u001b[0;32m-> 1138\u001b[0m \u001b[43mw\u001b[49m\u001b[38;5;241;43m.\u001b[39;49m\u001b[43mstart\u001b[49m\u001b[43m(\u001b[49m\u001b[43m)\u001b[49m\n\u001b[1;32m   1139\u001b[0m \u001b[38;5;28mself\u001b[39m\u001b[38;5;241m.\u001b[39m_index_queues\u001b[38;5;241m.\u001b[39mappend(index_queue)\n\u001b[1;32m   1140\u001b[0m \u001b[38;5;28mself\u001b[39m\u001b[38;5;241m.\u001b[39m_workers\u001b[38;5;241m.\u001b[39mappend(w)\n",
      "File \u001b[0;32m~/anaconda3/envs/pytorch_env/lib/python3.9/multiprocessing/process.py:121\u001b[0m, in \u001b[0;36mBaseProcess.start\u001b[0;34m(self)\u001b[0m\n\u001b[1;32m    118\u001b[0m \u001b[38;5;28;01massert\u001b[39;00m \u001b[38;5;129;01mnot\u001b[39;00m _current_process\u001b[38;5;241m.\u001b[39m_config\u001b[38;5;241m.\u001b[39mget(\u001b[38;5;124m'\u001b[39m\u001b[38;5;124mdaemon\u001b[39m\u001b[38;5;124m'\u001b[39m), \\\n\u001b[1;32m    119\u001b[0m        \u001b[38;5;124m'\u001b[39m\u001b[38;5;124mdaemonic processes are not allowed to have children\u001b[39m\u001b[38;5;124m'\u001b[39m\n\u001b[1;32m    120\u001b[0m _cleanup()\n\u001b[0;32m--> 121\u001b[0m \u001b[38;5;28mself\u001b[39m\u001b[38;5;241m.\u001b[39m_popen \u001b[38;5;241m=\u001b[39m \u001b[38;5;28;43mself\u001b[39;49m\u001b[38;5;241;43m.\u001b[39;49m\u001b[43m_Popen\u001b[49m\u001b[43m(\u001b[49m\u001b[38;5;28;43mself\u001b[39;49m\u001b[43m)\u001b[49m\n\u001b[1;32m    122\u001b[0m \u001b[38;5;28mself\u001b[39m\u001b[38;5;241m.\u001b[39m_sentinel \u001b[38;5;241m=\u001b[39m \u001b[38;5;28mself\u001b[39m\u001b[38;5;241m.\u001b[39m_popen\u001b[38;5;241m.\u001b[39msentinel\n\u001b[1;32m    123\u001b[0m \u001b[38;5;66;03m# Avoid a refcycle if the target function holds an indirect\u001b[39;00m\n\u001b[1;32m    124\u001b[0m \u001b[38;5;66;03m# reference to the process object (see bpo-30775)\u001b[39;00m\n",
      "File \u001b[0;32m~/anaconda3/envs/pytorch_env/lib/python3.9/multiprocessing/context.py:224\u001b[0m, in \u001b[0;36mProcess._Popen\u001b[0;34m(process_obj)\u001b[0m\n\u001b[1;32m    222\u001b[0m \u001b[38;5;129m@staticmethod\u001b[39m\n\u001b[1;32m    223\u001b[0m \u001b[38;5;28;01mdef\u001b[39;00m \u001b[38;5;21m_Popen\u001b[39m(process_obj):\n\u001b[0;32m--> 224\u001b[0m     \u001b[38;5;28;01mreturn\u001b[39;00m \u001b[43m_default_context\u001b[49m\u001b[38;5;241;43m.\u001b[39;49m\u001b[43mget_context\u001b[49m\u001b[43m(\u001b[49m\u001b[43m)\u001b[49m\u001b[38;5;241;43m.\u001b[39;49m\u001b[43mProcess\u001b[49m\u001b[38;5;241;43m.\u001b[39;49m\u001b[43m_Popen\u001b[49m\u001b[43m(\u001b[49m\u001b[43mprocess_obj\u001b[49m\u001b[43m)\u001b[49m\n",
      "File \u001b[0;32m~/anaconda3/envs/pytorch_env/lib/python3.9/multiprocessing/context.py:277\u001b[0m, in \u001b[0;36mForkProcess._Popen\u001b[0;34m(process_obj)\u001b[0m\n\u001b[1;32m    274\u001b[0m \u001b[38;5;129m@staticmethod\u001b[39m\n\u001b[1;32m    275\u001b[0m \u001b[38;5;28;01mdef\u001b[39;00m \u001b[38;5;21m_Popen\u001b[39m(process_obj):\n\u001b[1;32m    276\u001b[0m     \u001b[38;5;28;01mfrom\u001b[39;00m \u001b[38;5;21;01m.\u001b[39;00m\u001b[38;5;21;01mpopen_fork\u001b[39;00m \u001b[38;5;28;01mimport\u001b[39;00m Popen\n\u001b[0;32m--> 277\u001b[0m     \u001b[38;5;28;01mreturn\u001b[39;00m \u001b[43mPopen\u001b[49m\u001b[43m(\u001b[49m\u001b[43mprocess_obj\u001b[49m\u001b[43m)\u001b[49m\n",
      "File \u001b[0;32m~/anaconda3/envs/pytorch_env/lib/python3.9/multiprocessing/popen_fork.py:19\u001b[0m, in \u001b[0;36mPopen.__init__\u001b[0;34m(self, process_obj)\u001b[0m\n\u001b[1;32m     17\u001b[0m \u001b[38;5;28mself\u001b[39m\u001b[38;5;241m.\u001b[39mreturncode \u001b[38;5;241m=\u001b[39m \u001b[38;5;28;01mNone\u001b[39;00m\n\u001b[1;32m     18\u001b[0m \u001b[38;5;28mself\u001b[39m\u001b[38;5;241m.\u001b[39mfinalizer \u001b[38;5;241m=\u001b[39m \u001b[38;5;28;01mNone\u001b[39;00m\n\u001b[0;32m---> 19\u001b[0m \u001b[38;5;28;43mself\u001b[39;49m\u001b[38;5;241;43m.\u001b[39;49m\u001b[43m_launch\u001b[49m\u001b[43m(\u001b[49m\u001b[43mprocess_obj\u001b[49m\u001b[43m)\u001b[49m\n",
      "File \u001b[0;32m~/anaconda3/envs/pytorch_env/lib/python3.9/multiprocessing/popen_fork.py:66\u001b[0m, in \u001b[0;36mPopen._launch\u001b[0;34m(self, process_obj)\u001b[0m\n\u001b[1;32m     64\u001b[0m parent_r, child_w \u001b[38;5;241m=\u001b[39m os\u001b[38;5;241m.\u001b[39mpipe()\n\u001b[1;32m     65\u001b[0m child_r, parent_w \u001b[38;5;241m=\u001b[39m os\u001b[38;5;241m.\u001b[39mpipe()\n\u001b[0;32m---> 66\u001b[0m \u001b[38;5;28mself\u001b[39m\u001b[38;5;241m.\u001b[39mpid \u001b[38;5;241m=\u001b[39m \u001b[43mos\u001b[49m\u001b[38;5;241;43m.\u001b[39;49m\u001b[43mfork\u001b[49m\u001b[43m(\u001b[49m\u001b[43m)\u001b[49m\n\u001b[1;32m     67\u001b[0m \u001b[38;5;28;01mif\u001b[39;00m \u001b[38;5;28mself\u001b[39m\u001b[38;5;241m.\u001b[39mpid \u001b[38;5;241m==\u001b[39m \u001b[38;5;241m0\u001b[39m:\n\u001b[1;32m     68\u001b[0m     \u001b[38;5;28;01mtry\u001b[39;00m:\n",
      "File \u001b[0;32m~/anaconda3/envs/pytorch_env/lib/python3.9/site-packages/debugpy/_vendored/pydevd/_pydev_bundle/pydev_monkey.py:956\u001b[0m, in \u001b[0;36mcreate_fork.<locals>.new_fork\u001b[0;34m()\u001b[0m\n\u001b[1;32m    954\u001b[0m     PydevdCustomization\u001b[38;5;241m.\u001b[39mDEFAULT_PROTOCOL \u001b[38;5;241m=\u001b[39m protocol\n\u001b[1;32m    955\u001b[0m     PydevdCustomization\u001b[38;5;241m.\u001b[39mDEBUG_MODE \u001b[38;5;241m=\u001b[39m debug_mode\n\u001b[0;32m--> 956\u001b[0m     \u001b[43m_on_forked_process\u001b[49m\u001b[43m(\u001b[49m\u001b[43msetup_tracing\u001b[49m\u001b[38;5;241;43m=\u001b[39;49m\u001b[43mapply_arg_patch\u001b[49m\u001b[43m \u001b[49m\u001b[38;5;129;43;01mand\u001b[39;49;00m\u001b[43m \u001b[49m\u001b[38;5;129;43;01mnot\u001b[39;49;00m\u001b[43m \u001b[49m\u001b[43mis_subprocess_fork\u001b[49m\u001b[43m)\u001b[49m\n\u001b[1;32m    957\u001b[0m \u001b[38;5;28;01melse\u001b[39;00m:\n\u001b[1;32m    958\u001b[0m     set_global_debugger(\u001b[38;5;28;01mNone\u001b[39;00m)\n",
      "File \u001b[0;32m~/anaconda3/envs/pytorch_env/lib/python3.9/site-packages/debugpy/_vendored/pydevd/_pydev_bundle/pydev_monkey.py:232\u001b[0m, in \u001b[0;36m_on_forked_process\u001b[0;34m(setup_tracing)\u001b[0m\n\u001b[1;32m    230\u001b[0m \u001b[38;5;28;01mimport\u001b[39;00m \u001b[38;5;21;01mpydevd\u001b[39;00m\n\u001b[1;32m    231\u001b[0m pydevd\u001b[38;5;241m.\u001b[39mthreadingCurrentThread()\u001b[38;5;241m.\u001b[39m__pydevd_main_thread \u001b[38;5;241m=\u001b[39m \u001b[38;5;28;01mTrue\u001b[39;00m\n\u001b[0;32m--> 232\u001b[0m \u001b[43mpydevd\u001b[49m\u001b[38;5;241;43m.\u001b[39;49m\u001b[43msettrace_forked\u001b[49m\u001b[43m(\u001b[49m\u001b[43msetup_tracing\u001b[49m\u001b[38;5;241;43m=\u001b[39;49m\u001b[43msetup_tracing\u001b[49m\u001b[43m)\u001b[49m\n",
      "File \u001b[0;32m~/anaconda3/envs/pytorch_env/lib/python3.9/site-packages/debugpy/_vendored/pydevd/pydevd.py:3134\u001b[0m, in \u001b[0;36msettrace_forked\u001b[0;34m(setup_tracing)\u001b[0m\n\u001b[1;32m   3131\u001b[0m \u001b[38;5;28;01mif\u001b[39;00m clear_thread_local_info \u001b[38;5;129;01mis\u001b[39;00m \u001b[38;5;129;01mnot\u001b[39;00m \u001b[38;5;28;01mNone\u001b[39;00m:\n\u001b[1;32m   3132\u001b[0m     clear_thread_local_info()\n\u001b[0;32m-> 3134\u001b[0m \u001b[43msettrace\u001b[49m\u001b[43m(\u001b[49m\n\u001b[1;32m   3135\u001b[0m \u001b[43m        \u001b[49m\u001b[43mhost\u001b[49m\u001b[43m,\u001b[49m\n\u001b[1;32m   3136\u001b[0m \u001b[43m        \u001b[49m\u001b[43mport\u001b[49m\u001b[38;5;241;43m=\u001b[39;49m\u001b[43mport\u001b[49m\u001b[43m,\u001b[49m\n\u001b[1;32m   3137\u001b[0m \u001b[43m        \u001b[49m\u001b[43msuspend\u001b[49m\u001b[38;5;241;43m=\u001b[39;49m\u001b[38;5;28;43;01mFalse\u001b[39;49;00m\u001b[43m,\u001b[49m\n\u001b[1;32m   3138\u001b[0m \u001b[43m        \u001b[49m\u001b[43mtrace_only_current_thread\u001b[49m\u001b[38;5;241;43m=\u001b[39;49m\u001b[38;5;28;43;01mFalse\u001b[39;49;00m\u001b[43m,\u001b[49m\n\u001b[1;32m   3139\u001b[0m \u001b[43m        \u001b[49m\u001b[43moverwrite_prev_trace\u001b[49m\u001b[38;5;241;43m=\u001b[39;49m\u001b[38;5;28;43;01mTrue\u001b[39;49;00m\u001b[43m,\u001b[49m\n\u001b[1;32m   3140\u001b[0m \u001b[43m        \u001b[49m\u001b[43mpatch_multiprocessing\u001b[49m\u001b[38;5;241;43m=\u001b[39;49m\u001b[38;5;28;43;01mTrue\u001b[39;49;00m\u001b[43m,\u001b[49m\n\u001b[1;32m   3141\u001b[0m \u001b[43m        \u001b[49m\u001b[43maccess_token\u001b[49m\u001b[38;5;241;43m=\u001b[39;49m\u001b[43maccess_token\u001b[49m\u001b[43m,\u001b[49m\n\u001b[1;32m   3142\u001b[0m \u001b[43m        \u001b[49m\u001b[43mclient_access_token\u001b[49m\u001b[38;5;241;43m=\u001b[39;49m\u001b[43mclient_access_token\u001b[49m\u001b[43m,\u001b[49m\n\u001b[1;32m   3143\u001b[0m \u001b[43m\u001b[49m\u001b[43m)\u001b[49m\n",
      "File \u001b[0;32m~/anaconda3/envs/pytorch_env/lib/python3.9/site-packages/debugpy/_vendored/pydevd/pydevd.py:2821\u001b[0m, in \u001b[0;36msettrace\u001b[0;34m(host, stdout_to_server, stderr_to_server, port, suspend, trace_only_current_thread, overwrite_prev_trace, patch_multiprocessing, stop_at_frame, block_until_connected, wait_for_ready_to_run, dont_trace_start_patterns, dont_trace_end_patterns, access_token, client_access_token, notify_stdin, **kwargs)\u001b[0m\n\u001b[1;32m   2818\u001b[0m __setup_holder__ \u001b[38;5;241m=\u001b[39m kwargs\u001b[38;5;241m.\u001b[39mget(\u001b[38;5;124m'\u001b[39m\u001b[38;5;124m__setup_holder__\u001b[39m\u001b[38;5;124m'\u001b[39m)\n\u001b[1;32m   2820\u001b[0m \u001b[38;5;28;01mwith\u001b[39;00m _set_trace_lock:\n\u001b[0;32m-> 2821\u001b[0m     \u001b[43m_locked_settrace\u001b[49m\u001b[43m(\u001b[49m\n\u001b[1;32m   2822\u001b[0m \u001b[43m        \u001b[49m\u001b[43mhost\u001b[49m\u001b[43m,\u001b[49m\n\u001b[1;32m   2823\u001b[0m \u001b[43m        \u001b[49m\u001b[43mstdout_to_server\u001b[49m\u001b[43m,\u001b[49m\n\u001b[1;32m   2824\u001b[0m \u001b[43m        \u001b[49m\u001b[43mstderr_to_server\u001b[49m\u001b[43m,\u001b[49m\n\u001b[1;32m   2825\u001b[0m \u001b[43m        \u001b[49m\u001b[43mport\u001b[49m\u001b[43m,\u001b[49m\n\u001b[1;32m   2826\u001b[0m \u001b[43m        \u001b[49m\u001b[43msuspend\u001b[49m\u001b[43m,\u001b[49m\n\u001b[1;32m   2827\u001b[0m \u001b[43m        \u001b[49m\u001b[43mtrace_only_current_thread\u001b[49m\u001b[43m,\u001b[49m\n\u001b[1;32m   2828\u001b[0m \u001b[43m        \u001b[49m\u001b[43mpatch_multiprocessing\u001b[49m\u001b[43m,\u001b[49m\n\u001b[1;32m   2829\u001b[0m \u001b[43m        \u001b[49m\u001b[43mstop_at_frame\u001b[49m\u001b[43m,\u001b[49m\n\u001b[1;32m   2830\u001b[0m \u001b[43m        \u001b[49m\u001b[43mblock_until_connected\u001b[49m\u001b[43m,\u001b[49m\n\u001b[1;32m   2831\u001b[0m \u001b[43m        \u001b[49m\u001b[43mwait_for_ready_to_run\u001b[49m\u001b[43m,\u001b[49m\n\u001b[1;32m   2832\u001b[0m \u001b[43m        \u001b[49m\u001b[43mdont_trace_start_patterns\u001b[49m\u001b[43m,\u001b[49m\n\u001b[1;32m   2833\u001b[0m \u001b[43m        \u001b[49m\u001b[43mdont_trace_end_patterns\u001b[49m\u001b[43m,\u001b[49m\n\u001b[1;32m   2834\u001b[0m \u001b[43m        \u001b[49m\u001b[43maccess_token\u001b[49m\u001b[43m,\u001b[49m\n\u001b[1;32m   2835\u001b[0m \u001b[43m        \u001b[49m\u001b[43mclient_access_token\u001b[49m\u001b[43m,\u001b[49m\n\u001b[1;32m   2836\u001b[0m \u001b[43m        \u001b[49m\u001b[43m__setup_holder__\u001b[49m\u001b[38;5;241;43m=\u001b[39;49m\u001b[43m__setup_holder__\u001b[49m\u001b[43m,\u001b[49m\n\u001b[1;32m   2837\u001b[0m \u001b[43m        \u001b[49m\u001b[43mnotify_stdin\u001b[49m\u001b[38;5;241;43m=\u001b[39;49m\u001b[43mnotify_stdin\u001b[49m\u001b[43m,\u001b[49m\n\u001b[1;32m   2838\u001b[0m \u001b[43m    \u001b[49m\u001b[43m)\u001b[49m\n",
      "File \u001b[0;32m~/anaconda3/envs/pytorch_env/lib/python3.9/site-packages/debugpy/_vendored/pydevd/pydevd.py:2929\u001b[0m, in \u001b[0;36m_locked_settrace\u001b[0;34m(host, stdout_to_server, stderr_to_server, port, suspend, trace_only_current_thread, patch_multiprocessing, stop_at_frame, block_until_connected, wait_for_ready_to_run, dont_trace_start_patterns, dont_trace_end_patterns, access_token, client_access_token, __setup_holder__, notify_stdin)\u001b[0m\n\u001b[1;32m   2926\u001b[0m \u001b[38;5;28;01mif\u001b[39;00m \u001b[38;5;129;01mnot\u001b[39;00m wait_for_ready_to_run:\n\u001b[1;32m   2927\u001b[0m     py_db\u001b[38;5;241m.\u001b[39mready_to_run \u001b[38;5;241m=\u001b[39m \u001b[38;5;28;01mTrue\u001b[39;00m\n\u001b[0;32m-> 2929\u001b[0m \u001b[43mpy_db\u001b[49m\u001b[38;5;241;43m.\u001b[39;49m\u001b[43mwait_for_ready_to_run\u001b[49m\u001b[43m(\u001b[49m\u001b[43m)\u001b[49m\n\u001b[1;32m   2930\u001b[0m py_db\u001b[38;5;241m.\u001b[39mstart_auxiliary_daemon_threads()\n\u001b[1;32m   2932\u001b[0m \u001b[38;5;28;01mtry\u001b[39;00m:\n",
      "File \u001b[0;32m~/anaconda3/envs/pytorch_env/lib/python3.9/site-packages/debugpy/_vendored/pydevd/pydevd.py:838\u001b[0m, in \u001b[0;36mPyDB.wait_for_ready_to_run\u001b[0;34m(self)\u001b[0m\n\u001b[1;32m    836\u001b[0m \u001b[38;5;28mself\u001b[39m\u001b[38;5;241m.\u001b[39mprocess_internal_commands()\n\u001b[1;32m    837\u001b[0m \u001b[38;5;28mself\u001b[39m\u001b[38;5;241m.\u001b[39m_py_db_command_thread_event\u001b[38;5;241m.\u001b[39mclear()\n\u001b[0;32m--> 838\u001b[0m \u001b[38;5;28;43mself\u001b[39;49m\u001b[38;5;241;43m.\u001b[39;49m\u001b[43m_py_db_command_thread_event\u001b[49m\u001b[38;5;241;43m.\u001b[39;49m\u001b[43mwait\u001b[49m\u001b[43m(\u001b[49m\u001b[38;5;241;43m0.1\u001b[39;49m\u001b[43m)\u001b[49m\n",
      "File \u001b[0;32m~/anaconda3/envs/pytorch_env/lib/python3.9/threading.py:581\u001b[0m, in \u001b[0;36mEvent.wait\u001b[0;34m(self, timeout)\u001b[0m\n\u001b[1;32m    579\u001b[0m signaled \u001b[38;5;241m=\u001b[39m \u001b[38;5;28mself\u001b[39m\u001b[38;5;241m.\u001b[39m_flag\n\u001b[1;32m    580\u001b[0m \u001b[38;5;28;01mif\u001b[39;00m \u001b[38;5;129;01mnot\u001b[39;00m signaled:\n\u001b[0;32m--> 581\u001b[0m     signaled \u001b[38;5;241m=\u001b[39m \u001b[38;5;28;43mself\u001b[39;49m\u001b[38;5;241;43m.\u001b[39;49m\u001b[43m_cond\u001b[49m\u001b[38;5;241;43m.\u001b[39;49m\u001b[43mwait\u001b[49m\u001b[43m(\u001b[49m\u001b[43mtimeout\u001b[49m\u001b[43m)\u001b[49m\n\u001b[1;32m    582\u001b[0m \u001b[38;5;28;01mreturn\u001b[39;00m signaled\n",
      "File \u001b[0;32m~/anaconda3/envs/pytorch_env/lib/python3.9/threading.py:316\u001b[0m, in \u001b[0;36mCondition.wait\u001b[0;34m(self, timeout)\u001b[0m\n\u001b[1;32m    314\u001b[0m \u001b[38;5;28;01melse\u001b[39;00m:\n\u001b[1;32m    315\u001b[0m     \u001b[38;5;28;01mif\u001b[39;00m timeout \u001b[38;5;241m>\u001b[39m \u001b[38;5;241m0\u001b[39m:\n\u001b[0;32m--> 316\u001b[0m         gotit \u001b[38;5;241m=\u001b[39m \u001b[43mwaiter\u001b[49m\u001b[38;5;241;43m.\u001b[39;49m\u001b[43macquire\u001b[49m\u001b[43m(\u001b[49m\u001b[38;5;28;43;01mTrue\u001b[39;49;00m\u001b[43m,\u001b[49m\u001b[43m \u001b[49m\u001b[43mtimeout\u001b[49m\u001b[43m)\u001b[49m\n\u001b[1;32m    317\u001b[0m     \u001b[38;5;28;01melse\u001b[39;00m:\n\u001b[1;32m    318\u001b[0m         gotit \u001b[38;5;241m=\u001b[39m waiter\u001b[38;5;241m.\u001b[39macquire(\u001b[38;5;28;01mFalse\u001b[39;00m)\n",
      "\u001b[0;31mKeyboardInterrupt\u001b[0m: "
     ]
    },
    {
     "ename": "KeyboardInterrupt",
     "evalue": "",
     "output_type": "error",
     "traceback": [
      "\u001b[0;31m---------------------------------------------------------------------------\u001b[0m",
      "\u001b[0;31mKeyboardInterrupt\u001b[0m                         Traceback (most recent call last)",
      "Cell \u001b[0;32mIn[36], line 32\u001b[0m\n\u001b[1;32m     30\u001b[0m \u001b[38;5;66;03m# Training DataLoader\u001b[39;00m\n\u001b[1;32m     31\u001b[0m \u001b[38;5;28mprint\u001b[39m(\u001b[38;5;124mf\u001b[39m\u001b[38;5;124m\"\u001b[39m\u001b[38;5;124m  Number of training sequences: \u001b[39m\u001b[38;5;132;01m{\u001b[39;00m\u001b[38;5;28mlen\u001b[39m(train_loader\u001b[38;5;241m.\u001b[39mdataset)\u001b[38;5;132;01m}\u001b[39;00m\u001b[38;5;124m\"\u001b[39m)\n\u001b[0;32m---> 32\u001b[0m first_train_item \u001b[38;5;241m=\u001b[39m \u001b[38;5;28mnext\u001b[39m(\u001b[38;5;28;43miter\u001b[39;49m\u001b[43m(\u001b[49m\u001b[43mtrain_loader\u001b[49m\u001b[43m)\u001b[49m)\n\u001b[1;32m     33\u001b[0m train_features, train_targets, train_masks, train_engine_ids, cycles \u001b[38;5;241m=\u001b[39m first_train_item\n\u001b[1;32m     34\u001b[0m \u001b[38;5;28mprint\u001b[39m(\u001b[38;5;124mf\u001b[39m\u001b[38;5;124m\"\u001b[39m\u001b[38;5;124m  Training Features Shape: \u001b[39m\u001b[38;5;132;01m{\u001b[39;00mtrain_features\u001b[38;5;241m.\u001b[39mshape\u001b[38;5;132;01m}\u001b[39;00m\u001b[38;5;124m\"\u001b[39m)\n",
      "File \u001b[0;32m~/anaconda3/envs/pytorch_env/lib/python3.9/site-packages/torch/utils/data/dataloader.py:484\u001b[0m, in \u001b[0;36mDataLoader.__iter__\u001b[0;34m(self)\u001b[0m\n\u001b[1;32m    482\u001b[0m     \u001b[38;5;28;01mreturn\u001b[39;00m \u001b[38;5;28mself\u001b[39m\u001b[38;5;241m.\u001b[39m_iterator\n\u001b[1;32m    483\u001b[0m \u001b[38;5;28;01melse\u001b[39;00m:\n\u001b[0;32m--> 484\u001b[0m     \u001b[38;5;28;01mreturn\u001b[39;00m \u001b[38;5;28;43mself\u001b[39;49m\u001b[38;5;241;43m.\u001b[39;49m\u001b[43m_get_iterator\u001b[49m\u001b[43m(\u001b[49m\u001b[43m)\u001b[49m\n",
      "File \u001b[0;32m~/anaconda3/envs/pytorch_env/lib/python3.9/site-packages/torch/utils/data/dataloader.py:415\u001b[0m, in \u001b[0;36mDataLoader._get_iterator\u001b[0;34m(self)\u001b[0m\n\u001b[1;32m    413\u001b[0m \u001b[38;5;28;01melse\u001b[39;00m:\n\u001b[1;32m    414\u001b[0m     \u001b[38;5;28mself\u001b[39m\u001b[38;5;241m.\u001b[39mcheck_worker_number_rationality()\n\u001b[0;32m--> 415\u001b[0m     \u001b[38;5;28;01mreturn\u001b[39;00m \u001b[43m_MultiProcessingDataLoaderIter\u001b[49m\u001b[43m(\u001b[49m\u001b[38;5;28;43mself\u001b[39;49m\u001b[43m)\u001b[49m\n",
      "File \u001b[0;32m~/anaconda3/envs/pytorch_env/lib/python3.9/site-packages/torch/utils/data/dataloader.py:1138\u001b[0m, in \u001b[0;36m_MultiProcessingDataLoaderIter.__init__\u001b[0;34m(self, loader)\u001b[0m\n\u001b[1;32m   1131\u001b[0m w\u001b[38;5;241m.\u001b[39mdaemon \u001b[38;5;241m=\u001b[39m \u001b[38;5;28;01mTrue\u001b[39;00m\n\u001b[1;32m   1132\u001b[0m \u001b[38;5;66;03m# NB: Process.start() actually take some time as it needs to\u001b[39;00m\n\u001b[1;32m   1133\u001b[0m \u001b[38;5;66;03m#     start a process and pass the arguments over via a pipe.\u001b[39;00m\n\u001b[1;32m   1134\u001b[0m \u001b[38;5;66;03m#     Therefore, we only add a worker to self._workers list after\u001b[39;00m\n\u001b[1;32m   1135\u001b[0m \u001b[38;5;66;03m#     it started, so that we do not call .join() if program dies\u001b[39;00m\n\u001b[1;32m   1136\u001b[0m \u001b[38;5;66;03m#     before it starts, and __del__ tries to join but will get:\u001b[39;00m\n\u001b[1;32m   1137\u001b[0m \u001b[38;5;66;03m#     AssertionError: can only join a started process.\u001b[39;00m\n\u001b[0;32m-> 1138\u001b[0m \u001b[43mw\u001b[49m\u001b[38;5;241;43m.\u001b[39;49m\u001b[43mstart\u001b[49m\u001b[43m(\u001b[49m\u001b[43m)\u001b[49m\n\u001b[1;32m   1139\u001b[0m \u001b[38;5;28mself\u001b[39m\u001b[38;5;241m.\u001b[39m_index_queues\u001b[38;5;241m.\u001b[39mappend(index_queue)\n\u001b[1;32m   1140\u001b[0m \u001b[38;5;28mself\u001b[39m\u001b[38;5;241m.\u001b[39m_workers\u001b[38;5;241m.\u001b[39mappend(w)\n",
      "File \u001b[0;32m~/anaconda3/envs/pytorch_env/lib/python3.9/multiprocessing/process.py:121\u001b[0m, in \u001b[0;36mBaseProcess.start\u001b[0;34m(self)\u001b[0m\n\u001b[1;32m    118\u001b[0m \u001b[38;5;28;01massert\u001b[39;00m \u001b[38;5;129;01mnot\u001b[39;00m _current_process\u001b[38;5;241m.\u001b[39m_config\u001b[38;5;241m.\u001b[39mget(\u001b[38;5;124m'\u001b[39m\u001b[38;5;124mdaemon\u001b[39m\u001b[38;5;124m'\u001b[39m), \\\n\u001b[1;32m    119\u001b[0m        \u001b[38;5;124m'\u001b[39m\u001b[38;5;124mdaemonic processes are not allowed to have children\u001b[39m\u001b[38;5;124m'\u001b[39m\n\u001b[1;32m    120\u001b[0m _cleanup()\n\u001b[0;32m--> 121\u001b[0m \u001b[38;5;28mself\u001b[39m\u001b[38;5;241m.\u001b[39m_popen \u001b[38;5;241m=\u001b[39m \u001b[38;5;28;43mself\u001b[39;49m\u001b[38;5;241;43m.\u001b[39;49m\u001b[43m_Popen\u001b[49m\u001b[43m(\u001b[49m\u001b[38;5;28;43mself\u001b[39;49m\u001b[43m)\u001b[49m\n\u001b[1;32m    122\u001b[0m \u001b[38;5;28mself\u001b[39m\u001b[38;5;241m.\u001b[39m_sentinel \u001b[38;5;241m=\u001b[39m \u001b[38;5;28mself\u001b[39m\u001b[38;5;241m.\u001b[39m_popen\u001b[38;5;241m.\u001b[39msentinel\n\u001b[1;32m    123\u001b[0m \u001b[38;5;66;03m# Avoid a refcycle if the target function holds an indirect\u001b[39;00m\n\u001b[1;32m    124\u001b[0m \u001b[38;5;66;03m# reference to the process object (see bpo-30775)\u001b[39;00m\n",
      "File \u001b[0;32m~/anaconda3/envs/pytorch_env/lib/python3.9/multiprocessing/context.py:224\u001b[0m, in \u001b[0;36mProcess._Popen\u001b[0;34m(process_obj)\u001b[0m\n\u001b[1;32m    222\u001b[0m \u001b[38;5;129m@staticmethod\u001b[39m\n\u001b[1;32m    223\u001b[0m \u001b[38;5;28;01mdef\u001b[39;00m \u001b[38;5;21m_Popen\u001b[39m(process_obj):\n\u001b[0;32m--> 224\u001b[0m     \u001b[38;5;28;01mreturn\u001b[39;00m \u001b[43m_default_context\u001b[49m\u001b[38;5;241;43m.\u001b[39;49m\u001b[43mget_context\u001b[49m\u001b[43m(\u001b[49m\u001b[43m)\u001b[49m\u001b[38;5;241;43m.\u001b[39;49m\u001b[43mProcess\u001b[49m\u001b[38;5;241;43m.\u001b[39;49m\u001b[43m_Popen\u001b[49m\u001b[43m(\u001b[49m\u001b[43mprocess_obj\u001b[49m\u001b[43m)\u001b[49m\n",
      "File \u001b[0;32m~/anaconda3/envs/pytorch_env/lib/python3.9/multiprocessing/context.py:277\u001b[0m, in \u001b[0;36mForkProcess._Popen\u001b[0;34m(process_obj)\u001b[0m\n\u001b[1;32m    274\u001b[0m \u001b[38;5;129m@staticmethod\u001b[39m\n\u001b[1;32m    275\u001b[0m \u001b[38;5;28;01mdef\u001b[39;00m \u001b[38;5;21m_Popen\u001b[39m(process_obj):\n\u001b[1;32m    276\u001b[0m     \u001b[38;5;28;01mfrom\u001b[39;00m \u001b[38;5;21;01m.\u001b[39;00m\u001b[38;5;21;01mpopen_fork\u001b[39;00m \u001b[38;5;28;01mimport\u001b[39;00m Popen\n\u001b[0;32m--> 277\u001b[0m     \u001b[38;5;28;01mreturn\u001b[39;00m \u001b[43mPopen\u001b[49m\u001b[43m(\u001b[49m\u001b[43mprocess_obj\u001b[49m\u001b[43m)\u001b[49m\n",
      "File \u001b[0;32m~/anaconda3/envs/pytorch_env/lib/python3.9/multiprocessing/popen_fork.py:19\u001b[0m, in \u001b[0;36mPopen.__init__\u001b[0;34m(self, process_obj)\u001b[0m\n\u001b[1;32m     17\u001b[0m \u001b[38;5;28mself\u001b[39m\u001b[38;5;241m.\u001b[39mreturncode \u001b[38;5;241m=\u001b[39m \u001b[38;5;28;01mNone\u001b[39;00m\n\u001b[1;32m     18\u001b[0m \u001b[38;5;28mself\u001b[39m\u001b[38;5;241m.\u001b[39mfinalizer \u001b[38;5;241m=\u001b[39m \u001b[38;5;28;01mNone\u001b[39;00m\n\u001b[0;32m---> 19\u001b[0m \u001b[38;5;28;43mself\u001b[39;49m\u001b[38;5;241;43m.\u001b[39;49m\u001b[43m_launch\u001b[49m\u001b[43m(\u001b[49m\u001b[43mprocess_obj\u001b[49m\u001b[43m)\u001b[49m\n",
      "File \u001b[0;32m~/anaconda3/envs/pytorch_env/lib/python3.9/multiprocessing/popen_fork.py:66\u001b[0m, in \u001b[0;36mPopen._launch\u001b[0;34m(self, process_obj)\u001b[0m\n\u001b[1;32m     64\u001b[0m parent_r, child_w \u001b[38;5;241m=\u001b[39m os\u001b[38;5;241m.\u001b[39mpipe()\n\u001b[1;32m     65\u001b[0m child_r, parent_w \u001b[38;5;241m=\u001b[39m os\u001b[38;5;241m.\u001b[39mpipe()\n\u001b[0;32m---> 66\u001b[0m \u001b[38;5;28mself\u001b[39m\u001b[38;5;241m.\u001b[39mpid \u001b[38;5;241m=\u001b[39m \u001b[43mos\u001b[49m\u001b[38;5;241;43m.\u001b[39;49m\u001b[43mfork\u001b[49m\u001b[43m(\u001b[49m\u001b[43m)\u001b[49m\n\u001b[1;32m     67\u001b[0m \u001b[38;5;28;01mif\u001b[39;00m \u001b[38;5;28mself\u001b[39m\u001b[38;5;241m.\u001b[39mpid \u001b[38;5;241m==\u001b[39m \u001b[38;5;241m0\u001b[39m:\n\u001b[1;32m     68\u001b[0m     \u001b[38;5;28;01mtry\u001b[39;00m:\n",
      "File \u001b[0;32m~/anaconda3/envs/pytorch_env/lib/python3.9/site-packages/debugpy/_vendored/pydevd/_pydev_bundle/pydev_monkey.py:956\u001b[0m, in \u001b[0;36mcreate_fork.<locals>.new_fork\u001b[0;34m()\u001b[0m\n\u001b[1;32m    954\u001b[0m     PydevdCustomization\u001b[38;5;241m.\u001b[39mDEFAULT_PROTOCOL \u001b[38;5;241m=\u001b[39m protocol\n\u001b[1;32m    955\u001b[0m     PydevdCustomization\u001b[38;5;241m.\u001b[39mDEBUG_MODE \u001b[38;5;241m=\u001b[39m debug_mode\n\u001b[0;32m--> 956\u001b[0m     \u001b[43m_on_forked_process\u001b[49m\u001b[43m(\u001b[49m\u001b[43msetup_tracing\u001b[49m\u001b[38;5;241;43m=\u001b[39;49m\u001b[43mapply_arg_patch\u001b[49m\u001b[43m \u001b[49m\u001b[38;5;129;43;01mand\u001b[39;49;00m\u001b[43m \u001b[49m\u001b[38;5;129;43;01mnot\u001b[39;49;00m\u001b[43m \u001b[49m\u001b[43mis_subprocess_fork\u001b[49m\u001b[43m)\u001b[49m\n\u001b[1;32m    957\u001b[0m \u001b[38;5;28;01melse\u001b[39;00m:\n\u001b[1;32m    958\u001b[0m     set_global_debugger(\u001b[38;5;28;01mNone\u001b[39;00m)\n",
      "File \u001b[0;32m~/anaconda3/envs/pytorch_env/lib/python3.9/site-packages/debugpy/_vendored/pydevd/_pydev_bundle/pydev_monkey.py:232\u001b[0m, in \u001b[0;36m_on_forked_process\u001b[0;34m(setup_tracing)\u001b[0m\n\u001b[1;32m    230\u001b[0m \u001b[38;5;28;01mimport\u001b[39;00m \u001b[38;5;21;01mpydevd\u001b[39;00m\n\u001b[1;32m    231\u001b[0m pydevd\u001b[38;5;241m.\u001b[39mthreadingCurrentThread()\u001b[38;5;241m.\u001b[39m__pydevd_main_thread \u001b[38;5;241m=\u001b[39m \u001b[38;5;28;01mTrue\u001b[39;00m\n\u001b[0;32m--> 232\u001b[0m \u001b[43mpydevd\u001b[49m\u001b[38;5;241;43m.\u001b[39;49m\u001b[43msettrace_forked\u001b[49m\u001b[43m(\u001b[49m\u001b[43msetup_tracing\u001b[49m\u001b[38;5;241;43m=\u001b[39;49m\u001b[43msetup_tracing\u001b[49m\u001b[43m)\u001b[49m\n",
      "File \u001b[0;32m~/anaconda3/envs/pytorch_env/lib/python3.9/site-packages/debugpy/_vendored/pydevd/pydevd.py:3134\u001b[0m, in \u001b[0;36msettrace_forked\u001b[0;34m(setup_tracing)\u001b[0m\n\u001b[1;32m   3131\u001b[0m \u001b[38;5;28;01mif\u001b[39;00m clear_thread_local_info \u001b[38;5;129;01mis\u001b[39;00m \u001b[38;5;129;01mnot\u001b[39;00m \u001b[38;5;28;01mNone\u001b[39;00m:\n\u001b[1;32m   3132\u001b[0m     clear_thread_local_info()\n\u001b[0;32m-> 3134\u001b[0m \u001b[43msettrace\u001b[49m\u001b[43m(\u001b[49m\n\u001b[1;32m   3135\u001b[0m \u001b[43m        \u001b[49m\u001b[43mhost\u001b[49m\u001b[43m,\u001b[49m\n\u001b[1;32m   3136\u001b[0m \u001b[43m        \u001b[49m\u001b[43mport\u001b[49m\u001b[38;5;241;43m=\u001b[39;49m\u001b[43mport\u001b[49m\u001b[43m,\u001b[49m\n\u001b[1;32m   3137\u001b[0m \u001b[43m        \u001b[49m\u001b[43msuspend\u001b[49m\u001b[38;5;241;43m=\u001b[39;49m\u001b[38;5;28;43;01mFalse\u001b[39;49;00m\u001b[43m,\u001b[49m\n\u001b[1;32m   3138\u001b[0m \u001b[43m        \u001b[49m\u001b[43mtrace_only_current_thread\u001b[49m\u001b[38;5;241;43m=\u001b[39;49m\u001b[38;5;28;43;01mFalse\u001b[39;49;00m\u001b[43m,\u001b[49m\n\u001b[1;32m   3139\u001b[0m \u001b[43m        \u001b[49m\u001b[43moverwrite_prev_trace\u001b[49m\u001b[38;5;241;43m=\u001b[39;49m\u001b[38;5;28;43;01mTrue\u001b[39;49;00m\u001b[43m,\u001b[49m\n\u001b[1;32m   3140\u001b[0m \u001b[43m        \u001b[49m\u001b[43mpatch_multiprocessing\u001b[49m\u001b[38;5;241;43m=\u001b[39;49m\u001b[38;5;28;43;01mTrue\u001b[39;49;00m\u001b[43m,\u001b[49m\n\u001b[1;32m   3141\u001b[0m \u001b[43m        \u001b[49m\u001b[43maccess_token\u001b[49m\u001b[38;5;241;43m=\u001b[39;49m\u001b[43maccess_token\u001b[49m\u001b[43m,\u001b[49m\n\u001b[1;32m   3142\u001b[0m \u001b[43m        \u001b[49m\u001b[43mclient_access_token\u001b[49m\u001b[38;5;241;43m=\u001b[39;49m\u001b[43mclient_access_token\u001b[49m\u001b[43m,\u001b[49m\n\u001b[1;32m   3143\u001b[0m \u001b[43m\u001b[49m\u001b[43m)\u001b[49m\n",
      "File \u001b[0;32m~/anaconda3/envs/pytorch_env/lib/python3.9/site-packages/debugpy/_vendored/pydevd/pydevd.py:2821\u001b[0m, in \u001b[0;36msettrace\u001b[0;34m(host, stdout_to_server, stderr_to_server, port, suspend, trace_only_current_thread, overwrite_prev_trace, patch_multiprocessing, stop_at_frame, block_until_connected, wait_for_ready_to_run, dont_trace_start_patterns, dont_trace_end_patterns, access_token, client_access_token, notify_stdin, **kwargs)\u001b[0m\n\u001b[1;32m   2818\u001b[0m __setup_holder__ \u001b[38;5;241m=\u001b[39m kwargs\u001b[38;5;241m.\u001b[39mget(\u001b[38;5;124m'\u001b[39m\u001b[38;5;124m__setup_holder__\u001b[39m\u001b[38;5;124m'\u001b[39m)\n\u001b[1;32m   2820\u001b[0m \u001b[38;5;28;01mwith\u001b[39;00m _set_trace_lock:\n\u001b[0;32m-> 2821\u001b[0m     \u001b[43m_locked_settrace\u001b[49m\u001b[43m(\u001b[49m\n\u001b[1;32m   2822\u001b[0m \u001b[43m        \u001b[49m\u001b[43mhost\u001b[49m\u001b[43m,\u001b[49m\n\u001b[1;32m   2823\u001b[0m \u001b[43m        \u001b[49m\u001b[43mstdout_to_server\u001b[49m\u001b[43m,\u001b[49m\n\u001b[1;32m   2824\u001b[0m \u001b[43m        \u001b[49m\u001b[43mstderr_to_server\u001b[49m\u001b[43m,\u001b[49m\n\u001b[1;32m   2825\u001b[0m \u001b[43m        \u001b[49m\u001b[43mport\u001b[49m\u001b[43m,\u001b[49m\n\u001b[1;32m   2826\u001b[0m \u001b[43m        \u001b[49m\u001b[43msuspend\u001b[49m\u001b[43m,\u001b[49m\n\u001b[1;32m   2827\u001b[0m \u001b[43m        \u001b[49m\u001b[43mtrace_only_current_thread\u001b[49m\u001b[43m,\u001b[49m\n\u001b[1;32m   2828\u001b[0m \u001b[43m        \u001b[49m\u001b[43mpatch_multiprocessing\u001b[49m\u001b[43m,\u001b[49m\n\u001b[1;32m   2829\u001b[0m \u001b[43m        \u001b[49m\u001b[43mstop_at_frame\u001b[49m\u001b[43m,\u001b[49m\n\u001b[1;32m   2830\u001b[0m \u001b[43m        \u001b[49m\u001b[43mblock_until_connected\u001b[49m\u001b[43m,\u001b[49m\n\u001b[1;32m   2831\u001b[0m \u001b[43m        \u001b[49m\u001b[43mwait_for_ready_to_run\u001b[49m\u001b[43m,\u001b[49m\n\u001b[1;32m   2832\u001b[0m \u001b[43m        \u001b[49m\u001b[43mdont_trace_start_patterns\u001b[49m\u001b[43m,\u001b[49m\n\u001b[1;32m   2833\u001b[0m \u001b[43m        \u001b[49m\u001b[43mdont_trace_end_patterns\u001b[49m\u001b[43m,\u001b[49m\n\u001b[1;32m   2834\u001b[0m \u001b[43m        \u001b[49m\u001b[43maccess_token\u001b[49m\u001b[43m,\u001b[49m\n\u001b[1;32m   2835\u001b[0m \u001b[43m        \u001b[49m\u001b[43mclient_access_token\u001b[49m\u001b[43m,\u001b[49m\n\u001b[1;32m   2836\u001b[0m \u001b[43m        \u001b[49m\u001b[43m__setup_holder__\u001b[49m\u001b[38;5;241;43m=\u001b[39;49m\u001b[43m__setup_holder__\u001b[49m\u001b[43m,\u001b[49m\n\u001b[1;32m   2837\u001b[0m \u001b[43m        \u001b[49m\u001b[43mnotify_stdin\u001b[49m\u001b[38;5;241;43m=\u001b[39;49m\u001b[43mnotify_stdin\u001b[49m\u001b[43m,\u001b[49m\n\u001b[1;32m   2838\u001b[0m \u001b[43m    \u001b[49m\u001b[43m)\u001b[49m\n",
      "File \u001b[0;32m~/anaconda3/envs/pytorch_env/lib/python3.9/site-packages/debugpy/_vendored/pydevd/pydevd.py:2929\u001b[0m, in \u001b[0;36m_locked_settrace\u001b[0;34m(host, stdout_to_server, stderr_to_server, port, suspend, trace_only_current_thread, patch_multiprocessing, stop_at_frame, block_until_connected, wait_for_ready_to_run, dont_trace_start_patterns, dont_trace_end_patterns, access_token, client_access_token, __setup_holder__, notify_stdin)\u001b[0m\n\u001b[1;32m   2926\u001b[0m \u001b[38;5;28;01mif\u001b[39;00m \u001b[38;5;129;01mnot\u001b[39;00m wait_for_ready_to_run:\n\u001b[1;32m   2927\u001b[0m     py_db\u001b[38;5;241m.\u001b[39mready_to_run \u001b[38;5;241m=\u001b[39m \u001b[38;5;28;01mTrue\u001b[39;00m\n\u001b[0;32m-> 2929\u001b[0m \u001b[43mpy_db\u001b[49m\u001b[38;5;241;43m.\u001b[39;49m\u001b[43mwait_for_ready_to_run\u001b[49m\u001b[43m(\u001b[49m\u001b[43m)\u001b[49m\n\u001b[1;32m   2930\u001b[0m py_db\u001b[38;5;241m.\u001b[39mstart_auxiliary_daemon_threads()\n\u001b[1;32m   2932\u001b[0m \u001b[38;5;28;01mtry\u001b[39;00m:\n",
      "File \u001b[0;32m~/anaconda3/envs/pytorch_env/lib/python3.9/site-packages/debugpy/_vendored/pydevd/pydevd.py:838\u001b[0m, in \u001b[0;36mPyDB.wait_for_ready_to_run\u001b[0;34m(self)\u001b[0m\n\u001b[1;32m    836\u001b[0m \u001b[38;5;28mself\u001b[39m\u001b[38;5;241m.\u001b[39mprocess_internal_commands()\n\u001b[1;32m    837\u001b[0m \u001b[38;5;28mself\u001b[39m\u001b[38;5;241m.\u001b[39m_py_db_command_thread_event\u001b[38;5;241m.\u001b[39mclear()\n\u001b[0;32m--> 838\u001b[0m \u001b[38;5;28;43mself\u001b[39;49m\u001b[38;5;241;43m.\u001b[39;49m\u001b[43m_py_db_command_thread_event\u001b[49m\u001b[38;5;241;43m.\u001b[39;49m\u001b[43mwait\u001b[49m\u001b[43m(\u001b[49m\u001b[38;5;241;43m0.1\u001b[39;49m\u001b[43m)\u001b[49m\n",
      "File \u001b[0;32m~/anaconda3/envs/pytorch_env/lib/python3.9/threading.py:581\u001b[0m, in \u001b[0;36mEvent.wait\u001b[0;34m(self, timeout)\u001b[0m\n\u001b[1;32m    579\u001b[0m signaled \u001b[38;5;241m=\u001b[39m \u001b[38;5;28mself\u001b[39m\u001b[38;5;241m.\u001b[39m_flag\n\u001b[1;32m    580\u001b[0m \u001b[38;5;28;01mif\u001b[39;00m \u001b[38;5;129;01mnot\u001b[39;00m signaled:\n\u001b[0;32m--> 581\u001b[0m     signaled \u001b[38;5;241m=\u001b[39m \u001b[38;5;28;43mself\u001b[39;49m\u001b[38;5;241;43m.\u001b[39;49m\u001b[43m_cond\u001b[49m\u001b[38;5;241;43m.\u001b[39;49m\u001b[43mwait\u001b[49m\u001b[43m(\u001b[49m\u001b[43mtimeout\u001b[49m\u001b[43m)\u001b[49m\n\u001b[1;32m    582\u001b[0m \u001b[38;5;28;01mreturn\u001b[39;00m signaled\n",
      "File \u001b[0;32m~/anaconda3/envs/pytorch_env/lib/python3.9/threading.py:316\u001b[0m, in \u001b[0;36mCondition.wait\u001b[0;34m(self, timeout)\u001b[0m\n\u001b[1;32m    314\u001b[0m \u001b[38;5;28;01melse\u001b[39;00m:\n\u001b[1;32m    315\u001b[0m     \u001b[38;5;28;01mif\u001b[39;00m timeout \u001b[38;5;241m>\u001b[39m \u001b[38;5;241m0\u001b[39m:\n\u001b[0;32m--> 316\u001b[0m         gotit \u001b[38;5;241m=\u001b[39m \u001b[43mwaiter\u001b[49m\u001b[38;5;241;43m.\u001b[39;49m\u001b[43macquire\u001b[49m\u001b[43m(\u001b[49m\u001b[38;5;28;43;01mTrue\u001b[39;49;00m\u001b[43m,\u001b[49m\u001b[43m \u001b[49m\u001b[43mtimeout\u001b[49m\u001b[43m)\u001b[49m\n\u001b[1;32m    317\u001b[0m     \u001b[38;5;28;01melse\u001b[39;00m:\n\u001b[1;32m    318\u001b[0m         gotit \u001b[38;5;241m=\u001b[39m waiter\u001b[38;5;241m.\u001b[39macquire(\u001b[38;5;28;01mFalse\u001b[39;00m)\n",
      "\u001b[0;31mKeyboardInterrupt\u001b[0m: "
     ]
    },
    {
     "ename": "KeyboardInterrupt",
     "evalue": "",
     "output_type": "error",
     "traceback": [
      "\u001b[0;31m---------------------------------------------------------------------------\u001b[0m",
      "\u001b[0;31mKeyboardInterrupt\u001b[0m                         Traceback (most recent call last)",
      "Cell \u001b[0;32mIn[36], line 32\u001b[0m\n\u001b[1;32m     30\u001b[0m \u001b[38;5;66;03m# Training DataLoader\u001b[39;00m\n\u001b[1;32m     31\u001b[0m \u001b[38;5;28mprint\u001b[39m(\u001b[38;5;124mf\u001b[39m\u001b[38;5;124m\"\u001b[39m\u001b[38;5;124m  Number of training sequences: \u001b[39m\u001b[38;5;132;01m{\u001b[39;00m\u001b[38;5;28mlen\u001b[39m(train_loader\u001b[38;5;241m.\u001b[39mdataset)\u001b[38;5;132;01m}\u001b[39;00m\u001b[38;5;124m\"\u001b[39m)\n\u001b[0;32m---> 32\u001b[0m first_train_item \u001b[38;5;241m=\u001b[39m \u001b[38;5;28mnext\u001b[39m(\u001b[38;5;28;43miter\u001b[39;49m\u001b[43m(\u001b[49m\u001b[43mtrain_loader\u001b[49m\u001b[43m)\u001b[49m)\n\u001b[1;32m     33\u001b[0m train_features, train_targets, train_masks, train_engine_ids, cycles \u001b[38;5;241m=\u001b[39m first_train_item\n\u001b[1;32m     34\u001b[0m \u001b[38;5;28mprint\u001b[39m(\u001b[38;5;124mf\u001b[39m\u001b[38;5;124m\"\u001b[39m\u001b[38;5;124m  Training Features Shape: \u001b[39m\u001b[38;5;132;01m{\u001b[39;00mtrain_features\u001b[38;5;241m.\u001b[39mshape\u001b[38;5;132;01m}\u001b[39;00m\u001b[38;5;124m\"\u001b[39m)\n",
      "File \u001b[0;32m~/anaconda3/envs/pytorch_env/lib/python3.9/site-packages/torch/utils/data/dataloader.py:484\u001b[0m, in \u001b[0;36mDataLoader.__iter__\u001b[0;34m(self)\u001b[0m\n\u001b[1;32m    482\u001b[0m     \u001b[38;5;28;01mreturn\u001b[39;00m \u001b[38;5;28mself\u001b[39m\u001b[38;5;241m.\u001b[39m_iterator\n\u001b[1;32m    483\u001b[0m \u001b[38;5;28;01melse\u001b[39;00m:\n\u001b[0;32m--> 484\u001b[0m     \u001b[38;5;28;01mreturn\u001b[39;00m \u001b[38;5;28;43mself\u001b[39;49m\u001b[38;5;241;43m.\u001b[39;49m\u001b[43m_get_iterator\u001b[49m\u001b[43m(\u001b[49m\u001b[43m)\u001b[49m\n",
      "File \u001b[0;32m~/anaconda3/envs/pytorch_env/lib/python3.9/site-packages/torch/utils/data/dataloader.py:415\u001b[0m, in \u001b[0;36mDataLoader._get_iterator\u001b[0;34m(self)\u001b[0m\n\u001b[1;32m    413\u001b[0m \u001b[38;5;28;01melse\u001b[39;00m:\n\u001b[1;32m    414\u001b[0m     \u001b[38;5;28mself\u001b[39m\u001b[38;5;241m.\u001b[39mcheck_worker_number_rationality()\n\u001b[0;32m--> 415\u001b[0m     \u001b[38;5;28;01mreturn\u001b[39;00m \u001b[43m_MultiProcessingDataLoaderIter\u001b[49m\u001b[43m(\u001b[49m\u001b[38;5;28;43mself\u001b[39;49m\u001b[43m)\u001b[49m\n",
      "File \u001b[0;32m~/anaconda3/envs/pytorch_env/lib/python3.9/site-packages/torch/utils/data/dataloader.py:1138\u001b[0m, in \u001b[0;36m_MultiProcessingDataLoaderIter.__init__\u001b[0;34m(self, loader)\u001b[0m\n\u001b[1;32m   1131\u001b[0m w\u001b[38;5;241m.\u001b[39mdaemon \u001b[38;5;241m=\u001b[39m \u001b[38;5;28;01mTrue\u001b[39;00m\n\u001b[1;32m   1132\u001b[0m \u001b[38;5;66;03m# NB: Process.start() actually take some time as it needs to\u001b[39;00m\n\u001b[1;32m   1133\u001b[0m \u001b[38;5;66;03m#     start a process and pass the arguments over via a pipe.\u001b[39;00m\n\u001b[1;32m   1134\u001b[0m \u001b[38;5;66;03m#     Therefore, we only add a worker to self._workers list after\u001b[39;00m\n\u001b[1;32m   1135\u001b[0m \u001b[38;5;66;03m#     it started, so that we do not call .join() if program dies\u001b[39;00m\n\u001b[1;32m   1136\u001b[0m \u001b[38;5;66;03m#     before it starts, and __del__ tries to join but will get:\u001b[39;00m\n\u001b[1;32m   1137\u001b[0m \u001b[38;5;66;03m#     AssertionError: can only join a started process.\u001b[39;00m\n\u001b[0;32m-> 1138\u001b[0m \u001b[43mw\u001b[49m\u001b[38;5;241;43m.\u001b[39;49m\u001b[43mstart\u001b[49m\u001b[43m(\u001b[49m\u001b[43m)\u001b[49m\n\u001b[1;32m   1139\u001b[0m \u001b[38;5;28mself\u001b[39m\u001b[38;5;241m.\u001b[39m_index_queues\u001b[38;5;241m.\u001b[39mappend(index_queue)\n\u001b[1;32m   1140\u001b[0m \u001b[38;5;28mself\u001b[39m\u001b[38;5;241m.\u001b[39m_workers\u001b[38;5;241m.\u001b[39mappend(w)\n",
      "File \u001b[0;32m~/anaconda3/envs/pytorch_env/lib/python3.9/multiprocessing/process.py:121\u001b[0m, in \u001b[0;36mBaseProcess.start\u001b[0;34m(self)\u001b[0m\n\u001b[1;32m    118\u001b[0m \u001b[38;5;28;01massert\u001b[39;00m \u001b[38;5;129;01mnot\u001b[39;00m _current_process\u001b[38;5;241m.\u001b[39m_config\u001b[38;5;241m.\u001b[39mget(\u001b[38;5;124m'\u001b[39m\u001b[38;5;124mdaemon\u001b[39m\u001b[38;5;124m'\u001b[39m), \\\n\u001b[1;32m    119\u001b[0m        \u001b[38;5;124m'\u001b[39m\u001b[38;5;124mdaemonic processes are not allowed to have children\u001b[39m\u001b[38;5;124m'\u001b[39m\n\u001b[1;32m    120\u001b[0m _cleanup()\n\u001b[0;32m--> 121\u001b[0m \u001b[38;5;28mself\u001b[39m\u001b[38;5;241m.\u001b[39m_popen \u001b[38;5;241m=\u001b[39m \u001b[38;5;28;43mself\u001b[39;49m\u001b[38;5;241;43m.\u001b[39;49m\u001b[43m_Popen\u001b[49m\u001b[43m(\u001b[49m\u001b[38;5;28;43mself\u001b[39;49m\u001b[43m)\u001b[49m\n\u001b[1;32m    122\u001b[0m \u001b[38;5;28mself\u001b[39m\u001b[38;5;241m.\u001b[39m_sentinel \u001b[38;5;241m=\u001b[39m \u001b[38;5;28mself\u001b[39m\u001b[38;5;241m.\u001b[39m_popen\u001b[38;5;241m.\u001b[39msentinel\n\u001b[1;32m    123\u001b[0m \u001b[38;5;66;03m# Avoid a refcycle if the target function holds an indirect\u001b[39;00m\n\u001b[1;32m    124\u001b[0m \u001b[38;5;66;03m# reference to the process object (see bpo-30775)\u001b[39;00m\n",
      "File \u001b[0;32m~/anaconda3/envs/pytorch_env/lib/python3.9/multiprocessing/context.py:224\u001b[0m, in \u001b[0;36mProcess._Popen\u001b[0;34m(process_obj)\u001b[0m\n\u001b[1;32m    222\u001b[0m \u001b[38;5;129m@staticmethod\u001b[39m\n\u001b[1;32m    223\u001b[0m \u001b[38;5;28;01mdef\u001b[39;00m \u001b[38;5;21m_Popen\u001b[39m(process_obj):\n\u001b[0;32m--> 224\u001b[0m     \u001b[38;5;28;01mreturn\u001b[39;00m \u001b[43m_default_context\u001b[49m\u001b[38;5;241;43m.\u001b[39;49m\u001b[43mget_context\u001b[49m\u001b[43m(\u001b[49m\u001b[43m)\u001b[49m\u001b[38;5;241;43m.\u001b[39;49m\u001b[43mProcess\u001b[49m\u001b[38;5;241;43m.\u001b[39;49m\u001b[43m_Popen\u001b[49m\u001b[43m(\u001b[49m\u001b[43mprocess_obj\u001b[49m\u001b[43m)\u001b[49m\n",
      "File \u001b[0;32m~/anaconda3/envs/pytorch_env/lib/python3.9/multiprocessing/context.py:277\u001b[0m, in \u001b[0;36mForkProcess._Popen\u001b[0;34m(process_obj)\u001b[0m\n\u001b[1;32m    274\u001b[0m \u001b[38;5;129m@staticmethod\u001b[39m\n\u001b[1;32m    275\u001b[0m \u001b[38;5;28;01mdef\u001b[39;00m \u001b[38;5;21m_Popen\u001b[39m(process_obj):\n\u001b[1;32m    276\u001b[0m     \u001b[38;5;28;01mfrom\u001b[39;00m \u001b[38;5;21;01m.\u001b[39;00m\u001b[38;5;21;01mpopen_fork\u001b[39;00m \u001b[38;5;28;01mimport\u001b[39;00m Popen\n\u001b[0;32m--> 277\u001b[0m     \u001b[38;5;28;01mreturn\u001b[39;00m \u001b[43mPopen\u001b[49m\u001b[43m(\u001b[49m\u001b[43mprocess_obj\u001b[49m\u001b[43m)\u001b[49m\n",
      "File \u001b[0;32m~/anaconda3/envs/pytorch_env/lib/python3.9/multiprocessing/popen_fork.py:19\u001b[0m, in \u001b[0;36mPopen.__init__\u001b[0;34m(self, process_obj)\u001b[0m\n\u001b[1;32m     17\u001b[0m \u001b[38;5;28mself\u001b[39m\u001b[38;5;241m.\u001b[39mreturncode \u001b[38;5;241m=\u001b[39m \u001b[38;5;28;01mNone\u001b[39;00m\n\u001b[1;32m     18\u001b[0m \u001b[38;5;28mself\u001b[39m\u001b[38;5;241m.\u001b[39mfinalizer \u001b[38;5;241m=\u001b[39m \u001b[38;5;28;01mNone\u001b[39;00m\n\u001b[0;32m---> 19\u001b[0m \u001b[38;5;28;43mself\u001b[39;49m\u001b[38;5;241;43m.\u001b[39;49m\u001b[43m_launch\u001b[49m\u001b[43m(\u001b[49m\u001b[43mprocess_obj\u001b[49m\u001b[43m)\u001b[49m\n",
      "File \u001b[0;32m~/anaconda3/envs/pytorch_env/lib/python3.9/multiprocessing/popen_fork.py:66\u001b[0m, in \u001b[0;36mPopen._launch\u001b[0;34m(self, process_obj)\u001b[0m\n\u001b[1;32m     64\u001b[0m parent_r, child_w \u001b[38;5;241m=\u001b[39m os\u001b[38;5;241m.\u001b[39mpipe()\n\u001b[1;32m     65\u001b[0m child_r, parent_w \u001b[38;5;241m=\u001b[39m os\u001b[38;5;241m.\u001b[39mpipe()\n\u001b[0;32m---> 66\u001b[0m \u001b[38;5;28mself\u001b[39m\u001b[38;5;241m.\u001b[39mpid \u001b[38;5;241m=\u001b[39m \u001b[43mos\u001b[49m\u001b[38;5;241;43m.\u001b[39;49m\u001b[43mfork\u001b[49m\u001b[43m(\u001b[49m\u001b[43m)\u001b[49m\n\u001b[1;32m     67\u001b[0m \u001b[38;5;28;01mif\u001b[39;00m \u001b[38;5;28mself\u001b[39m\u001b[38;5;241m.\u001b[39mpid \u001b[38;5;241m==\u001b[39m \u001b[38;5;241m0\u001b[39m:\n\u001b[1;32m     68\u001b[0m     \u001b[38;5;28;01mtry\u001b[39;00m:\n",
      "File \u001b[0;32m~/anaconda3/envs/pytorch_env/lib/python3.9/site-packages/debugpy/_vendored/pydevd/_pydev_bundle/pydev_monkey.py:956\u001b[0m, in \u001b[0;36mcreate_fork.<locals>.new_fork\u001b[0;34m()\u001b[0m\n\u001b[1;32m    954\u001b[0m     PydevdCustomization\u001b[38;5;241m.\u001b[39mDEFAULT_PROTOCOL \u001b[38;5;241m=\u001b[39m protocol\n\u001b[1;32m    955\u001b[0m     PydevdCustomization\u001b[38;5;241m.\u001b[39mDEBUG_MODE \u001b[38;5;241m=\u001b[39m debug_mode\n\u001b[0;32m--> 956\u001b[0m     \u001b[43m_on_forked_process\u001b[49m\u001b[43m(\u001b[49m\u001b[43msetup_tracing\u001b[49m\u001b[38;5;241;43m=\u001b[39;49m\u001b[43mapply_arg_patch\u001b[49m\u001b[43m \u001b[49m\u001b[38;5;129;43;01mand\u001b[39;49;00m\u001b[43m \u001b[49m\u001b[38;5;129;43;01mnot\u001b[39;49;00m\u001b[43m \u001b[49m\u001b[43mis_subprocess_fork\u001b[49m\u001b[43m)\u001b[49m\n\u001b[1;32m    957\u001b[0m \u001b[38;5;28;01melse\u001b[39;00m:\n\u001b[1;32m    958\u001b[0m     set_global_debugger(\u001b[38;5;28;01mNone\u001b[39;00m)\n",
      "File \u001b[0;32m~/anaconda3/envs/pytorch_env/lib/python3.9/site-packages/debugpy/_vendored/pydevd/_pydev_bundle/pydev_monkey.py:232\u001b[0m, in \u001b[0;36m_on_forked_process\u001b[0;34m(setup_tracing)\u001b[0m\n\u001b[1;32m    230\u001b[0m \u001b[38;5;28;01mimport\u001b[39;00m \u001b[38;5;21;01mpydevd\u001b[39;00m\n\u001b[1;32m    231\u001b[0m pydevd\u001b[38;5;241m.\u001b[39mthreadingCurrentThread()\u001b[38;5;241m.\u001b[39m__pydevd_main_thread \u001b[38;5;241m=\u001b[39m \u001b[38;5;28;01mTrue\u001b[39;00m\n\u001b[0;32m--> 232\u001b[0m \u001b[43mpydevd\u001b[49m\u001b[38;5;241;43m.\u001b[39;49m\u001b[43msettrace_forked\u001b[49m\u001b[43m(\u001b[49m\u001b[43msetup_tracing\u001b[49m\u001b[38;5;241;43m=\u001b[39;49m\u001b[43msetup_tracing\u001b[49m\u001b[43m)\u001b[49m\n",
      "File \u001b[0;32m~/anaconda3/envs/pytorch_env/lib/python3.9/site-packages/debugpy/_vendored/pydevd/pydevd.py:3134\u001b[0m, in \u001b[0;36msettrace_forked\u001b[0;34m(setup_tracing)\u001b[0m\n\u001b[1;32m   3131\u001b[0m \u001b[38;5;28;01mif\u001b[39;00m clear_thread_local_info \u001b[38;5;129;01mis\u001b[39;00m \u001b[38;5;129;01mnot\u001b[39;00m \u001b[38;5;28;01mNone\u001b[39;00m:\n\u001b[1;32m   3132\u001b[0m     clear_thread_local_info()\n\u001b[0;32m-> 3134\u001b[0m \u001b[43msettrace\u001b[49m\u001b[43m(\u001b[49m\n\u001b[1;32m   3135\u001b[0m \u001b[43m        \u001b[49m\u001b[43mhost\u001b[49m\u001b[43m,\u001b[49m\n\u001b[1;32m   3136\u001b[0m \u001b[43m        \u001b[49m\u001b[43mport\u001b[49m\u001b[38;5;241;43m=\u001b[39;49m\u001b[43mport\u001b[49m\u001b[43m,\u001b[49m\n\u001b[1;32m   3137\u001b[0m \u001b[43m        \u001b[49m\u001b[43msuspend\u001b[49m\u001b[38;5;241;43m=\u001b[39;49m\u001b[38;5;28;43;01mFalse\u001b[39;49;00m\u001b[43m,\u001b[49m\n\u001b[1;32m   3138\u001b[0m \u001b[43m        \u001b[49m\u001b[43mtrace_only_current_thread\u001b[49m\u001b[38;5;241;43m=\u001b[39;49m\u001b[38;5;28;43;01mFalse\u001b[39;49;00m\u001b[43m,\u001b[49m\n\u001b[1;32m   3139\u001b[0m \u001b[43m        \u001b[49m\u001b[43moverwrite_prev_trace\u001b[49m\u001b[38;5;241;43m=\u001b[39;49m\u001b[38;5;28;43;01mTrue\u001b[39;49;00m\u001b[43m,\u001b[49m\n\u001b[1;32m   3140\u001b[0m \u001b[43m        \u001b[49m\u001b[43mpatch_multiprocessing\u001b[49m\u001b[38;5;241;43m=\u001b[39;49m\u001b[38;5;28;43;01mTrue\u001b[39;49;00m\u001b[43m,\u001b[49m\n\u001b[1;32m   3141\u001b[0m \u001b[43m        \u001b[49m\u001b[43maccess_token\u001b[49m\u001b[38;5;241;43m=\u001b[39;49m\u001b[43maccess_token\u001b[49m\u001b[43m,\u001b[49m\n\u001b[1;32m   3142\u001b[0m \u001b[43m        \u001b[49m\u001b[43mclient_access_token\u001b[49m\u001b[38;5;241;43m=\u001b[39;49m\u001b[43mclient_access_token\u001b[49m\u001b[43m,\u001b[49m\n\u001b[1;32m   3143\u001b[0m \u001b[43m\u001b[49m\u001b[43m)\u001b[49m\n",
      "File \u001b[0;32m~/anaconda3/envs/pytorch_env/lib/python3.9/site-packages/debugpy/_vendored/pydevd/pydevd.py:2821\u001b[0m, in \u001b[0;36msettrace\u001b[0;34m(host, stdout_to_server, stderr_to_server, port, suspend, trace_only_current_thread, overwrite_prev_trace, patch_multiprocessing, stop_at_frame, block_until_connected, wait_for_ready_to_run, dont_trace_start_patterns, dont_trace_end_patterns, access_token, client_access_token, notify_stdin, **kwargs)\u001b[0m\n\u001b[1;32m   2818\u001b[0m __setup_holder__ \u001b[38;5;241m=\u001b[39m kwargs\u001b[38;5;241m.\u001b[39mget(\u001b[38;5;124m'\u001b[39m\u001b[38;5;124m__setup_holder__\u001b[39m\u001b[38;5;124m'\u001b[39m)\n\u001b[1;32m   2820\u001b[0m \u001b[38;5;28;01mwith\u001b[39;00m _set_trace_lock:\n\u001b[0;32m-> 2821\u001b[0m     \u001b[43m_locked_settrace\u001b[49m\u001b[43m(\u001b[49m\n\u001b[1;32m   2822\u001b[0m \u001b[43m        \u001b[49m\u001b[43mhost\u001b[49m\u001b[43m,\u001b[49m\n\u001b[1;32m   2823\u001b[0m \u001b[43m        \u001b[49m\u001b[43mstdout_to_server\u001b[49m\u001b[43m,\u001b[49m\n\u001b[1;32m   2824\u001b[0m \u001b[43m        \u001b[49m\u001b[43mstderr_to_server\u001b[49m\u001b[43m,\u001b[49m\n\u001b[1;32m   2825\u001b[0m \u001b[43m        \u001b[49m\u001b[43mport\u001b[49m\u001b[43m,\u001b[49m\n\u001b[1;32m   2826\u001b[0m \u001b[43m        \u001b[49m\u001b[43msuspend\u001b[49m\u001b[43m,\u001b[49m\n\u001b[1;32m   2827\u001b[0m \u001b[43m        \u001b[49m\u001b[43mtrace_only_current_thread\u001b[49m\u001b[43m,\u001b[49m\n\u001b[1;32m   2828\u001b[0m \u001b[43m        \u001b[49m\u001b[43mpatch_multiprocessing\u001b[49m\u001b[43m,\u001b[49m\n\u001b[1;32m   2829\u001b[0m \u001b[43m        \u001b[49m\u001b[43mstop_at_frame\u001b[49m\u001b[43m,\u001b[49m\n\u001b[1;32m   2830\u001b[0m \u001b[43m        \u001b[49m\u001b[43mblock_until_connected\u001b[49m\u001b[43m,\u001b[49m\n\u001b[1;32m   2831\u001b[0m \u001b[43m        \u001b[49m\u001b[43mwait_for_ready_to_run\u001b[49m\u001b[43m,\u001b[49m\n\u001b[1;32m   2832\u001b[0m \u001b[43m        \u001b[49m\u001b[43mdont_trace_start_patterns\u001b[49m\u001b[43m,\u001b[49m\n\u001b[1;32m   2833\u001b[0m \u001b[43m        \u001b[49m\u001b[43mdont_trace_end_patterns\u001b[49m\u001b[43m,\u001b[49m\n\u001b[1;32m   2834\u001b[0m \u001b[43m        \u001b[49m\u001b[43maccess_token\u001b[49m\u001b[43m,\u001b[49m\n\u001b[1;32m   2835\u001b[0m \u001b[43m        \u001b[49m\u001b[43mclient_access_token\u001b[49m\u001b[43m,\u001b[49m\n\u001b[1;32m   2836\u001b[0m \u001b[43m        \u001b[49m\u001b[43m__setup_holder__\u001b[49m\u001b[38;5;241;43m=\u001b[39;49m\u001b[43m__setup_holder__\u001b[49m\u001b[43m,\u001b[49m\n\u001b[1;32m   2837\u001b[0m \u001b[43m        \u001b[49m\u001b[43mnotify_stdin\u001b[49m\u001b[38;5;241;43m=\u001b[39;49m\u001b[43mnotify_stdin\u001b[49m\u001b[43m,\u001b[49m\n\u001b[1;32m   2838\u001b[0m \u001b[43m    \u001b[49m\u001b[43m)\u001b[49m\n",
      "File \u001b[0;32m~/anaconda3/envs/pytorch_env/lib/python3.9/site-packages/debugpy/_vendored/pydevd/pydevd.py:2929\u001b[0m, in \u001b[0;36m_locked_settrace\u001b[0;34m(host, stdout_to_server, stderr_to_server, port, suspend, trace_only_current_thread, patch_multiprocessing, stop_at_frame, block_until_connected, wait_for_ready_to_run, dont_trace_start_patterns, dont_trace_end_patterns, access_token, client_access_token, __setup_holder__, notify_stdin)\u001b[0m\n\u001b[1;32m   2926\u001b[0m \u001b[38;5;28;01mif\u001b[39;00m \u001b[38;5;129;01mnot\u001b[39;00m wait_for_ready_to_run:\n\u001b[1;32m   2927\u001b[0m     py_db\u001b[38;5;241m.\u001b[39mready_to_run \u001b[38;5;241m=\u001b[39m \u001b[38;5;28;01mTrue\u001b[39;00m\n\u001b[0;32m-> 2929\u001b[0m \u001b[43mpy_db\u001b[49m\u001b[38;5;241;43m.\u001b[39;49m\u001b[43mwait_for_ready_to_run\u001b[49m\u001b[43m(\u001b[49m\u001b[43m)\u001b[49m\n\u001b[1;32m   2930\u001b[0m py_db\u001b[38;5;241m.\u001b[39mstart_auxiliary_daemon_threads()\n\u001b[1;32m   2932\u001b[0m \u001b[38;5;28;01mtry\u001b[39;00m:\n",
      "File \u001b[0;32m~/anaconda3/envs/pytorch_env/lib/python3.9/site-packages/debugpy/_vendored/pydevd/pydevd.py:838\u001b[0m, in \u001b[0;36mPyDB.wait_for_ready_to_run\u001b[0;34m(self)\u001b[0m\n\u001b[1;32m    836\u001b[0m \u001b[38;5;28mself\u001b[39m\u001b[38;5;241m.\u001b[39mprocess_internal_commands()\n\u001b[1;32m    837\u001b[0m \u001b[38;5;28mself\u001b[39m\u001b[38;5;241m.\u001b[39m_py_db_command_thread_event\u001b[38;5;241m.\u001b[39mclear()\n\u001b[0;32m--> 838\u001b[0m \u001b[38;5;28;43mself\u001b[39;49m\u001b[38;5;241;43m.\u001b[39;49m\u001b[43m_py_db_command_thread_event\u001b[49m\u001b[38;5;241;43m.\u001b[39;49m\u001b[43mwait\u001b[49m\u001b[43m(\u001b[49m\u001b[38;5;241;43m0.1\u001b[39;49m\u001b[43m)\u001b[49m\n",
      "File \u001b[0;32m~/anaconda3/envs/pytorch_env/lib/python3.9/threading.py:581\u001b[0m, in \u001b[0;36mEvent.wait\u001b[0;34m(self, timeout)\u001b[0m\n\u001b[1;32m    579\u001b[0m signaled \u001b[38;5;241m=\u001b[39m \u001b[38;5;28mself\u001b[39m\u001b[38;5;241m.\u001b[39m_flag\n\u001b[1;32m    580\u001b[0m \u001b[38;5;28;01mif\u001b[39;00m \u001b[38;5;129;01mnot\u001b[39;00m signaled:\n\u001b[0;32m--> 581\u001b[0m     signaled \u001b[38;5;241m=\u001b[39m \u001b[38;5;28;43mself\u001b[39;49m\u001b[38;5;241;43m.\u001b[39;49m\u001b[43m_cond\u001b[49m\u001b[38;5;241;43m.\u001b[39;49m\u001b[43mwait\u001b[49m\u001b[43m(\u001b[49m\u001b[43mtimeout\u001b[49m\u001b[43m)\u001b[49m\n\u001b[1;32m    582\u001b[0m \u001b[38;5;28;01mreturn\u001b[39;00m signaled\n",
      "File \u001b[0;32m~/anaconda3/envs/pytorch_env/lib/python3.9/threading.py:316\u001b[0m, in \u001b[0;36mCondition.wait\u001b[0;34m(self, timeout)\u001b[0m\n\u001b[1;32m    314\u001b[0m \u001b[38;5;28;01melse\u001b[39;00m:\n\u001b[1;32m    315\u001b[0m     \u001b[38;5;28;01mif\u001b[39;00m timeout \u001b[38;5;241m>\u001b[39m \u001b[38;5;241m0\u001b[39m:\n\u001b[0;32m--> 316\u001b[0m         gotit \u001b[38;5;241m=\u001b[39m \u001b[43mwaiter\u001b[49m\u001b[38;5;241;43m.\u001b[39;49m\u001b[43macquire\u001b[49m\u001b[43m(\u001b[49m\u001b[38;5;28;43;01mTrue\u001b[39;49;00m\u001b[43m,\u001b[49m\u001b[43m \u001b[49m\u001b[43mtimeout\u001b[49m\u001b[43m)\u001b[49m\n\u001b[1;32m    317\u001b[0m     \u001b[38;5;28;01melse\u001b[39;00m:\n\u001b[1;32m    318\u001b[0m         gotit \u001b[38;5;241m=\u001b[39m waiter\u001b[38;5;241m.\u001b[39macquire(\u001b[38;5;28;01mFalse\u001b[39;00m)\n",
      "\u001b[0;31mKeyboardInterrupt\u001b[0m: "
     ]
    }
   ],
   "source": [
    "# Initialize the dataset\n",
    "dataset = CMAPSSDataset(\n",
    "    data_dir=data_dir,\n",
    "    data_index=data_index,\n",
    "    feature_cols=feature_cols,\n",
    "    mode=\"train\",\n",
    "    compute_engineered_features=compute_engineered_features,\n",
    "    features_to_engineer=[\"sensor_12\", \"sensor_7\", \"sensor_21\", \"sensor_20\", \"sensor_11\", \"sensor_4\", \"sensor_15\"]\n",
    ")\n",
    "\n",
    "# Perform Group k-Fold Cross-Validation\n",
    "sequence_length = sequence_length\n",
    "overlap = 0 # see explanation below\n",
    "n_splits = 5\n",
    "batch_size = batch_size\n",
    "\n",
    "# 2. Perform Group k-Fold Cross-Validation\n",
    "fold_loaders = prepare_kfold_cross_validation_loaders(\n",
    "    original_dataset=dataset,\n",
    "    sequence_length=sequence_length,\n",
    "    overlap=overlap,\n",
    "    n_splits=n_splits,\n",
    "    batch_size=batch_size\n",
    ")\n",
    "\n",
    "# Access the DataLoaders for each fold\n",
    "for fold, (train_loader, val_loader) in enumerate(fold_loaders):\n",
    "    print(f\"Fold {fold + 1}\")\n",
    "    \n",
    "    # Training DataLoader\n",
    "    print(f\"  Number of training sequences: {len(train_loader.dataset)}\")\n",
    "    first_train_item = next(iter(train_loader))\n",
    "    train_features, train_targets, train_masks, train_engine_ids, cycles = first_train_item\n",
    "    print(f\"  Training Features Shape: {train_features.shape}\")\n",
    "    print(f\"  Training Targets Shape: {train_targets.shape}\")\n",
    "    print(f\"  Training Masks Shape: {train_masks.shape}\")\n",
    "    print(f\"  First Training Item (Features):\\n{train_features[0]}\")\n",
    "    print(f\"  First Training Item (Target): {train_targets[0]}\")\n",
    "    print(f\"  Engine ID (First in batch): {train_engine_ids[0]}\")\n",
    "    print(f\"  Cycles (For first sequence in batch): {cycles[0]}\")\n",
    "    \n",
    "    # Validation DataLoader\n",
    "    print(f\"  Number of validation sequences: {len(val_loader.dataset)}\")\n",
    "    first_val_item = next(iter(val_loader))\n",
    "    val_features, val_targets, val_masks, train_engine_ids, cycles = first_val_item\n",
    "    print(f\"  Validation Features Shape: {val_features.shape}\")\n",
    "    print(f\"  Validation Targets Shape: {val_targets.shape}\")\n",
    "    print(f\"  Validation Masks Shape: {val_masks.shape}\")\n",
    "    print(f\"  First Validation Item (Features):\\n{val_features[0]}\")\n",
    "    print(f\"  First Validation Item (Target): {val_targets[0]}\")\n",
    "    print(f\"  Engine ID (First in batch): {train_engine_ids[0]}\")\n",
    "    print(f\"  Cycles (For first sequence in batch): {cycles[0]}\")\n",
    "\n",
    "    break  # Only display the first fold for demonstration\n"
   ]
  },
  {
   "cell_type": "markdown",
   "metadata": {},
   "source": [
    "## Validate the grouped k-fold loaders"
   ]
  },
  {
   "cell_type": "code",
   "execution_count": 21,
   "metadata": {},
   "outputs": [
    {
     "name": "stdout",
     "output_type": "stream",
     "text": [
      "Validating Fold 1\n",
      "Validating Fold 2\n",
      "Validating Fold 3\n",
      "Validating Fold 4\n",
      "Validating Fold 5\n",
      "All validations passed!\n"
     ]
    },
    {
     "data": {
      "text/plain": [
       "True"
      ]
     },
     "execution_count": 21,
     "metadata": {},
     "output_type": "execute_result"
    }
   ],
   "source": [
    "import torch\n",
    "\n",
    "def validate_kfold_loaders(original_dataset, fold_loaders, sequence_length):\n",
    "    \"\"\"\n",
    "    Validates the integrity of k-fold DataLoaders against the original dataset.\n",
    "\n",
    "    Args:\n",
    "        original_dataset (CMAPSSDataset): The original dataset instance.\n",
    "        fold_loaders (list): List of (train_loader, val_loader) tuples for k-fold cross-validation.\n",
    "        sequence_length (int): Number of time steps in each sequence.\n",
    "        overlap (int): Overlap between consecutive sequences.\n",
    "\n",
    "    Returns:\n",
    "        bool: True if all validations pass, otherwise raises an AssertionError.\n",
    "    \"\"\"\n",
    "    original_data = original_dataset.data\n",
    "    used_indices = set()  # Track all rows covered across folds\n",
    "\n",
    "    for fold, (train_loader, val_loader) in enumerate(fold_loaders):\n",
    "        print(f\"Validating Fold {fold + 1}\")\n",
    "        \n",
    "        # Get engine IDs for train and validation sets\n",
    "        train_engines = set(train_loader.dataset.dataset.data['engine_id'])\n",
    "        val_engines = set(val_loader.dataset.dataset.data['engine_id'])\n",
    "        \n",
    "        # Check group exclusivity\n",
    "        assert train_engines.isdisjoint(val_engines), \\\n",
    "            f\"Fold {fold + 1}: Train and validation sets share engine IDs: {train_engines & val_engines}\"\n",
    "\n",
    "        # Validate training data\n",
    "        for features, targets, _, engine_ids, cycles in train_loader:\n",
    "            for idx, (seq, target, engine_id) in enumerate(zip(features, targets, engine_ids)):\n",
    "                cycle_start = int(cycles[idx, 0].item())  # Convert cycle_start to an integer\n",
    "\n",
    "                # Check sequence correctness\n",
    "                for t, cycle in enumerate(range(cycle_start, cycle_start + sequence_length)):\n",
    "                    original_row = original_data[\n",
    "                        (original_data['engine_id'] == float(engine_id)) &\n",
    "                        (original_data['cycle'] == float(cycle))\n",
    "                    ]\n",
    "                    assert not original_row.empty, \\\n",
    "                        f\"Missing data for engine {engine_id}, cycle {cycle} in training set\"\n",
    "\n",
    "                    # Verify feature values\n",
    "                    original_features = original_row.iloc[0, 2:-1].values  # Features are columns 2 to -1\n",
    "                    assert torch.allclose(seq[t, 0:], torch.tensor(original_features, dtype=torch.float32)), \\\n",
    "                        f\"Mismatch in features for engine {engine_id}, cycle {cycle}\"\n",
    "\n",
    "                # Verify RUL target\n",
    "                last_cycle = cycle_start + sequence_length - 1\n",
    "                expected_rul = original_data[\n",
    "                    (original_data['engine_id'] == float(engine_id)) &\n",
    "                    (original_data['cycle'] == float(last_cycle))\n",
    "                ]['RUL'].iloc[0]\n",
    "                assert torch.isclose(target, torch.tensor(expected_rul, dtype=torch.float32)), \\\n",
    "                    f\"Mismatch in RUL for engine {engine_id}, last cycle {last_cycle}\"\n",
    "\n",
    "\n",
    "        # Validate validation data (similar to training data)\n",
    "        for features, targets, _, engine_ids, cycles in val_loader:\n",
    "            for idx, (seq, target, engine_id) in enumerate(zip(features, targets, engine_ids)):                \n",
    "                cycle_start = int(cycles[idx, 0].item())  # Convert cycle_start to an integer\n",
    "\n",
    "                for t, cycle in enumerate(range(cycle_start, cycle_start + sequence_length)):\n",
    "                    original_row = original_data[\n",
    "                        (original_data['engine_id'] == float(engine_id)) &\n",
    "                        (original_data['cycle'] == float(cycle))\n",
    "                    ]\n",
    "                    assert not original_row.empty, \\\n",
    "                        f\"Missing data for engine {engine_id}, cycle {cycle} in validation set\"\n",
    "\n",
    "                    original_features = original_row.iloc[0, 2:-1].values\n",
    "                    assert torch.allclose(seq[t, 0:], torch.tensor(original_features, dtype=torch.float32)), \\\n",
    "                        f\"Mismatch in features for engine {engine_id}, cycle {cycle}\"\n",
    "\n",
    "                last_cycle = cycle_start + sequence_length - 1\n",
    "                expected_rul = original_data[\n",
    "                    (original_data['engine_id'] == float(engine_id)) &\n",
    "                    (original_data['cycle'] == float(last_cycle))\n",
    "                ]['RUL'].iloc[0]\n",
    "                assert torch.isclose(target, torch.tensor(expected_rul, dtype=torch.float32)), \\\n",
    "                    f\"Mismatch in RUL for engine {engine_id}, last cycle {last_cycle}\"\n",
    "\n",
    "        # Track all covered indices\n",
    "        train_indices = train_loader.dataset.dataset.data.index\n",
    "        val_indices = val_loader.dataset.dataset.data.index\n",
    "        used_indices.update(train_indices)\n",
    "        used_indices.update(val_indices)\n",
    "\n",
    "    # Check overall coverage\n",
    "    assert len(used_indices) == len(original_data), \\\n",
    "        \"Not all rows in the original dataset are covered by the k-fold loaders\"\n",
    "\n",
    "    print(\"All validations passed!\")\n",
    "    return True\n",
    "\n",
    "validate_kfold_loaders(dataset, fold_loaders, sequence_length=sequence_length)"
   ]
  },
  {
   "cell_type": "markdown",
   "metadata": {},
   "source": [
    "## Inspect characteristics of each fold (to ensure they are homogenic)"
   ]
  },
  {
   "cell_type": "code",
   "execution_count": 22,
   "metadata": {},
   "outputs": [
    {
     "name": "stdout",
     "output_type": "stream",
     "text": [
      "Inspecting Fold 1\n",
      "  Training RUL Statistics:\n",
      "count    503.000000\n",
      "mean      98.284294\n",
      "std       63.820683\n",
      "min        0.000000\n",
      "25%       45.000000\n",
      "50%       94.000000\n",
      "75%      141.500000\n",
      "max      307.000000\n",
      "Name: RUL, dtype: float64\n",
      "  Validation RUL Statistics:\n",
      "count    126.000000\n",
      "mean      98.801590\n",
      "std       66.913803\n",
      "min        0.000000\n",
      "25%       46.000000\n",
      "50%       91.000000\n",
      "75%      139.500000\n",
      "max      328.000000\n",
      "Name: RUL, dtype: float64\n"
     ]
    },
    {
     "data": {
      "image/png": "[encoded data removed]",
      "text/plain": [
       "<Figure size 1200x500 with 2 Axes>"
      ]
     },
     "metadata": {},
     "output_type": "display_data"
    },
    {
     "name": "stdout",
     "output_type": "stream",
     "text": [
      "Inspecting Fold 2\n",
      "  Training RUL Statistics:\n",
      "count    504.000000\n",
      "mean      98.128967\n",
      "std       64.388565\n",
      "min        0.000000\n",
      "25%       45.000000\n",
      "50%       92.000000\n",
      "75%      140.000000\n",
      "max      328.000000\n",
      "Name: RUL, dtype: float64\n",
      "  Validation RUL Statistics:\n",
      "count    125.000000\n",
      "mean      99.431999\n",
      "std       64.685638\n",
      "min        2.000000\n",
      "25%       47.000000\n",
      "50%       94.000000\n",
      "75%      143.000000\n",
      "max      307.000000\n",
      "Name: RUL, dtype: float64\n"
     ]
    },
    {
     "data": {
      "image/png": "[encoded data removed]",
      "text/plain": [
       "<Figure size 1200x500 with 2 Axes>"
      ]
     },
     "metadata": {},
     "output_type": "display_data"
    },
    {
     "name": "stdout",
     "output_type": "stream",
     "text": [
      "Inspecting Fold 3\n",
      "  Training RUL Statistics:\n",
      "count    503.000000\n",
      "mean      98.421471\n",
      "std       64.373726\n",
      "min        0.000000\n",
      "25%       45.000000\n",
      "50%       93.000000\n",
      "75%      141.500000\n",
      "max      328.000000\n",
      "Name: RUL, dtype: float64\n",
      "  Validation RUL Statistics:\n",
      "count    126.000000\n",
      "mean      98.253967\n",
      "std       64.752823\n",
      "min        0.000000\n",
      "25%       45.250000\n",
      "50%       92.000000\n",
      "75%      138.000000\n",
      "max      302.000000\n",
      "Name: RUL, dtype: float64\n"
     ]
    },
    {
     "data": {
      "image/png": "[encoded data removed]",
      "text/plain": [
       "<Figure size 1200x500 with 2 Axes>"
      ]
     },
     "metadata": {},
     "output_type": "display_data"
    },
    {
     "name": "stdout",
     "output_type": "stream",
     "text": [
      "Inspecting Fold 4\n",
      "  Training RUL Statistics:\n",
      "count    503.000000\n",
      "mean      98.532806\n",
      "std       64.647202\n",
      "min        0.000000\n",
      "25%       46.000000\n",
      "50%       92.000000\n",
      "75%      140.000000\n",
      "max      328.000000\n",
      "Name: RUL, dtype: float64\n",
      "  Validation RUL Statistics:\n",
      "count    126.000000\n",
      "mean      97.809525\n",
      "std       63.646107\n",
      "min        0.000000\n",
      "25%       43.250000\n",
      "50%       92.500000\n",
      "75%      141.500000\n",
      "max      279.000000\n",
      "Name: RUL, dtype: float64\n"
     ]
    },
    {
     "data": {
      "image/png": "[encoded data removed]",
      "text/plain": [
       "<Figure size 1200x500 with 2 Axes>"
      ]
     },
     "metadata": {},
     "output_type": "display_data"
    },
    {
     "name": "stdout",
     "output_type": "stream",
     "text": [
      "Inspecting Fold 5\n",
      "  Training RUL Statistics:\n",
      "count    503.000000\n",
      "mean      98.572563\n",
      "std       64.819405\n",
      "min        0.000000\n",
      "25%       45.000000\n",
      "50%       92.000000\n",
      "75%      143.000000\n",
      "max      328.000000\n",
      "Name: RUL, dtype: float64\n",
      "  Validation RUL Statistics:\n",
      "count    126.000000\n",
      "mean      97.650795\n",
      "std       62.936703\n",
      "min        0.000000\n",
      "25%       45.500000\n",
      "50%       94.000000\n",
      "75%      139.750000\n",
      "max      259.000000\n",
      "Name: RUL, dtype: float64\n"
     ]
    },
    {
     "data": {
      "image/png": "[encoded data removed]",
      "text/plain": [
       "<Figure size 1200x500 with 2 Axes>"
      ]
     },
     "metadata": {},
     "output_type": "display_data"
    }
   ],
   "source": [
    "import matplotlib.pyplot as plt\n",
    "import pandas as pd\n",
    "\n",
    "def inspect_fold_characteristics(fold_loaders):\n",
    "    \"\"\"\n",
    "    Inspects and visualizes RUL distribution and degradation patterns for each fold.\n",
    "\n",
    "    Args:\n",
    "        fold_loaders (list): List of (train_loader, val_loader) tuples for k-fold cross-validation.\n",
    "    \"\"\"\n",
    "    for fold, (train_loader, val_loader) in enumerate(fold_loaders):\n",
    "        print(f\"Inspecting Fold {fold + 1}\")\n",
    "        \n",
    "        # Initialize lists to collect RUL and Cycle data\n",
    "        train_ruls, train_last_cycles = [], []\n",
    "        val_ruls, val_last_cycles = [], []\n",
    "        \n",
    "        # Collect RUL and last cycles for training\n",
    "        for _, targets, _, _, cycles in train_loader:\n",
    "            train_ruls.extend(targets.cpu().numpy())  # RUL values (batch_size,)\n",
    "            last_cycles = cycles[:, -1].cpu().numpy()  # Last cycle in each sequence (batch_size,)\n",
    "            train_last_cycles.extend(last_cycles.tolist())\n",
    "        \n",
    "        # Collect RUL and last cycles for validation\n",
    "        for _, targets, _, _, cycles in val_loader:\n",
    "            val_ruls.extend(targets.cpu().numpy())  # RUL values (batch_size,)\n",
    "            last_cycles = cycles[:, -1].cpu().numpy()  # Last cycle in each sequence (batch_size,)\n",
    "            val_last_cycles.extend(last_cycles.tolist())\n",
    "        \n",
    "        # Convert to Pandas DataFrames for analysis\n",
    "        train_df = pd.DataFrame({\"RUL\": train_ruls, \"Last Cycle\": train_last_cycles})\n",
    "        val_df = pd.DataFrame({\"RUL\": val_ruls, \"Last Cycle\": val_last_cycles})\n",
    "        \n",
    "        # Print summary statistics\n",
    "        print(\"  Training RUL Statistics:\")\n",
    "        print(train_df[\"RUL\"].describe())\n",
    "        print(\"  Validation RUL Statistics:\")\n",
    "        print(val_df[\"RUL\"].describe())\n",
    "        \n",
    "        # Plot RUL distributions\n",
    "        plt.figure(figsize=(12, 5))\n",
    "        \n",
    "        # RUL Distribution\n",
    "        plt.subplot(1, 2, 1)\n",
    "        plt.hist(train_df[\"RUL\"], bins=20, alpha=0.7, label=\"Train\", color=\"blue\")\n",
    "        plt.hist(val_df[\"RUL\"], bins=20, alpha=0.7, label=\"Validation\", color=\"orange\")\n",
    "        plt.xlabel(\"RUL\")\n",
    "        plt.ylabel(\"Frequency\")\n",
    "        plt.title(f\"Fold {fold + 1}: RUL Distribution\")\n",
    "        plt.legend()\n",
    "\n",
    "        # Degradation Patterns\n",
    "        plt.subplot(1, 2, 2)\n",
    "        plt.scatter(train_df[\"Last Cycle\"], train_df[\"RUL\"], alpha=0.5, label=\"Train\", color=\"blue\")\n",
    "        plt.scatter(val_df[\"Last Cycle\"], val_df[\"RUL\"], alpha=0.5, label=\"Validation\", color=\"orange\")\n",
    "        plt.xlabel(\"Last Cycle\")\n",
    "        plt.ylabel(\"RUL\")\n",
    "        plt.title(f\"Fold {fold + 1}: Degradation Patterns\")\n",
    "        plt.legend()\n",
    "        \n",
    "        plt.tight_layout()\n",
    "        plt.show()\n",
    "\n",
    "# Call the function to inspect fold characteristics\n",
    "inspect_fold_characteristics(fold_loaders)"
   ]
  },
  {
   "cell_type": "markdown",
   "metadata": {},
   "source": [
    "# K-Fold evaluation and development of model as preparation for a final training"
   ]
  },
  {
   "cell_type": "code",
   "execution_count": 8,
   "metadata": {},
   "outputs": [
    {
     "name": "stdout",
     "output_type": "stream",
     "text": [
      "The autoreload extension is already loaded. To reload it, use:\n",
      "  %reload_ext autoreload\n"
     ]
    }
   ],
   "source": [
    "# Watch for changes\n",
    "%load_ext autoreload\n",
    "%autoreload 2\n",
    "\n",
    "import torch\n",
    "import torch.nn as nn\n",
    "from codebase.v5.models import FeatureProcessingGRU, GRUBasedModel, GRUWithAttention, MultiHeadGRU, CombinedNet\n",
    "from tqdm.notebook import tqdm  # Use tqdm for Jupyter-friendly progress bar\n",
    "\n",
    "device = torch.device(\"cuda\" if torch.cuda.is_available() else \"cpu\")\n",
    "\n",
    "# Model configuration\n",
    "input_dim = len(dataset.feature_cols)  # Number of input features (contains engineered features)\n",
    "\n",
    "def train_and_validate_kfold(fold_loaders, model_config, epochs=500, lr=0.001, weight_decay=1e-6, patience=10):\n",
    "    \"\"\"\n",
    "    Train and validate the model using grouped k-fold cross-validation with early stopping.\n",
    "    Summarizes metrics (e.g., RMSE, Avg MSE) across all folds.\n",
    "\n",
    "    Args:\n",
    "        fold_loaders (list): List of (train_loader, val_loader) tuples for k-fold cross-validation.\n",
    "        model_config (dict): Configuration for the model (e.g., input_dim, hidden_dim, num_layers).\n",
    "        epochs (int): Maximum number of epochs to train for each fold.\n",
    "        lr (float): Learning rate for the optimizer.\n",
    "        patience (int): Number of epochs with no improvement before stopping.\n",
    "\n",
    "    Returns:\n",
    "        dict: Summary of metrics across all folds.\n",
    "    \"\"\"\n",
    "    # Track metrics for all folds\n",
    "    fold_metrics = {\n",
    "        \"train_rmse\": [],\n",
    "        \"val_rmse\": [],\n",
    "        \"train_avg_mse\": [],\n",
    "        \"val_avg_mse\": [],\n",
    "    }\n",
    "\n",
    "    # Loop over each fold\n",
    "    for fold, (train_loader, val_loader) in enumerate(fold_loaders):\n",
    "        print(f\"Validation Fold {fold + 1}\")\n",
    "        \n",
    "        # Initialize model, loss function, and optimizer\n",
    "        model = CombinedNet(**model_config)\n",
    "        model = model.to(device)\n",
    "        criterion = nn.MSELoss()\n",
    "        optimizer = torch.optim.Adam(model.parameters(), lr=lr, weight_decay=weight_decay)\n",
    "        \n",
    "        # Early stopping variables\n",
    "        best_val_loss = float('inf')\n",
    "        epochs_no_improve = 0\n",
    "        early_stop = False\n",
    "\n",
    "        # Initialize progress bar for this fold\n",
    "        total_batches = len(train_loader) * epochs\n",
    "        with tqdm(total=total_batches, desc=f\"Fold {fold + 1} Training\", unit=\"batch\") as pbar:\n",
    "            for epoch in range(epochs):\n",
    "                if early_stop:\n",
    "                    print(f\"Early stopping at epoch {epoch + 1}\")\n",
    "                    break\n",
    "                \n",
    "                model.train()\n",
    "                train_loss = 0.0  # Track training loss\n",
    "                num_train_sequences = len(train_loader.dataset)\n",
    "\n",
    "                # Training loop\n",
    "                for inputs, targets, _, _ in train_loader:\n",
    "                    optimizer.zero_grad()\n",
    "                    inputs, targets = inputs.to(device), targets.to(device)\n",
    "                    \n",
    "                    # Forward pass\n",
    "                    outputs = model(inputs)\n",
    "                    loss = criterion(outputs, targets)\n",
    "                    \n",
    "                    # Backward pass and optimization\n",
    "                    loss.backward()\n",
    "                    optimizer.step()\n",
    "                    \n",
    "                    # Accumulate loss\n",
    "                    train_loss += loss.item() * inputs.size(0)\n",
    "                    \n",
    "                    # Update progress bar\n",
    "                    pbar.update(1)\n",
    "                \n",
    "                # Compute training metrics\n",
    "                avg_train_mse = train_loss / num_train_sequences\n",
    "                train_rmse = avg_train_mse ** 0.5\n",
    "\n",
    "                # Validation loop\n",
    "                model.eval()\n",
    "                val_loss = 0.0\n",
    "                num_val_sequences = len(val_loader.dataset)\n",
    "                with torch.no_grad():\n",
    "                    for inputs, targets, _, _ in val_loader:\n",
    "                        inputs, targets = inputs.to(device), targets.to(device)\n",
    "                        \n",
    "                        # Forward pass\n",
    "                        outputs = model(inputs)\n",
    "                        loss = criterion(outputs, targets)\n",
    "                        \n",
    "                        # Accumulate validation loss\n",
    "                        val_loss += loss.item() * inputs.size(0)\n",
    "                \n",
    "                # Compute validation metrics\n",
    "                avg_val_mse = val_loss / num_val_sequences\n",
    "                val_rmse = avg_val_mse ** 0.5\n",
    "\n",
    "                # Check for early stopping\n",
    "                if avg_val_mse < best_val_loss:\n",
    "                    best_val_loss = avg_val_mse\n",
    "                    epochs_no_improve = 0\n",
    "                else:\n",
    "                    epochs_no_improve += 1\n",
    "                    print(f\"No improvement for {epochs_no_improve} epoch(s).\")\n",
    "\n",
    "                if epochs_no_improve >= patience:\n",
    "                    print(\"Early stopping triggered.\")\n",
    "                    early_stop = True\n",
    "\n",
    "                # Print epoch metrics\n",
    "                pbar.set_postfix({\n",
    "                    \"Epoch\": f\"{epoch + 1}/{epochs}\",\n",
    "                    \"Train Loss\": f\"Avg MSE: {avg_train_mse:.4f}, RMSE: {train_rmse:.4f}\",\n",
    "                    \"Val Loss:\": f\"Avg MSE: {avg_val_mse:.4f}, RMSE: {val_rmse:.4f}\"\n",
    "                })\n",
    "                pbar.update(0)\n",
    "\n",
    "        # Store fold metrics\n",
    "        fold_metrics[\"train_rmse\"].append(train_rmse)\n",
    "        fold_metrics[\"val_rmse\"].append(val_rmse)\n",
    "        fold_metrics[\"train_avg_mse\"].append(avg_train_mse)\n",
    "        fold_metrics[\"val_avg_mse\"].append(avg_val_mse)\n",
    "\n",
    "    # Summarize metrics across all folds\n",
    "    summary = {\n",
    "        \"mean_train_rmse\": sum(fold_metrics[\"train_rmse\"]) / len(fold_metrics[\"train_rmse\"]),\n",
    "        \"mean_val_rmse\": sum(fold_metrics[\"val_rmse\"]) / len(fold_metrics[\"val_rmse\"]),\n",
    "        \"mean_train_avg_mse\": sum(fold_metrics[\"train_avg_mse\"]) / len(fold_metrics[\"train_avg_mse\"]),\n",
    "        \"mean_val_avg_mse\": sum(fold_metrics[\"val_avg_mse\"]) / len(fold_metrics[\"val_avg_mse\"]),\n",
    "    }\n",
    "\n",
    "    print(\"\\n--- k-Fold Cross-Validation Summary ---\")\n",
    "    for key, value in summary.items():\n",
    "        print(f\"{key}: {value:.4f}\")\n",
    "\n",
    "    return summary"
   ]
  },
  {
   "cell_type": "code",
   "execution_count": null,
   "metadata": {},
   "outputs": [],
   "source": [
    "# Define model configuration\n",
    "model_config = {\n",
    "    \"input_dim\": input_dim,\n",
    "    \"conv_configs\": [(64, 3, 1), (128, 3, 1)],  # (out_channels, kernel_size, padding),\n",
    "    \"gru_hidden_dim\": 512,\n",
    "    \"fc_hidden_dim\": 256,\n",
    "    \"num_heads\": 2,\n",
    "    \"num_layers\": 4,\n",
    "    \"dropout\": 0.3\n",
    "}\n",
    "\n",
    "learning_rate = 0.0026313112748361776\n",
    "\n",
    "# Train using k-fold loaders\n",
    "summary = train_and_validate_kfold(fold_loaders, model_config, epochs=500, lr=learning_rate, patience=10)"
   ]
  },
  {
   "cell_type": "markdown",
   "metadata": {},
   "source": [
    "# K-Fold evaluation: Using Optuna for hyperparameter search\n",
    "Let's use Optuna for an efficient hyperparameter search."
   ]
  },
  {
   "cell_type": "code",
   "execution_count": null,
   "metadata": {},
   "outputs": [],
   "source": [
    "import optuna\n",
    "\n",
    "def objective(trial):\n",
    "    \"\"\"\n",
    "    Objective function for Optuna hyperparameter optimization.\n",
    "    Calls the existing train_and_validate_kfold function.\n",
    "    \"\"\"\n",
    "    # Suggest hyperparameters\n",
    "    hidden_dim = trial.suggest_int(\"hidden_dim\", 128, 512, step=64)\n",
    "    num_layers = trial.suggest_int(\"num_layers\", 1, 4)\n",
    "    num_heads = trial.suggest_int(\"num_heads\", 1, 4)\n",
    "    dropout = trial.suggest_float(\"dropout\", 0.1, 0.5)\n",
    "    lr = trial.suggest_float(\"lr\", 1e-4, 1e-2, log=True)\n",
    "    #weight_decay = trial.suggest_float(\"weight_decay\", 1e-6, 1e-4, log=True)\n",
    "\n",
    "    # Create the model configuration for the trial\n",
    "    # input_dim, hidden_dim=256, num_heads=3, num_layers=1, dropout=0.3\n",
    "    model_config = {\n",
    "        \"input_dim\": input_dim,\n",
    "        \"hidden_dim\": hidden_dim,\n",
    "        \"num_heads\": num_heads,\n",
    "        \"num_layers\": num_layers,\n",
    "        \"dropout\": dropout\n",
    "    }\n",
    "\n",
    "    # Call your existing train_and_validate_kfold function\n",
    "    summary = train_and_validate_kfold(\n",
    "        fold_loaders=fold_loaders,\n",
    "        model_config=model_config,\n",
    "        epochs=100,  # Fewer epochs for faster tuning\n",
    "        lr=lr,\n",
    "        weight_decay=0.0,\n",
    "        patience=10  # Early stopping patience\n",
    "    )\n",
    "\n",
    "    # Return the mean validation RMSE as the objective value\n",
    "    return summary[\"mean_val_rmse\"]\n",
    "\n",
    "# Optuna study configuration\n",
    "study = optuna.create_study(direction=\"minimize\")  # Minimize RMSE\n",
    "study.optimize(objective, n_trials=20)  # Number of trials for hyperparameter tuning\n",
    "\n",
    "# Print the best hyperparameters and validation RMSE\n",
    "print(\"Best hyperparameters:\", study.best_params)\n",
    "print(\"Best validation RMSE:\", study.best_value)"
   ]
  },
  {
   "cell_type": "markdown",
   "metadata": {},
   "source": [
    "# Training without K-Fold"
   ]
  },
  {
   "cell_type": "code",
   "execution_count": 29,
   "metadata": {},
   "outputs": [
    {
     "name": "stdout",
     "output_type": "stream",
     "text": [
      "The autoreload extension is already loaded. To reload it, use:\n",
      "  %reload_ext autoreload\n"
     ]
    }
   ],
   "source": [
    "# Watch for changes\n",
    "%load_ext autoreload\n",
    "%autoreload 2\n",
    "\n",
    "import torch\n",
    "import torch.nn as nn\n",
    "from codebase.v5.models import TransformerRULModel\n",
    "from tqdm.notebook import tqdm  # Use tqdm for Jupyter-friendly progress bar\n",
    "\n",
    "device = torch.device(\"cuda\" if torch.cuda.is_available() else \"cpu\")\n",
    "\n",
    "# Model configuration\n",
    "input_dim = len(dataset.feature_cols)  # Number of input features (contains engineered features)\n",
    "\n",
    "def train_and_validate_single_run(fold_loaders, model_config, epochs=500, lr=0.001, weight_decay=1e-6, patience=10):\n",
    "    \"\"\"\n",
    "    Train and validate the model using a *single* train/validation set (no k-fold).\n",
    "    Summarizes metrics (e.g., RMSE, Avg MSE) for this single train/val split.\n",
    "\n",
    "    Args:\n",
    "        fold_loaders (list): List containing a single (train_loader, val_loader) tuple.\n",
    "        model_config (dict): Configuration for the model (e.g., input_dim, hidden_dim, num_layers).\n",
    "        epochs (int): Maximum number of epochs to train.\n",
    "        lr (float): Learning rate for the optimizer.\n",
    "        weight_decay (float): Weight decay for regularization.\n",
    "        patience (int): Number of epochs with no improvement before stopping.\n",
    "\n",
    "    Returns:\n",
    "        dict: Summary of metrics for the single train/val run.\n",
    "    \"\"\"\n",
    "    # We'll use only the first tuple from fold_loaders\n",
    "    train_loader, val_loader = fold_loaders[0]\n",
    "\n",
    "    print(\"Using standard train/validation approach instead of k-fold.\")\n",
    "\n",
    "    # Track metrics for this single run\n",
    "    fold_metrics = {\n",
    "        \"train_rmse\": [],\n",
    "        \"val_rmse\": [],\n",
    "        \"train_avg_mse\": [],\n",
    "        \"val_avg_mse\": [],\n",
    "    }\n",
    "\n",
    "    # Initialize model, loss function, and optimizer\n",
    "    model = TransformerRULModel(**model_config)        \n",
    "    model = model.to(device)\n",
    "\n",
    "    criterion = nn.MSELoss()\n",
    "    optimizer = torch.optim.Adam(model.parameters(), lr=lr, weight_decay=weight_decay)\n",
    "\n",
    "    # Early stopping variables\n",
    "    best_val_loss = float('inf')\n",
    "    epochs_no_improve = 0\n",
    "    early_stop = False\n",
    "\n",
    "    # Initialize progress bar for this single run\n",
    "    total_batches = len(train_loader) * epochs\n",
    "    with tqdm(total=total_batches, desc=\"Training\", unit=\"batch\") as pbar:\n",
    "        for epoch in range(epochs):\n",
    "            if early_stop:\n",
    "                print(f\"Early stopping at epoch {epoch + 1}\")\n",
    "                break\n",
    "\n",
    "            # ---------------------------\n",
    "            # 1. Training\n",
    "            # ---------------------------\n",
    "            model.train()\n",
    "            train_loss = 0.0\n",
    "            num_train_sequences = len(train_loader.dataset)\n",
    "\n",
    "            for inputs, targets, masks, _, _ in train_loader:\n",
    "                optimizer.zero_grad()\n",
    "                inputs, targets, masks = inputs.to(device), targets.to(device), masks.to(device)\n",
    "                print(inputs.shape)\n",
    "                print(masks.shape)\n",
    "                outputs = model(inputs, masks)\n",
    "                loss = criterion(outputs, targets)\n",
    "\n",
    "                loss.backward()\n",
    "                optimizer.step()\n",
    "\n",
    "                train_loss += loss.item() * inputs.size(0)\n",
    "                pbar.update(1)\n",
    "\n",
    "            avg_train_mse = train_loss / num_train_sequences\n",
    "            train_rmse = avg_train_mse ** 0.5\n",
    "\n",
    "            # ---------------------------\n",
    "            # 2. Validation\n",
    "            # ---------------------------\n",
    "            model.eval()\n",
    "            val_loss = 0.0\n",
    "            num_val_sequences = len(val_loader.dataset)\n",
    "\n",
    "            with torch.no_grad():\n",
    "                for inputs, targets, masks, _, _ in val_loader:\n",
    "                    inputs, targets, masks = inputs.to(device), targets.to(device), masks.to(device)\n",
    "                    outputs = model(inputs, masks)\n",
    "                    loss = criterion(outputs, targets)\n",
    "                    val_loss += loss.item() * inputs.size(0)\n",
    "\n",
    "            avg_val_mse = val_loss / num_val_sequences\n",
    "            val_rmse = avg_val_mse ** 0.5\n",
    "\n",
    "            # ---------------------------\n",
    "            # 3. Early Stopping Logic\n",
    "            # ---------------------------\n",
    "            if avg_val_mse < best_val_loss:\n",
    "                best_val_loss = avg_val_mse\n",
    "                epochs_no_improve = 0\n",
    "                best_model_state = model.state_dict()  # Save the best model's state\n",
    "            else:\n",
    "                epochs_no_improve += 1\n",
    "                print(f\"No improvement for {epochs_no_improve} epoch(s).\")\n",
    "\n",
    "            if epochs_no_improve >= patience:\n",
    "                print(\"Early stopping triggered.\")\n",
    "                early_stop = True\n",
    "\n",
    "            # ---------------------------\n",
    "            # 4. TQDM Logging\n",
    "            # ---------------------------\n",
    "            pbar.set_postfix({\n",
    "                \"Epoch\": f\"{epoch + 1}/{epochs}\",\n",
    "                \"Train Loss\": f\"Avg MSE: {avg_train_mse:.4f}, RMSE: {train_rmse:.4f}\",\n",
    "                \"Val Loss\": f\"Avg MSE: {avg_val_mse:.4f}, RMSE: {val_rmse:.4f}\"\n",
    "            })\n",
    "            pbar.update(0)\n",
    "\n",
    "    # Store final metrics\n",
    "    fold_metrics[\"train_rmse\"].append(train_rmse)\n",
    "    fold_metrics[\"val_rmse\"].append(val_rmse)\n",
    "    fold_metrics[\"train_avg_mse\"].append(avg_train_mse)\n",
    "    fold_metrics[\"val_avg_mse\"].append(avg_val_mse)\n",
    "\n",
    "    # Summarize metrics for this single run\n",
    "    summary = {\n",
    "        \"mean_train_rmse\": sum(fold_metrics[\"train_rmse\"]) / len(fold_metrics[\"train_rmse\"]),\n",
    "        \"mean_val_rmse\": sum(fold_metrics[\"val_rmse\"]) / len(fold_metrics[\"val_rmse\"]),\n",
    "        \"mean_train_avg_mse\": sum(fold_metrics[\"train_avg_mse\"]) / len(fold_metrics[\"train_avg_mse\"]),\n",
    "        \"mean_val_avg_mse\": sum(fold_metrics[\"val_avg_mse\"]) / len(fold_metrics[\"val_avg_mse\"]),\n",
    "    }\n",
    "\n",
    "    print(\"\\n--- Train/Validation Summary ---\")\n",
    "    for key, value in summary.items():\n",
    "        print(f\"{key}: {value:.4f}\")\n",
    "\n",
    "    return best_model_state, summary"
   ]
  },
  {
   "cell_type": "code",
   "execution_count": 32,
   "metadata": {},
   "outputs": [
    {
     "name": "stdout",
     "output_type": "stream",
     "text": [
      "Using standard train/validation approach instead of k-fold.\n"
     ]
    },
    {
     "data": {
      "application/vnd.jupyter.widget-view+json": {
       "model_id": "f8486f948fd541879e77be08c69e8bf3",
       "version_major": 2,
       "version_minor": 0
      },
      "text/plain": [
       "Training:   0%|          | 0/100 [00:00<?, ?batch/s]"
      ]
     },
     "metadata": {},
     "output_type": "display_data"
    },
    {
     "name": "stdout",
     "output_type": "stream",
     "text": [
      "torch.Size([503, 30, 38])\n",
      "torch.Size([503, 30])\n"
     ]
    },
    {
     "ename": "RuntimeError",
     "evalue": "to_padded_tensor: at least one constituent tensor should have non-zero numel",
     "output_type": "error",
     "traceback": [
      "\u001b[0;31m---------------------------------------------------------------------------\u001b[0m",
      "\u001b[0;31mRuntimeError\u001b[0m                              Traceback (most recent call last)",
      "Cell \u001b[0;32mIn[32], line 14\u001b[0m\n\u001b[1;32m     11\u001b[0m learning_rate \u001b[38;5;241m=\u001b[39m \u001b[38;5;241m0.002824913366245818\u001b[39m\n\u001b[1;32m     13\u001b[0m \u001b[38;5;66;03m# Train using k-fold loaders\u001b[39;00m\n\u001b[0;32m---> 14\u001b[0m model_weights, summary \u001b[38;5;241m=\u001b[39m \u001b[43mtrain_and_validate_single_run\u001b[49m\u001b[43m(\u001b[49m\n\u001b[1;32m     15\u001b[0m \u001b[43m        \u001b[49m\u001b[43mfold_loaders\u001b[49m\u001b[38;5;241;43m=\u001b[39;49m\u001b[43mfold_loaders\u001b[49m\u001b[43m,\u001b[49m\n\u001b[1;32m     16\u001b[0m \u001b[43m        \u001b[49m\u001b[43mmodel_config\u001b[49m\u001b[38;5;241;43m=\u001b[39;49m\u001b[43mmodel_config\u001b[49m\u001b[43m,\u001b[49m\n\u001b[1;32m     17\u001b[0m \u001b[43m        \u001b[49m\u001b[43mepochs\u001b[49m\u001b[38;5;241;43m=\u001b[39;49m\u001b[38;5;241;43m100\u001b[39;49m\u001b[43m,\u001b[49m\u001b[43m  \u001b[49m\u001b[38;5;66;43;03m# Fewer epochs for faster tuning\u001b[39;49;00m\n\u001b[1;32m     18\u001b[0m \u001b[43m        \u001b[49m\u001b[43mlr\u001b[49m\u001b[38;5;241;43m=\u001b[39;49m\u001b[43mlearning_rate\u001b[49m\u001b[43m,\u001b[49m\n\u001b[1;32m     19\u001b[0m \u001b[43m        \u001b[49m\u001b[43mweight_decay\u001b[49m\u001b[38;5;241;43m=\u001b[39;49m\u001b[38;5;241;43m0.0\u001b[39;49m\u001b[43m,\u001b[49m\n\u001b[1;32m     20\u001b[0m \u001b[43m        \u001b[49m\u001b[43mpatience\u001b[49m\u001b[38;5;241;43m=\u001b[39;49m\u001b[38;5;241;43m10\u001b[39;49m\u001b[43m  \u001b[49m\u001b[38;5;66;43;03m# Early stopping patience\u001b[39;49;00m\n\u001b[1;32m     21\u001b[0m \u001b[43m    \u001b[49m\u001b[43m)\u001b[49m\n",
      "Cell \u001b[0;32mIn[29], line 98\u001b[0m, in \u001b[0;36mtrain_and_validate_single_run\u001b[0;34m(fold_loaders, model_config, epochs, lr, weight_decay, patience)\u001b[0m\n\u001b[1;32m     96\u001b[0m \u001b[38;5;28;01mfor\u001b[39;00m inputs, targets, masks, _, _ \u001b[38;5;129;01min\u001b[39;00m val_loader:\n\u001b[1;32m     97\u001b[0m     inputs, targets, masks \u001b[38;5;241m=\u001b[39m inputs\u001b[38;5;241m.\u001b[39mto(device), targets\u001b[38;5;241m.\u001b[39mto(device), masks\u001b[38;5;241m.\u001b[39mto(device)\n\u001b[0;32m---> 98\u001b[0m     outputs \u001b[38;5;241m=\u001b[39m \u001b[43mmodel\u001b[49m\u001b[43m(\u001b[49m\u001b[43minputs\u001b[49m\u001b[43m,\u001b[49m\u001b[43m \u001b[49m\u001b[43mmasks\u001b[49m\u001b[43m)\u001b[49m\n\u001b[1;32m     99\u001b[0m     loss \u001b[38;5;241m=\u001b[39m criterion(outputs, targets)\n\u001b[1;32m    100\u001b[0m     val_loss \u001b[38;5;241m+\u001b[39m\u001b[38;5;241m=\u001b[39m loss\u001b[38;5;241m.\u001b[39mitem() \u001b[38;5;241m*\u001b[39m inputs\u001b[38;5;241m.\u001b[39msize(\u001b[38;5;241m0\u001b[39m)\n",
      "File \u001b[0;32m~/anaconda3/envs/pytorch_env/lib/python3.9/site-packages/torch/nn/modules/module.py:1736\u001b[0m, in \u001b[0;36mModule._wrapped_call_impl\u001b[0;34m(self, *args, **kwargs)\u001b[0m\n\u001b[1;32m   1734\u001b[0m     \u001b[38;5;28;01mreturn\u001b[39;00m \u001b[38;5;28mself\u001b[39m\u001b[38;5;241m.\u001b[39m_compiled_call_impl(\u001b[38;5;241m*\u001b[39margs, \u001b[38;5;241m*\u001b[39m\u001b[38;5;241m*\u001b[39mkwargs)  \u001b[38;5;66;03m# type: ignore[misc]\u001b[39;00m\n\u001b[1;32m   1735\u001b[0m \u001b[38;5;28;01melse\u001b[39;00m:\n\u001b[0;32m-> 1736\u001b[0m     \u001b[38;5;28;01mreturn\u001b[39;00m \u001b[38;5;28;43mself\u001b[39;49m\u001b[38;5;241;43m.\u001b[39;49m\u001b[43m_call_impl\u001b[49m\u001b[43m(\u001b[49m\u001b[38;5;241;43m*\u001b[39;49m\u001b[43margs\u001b[49m\u001b[43m,\u001b[49m\u001b[43m \u001b[49m\u001b[38;5;241;43m*\u001b[39;49m\u001b[38;5;241;43m*\u001b[39;49m\u001b[43mkwargs\u001b[49m\u001b[43m)\u001b[49m\n",
      "File \u001b[0;32m~/anaconda3/envs/pytorch_env/lib/python3.9/site-packages/torch/nn/modules/module.py:1747\u001b[0m, in \u001b[0;36mModule._call_impl\u001b[0;34m(self, *args, **kwargs)\u001b[0m\n\u001b[1;32m   1742\u001b[0m \u001b[38;5;66;03m# If we don't have any hooks, we want to skip the rest of the logic in\u001b[39;00m\n\u001b[1;32m   1743\u001b[0m \u001b[38;5;66;03m# this function, and just call forward.\u001b[39;00m\n\u001b[1;32m   1744\u001b[0m \u001b[38;5;28;01mif\u001b[39;00m \u001b[38;5;129;01mnot\u001b[39;00m (\u001b[38;5;28mself\u001b[39m\u001b[38;5;241m.\u001b[39m_backward_hooks \u001b[38;5;129;01mor\u001b[39;00m \u001b[38;5;28mself\u001b[39m\u001b[38;5;241m.\u001b[39m_backward_pre_hooks \u001b[38;5;129;01mor\u001b[39;00m \u001b[38;5;28mself\u001b[39m\u001b[38;5;241m.\u001b[39m_forward_hooks \u001b[38;5;129;01mor\u001b[39;00m \u001b[38;5;28mself\u001b[39m\u001b[38;5;241m.\u001b[39m_forward_pre_hooks\n\u001b[1;32m   1745\u001b[0m         \u001b[38;5;129;01mor\u001b[39;00m _global_backward_pre_hooks \u001b[38;5;129;01mor\u001b[39;00m _global_backward_hooks\n\u001b[1;32m   1746\u001b[0m         \u001b[38;5;129;01mor\u001b[39;00m _global_forward_hooks \u001b[38;5;129;01mor\u001b[39;00m _global_forward_pre_hooks):\n\u001b[0;32m-> 1747\u001b[0m     \u001b[38;5;28;01mreturn\u001b[39;00m \u001b[43mforward_call\u001b[49m\u001b[43m(\u001b[49m\u001b[38;5;241;43m*\u001b[39;49m\u001b[43margs\u001b[49m\u001b[43m,\u001b[49m\u001b[43m \u001b[49m\u001b[38;5;241;43m*\u001b[39;49m\u001b[38;5;241;43m*\u001b[39;49m\u001b[43mkwargs\u001b[49m\u001b[43m)\u001b[49m\n\u001b[1;32m   1749\u001b[0m result \u001b[38;5;241m=\u001b[39m \u001b[38;5;28;01mNone\u001b[39;00m\n\u001b[1;32m   1750\u001b[0m called_always_called_hooks \u001b[38;5;241m=\u001b[39m \u001b[38;5;28mset\u001b[39m()\n",
      "File \u001b[0;32m~/project-showroom/projects/malfunction-prediction-system/codebase/v5/models.py:86\u001b[0m, in \u001b[0;36mTransformerRULModel.forward\u001b[0;34m(self, x, mask)\u001b[0m\n\u001b[1;32m     83\u001b[0m attn_weights = F.softmax(attn_scores, dim=1)  # Normalize over sequence length\n\u001b[1;32m     84\u001b[0m context_vector = (attn_weights * x).sum(dim=1)  # Weighted sum: (batch_size, d_model)\n\u001b[0;32m---> 86\u001b[0m # 5. Predict RUL using the regressor\n\u001b[1;32m     87\u001b[0m output = self.regressor(context_vector)  # Shape: (batch_size, 1)\n\u001b[1;32m     88\u001b[0m return output.squeeze(1)  # Shape: (batch_size,)\n",
      "File \u001b[0;32m~/anaconda3/envs/pytorch_env/lib/python3.9/site-packages/torch/nn/modules/module.py:1736\u001b[0m, in \u001b[0;36mModule._wrapped_call_impl\u001b[0;34m(self, *args, **kwargs)\u001b[0m\n\u001b[1;32m   1734\u001b[0m     \u001b[38;5;28;01mreturn\u001b[39;00m \u001b[38;5;28mself\u001b[39m\u001b[38;5;241m.\u001b[39m_compiled_call_impl(\u001b[38;5;241m*\u001b[39margs, \u001b[38;5;241m*\u001b[39m\u001b[38;5;241m*\u001b[39mkwargs)  \u001b[38;5;66;03m# type: ignore[misc]\u001b[39;00m\n\u001b[1;32m   1735\u001b[0m \u001b[38;5;28;01melse\u001b[39;00m:\n\u001b[0;32m-> 1736\u001b[0m     \u001b[38;5;28;01mreturn\u001b[39;00m \u001b[38;5;28;43mself\u001b[39;49m\u001b[38;5;241;43m.\u001b[39;49m\u001b[43m_call_impl\u001b[49m\u001b[43m(\u001b[49m\u001b[38;5;241;43m*\u001b[39;49m\u001b[43margs\u001b[49m\u001b[43m,\u001b[49m\u001b[43m \u001b[49m\u001b[38;5;241;43m*\u001b[39;49m\u001b[38;5;241;43m*\u001b[39;49m\u001b[43mkwargs\u001b[49m\u001b[43m)\u001b[49m\n",
      "File \u001b[0;32m~/anaconda3/envs/pytorch_env/lib/python3.9/site-packages/torch/nn/modules/module.py:1747\u001b[0m, in \u001b[0;36mModule._call_impl\u001b[0;34m(self, *args, **kwargs)\u001b[0m\n\u001b[1;32m   1742\u001b[0m \u001b[38;5;66;03m# If we don't have any hooks, we want to skip the rest of the logic in\u001b[39;00m\n\u001b[1;32m   1743\u001b[0m \u001b[38;5;66;03m# this function, and just call forward.\u001b[39;00m\n\u001b[1;32m   1744\u001b[0m \u001b[38;5;28;01mif\u001b[39;00m \u001b[38;5;129;01mnot\u001b[39;00m (\u001b[38;5;28mself\u001b[39m\u001b[38;5;241m.\u001b[39m_backward_hooks \u001b[38;5;129;01mor\u001b[39;00m \u001b[38;5;28mself\u001b[39m\u001b[38;5;241m.\u001b[39m_backward_pre_hooks \u001b[38;5;129;01mor\u001b[39;00m \u001b[38;5;28mself\u001b[39m\u001b[38;5;241m.\u001b[39m_forward_hooks \u001b[38;5;129;01mor\u001b[39;00m \u001b[38;5;28mself\u001b[39m\u001b[38;5;241m.\u001b[39m_forward_pre_hooks\n\u001b[1;32m   1745\u001b[0m         \u001b[38;5;129;01mor\u001b[39;00m _global_backward_pre_hooks \u001b[38;5;129;01mor\u001b[39;00m _global_backward_hooks\n\u001b[1;32m   1746\u001b[0m         \u001b[38;5;129;01mor\u001b[39;00m _global_forward_hooks \u001b[38;5;129;01mor\u001b[39;00m _global_forward_pre_hooks):\n\u001b[0;32m-> 1747\u001b[0m     \u001b[38;5;28;01mreturn\u001b[39;00m \u001b[43mforward_call\u001b[49m\u001b[43m(\u001b[49m\u001b[38;5;241;43m*\u001b[39;49m\u001b[43margs\u001b[49m\u001b[43m,\u001b[49m\u001b[43m \u001b[49m\u001b[38;5;241;43m*\u001b[39;49m\u001b[38;5;241;43m*\u001b[39;49m\u001b[43mkwargs\u001b[49m\u001b[43m)\u001b[49m\n\u001b[1;32m   1749\u001b[0m result \u001b[38;5;241m=\u001b[39m \u001b[38;5;28;01mNone\u001b[39;00m\n\u001b[1;32m   1750\u001b[0m called_always_called_hooks \u001b[38;5;241m=\u001b[39m \u001b[38;5;28mset\u001b[39m()\n",
      "File \u001b[0;32m~/anaconda3/envs/pytorch_env/lib/python3.9/site-packages/torch/nn/modules/transformer.py:519\u001b[0m, in \u001b[0;36mTransformerEncoder.forward\u001b[0;34m(self, src, mask, src_key_padding_mask, is_causal)\u001b[0m\n\u001b[1;32m    511\u001b[0m     output \u001b[38;5;241m=\u001b[39m mod(\n\u001b[1;32m    512\u001b[0m         output,\n\u001b[1;32m    513\u001b[0m         src_mask\u001b[38;5;241m=\u001b[39mmask,\n\u001b[1;32m    514\u001b[0m         is_causal\u001b[38;5;241m=\u001b[39mis_causal,\n\u001b[1;32m    515\u001b[0m         src_key_padding_mask\u001b[38;5;241m=\u001b[39msrc_key_padding_mask_for_layers,\n\u001b[1;32m    516\u001b[0m     )\n\u001b[1;32m    518\u001b[0m \u001b[38;5;28;01mif\u001b[39;00m convert_to_nested:\n\u001b[0;32m--> 519\u001b[0m     output \u001b[38;5;241m=\u001b[39m \u001b[43moutput\u001b[49m\u001b[38;5;241;43m.\u001b[39;49m\u001b[43mto_padded_tensor\u001b[49m\u001b[43m(\u001b[49m\u001b[38;5;241;43m0.0\u001b[39;49m\u001b[43m,\u001b[49m\u001b[43m \u001b[49m\u001b[43msrc\u001b[49m\u001b[38;5;241;43m.\u001b[39;49m\u001b[43msize\u001b[49m\u001b[43m(\u001b[49m\u001b[43m)\u001b[49m\u001b[43m)\u001b[49m\n\u001b[1;32m    521\u001b[0m \u001b[38;5;28;01mif\u001b[39;00m \u001b[38;5;28mself\u001b[39m\u001b[38;5;241m.\u001b[39mnorm \u001b[38;5;129;01mis\u001b[39;00m \u001b[38;5;129;01mnot\u001b[39;00m \u001b[38;5;28;01mNone\u001b[39;00m:\n\u001b[1;32m    522\u001b[0m     output \u001b[38;5;241m=\u001b[39m \u001b[38;5;28mself\u001b[39m\u001b[38;5;241m.\u001b[39mnorm(output)\n",
      "\u001b[0;31mRuntimeError\u001b[0m: to_padded_tensor: at least one constituent tensor should have non-zero numel"
     ]
    }
   ],
   "source": [
    "# Define model configuration\n",
    "model_config = {\n",
    "    \"input_dim\": input_dim,\n",
    "    \"d_model\": 128,\n",
    "    \"nhead\": 4,\n",
    "    \"num_layers\": 3,\n",
    "    \"dim_feedforward\": 256,\n",
    "    \"dropout\": 0.10750046093315908,\n",
    "}\n",
    "\n",
    "learning_rate = 0.002824913366245818\n",
    "\n",
    "# Train using k-fold loaders\n",
    "model_weights, summary = train_and_validate_single_run(\n",
    "        fold_loaders=fold_loaders,\n",
    "        model_config=model_config,\n",
    "        epochs=100,  # Fewer epochs for faster tuning\n",
    "        lr=learning_rate,\n",
    "        weight_decay=0.0,\n",
    "        patience=10  # Early stopping patience\n",
    "    )"
   ]
  },
  {
   "cell_type": "markdown",
   "metadata": {},
   "source": [
    "# Training without K-Fold: Optuna"
   ]
  },
  {
   "cell_type": "code",
   "execution_count": 7,
   "metadata": {},
   "outputs": [
    {
     "name": "stderr",
     "output_type": "stream",
     "text": [
      "[I 2025-01-12 15:29:07,620] A new study created in memory with name: no-name-f096bdd2-48e1-456f-b0bb-4bf978a844ae\n"
     ]
    },
    {
     "name": "stdout",
     "output_type": "stream",
     "text": [
      "Using standard train/validation approach instead of k-fold.\n",
      "Model: CombinedNet\n",
      "Input Dimension: 38\n",
      "Conv Configs: [(64, 1, 0), (256, 5, 1)]\n",
      "GRU Hidden Dim: 128\n",
      "FC Hidden Dim: 192\n",
      "Number of Heads: 4\n",
      "Number of Layers: 4\n",
      "Dropout Rate: 0.4123158815782697\n"
     ]
    },
    {
     "data": {
      "application/vnd.jupyter.widget-view+json": {
       "model_id": "95bb86d2ffb8460eb3f8f339508b8843",
       "version_major": 2,
       "version_minor": 0
      },
      "text/plain": [
       "Training:   0%|          | 0/100 [00:00<?, ?batch/s]"
      ]
     },
     "metadata": {},
     "output_type": "display_data"
    },
    {
     "name": "stdout",
     "output_type": "stream",
     "text": [
      "No improvement for 1 epoch(s).\n",
      "No improvement for 1 epoch(s).\n",
      "No improvement for 2 epoch(s).\n",
      "No improvement for 3 epoch(s).\n",
      "No improvement for 4 epoch(s).\n",
      "No improvement for 5 epoch(s).\n",
      "No improvement for 6 epoch(s).\n",
      "No improvement for 7 epoch(s).\n",
      "No improvement for 8 epoch(s).\n",
      "No improvement for 9 epoch(s).\n"
     ]
    },
    {
     "name": "stderr",
     "output_type": "stream",
     "text": [
      "[I 2025-01-12 15:30:17,646] Trial 0 finished with value: 48.47808027942242 and parameters: {'fc_hidden_dim': 192, 'gru_hidden_dim': 128, 'num_layers': 4, 'num_heads': 4, 'dropout': 0.4123158815782697, 'lr': 0.0006829343739513299, 'weight_decay': 1.5553032882107056e-05, 'conv_0_out_channels': 64, 'conv_0_kernel_size': 1, 'conv_0_padding': 0, 'conv_1_out_channels': 256, 'conv_1_kernel_size': 5, 'conv_1_padding': 1}. Best is trial 0 with value: 48.47808027942242.\n"
     ]
    },
    {
     "name": "stdout",
     "output_type": "stream",
     "text": [
      "No improvement for 10 epoch(s).\n",
      "Early stopping triggered.\n",
      "Early stopping at epoch 38\n",
      "\n",
      "--- Train/Validation Summary ---\n",
      "mean_train_rmse: 42.3959\n",
      "mean_val_rmse: 48.4781\n",
      "mean_train_avg_mse: 1797.4119\n",
      "mean_val_avg_mse: 2350.1243\n",
      "Using standard train/validation approach instead of k-fold.\n",
      "Model: CombinedNet\n",
      "Input Dimension: 38\n",
      "Conv Configs: [(32, 5, 2), (256, 5, 0)]\n",
      "GRU Hidden Dim: 192\n",
      "FC Hidden Dim: 128\n",
      "Number of Heads: 2\n",
      "Number of Layers: 1\n",
      "Dropout Rate: 0.32047662234105534\n"
     ]
    },
    {
     "data": {
      "application/vnd.jupyter.widget-view+json": {
       "model_id": "31710af4b7e04213bccc395206521ad7",
       "version_major": 2,
       "version_minor": 0
      },
      "text/plain": [
       "Training:   0%|          | 0/100 [00:00<?, ?batch/s]"
      ]
     },
     "metadata": {},
     "output_type": "display_data"
    },
    {
     "name": "stderr",
     "output_type": "stream",
     "text": [
      "[I 2025-01-12 15:31:50,470] Trial 1 finished with value: 69.14263591708448 and parameters: {'fc_hidden_dim': 128, 'gru_hidden_dim': 192, 'num_layers': 1, 'num_heads': 2, 'dropout': 0.32047662234105534, 'lr': 0.0002777751885217859, 'weight_decay': 1.8796209375904636e-05, 'conv_0_out_channels': 32, 'conv_0_kernel_size': 5, 'conv_0_padding': 2, 'conv_1_out_channels': 256, 'conv_1_kernel_size': 5, 'conv_1_padding': 0}. Best is trial 0 with value: 48.47808027942242.\n"
     ]
    },
    {
     "name": "stdout",
     "output_type": "stream",
     "text": [
      "\n",
      "--- Train/Validation Summary ---\n",
      "mean_train_rmse: 66.6637\n",
      "mean_val_rmse: 69.1426\n",
      "mean_train_avg_mse: 4444.0498\n",
      "mean_val_avg_mse: 4780.7041\n",
      "Using standard train/validation approach instead of k-fold.\n",
      "Model: CombinedNet\n",
      "Input Dimension: 38\n",
      "Conv Configs: [(128, 1, 0), (32, 3, 0)]\n",
      "GRU Hidden Dim: 320\n",
      "FC Hidden Dim: 512\n",
      "Number of Heads: 1\n",
      "Number of Layers: 3\n",
      "Dropout Rate: 0.4431444384536867\n"
     ]
    },
    {
     "data": {
      "application/vnd.jupyter.widget-view+json": {
       "model_id": "739ba90dce5d44fda55c632ac598fa94",
       "version_major": 2,
       "version_minor": 0
      },
      "text/plain": [
       "Training:   0%|          | 0/100 [00:00<?, ?batch/s]"
      ]
     },
     "metadata": {},
     "output_type": "display_data"
    },
    {
     "name": "stdout",
     "output_type": "stream",
     "text": [
      "No improvement for 1 epoch(s).\n",
      "No improvement for 2 epoch(s).\n",
      "No improvement for 3 epoch(s).\n",
      "No improvement for 1 epoch(s).\n",
      "No improvement for 1 epoch(s).\n",
      "No improvement for 1 epoch(s).\n",
      "No improvement for 1 epoch(s).\n",
      "No improvement for 2 epoch(s).\n",
      "No improvement for 3 epoch(s).\n",
      "No improvement for 1 epoch(s).\n",
      "No improvement for 1 epoch(s).\n",
      "No improvement for 2 epoch(s).\n",
      "No improvement for 1 epoch(s).\n",
      "No improvement for 2 epoch(s).\n",
      "No improvement for 3 epoch(s).\n",
      "No improvement for 4 epoch(s).\n",
      "No improvement for 5 epoch(s).\n",
      "No improvement for 6 epoch(s).\n",
      "No improvement for 7 epoch(s).\n",
      "No improvement for 8 epoch(s).\n",
      "No improvement for 9 epoch(s).\n"
     ]
    },
    {
     "name": "stderr",
     "output_type": "stream",
     "text": [
      "[I 2025-01-12 15:33:00,696] Trial 2 finished with value: 47.38952768264709 and parameters: {'fc_hidden_dim': 512, 'gru_hidden_dim': 320, 'num_layers': 3, 'num_heads': 1, 'dropout': 0.4431444384536867, 'lr': 0.0059734907989130274, 'weight_decay': 8.995984870665695e-06, 'conv_0_out_channels': 128, 'conv_0_kernel_size': 1, 'conv_0_padding': 0, 'conv_1_out_channels': 32, 'conv_1_kernel_size': 3, 'conv_1_padding': 0}. Best is trial 2 with value: 47.38952768264709.\n"
     ]
    },
    {
     "name": "stdout",
     "output_type": "stream",
     "text": [
      "No improvement for 10 epoch(s).\n",
      "Early stopping triggered.\n",
      "Early stopping at epoch 38\n",
      "\n",
      "--- Train/Validation Summary ---\n",
      "mean_train_rmse: 40.6959\n",
      "mean_val_rmse: 47.3895\n",
      "mean_train_avg_mse: 1656.1597\n",
      "mean_val_avg_mse: 2245.7673\n",
      "Using standard train/validation approach instead of k-fold.\n",
      "Model: CombinedNet\n",
      "Input Dimension: 38\n",
      "Conv Configs: [(128, 5, 2), (64, 3, 1)]\n",
      "GRU Hidden Dim: 128\n",
      "FC Hidden Dim: 192\n",
      "Number of Heads: 4\n",
      "Number of Layers: 4\n",
      "Dropout Rate: 0.278149229303181\n"
     ]
    },
    {
     "data": {
      "application/vnd.jupyter.widget-view+json": {
       "model_id": "a8772c524d8e4f158dd902db3a8a9c85",
       "version_major": 2,
       "version_minor": 0
      },
      "text/plain": [
       "Training:   0%|          | 0/100 [00:00<?, ?batch/s]"
      ]
     },
     "metadata": {},
     "output_type": "display_data"
    },
    {
     "name": "stdout",
     "output_type": "stream",
     "text": [
      "No improvement for 1 epoch(s).\n",
      "No improvement for 2 epoch(s).\n",
      "No improvement for 3 epoch(s).\n",
      "No improvement for 4 epoch(s).\n",
      "No improvement for 1 epoch(s).\n",
      "No improvement for 1 epoch(s).\n",
      "No improvement for 2 epoch(s).\n",
      "No improvement for 3 epoch(s).\n",
      "No improvement for 4 epoch(s).\n",
      "No improvement for 1 epoch(s).\n",
      "No improvement for 1 epoch(s).\n",
      "No improvement for 2 epoch(s).\n",
      "No improvement for 3 epoch(s).\n",
      "No improvement for 4 epoch(s).\n",
      "No improvement for 5 epoch(s).\n",
      "No improvement for 6 epoch(s).\n",
      "No improvement for 7 epoch(s).\n",
      "No improvement for 8 epoch(s).\n",
      "No improvement for 9 epoch(s).\n"
     ]
    },
    {
     "name": "stderr",
     "output_type": "stream",
     "text": [
      "[I 2025-01-12 15:34:29,562] Trial 3 finished with value: 48.74975460675417 and parameters: {'fc_hidden_dim': 192, 'gru_hidden_dim': 128, 'num_layers': 4, 'num_heads': 4, 'dropout': 0.278149229303181, 'lr': 0.0017050462242745943, 'weight_decay': 7.391312075332587e-05, 'conv_0_out_channels': 128, 'conv_0_kernel_size': 5, 'conv_0_padding': 2, 'conv_1_out_channels': 64, 'conv_1_kernel_size': 3, 'conv_1_padding': 1}. Best is trial 2 with value: 47.38952768264709.\n"
     ]
    },
    {
     "name": "stdout",
     "output_type": "stream",
     "text": [
      "No improvement for 10 epoch(s).\n",
      "Early stopping triggered.\n",
      "Early stopping at epoch 49\n",
      "\n",
      "--- Train/Validation Summary ---\n",
      "mean_train_rmse: 40.7611\n",
      "mean_val_rmse: 48.7498\n",
      "mean_train_avg_mse: 1661.4698\n",
      "mean_val_avg_mse: 2376.5386\n",
      "Using standard train/validation approach instead of k-fold.\n",
      "Model: CombinedNet\n",
      "Input Dimension: 38\n",
      "Conv Configs: [(32, 1, 0), (32, 5, 0)]\n",
      "GRU Hidden Dim: 512\n",
      "FC Hidden Dim: 384\n",
      "Number of Heads: 2\n",
      "Number of Layers: 1\n",
      "Dropout Rate: 0.3872620875480053\n"
     ]
    },
    {
     "data": {
      "application/vnd.jupyter.widget-view+json": {
       "model_id": "5cc3d7af46e24cfbac081a993949002d",
       "version_major": 2,
       "version_minor": 0
      },
      "text/plain": [
       "Training:   0%|          | 0/100 [00:00<?, ?batch/s]"
      ]
     },
     "metadata": {},
     "output_type": "display_data"
    },
    {
     "name": "stdout",
     "output_type": "stream",
     "text": [
      "No improvement for 1 epoch(s).\n",
      "No improvement for 2 epoch(s).\n",
      "No improvement for 3 epoch(s).\n",
      "No improvement for 1 epoch(s).\n",
      "No improvement for 2 epoch(s).\n",
      "No improvement for 3 epoch(s).\n",
      "No improvement for 1 epoch(s).\n",
      "No improvement for 2 epoch(s).\n",
      "No improvement for 1 epoch(s).\n",
      "No improvement for 2 epoch(s).\n",
      "No improvement for 3 epoch(s).\n",
      "No improvement for 4 epoch(s).\n",
      "No improvement for 5 epoch(s).\n",
      "No improvement for 6 epoch(s).\n",
      "No improvement for 7 epoch(s).\n",
      "No improvement for 8 epoch(s).\n",
      "No improvement for 9 epoch(s).\n"
     ]
    },
    {
     "name": "stderr",
     "output_type": "stream",
     "text": [
      "[I 2025-01-12 15:35:34,731] Trial 4 finished with value: 56.9097228312911 and parameters: {'fc_hidden_dim': 384, 'gru_hidden_dim': 512, 'num_layers': 1, 'num_heads': 2, 'dropout': 0.3872620875480053, 'lr': 0.0015917821017373821, 'weight_decay': 3.221177200519295e-05, 'conv_0_out_channels': 32, 'conv_0_kernel_size': 1, 'conv_0_padding': 0, 'conv_1_out_channels': 32, 'conv_1_kernel_size': 5, 'conv_1_padding': 0}. Best is trial 2 with value: 47.38952768264709.\n"
     ]
    },
    {
     "name": "stdout",
     "output_type": "stream",
     "text": [
      "No improvement for 10 epoch(s).\n",
      "Early stopping triggered.\n",
      "Early stopping at epoch 35\n",
      "\n",
      "--- Train/Validation Summary ---\n",
      "mean_train_rmse: 35.4497\n",
      "mean_val_rmse: 56.9097\n",
      "mean_train_avg_mse: 1256.6822\n",
      "mean_val_avg_mse: 3238.7166\n",
      "Using standard train/validation approach instead of k-fold.\n",
      "Model: CombinedNet\n",
      "Input Dimension: 38\n",
      "Conv Configs: [(256, 3, 1), (128, 1, 0)]\n",
      "GRU Hidden Dim: 512\n",
      "FC Hidden Dim: 192\n",
      "Number of Heads: 3\n",
      "Number of Layers: 4\n",
      "Dropout Rate: 0.10750046093315908\n"
     ]
    },
    {
     "data": {
      "application/vnd.jupyter.widget-view+json": {
       "model_id": "2e3d67b15ce24c83a70b726837dfbfa5",
       "version_major": 2,
       "version_minor": 0
      },
      "text/plain": [
       "Training:   0%|          | 0/100 [00:00<?, ?batch/s]"
      ]
     },
     "metadata": {},
     "output_type": "display_data"
    },
    {
     "name": "stdout",
     "output_type": "stream",
     "text": [
      "No improvement for 1 epoch(s).\n",
      "No improvement for 2 epoch(s).\n",
      "No improvement for 1 epoch(s).\n",
      "No improvement for 1 epoch(s).\n",
      "No improvement for 2 epoch(s).\n",
      "No improvement for 3 epoch(s).\n",
      "No improvement for 4 epoch(s).\n",
      "No improvement for 5 epoch(s).\n",
      "No improvement for 6 epoch(s).\n",
      "No improvement for 1 epoch(s).\n",
      "No improvement for 2 epoch(s).\n",
      "No improvement for 3 epoch(s).\n",
      "No improvement for 4 epoch(s).\n",
      "No improvement for 5 epoch(s).\n",
      "No improvement for 6 epoch(s).\n",
      "No improvement for 7 epoch(s).\n",
      "No improvement for 8 epoch(s).\n",
      "No improvement for 9 epoch(s).\n",
      "No improvement for 1 epoch(s).\n",
      "No improvement for 2 epoch(s).\n",
      "No improvement for 3 epoch(s).\n",
      "No improvement for 4 epoch(s).\n",
      "No improvement for 5 epoch(s).\n",
      "No improvement for 6 epoch(s).\n",
      "No improvement for 7 epoch(s).\n",
      "No improvement for 1 epoch(s).\n",
      "No improvement for 2 epoch(s).\n",
      "No improvement for 1 epoch(s).\n",
      "No improvement for 2 epoch(s).\n",
      "No improvement for 1 epoch(s).\n"
     ]
    },
    {
     "name": "stderr",
     "output_type": "stream",
     "text": [
      "[I 2025-01-12 15:37:15,818] Trial 5 finished with value: 44.50249345630113 and parameters: {'fc_hidden_dim': 192, 'gru_hidden_dim': 512, 'num_layers': 4, 'num_heads': 3, 'dropout': 0.10750046093315908, 'lr': 0.002824913366245818, 'weight_decay': 2.7005914935249046e-06, 'conv_0_out_channels': 256, 'conv_0_kernel_size': 3, 'conv_0_padding': 1, 'conv_1_out_channels': 128, 'conv_1_kernel_size': 1, 'conv_1_padding': 0}. Best is trial 5 with value: 44.50249345630113.\n"
     ]
    },
    {
     "name": "stdout",
     "output_type": "stream",
     "text": [
      "No improvement for 2 epoch(s).\n",
      "\n",
      "--- Train/Validation Summary ---\n",
      "mean_train_rmse: 33.7055\n",
      "mean_val_rmse: 44.5025\n",
      "mean_train_avg_mse: 1136.0639\n",
      "mean_val_avg_mse: 1980.4719\n",
      "Using standard train/validation approach instead of k-fold.\n",
      "Model: CombinedNet\n",
      "Input Dimension: 38\n",
      "Conv Configs: [(64, 3, 0), (64, 5, 1)]\n",
      "GRU Hidden Dim: 448\n",
      "FC Hidden Dim: 384\n",
      "Number of Heads: 3\n",
      "Number of Layers: 2\n",
      "Dropout Rate: 0.33625148873086375\n"
     ]
    },
    {
     "data": {
      "application/vnd.jupyter.widget-view+json": {
       "model_id": "b28aca47d72e42d798edf60d11922295",
       "version_major": 2,
       "version_minor": 0
      },
      "text/plain": [
       "Training:   0%|          | 0/100 [00:00<?, ?batch/s]"
      ]
     },
     "metadata": {},
     "output_type": "display_data"
    },
    {
     "name": "stdout",
     "output_type": "stream",
     "text": [
      "No improvement for 1 epoch(s).\n",
      "No improvement for 2 epoch(s).\n",
      "No improvement for 3 epoch(s).\n",
      "No improvement for 1 epoch(s).\n",
      "No improvement for 2 epoch(s).\n",
      "No improvement for 3 epoch(s).\n",
      "No improvement for 4 epoch(s).\n",
      "No improvement for 1 epoch(s).\n",
      "No improvement for 2 epoch(s).\n",
      "No improvement for 3 epoch(s).\n",
      "No improvement for 4 epoch(s).\n",
      "No improvement for 5 epoch(s).\n",
      "No improvement for 6 epoch(s).\n",
      "No improvement for 7 epoch(s).\n",
      "No improvement for 8 epoch(s).\n",
      "No improvement for 9 epoch(s).\n"
     ]
    },
    {
     "name": "stderr",
     "output_type": "stream",
     "text": [
      "[I 2025-01-12 15:38:12,370] Trial 6 finished with value: 49.00920174282326 and parameters: {'fc_hidden_dim': 384, 'gru_hidden_dim': 448, 'num_layers': 2, 'num_heads': 3, 'dropout': 0.33625148873086375, 'lr': 0.0017306748497804753, 'weight_decay': 6.182638302380239e-05, 'conv_0_out_channels': 64, 'conv_0_kernel_size': 3, 'conv_0_padding': 0, 'conv_1_out_channels': 64, 'conv_1_kernel_size': 5, 'conv_1_padding': 1}. Best is trial 5 with value: 44.50249345630113.\n"
     ]
    },
    {
     "name": "stdout",
     "output_type": "stream",
     "text": [
      "No improvement for 10 epoch(s).\n",
      "Early stopping triggered.\n",
      "Early stopping at epoch 31\n",
      "\n",
      "--- Train/Validation Summary ---\n",
      "mean_train_rmse: 38.6181\n",
      "mean_val_rmse: 49.0092\n",
      "mean_train_avg_mse: 1491.3567\n",
      "mean_val_avg_mse: 2401.9019\n",
      "Using standard train/validation approach instead of k-fold.\n",
      "Model: CombinedNet\n",
      "Input Dimension: 38\n",
      "Conv Configs: [(32, 1, 0), (32, 5, 0)]\n",
      "GRU Hidden Dim: 448\n",
      "FC Hidden Dim: 384\n",
      "Number of Heads: 2\n",
      "Number of Layers: 3\n",
      "Dropout Rate: 0.19153752537701424\n"
     ]
    },
    {
     "data": {
      "application/vnd.jupyter.widget-view+json": {
       "model_id": "90e35dddf213427882ea528333d65020",
       "version_major": 2,
       "version_minor": 0
      },
      "text/plain": [
       "Training:   0%|          | 0/100 [00:00<?, ?batch/s]"
      ]
     },
     "metadata": {},
     "output_type": "display_data"
    },
    {
     "name": "stderr",
     "output_type": "stream",
     "text": [
      "[I 2025-01-12 15:39:45,829] Trial 7 finished with value: 48.984536981390875 and parameters: {'fc_hidden_dim': 384, 'gru_hidden_dim': 448, 'num_layers': 3, 'num_heads': 2, 'dropout': 0.19153752537701424, 'lr': 0.00018713099906986376, 'weight_decay': 2.5475899827976245e-06, 'conv_0_out_channels': 32, 'conv_0_kernel_size': 1, 'conv_0_padding': 0, 'conv_1_out_channels': 32, 'conv_1_kernel_size': 5, 'conv_1_padding': 0}. Best is trial 5 with value: 44.50249345630113.\n"
     ]
    },
    {
     "name": "stdout",
     "output_type": "stream",
     "text": [
      "\n",
      "--- Train/Validation Summary ---\n",
      "mean_train_rmse: 43.3689\n",
      "mean_val_rmse: 48.9845\n",
      "mean_train_avg_mse: 1880.8645\n",
      "mean_val_avg_mse: 2399.4849\n",
      "Using standard train/validation approach instead of k-fold.\n",
      "Model: CombinedNet\n",
      "Input Dimension: 38\n",
      "Conv Configs: [(128, 5, 2), (128, 1, 0)]\n",
      "GRU Hidden Dim: 320\n",
      "FC Hidden Dim: 320\n",
      "Number of Heads: 4\n",
      "Number of Layers: 1\n",
      "Dropout Rate: 0.20743282395020973\n"
     ]
    },
    {
     "data": {
      "application/vnd.jupyter.widget-view+json": {
       "model_id": "7581852830024237a3bf031bce015437",
       "version_major": 2,
       "version_minor": 0
      },
      "text/plain": [
       "Training:   0%|          | 0/100 [00:00<?, ?batch/s]"
      ]
     },
     "metadata": {},
     "output_type": "display_data"
    },
    {
     "name": "stdout",
     "output_type": "stream",
     "text": [
      "No improvement for 1 epoch(s).\n",
      "No improvement for 2 epoch(s).\n",
      "No improvement for 1 epoch(s).\n",
      "No improvement for 2 epoch(s).\n",
      "No improvement for 3 epoch(s).\n",
      "No improvement for 4 epoch(s).\n",
      "No improvement for 5 epoch(s).\n",
      "No improvement for 6 epoch(s).\n",
      "No improvement for 7 epoch(s).\n",
      "No improvement for 8 epoch(s).\n",
      "No improvement for 9 epoch(s).\n"
     ]
    },
    {
     "name": "stderr",
     "output_type": "stream",
     "text": [
      "[I 2025-01-12 15:40:40,292] Trial 8 finished with value: 50.17473860949601 and parameters: {'fc_hidden_dim': 320, 'gru_hidden_dim': 320, 'num_layers': 1, 'num_heads': 4, 'dropout': 0.20743282395020973, 'lr': 0.0010750238978324241, 'weight_decay': 1.1365773293364215e-05, 'conv_0_out_channels': 128, 'conv_0_kernel_size': 5, 'conv_0_padding': 2, 'conv_1_out_channels': 128, 'conv_1_kernel_size': 1, 'conv_1_padding': 0}. Best is trial 5 with value: 44.50249345630113.\n"
     ]
    },
    {
     "name": "stdout",
     "output_type": "stream",
     "text": [
      "No improvement for 10 epoch(s).\n",
      "Early stopping triggered.\n",
      "Early stopping at epoch 30\n",
      "\n",
      "--- Train/Validation Summary ---\n",
      "mean_train_rmse: 35.5824\n",
      "mean_val_rmse: 50.1747\n",
      "mean_train_avg_mse: 1266.1089\n",
      "mean_val_avg_mse: 2517.5044\n",
      "Using standard train/validation approach instead of k-fold.\n",
      "Model: CombinedNet\n",
      "Input Dimension: 38\n",
      "Conv Configs: [(32, 5, 0), (32, 3, 0)]\n",
      "GRU Hidden Dim: 256\n",
      "FC Hidden Dim: 384\n",
      "Number of Heads: 3\n",
      "Number of Layers: 3\n",
      "Dropout Rate: 0.2300642996011126\n"
     ]
    },
    {
     "data": {
      "application/vnd.jupyter.widget-view+json": {
       "model_id": "29ff94f95ec34fd6b8f6280147e1e54d",
       "version_major": 2,
       "version_minor": 0
      },
      "text/plain": [
       "Training:   0%|          | 0/100 [00:00<?, ?batch/s]"
      ]
     },
     "metadata": {},
     "output_type": "display_data"
    },
    {
     "name": "stdout",
     "output_type": "stream",
     "text": [
      "No improvement for 1 epoch(s).\n",
      "No improvement for 2 epoch(s).\n",
      "No improvement for 3 epoch(s).\n",
      "No improvement for 1 epoch(s).\n",
      "No improvement for 2 epoch(s).\n",
      "No improvement for 3 epoch(s).\n",
      "No improvement for 1 epoch(s).\n",
      "No improvement for 2 epoch(s).\n",
      "No improvement for 3 epoch(s).\n",
      "No improvement for 4 epoch(s).\n",
      "No improvement for 5 epoch(s).\n",
      "No improvement for 6 epoch(s).\n",
      "No improvement for 7 epoch(s).\n",
      "No improvement for 8 epoch(s).\n",
      "No improvement for 9 epoch(s).\n"
     ]
    },
    {
     "name": "stderr",
     "output_type": "stream",
     "text": [
      "[I 2025-01-12 15:41:44,646] Trial 9 finished with value: 48.69872604051106 and parameters: {'fc_hidden_dim': 384, 'gru_hidden_dim': 256, 'num_layers': 3, 'num_heads': 3, 'dropout': 0.2300642996011126, 'lr': 0.004761410210606224, 'weight_decay': 1.4583763496454938e-05, 'conv_0_out_channels': 32, 'conv_0_kernel_size': 5, 'conv_0_padding': 0, 'conv_1_out_channels': 32, 'conv_1_kernel_size': 3, 'conv_1_padding': 0}. Best is trial 5 with value: 44.50249345630113.\n"
     ]
    },
    {
     "name": "stdout",
     "output_type": "stream",
     "text": [
      "No improvement for 10 epoch(s).\n",
      "Early stopping triggered.\n",
      "Early stopping at epoch 34\n",
      "\n",
      "--- Train/Validation Summary ---\n",
      "mean_train_rmse: 41.2842\n",
      "mean_val_rmse: 48.6987\n",
      "mean_train_avg_mse: 1704.3872\n",
      "mean_val_avg_mse: 2371.5659\n",
      "Using standard train/validation approach instead of k-fold.\n",
      "Model: CombinedNet\n",
      "Input Dimension: 38\n",
      "Conv Configs: [(256, 3, 1), (128, 1, 0)]\n",
      "GRU Hidden Dim: 512\n",
      "FC Hidden Dim: 256\n",
      "Number of Heads: 1\n",
      "Number of Layers: 4\n",
      "Dropout Rate: 0.1222370529972636\n"
     ]
    },
    {
     "data": {
      "application/vnd.jupyter.widget-view+json": {
       "model_id": "b095f01cb0ef45328566c7f21651806e",
       "version_major": 2,
       "version_minor": 0
      },
      "text/plain": [
       "Training:   0%|          | 0/100 [00:00<?, ?batch/s]"
      ]
     },
     "metadata": {},
     "output_type": "display_data"
    },
    {
     "name": "stdout",
     "output_type": "stream",
     "text": [
      "No improvement for 1 epoch(s).\n",
      "No improvement for 2 epoch(s).\n",
      "No improvement for 3 epoch(s).\n",
      "No improvement for 1 epoch(s).\n",
      "No improvement for 2 epoch(s).\n",
      "No improvement for 3 epoch(s).\n",
      "No improvement for 4 epoch(s).\n",
      "No improvement for 1 epoch(s).\n",
      "No improvement for 2 epoch(s).\n",
      "No improvement for 1 epoch(s).\n",
      "No improvement for 2 epoch(s).\n",
      "No improvement for 1 epoch(s).\n",
      "No improvement for 2 epoch(s).\n",
      "No improvement for 3 epoch(s).\n",
      "No improvement for 4 epoch(s).\n",
      "No improvement for 5 epoch(s).\n",
      "No improvement for 6 epoch(s).\n",
      "No improvement for 7 epoch(s).\n",
      "No improvement for 8 epoch(s).\n",
      "No improvement for 9 epoch(s).\n"
     ]
    },
    {
     "name": "stderr",
     "output_type": "stream",
     "text": [
      "[I 2025-01-12 15:42:51,652] Trial 10 finished with value: 48.527137321715415 and parameters: {'fc_hidden_dim': 256, 'gru_hidden_dim': 512, 'num_layers': 4, 'num_heads': 1, 'dropout': 0.1222370529972636, 'lr': 0.008945516023741523, 'weight_decay': 1.8067201332594753e-06, 'conv_0_out_channels': 256, 'conv_0_kernel_size': 3, 'conv_0_padding': 1, 'conv_1_out_channels': 128, 'conv_1_kernel_size': 1, 'conv_1_padding': 0}. Best is trial 5 with value: 44.50249345630113.\n"
     ]
    },
    {
     "name": "stdout",
     "output_type": "stream",
     "text": [
      "No improvement for 10 epoch(s).\n",
      "Early stopping triggered.\n",
      "Early stopping at epoch 36\n",
      "\n",
      "--- Train/Validation Summary ---\n",
      "mean_train_rmse: 40.1301\n",
      "mean_val_rmse: 48.5271\n",
      "mean_train_avg_mse: 1610.4268\n",
      "mean_val_avg_mse: 2354.8831\n",
      "Using standard train/validation approach instead of k-fold.\n",
      "Model: CombinedNet\n",
      "Input Dimension: 38\n",
      "Conv Configs: [(256, 3, 1), (128, 1, 0)]\n",
      "GRU Hidden Dim: 384\n",
      "FC Hidden Dim: 512\n",
      "Number of Heads: 1\n",
      "Number of Layers: 3\n",
      "Dropout Rate: 0.448294750592181\n"
     ]
    },
    {
     "data": {
      "application/vnd.jupyter.widget-view+json": {
       "model_id": "d414c4c8176942d3922679d106db4691",
       "version_major": 2,
       "version_minor": 0
      },
      "text/plain": [
       "Training:   0%|          | 0/100 [00:00<?, ?batch/s]"
      ]
     },
     "metadata": {},
     "output_type": "display_data"
    },
    {
     "name": "stdout",
     "output_type": "stream",
     "text": [
      "No improvement for 1 epoch(s).\n",
      "No improvement for 2 epoch(s).\n",
      "No improvement for 3 epoch(s).\n",
      "No improvement for 1 epoch(s).\n",
      "No improvement for 2 epoch(s).\n",
      "No improvement for 3 epoch(s).\n",
      "No improvement for 4 epoch(s).\n",
      "No improvement for 1 epoch(s).\n",
      "No improvement for 2 epoch(s).\n",
      "No improvement for 3 epoch(s).\n",
      "No improvement for 4 epoch(s).\n",
      "No improvement for 5 epoch(s).\n",
      "No improvement for 6 epoch(s).\n",
      "No improvement for 7 epoch(s).\n",
      "No improvement for 8 epoch(s).\n",
      "No improvement for 9 epoch(s).\n"
     ]
    },
    {
     "name": "stderr",
     "output_type": "stream",
     "text": [
      "[I 2025-01-12 15:43:50,154] Trial 11 finished with value: 47.12233704346061 and parameters: {'fc_hidden_dim': 512, 'gru_hidden_dim': 384, 'num_layers': 3, 'num_heads': 1, 'dropout': 0.448294750592181, 'lr': 0.004369441926725201, 'weight_decay': 3.725802649915875e-06, 'conv_0_out_channels': 256, 'conv_0_kernel_size': 3, 'conv_0_padding': 1, 'conv_1_out_channels': 128, 'conv_1_kernel_size': 1, 'conv_1_padding': 0}. Best is trial 5 with value: 44.50249345630113.\n"
     ]
    },
    {
     "name": "stdout",
     "output_type": "stream",
     "text": [
      "No improvement for 10 epoch(s).\n",
      "Early stopping triggered.\n",
      "Early stopping at epoch 32\n",
      "\n",
      "--- Train/Validation Summary ---\n",
      "mean_train_rmse: 40.4478\n",
      "mean_val_rmse: 47.1223\n",
      "mean_train_avg_mse: 1636.0247\n",
      "mean_val_avg_mse: 2220.5146\n",
      "Using standard train/validation approach instead of k-fold.\n",
      "Model: CombinedNet\n",
      "Input Dimension: 38\n",
      "Conv Configs: [(256, 3, 1), (128, 1, 0)]\n",
      "GRU Hidden Dim: 384\n",
      "FC Hidden Dim: 512\n",
      "Number of Heads: 3\n",
      "Number of Layers: 2\n",
      "Dropout Rate: 0.48871755355620344\n"
     ]
    },
    {
     "data": {
      "application/vnd.jupyter.widget-view+json": {
       "model_id": "6862cb1316644862ae63fa95b9f205e8",
       "version_major": 2,
       "version_minor": 0
      },
      "text/plain": [
       "Training:   0%|          | 0/100 [00:00<?, ?batch/s]"
      ]
     },
     "metadata": {},
     "output_type": "display_data"
    },
    {
     "name": "stdout",
     "output_type": "stream",
     "text": [
      "No improvement for 1 epoch(s).\n",
      "No improvement for 1 epoch(s).\n",
      "No improvement for 2 epoch(s).\n",
      "No improvement for 3 epoch(s).\n",
      "No improvement for 4 epoch(s).\n",
      "No improvement for 5 epoch(s).\n",
      "No improvement for 6 epoch(s).\n",
      "No improvement for 7 epoch(s).\n",
      "No improvement for 8 epoch(s).\n",
      "No improvement for 9 epoch(s).\n"
     ]
    },
    {
     "name": "stderr",
     "output_type": "stream",
     "text": [
      "[I 2025-01-12 15:44:29,200] Trial 12 finished with value: 47.746354368357274 and parameters: {'fc_hidden_dim': 512, 'gru_hidden_dim': 384, 'num_layers': 2, 'num_heads': 3, 'dropout': 0.48871755355620344, 'lr': 0.00352801526973864, 'weight_decay': 3.957477324482329e-06, 'conv_0_out_channels': 256, 'conv_0_kernel_size': 3, 'conv_0_padding': 1, 'conv_1_out_channels': 128, 'conv_1_kernel_size': 1, 'conv_1_padding': 0}. Best is trial 5 with value: 44.50249345630113.\n"
     ]
    },
    {
     "name": "stdout",
     "output_type": "stream",
     "text": [
      "No improvement for 10 epoch(s).\n",
      "Early stopping triggered.\n",
      "Early stopping at epoch 22\n",
      "\n",
      "--- Train/Validation Summary ---\n",
      "mean_train_rmse: 37.9700\n",
      "mean_val_rmse: 47.7464\n",
      "mean_train_avg_mse: 1441.7213\n",
      "mean_val_avg_mse: 2279.7144\n",
      "Using standard train/validation approach instead of k-fold.\n",
      "Model: CombinedNet\n",
      "Input Dimension: 38\n",
      "Conv Configs: [(256, 3, 1), (128, 1, 0)]\n",
      "GRU Hidden Dim: 384\n",
      "FC Hidden Dim: 256\n",
      "Number of Heads: 1\n",
      "Number of Layers: 4\n",
      "Dropout Rate: 0.123648300867001\n"
     ]
    },
    {
     "data": {
      "application/vnd.jupyter.widget-view+json": {
       "model_id": "e5f0a133d2c24e528813bb46f09b581e",
       "version_major": 2,
       "version_minor": 0
      },
      "text/plain": [
       "Training:   0%|          | 0/100 [00:00<?, ?batch/s]"
      ]
     },
     "metadata": {},
     "output_type": "display_data"
    },
    {
     "name": "stdout",
     "output_type": "stream",
     "text": [
      "No improvement for 1 epoch(s).\n",
      "No improvement for 2 epoch(s).\n",
      "No improvement for 3 epoch(s).\n",
      "No improvement for 4 epoch(s).\n",
      "No improvement for 5 epoch(s).\n",
      "No improvement for 6 epoch(s).\n",
      "No improvement for 7 epoch(s).\n",
      "No improvement for 8 epoch(s).\n",
      "No improvement for 9 epoch(s).\n"
     ]
    },
    {
     "name": "stderr",
     "output_type": "stream",
     "text": [
      "[I 2025-01-12 15:45:01,338] Trial 13 finished with value: 59.22049387274012 and parameters: {'fc_hidden_dim': 256, 'gru_hidden_dim': 384, 'num_layers': 4, 'num_heads': 1, 'dropout': 0.123648300867001, 'lr': 0.003476036410323297, 'weight_decay': 1.145365809034864e-06, 'conv_0_out_channels': 256, 'conv_0_kernel_size': 3, 'conv_0_padding': 1, 'conv_1_out_channels': 128, 'conv_1_kernel_size': 1, 'conv_1_padding': 0}. Best is trial 5 with value: 44.50249345630113.\n"
     ]
    },
    {
     "name": "stdout",
     "output_type": "stream",
     "text": [
      "No improvement for 10 epoch(s).\n",
      "Early stopping triggered.\n",
      "Early stopping at epoch 18\n",
      "\n",
      "--- Train/Validation Summary ---\n",
      "mean_train_rmse: 54.1530\n",
      "mean_val_rmse: 59.2205\n",
      "mean_train_avg_mse: 2932.5444\n",
      "mean_val_avg_mse: 3507.0669\n",
      "Using standard train/validation approach instead of k-fold.\n",
      "Model: CombinedNet\n",
      "Input Dimension: 38\n",
      "Conv Configs: [(256, 3, 1), (128, 1, 0)]\n",
      "GRU Hidden Dim: 448\n",
      "FC Hidden Dim: 128\n",
      "Number of Heads: 2\n",
      "Number of Layers: 3\n",
      "Dropout Rate: 0.4889543025788781\n"
     ]
    },
    {
     "data": {
      "application/vnd.jupyter.widget-view+json": {
       "model_id": "be1daa94191d44bb8aa300b5e76c6223",
       "version_major": 2,
       "version_minor": 0
      },
      "text/plain": [
       "Training:   0%|          | 0/100 [00:00<?, ?batch/s]"
      ]
     },
     "metadata": {},
     "output_type": "display_data"
    },
    {
     "name": "stdout",
     "output_type": "stream",
     "text": [
      "No improvement for 1 epoch(s).\n",
      "No improvement for 2 epoch(s).\n"
     ]
    },
    {
     "name": "stderr",
     "output_type": "stream",
     "text": [
      "[I 2025-01-12 15:46:36,152] Trial 14 finished with value: 45.08606678308444 and parameters: {'fc_hidden_dim': 128, 'gru_hidden_dim': 448, 'num_layers': 3, 'num_heads': 2, 'dropout': 0.4889543025788781, 'lr': 0.0004170398518315945, 'weight_decay': 5.187778309581285e-06, 'conv_0_out_channels': 256, 'conv_0_kernel_size': 3, 'conv_0_padding': 1, 'conv_1_out_channels': 128, 'conv_1_kernel_size': 1, 'conv_1_padding': 0}. Best is trial 5 with value: 44.50249345630113.\n"
     ]
    },
    {
     "name": "stdout",
     "output_type": "stream",
     "text": [
      "\n",
      "--- Train/Validation Summary ---\n",
      "mean_train_rmse: 40.2973\n",
      "mean_val_rmse: 45.0861\n",
      "mean_train_avg_mse: 1623.8748\n",
      "mean_val_avg_mse: 2032.7534\n",
      "Using standard train/validation approach instead of k-fold.\n",
      "Model: CombinedNet\n",
      "Input Dimension: 38\n",
      "Conv Configs: [(256, 3, 1), (128, 1, 0)]\n",
      "GRU Hidden Dim: 512\n",
      "FC Hidden Dim: 128\n",
      "Number of Heads: 3\n",
      "Number of Layers: 2\n",
      "Dropout Rate: 0.2650520782299964\n"
     ]
    },
    {
     "data": {
      "application/vnd.jupyter.widget-view+json": {
       "model_id": "19f7d02ab3b4494b968389832b2f7817",
       "version_major": 2,
       "version_minor": 0
      },
      "text/plain": [
       "Training:   0%|          | 0/100 [00:00<?, ?batch/s]"
      ]
     },
     "metadata": {},
     "output_type": "display_data"
    },
    {
     "name": "stdout",
     "output_type": "stream",
     "text": [
      "No improvement for 1 epoch(s).\n",
      "No improvement for 2 epoch(s).\n",
      "No improvement for 3 epoch(s).\n",
      "No improvement for 4 epoch(s).\n",
      "No improvement for 5 epoch(s).\n",
      "No improvement for 6 epoch(s).\n",
      "No improvement for 7 epoch(s).\n",
      "No improvement for 8 epoch(s).\n"
     ]
    },
    {
     "name": "stderr",
     "output_type": "stream",
     "text": [
      "[I 2025-01-12 15:48:29,148] Trial 15 finished with value: 46.769490631246455 and parameters: {'fc_hidden_dim': 128, 'gru_hidden_dim': 512, 'num_layers': 2, 'num_heads': 3, 'dropout': 0.2650520782299964, 'lr': 0.0004019742421679159, 'weight_decay': 6.096610415148787e-06, 'conv_0_out_channels': 256, 'conv_0_kernel_size': 3, 'conv_0_padding': 1, 'conv_1_out_channels': 128, 'conv_1_kernel_size': 1, 'conv_1_padding': 0}. Best is trial 5 with value: 44.50249345630113.\n"
     ]
    },
    {
     "name": "stdout",
     "output_type": "stream",
     "text": [
      "No improvement for 9 epoch(s).\n",
      "\n",
      "--- Train/Validation Summary ---\n",
      "mean_train_rmse: 34.0606\n",
      "mean_val_rmse: 46.7695\n",
      "mean_train_avg_mse: 1160.1272\n",
      "mean_val_avg_mse: 2187.3853\n",
      "Using standard train/validation approach instead of k-fold.\n",
      "Model: CombinedNet\n",
      "Input Dimension: 38\n",
      "Conv Configs: [(256, 3, 1), (128, 3, 1)]\n",
      "GRU Hidden Dim: 448\n",
      "FC Hidden Dim: 192\n",
      "Number of Heads: 2\n",
      "Number of Layers: 4\n",
      "Dropout Rate: 0.16177111898263913\n"
     ]
    },
    {
     "data": {
      "application/vnd.jupyter.widget-view+json": {
       "model_id": "9691e2f69828420592bc96396e311f82",
       "version_major": 2,
       "version_minor": 0
      },
      "text/plain": [
       "Training:   0%|          | 0/100 [00:00<?, ?batch/s]"
      ]
     },
     "metadata": {},
     "output_type": "display_data"
    },
    {
     "name": "stdout",
     "output_type": "stream",
     "text": [
      "No improvement for 1 epoch(s).\n",
      "No improvement for 2 epoch(s).\n",
      "No improvement for 3 epoch(s).\n",
      "No improvement for 4 epoch(s).\n",
      "No improvement for 5 epoch(s).\n",
      "No improvement for 6 epoch(s).\n",
      "No improvement for 7 epoch(s).\n",
      "No improvement for 1 epoch(s).\n"
     ]
    },
    {
     "name": "stderr",
     "output_type": "stream",
     "text": [
      "[I 2025-01-12 15:50:07,278] Trial 16 finished with value: 45.8245422440312 and parameters: {'fc_hidden_dim': 192, 'gru_hidden_dim': 448, 'num_layers': 4, 'num_heads': 2, 'dropout': 0.16177111898263913, 'lr': 0.00047314184749468104, 'weight_decay': 6.215414055704959e-06, 'conv_0_out_channels': 256, 'conv_0_kernel_size': 3, 'conv_0_padding': 1, 'conv_1_out_channels': 128, 'conv_1_kernel_size': 3, 'conv_1_padding': 1}. Best is trial 5 with value: 44.50249345630113.\n"
     ]
    },
    {
     "name": "stdout",
     "output_type": "stream",
     "text": [
      "No improvement for 1 epoch(s).\n",
      "\n",
      "--- Train/Validation Summary ---\n",
      "mean_train_rmse: 38.9554\n",
      "mean_val_rmse: 45.8245\n",
      "mean_train_avg_mse: 1517.5262\n",
      "mean_val_avg_mse: 2099.8887\n",
      "Using standard train/validation approach instead of k-fold.\n",
      "Model: CombinedNet\n",
      "Input Dimension: 38\n",
      "Conv Configs: [(256, 5, 2), (128, 1, 0)]\n",
      "GRU Hidden Dim: 448\n",
      "FC Hidden Dim: 128\n",
      "Number of Heads: 3\n",
      "Number of Layers: 3\n",
      "Dropout Rate: 0.37953224042502137\n"
     ]
    },
    {
     "data": {
      "application/vnd.jupyter.widget-view+json": {
       "model_id": "f7bc94616a664450a57337ec985163ce",
       "version_major": 2,
       "version_minor": 0
      },
      "text/plain": [
       "Training:   0%|          | 0/100 [00:00<?, ?batch/s]"
      ]
     },
     "metadata": {},
     "output_type": "display_data"
    },
    {
     "name": "stderr",
     "output_type": "stream",
     "text": [
      "[I 2025-01-12 15:51:44,770] Trial 17 finished with value: 73.15331649927944 and parameters: {'fc_hidden_dim': 128, 'gru_hidden_dim': 448, 'num_layers': 3, 'num_heads': 3, 'dropout': 0.37953224042502137, 'lr': 0.00011968620526055997, 'weight_decay': 1.0815110817847457e-06, 'conv_0_out_channels': 256, 'conv_0_kernel_size': 5, 'conv_0_padding': 2, 'conv_1_out_channels': 128, 'conv_1_kernel_size': 1, 'conv_1_padding': 0}. Best is trial 5 with value: 44.50249345630113.\n"
     ]
    },
    {
     "name": "stdout",
     "output_type": "stream",
     "text": [
      "\n",
      "--- Train/Validation Summary ---\n",
      "mean_train_rmse: 71.0854\n",
      "mean_val_rmse: 73.1533\n",
      "mean_train_avg_mse: 5053.1364\n",
      "mean_val_avg_mse: 5351.4077\n",
      "Using standard train/validation approach instead of k-fold.\n",
      "Model: CombinedNet\n",
      "Input Dimension: 38\n",
      "Conv Configs: [(256, 3, 1), (64, 3, 1)]\n",
      "GRU Hidden Dim: 512\n",
      "FC Hidden Dim: 256\n",
      "Number of Heads: 2\n",
      "Number of Layers: 4\n",
      "Dropout Rate: 0.4971787332372757\n"
     ]
    },
    {
     "data": {
      "application/vnd.jupyter.widget-view+json": {
       "model_id": "13ccd277e826427c94968dfb5fd1e67a",
       "version_major": 2,
       "version_minor": 0
      },
      "text/plain": [
       "Training:   0%|          | 0/100 [00:00<?, ?batch/s]"
      ]
     },
     "metadata": {},
     "output_type": "display_data"
    },
    {
     "name": "stdout",
     "output_type": "stream",
     "text": [
      "No improvement for 1 epoch(s).\n",
      "No improvement for 2 epoch(s).\n",
      "No improvement for 3 epoch(s).\n",
      "No improvement for 4 epoch(s).\n",
      "No improvement for 5 epoch(s).\n",
      "No improvement for 6 epoch(s).\n",
      "No improvement for 7 epoch(s).\n",
      "No improvement for 8 epoch(s).\n",
      "No improvement for 9 epoch(s).\n"
     ]
    },
    {
     "name": "stderr",
     "output_type": "stream",
     "text": [
      "[I 2025-01-12 15:52:36,687] Trial 18 finished with value: 52.68989791029088 and parameters: {'fc_hidden_dim': 256, 'gru_hidden_dim': 512, 'num_layers': 4, 'num_heads': 2, 'dropout': 0.4971787332372757, 'lr': 0.0006785842831443385, 'weight_decay': 2.2214836008077734e-06, 'conv_0_out_channels': 256, 'conv_0_kernel_size': 3, 'conv_0_padding': 1, 'conv_1_out_channels': 64, 'conv_1_kernel_size': 3, 'conv_1_padding': 1}. Best is trial 5 with value: 44.50249345630113.\n"
     ]
    },
    {
     "name": "stdout",
     "output_type": "stream",
     "text": [
      "No improvement for 10 epoch(s).\n",
      "Early stopping triggered.\n",
      "Early stopping at epoch 28\n",
      "\n",
      "--- Train/Validation Summary ---\n",
      "mean_train_rmse: 45.5869\n",
      "mean_val_rmse: 52.6899\n",
      "mean_train_avg_mse: 2078.1641\n",
      "mean_val_avg_mse: 2776.2253\n",
      "Using standard train/validation approach instead of k-fold.\n",
      "Model: CombinedNet\n",
      "Input Dimension: 38\n",
      "Conv Configs: [(64, 1, 0), (256, 1, 0)]\n",
      "GRU Hidden Dim: 384\n",
      "FC Hidden Dim: 192\n",
      "Number of Heads: 3\n",
      "Number of Layers: 3\n",
      "Dropout Rate: 0.349207330929876\n"
     ]
    },
    {
     "data": {
      "application/vnd.jupyter.widget-view+json": {
       "model_id": "fed29c5729cd4d9f97aefe8959ada3b2",
       "version_major": 2,
       "version_minor": 0
      },
      "text/plain": [
       "Training:   0%|          | 0/100 [00:00<?, ?batch/s]"
      ]
     },
     "metadata": {},
     "output_type": "display_data"
    },
    {
     "name": "stdout",
     "output_type": "stream",
     "text": [
      "No improvement for 1 epoch(s).\n",
      "No improvement for 2 epoch(s).\n",
      "No improvement for 1 epoch(s).\n",
      "No improvement for 1 epoch(s).\n",
      "No improvement for 2 epoch(s).\n",
      "No improvement for 3 epoch(s).\n",
      "No improvement for 4 epoch(s).\n",
      "No improvement for 5 epoch(s).\n",
      "No improvement for 6 epoch(s).\n",
      "No improvement for 7 epoch(s).\n",
      "No improvement for 8 epoch(s).\n",
      "No improvement for 9 epoch(s).\n"
     ]
    },
    {
     "name": "stderr",
     "output_type": "stream",
     "text": [
      "[I 2025-01-12 15:53:21,772] Trial 19 finished with value: 51.968620809370385 and parameters: {'fc_hidden_dim': 192, 'gru_hidden_dim': 384, 'num_layers': 3, 'num_heads': 3, 'dropout': 0.349207330929876, 'lr': 0.0024776291084697916, 'weight_decay': 4.542772456408118e-06, 'conv_0_out_channels': 64, 'conv_0_kernel_size': 1, 'conv_0_padding': 0, 'conv_1_out_channels': 256, 'conv_1_kernel_size': 1, 'conv_1_padding': 0}. Best is trial 5 with value: 44.50249345630113.\n"
     ]
    },
    {
     "name": "stdout",
     "output_type": "stream",
     "text": [
      "No improvement for 10 epoch(s).\n",
      "Early stopping triggered.\n",
      "Early stopping at epoch 24\n",
      "\n",
      "--- Train/Validation Summary ---\n",
      "mean_train_rmse: 34.3067\n",
      "mean_val_rmse: 51.9686\n",
      "mean_train_avg_mse: 1176.9479\n",
      "mean_val_avg_mse: 2700.7375\n",
      "Using standard train/validation approach instead of k-fold.\n",
      "Model: CombinedNet\n",
      "Input Dimension: 38\n",
      "Conv Configs: [(256, 3, 1), (128, 3, 1)]\n",
      "GRU Hidden Dim: 320\n",
      "FC Hidden Dim: 128\n",
      "Number of Heads: 2\n",
      "Number of Layers: 2\n",
      "Dropout Rate: 0.2539070007933281\n"
     ]
    },
    {
     "data": {
      "application/vnd.jupyter.widget-view+json": {
       "model_id": "443a09ce096041f0808b2242501b0a46",
       "version_major": 2,
       "version_minor": 0
      },
      "text/plain": [
       "Training:   0%|          | 0/100 [00:00<?, ?batch/s]"
      ]
     },
     "metadata": {},
     "output_type": "display_data"
    },
    {
     "name": "stdout",
     "output_type": "stream",
     "text": [
      "No improvement for 1 epoch(s).\n",
      "No improvement for 1 epoch(s).\n",
      "No improvement for 2 epoch(s).\n",
      "No improvement for 3 epoch(s).\n",
      "No improvement for 4 epoch(s).\n",
      "No improvement for 5 epoch(s).\n",
      "No improvement for 6 epoch(s).\n",
      "No improvement for 7 epoch(s).\n",
      "No improvement for 8 epoch(s).\n",
      "No improvement for 9 epoch(s).\n"
     ]
    },
    {
     "name": "stderr",
     "output_type": "stream",
     "text": [
      "[I 2025-01-12 15:54:41,866] Trial 20 finished with value: 49.734001922885966 and parameters: {'fc_hidden_dim': 128, 'gru_hidden_dim': 320, 'num_layers': 2, 'num_heads': 2, 'dropout': 0.2539070007933281, 'lr': 0.0010056906901526113, 'weight_decay': 2.543902006970262e-05, 'conv_0_out_channels': 256, 'conv_0_kernel_size': 3, 'conv_0_padding': 1, 'conv_1_out_channels': 128, 'conv_1_kernel_size': 3, 'conv_1_padding': 1}. Best is trial 5 with value: 44.50249345630113.\n"
     ]
    },
    {
     "name": "stdout",
     "output_type": "stream",
     "text": [
      "No improvement for 10 epoch(s).\n",
      "Early stopping triggered.\n",
      "Early stopping at epoch 42\n",
      "\n",
      "--- Train/Validation Summary ---\n",
      "mean_train_rmse: 29.0811\n",
      "mean_val_rmse: 49.7340\n",
      "mean_train_avg_mse: 845.7098\n",
      "mean_val_avg_mse: 2473.4709\n",
      "Using standard train/validation approach instead of k-fold.\n",
      "Model: CombinedNet\n",
      "Input Dimension: 38\n",
      "Conv Configs: [(256, 3, 1), (128, 3, 1)]\n",
      "GRU Hidden Dim: 448\n",
      "FC Hidden Dim: 192\n",
      "Number of Heads: 2\n",
      "Number of Layers: 4\n",
      "Dropout Rate: 0.16321401137855132\n"
     ]
    },
    {
     "data": {
      "application/vnd.jupyter.widget-view+json": {
       "model_id": "77e01700d6b841358e464c21b432adbd",
       "version_major": 2,
       "version_minor": 0
      },
      "text/plain": [
       "Training:   0%|          | 0/100 [00:00<?, ?batch/s]"
      ]
     },
     "metadata": {},
     "output_type": "display_data"
    },
    {
     "name": "stdout",
     "output_type": "stream",
     "text": [
      "No improvement for 1 epoch(s).\n",
      "No improvement for 2 epoch(s).\n",
      "No improvement for 3 epoch(s).\n",
      "No improvement for 4 epoch(s).\n",
      "No improvement for 5 epoch(s).\n",
      "No improvement for 6 epoch(s).\n",
      "No improvement for 7 epoch(s).\n",
      "No improvement for 8 epoch(s).\n",
      "No improvement for 9 epoch(s).\n"
     ]
    },
    {
     "name": "stderr",
     "output_type": "stream",
     "text": [
      "[I 2025-01-12 15:56:14,988] Trial 21 finished with value: 46.82184486166687 and parameters: {'fc_hidden_dim': 192, 'gru_hidden_dim': 448, 'num_layers': 4, 'num_heads': 2, 'dropout': 0.16321401137855132, 'lr': 0.000409554301670994, 'weight_decay': 6.724396774746717e-06, 'conv_0_out_channels': 256, 'conv_0_kernel_size': 3, 'conv_0_padding': 1, 'conv_1_out_channels': 128, 'conv_1_kernel_size': 3, 'conv_1_padding': 1}. Best is trial 5 with value: 44.50249345630113.\n"
     ]
    },
    {
     "name": "stdout",
     "output_type": "stream",
     "text": [
      "No improvement for 10 epoch(s).\n",
      "Early stopping triggered.\n",
      "Early stopping at epoch 48\n",
      "\n",
      "--- Train/Validation Summary ---\n",
      "mean_train_rmse: 41.2644\n",
      "mean_val_rmse: 46.8218\n",
      "mean_train_avg_mse: 1702.7529\n",
      "mean_val_avg_mse: 2192.2852\n",
      "Using standard train/validation approach instead of k-fold.\n",
      "Model: CombinedNet\n",
      "Input Dimension: 38\n",
      "Conv Configs: [(256, 3, 1), (128, 3, 1)]\n",
      "GRU Hidden Dim: 448\n",
      "FC Hidden Dim: 192\n",
      "Number of Heads: 2\n",
      "Number of Layers: 4\n",
      "Dropout Rate: 0.15481907802699485\n"
     ]
    },
    {
     "data": {
      "application/vnd.jupyter.widget-view+json": {
       "model_id": "b9bb530ec72b4167a2cf06a3dcb89078",
       "version_major": 2,
       "version_minor": 0
      },
      "text/plain": [
       "Training:   0%|          | 0/100 [00:00<?, ?batch/s]"
      ]
     },
     "metadata": {},
     "output_type": "display_data"
    },
    {
     "name": "stdout",
     "output_type": "stream",
     "text": [
      "No improvement for 1 epoch(s).\n",
      "No improvement for 2 epoch(s).\n",
      "No improvement for 1 epoch(s).\n",
      "No improvement for 1 epoch(s).\n",
      "No improvement for 2 epoch(s).\n",
      "No improvement for 1 epoch(s).\n",
      "No improvement for 1 epoch(s).\n",
      "No improvement for 1 epoch(s).\n",
      "No improvement for 2 epoch(s).\n",
      "No improvement for 3 epoch(s).\n",
      "No improvement for 4 epoch(s).\n",
      "No improvement for 5 epoch(s).\n",
      "No improvement for 6 epoch(s).\n",
      "No improvement for 7 epoch(s).\n",
      "No improvement for 8 epoch(s).\n",
      "No improvement for 9 epoch(s).\n"
     ]
    },
    {
     "name": "stderr",
     "output_type": "stream",
     "text": [
      "[I 2025-01-12 15:57:49,509] Trial 22 finished with value: 48.57036465032587 and parameters: {'fc_hidden_dim': 192, 'gru_hidden_dim': 448, 'num_layers': 4, 'num_heads': 2, 'dropout': 0.15481907802699485, 'lr': 0.0005675532389125537, 'weight_decay': 2.9122083244373163e-06, 'conv_0_out_channels': 256, 'conv_0_kernel_size': 3, 'conv_0_padding': 1, 'conv_1_out_channels': 128, 'conv_1_kernel_size': 3, 'conv_1_padding': 1}. Best is trial 5 with value: 44.50249345630113.\n"
     ]
    },
    {
     "name": "stdout",
     "output_type": "stream",
     "text": [
      "No improvement for 10 epoch(s).\n",
      "Early stopping triggered.\n",
      "Early stopping at epoch 50\n",
      "\n",
      "--- Train/Validation Summary ---\n",
      "mean_train_rmse: 33.7578\n",
      "mean_val_rmse: 48.5704\n",
      "mean_train_avg_mse: 1139.5864\n",
      "mean_val_avg_mse: 2359.0803\n",
      "Using standard train/validation approach instead of k-fold.\n",
      "Model: CombinedNet\n",
      "Input Dimension: 38\n",
      "Conv Configs: [(256, 3, 1), (128, 1, 0)]\n",
      "GRU Hidden Dim: 512\n",
      "FC Hidden Dim: 256\n",
      "Number of Heads: 2\n",
      "Number of Layers: 4\n",
      "Dropout Rate: 0.15985126549566595\n"
     ]
    },
    {
     "data": {
      "application/vnd.jupyter.widget-view+json": {
       "model_id": "f3fa907f76c946cc864973344e2bd5c8",
       "version_major": 2,
       "version_minor": 0
      },
      "text/plain": [
       "Training:   0%|          | 0/100 [00:00<?, ?batch/s]"
      ]
     },
     "metadata": {},
     "output_type": "display_data"
    },
    {
     "name": "stdout",
     "output_type": "stream",
     "text": [
      "No improvement for 1 epoch(s).\n",
      "No improvement for 2 epoch(s).\n",
      "No improvement for 3 epoch(s).\n",
      "No improvement for 1 epoch(s).\n",
      "No improvement for 1 epoch(s).\n"
     ]
    },
    {
     "name": "stderr",
     "output_type": "stream",
     "text": [
      "[I 2025-01-12 15:59:25,888] Trial 23 finished with value: 46.44406603142376 and parameters: {'fc_hidden_dim': 256, 'gru_hidden_dim': 512, 'num_layers': 4, 'num_heads': 2, 'dropout': 0.15985126549566595, 'lr': 0.0002236960840583403, 'weight_decay': 6.293516122496318e-06, 'conv_0_out_channels': 256, 'conv_0_kernel_size': 3, 'conv_0_padding': 1, 'conv_1_out_channels': 128, 'conv_1_kernel_size': 1, 'conv_1_padding': 0}. Best is trial 5 with value: 44.50249345630113.\n"
     ]
    },
    {
     "name": "stdout",
     "output_type": "stream",
     "text": [
      "No improvement for 2 epoch(s).\n",
      "\n",
      "--- Train/Validation Summary ---\n",
      "mean_train_rmse: 40.7783\n",
      "mean_val_rmse: 46.4441\n",
      "mean_train_avg_mse: 1662.8691\n",
      "mean_val_avg_mse: 2157.0513\n",
      "Using standard train/validation approach instead of k-fold.\n",
      "Model: CombinedNet\n",
      "Input Dimension: 38\n",
      "Conv Configs: [(256, 3, 1), (128, 1, 0)]\n",
      "GRU Hidden Dim: 448\n",
      "FC Hidden Dim: 320\n",
      "Number of Heads: 3\n",
      "Number of Layers: 3\n",
      "Dropout Rate: 0.11216341207534461\n"
     ]
    },
    {
     "data": {
      "application/vnd.jupyter.widget-view+json": {
       "model_id": "72c60fd51dfd48cfbdd516043cf3ac38",
       "version_major": 2,
       "version_minor": 0
      },
      "text/plain": [
       "Training:   0%|          | 0/100 [00:00<?, ?batch/s]"
      ]
     },
     "metadata": {},
     "output_type": "display_data"
    },
    {
     "name": "stdout",
     "output_type": "stream",
     "text": [
      "No improvement for 1 epoch(s).\n",
      "No improvement for 2 epoch(s).\n",
      "No improvement for 3 epoch(s).\n",
      "No improvement for 1 epoch(s).\n",
      "No improvement for 2 epoch(s).\n",
      "No improvement for 3 epoch(s).\n",
      "No improvement for 4 epoch(s).\n",
      "No improvement for 5 epoch(s).\n",
      "No improvement for 6 epoch(s).\n",
      "No improvement for 7 epoch(s).\n",
      "No improvement for 8 epoch(s).\n",
      "No improvement for 9 epoch(s).\n"
     ]
    },
    {
     "name": "stderr",
     "output_type": "stream",
     "text": [
      "[I 2025-01-12 16:00:39,262] Trial 24 finished with value: 46.58604165781581 and parameters: {'fc_hidden_dim': 320, 'gru_hidden_dim': 448, 'num_layers': 3, 'num_heads': 3, 'dropout': 0.11216341207534461, 'lr': 0.00038295958124260054, 'weight_decay': 8.285581031546726e-06, 'conv_0_out_channels': 256, 'conv_0_kernel_size': 3, 'conv_0_padding': 1, 'conv_1_out_channels': 128, 'conv_1_kernel_size': 1, 'conv_1_padding': 0}. Best is trial 5 with value: 44.50249345630113.\n"
     ]
    },
    {
     "name": "stdout",
     "output_type": "stream",
     "text": [
      "No improvement for 10 epoch(s).\n",
      "Early stopping triggered.\n",
      "Early stopping at epoch 39\n",
      "\n",
      "--- Train/Validation Summary ---\n",
      "mean_train_rmse: 34.1510\n",
      "mean_val_rmse: 46.5860\n",
      "mean_train_avg_mse: 1166.2922\n",
      "mean_val_avg_mse: 2170.2593\n",
      "Using standard train/validation approach instead of k-fold.\n",
      "Model: CombinedNet\n",
      "Input Dimension: 38\n",
      "Conv Configs: [(256, 5, 2), (128, 3, 1)]\n",
      "GRU Hidden Dim: 512\n",
      "FC Hidden Dim: 128\n",
      "Number of Heads: 2\n",
      "Number of Layers: 4\n",
      "Dropout Rate: 0.10366117298678484\n"
     ]
    },
    {
     "data": {
      "application/vnd.jupyter.widget-view+json": {
       "model_id": "4333c6616b8a4f34bf5f841df7440cf8",
       "version_major": 2,
       "version_minor": 0
      },
      "text/plain": [
       "Training:   0%|          | 0/100 [00:00<?, ?batch/s]"
      ]
     },
     "metadata": {},
     "output_type": "display_data"
    },
    {
     "name": "stdout",
     "output_type": "stream",
     "text": [
      "No improvement for 1 epoch(s).\n",
      "No improvement for 2 epoch(s).\n",
      "No improvement for 3 epoch(s).\n",
      "No improvement for 4 epoch(s).\n",
      "No improvement for 1 epoch(s).\n",
      "No improvement for 1 epoch(s).\n",
      "No improvement for 2 epoch(s).\n",
      "No improvement for 3 epoch(s).\n",
      "No improvement for 1 epoch(s).\n",
      "No improvement for 2 epoch(s).\n",
      "No improvement for 3 epoch(s).\n",
      "No improvement for 4 epoch(s).\n",
      "No improvement for 5 epoch(s).\n",
      "No improvement for 1 epoch(s).\n",
      "No improvement for 2 epoch(s).\n",
      "No improvement for 3 epoch(s).\n",
      "No improvement for 4 epoch(s).\n",
      "No improvement for 5 epoch(s).\n",
      "No improvement for 6 epoch(s).\n",
      "No improvement for 7 epoch(s).\n",
      "No improvement for 8 epoch(s).\n",
      "No improvement for 9 epoch(s).\n"
     ]
    },
    {
     "name": "stderr",
     "output_type": "stream",
     "text": [
      "[I 2025-01-12 16:02:15,759] Trial 25 finished with value: 50.39605348666947 and parameters: {'fc_hidden_dim': 128, 'gru_hidden_dim': 512, 'num_layers': 4, 'num_heads': 2, 'dropout': 0.10366117298678484, 'lr': 0.0011448434711528763, 'weight_decay': 1.8337813531354426e-06, 'conv_0_out_channels': 256, 'conv_0_kernel_size': 5, 'conv_0_padding': 2, 'conv_1_out_channels': 128, 'conv_1_kernel_size': 3, 'conv_1_padding': 1}. Best is trial 5 with value: 44.50249345630113.\n"
     ]
    },
    {
     "name": "stdout",
     "output_type": "stream",
     "text": [
      "No improvement for 10 epoch(s).\n",
      "Early stopping triggered.\n",
      "Early stopping at epoch 50\n",
      "\n",
      "--- Train/Validation Summary ---\n",
      "mean_train_rmse: 40.2362\n",
      "mean_val_rmse: 50.3961\n",
      "mean_train_avg_mse: 1618.9528\n",
      "mean_val_avg_mse: 2539.7622\n",
      "Using standard train/validation approach instead of k-fold.\n",
      "Model: CombinedNet\n",
      "Input Dimension: 38\n",
      "Conv Configs: [(256, 1, 0), (128, 1, 0)]\n",
      "GRU Hidden Dim: 384\n",
      "FC Hidden Dim: 320\n",
      "Number of Heads: 1\n",
      "Number of Layers: 3\n",
      "Dropout Rate: 0.19520746894980376\n"
     ]
    },
    {
     "data": {
      "application/vnd.jupyter.widget-view+json": {
       "model_id": "d1cc65c3409840a5a6218bbd9b6886d1",
       "version_major": 2,
       "version_minor": 0
      },
      "text/plain": [
       "Training:   0%|          | 0/100 [00:00<?, ?batch/s]"
      ]
     },
     "metadata": {},
     "output_type": "display_data"
    },
    {
     "name": "stderr",
     "output_type": "stream",
     "text": [
      "[I 2025-01-12 16:03:51,393] Trial 26 finished with value: 88.13991451805475 and parameters: {'fc_hidden_dim': 320, 'gru_hidden_dim': 384, 'num_layers': 3, 'num_heads': 1, 'dropout': 0.19520746894980376, 'lr': 0.00013466365721013005, 'weight_decay': 4.321552723467881e-06, 'conv_0_out_channels': 256, 'conv_0_kernel_size': 1, 'conv_0_padding': 0, 'conv_1_out_channels': 128, 'conv_1_kernel_size': 1, 'conv_1_padding': 0}. Best is trial 5 with value: 44.50249345630113.\n"
     ]
    },
    {
     "name": "stdout",
     "output_type": "stream",
     "text": [
      "\n",
      "--- Train/Validation Summary ---\n",
      "mean_train_rmse: 85.7478\n",
      "mean_val_rmse: 88.1399\n",
      "mean_train_avg_mse: 7352.6864\n",
      "mean_val_avg_mse: 7768.6445\n",
      "Using standard train/validation approach instead of k-fold.\n",
      "Model: CombinedNet\n",
      "Input Dimension: 38\n",
      "Conv Configs: [(64, 3, 1), (256, 3, 1)]\n",
      "GRU Hidden Dim: 256\n",
      "FC Hidden Dim: 192\n",
      "Number of Heads: 3\n",
      "Number of Layers: 4\n",
      "Dropout Rate: 0.14228781651260933\n"
     ]
    },
    {
     "data": {
      "application/vnd.jupyter.widget-view+json": {
       "model_id": "1d8b6e9cb4d648d9b6c04d5c8da14b97",
       "version_major": 2,
       "version_minor": 0
      },
      "text/plain": [
       "Training:   0%|          | 0/100 [00:00<?, ?batch/s]"
      ]
     },
     "metadata": {},
     "output_type": "display_data"
    },
    {
     "name": "stdout",
     "output_type": "stream",
     "text": [
      "No improvement for 1 epoch(s).\n"
     ]
    },
    {
     "name": "stderr",
     "output_type": "stream",
     "text": [
      "[I 2025-01-12 16:05:28,274] Trial 27 finished with value: 45.863918535571074 and parameters: {'fc_hidden_dim': 192, 'gru_hidden_dim': 256, 'num_layers': 4, 'num_heads': 3, 'dropout': 0.14228781651260933, 'lr': 0.00029188684622527235, 'weight_decay': 1.5178317118519907e-06, 'conv_0_out_channels': 64, 'conv_0_kernel_size': 3, 'conv_0_padding': 1, 'conv_1_out_channels': 256, 'conv_1_kernel_size': 3, 'conv_1_padding': 1}. Best is trial 5 with value: 44.50249345630113.\n"
     ]
    },
    {
     "name": "stdout",
     "output_type": "stream",
     "text": [
      "\n",
      "--- Train/Validation Summary ---\n",
      "mean_train_rmse: 39.7415\n",
      "mean_val_rmse: 45.8639\n",
      "mean_train_avg_mse: 1579.3856\n",
      "mean_val_avg_mse: 2103.4990\n",
      "Using standard train/validation approach instead of k-fold.\n",
      "Model: CombinedNet\n",
      "Input Dimension: 38\n",
      "Conv Configs: [(128, 3, 1), (64, 1, 0)]\n",
      "GRU Hidden Dim: 448\n",
      "FC Hidden Dim: 128\n",
      "Number of Heads: 4\n",
      "Number of Layers: 4\n",
      "Dropout Rate: 0.30455394668263813\n"
     ]
    },
    {
     "data": {
      "application/vnd.jupyter.widget-view+json": {
       "model_id": "ef05efdd83e6489faf7ef5b5fd4ef7fb",
       "version_major": 2,
       "version_minor": 0
      },
      "text/plain": [
       "Training:   0%|          | 0/100 [00:00<?, ?batch/s]"
      ]
     },
     "metadata": {},
     "output_type": "display_data"
    },
    {
     "name": "stdout",
     "output_type": "stream",
     "text": [
      "No improvement for 1 epoch(s).\n",
      "No improvement for 2 epoch(s).\n",
      "No improvement for 3 epoch(s).\n",
      "No improvement for 4 epoch(s).\n",
      "No improvement for 5 epoch(s).\n",
      "No improvement for 6 epoch(s).\n",
      "No improvement for 7 epoch(s).\n",
      "No improvement for 8 epoch(s).\n",
      "No improvement for 9 epoch(s).\n"
     ]
    },
    {
     "name": "stderr",
     "output_type": "stream",
     "text": [
      "[I 2025-01-12 16:06:34,032] Trial 28 finished with value: 47.3024598205857 and parameters: {'fc_hidden_dim': 128, 'gru_hidden_dim': 448, 'num_layers': 4, 'num_heads': 4, 'dropout': 0.30455394668263813, 'lr': 0.0005466755170754802, 'weight_decay': 2.7424640392446507e-06, 'conv_0_out_channels': 128, 'conv_0_kernel_size': 3, 'conv_0_padding': 1, 'conv_1_out_channels': 64, 'conv_1_kernel_size': 1, 'conv_1_padding': 0}. Best is trial 5 with value: 44.50249345630113.\n"
     ]
    },
    {
     "name": "stdout",
     "output_type": "stream",
     "text": [
      "No improvement for 10 epoch(s).\n",
      "Early stopping triggered.\n",
      "Early stopping at epoch 32\n",
      "\n",
      "--- Train/Validation Summary ---\n",
      "mean_train_rmse: 42.9440\n",
      "mean_val_rmse: 47.3025\n",
      "mean_train_avg_mse: 1844.1899\n",
      "mean_val_avg_mse: 2237.5227\n",
      "Using standard train/validation approach instead of k-fold.\n",
      "Model: CombinedNet\n",
      "Input Dimension: 38\n",
      "Conv Configs: [(64, 1, 0), (256, 3, 1)]\n",
      "GRU Hidden Dim: 512\n",
      "FC Hidden Dim: 192\n",
      "Number of Heads: 4\n",
      "Number of Layers: 4\n",
      "Dropout Rate: 0.23351527631880714\n"
     ]
    },
    {
     "data": {
      "application/vnd.jupyter.widget-view+json": {
       "model_id": "601368e8e18d44bb999cbe2fa0a0422b",
       "version_major": 2,
       "version_minor": 0
      },
      "text/plain": [
       "Training:   0%|          | 0/100 [00:00<?, ?batch/s]"
      ]
     },
     "metadata": {},
     "output_type": "display_data"
    },
    {
     "name": "stdout",
     "output_type": "stream",
     "text": [
      "No improvement for 1 epoch(s).\n",
      "No improvement for 1 epoch(s).\n",
      "No improvement for 2 epoch(s).\n",
      "No improvement for 3 epoch(s).\n",
      "No improvement for 4 epoch(s).\n",
      "No improvement for 1 epoch(s).\n",
      "No improvement for 2 epoch(s).\n",
      "No improvement for 1 epoch(s).\n",
      "No improvement for 2 epoch(s).\n",
      "No improvement for 3 epoch(s).\n",
      "No improvement for 1 epoch(s).\n",
      "No improvement for 2 epoch(s).\n",
      "No improvement for 3 epoch(s).\n",
      "No improvement for 4 epoch(s).\n",
      "No improvement for 1 epoch(s).\n",
      "No improvement for 2 epoch(s).\n",
      "No improvement for 3 epoch(s).\n",
      "No improvement for 4 epoch(s).\n",
      "No improvement for 5 epoch(s).\n",
      "No improvement for 6 epoch(s).\n",
      "No improvement for 7 epoch(s).\n",
      "No improvement for 8 epoch(s).\n",
      "No improvement for 9 epoch(s).\n"
     ]
    },
    {
     "name": "stderr",
     "output_type": "stream",
     "text": [
      "[I 2025-01-12 16:07:58,481] Trial 29 finished with value: 47.17786791179869 and parameters: {'fc_hidden_dim': 192, 'gru_hidden_dim': 512, 'num_layers': 4, 'num_heads': 4, 'dropout': 0.23351527631880714, 'lr': 0.000751326160221012, 'weight_decay': 5.089108137387304e-06, 'conv_0_out_channels': 64, 'conv_0_kernel_size': 1, 'conv_0_padding': 0, 'conv_1_out_channels': 256, 'conv_1_kernel_size': 3, 'conv_1_padding': 1}. Best is trial 5 with value: 44.50249345630113.\n"
     ]
    },
    {
     "name": "stdout",
     "output_type": "stream",
     "text": [
      "No improvement for 10 epoch(s).\n",
      "Early stopping triggered.\n",
      "Early stopping at epoch 41\n",
      "\n",
      "--- Train/Validation Summary ---\n",
      "mean_train_rmse: 35.8354\n",
      "mean_val_rmse: 47.1779\n",
      "mean_train_avg_mse: 1284.1749\n",
      "mean_val_avg_mse: 2225.7512\n",
      "Using standard train/validation approach instead of k-fold.\n",
      "Model: CombinedNet\n",
      "Input Dimension: 38\n",
      "Conv Configs: [(256, 3, 1), (128, 5, 2)]\n",
      "GRU Hidden Dim: 384\n",
      "FC Hidden Dim: 256\n",
      "Number of Heads: 2\n",
      "Number of Layers: 3\n",
      "Dropout Rate: 0.18019750631349468\n"
     ]
    },
    {
     "data": {
      "application/vnd.jupyter.widget-view+json": {
       "model_id": "b41f5cdb07224b37b1af3443d3636352",
       "version_major": 2,
       "version_minor": 0
      },
      "text/plain": [
       "Training:   0%|          | 0/100 [00:00<?, ?batch/s]"
      ]
     },
     "metadata": {},
     "output_type": "display_data"
    },
    {
     "name": "stderr",
     "output_type": "stream",
     "text": [
      "[I 2025-01-12 16:09:33,383] Trial 30 finished with value: 57.33580283827353 and parameters: {'fc_hidden_dim': 256, 'gru_hidden_dim': 384, 'num_layers': 3, 'num_heads': 2, 'dropout': 0.18019750631349468, 'lr': 0.00018331933898279906, 'weight_decay': 1.3034029630639428e-05, 'conv_0_out_channels': 256, 'conv_0_kernel_size': 3, 'conv_0_padding': 1, 'conv_1_out_channels': 128, 'conv_1_kernel_size': 5, 'conv_1_padding': 2}. Best is trial 5 with value: 44.50249345630113.\n"
     ]
    },
    {
     "name": "stdout",
     "output_type": "stream",
     "text": [
      "\n",
      "--- Train/Validation Summary ---\n",
      "mean_train_rmse: 54.7496\n",
      "mean_val_rmse: 57.3358\n",
      "mean_train_avg_mse: 2997.5197\n",
      "mean_val_avg_mse: 3287.3943\n",
      "Using standard train/validation approach instead of k-fold.\n",
      "Model: CombinedNet\n",
      "Input Dimension: 38\n",
      "Conv Configs: [(64, 3, 1), (256, 3, 1)]\n",
      "GRU Hidden Dim: 256\n",
      "FC Hidden Dim: 192\n",
      "Number of Heads: 3\n",
      "Number of Layers: 4\n",
      "Dropout Rate: 0.14210294616821215\n"
     ]
    },
    {
     "data": {
      "application/vnd.jupyter.widget-view+json": {
       "model_id": "f850fc6967574256baea963d2733cb77",
       "version_major": 2,
       "version_minor": 0
      },
      "text/plain": [
       "Training:   0%|          | 0/100 [00:00<?, ?batch/s]"
      ]
     },
     "metadata": {},
     "output_type": "display_data"
    },
    {
     "name": "stdout",
     "output_type": "stream",
     "text": [
      "No improvement for 1 epoch(s).\n"
     ]
    },
    {
     "name": "stderr",
     "output_type": "stream",
     "text": [
      "[I 2025-01-12 16:11:12,609] Trial 31 finished with value: 47.08335724326458 and parameters: {'fc_hidden_dim': 192, 'gru_hidden_dim': 256, 'num_layers': 4, 'num_heads': 3, 'dropout': 0.14210294616821215, 'lr': 0.00031315214629366194, 'weight_decay': 1.3269853633993704e-06, 'conv_0_out_channels': 64, 'conv_0_kernel_size': 3, 'conv_0_padding': 1, 'conv_1_out_channels': 256, 'conv_1_kernel_size': 3, 'conv_1_padding': 1}. Best is trial 5 with value: 44.50249345630113.\n"
     ]
    },
    {
     "name": "stdout",
     "output_type": "stream",
     "text": [
      "\n",
      "--- Train/Validation Summary ---\n",
      "mean_train_rmse: 39.7116\n",
      "mean_val_rmse: 47.0834\n",
      "mean_train_avg_mse: 1577.0137\n",
      "mean_val_avg_mse: 2216.8425\n",
      "Using standard train/validation approach instead of k-fold.\n",
      "Model: CombinedNet\n",
      "Input Dimension: 38\n",
      "Conv Configs: [(64, 3, 1), (256, 3, 1)]\n",
      "GRU Hidden Dim: 256\n",
      "FC Hidden Dim: 192\n",
      "Number of Heads: 3\n",
      "Number of Layers: 4\n",
      "Dropout Rate: 0.1373961242889346\n"
     ]
    },
    {
     "data": {
      "application/vnd.jupyter.widget-view+json": {
       "model_id": "59800d49d1874d71b5c3bca70444a68e",
       "version_major": 2,
       "version_minor": 0
      },
      "text/plain": [
       "Training:   0%|          | 0/100 [00:00<?, ?batch/s]"
      ]
     },
     "metadata": {},
     "output_type": "display_data"
    },
    {
     "name": "stderr",
     "output_type": "stream",
     "text": [
      "[I 2025-01-12 16:12:52,019] Trial 32 finished with value: 47.01840823433547 and parameters: {'fc_hidden_dim': 192, 'gru_hidden_dim': 256, 'num_layers': 4, 'num_heads': 3, 'dropout': 0.1373961242889346, 'lr': 0.00027302444005249923, 'weight_decay': 1.765187026571807e-06, 'conv_0_out_channels': 64, 'conv_0_kernel_size': 3, 'conv_0_padding': 1, 'conv_1_out_channels': 256, 'conv_1_kernel_size': 3, 'conv_1_padding': 1}. Best is trial 5 with value: 44.50249345630113.\n"
     ]
    },
    {
     "name": "stdout",
     "output_type": "stream",
     "text": [
      "\n",
      "--- Train/Validation Summary ---\n",
      "mean_train_rmse: 42.8372\n",
      "mean_val_rmse: 47.0184\n",
      "mean_train_avg_mse: 1835.0232\n",
      "mean_val_avg_mse: 2210.7307\n",
      "Using standard train/validation approach instead of k-fold.\n",
      "Model: CombinedNet\n",
      "Input Dimension: 38\n",
      "Conv Configs: [(64, 3, 1), (256, 3, 1)]\n",
      "GRU Hidden Dim: 192\n",
      "FC Hidden Dim: 128\n",
      "Number of Heads: 3\n",
      "Number of Layers: 4\n",
      "Dropout Rate: 0.2166346027349439\n"
     ]
    },
    {
     "data": {
      "application/vnd.jupyter.widget-view+json": {
       "model_id": "dc7858122d0b4b0eb654e97c0baeda24",
       "version_major": 2,
       "version_minor": 0
      },
      "text/plain": [
       "Training:   0%|          | 0/100 [00:00<?, ?batch/s]"
      ]
     },
     "metadata": {},
     "output_type": "display_data"
    },
    {
     "name": "stdout",
     "output_type": "stream",
     "text": [
      "No improvement for 1 epoch(s).\n",
      "No improvement for 2 epoch(s).\n",
      "No improvement for 3 epoch(s).\n",
      "No improvement for 4 epoch(s).\n",
      "No improvement for 1 epoch(s).\n",
      "No improvement for 2 epoch(s).\n",
      "No improvement for 3 epoch(s).\n",
      "No improvement for 1 epoch(s).\n",
      "No improvement for 2 epoch(s).\n",
      "No improvement for 3 epoch(s).\n",
      "No improvement for 4 epoch(s).\n",
      "No improvement for 5 epoch(s).\n",
      "No improvement for 6 epoch(s).\n",
      "No improvement for 7 epoch(s).\n",
      "No improvement for 8 epoch(s).\n",
      "No improvement for 9 epoch(s).\n"
     ]
    },
    {
     "name": "stderr",
     "output_type": "stream",
     "text": [
      "[I 2025-01-12 16:14:32,722] Trial 33 finished with value: 45.778047562908085 and parameters: {'fc_hidden_dim': 128, 'gru_hidden_dim': 192, 'num_layers': 4, 'num_heads': 3, 'dropout': 0.2166346027349439, 'lr': 0.0007343373829227916, 'weight_decay': 3.113841654396208e-06, 'conv_0_out_channels': 64, 'conv_0_kernel_size': 3, 'conv_0_padding': 1, 'conv_1_out_channels': 256, 'conv_1_kernel_size': 3, 'conv_1_padding': 1}. Best is trial 5 with value: 44.50249345630113.\n"
     ]
    },
    {
     "name": "stdout",
     "output_type": "stream",
     "text": [
      "\n",
      "--- Train/Validation Summary ---\n",
      "mean_train_rmse: 35.8653\n",
      "mean_val_rmse: 45.7780\n",
      "mean_train_avg_mse: 1286.3222\n",
      "mean_val_avg_mse: 2095.6296\n",
      "Using standard train/validation approach instead of k-fold.\n",
      "Model: CombinedNet\n",
      "Input Dimension: 38\n",
      "Conv Configs: [(64, 5, 2), (256, 3, 1)]\n",
      "GRU Hidden Dim: 128\n",
      "FC Hidden Dim: 128\n",
      "Number of Heads: 2\n",
      "Number of Layers: 4\n",
      "Dropout Rate: 0.22704367092929412\n"
     ]
    },
    {
     "data": {
      "application/vnd.jupyter.widget-view+json": {
       "model_id": "fdc6ef43fd514be9b8ccae90c864dd00",
       "version_major": 2,
       "version_minor": 0
      },
      "text/plain": [
       "Training:   0%|          | 0/100 [00:00<?, ?batch/s]"
      ]
     },
     "metadata": {},
     "output_type": "display_data"
    },
    {
     "name": "stderr",
     "output_type": "stream",
     "text": [
      "[I 2025-01-12 16:16:08,145] Trial 34 finished with value: 48.19062591190583 and parameters: {'fc_hidden_dim': 128, 'gru_hidden_dim': 128, 'num_layers': 4, 'num_heads': 2, 'dropout': 0.22704367092929412, 'lr': 0.0006718588249410632, 'weight_decay': 3.433251598383038e-06, 'conv_0_out_channels': 64, 'conv_0_kernel_size': 5, 'conv_0_padding': 2, 'conv_1_out_channels': 256, 'conv_1_kernel_size': 3, 'conv_1_padding': 1}. Best is trial 5 with value: 44.50249345630113.\n"
     ]
    },
    {
     "name": "stdout",
     "output_type": "stream",
     "text": [
      "\n",
      "--- Train/Validation Summary ---\n",
      "mean_train_rmse: 43.1891\n",
      "mean_val_rmse: 48.1906\n",
      "mean_train_avg_mse: 1865.2987\n",
      "mean_val_avg_mse: 2322.3364\n",
      "Using standard train/validation approach instead of k-fold.\n",
      "Model: CombinedNet\n",
      "Input Dimension: 38\n",
      "Conv Configs: [(32, 3, 1), (256, 5, 2)]\n",
      "GRU Hidden Dim: 128\n",
      "FC Hidden Dim: 128\n",
      "Number of Heads: 4\n",
      "Number of Layers: 3\n",
      "Dropout Rate: 0.28941351218512473\n"
     ]
    },
    {
     "data": {
      "application/vnd.jupyter.widget-view+json": {
       "model_id": "1e25f01828974f65b7bef92fb064f904",
       "version_major": 2,
       "version_minor": 0
      },
      "text/plain": [
       "Training:   0%|          | 0/100 [00:00<?, ?batch/s]"
      ]
     },
     "metadata": {},
     "output_type": "display_data"
    },
    {
     "name": "stdout",
     "output_type": "stream",
     "text": [
      "No improvement for 1 epoch(s).\n",
      "No improvement for 2 epoch(s).\n",
      "No improvement for 1 epoch(s).\n",
      "No improvement for 2 epoch(s).\n",
      "No improvement for 3 epoch(s).\n",
      "No improvement for 1 epoch(s).\n",
      "No improvement for 1 epoch(s).\n",
      "No improvement for 2 epoch(s).\n",
      "No improvement for 3 epoch(s).\n",
      "No improvement for 4 epoch(s).\n",
      "No improvement for 5 epoch(s).\n",
      "No improvement for 6 epoch(s).\n",
      "No improvement for 7 epoch(s).\n",
      "No improvement for 8 epoch(s).\n",
      "No improvement for 9 epoch(s).\n"
     ]
    },
    {
     "name": "stderr",
     "output_type": "stream",
     "text": [
      "[I 2025-01-12 16:17:34,476] Trial 35 finished with value: 46.121752616884855 and parameters: {'fc_hidden_dim': 128, 'gru_hidden_dim': 128, 'num_layers': 3, 'num_heads': 4, 'dropout': 0.28941351218512473, 'lr': 0.00138086189133068, 'weight_decay': 8.380643039078268e-06, 'conv_0_out_channels': 32, 'conv_0_kernel_size': 3, 'conv_0_padding': 1, 'conv_1_out_channels': 256, 'conv_1_kernel_size': 5, 'conv_1_padding': 2}. Best is trial 5 with value: 44.50249345630113.\n"
     ]
    },
    {
     "name": "stdout",
     "output_type": "stream",
     "text": [
      "No improvement for 10 epoch(s).\n",
      "Early stopping triggered.\n",
      "Early stopping at epoch 46\n",
      "\n",
      "--- Train/Validation Summary ---\n",
      "mean_train_rmse: 34.4343\n",
      "mean_val_rmse: 46.1218\n",
      "mean_train_avg_mse: 1185.7177\n",
      "mean_val_avg_mse: 2127.2161\n",
      "Using standard train/validation approach instead of k-fold.\n",
      "Model: CombinedNet\n",
      "Input Dimension: 38\n",
      "Conv Configs: [(128, 1, 0), (32, 3, 1)]\n",
      "GRU Hidden Dim: 192\n",
      "FC Hidden Dim: 128\n",
      "Number of Heads: 2\n",
      "Number of Layers: 4\n",
      "Dropout Rate: 0.4489752678400666\n"
     ]
    },
    {
     "data": {
      "application/vnd.jupyter.widget-view+json": {
       "model_id": "6b6623ea34cf4057a0cfa6467f289a12",
       "version_major": 2,
       "version_minor": 0
      },
      "text/plain": [
       "Training:   0%|          | 0/100 [00:00<?, ?batch/s]"
      ]
     },
     "metadata": {},
     "output_type": "display_data"
    },
    {
     "name": "stdout",
     "output_type": "stream",
     "text": [
      "No improvement for 1 epoch(s).\n",
      "No improvement for 2 epoch(s).\n",
      "No improvement for 1 epoch(s).\n",
      "No improvement for 2 epoch(s).\n",
      "No improvement for 3 epoch(s).\n",
      "No improvement for 4 epoch(s).\n",
      "No improvement for 5 epoch(s).\n",
      "No improvement for 1 epoch(s).\n",
      "No improvement for 1 epoch(s).\n",
      "No improvement for 2 epoch(s).\n",
      "No improvement for 3 epoch(s).\n",
      "No improvement for 4 epoch(s).\n",
      "No improvement for 5 epoch(s).\n",
      "No improvement for 6 epoch(s).\n",
      "No improvement for 7 epoch(s).\n",
      "No improvement for 1 epoch(s).\n",
      "No improvement for 2 epoch(s).\n",
      "No improvement for 3 epoch(s).\n",
      "No improvement for 4 epoch(s).\n",
      "No improvement for 5 epoch(s).\n",
      "No improvement for 6 epoch(s).\n",
      "No improvement for 7 epoch(s).\n",
      "No improvement for 8 epoch(s).\n",
      "No improvement for 9 epoch(s).\n"
     ]
    },
    {
     "name": "stderr",
     "output_type": "stream",
     "text": [
      "[I 2025-01-12 16:19:06,710] Trial 36 finished with value: 48.876783255511505 and parameters: {'fc_hidden_dim': 128, 'gru_hidden_dim': 192, 'num_layers': 4, 'num_heads': 2, 'dropout': 0.4489752678400666, 'lr': 0.002420235622615934, 'weight_decay': 2.0716553587524318e-05, 'conv_0_out_channels': 128, 'conv_0_kernel_size': 1, 'conv_0_padding': 0, 'conv_1_out_channels': 32, 'conv_1_kernel_size': 3, 'conv_1_padding': 1}. Best is trial 5 with value: 44.50249345630113.\n"
     ]
    },
    {
     "name": "stdout",
     "output_type": "stream",
     "text": [
      "No improvement for 10 epoch(s).\n",
      "Early stopping triggered.\n",
      "Early stopping at epoch 47\n",
      "\n",
      "--- Train/Validation Summary ---\n",
      "mean_train_rmse: 39.2358\n",
      "mean_val_rmse: 48.8768\n",
      "mean_train_avg_mse: 1539.4462\n",
      "mean_val_avg_mse: 2388.9399\n",
      "Using standard train/validation approach instead of k-fold.\n",
      "Model: CombinedNet\n",
      "Input Dimension: 38\n",
      "Conv Configs: [(64, 3, 1), (64, 5, 2)]\n",
      "GRU Hidden Dim: 192\n",
      "FC Hidden Dim: 128\n",
      "Number of Heads: 3\n",
      "Number of Layers: 4\n",
      "Dropout Rate: 0.1830145560696289\n"
     ]
    },
    {
     "data": {
      "application/vnd.jupyter.widget-view+json": {
       "model_id": "e2c2d56200a940d2a6588f68058b783c",
       "version_major": 2,
       "version_minor": 0
      },
      "text/plain": [
       "Training:   0%|          | 0/100 [00:00<?, ?batch/s]"
      ]
     },
     "metadata": {},
     "output_type": "display_data"
    },
    {
     "name": "stdout",
     "output_type": "stream",
     "text": [
      "No improvement for 1 epoch(s).\n",
      "No improvement for 2 epoch(s).\n",
      "No improvement for 1 epoch(s).\n"
     ]
    },
    {
     "name": "stderr",
     "output_type": "stream",
     "text": [
      "[I 2025-01-12 16:20:49,511] Trial 37 finished with value: 45.248378661388244 and parameters: {'fc_hidden_dim': 128, 'gru_hidden_dim': 192, 'num_layers': 4, 'num_heads': 3, 'dropout': 0.1830145560696289, 'lr': 0.0004844095243678917, 'weight_decay': 5.427994491397905e-06, 'conv_0_out_channels': 64, 'conv_0_kernel_size': 3, 'conv_0_padding': 1, 'conv_1_out_channels': 64, 'conv_1_kernel_size': 5, 'conv_1_padding': 2}. Best is trial 5 with value: 44.50249345630113.\n"
     ]
    },
    {
     "name": "stdout",
     "output_type": "stream",
     "text": [
      "No improvement for 2 epoch(s).\n",
      "\n",
      "--- Train/Validation Summary ---\n",
      "mean_train_rmse: 39.7465\n",
      "mean_val_rmse: 45.2484\n",
      "mean_train_avg_mse: 1579.7857\n",
      "mean_val_avg_mse: 2047.4158\n",
      "Using standard train/validation approach instead of k-fold.\n",
      "Model: CombinedNet\n",
      "Input Dimension: 38\n",
      "Conv Configs: [(64, 3, 1), (64, 5, 2)]\n",
      "GRU Hidden Dim: 192\n",
      "FC Hidden Dim: 128\n",
      "Number of Heads: 3\n",
      "Number of Layers: 3\n",
      "Dropout Rate: 0.41602959456584415\n"
     ]
    },
    {
     "data": {
      "application/vnd.jupyter.widget-view+json": {
       "model_id": "8a025071ef73403c87a3a3839ad5e8fb",
       "version_major": 2,
       "version_minor": 0
      },
      "text/plain": [
       "Training:   0%|          | 0/100 [00:00<?, ?batch/s]"
      ]
     },
     "metadata": {},
     "output_type": "display_data"
    },
    {
     "name": "stdout",
     "output_type": "stream",
     "text": [
      "No improvement for 1 epoch(s).\n",
      "No improvement for 2 epoch(s).\n",
      "No improvement for 1 epoch(s).\n",
      "No improvement for 2 epoch(s).\n",
      "No improvement for 3 epoch(s).\n",
      "No improvement for 4 epoch(s).\n",
      "No improvement for 1 epoch(s).\n",
      "No improvement for 1 epoch(s).\n",
      "No improvement for 2 epoch(s).\n",
      "No improvement for 3 epoch(s).\n",
      "No improvement for 4 epoch(s).\n",
      "No improvement for 5 epoch(s).\n",
      "No improvement for 6 epoch(s).\n"
     ]
    },
    {
     "name": "stderr",
     "output_type": "stream",
     "text": [
      "[I 2025-01-12 16:22:26,775] Trial 38 finished with value: 47.150298352880284 and parameters: {'fc_hidden_dim': 128, 'gru_hidden_dim': 192, 'num_layers': 3, 'num_heads': 3, 'dropout': 0.41602959456584415, 'lr': 0.0008133170257775115, 'weight_decay': 3.178102184815242e-06, 'conv_0_out_channels': 64, 'conv_0_kernel_size': 3, 'conv_0_padding': 1, 'conv_1_out_channels': 64, 'conv_1_kernel_size': 5, 'conv_1_padding': 2}. Best is trial 5 with value: 44.50249345630113.\n"
     ]
    },
    {
     "name": "stdout",
     "output_type": "stream",
     "text": [
      "No improvement for 7 epoch(s).\n",
      "\n",
      "--- Train/Validation Summary ---\n",
      "mean_train_rmse: 35.9384\n",
      "mean_val_rmse: 47.1503\n",
      "mean_train_avg_mse: 1291.5715\n",
      "mean_val_avg_mse: 2223.1506\n",
      "Using standard train/validation approach instead of k-fold.\n",
      "Model: CombinedNet\n",
      "Input Dimension: 38\n",
      "Conv Configs: [(64, 5, 2), (64, 5, 2)]\n",
      "GRU Hidden Dim: 192\n",
      "FC Hidden Dim: 128\n",
      "Number of Heads: 4\n",
      "Number of Layers: 2\n",
      "Dropout Rate: 0.2100588338365848\n"
     ]
    },
    {
     "data": {
      "application/vnd.jupyter.widget-view+json": {
       "model_id": "4904554bbc64402b97fb04184cdc7962",
       "version_major": 2,
       "version_minor": 0
      },
      "text/plain": [
       "Training:   0%|          | 0/100 [00:00<?, ?batch/s]"
      ]
     },
     "metadata": {},
     "output_type": "display_data"
    },
    {
     "name": "stdout",
     "output_type": "stream",
     "text": [
      "No improvement for 1 epoch(s).\n",
      "No improvement for 2 epoch(s).\n",
      "No improvement for 1 epoch(s).\n",
      "No improvement for 1 epoch(s).\n",
      "No improvement for 2 epoch(s).\n",
      "No improvement for 3 epoch(s).\n",
      "No improvement for 4 epoch(s).\n",
      "No improvement for 5 epoch(s).\n",
      "No improvement for 6 epoch(s).\n",
      "No improvement for 7 epoch(s).\n",
      "No improvement for 8 epoch(s).\n",
      "No improvement for 9 epoch(s).\n"
     ]
    },
    {
     "name": "stderr",
     "output_type": "stream",
     "text": [
      "[I 2025-01-12 16:23:28,239] Trial 39 finished with value: 48.76657620828148 and parameters: {'fc_hidden_dim': 128, 'gru_hidden_dim': 192, 'num_layers': 2, 'num_heads': 4, 'dropout': 0.2100588338365848, 'lr': 0.0021587202067536934, 'weight_decay': 5.1563778764025584e-06, 'conv_0_out_channels': 64, 'conv_0_kernel_size': 5, 'conv_0_padding': 2, 'conv_1_out_channels': 64, 'conv_1_kernel_size': 5, 'conv_1_padding': 2}. Best is trial 5 with value: 44.50249345630113.\n"
     ]
    },
    {
     "name": "stdout",
     "output_type": "stream",
     "text": [
      "No improvement for 10 epoch(s).\n",
      "Early stopping triggered.\n",
      "Early stopping at epoch 32\n",
      "\n",
      "--- Train/Validation Summary ---\n",
      "mean_train_rmse: 30.9565\n",
      "mean_val_rmse: 48.7666\n",
      "mean_train_avg_mse: 958.3033\n",
      "mean_val_avg_mse: 2378.1790\n",
      "Using standard train/validation approach instead of k-fold.\n",
      "Model: CombinedNet\n",
      "Input Dimension: 38\n",
      "Conv Configs: [(64, 1, 0), (64, 5, 2)]\n",
      "GRU Hidden Dim: 320\n",
      "FC Hidden Dim: 448\n",
      "Number of Heads: 3\n",
      "Number of Layers: 1\n",
      "Dropout Rate: 0.31401952105490194\n"
     ]
    },
    {
     "data": {
      "application/vnd.jupyter.widget-view+json": {
       "model_id": "7ba2ec4149e04ec0ad19c132a65a0a03",
       "version_major": 2,
       "version_minor": 0
      },
      "text/plain": [
       "Training:   0%|          | 0/100 [00:00<?, ?batch/s]"
      ]
     },
     "metadata": {},
     "output_type": "display_data"
    },
    {
     "name": "stdout",
     "output_type": "stream",
     "text": [
      "No improvement for 1 epoch(s).\n",
      "No improvement for 2 epoch(s).\n",
      "No improvement for 3 epoch(s).\n",
      "No improvement for 1 epoch(s).\n",
      "No improvement for 2 epoch(s).\n",
      "No improvement for 1 epoch(s).\n",
      "No improvement for 1 epoch(s).\n",
      "No improvement for 1 epoch(s).\n",
      "No improvement for 2 epoch(s).\n",
      "No improvement for 3 epoch(s).\n",
      "No improvement for 4 epoch(s).\n",
      "No improvement for 5 epoch(s).\n",
      "No improvement for 6 epoch(s).\n",
      "No improvement for 7 epoch(s).\n",
      "No improvement for 8 epoch(s).\n",
      "No improvement for 9 epoch(s).\n"
     ]
    },
    {
     "name": "stderr",
     "output_type": "stream",
     "text": [
      "[I 2025-01-12 16:24:51,523] Trial 40 finished with value: 48.481650745249745 and parameters: {'fc_hidden_dim': 448, 'gru_hidden_dim': 320, 'num_layers': 1, 'num_heads': 3, 'dropout': 0.31401952105490194, 'lr': 0.0012633009460388468, 'weight_decay': 2.1967082122596467e-06, 'conv_0_out_channels': 64, 'conv_0_kernel_size': 1, 'conv_0_padding': 0, 'conv_1_out_channels': 64, 'conv_1_kernel_size': 5, 'conv_1_padding': 2}. Best is trial 5 with value: 44.50249345630113.\n"
     ]
    },
    {
     "name": "stdout",
     "output_type": "stream",
     "text": [
      "No improvement for 10 epoch(s).\n",
      "Early stopping triggered.\n",
      "Early stopping at epoch 44\n",
      "\n",
      "--- Train/Validation Summary ---\n",
      "mean_train_rmse: 33.6189\n",
      "mean_val_rmse: 48.4817\n",
      "mean_train_avg_mse: 1130.2286\n",
      "mean_val_avg_mse: 2350.4705\n",
      "Using standard train/validation approach instead of k-fold.\n",
      "Model: CombinedNet\n",
      "Input Dimension: 38\n",
      "Conv Configs: [(32, 3, 1), (64, 3, 0)]\n",
      "GRU Hidden Dim: 128\n",
      "FC Hidden Dim: 192\n",
      "Number of Heads: 3\n",
      "Number of Layers: 4\n",
      "Dropout Rate: 0.17150745058512445\n"
     ]
    },
    {
     "data": {
      "application/vnd.jupyter.widget-view+json": {
       "model_id": "ce49897ee7a74faaaee5c7bbff3c0674",
       "version_major": 2,
       "version_minor": 0
      },
      "text/plain": [
       "Training:   0%|          | 0/100 [00:00<?, ?batch/s]"
      ]
     },
     "metadata": {},
     "output_type": "display_data"
    },
    {
     "name": "stdout",
     "output_type": "stream",
     "text": [
      "No improvement for 1 epoch(s).\n",
      "No improvement for 1 epoch(s).\n",
      "No improvement for 2 epoch(s).\n",
      "No improvement for 3 epoch(s).\n",
      "No improvement for 4 epoch(s).\n",
      "No improvement for 1 epoch(s).\n",
      "No improvement for 2 epoch(s).\n",
      "No improvement for 1 epoch(s).\n",
      "No improvement for 2 epoch(s).\n",
      "No improvement for 3 epoch(s).\n",
      "No improvement for 4 epoch(s).\n"
     ]
    },
    {
     "name": "stderr",
     "output_type": "stream",
     "text": [
      "[I 2025-01-12 16:26:29,493] Trial 41 finished with value: 45.66018281743816 and parameters: {'fc_hidden_dim': 192, 'gru_hidden_dim': 128, 'num_layers': 4, 'num_heads': 3, 'dropout': 0.17150745058512445, 'lr': 0.0008907519107143124, 'weight_decay': 1.0523130593906412e-05, 'conv_0_out_channels': 32, 'conv_0_kernel_size': 3, 'conv_0_padding': 1, 'conv_1_out_channels': 64, 'conv_1_kernel_size': 3, 'conv_1_padding': 0}. Best is trial 5 with value: 44.50249345630113.\n"
     ]
    },
    {
     "name": "stdout",
     "output_type": "stream",
     "text": [
      "No improvement for 5 epoch(s).\n",
      "\n",
      "--- Train/Validation Summary ---\n",
      "mean_train_rmse: 36.5274\n",
      "mean_val_rmse: 45.6602\n",
      "mean_train_avg_mse: 1334.2484\n",
      "mean_val_avg_mse: 2084.8523\n",
      "Using standard train/validation approach instead of k-fold.\n",
      "Model: CombinedNet\n",
      "Input Dimension: 38\n",
      "Conv Configs: [(32, 3, 1), (64, 5, 2)]\n",
      "GRU Hidden Dim: 128\n",
      "FC Hidden Dim: 192\n",
      "Number of Heads: 3\n",
      "Number of Layers: 4\n",
      "Dropout Rate: 0.18303958440692839\n"
     ]
    },
    {
     "data": {
      "application/vnd.jupyter.widget-view+json": {
       "model_id": "753fc3917d094c3098cff279bbb2d9de",
       "version_major": 2,
       "version_minor": 0
      },
      "text/plain": [
       "Training:   0%|          | 0/100 [00:00<?, ?batch/s]"
      ]
     },
     "metadata": {},
     "output_type": "display_data"
    },
    {
     "name": "stdout",
     "output_type": "stream",
     "text": [
      "No improvement for 1 epoch(s).\n",
      "No improvement for 1 epoch(s).\n",
      "No improvement for 2 epoch(s).\n",
      "No improvement for 3 epoch(s).\n",
      "No improvement for 4 epoch(s).\n",
      "No improvement for 5 epoch(s).\n",
      "No improvement for 1 epoch(s).\n",
      "No improvement for 2 epoch(s).\n",
      "No improvement for 3 epoch(s).\n",
      "No improvement for 4 epoch(s).\n",
      "No improvement for 1 epoch(s).\n",
      "No improvement for 2 epoch(s).\n",
      "No improvement for 3 epoch(s).\n",
      "No improvement for 4 epoch(s).\n",
      "No improvement for 5 epoch(s).\n",
      "No improvement for 6 epoch(s).\n",
      "No improvement for 7 epoch(s).\n"
     ]
    },
    {
     "name": "stderr",
     "output_type": "stream",
     "text": [
      "[I 2025-01-12 16:28:06,215] Trial 42 finished with value: 47.610997982674654 and parameters: {'fc_hidden_dim': 192, 'gru_hidden_dim': 128, 'num_layers': 4, 'num_heads': 3, 'dropout': 0.18303958440692839, 'lr': 0.0008733361973273555, 'weight_decay': 1.0737002367338316e-05, 'conv_0_out_channels': 32, 'conv_0_kernel_size': 3, 'conv_0_padding': 1, 'conv_1_out_channels': 64, 'conv_1_kernel_size': 5, 'conv_1_padding': 2}. Best is trial 5 with value: 44.50249345630113.\n"
     ]
    },
    {
     "name": "stdout",
     "output_type": "stream",
     "text": [
      "No improvement for 8 epoch(s).\n",
      "\n",
      "--- Train/Validation Summary ---\n",
      "mean_train_rmse: 35.4426\n",
      "mean_val_rmse: 47.6110\n",
      "mean_train_avg_mse: 1256.1752\n",
      "mean_val_avg_mse: 2266.8071\n",
      "Using standard train/validation approach instead of k-fold.\n",
      "Model: CombinedNet\n",
      "Input Dimension: 38\n",
      "Conv Configs: [(32, 3, 1), (64, 1, 0)]\n",
      "GRU Hidden Dim: 128\n",
      "FC Hidden Dim: 128\n",
      "Number of Heads: 3\n",
      "Number of Layers: 4\n",
      "Dropout Rate: 0.21017201758926998\n"
     ]
    },
    {
     "data": {
      "application/vnd.jupyter.widget-view+json": {
       "model_id": "551f25a8403e4aa190fd5100c1b039bb",
       "version_major": 2,
       "version_minor": 0
      },
      "text/plain": [
       "Training:   0%|          | 0/100 [00:00<?, ?batch/s]"
      ]
     },
     "metadata": {},
     "output_type": "display_data"
    },
    {
     "name": "stdout",
     "output_type": "stream",
     "text": [
      "No improvement for 1 epoch(s).\n",
      "No improvement for 2 epoch(s).\n",
      "No improvement for 3 epoch(s).\n",
      "No improvement for 1 epoch(s).\n",
      "No improvement for 1 epoch(s).\n",
      "No improvement for 2 epoch(s).\n",
      "No improvement for 3 epoch(s).\n",
      "No improvement for 1 epoch(s).\n",
      "No improvement for 2 epoch(s).\n",
      "No improvement for 3 epoch(s).\n",
      "No improvement for 4 epoch(s).\n",
      "No improvement for 1 epoch(s).\n",
      "No improvement for 2 epoch(s).\n",
      "No improvement for 3 epoch(s).\n",
      "No improvement for 4 epoch(s).\n",
      "No improvement for 5 epoch(s).\n",
      "No improvement for 6 epoch(s).\n",
      "No improvement for 7 epoch(s).\n",
      "No improvement for 8 epoch(s).\n",
      "No improvement for 9 epoch(s).\n"
     ]
    },
    {
     "name": "stderr",
     "output_type": "stream",
     "text": [
      "[I 2025-01-12 16:29:11,775] Trial 43 finished with value: 49.69102287039632 and parameters: {'fc_hidden_dim': 128, 'gru_hidden_dim': 128, 'num_layers': 4, 'num_heads': 3, 'dropout': 0.21017201758926998, 'lr': 0.00864559972980112, 'weight_decay': 8.324709533400762e-06, 'conv_0_out_channels': 32, 'conv_0_kernel_size': 3, 'conv_0_padding': 1, 'conv_1_out_channels': 64, 'conv_1_kernel_size': 1, 'conv_1_padding': 0}. Best is trial 5 with value: 44.50249345630113.\n"
     ]
    },
    {
     "name": "stdout",
     "output_type": "stream",
     "text": [
      "No improvement for 10 epoch(s).\n",
      "Early stopping triggered.\n",
      "Early stopping at epoch 34\n",
      "\n",
      "--- Train/Validation Summary ---\n",
      "mean_train_rmse: 36.8002\n",
      "mean_val_rmse: 49.6910\n",
      "mean_train_avg_mse: 1354.2520\n",
      "mean_val_avg_mse: 2469.1978\n",
      "Using standard train/validation approach instead of k-fold.\n",
      "Model: CombinedNet\n",
      "Input Dimension: 38\n",
      "Conv Configs: [(32, 3, 1), (64, 3, 0)]\n",
      "GRU Hidden Dim: 192\n",
      "FC Hidden Dim: 192\n",
      "Number of Heads: 3\n",
      "Number of Layers: 4\n",
      "Dropout Rate: 0.10097362422455748\n"
     ]
    },
    {
     "data": {
      "application/vnd.jupyter.widget-view+json": {
       "model_id": "342b05c517984697b8d7432fa07a4322",
       "version_major": 2,
       "version_minor": 0
      },
      "text/plain": [
       "Training:   0%|          | 0/100 [00:00<?, ?batch/s]"
      ]
     },
     "metadata": {},
     "output_type": "display_data"
    },
    {
     "name": "stdout",
     "output_type": "stream",
     "text": [
      "No improvement for 1 epoch(s).\n",
      "No improvement for 2 epoch(s).\n",
      "No improvement for 3 epoch(s).\n",
      "No improvement for 4 epoch(s).\n",
      "No improvement for 5 epoch(s).\n",
      "No improvement for 6 epoch(s).\n",
      "No improvement for 7 epoch(s).\n",
      "No improvement for 1 epoch(s).\n",
      "No improvement for 2 epoch(s).\n",
      "No improvement for 3 epoch(s).\n"
     ]
    },
    {
     "name": "stderr",
     "output_type": "stream",
     "text": [
      "[I 2025-01-12 16:30:51,306] Trial 44 finished with value: 46.68814580794974 and parameters: {'fc_hidden_dim': 192, 'gru_hidden_dim': 192, 'num_layers': 4, 'num_heads': 3, 'dropout': 0.10097362422455748, 'lr': 0.000553568213730225, 'weight_decay': 1.7317490464114303e-05, 'conv_0_out_channels': 32, 'conv_0_kernel_size': 3, 'conv_0_padding': 1, 'conv_1_out_channels': 64, 'conv_1_kernel_size': 3, 'conv_1_padding': 0}. Best is trial 5 with value: 44.50249345630113.\n"
     ]
    },
    {
     "name": "stdout",
     "output_type": "stream",
     "text": [
      "No improvement for 4 epoch(s).\n",
      "\n",
      "--- Train/Validation Summary ---\n",
      "mean_train_rmse: 36.1403\n",
      "mean_val_rmse: 46.6881\n",
      "mean_train_avg_mse: 1306.1211\n",
      "mean_val_avg_mse: 2179.7830\n",
      "Using standard train/validation approach instead of k-fold.\n",
      "Model: CombinedNet\n",
      "Input Dimension: 38\n",
      "Conv Configs: [(32, 3, 1), (32, 1, 0)]\n",
      "GRU Hidden Dim: 128\n",
      "FC Hidden Dim: 256\n",
      "Number of Heads: 3\n",
      "Number of Layers: 3\n",
      "Dropout Rate: 0.2583216792839647\n"
     ]
    },
    {
     "data": {
      "application/vnd.jupyter.widget-view+json": {
       "model_id": "21edfbb300534610900d60ed1f89fe39",
       "version_major": 2,
       "version_minor": 0
      },
      "text/plain": [
       "Training:   0%|          | 0/100 [00:00<?, ?batch/s]"
      ]
     },
     "metadata": {},
     "output_type": "display_data"
    },
    {
     "name": "stdout",
     "output_type": "stream",
     "text": [
      "No improvement for 1 epoch(s).\n",
      "No improvement for 2 epoch(s).\n",
      "No improvement for 1 epoch(s).\n",
      "No improvement for 2 epoch(s).\n",
      "No improvement for 3 epoch(s).\n",
      "No improvement for 4 epoch(s).\n",
      "No improvement for 5 epoch(s).\n",
      "No improvement for 6 epoch(s).\n",
      "No improvement for 7 epoch(s).\n",
      "No improvement for 8 epoch(s).\n",
      "No improvement for 9 epoch(s).\n",
      "No improvement for 1 epoch(s).\n",
      "No improvement for 1 epoch(s).\n",
      "No improvement for 2 epoch(s).\n",
      "No improvement for 3 epoch(s).\n",
      "No improvement for 4 epoch(s).\n",
      "No improvement for 5 epoch(s).\n",
      "No improvement for 6 epoch(s).\n",
      "No improvement for 7 epoch(s).\n",
      "No improvement for 8 epoch(s).\n",
      "No improvement for 9 epoch(s).\n"
     ]
    },
    {
     "name": "stderr",
     "output_type": "stream",
     "text": [
      "[I 2025-01-12 16:32:18,187] Trial 45 finished with value: 45.52044151480876 and parameters: {'fc_hidden_dim': 256, 'gru_hidden_dim': 128, 'num_layers': 3, 'num_heads': 3, 'dropout': 0.2583216792839647, 'lr': 0.0017118299038858754, 'weight_decay': 5.620712055615496e-05, 'conv_0_out_channels': 32, 'conv_0_kernel_size': 3, 'conv_0_padding': 1, 'conv_1_out_channels': 32, 'conv_1_kernel_size': 1, 'conv_1_padding': 0}. Best is trial 5 with value: 44.50249345630113.\n"
     ]
    },
    {
     "name": "stdout",
     "output_type": "stream",
     "text": [
      "No improvement for 10 epoch(s).\n",
      "Early stopping triggered.\n",
      "Early stopping at epoch 46\n",
      "\n",
      "--- Train/Validation Summary ---\n",
      "mean_train_rmse: 35.0480\n",
      "mean_val_rmse: 45.5204\n",
      "mean_train_avg_mse: 1228.3608\n",
      "mean_val_avg_mse: 2072.1106\n",
      "Using standard train/validation approach instead of k-fold.\n",
      "Model: CombinedNet\n",
      "Input Dimension: 38\n",
      "Conv Configs: [(32, 3, 1), (32, 1, 0)]\n",
      "GRU Hidden Dim: 128\n",
      "FC Hidden Dim: 256\n",
      "Number of Heads: 3\n",
      "Number of Layers: 3\n",
      "Dropout Rate: 0.24853184476909052\n"
     ]
    },
    {
     "data": {
      "application/vnd.jupyter.widget-view+json": {
       "model_id": "aed1a5044cec4d8fbe86d8e68b674588",
       "version_major": 2,
       "version_minor": 0
      },
      "text/plain": [
       "Training:   0%|          | 0/100 [00:00<?, ?batch/s]"
      ]
     },
     "metadata": {},
     "output_type": "display_data"
    },
    {
     "name": "stdout",
     "output_type": "stream",
     "text": [
      "No improvement for 1 epoch(s).\n",
      "No improvement for 2 epoch(s).\n",
      "No improvement for 3 epoch(s).\n",
      "No improvement for 4 epoch(s).\n",
      "No improvement for 5 epoch(s).\n",
      "No improvement for 6 epoch(s).\n",
      "No improvement for 1 epoch(s).\n",
      "No improvement for 2 epoch(s).\n",
      "No improvement for 1 epoch(s).\n",
      "No improvement for 2 epoch(s).\n",
      "No improvement for 3 epoch(s).\n",
      "No improvement for 4 epoch(s).\n",
      "No improvement for 5 epoch(s).\n",
      "No improvement for 6 epoch(s).\n",
      "No improvement for 7 epoch(s).\n",
      "No improvement for 8 epoch(s).\n",
      "No improvement for 9 epoch(s).\n"
     ]
    },
    {
     "name": "stderr",
     "output_type": "stream",
     "text": [
      "[I 2025-01-12 16:33:27,298] Trial 46 finished with value: 46.61553449914122 and parameters: {'fc_hidden_dim': 256, 'gru_hidden_dim': 128, 'num_layers': 3, 'num_heads': 3, 'dropout': 0.24853184476909052, 'lr': 0.0017778233194201327, 'weight_decay': 6.834634699600734e-05, 'conv_0_out_channels': 32, 'conv_0_kernel_size': 3, 'conv_0_padding': 1, 'conv_1_out_channels': 32, 'conv_1_kernel_size': 1, 'conv_1_padding': 0}. Best is trial 5 with value: 44.50249345630113.\n"
     ]
    },
    {
     "name": "stdout",
     "output_type": "stream",
     "text": [
      "No improvement for 10 epoch(s).\n",
      "Early stopping triggered.\n",
      "Early stopping at epoch 37\n",
      "\n",
      "--- Train/Validation Summary ---\n",
      "mean_train_rmse: 32.2532\n",
      "mean_val_rmse: 46.6155\n",
      "mean_train_avg_mse: 1040.2715\n",
      "mean_val_avg_mse: 2173.0081\n",
      "Using standard train/validation approach instead of k-fold.\n",
      "Model: CombinedNet\n",
      "Input Dimension: 38\n",
      "Conv Configs: [(32, 3, 1), (32, 1, 0)]\n",
      "GRU Hidden Dim: 128\n",
      "FC Hidden Dim: 256\n",
      "Number of Heads: 4\n",
      "Number of Layers: 3\n",
      "Dropout Rate: 0.2721200479742785\n"
     ]
    },
    {
     "data": {
      "application/vnd.jupyter.widget-view+json": {
       "model_id": "8b05c65353e943d2925d8d3d69174c30",
       "version_major": 2,
       "version_minor": 0
      },
      "text/plain": [
       "Training:   0%|          | 0/100 [00:00<?, ?batch/s]"
      ]
     },
     "metadata": {},
     "output_type": "display_data"
    },
    {
     "name": "stdout",
     "output_type": "stream",
     "text": [
      "No improvement for 1 epoch(s).\n",
      "No improvement for 2 epoch(s).\n",
      "No improvement for 1 epoch(s).\n",
      "No improvement for 1 epoch(s).\n",
      "No improvement for 2 epoch(s).\n",
      "No improvement for 3 epoch(s).\n",
      "No improvement for 4 epoch(s).\n",
      "No improvement for 5 epoch(s).\n",
      "No improvement for 6 epoch(s).\n",
      "No improvement for 1 epoch(s).\n",
      "No improvement for 2 epoch(s).\n",
      "No improvement for 3 epoch(s).\n",
      "No improvement for 4 epoch(s).\n",
      "No improvement for 5 epoch(s).\n",
      "No improvement for 6 epoch(s).\n",
      "No improvement for 7 epoch(s).\n",
      "No improvement for 8 epoch(s).\n",
      "No improvement for 9 epoch(s).\n"
     ]
    },
    {
     "name": "stderr",
     "output_type": "stream",
     "text": [
      "[I 2025-01-12 16:34:37,178] Trial 47 finished with value: 46.746297271481836 and parameters: {'fc_hidden_dim': 256, 'gru_hidden_dim': 128, 'num_layers': 3, 'num_heads': 4, 'dropout': 0.2721200479742785, 'lr': 0.002852325451332278, 'weight_decay': 4.866619687311912e-05, 'conv_0_out_channels': 32, 'conv_0_kernel_size': 3, 'conv_0_padding': 1, 'conv_1_out_channels': 32, 'conv_1_kernel_size': 1, 'conv_1_padding': 0}. Best is trial 5 with value: 44.50249345630113.\n"
     ]
    },
    {
     "name": "stdout",
     "output_type": "stream",
     "text": [
      "No improvement for 10 epoch(s).\n",
      "Early stopping triggered.\n",
      "Early stopping at epoch 38\n",
      "\n",
      "--- Train/Validation Summary ---\n",
      "mean_train_rmse: 38.6470\n",
      "mean_val_rmse: 46.7463\n",
      "mean_train_avg_mse: 1493.5931\n",
      "mean_val_avg_mse: 2185.2163\n",
      "Using standard train/validation approach instead of k-fold.\n",
      "Model: CombinedNet\n",
      "Input Dimension: 38\n",
      "Conv Configs: [(32, 3, 1), (32, 1, 0)]\n",
      "GRU Hidden Dim: 192\n",
      "FC Hidden Dim: 256\n",
      "Number of Heads: 3\n",
      "Number of Layers: 3\n",
      "Dropout Rate: 0.47204908722061195\n"
     ]
    },
    {
     "data": {
      "application/vnd.jupyter.widget-view+json": {
       "model_id": "81b12f4c1c744c619bec87f698e8414a",
       "version_major": 2,
       "version_minor": 0
      },
      "text/plain": [
       "Training:   0%|          | 0/100 [00:00<?, ?batch/s]"
      ]
     },
     "metadata": {},
     "output_type": "display_data"
    },
    {
     "name": "stdout",
     "output_type": "stream",
     "text": [
      "No improvement for 1 epoch(s).\n",
      "No improvement for 2 epoch(s).\n",
      "No improvement for 3 epoch(s).\n",
      "No improvement for 4 epoch(s).\n",
      "No improvement for 1 epoch(s).\n",
      "No improvement for 1 epoch(s).\n",
      "No improvement for 2 epoch(s).\n",
      "No improvement for 3 epoch(s).\n",
      "No improvement for 1 epoch(s).\n",
      "No improvement for 2 epoch(s).\n",
      "No improvement for 3 epoch(s).\n",
      "No improvement for 4 epoch(s).\n",
      "No improvement for 5 epoch(s).\n",
      "No improvement for 6 epoch(s).\n",
      "No improvement for 7 epoch(s).\n",
      "No improvement for 8 epoch(s).\n",
      "No improvement for 9 epoch(s).\n"
     ]
    },
    {
     "name": "stderr",
     "output_type": "stream",
     "text": [
      "[I 2025-01-12 16:35:46,684] Trial 48 finished with value: 46.476821865346224 and parameters: {'fc_hidden_dim': 256, 'gru_hidden_dim': 192, 'num_layers': 3, 'num_heads': 3, 'dropout': 0.47204908722061195, 'lr': 0.0017122524107399581, 'weight_decay': 3.8059796431994576e-05, 'conv_0_out_channels': 32, 'conv_0_kernel_size': 3, 'conv_0_padding': 1, 'conv_1_out_channels': 32, 'conv_1_kernel_size': 1, 'conv_1_padding': 0}. Best is trial 5 with value: 44.50249345630113.\n"
     ]
    },
    {
     "name": "stdout",
     "output_type": "stream",
     "text": [
      "No improvement for 10 epoch(s).\n",
      "Early stopping triggered.\n",
      "Early stopping at epoch 36\n",
      "\n",
      "--- Train/Validation Summary ---\n",
      "mean_train_rmse: 34.0152\n",
      "mean_val_rmse: 46.4768\n",
      "mean_train_avg_mse: 1157.0321\n",
      "mean_val_avg_mse: 2160.0950\n",
      "Using standard train/validation approach instead of k-fold.\n",
      "Model: CombinedNet\n",
      "Input Dimension: 38\n",
      "Conv Configs: [(32, 3, 1), (32, 1, 0)]\n",
      "GRU Hidden Dim: 128\n",
      "FC Hidden Dim: 320\n",
      "Number of Heads: 3\n",
      "Number of Layers: 2\n",
      "Dropout Rate: 0.33778876540185626\n"
     ]
    },
    {
     "data": {
      "application/vnd.jupyter.widget-view+json": {
       "model_id": "b22643aa24cd423ba9a96b95da9d91f3",
       "version_major": 2,
       "version_minor": 0
      },
      "text/plain": [
       "Training:   0%|          | 0/100 [00:00<?, ?batch/s]"
      ]
     },
     "metadata": {},
     "output_type": "display_data"
    },
    {
     "name": "stdout",
     "output_type": "stream",
     "text": [
      "No improvement for 1 epoch(s).\n",
      "No improvement for 1 epoch(s).\n",
      "No improvement for 1 epoch(s).\n",
      "No improvement for 2 epoch(s).\n",
      "No improvement for 3 epoch(s).\n",
      "No improvement for 4 epoch(s).\n",
      "No improvement for 1 epoch(s).\n",
      "No improvement for 1 epoch(s).\n",
      "No improvement for 2 epoch(s).\n",
      "No improvement for 3 epoch(s).\n",
      "No improvement for 1 epoch(s).\n",
      "No improvement for 2 epoch(s).\n",
      "No improvement for 3 epoch(s).\n",
      "No improvement for 4 epoch(s).\n",
      "No improvement for 5 epoch(s).\n",
      "No improvement for 6 epoch(s).\n",
      "No improvement for 7 epoch(s).\n",
      "No improvement for 8 epoch(s).\n",
      "No improvement for 9 epoch(s).\n"
     ]
    },
    {
     "name": "stderr",
     "output_type": "stream",
     "text": [
      "[I 2025-01-12 16:37:05,777] Trial 49 finished with value: 49.3402815041245 and parameters: {'fc_hidden_dim': 320, 'gru_hidden_dim': 128, 'num_layers': 2, 'num_heads': 3, 'dropout': 0.33778876540185626, 'lr': 0.0036984252427919, 'weight_decay': 9.408555217338618e-05, 'conv_0_out_channels': 32, 'conv_0_kernel_size': 3, 'conv_0_padding': 1, 'conv_1_out_channels': 32, 'conv_1_kernel_size': 1, 'conv_1_padding': 0}. Best is trial 5 with value: 44.50249345630113.\n"
     ]
    },
    {
     "name": "stdout",
     "output_type": "stream",
     "text": [
      "No improvement for 10 epoch(s).\n",
      "Early stopping triggered.\n",
      "Early stopping at epoch 42\n",
      "\n",
      "--- Train/Validation Summary ---\n",
      "mean_train_rmse: 32.6319\n",
      "mean_val_rmse: 49.3403\n",
      "mean_train_avg_mse: 1064.8437\n",
      "mean_val_avg_mse: 2434.4634\n",
      "Best hyperparameters: {'fc_hidden_dim': 192, 'gru_hidden_dim': 512, 'num_layers': 4, 'num_heads': 3, 'dropout': 0.10750046093315908, 'lr': 0.002824913366245818, 'weight_decay': 2.7005914935249046e-06, 'conv_0_out_channels': 256, 'conv_0_kernel_size': 3, 'conv_0_padding': 1, 'conv_1_out_channels': 128, 'conv_1_kernel_size': 1, 'conv_1_padding': 0}\n",
      "Best validation RMSE: 44.50249345630113\n"
     ]
    }
   ],
   "source": [
    "import optuna\n",
    "\n",
    "def suggest_conv_configs(trial, num_layers=2):\n",
    "    \"\"\"\n",
    "    Suggests convolutional layer configurations for a model.\n",
    "\n",
    "    Args:\n",
    "        trial (optuna.Trial): Optuna trial object.\n",
    "        num_layers (int): Number of convolutional layers to suggest.\n",
    "\n",
    "    Returns:\n",
    "        list: List of tuples representing conv layer configurations.\n",
    "    \"\"\"\n",
    "    conv_configs = []\n",
    "    for i in range(num_layers):\n",
    "        out_channels = trial.suggest_categorical(f\"conv_{i}_out_channels\", [32, 64, 128, 256])\n",
    "        kernel_size = trial.suggest_int(f\"conv_{i}_kernel_size\", 1, 5, step=2)  # Odd kernel sizes (1, 3, 5)\n",
    "        padding = trial.suggest_int(f\"conv_{i}_padding\", 0, kernel_size // 2)  # Ensure valid padding\n",
    "        conv_configs.append((out_channels, kernel_size, padding))\n",
    "    \n",
    "    return conv_configs\n",
    "\n",
    "def objective(trial):\n",
    "    \"\"\"\n",
    "    Objective function for Optuna hyperparameter optimization.\n",
    "    Calls the existing train_and_validate_kfold function.\n",
    "    \"\"\"\n",
    "    # Suggest hyperparameters\n",
    "    fc_hidden_dim = trial.suggest_int(\"fc_hidden_dim\", 128, 512, step=64)\n",
    "    gru_hidden_dim = trial.suggest_int(\"gru_hidden_dim\", 128, 512, step=64)\n",
    "    num_layers = trial.suggest_int(\"num_layers\", 1, 4)\n",
    "    num_heads = trial.suggest_int(\"num_heads\", 1, 4)\n",
    "    dropout = trial.suggest_float(\"dropout\", 0.1, 0.5)\n",
    "    lr = trial.suggest_float(\"lr\", 1e-4, 1e-2, log=True)\n",
    "    weight_decay = trial.suggest_float(\"weight_decay\", 1e-6, 1e-4, log=True)\n",
    "    conv_configs = suggest_conv_configs(trial)\n",
    "\n",
    "    # Create the model configuration for the trial\n",
    "    # input_dim, hidden_dim=256, num_heads=3, num_layers=1, dropout=0.3\n",
    "    model_config = {\n",
    "        \"input_dim\": input_dim,\n",
    "        \"conv_configs\": conv_configs,  # (out_channels, kernel_size, padding),\n",
    "        \"gru_hidden_dim\": gru_hidden_dim,\n",
    "        \"fc_hidden_dim\": fc_hidden_dim,\n",
    "        \"num_heads\": num_heads,\n",
    "        \"num_layers\": num_layers,\n",
    "        \"dropout\": dropout\n",
    "    }\n",
    "\n",
    "    # Call your existing train_and_validate_kfold function\n",
    "    weights, summary = train_and_validate_single_run(\n",
    "        fold_loaders=fold_loaders,\n",
    "        model_config=model_config,\n",
    "        epochs=50,  # Fewer epochs for faster tuning\n",
    "        lr=lr,\n",
    "        weight_decay=weight_decay,\n",
    "        patience=10  # Early stopping patience\n",
    "    )\n",
    "\n",
    "    # Return the mean validation RMSE as the objective value\n",
    "    return summary[\"mean_val_rmse\"]\n",
    "\n",
    "# Optuna study configuration\n",
    "study = optuna.create_study(direction=\"minimize\")  # Minimize RMSE\n",
    "study.optimize(objective, n_trials=50)  # Number of trials for hyperparameter tuning\n",
    "\n",
    "# Print the best hyperparameters and validation RMSE\n",
    "print(\"Best hyperparameters:\", study.best_params)\n",
    "print(\"Best validation RMSE:\", study.best_value)"
   ]
  },
  {
   "cell_type": "markdown",
   "metadata": {},
   "source": [
    "# Conclusion\n",
    "This concludes the notebook. We tried out several different models, starting with simple GRU based networks up to a combination of several approaches (multi-head attention, multi-head GRU, feature processing with conv2d layers).\n",
    "\n",
    "In the 4. Part we are going to try a transformer based architecture."
   ]
  },
  {
   "cell_type": "markdown",
   "metadata": {},
   "source": [
    "# Benchmark Results\n",
    "Here are some official benchmark results:\n",
    "\n",
    "While results vary by implementation and dataset preprocessing, common benchmarks for RMSE include:\n",
    "\n",
    "- Well-Engineered GBDT Models: ~25–30 RMSE.\n",
    "- RNN-Based Deep Learning Models: ~30–40 RMSE.\n",
    "- Transformer Models (TFT): ~20–35 RMSE (depending on configuration).\n",
    "- Hybrid/Ensemble Models: Often achieve ~20–30 RMSE."
   ]
  },
  {
   "cell_type": "markdown",
   "metadata": {},
   "source": []
  }
 ],
 "metadata": {
  "kernelspec": {
   "display_name": "Python 3 (ipykernel)",
   "language": "python",
   "name": "python3"
  }
 },
 "nbformat": 4,
 "nbformat_minor": 2
}
