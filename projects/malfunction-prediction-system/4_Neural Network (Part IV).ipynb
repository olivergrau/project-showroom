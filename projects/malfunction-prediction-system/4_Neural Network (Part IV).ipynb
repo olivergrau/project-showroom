{
 "cells": [
  {
   "cell_type": "markdown",
   "metadata": {},
   "source": [
    "# Transformer based Neural Network for RUL Prediction\n",
    "\n",
    "## Introduction\n",
    "\n",
    "This notebook focuses on designing and implementing neural network models for predicting the Remaining Useful Life (RUL) of engines using the NASA CMAPSS dataset and a transformer based model. The dataset provides multivariate time-series data capturing engine operational and sensor measurements. By analyzing these sequences, we aim to estimate the RUL, which is critical for predictive maintenance and avoiding unexpected failures.\n",
    "\n",
    "In this notebook we are going to NOT use the **engineered** features.\n",
    "\n",
    "### Objectives\n",
    "1. **Develop a Baseline Model:** (Done)\n",
    "   - Implement a baseline neural network using **RNN** layers to leverage the sequential nature of the data.\n",
    "   - Evaluate the baseline model's performance as a benchmark.\n",
    "\n",
    "2. **Experiment with more complex models like GRU and Transformer-Based Models:**\n",
    "   - Implement a more advanced architecture based on transformers for sequence modeling and feature extraction.\n",
    "   - Compare its performance with the LSTM-based baseline model.\n",
    "\n",
    "### Plan\n",
    "1. **Prepare the Data:**\n",
    "   - Use the preprocessed and scaled dataset created in previous notebooks.\n",
    "   - Ensure the dataset supports both original features and optional engineered features for flexibility in experimentation.\n",
    "\n",
    "2. **Baseline Model (LSTM):**\n",
    "   - Use LSTM layers to capture temporal dependencies in the sequence data.\n",
    "   - Evaluate the model's performance using Mean Squared Error (MSE) as the loss metric.\n",
    "\n",
    "3. **Transformer-Based Model:**\n",
    "   - Design a transformer architecture for sequence-to-sequence modeling.\n",
    "   - Focus on capturing long-range dependencies and complex interactions among features.\n",
    "\n",
    "4. **Model Comparison and Evaluation:**\n",
    "   - Compare the models on key metrics such as Mean Absolute Error (MAE) and MSE.\n",
    "   - Analyze the advantages and trade-offs of each approach.\n",
    "\n",
    "### Why Use LSTMs and Transformers?\n",
    "- **LSTMs:** \n",
    "  - Effective at capturing temporal dependencies and patterns in sequential data.\n",
    "  - Provide a strong benchmark for sequence modeling tasks.\n",
    "- **Transformers:**\n",
    "  - Offer enhanced capability to model long-range dependencies compared to LSTMs.\n",
    "  - Utilize attention mechanisms to focus on the most relevant parts of the sequence.\n",
    "\n",
    "### Expected Outcome\n",
    "By the end of this notebook, we aim to:\n",
    "- Establish a strong baseline model for RUL prediction.\n",
    "- Explore the potential of transformer-based models for handling sequence data.\n",
    "- Gain insights into the strengths and limitations of these architectures for predictive maintenance tasks.\n",
    "\n",
    "Let's begin by loading the prepared dataset and setting up the baseline model.\n"
   ]
  },
  {
   "cell_type": "markdown",
   "metadata": {},
   "source": [
    "# Preparing our existing CMAPSSDataset for a transformer based network\n",
    "Our sequence based CMAPSSDataset is already in good shape to serve as a data pipeline for the transformer net architecture. But we need to add one thing:\n",
    "\n",
    "1. Creating an attention mask to ignore padded timesteps"
   ]
  },
  {
   "cell_type": "markdown",
   "metadata": {},
   "source": [
    "**Another** task is:\n",
    "\n",
    "1. Clarify the question how you pool the final sequence embedding (mean pooling, [CLS] token, etc.)"
   ]
  },
  {
   "cell_type": "markdown",
   "metadata": {},
   "source": [
    "\n",
    "## Pooling the Final Sequence Embedding in Transformer Models\n",
    "\n",
    "Pooling the **final sequence embeddings** is a critical step in Transformer-based models for time-series tasks like RUL prediction. Let’s break it down and explore the options:\n",
    "\n",
    "---\n",
    "\n",
    "### 1. **Why Do You Need Pooling?**\n",
    "\n",
    "The Transformer outputs embeddings for **each timestep** (sequence position). For example:\n",
    "- Input: Shape $(\\text{batch size}, \\text{seq len}, \\text{feature dim})$\n",
    "- Transformer Output: Shape $(\\text{batch size}, \\text{seq len}, \\text{d\\_model})$\n",
    "\n",
    "Each row in this output corresponds to the representation of a specific timestep, enriched by attention over the entire sequence. However:\n",
    "- For **RUL prediction**, you need a **single output vector** per sequence because RUL is a scalar (one value per sequence).\n",
    "- To get this single vector, you must **pool** the sequence embeddings into one representation.\n",
    "\n",
    "---\n",
    "\n",
    "### 2. **Common Pooling Strategies**\n",
    "\n",
    "#### 2.1. **Mean Pooling (Global Average Pooling)**\n",
    "\n",
    "- Take the average of all timestep embeddings across the sequence:\n",
    "  $$\n",
    "  \\text{pooled\\_vector} = \\frac{1}{\\text{seq len}} \\sum_{t=1}^{\\text{seq len}} \\text{embeddings}[t]\n",
    "  $$\n",
    "- This results in a single vector of shape $(\\text{batch size}, \\text{d\\_model})$.\n",
    "\n",
    "**Advantages**:\n",
    "- Simple and computationally efficient.\n",
    "- Works well when every timestep contributes equally to the sequence’s meaning.\n",
    "\n",
    "**Disadvantages**:\n",
    "- Assumes all timesteps are equally important, which may not hold if some timesteps contain more critical information (e.g., degradation trends at later cycles).\n",
    "\n",
    "---\n",
    "\n",
    "#### 2.2. **Max Pooling**\n",
    "\n",
    "- Take the maximum value across timesteps for each embedding dimension:\n",
    "  $$\n",
    "  \\text{pooled\\_vector}[i] = \\max_{t=1}^{\\text{seq len}} \\text{embeddings}[t][i]\n",
    "  $$\n",
    "- Shape: $(\\text{batch size}, \\text{d\\_model})$.\n",
    "\n",
    "**Advantages**:\n",
    "- Focuses on the most “prominent” features across the sequence, which may highlight key degradation signals.\n",
    "\n",
    "**Disadvantages**:\n",
    "- Discards subtler variations across timesteps, which might be useful for RUL prediction.\n",
    "\n",
    "---\n",
    "\n",
    "#### 2.3. **Attention-Based Pooling**\n",
    "\n",
    "Instead of fixed pooling (mean or max), you can use an **attention mechanism** to compute a weighted sum of embeddings:\n",
    "- Learn a weight for each timestep based on its importance.\n",
    "- Formula:\n",
    "  $$\n",
    "  \\text{pooled\\_vector} = \\sum_{t=1}^{\\text{seq len}} \\alpha_t \\cdot \\text{embeddings}[t]\n",
    "  $$\n",
    "  where $\\alpha_t$ are attention weights:\n",
    "  $$\n",
    "  \\alpha_t = \\text{softmax}(W \\cdot \\text{embeddings}[t])\n",
    "  $$\n",
    "- $W$ is a learnable parameter (linear layer).\n",
    "\n",
    "**Advantages**:\n",
    "- Dynamically learns which timesteps are most important.\n",
    "- Especially useful for RUL prediction, where later timesteps may carry more degradation information.\n",
    "\n",
    "**Disadvantages**:\n",
    "- Adds extra parameters and computation.\n",
    "\n",
    "---\n",
    "\n",
    "#### 2.4. **[CLS] Token**\n",
    "\n",
    "Inspired by Transformers in NLP (e.g., BERT), you can prepend a **special token** (e.g., `[CLS]`) to your input sequence. This token:\n",
    "- Has its own learnable embedding.\n",
    "- After passing through the Transformer, the embedding of the `[CLS]` token represents the entire sequence.\n",
    "\n",
    "**Advantages**:\n",
    "- Simple to implement.\n",
    "- The model learns to focus the `[CLS]` embedding on the overall sequence meaning.\n",
    "\n",
    "**Disadvantages**:\n",
    "- The `[CLS]` token may not always effectively summarize the sequence, especially for smaller datasets or unoptimized models.\n",
    "\n",
    "---\n",
    "\n",
    "#### 2.5. **Last Timestep**\n",
    "\n",
    "For some sequence tasks, only the final timestep is considered (similar to an RNN’s default behavior). Here, you directly take the last timestep embedding:\n",
    "- \n",
    "$$\n",
    "\\text{pooled\\_vector} = \\text{embeddings}[-1]\n",
    "$$\n",
    "- Shape: $(\\text{batch size}, \\text{d\\_model})$.\n",
    "\n",
    "**Advantages**:\n",
    "- Simple and intuitive for time-series tasks like RUL, where later timesteps are often more indicative of failure.\n",
    "- Computationally cheap.\n",
    "\n",
    "**Disadvantages**:\n",
    "- Ignores information from earlier timesteps, which may still contain valuable signals (e.g., long-term trends).\n",
    "\n",
    "---\n",
    "\n",
    "### 3. **Which Pooling Strategy to Use?**\n",
    "\n",
    "#### Recommendations for the NASA Turbofan Dataset:\n",
    "\n",
    "1. **Start with Mean Pooling**:  \n",
    "   - It’s simple, effective, and works well as a baseline.\n",
    "\n",
    "2. **Explore Attention-Based Pooling**:  \n",
    "   - Particularly useful for RUL prediction since later timesteps often dominate the degradation signal.\n",
    "\n",
    "3. **Consider Last Timestep**:  \n",
    "   - If your sequences are long, or the model focuses too much on early cycles, this can prioritize the most recent data.\n",
    "\n",
    "4. **[CLS] Token**:  \n",
    "   - Works well for full-sequence modeling. If you’re using variable-length sequences or Transformers with a fixed input length, `[CLS]` pooling can be a robust alternative.\n",
    "\n",
    "---\n",
    "\n",
    "### 4. **Code Examples**\n",
    "\n",
    "#### Mean Pooling\n",
    "```python\n",
    "class TransformerRULModel(nn.Module):\n",
    "    def forward(self, x, mask=None):\n",
    "        # x: (batch_size, seq_len, d_model)\n",
    "        x = self.transformer_encoder(x, src_key_padding_mask=mask)\n",
    "        # Mean pooling over sequence dimension\n",
    "        x = x.mean(dim=1)  # Shape: (batch_size, d_model)\n",
    "        output = self.regressor(x)\n",
    "        return output\n",
    "```\n",
    "\n",
    "---\n",
    "\n",
    "#### Attention-Based Pooling\n",
    "```python\n",
    "class TransformerRULModel(nn.Module):\n",
    "    def __init__(self, d_model):\n",
    "        super().__init__()\n",
    "        self.attention = nn.Sequential(\n",
    "            nn.Linear(d_model, d_model),\n",
    "            nn.Tanh(),\n",
    "            nn.Linear(d_model, 1)  # Scalar score for each timestep\n",
    "        )\n",
    "        self.regressor = nn.Linear(d_model, 1)\n",
    "\n",
    "    def forward(self, x, mask=None):\n",
    "        # x: (batch_size, seq_len, d_model)\n",
    "        x = self.transformer_encoder(x, src_key_padding_mask=mask)\n",
    "\n",
    "        # Attention weights\n",
    "        attn_scores = self.attention(x)  # Shape: (batch_size, seq_len, 1)\n",
    "        attn_weights = torch.softmax(attn_scores, dim=1)  # Shape: (batch_size, seq_len, 1)\n",
    "\n",
    "        # Weighted sum\n",
    "        context_vector = (x * attn_weights).sum(dim=1)  # Shape: (batch_size, d_model)\n",
    "        output = self.regressor(context_vector)  # Shape: (batch_size, 1)\n",
    "        return output\n",
    "```\n",
    "\n",
    "---\n",
    "\n",
    "#### [CLS] Token\n",
    "```python\n",
    "class TransformerRULModel(nn.Module):\n",
    "    def forward(self, x, mask=None):\n",
    "        # Add [CLS] token to the input\n",
    "        cls_token = self.cls_embedding.expand(x.size(0), 1, -1)  # Shape: (batch_size, 1, d_model)\n",
    "        x = torch.cat([cls_token, x], dim=1)  # Shape: (batch_size, seq_len+1, d_model)\n",
    "\n",
    "        x = self.transformer_encoder(x, src_key_padding_mask=mask)\n",
    "\n",
    "        # Use the first embedding (CLS token)\n",
    "        cls_embedding = x[:, 0, :]  # Shape: (batch_size, d_model)\n",
    "        output = self.regressor(cls_embedding)  # Shape: (batch_size, 1)\n",
    "        return output\n",
    "```\n",
    "\n",
    "---\n",
    "\n",
    "### 5. **Comparison of Strategies**\n",
    "\n",
    "| **Pooling Method**   | **Advantages**                          | **Disadvantages**                     | **Use Case**                                 |\n",
    "|-----------------------|------------------------------------------|----------------------------------------|----------------------------------------------|\n",
    "| **Mean Pooling**      | Simple, efficient                       | Assumes all timesteps are equally important | Baseline for most tasks                       |\n",
    "| **Max Pooling**       | Focuses on prominent features           | Ignores subtler signals                | Detecting sharp degradation patterns         |\n",
    "| **Attention Pooling** | Learns importance dynamically           | Computationally more expensive         | Tasks with unequal timestep importance       |\n",
    "| **[CLS] Token**       | Learns an explicit sequence summary     | Requires training to focus on `[CLS]` | General-purpose; good for variable-length    |\n",
    "| **Last Timestep**     | Prioritizes most recent timesteps       | Ignores earlier sequence information   | Strong trend toward failure in final cycles  |\n",
    "\n",
    "---\n",
    "\n",
    "**Final Advice**: Start simple (mean pooling) and evaluate. If mean pooling doesn’t capture RUL trends effectively, experiment with attention-based pooling or [CLS] tokens.\n"
   ]
  },
  {
   "cell_type": "markdown",
   "metadata": {},
   "source": [
    "Test the datasets and data loaders (those are **not** used for training):"
   ]
  },
  {
   "cell_type": "code",
   "execution_count": 1,
   "metadata": {
    "ExecuteTime": {
     "end_time": "2025-01-14T15:32:42.395132Z",
     "start_time": "2025-01-14T15:32:40.123745Z"
    }
   },
   "outputs": [
    {
     "name": "stdout",
     "output_type": "stream",
     "text": [
      "Testing the Sequence Dataset (train):\n",
      "Batch 1\n",
      "Sequences Shape: torch.Size([256, 60, 38])\n",
      "Targets Shape: torch.Size([256])\n",
      "Masks Shape: torch.Size([256, 60])\n",
      "Engine Ids Shape: 256\n",
      "Cycles Shape: torch.Size([256, 60])\n",
      "\n",
      "Sample Sequence (First in Batch):\n",
      "tensor([[-0.8639, -0.6919, -0.6328,  ...,  1.1114, -1.1580,  0.3762],\n",
      "        [-1.9603, -0.3505, -1.1723,  ...,  0.9976, -1.2604, -0.4221],\n",
      "        [ 0.4609,  0.3323, -0.4130,  ...,  0.8967, -1.7476,  0.1414],\n",
      "        ...,\n",
      "        [ 0.1868,  0.3323, -1.0324,  ...,  0.6529,  0.7298, -1.0748],\n",
      "        [ 0.6893,  0.6737, -0.1732,  ...,  0.7715,  0.3295,  0.8739],\n",
      "        [ 0.7807,  0.6737, -0.9125,  ...,  0.6396, -0.4595,  0.4924]])\n",
      "Corresponding Target (First in Batch):\n",
      "128.0\n",
      "Engine ID (First in batch): 1\n",
      "Cycles (First in batch): tensor([ 5,  6,  7,  8,  9, 10, 11, 12, 13, 14, 15, 16, 17, 18, 19, 20, 21, 22,\n",
      "        23, 24, 25, 26, 27, 28, 29, 30, 31, 32, 33, 34, 35, 36, 37, 38, 39, 40,\n",
      "        41, 42, 43, 44, 45, 46, 47, 48, 49, 50, 51, 52, 53, 54, 55, 56, 57, 58,\n",
      "        59, 60, 61, 62, 63, 64], dtype=torch.int32)\n",
      "\n",
      "Testing the Sequence Dataset (test):\n",
      "Batch 1\n",
      "Sequences Shape: torch.Size([256, 60, 38])\n",
      "Masks Shape: torch.Size([256, 60])\n",
      "Engine Ids Shape: 256\n",
      "Cycles Shape: torch.Size([256, 60])\n",
      "\n",
      "Sample Sequence (First in Batch):\n",
      "tensor([[ 1.0548,  1.0151,  0.6660,  ...,  0.4929, -0.0304,  0.0086],\n",
      "        [-1.2294, -1.0333, -1.9515,  ...,  0.4929, -0.0304,  0.2306],\n",
      "        [ 0.1411,  0.3323, -0.4530,  ...,  0.4929, -0.0304,  0.3116],\n",
      "        ...,\n",
      "        [ 0.0000,  0.0000,  0.0000,  ...,  0.0000,  0.0000,  0.0000],\n",
      "        [ 0.0000,  0.0000,  0.0000,  ...,  0.0000,  0.0000,  0.0000],\n",
      "        [ 0.0000,  0.0000,  0.0000,  ...,  0.0000,  0.0000,  0.0000]])\n",
      "Engine ID (First in batch): 1\n",
      "Cycles (First in batch): tensor([ 1,  2,  3,  4,  5,  6,  7,  8,  9, 10, 11, 12, 13, 14, 15, 16, 17, 18,\n",
      "        19, 20, 21, 22, 23, 24, 25, 26, 27, 28, 29, 30, 31,  0,  0,  0,  0,  0,\n",
      "         0,  0,  0,  0,  0,  0,  0,  0,  0,  0,  0,  0,  0,  0,  0,  0,  0,  0,\n",
      "         0,  0,  0,  0,  0,  0], dtype=torch.int32)\n"
     ]
    }
   ],
   "source": [
    "import pandas as pd\n",
    "\n",
    "from codebase.v5.data import prepare_sequence_dataloader, test_sequence_dataset\n",
    "\n",
    "# Set up paths and features\n",
    "data_dir = \"data/CMAPSSData\"\n",
    "data_index = 1  # Choose FD001, FD002, etc.\n",
    "\n",
    "compute_engineered_features = True\n",
    "sequence_length = 60\n",
    "batch_size = 256\n",
    "overlap = 10\n",
    "\n",
    "train_data = pd.read_csv(\"./data/CMAPSSData/train_FD001.txt\", sep=r'\\s+', header=None)\n",
    "train_data.columns = ['engine_id', 'cycle'] + [f'os_{i+1}' for i in range(3)] + [f'sensor_{i}' for i in range(1, 22)]\n",
    "\n",
    "feature_cols = [f'os_{i+1}' for i in range(3)] + [f'sensor_{i}' for i in range(1, 22)]\n",
    "\n",
    "constant_cols = train_data[feature_cols].nunique()\n",
    "constant_cols = constant_cols[constant_cols == 1]\n",
    "\n",
    "feature_cols = [col for col in feature_cols if col not in constant_cols.index.tolist()]\n",
    "\n",
    "# Prepare DataLoader\n",
    "train_loader, tabular_dataset_train, sequence_train = prepare_sequence_dataloader(\n",
    "    data_dir=data_dir, data_index=data_index, feature_cols=feature_cols, \n",
    "    batch_size=batch_size, mode=\"train\", sequence_length=sequence_length, overlap=overlap,\n",
    "    compute_engineered_features=compute_engineered_features)\n",
    "\n",
    "print(\"Testing the Sequence Dataset (train):\")\n",
    "\n",
    "# Test the sequence dataset\n",
    "test_sequence_dataset(train_loader, mode=\"train\")\n",
    "\n",
    "test_loader, tabular_dataset_test, sequence_test = prepare_sequence_dataloader(\n",
    "    data_dir=data_dir, data_index=data_index, feature_cols=feature_cols, \n",
    "    batch_size=batch_size, mode=\"test\", sequence_length=sequence_length, overlap=overlap,\n",
    "    compute_engineered_features=compute_engineered_features, \n",
    "    scaler=tabular_dataset_train.scaler\n",
    ")\n",
    "\n",
    "print(\"\\nTesting the Sequence Dataset (test):\")\n",
    "# Test the sequence dataset\n",
    "test_sequence_dataset(test_loader, mode=\"test\")"
   ]
  },
  {
   "cell_type": "markdown",
   "metadata": {},
   "source": [
    "## Prepare a grouped k-fold approach\n",
    "See explanations in previous notebook."
   ]
  },
  {
   "cell_type": "code",
   "execution_count": 2,
   "metadata": {
    "ExecuteTime": {
     "end_time": "2025-01-14T14:36:02.133231Z",
     "start_time": "2025-01-14T14:36:00.447363Z"
    }
   },
   "outputs": [
    {
     "name": "stdout",
     "output_type": "stream",
     "text": [
      "The autoreload extension is already loaded. To reload it, use:\n",
      "  %reload_ext autoreload\n",
      "Feature columns saved to saved_weights/feature_cols.pth\n",
      "Scaler saved to saved_weights/scaler.pth\n",
      "Fold 1/5\n",
      "Fold 2/5\n",
      "Fold 3/5\n",
      "Fold 4/5\n",
      "Fold 5/5\n",
      "Fold 1\n",
      "  Number of training sequences: 580\n",
      "  Training Features Shape: torch.Size([256, 40, 38])\n",
      "  Training Targets Shape: torch.Size([256])\n",
      "  Training Masks Shape: torch.Size([256, 40])\n",
      "  First Training Item (Features):\n",
      "tensor([[-0.8639, -0.6919, -0.6328,  ...,  1.1114, -1.1580,  0.3762],\n",
      "        [-1.9603, -0.3505, -1.1723,  ...,  0.9976, -1.2604, -0.4221],\n",
      "        [ 0.4609,  0.3323, -0.4130,  ...,  0.8967, -1.7476,  0.1414],\n",
      "        ...,\n",
      "        [ 0.2325, -1.3747, -1.1323,  ...,  1.2815, -0.3926, -0.7966],\n",
      "        [-1.2294,  1.6979, -0.8925,  ...,  0.9277, -0.5368, -0.6886],\n",
      "        [-0.0416,  0.6737, -1.5120,  ...,  1.1579,  0.3226,  1.9023]])\n",
      "  First Training Item (Target): 148.0\n",
      "  Engine ID (First in batch): 1\n",
      "  Cycles (For first sequence in batch): tensor([ 5,  6,  7,  8,  9, 10, 11, 12, 13, 14, 15, 16, 17, 18, 19, 20, 21, 22,\n",
      "        23, 24, 25, 26, 27, 28, 29, 30, 31, 32, 33, 34, 35, 36, 37, 38, 39, 40,\n",
      "        41, 42, 43, 44], dtype=torch.int32)\n",
      "  Number of validation sequences: 145\n",
      "  Validation Features Shape: torch.Size([145, 40, 38])\n",
      "  Validation Targets Shape: torch.Size([145])\n",
      "  Validation Masks Shape: torch.Size([145, 40])\n",
      "  First Validation Item (Features):\n",
      "tensor([[ 1.1005, -1.0333,  0.2863,  ...,  0.1172, -2.0956,  0.0674],\n",
      "        [-1.3207,  0.3323,  0.4262,  ...,  0.2279, -2.2127,  0.3281],\n",
      "        [ 0.1868, -1.0333,  1.8249,  ...,  0.1198, -1.7307, -0.6968],\n",
      "        ...,\n",
      "        [-0.7725,  0.3323,  0.3862,  ..., -0.5976,  0.1824, -1.3589],\n",
      "        [-0.0416,  1.0151, -0.5728,  ..., -0.5771,  0.1952,  0.3433],\n",
      "        [-0.0873,  1.0151, -0.6128,  ..., -0.2366,  0.7221,  1.2050]])\n",
      "  First Validation Item (Target): 165.0\n",
      "  Engine ID (First in batch): 16\n",
      "  Cycles (For first sequence in batch): tensor([ 5,  6,  7,  8,  9, 10, 11, 12, 13, 14, 15, 16, 17, 18, 19, 20, 21, 22,\n",
      "        23, 24, 25, 26, 27, 28, 29, 30, 31, 32, 33, 34, 35, 36, 37, 38, 39, 40,\n",
      "        41, 42, 43, 44], dtype=torch.int32)\n",
      "\n",
      "Testing the Sequence Dataset (test):\n",
      "Batch 1\n",
      "Sequences Shape: torch.Size([256, 40, 38])\n",
      "Masks Shape: torch.Size([256, 40])\n",
      "Engine Ids Shape: 256\n",
      "Cycles Shape: torch.Size([256, 40])\n",
      "\n",
      "Sample Sequence (First in Batch):\n",
      "tensor([[ 1.0548,  1.0151,  0.6660,  ...,  0.4929, -0.0304,  0.0086],\n",
      "        [-1.2294, -1.0333, -1.9515,  ...,  0.4929, -0.0304,  0.2306],\n",
      "        [ 0.1411,  0.3323, -0.4530,  ...,  0.4929, -0.0304,  0.3116],\n",
      "        ...,\n",
      "        [ 0.0000,  0.0000,  0.0000,  ...,  0.0000,  0.0000,  0.0000],\n",
      "        [ 0.0000,  0.0000,  0.0000,  ...,  0.0000,  0.0000,  0.0000],\n",
      "        [ 0.0000,  0.0000,  0.0000,  ...,  0.0000,  0.0000,  0.0000]])\n",
      "Engine ID (First in batch): 1\n",
      "Cycles (First in batch): tensor([ 1,  2,  3,  4,  5,  6,  7,  8,  9, 10, 11, 12, 13, 14, 15, 16, 17, 18,\n",
      "        19, 20, 21, 22, 23, 24, 25, 26, 27, 28, 29, 30, 31,  0,  0,  0,  0,  0,\n",
      "         0,  0,  0,  0], dtype=torch.int32)\n"
     ]
    }
   ],
   "source": [
    "# Watch for changes\n",
    "%load_ext autoreload\n",
    "%autoreload 2\n",
    "\n",
    "import os\n",
    "import pandas as pd\n",
    "import torch\n",
    "\n",
    "from codebase.v5.data import prepare_kfold_cross_validation_loaders, prepare_sequence_dataloader, test_sequence_dataset\n",
    "from codebase.v5.dataset import CMAPSSDataset\n",
    "\n",
    "# Save the model state dictionary\n",
    "save_path = \"saved_weights/\"\n",
    "feature_cols_path = os.path.join(save_path, \"feature_cols.pth\")\n",
    "config_path = os.path.join(save_path, \"config.pth\")\n",
    "model_path = os.path.join(save_path, \"model.pth\")\n",
    "scaler_path = os.path.join(save_path, \"scaler.pth\")\n",
    "\n",
    "# Set up paths and features\n",
    "data_dir = \"data/CMAPSSData\"\n",
    "data_index = 1  # Choose FD001, FD002, etc.\n",
    "\n",
    "compute_engineered_features = True\n",
    "sequence_length = 40\n",
    "batch_size = 256\n",
    "overlap = 10\n",
    "\n",
    "train_data = pd.read_csv(\"./data/CMAPSSData/train_FD001.txt\", sep=r'\\s+', header=None)\n",
    "train_data.columns = ['engine_id', 'cycle'] + [f'os_{i+1}' for i in range(3)] + [f'sensor_{i}' for i in range(1, 22)]\n",
    "\n",
    "feature_cols = [f'os_{i+1}' for i in range(3)] + [f'sensor_{i}' for i in range(1, 22)]\n",
    "\n",
    "constant_cols = train_data[feature_cols].nunique()\n",
    "constant_cols = constant_cols[constant_cols == 1]\n",
    "\n",
    "feature_cols = [col for col in feature_cols if col not in constant_cols.index.tolist()]\n",
    "\n",
    "torch.save(feature_cols, feature_cols_path)\n",
    "print(f\"Feature columns saved to {feature_cols_path}\")\n",
    "\n",
    "# Initialize the dataset\n",
    "tabular_dataset = CMAPSSDataset(\n",
    "    data_dir=data_dir,\n",
    "    data_index=data_index,\n",
    "    feature_cols=feature_cols,\n",
    "    mode=\"train\",\n",
    "    compute_engineered_features=compute_engineered_features,\n",
    "    features_to_engineer=[\"sensor_12\", \"sensor_7\", \"sensor_21\", \"sensor_20\", \"sensor_11\", \"sensor_4\", \"sensor_15\"]\n",
    ")\n",
    "\n",
    "tabular_dataset_test = CMAPSSDataset(\n",
    "    data_dir=data_dir,\n",
    "    data_index=data_index,\n",
    "    feature_cols=feature_cols,\n",
    "    mode=\"test\",\n",
    "    compute_engineered_features=compute_engineered_features,\n",
    "    features_to_engineer=[\"sensor_12\", \"sensor_7\", \"sensor_21\", \"sensor_20\", \"sensor_11\", \"sensor_4\", \"sensor_15\"],\n",
    "    scaler=tabular_dataset.scaler\n",
    ")\n",
    "\n",
    "# save the scaler for the test dataset\n",
    "torch.save(tabular_dataset.scaler, scaler_path)\n",
    "print(f\"Scaler saved to {scaler_path}\")\n",
    "\n",
    "# Perform Group k-Fold Cross-Validation\n",
    "n_splits = 5\n",
    "\n",
    "# 2. Perform Group k-Fold Cross-Validation\n",
    "fold_loaders = prepare_kfold_cross_validation_loaders(\n",
    "    original_dataset=tabular_dataset,\n",
    "    sequence_length=sequence_length,\n",
    "    overlap=overlap,\n",
    "    n_splits=n_splits,\n",
    "    batch_size=batch_size\n",
    ")\n",
    "\n",
    "test_loader, sequence_test = prepare_sequence_dataloader(    \n",
    "    tabular_dataset=tabular_dataset_test, \n",
    "    batch_size=batch_size, mode=\"test\", \n",
    "    sequence_length=sequence_length, overlap=overlap\n",
    ")\n",
    "\n",
    "# Access the DataLoaders for each fold\n",
    "for fold, (train_loader, val_loader) in enumerate(fold_loaders):\n",
    "    print(f\"Fold {fold + 1}\")\n",
    "    \n",
    "    # Training DataLoader\n",
    "    print(f\"  Number of training sequences: {len(train_loader.dataset)}\")\n",
    "    \n",
    "    first_train_item = next(iter(train_loader))\n",
    "    train_features, train_targets, train_masks, train_engine_ids, cycles = first_train_item\n",
    "    \n",
    "    print(f\"  Training Features Shape: {train_features.shape}\")\n",
    "    print(f\"  Training Targets Shape: {train_targets.shape}\")\n",
    "    print(f\"  Training Masks Shape: {train_masks.shape}\")\n",
    "    print(f\"  First Training Item (Features):\\n{train_features[0]}\")\n",
    "    print(f\"  First Training Item (Target): {train_targets[0]}\")\n",
    "    print(f\"  Engine ID (First in batch): {train_engine_ids[0]}\")\n",
    "    print(f\"  Cycles (For first sequence in batch): {cycles[0]}\")\n",
    "    \n",
    "    # Validation DataLoader\n",
    "    print(f\"  Number of validation sequences: {len(val_loader.dataset)}\")\n",
    "\n",
    "    first_val_item = next(iter(val_loader))\n",
    "    val_features, val_targets, val_masks, train_engine_ids, cycles = first_val_item\n",
    "    \n",
    "    print(f\"  Validation Features Shape: {val_features.shape}\")\n",
    "    print(f\"  Validation Targets Shape: {val_targets.shape}\")\n",
    "    print(f\"  Validation Masks Shape: {val_masks.shape}\")\n",
    "    print(f\"  First Validation Item (Features):\\n{val_features[0]}\")\n",
    "    print(f\"  First Validation Item (Target): {val_targets[0]}\")\n",
    "    print(f\"  Engine ID (First in batch): {train_engine_ids[0]}\")\n",
    "    print(f\"  Cycles (For first sequence in batch): {cycles[0]}\")\n",
    "\n",
    "    break  # Only display the first fold for demonstration\n",
    "\n",
    "print(\"\\nTesting the Sequence Dataset (test):\")\n",
    "\n",
    "# Test the sequence dataset\n",
    "test_sequence_dataset(test_loader, mode=\"test\")"
   ]
  },
  {
   "cell_type": "markdown",
   "metadata": {},
   "source": [
    "## Validate the grouped k-fold loaders"
   ]
  },
  {
   "cell_type": "code",
   "execution_count": 2,
   "metadata": {},
   "outputs": [
    {
     "name": "stdout",
     "output_type": "stream",
     "text": [
      "Validating Folds: 1\n",
      "Validating Folds: 2\n",
      "Validating Folds: 3\n",
      "Validating Folds: 4\n",
      "Validating Folds: 5\n",
      "All validations passed!\n"
     ]
    },
    {
     "data": {
      "text/plain": [
       "True"
      ]
     },
     "execution_count": 2,
     "metadata": {},
     "output_type": "execute_result"
    }
   ],
   "source": [
    "import torch\n",
    "\n",
    "def validate_kfold_loaders(original_dataset, fold_loaders):\n",
    "    \"\"\"\n",
    "    Validates the integrity of k-fold DataLoaders against the original dataset.\n",
    "    Also checks for NaN in features, targets, and cycles for both train and val loaders.\n",
    "\n",
    "    Args:\n",
    "        original_dataset (CMAPSSDataset): The original dataset instance.\n",
    "        fold_loaders (list): List of (train_loader, val_loader) tuples for k-fold cross-validation.\n",
    "\n",
    "    Returns:\n",
    "        bool: True if all validations pass, otherwise raises an AssertionError or ValueError.\n",
    "    \"\"\"\n",
    "    original_data = original_dataset.data\n",
    "    used_indices = set()  # Track all rows covered across folds\n",
    "\n",
    "    for fold, (train_loader, val_loader) in enumerate(fold_loaders):\n",
    "        print(f\"Validating Folds: {fold + 1}\")\n",
    "        \n",
    "        # Get engine IDs for train and validation sets\n",
    "        train_engines = set(train_loader.dataset.dataset.data['engine_id'])\n",
    "        val_engines = set(val_loader.dataset.dataset.data['engine_id'])\n",
    "        \n",
    "        # Check group exclusivity\n",
    "        assert train_engines.isdisjoint(val_engines), \\\n",
    "            f\"Fold {fold + 1}: Train and validation sets share engine IDs: {train_engines & val_engines}\"\n",
    "\n",
    "        # ========== Validate Training Data ========== #\n",
    "        for batch_idx, (features, targets, _, engine_ids, cycles) in enumerate(train_loader):\n",
    "            # features shape: (batch_size, seq_len, num_features)\n",
    "            # targets shape:  (batch_size,)\n",
    "            # engine_ids shape: (batch_size,)\n",
    "            # cycles shape:   (batch_size, seq_len)\n",
    "\n",
    "            batch_size = features.size(0)\n",
    "            for idx in range(batch_size):\n",
    "                seq = features[idx]          # shape: (seq_len, num_features)\n",
    "                target = targets[idx]        # scalar RUL value\n",
    "                engine_id = engine_ids[idx]  # scalar engine ID\n",
    "                seq_cycles = cycles[idx]     # shape: (seq_len,)\n",
    "\n",
    "                # ---------- NaN checks ----------\n",
    "                if torch.isnan(seq).any():\n",
    "                    raise ValueError(\n",
    "                        f\"[Train] NaN found in features for engine {engine_id.item()}, \"\n",
    "                        f\"batch {batch_idx}, sample {idx}\"\n",
    "                    )\n",
    "                if torch.isnan(target):\n",
    "                    raise ValueError(\n",
    "                        f\"[Train] NaN found in target for engine {engine_id.item()}, \"\n",
    "                        f\"batch {batch_idx}, sample {idx}\"\n",
    "                    )\n",
    "                # Convert cycles to float for NaN check (since cycles are usually int)\n",
    "                if torch.isnan(seq_cycles.float()).any():\n",
    "                    raise ValueError(\n",
    "                        f\"[Train] NaN found in cycles for engine {engine_id.item()}, \"\n",
    "                        f\"batch {batch_idx}, sample {idx}\"\n",
    "                    )\n",
    "                # ---------------------------------\n",
    "\n",
    "                # Identify real (non-padded) timesteps (padded cycles = 0)\n",
    "                real_timesteps = (seq_cycles != 0).sum().item()\n",
    "\n",
    "                # Skip if everything is padded (unlikely in normal usage)\n",
    "                if real_timesteps == 0:\n",
    "                    continue\n",
    "\n",
    "                # For each real timestep t in this sequence:\n",
    "                for t in range(real_timesteps):\n",
    "                    cycle_val = float(seq_cycles[t].item())\n",
    "                    original_row = original_data[\n",
    "                        (original_data['engine_id'] == float(engine_id)) & \n",
    "                        (original_data['cycle'] == cycle_val)\n",
    "                    ]\n",
    "                    assert not original_row.empty, (\n",
    "                        f\"Missing data for engine {engine_id}, cycle {cycle_val} in training set\"\n",
    "                    )\n",
    "\n",
    "                    # Check feature alignment\n",
    "                    original_features = original_row.iloc[0, 2:-1].values  # columns 2..-1 are features\n",
    "                    assert torch.allclose(\n",
    "                        seq[t], torch.tensor(original_features, dtype=torch.float32), atol=1e-6\n",
    "                    ), f\"Mismatch in features for engine {engine_id}, cycle {cycle_val}\"\n",
    "\n",
    "                # Verify RUL target using the last real cycle\n",
    "                last_cycle = float(seq_cycles[real_timesteps - 1].item())\n",
    "                expected_rul = original_data[\n",
    "                    (original_data['engine_id'] == float(engine_id)) &\n",
    "                    (original_data['cycle'] == last_cycle)\n",
    "                ]['RUL'].iloc[0]\n",
    "\n",
    "                assert torch.isclose(\n",
    "                    target, torch.tensor(expected_rul, dtype=torch.float32), atol=1e-6\n",
    "                ), f\"Mismatch in RUL for engine {engine_id}, last cycle {last_cycle}\"\n",
    "\n",
    "        # ========== Validate Validation Data (same logic) ========== #\n",
    "        for batch_idx, (features, targets, _, engine_ids, cycles) in enumerate(val_loader):\n",
    "            batch_size = features.size(0)\n",
    "            for idx in range(batch_size):\n",
    "                seq = features[idx]\n",
    "                target = targets[idx]\n",
    "                engine_id = engine_ids[idx]\n",
    "                seq_cycles = cycles[idx]\n",
    "\n",
    "                # ---------- NaN checks ----------\n",
    "                if torch.isnan(seq).any():\n",
    "                    raise ValueError(\n",
    "                        f\"[Val] NaN found in features for engine {engine_id.item()}, \"\n",
    "                        f\"batch {batch_idx}, sample {idx}\"\n",
    "                    )\n",
    "                if torch.isnan(target):\n",
    "                    raise ValueError(\n",
    "                        f\"[Val] NaN found in target for engine {engine_id.item()}, \"\n",
    "                        f\"batch {batch_idx}, sample {idx}\"\n",
    "                    )\n",
    "                if torch.isnan(seq_cycles.float()).any():\n",
    "                    raise ValueError(\n",
    "                        f\"[Val] NaN found in cycles for engine {engine_id.item()}, \"\n",
    "                        f\"batch {batch_idx}, sample {idx}\"\n",
    "                    )\n",
    "                # ---------------------------------\n",
    "\n",
    "                real_timesteps = (seq_cycles != 0).sum().item()\n",
    "                if real_timesteps == 0:\n",
    "                    continue\n",
    "\n",
    "                for t in range(real_timesteps):\n",
    "                    cycle_val = float(seq_cycles[t].item())\n",
    "                    original_row = original_data[\n",
    "                        (original_data['engine_id'] == float(engine_id)) & \n",
    "                        (original_data['cycle'] == cycle_val)\n",
    "                    ]\n",
    "                    assert not original_row.empty, (\n",
    "                        f\"Missing data for engine {engine_id}, cycle {cycle_val} in validation set\"\n",
    "                    )\n",
    "\n",
    "                    original_features = original_row.iloc[0, 2:-1].values\n",
    "                    assert torch.allclose(\n",
    "                        seq[t], torch.tensor(original_features, dtype=torch.float32), atol=1e-6\n",
    "                    ), f\"Mismatch in features for engine {engine_id}, cycle {cycle_val}\"\n",
    "\n",
    "                last_cycle = float(seq_cycles[real_timesteps - 1].item())\n",
    "                expected_rul = original_data[\n",
    "                    (original_data['engine_id'] == float(engine_id)) &\n",
    "                    (original_data['cycle'] == last_cycle)\n",
    "                ]['RUL'].iloc[0]\n",
    "                assert torch.isclose(\n",
    "                    target, torch.tensor(expected_rul, dtype=torch.float32), atol=1e-6\n",
    "                ), f\"Mismatch in RUL for engine {engine_id}, last cycle {last_cycle}\"\n",
    "\n",
    "        # Track covered indices\n",
    "        train_indices = train_loader.dataset.dataset.data.index\n",
    "        val_indices = val_loader.dataset.dataset.data.index\n",
    "        used_indices.update(train_indices)\n",
    "        used_indices.update(val_indices)\n",
    "\n",
    "    # Finally, ensure overall coverage if that's desired\n",
    "    assert len(used_indices) == len(original_data), \\\n",
    "        \"Not all rows in the original dataset are covered by the k-fold loaders\"\n",
    "\n",
    "    print(\"All validations passed!\")\n",
    "    return True\n",
    "\n",
    "# Usage\n",
    "validate_kfold_loaders(tabular_dataset, fold_loaders)"
   ]
  },
  {
   "cell_type": "markdown",
   "metadata": {},
   "source": [
    "## Inspect characteristics of each fold (to ensure they are homogenic)"
   ]
  },
  {
   "cell_type": "code",
   "execution_count": 3,
   "metadata": {
    "ExecuteTime": {
     "end_time": "2025-01-14T14:36:19.907097Z",
     "start_time": "2025-01-14T14:36:11.919264Z"
    }
   },
   "outputs": [
    {
     "name": "stdout",
     "output_type": "stream",
     "text": [
      "Inspecting Fold 1\n",
      "  Training RUL Statistics:\n",
      "count    225.000000\n",
      "mean      51.471111\n",
      "std       58.757362\n",
      "min        0.000000\n",
      "25%        0.000000\n",
      "50%       29.000000\n",
      "75%       97.000000\n",
      "max      247.000000\n",
      "Name: RUL, dtype: float64\n",
      "  Validation RUL Statistics:\n",
      "count     56.000000\n",
      "mean      52.178570\n",
      "std       61.668945\n",
      "min        0.000000\n",
      "25%        0.000000\n",
      "50%       27.000000\n",
      "75%       93.500000\n",
      "max      268.000000\n",
      "Name: RUL, dtype: float64\n"
     ]
    },
    {
     "data": {
      "image/png": "[encoded data removed]",
      "text/plain": [
       "<Figure size 1200x500 with 2 Axes>"
      ]
     },
     "metadata": {},
     "output_type": "display_data"
    },
    {
     "name": "stdout",
     "output_type": "stream",
     "text": [
      "Inspecting Fold 2\n",
      "  Training RUL Statistics:\n",
      "count    225.000000\n",
      "mean      51.497776\n",
      "std       59.148418\n",
      "min        0.000000\n",
      "25%        0.000000\n",
      "50%       29.000000\n",
      "75%       98.000000\n",
      "max      268.000000\n",
      "Name: RUL, dtype: float64\n",
      "  Validation RUL Statistics:\n",
      "count     56.000000\n",
      "mean      52.071430\n",
      "std       60.128307\n",
      "min        0.000000\n",
      "25%        0.000000\n",
      "50%       27.500000\n",
      "75%       94.000000\n",
      "max      247.000000\n",
      "Name: RUL, dtype: float64\n"
     ]
    },
    {
     "data": {
      "image/png": "[encoded data removed]",
      "text/plain": [
       "<Figure size 1200x500 with 2 Axes>"
      ]
     },
     "metadata": {},
     "output_type": "display_data"
    },
    {
     "name": "stdout",
     "output_type": "stream",
     "text": [
      "Inspecting Fold 3\n",
      "  Training RUL Statistics:\n",
      "count    225.000000\n",
      "mean      51.528889\n",
      "std       59.264038\n",
      "min        0.000000\n",
      "25%        0.000000\n",
      "50%       26.000000\n",
      "75%       95.000000\n",
      "max      268.000000\n",
      "Name: RUL, dtype: float64\n",
      "  Validation RUL Statistics:\n",
      "count     56.000000\n",
      "mean      51.946430\n",
      "std       59.664032\n",
      "min        0.000000\n",
      "25%        0.000000\n",
      "50%       29.500000\n",
      "75%       98.250000\n",
      "max      242.000000\n",
      "Name: RUL, dtype: float64\n"
     ]
    },
    {
     "data": {
      "image/png": "[encoded data removed]",
      "text/plain": [
       "<Figure size 1200x500 with 2 Axes>"
      ]
     },
     "metadata": {},
     "output_type": "display_data"
    },
    {
     "name": "stdout",
     "output_type": "stream",
     "text": [
      "Inspecting Fold 4\n",
      "  Training RUL Statistics:\n",
      "count    225.000000\n",
      "mean      51.639999\n",
      "std       59.491508\n",
      "min        0.000000\n",
      "25%        0.000000\n",
      "50%       26.000000\n",
      "75%       95.000000\n",
      "max      268.000000\n",
      "Name: RUL, dtype: float64\n",
      "  Validation RUL Statistics:\n",
      "count     56.000000\n",
      "mean      51.500000\n",
      "std       58.735771\n",
      "min        0.000000\n",
      "25%        0.000000\n",
      "50%       29.500000\n",
      "75%       97.500000\n",
      "max      219.000000\n",
      "Name: RUL, dtype: float64\n"
     ]
    },
    {
     "data": {
      "image/png": "[encoded data removed]",
      "text/plain": [
       "<Figure size 1200x500 with 2 Axes>"
      ]
     },
     "metadata": {},
     "output_type": "display_data"
    },
    {
     "name": "stdout",
     "output_type": "stream",
     "text": [
      "Inspecting Fold 5\n",
      "  Training RUL Statistics:\n",
      "count    224.000000\n",
      "mean      51.924107\n",
      "std       59.653862\n",
      "min        0.000000\n",
      "25%        0.000000\n",
      "50%       29.000000\n",
      "75%       97.250000\n",
      "max      268.000000\n",
      "Name: RUL, dtype: float64\n",
      "  Validation RUL Statistics:\n",
      "count     57.000000\n",
      "mean      50.385963\n",
      "std       58.073780\n",
      "min        0.000000\n",
      "25%        0.000000\n",
      "50%       19.000000\n",
      "75%       95.000000\n",
      "max      199.000000\n",
      "Name: RUL, dtype: float64\n"
     ]
    },
    {
     "data": {
      "image/png": "[encoded data removed]",
      "text/plain": [
       "<Figure size 1200x500 with 2 Axes>"
      ]
     },
     "metadata": {},
     "output_type": "display_data"
    }
   ],
   "source": [
    "import matplotlib.pyplot as plt\n",
    "import pandas as pd\n",
    "\n",
    "def inspect_fold_characteristics(fold_loaders):\n",
    "    \"\"\"\n",
    "    Inspects and visualizes RUL distribution and degradation patterns for each fold.\n",
    "\n",
    "    Args:\n",
    "        fold_loaders (list): List of (train_loader, val_loader) tuples for k-fold cross-validation.\n",
    "    \"\"\"\n",
    "    for fold, (train_loader, val_loader) in enumerate(fold_loaders):\n",
    "        print(f\"Inspecting Fold {fold + 1}\")\n",
    "        \n",
    "        # Initialize lists to collect RUL and Cycle data\n",
    "        train_ruls, train_last_cycles = [], []\n",
    "        val_ruls, val_last_cycles = [], []\n",
    "        \n",
    "        # Collect RUL and last cycles for training\n",
    "        for _, targets, _, _, cycles in train_loader:\n",
    "            train_ruls.extend(targets.cpu().numpy())  # RUL values (batch_size,)\n",
    "            last_cycles = cycles[:, -1].cpu().numpy()  # Last cycle in each sequence (batch_size,)\n",
    "            train_last_cycles.extend(last_cycles.tolist())\n",
    "        \n",
    "        # Collect RUL and last cycles for validation\n",
    "        for _, targets, _, _, cycles in val_loader:\n",
    "            val_ruls.extend(targets.cpu().numpy())  # RUL values (batch_size,)\n",
    "            last_cycles = cycles[:, -1].cpu().numpy()  # Last cycle in each sequence (batch_size,)\n",
    "            val_last_cycles.extend(last_cycles.tolist())\n",
    "        \n",
    "        # Convert to Pandas DataFrames for analysis\n",
    "        train_df = pd.DataFrame({\"RUL\": train_ruls, \"Last Cycle\": train_last_cycles})\n",
    "        val_df = pd.DataFrame({\"RUL\": val_ruls, \"Last Cycle\": val_last_cycles})\n",
    "        \n",
    "        # Print summary statistics\n",
    "        print(\"  Training RUL Statistics:\")\n",
    "        print(train_df[\"RUL\"].describe())\n",
    "        print(\"  Validation RUL Statistics:\")\n",
    "        print(val_df[\"RUL\"].describe())\n",
    "        \n",
    "        # Plot RUL distributions\n",
    "        plt.figure(figsize=(12, 5))\n",
    "        \n",
    "        # RUL Distribution\n",
    "        plt.subplot(1, 2, 1)\n",
    "        plt.hist(train_df[\"RUL\"], bins=20, alpha=0.7, label=\"Train\", color=\"blue\")\n",
    "        plt.hist(val_df[\"RUL\"], bins=20, alpha=0.7, label=\"Validation\", color=\"orange\")\n",
    "        plt.xlabel(\"RUL\")\n",
    "        plt.ylabel(\"Frequency\")\n",
    "        plt.title(f\"Fold {fold + 1}: RUL Distribution\")\n",
    "        plt.legend()\n",
    "\n",
    "        # Degradation Patterns\n",
    "        plt.subplot(1, 2, 2)\n",
    "        plt.scatter(train_df[\"Last Cycle\"], train_df[\"RUL\"], alpha=0.5, label=\"Train\", color=\"blue\")\n",
    "        plt.scatter(val_df[\"Last Cycle\"], val_df[\"RUL\"], alpha=0.5, label=\"Validation\", color=\"orange\")\n",
    "        plt.xlabel(\"Last Cycle\")\n",
    "        plt.ylabel(\"RUL\")\n",
    "        plt.title(f\"Fold {fold + 1}: Degradation Patterns\")\n",
    "        plt.legend()\n",
    "        \n",
    "        plt.tight_layout()\n",
    "        plt.show()\n",
    "\n",
    "# Call the function to inspect fold characteristics\n",
    "inspect_fold_characteristics(fold_loaders)"
   ]
  },
  {
   "cell_type": "markdown",
   "metadata": {},
   "source": [
    "# K-Fold evaluation and development of model as preparation for a final training"
   ]
  },
  {
   "cell_type": "code",
   "execution_count": 2,
   "metadata": {},
   "outputs": [
    {
     "name": "stdout",
     "output_type": "stream",
     "text": [
      "The autoreload extension is already loaded. To reload it, use:\n",
      "  %reload_ext autoreload\n"
     ]
    }
   ],
   "source": [
    "# Watch for changes\n",
    "%load_ext autoreload\n",
    "%autoreload 2\n",
    "\n",
    "import torch\n",
    "import torch.nn as nn\n",
    "from codebase.v5.models import TransformerRULModel\n",
    "from tqdm.notebook import tqdm  # Use tqdm for Jupyter-friendly progress bar\n",
    "\n",
    "device = torch.device(\"cuda\" if torch.cuda.is_available() else \"cpu\")\n",
    "\n",
    "# Model configuration\n",
    "input_dim = len(tabular_dataset.feature_cols)  # Number of input features (contains engineered features)\n",
    "\n",
    "def train_and_validate_kfold(fold_loaders, model_config, epochs=500, lr=0.001, weight_decay=1e-6, patience=10):\n",
    "    \"\"\"\n",
    "    Train and validate the model using grouped k-fold cross-validation with early stopping.\n",
    "    Summarizes metrics (e.g., RMSE, Avg MSE) across all folds.\n",
    "\n",
    "    Args:\n",
    "        fold_loaders (list): List of (train_loader, val_loader) tuples for k-fold cross-validation.\n",
    "        model_config (dict): Configuration for the model (e.g., input_dim, hidden_dim, num_layers).\n",
    "        epochs (int): Maximum number of epochs to train for each fold.\n",
    "        lr (float): Learning rate for the optimizer.\n",
    "        patience (int): Number of epochs with no improvement before stopping.\n",
    "\n",
    "    Returns:\n",
    "        dict: Summary of metrics across all folds.\n",
    "    \"\"\"\n",
    "    # Track metrics for all folds\n",
    "    fold_metrics = {\n",
    "        \"train_rmse\": [],\n",
    "        \"val_rmse\": [],\n",
    "        \"train_avg_mse\": [],\n",
    "        \"val_avg_mse\": [],\n",
    "    }\n",
    "\n",
    "    # Loop over each fold\n",
    "    for fold, (train_loader, val_loader) in enumerate(fold_loaders):\n",
    "        print(f\"Current Validation Fold {fold + 1}\")\n",
    "        \n",
    "        # Initialize model, loss function, and optimizer\n",
    "        model = TransformerRULModel(**model_config)\n",
    "        model = model.to(device)\n",
    "        criterion = nn.MSELoss()\n",
    "        optimizer = torch.optim.Adam(model.parameters(), lr=lr, weight_decay=weight_decay)\n",
    "        \n",
    "        # Early stopping variables\n",
    "        best_val_loss = float('inf')\n",
    "        epochs_no_improve = 0\n",
    "        early_stop = False\n",
    "\n",
    "        # Initialize progress bar for this fold\n",
    "        total_batches = len(train_loader) * epochs\n",
    "        with tqdm(total=total_batches, desc=f\"Fold {fold + 1} Training\", unit=\"batch\") as pbar:\n",
    "            for epoch in range(epochs):\n",
    "                if early_stop:\n",
    "                    print(f\"Early stopping at epoch {epoch + 1}\")\n",
    "                    break\n",
    "                \n",
    "                model.train()\n",
    "                train_loss = 0.0  # Track training loss\n",
    "                num_train_sequences = len(train_loader.dataset)\n",
    "\n",
    "                # Training loop\n",
    "                for inputs, targets, masks, _, _ in train_loader:\n",
    "                    optimizer.zero_grad()\n",
    "                    inputs, targets, masks = inputs.to(device), targets.to(device), masks.to(device)\n",
    "                    \n",
    "                    # Forward pass\n",
    "                    outputs = model(inputs, masks)\n",
    "                    loss = criterion(outputs, targets)\n",
    "                    \n",
    "                    # Backward pass and optimization\n",
    "                    loss.backward()\n",
    "                    optimizer.step()\n",
    "                    \n",
    "                    # Accumulate loss\n",
    "                    train_loss += loss.item() * inputs.size(0)\n",
    "                    \n",
    "                    # Update progress bar\n",
    "                    pbar.update(1)\n",
    "                \n",
    "                # Compute training metrics\n",
    "                avg_train_mse = train_loss / num_train_sequences\n",
    "                train_rmse = avg_train_mse ** 0.5\n",
    "\n",
    "                # Validation loop\n",
    "                model.eval()\n",
    "                val_loss = 0.0\n",
    "                num_val_sequences = len(val_loader.dataset)\n",
    "                with torch.no_grad():\n",
    "                    for inputs, targets, masks, _, _ in val_loader:\n",
    "                        inputs, targets, masks = inputs.to(device), targets.to(device), masks.to(device)\n",
    "                        \n",
    "                        # Forward pass\n",
    "                        outputs = model(inputs, masks)\n",
    "                        loss = criterion(outputs, targets)\n",
    "                        \n",
    "                        # Accumulate validation loss\n",
    "                        val_loss += loss.item() * inputs.size(0)\n",
    "                \n",
    "                # Compute validation metrics\n",
    "                avg_val_mse = val_loss / num_val_sequences\n",
    "                val_rmse = avg_val_mse ** 0.5\n",
    "\n",
    "                # Check for early stopping\n",
    "                if avg_val_mse < best_val_loss:\n",
    "                    best_val_loss = avg_val_mse\n",
    "                    epochs_no_improve = 0\n",
    "                else:\n",
    "                    epochs_no_improve += 1\n",
    "                    print(f\"No improvement for {epochs_no_improve} epoch(s).\")\n",
    "\n",
    "                if epochs_no_improve >= patience:\n",
    "                    print(\"Early stopping triggered.\")\n",
    "                    early_stop = True\n",
    "\n",
    "                # Print epoch metrics\n",
    "                pbar.set_postfix({\n",
    "                    \"Epoch\": f\"{epoch + 1}/{epochs}\",\n",
    "                    \"Train Loss\": f\"Avg MSE: {avg_train_mse:.4f}, RMSE: {train_rmse:.4f}\",\n",
    "                    \"Val Loss:\": f\"Avg MSE: {avg_val_mse:.4f}, RMSE: {val_rmse:.4f}\"\n",
    "                })\n",
    "                pbar.update(0)\n",
    "\n",
    "        # Store fold metrics\n",
    "        fold_metrics[\"train_rmse\"].append(train_rmse)\n",
    "        fold_metrics[\"val_rmse\"].append(val_rmse)\n",
    "        fold_metrics[\"train_avg_mse\"].append(avg_train_mse)\n",
    "        fold_metrics[\"val_avg_mse\"].append(avg_val_mse)\n",
    "\n",
    "    # Summarize metrics across all folds\n",
    "    summary = {\n",
    "        \"mean_train_rmse\": sum(fold_metrics[\"train_rmse\"]) / len(fold_metrics[\"train_rmse\"]),\n",
    "        \"mean_val_rmse\": sum(fold_metrics[\"val_rmse\"]) / len(fold_metrics[\"val_rmse\"]),\n",
    "        \"mean_train_avg_mse\": sum(fold_metrics[\"train_avg_mse\"]) / len(fold_metrics[\"train_avg_mse\"]),\n",
    "        \"mean_val_avg_mse\": sum(fold_metrics[\"val_avg_mse\"]) / len(fold_metrics[\"val_avg_mse\"]),\n",
    "    }\n",
    "\n",
    "    print(\"\\n--- k-Fold Cross-Validation Summary ---\")\n",
    "    for key, value in summary.items():\n",
    "        print(f\"{key}: {value:.4f}\")\n",
    "\n",
    "    return summary"
   ]
  },
  {
   "cell_type": "code",
   "execution_count": 59,
   "metadata": {},
   "outputs": [
    {
     "name": "stdout",
     "output_type": "stream",
     "text": [
      "Validation Fold 1\n"
     ]
    },
    {
     "data": {
      "application/vnd.jupyter.widget-view+json": {
       "model_id": "93a8d0cd0a834461b26884af7f803017",
       "version_major": 2,
       "version_minor": 0
      },
      "text/plain": [
       "Fold 1 Training:   0%|          | 0/1000 [00:00<?, ?batch/s]"
      ]
     },
     "metadata": {},
     "output_type": "display_data"
    },
    {
     "name": "stdout",
     "output_type": "stream",
     "text": [
      "No improvement for 1 epoch(s).\n",
      "No improvement for 1 epoch(s).\n",
      "No improvement for 2 epoch(s).\n",
      "No improvement for 1 epoch(s).\n",
      "No improvement for 2 epoch(s).\n",
      "No improvement for 3 epoch(s).\n",
      "No improvement for 4 epoch(s).\n",
      "No improvement for 5 epoch(s).\n",
      "No improvement for 6 epoch(s).\n",
      "No improvement for 7 epoch(s).\n",
      "No improvement for 8 epoch(s).\n",
      "No improvement for 9 epoch(s).\n",
      "No improvement for 10 epoch(s).\n",
      "Early stopping triggered.\n",
      "Early stopping at epoch 38\n",
      "Validation Fold 2\n"
     ]
    },
    {
     "data": {
      "application/vnd.jupyter.widget-view+json": {
       "model_id": "ed5342c619fb4f09b201ca467411fed7",
       "version_major": 2,
       "version_minor": 0
      },
      "text/plain": [
       "Fold 2 Training:   0%|          | 0/1000 [00:00<?, ?batch/s]"
      ]
     },
     "metadata": {},
     "output_type": "display_data"
    },
    {
     "name": "stdout",
     "output_type": "stream",
     "text": [
      "No improvement for 1 epoch(s).\n",
      "No improvement for 1 epoch(s).\n",
      "No improvement for 1 epoch(s).\n",
      "No improvement for 2 epoch(s).\n",
      "No improvement for 3 epoch(s).\n",
      "No improvement for 4 epoch(s).\n",
      "No improvement for 5 epoch(s).\n",
      "No improvement for 1 epoch(s).\n",
      "No improvement for 2 epoch(s).\n",
      "No improvement for 3 epoch(s).\n",
      "No improvement for 4 epoch(s).\n",
      "No improvement for 5 epoch(s).\n",
      "No improvement for 6 epoch(s).\n",
      "No improvement for 7 epoch(s).\n",
      "No improvement for 8 epoch(s).\n",
      "No improvement for 9 epoch(s).\n",
      "No improvement for 10 epoch(s).\n",
      "Early stopping triggered.\n",
      "Early stopping at epoch 48\n",
      "Validation Fold 3\n"
     ]
    },
    {
     "data": {
      "application/vnd.jupyter.widget-view+json": {
       "model_id": "7f52f71d03314ef5b3298148ac656b6c",
       "version_major": 2,
       "version_minor": 0
      },
      "text/plain": [
       "Fold 3 Training:   0%|          | 0/1000 [00:00<?, ?batch/s]"
      ]
     },
     "metadata": {},
     "output_type": "display_data"
    },
    {
     "name": "stdout",
     "output_type": "stream",
     "text": [
      "No improvement for 1 epoch(s).\n",
      "No improvement for 2 epoch(s).\n",
      "No improvement for 3 epoch(s).\n",
      "No improvement for 4 epoch(s).\n",
      "No improvement for 5 epoch(s).\n",
      "No improvement for 6 epoch(s).\n",
      "No improvement for 7 epoch(s).\n",
      "No improvement for 8 epoch(s).\n",
      "No improvement for 9 epoch(s).\n",
      "No improvement for 10 epoch(s).\n",
      "Early stopping triggered.\n",
      "Early stopping at epoch 32\n",
      "Validation Fold 4\n"
     ]
    },
    {
     "data": {
      "application/vnd.jupyter.widget-view+json": {
       "model_id": "60cc5fba2dc940b890bda938486166f6",
       "version_major": 2,
       "version_minor": 0
      },
      "text/plain": [
       "Fold 4 Training:   0%|          | 0/1000 [00:00<?, ?batch/s]"
      ]
     },
     "metadata": {},
     "output_type": "display_data"
    },
    {
     "name": "stdout",
     "output_type": "stream",
     "text": [
      "No improvement for 1 epoch(s).\n",
      "No improvement for 1 epoch(s).\n",
      "No improvement for 1 epoch(s).\n",
      "No improvement for 2 epoch(s).\n",
      "No improvement for 1 epoch(s).\n",
      "No improvement for 2 epoch(s).\n",
      "No improvement for 3 epoch(s).\n",
      "No improvement for 4 epoch(s).\n",
      "No improvement for 5 epoch(s).\n",
      "No improvement for 6 epoch(s).\n",
      "No improvement for 7 epoch(s).\n",
      "No improvement for 8 epoch(s).\n",
      "No improvement for 9 epoch(s).\n",
      "No improvement for 10 epoch(s).\n",
      "Early stopping triggered.\n",
      "Early stopping at epoch 42\n",
      "Validation Fold 5\n"
     ]
    },
    {
     "data": {
      "application/vnd.jupyter.widget-view+json": {
       "model_id": "2d1e4ba40d8d4242bb16e2291de07c13",
       "version_major": 2,
       "version_minor": 0
      },
      "text/plain": [
       "Fold 5 Training:   0%|          | 0/1000 [00:00<?, ?batch/s]"
      ]
     },
     "metadata": {},
     "output_type": "display_data"
    },
    {
     "name": "stdout",
     "output_type": "stream",
     "text": [
      "No improvement for 1 epoch(s).\n",
      "No improvement for 2 epoch(s).\n",
      "No improvement for 3 epoch(s).\n",
      "No improvement for 1 epoch(s).\n",
      "No improvement for 2 epoch(s).\n",
      "No improvement for 3 epoch(s).\n",
      "No improvement for 4 epoch(s).\n",
      "No improvement for 5 epoch(s).\n",
      "No improvement for 6 epoch(s).\n",
      "No improvement for 7 epoch(s).\n",
      "No improvement for 8 epoch(s).\n",
      "No improvement for 9 epoch(s).\n",
      "No improvement for 10 epoch(s).\n",
      "Early stopping triggered.\n",
      "Early stopping at epoch 35\n",
      "\n",
      "--- k-Fold Cross-Validation Summary ---\n",
      "mean_train_rmse: 30.2889\n",
      "mean_val_rmse: 34.8982\n",
      "mean_train_avg_mse: 919.2871\n",
      "mean_val_avg_mse: 1222.1316\n"
     ]
    }
   ],
   "source": [
    "# Define model configuration\n",
    "# Define model configuration\n",
    "model_config = {\n",
    "    \"input_dim\": input_dim,\n",
    "    \"d_model\": 96,\n",
    "    \"nhead\": 4,\n",
    "    \"num_layers\": 1,\n",
    "    \"dim_feedforward\": 192,\n",
    "    \"dropout\": 0.4333827218510093,\n",
    "}\n",
    "\n",
    "learning_rate = 0.003895180196123437\n",
    "weight_decay = 6.638328586838593e-06\n",
    "\n",
    "# Train using k-fold loaders\n",
    "summary = train_and_validate_kfold(fold_loaders, model_config, epochs=50, lr=learning_rate, weight_decay=weight_decay, patience=10)"
   ]
  },
  {
   "cell_type": "markdown",
   "metadata": {},
   "source": [
    "As a result of our k-Fold Cross Validation we can see that our fold setup yields an **average validation RMSE** of 34.8982."
   ]
  },
  {
   "cell_type": "markdown",
   "metadata": {},
   "source": [
    "# K-Fold evaluation: Using Optuna for hyperparameter search\n",
    "Let's use Optuna for an efficient hyperparameter search."
   ]
  },
  {
   "cell_type": "code",
   "execution_count": null,
   "metadata": {},
   "outputs": [],
   "source": [
    "import optuna\n",
    "\n",
    "def objective(trial):\n",
    "    \"\"\"\n",
    "    Objective function for Optuna hyperparameter optimization.\n",
    "    Calls the existing train_and_validate_kfold function.\n",
    "    \"\"\"\n",
    "    # Ensure transformer_d_model is divisible by transformer_nhead\n",
    "    nhead = trial.suggest_int(\"nhead\", 2, 8, step=2)\n",
    "    d_model = trial.suggest_int(\n",
    "        \"d_model\", nhead * 16, nhead * 32, step=nhead * 8\n",
    "    )\n",
    "    \n",
    "    dim_feedworward = trial.suggest_int(\"dim_feedforward\", 128, 512, step=64)\n",
    "    num_layers = trial.suggest_int(\"num_layers\", 1, 4)\n",
    "    dropout = trial.suggest_float(\"dropout\", 0.1, 0.5)\n",
    "    lr = trial.suggest_float(\"lr\", 1e-4, 1e-2, log=True)\n",
    "    weight_decay = trial.suggest_float(\"weight_decay\", 1e-6, 1e-4, log=True)\n",
    "\n",
    "    # Create the model configuration for the trial\n",
    "    # input_dim, hidden_dim=256, num_heads=3, num_layers=1, dropout=0.3\n",
    "    # Define model configuration\n",
    "    model_config = {\n",
    "        \"input_dim\": input_dim,\n",
    "        \"d_model\": d_model,\n",
    "        \"nhead\": nhead,\n",
    "        \"num_layers\": num_layers,\n",
    "        \"dim_feedforward\": dim_feedworward,\n",
    "        \"dropout\": dropout,\n",
    "    }\n",
    "\n",
    "    # Call your existing train_and_validate_kfold function\n",
    "    summary = train_and_validate_kfold(\n",
    "        fold_loaders=fold_loaders,\n",
    "        model_config=model_config,\n",
    "        epochs=100,  # Fewer epochs for faster tuning\n",
    "        lr=lr,\n",
    "        weight_decay=weight_decay,\n",
    "        patience=10  # Early stopping patience\n",
    "    )\n",
    "\n",
    "    # Return the mean validation RMSE as the objective value\n",
    "    return summary[\"mean_val_rmse\"]\n",
    "\n",
    "# Optuna study configuration\n",
    "study = optuna.create_study(direction=\"minimize\")  # Minimize RMSE\n",
    "study.optimize(objective, n_trials=50)  # Number of trials for hyperparameter tuning\n",
    "\n",
    "# Print the best hyperparameters and validation RMSE\n",
    "print(\"Best hyperparameters:\", study.best_params)\n",
    "print(\"Best validation RMSE:\", study.best_value)"
   ]
  },
  {
   "cell_type": "markdown",
   "metadata": {},
   "source": [
    "# Training without K-Fold"
   ]
  },
  {
   "cell_type": "code",
   "execution_count": 3,
   "metadata": {
    "ExecuteTime": {
     "end_time": "2025-01-14T14:36:42.472369Z",
     "start_time": "2025-01-14T14:36:42.103588Z"
    }
   },
   "outputs": [
    {
     "name": "stdout",
     "output_type": "stream",
     "text": [
      "The autoreload extension is already loaded. To reload it, use:\n",
      "  %reload_ext autoreload\n"
     ]
    }
   ],
   "source": [
    "# Watch for changes\n",
    "%load_ext autoreload\n",
    "%autoreload 2\n",
    "\n",
    "import torch\n",
    "import torch.nn as nn\n",
    "import torch.optim as optim\n",
    "from tqdm.notebook import tqdm  # Use tqdm for Jupyter-friendly progress bar\n",
    "\n",
    "from codebase.v5.models import TransformerRULModel\n",
    "\n",
    "device = torch.device(\"cuda\" if torch.cuda.is_available() else \"cpu\")\n",
    "\n",
    "input_dim = len(tabular_dataset.feature_cols)  # Number of input features (contains engineered features)\n",
    "\n",
    "def train_and_validate_single_run(\n",
    "    train_loader, val_loader,\n",
    "    model_config,\n",
    "    epochs=500,\n",
    "    lr=0.001,\n",
    "    weight_decay=1e-6,\n",
    "    patience=10,\n",
    "    model_path=\"saved_weights/model.pth\",\n",
    "    loss_type=\"mse\",  # \"mse\" or \"huber\"\n",
    "):\n",
    "    \"\"\"\n",
    "    Train and validate the model using a *single* train/validation set (no k-fold).\n",
    "    Summarizes metrics (e.g., RMSE, Avg Loss) for this single train/val split.\n",
    "\n",
    "    Args:\n",
    "        fold_loaders (list): List containing a single (train_loader, val_loader) tuple.\n",
    "        model_config (dict): Configuration for the model (e.g., input_dim, d_model, num_layers).\n",
    "        epochs (int): Maximum number of epochs to train.\n",
    "        lr (float): Learning rate for the optimizer.\n",
    "        weight_decay (float): Weight decay for regularization.\n",
    "        patience (int): Number of epochs with no improvement before stopping.\n",
    "        model_path (str): Where to save the best model weights.\n",
    "        loss_type (str): \"mse\" or \"huber\". Determines which loss function is used.\n",
    "\n",
    "    Returns:\n",
    "        model (nn.Module): Trained model (best validation loss).\n",
    "        summary (dict): Summary of metrics for the single train/val run.\n",
    "    \"\"\"\n",
    "\n",
    "    # We'll use only the first tuple from fold_loaders\n",
    "    \n",
    "    print(\"Using standard train/validation approach instead of k-fold.\")\n",
    "\n",
    "    # ======================\n",
    "    #  Set up model & loss\n",
    "    # ======================\n",
    "    model = TransformerRULModel(**model_config).to(device)\n",
    "\n",
    "    # Choose the loss function based on loss_type\n",
    "    if loss_type.lower() == \"mse\":\n",
    "        criterion = nn.MSELoss()\n",
    "    elif loss_type.lower() == \"huber\":\n",
    "        criterion = nn.HuberLoss(delta=1.0)\n",
    "    else:\n",
    "        raise ValueError(f\"Invalid loss_type: {loss_type}. Choose 'mse' or 'huber'.\")\n",
    "\n",
    "    # AdamW optimizer\n",
    "    optimizer = optim.AdamW(model.parameters(), lr=lr, weight_decay=weight_decay)\n",
    "\n",
    "    # Track metrics for this single run\n",
    "    fold_metrics = {\n",
    "        \"train_loss\": [],\n",
    "        \"val_loss\": [],\n",
    "        \"train_rmse\": [],\n",
    "        \"val_rmse\": [],\n",
    "    }\n",
    "\n",
    "    # Early stopping variables\n",
    "    best_val_loss = float(\"inf\")\n",
    "    best_epoch = 0\n",
    "    epochs_no_improve = 0\n",
    "    early_stop = False\n",
    "\n",
    "    # ======================\n",
    "    #  Training Loop\n",
    "    # ======================\n",
    "    total_batches = len(train_loader) * epochs\n",
    "    with tqdm(total=total_batches, desc=\"Training\", unit=\"batch\") as pbar:\n",
    "        for epoch in range(epochs):\n",
    "            if early_stop:\n",
    "                print(f\"Early stopping at epoch {epoch + 1}\")\n",
    "                break\n",
    "\n",
    "            # ---------------------------\n",
    "            # 1. Training\n",
    "            # ---------------------------\n",
    "            model.train()\n",
    "            train_loss_accum = 0.0\n",
    "            train_predictions = []\n",
    "            train_targets_all = []\n",
    "\n",
    "            for inputs, targets, masks, _, _ in train_loader:\n",
    "                optimizer.zero_grad()\n",
    "\n",
    "                inputs = inputs.to(device)\n",
    "                targets = targets.to(device)\n",
    "                masks = masks.to(device)\n",
    "\n",
    "                outputs = model(inputs, masks)  # (batch_size,)\n",
    "\n",
    "                loss = criterion(outputs, targets)\n",
    "                loss.backward()\n",
    "                optimizer.step()\n",
    "\n",
    "                # Accumulate for final averaging\n",
    "                batch_size = inputs.size(0)\n",
    "                train_loss_accum += loss.item() * batch_size\n",
    "\n",
    "                # For RMSE calculation, store predictions & targets\n",
    "                train_predictions.append(outputs.detach().cpu())\n",
    "                train_targets_all.append(targets.detach().cpu())\n",
    "\n",
    "                pbar.update(1)\n",
    "\n",
    "            # Compute average training loss\n",
    "            num_train_samples = len(train_loader.dataset)\n",
    "            avg_train_loss = train_loss_accum / num_train_samples\n",
    "\n",
    "            # Compute training RMSE\n",
    "            train_predictions = torch.cat(train_predictions, dim=0)\n",
    "            train_targets_all = torch.cat(train_targets_all, dim=0)\n",
    "            train_rmse = torch.sqrt(torch.mean((train_predictions - train_targets_all) ** 2)).item()\n",
    "\n",
    "            # ---------------------------\n",
    "            # 2. Validation\n",
    "            # ---------------------------\n",
    "            model.eval()\n",
    "            val_loss_accum = 0.0\n",
    "            val_predictions = []\n",
    "            val_targets_all = []\n",
    "\n",
    "            with torch.no_grad():\n",
    "                for inputs, targets, masks, _, _ in val_loader:\n",
    "                    inputs = inputs.to(device)\n",
    "                    targets = targets.to(device)\n",
    "                    masks = masks.to(device)\n",
    "\n",
    "                    outputs = model(inputs, masks)\n",
    "                    loss = criterion(outputs, targets)\n",
    "\n",
    "                    batch_size = inputs.size(0)\n",
    "                    val_loss_accum += loss.item() * batch_size\n",
    "\n",
    "                    val_predictions.append(outputs.cpu())\n",
    "                    val_targets_all.append(targets.cpu())\n",
    "\n",
    "            num_val_samples = len(val_loader.dataset)\n",
    "            avg_val_loss = val_loss_accum / num_val_samples\n",
    "\n",
    "            val_predictions = torch.cat(val_predictions, dim=0)\n",
    "            val_targets_all = torch.cat(val_targets_all, dim=0)\n",
    "            val_rmse = torch.sqrt(torch.mean((val_predictions - val_targets_all) ** 2)).item()\n",
    "\n",
    "            # ---------------------------\n",
    "            # 3. Early Stopping Logic\n",
    "            # ---------------------------\n",
    "            if avg_val_loss < best_val_loss:\n",
    "                best_val_loss = avg_val_loss\n",
    "                best_val_rmse = val_rmse\n",
    "\n",
    "                epochs_no_improve = 0\n",
    "                best_epoch = epoch + 1\n",
    "                torch.save(model.state_dict(), model_path)\n",
    "            else:\n",
    "                epochs_no_improve += 1\n",
    "                print(f\"No improvement for {epochs_no_improve} epoch(s).\")\n",
    "\n",
    "            if epochs_no_improve >= patience:\n",
    "                print(\"Early stopping triggered.\")\n",
    "                early_stop = True\n",
    "\n",
    "            # Record stats\n",
    "            fold_metrics[\"train_loss\"].append(avg_train_loss)\n",
    "            fold_metrics[\"val_loss\"].append(avg_val_loss)\n",
    "            fold_metrics[\"train_rmse\"].append(train_rmse)\n",
    "            fold_metrics[\"val_rmse\"].append(val_rmse)\n",
    "\n",
    "            # ---------------------------\n",
    "            # 4. TQDM Logging\n",
    "            # ---------------------------\n",
    "            pbar.set_postfix({\n",
    "                \"Epoch\": f\"{epoch + 1}/{epochs}\",\n",
    "                \"Train Loss\": f\"{avg_train_loss:.4f}\",\n",
    "                \"Train RMSE\": f\"{train_rmse:.4f}\",\n",
    "                \"Val Loss\": f\"{avg_val_loss:.4f}\",\n",
    "                \"Val RMSE\": f\"{val_rmse:.4f}\"\n",
    "            })\n",
    "            pbar.update(0)\n",
    "\n",
    "    # ======================\n",
    "    #  Final Summary\n",
    "    # ======================\n",
    "    # Load best model\n",
    "    model.load_state_dict(torch.load(model_path))\n",
    "\n",
    "    # Summaries\n",
    "    summary = {\n",
    "        \"best_epoch\": best_epoch,\n",
    "        \"best_val_loss\": best_val_loss,\n",
    "        \"best_val_rmse\": best_val_rmse,\n",
    "        \"final_train_loss\": fold_metrics[\"train_loss\"][-1] if fold_metrics[\"train_loss\"] else None,\n",
    "        \"final_val_loss\": fold_metrics[\"val_loss\"][-1] if fold_metrics[\"val_loss\"] else None,\n",
    "        \"final_train_rmse\": fold_metrics[\"train_rmse\"][-1] if fold_metrics[\"train_rmse\"] else None,\n",
    "        \"final_val_rmse\": fold_metrics[\"val_rmse\"][-1] if fold_metrics[\"val_rmse\"] else None,\n",
    "    }\n",
    "\n",
    "    print(\"\\n--- Train/Validation Summary ---\")\n",
    "    for key, value in summary.items():\n",
    "        print(f\"{key}: {value}\")\n",
    "\n",
    "    print(f\"\\nTraining complete. Best model loaded (epoch {best_epoch}).\")\n",
    "\n",
    "    return model, summary"
   ]
  },
  {
   "cell_type": "code",
   "execution_count": 7,
   "metadata": {},
   "outputs": [
    {
     "name": "stdout",
     "output_type": "stream",
     "text": [
      "Using standard train/validation approach instead of k-fold.\n"
     ]
    },
    {
     "data": {
      "application/vnd.jupyter.widget-view+json": {
       "model_id": "f0d9a5c6d31d49c58e596f6b9be20c01",
       "version_major": 2,
       "version_minor": 0
      },
      "text/plain": [
       "Training:   0%|          | 0/150 [00:00<?, ?batch/s]"
      ]
     },
     "metadata": {},
     "output_type": "display_data"
    },
    {
     "name": "stdout",
     "output_type": "stream",
     "text": [
      "No improvement for 1 epoch(s).\n",
      "No improvement for 1 epoch(s).\n",
      "No improvement for 2 epoch(s).\n",
      "No improvement for 3 epoch(s).\n",
      "No improvement for 1 epoch(s).\n",
      "No improvement for 2 epoch(s).\n",
      "No improvement for 3 epoch(s).\n",
      "No improvement for 1 epoch(s).\n",
      "No improvement for 1 epoch(s).\n",
      "No improvement for 2 epoch(s).\n",
      "No improvement for 1 epoch(s).\n",
      "No improvement for 2 epoch(s).\n",
      "No improvement for 3 epoch(s).\n",
      "No improvement for 4 epoch(s).\n",
      "No improvement for 5 epoch(s).\n",
      "No improvement for 6 epoch(s).\n",
      "No improvement for 7 epoch(s).\n",
      "No improvement for 1 epoch(s).\n",
      "No improvement for 2 epoch(s).\n",
      "No improvement for 3 epoch(s).\n",
      "No improvement for 4 epoch(s).\n",
      "No improvement for 5 epoch(s).\n",
      "No improvement for 6 epoch(s).\n",
      "No improvement for 7 epoch(s).\n",
      "No improvement for 8 epoch(s).\n",
      "No improvement for 9 epoch(s).\n",
      "No improvement for 10 epoch(s).\n",
      "Early stopping triggered.\n",
      "Early stopping at epoch 144\n",
      "\n",
      "--- Train/Validation Summary ---\n",
      "best_epoch: 133\n",
      "best_val_loss: 619.9338989257812\n",
      "best_val_rmse: 24.898469924926758\n",
      "final_train_loss: 131.9693145751953\n",
      "final_val_loss: 702.994873046875\n",
      "final_train_rmse: 11.487789154052734\n",
      "final_val_rmse: 26.514047622680664\n",
      "\n",
      "Training complete. Best model loaded (epoch 133).\n"
     ]
    },
    {
     "name": "stderr",
     "output_type": "stream",
     "text": [
      "/tmp/ipykernel_97383/3161191942.py:199: FutureWarning: You are using `torch.load` with `weights_only=False` (the current default value), which uses the default pickle module implicitly. It is possible to construct malicious pickle data which will execute arbitrary code during unpickling (See https://github.com/pytorch/pytorch/blob/main/SECURITY.md#untrusted-models for more details). In a future release, the default value for `weights_only` will be flipped to `True`. This limits the functions that could be executed during unpickling. Arbitrary objects will no longer be allowed to be loaded via this mode unless they are explicitly allowlisted by the user via `torch.serialization.add_safe_globals`. We recommend you start setting `weights_only=True` for any use case where you don't have full control of the loaded file. Please open an issue on GitHub for any issues related to this experimental feature.\n",
      "  model.load_state_dict(torch.load(model_path))\n"
     ]
    }
   ],
   "source": [
    "# Best hyperparameters: \n",
    "#   {'nhead': 4, 'd_model': 96, 'dim_feedforward': 192, 'num_layers': 1, 'dropout': 0.4333827218510093, \n",
    "#       'lr': 0.003895180196123437, 'weight_decay': 6.638328586838593e-06}\n",
    "# Best validation RMSE: 34.41191377372541\n",
    "\n",
    "#Best hyperparameters: {'nhead': 8, 'd_model': 256, 'dim_feedforward': 448, 'num_layers': 1, \n",
    "# 'dropout': 0.1003562785910157, 'lr': 0.0007065882362962968, 'weight_decay': 1.2378678290714463e-06}\n",
    "#Best validation RMSE: 29.802541732788086\n",
    "\n",
    "\n",
    "# Define model configuration\n",
    "model_config = {\n",
    "    \"input_dim\": input_dim,\n",
    "    \"d_model\": 256,\n",
    "    \"nhead\": 8,\n",
    "    \"num_layers\": 1,\n",
    "    \"dim_feedforward\": 448,\n",
    "    \"dropout\": 0.1003562785910157,\n",
    "}\n",
    "\n",
    "learning_rate = 0.0007065882362962968\n",
    "weight_decay = 1.2378678290714463e-06\n",
    "\n",
    "train_loader, val_loader = fold_loaders[0]\n",
    "\n",
    "# Train using k-fold loaders\n",
    "model, summary = train_and_validate_single_run(\n",
    "        train_loader=train_loader, val_loader=val_loader,\n",
    "        model_config=model_config,\n",
    "        epochs=150, \n",
    "        lr=learning_rate,\n",
    "        weight_decay=weight_decay,\n",
    "        patience=10,\n",
    "        loss_type=\"mse\"\n",
    "    )"
   ]
  },
  {
   "cell_type": "markdown",
   "metadata": {},
   "source": [
    "## **Difference Between MSE and Huber Loss and Implications on Validation Loss and RMSE**\n",
    "\n",
    "Both **Mean Squared Error (MSE)** and **Huber Loss** are used in regression tasks, but they handle errors differently, particularly when it comes to **outliers**.\n",
    "\n",
    "---\n",
    "\n",
    "### **1. Mean Squared Error (MSE)**\n",
    "- **Formula**:\n",
    "  $$\n",
    "  L_{\\text{MSE}} = \\frac{1}{N} \\sum_{i=1}^N (\\hat{y}_i - y_i)^2\n",
    "  $$\n",
    "- **Characteristics**:\n",
    "  - Penalizes **larger errors more severely** because the error is squared.\n",
    "  - Sensitive to **outliers**: A single large error can dominate the loss, destabilizing training.\n",
    "  - Best for data where outliers are rare or unimportant.\n",
    "- **Implications on Metrics**:\n",
    "  - **Validation Loss**:\n",
    "    - Directly reflects the average of squared errors.\n",
    "    - Sensitive to outliers; validation loss can become large if the test set contains outliers.\n",
    "  - **Validation RMSE**:\n",
    "    - RMSE is derived from MSE:  \n",
    "      $$\n",
    "      \\text{RMSE} = \\sqrt{\\frac{1}{N} \\sum_{i=1}^N (\\hat{y}_i - y_i)^2}\n",
    "      $$\n",
    "    - RMSE magnifies large errors (due to the square root), making it more sensitive to outliers than MAE.\n",
    "\n",
    "---\n",
    "\n",
    "### **2. Huber Loss**\n",
    "- **Formula**:\n",
    "  $$\n",
    "  L_{\\text{Huber}} =\n",
    "  \\begin{cases}\n",
    "    \\frac{1}{2} (\\hat{y}_i - y_i)^2 & \\text{if } |\\hat{y}_i - y_i| \\leq \\delta, \\\\\n",
    "    \\delta \\cdot |\\hat{y}_i - y_i| - \\frac{1}{2} \\delta^2 & \\text{otherwise.}\n",
    "  \\end{cases}\n",
    "  $$\n",
    "  where $\\delta$ is the threshold for determining whether an error is small or large.\n",
    "  \n",
    "- **Characteristics**:\n",
    "  - **Quadratic for small errors** ($ |error| \\leq \\delta $): Similar to MSE for small errors.\n",
    "  - **Linear for large errors** ($ |error| > \\delta $): Less sensitive to outliers compared to MSE.\n",
    "  - The transition point is controlled by $\\delta$ (default is 1.0 in PyTorch).\n",
    "- **Implications on Metrics**:\n",
    "  - **Validation Loss**:\n",
    "    - Huber Loss will be smaller than MSE if the dataset contains large outliers, as large errors are penalized linearly instead of quadratically.\n",
    "    - Loss reflects a combination of MSE (for small errors) and MAE-like behavior (for large errors).\n",
    "  - **Validation RMSE**:\n",
    "    - RMSE is still calculated from squared residuals, so it remains sensitive to outliers.\n",
    "    - There might be a **mismatch** between the Huber Loss (less sensitive to outliers) and RMSE (still sensitive to outliers).\n",
    "\n",
    "---\n",
    "\n",
    "### **Key Differences in Behavior**\n",
    "\n",
    "| **Aspect**            | **MSE**                                          | **Huber Loss**                                   |\n",
    "|------------------------|--------------------------------------------------|-------------------------------------------------|\n",
    "| **Outlier Sensitivity**| Very sensitive to large errors                   | Less sensitive; outlier impact reduced linearly |\n",
    "| **Validation Loss**    | Can be dominated by outliers                     | More robust; reflects balanced error behavior   |\n",
    "| **Validation RMSE**    | Sensitive to outliers (matches MSE behavior)     | Remains sensitive to outliers despite Huber Loss|\n",
    "\n",
    "---\n",
    "\n",
    "### **Implications for Validation Metrics**\n",
    "\n",
    "#### **1. Validation Loss**\n",
    "- **When using Huber Loss**:\n",
    "  - Validation loss reflects the mix of quadratic (small errors) and linear (large errors) penalties.\n",
    "  - Outliers have **less influence** compared to MSE.\n",
    "  - You may notice that validation loss is smaller with Huber Loss if outliers are present.\n",
    "\n",
    "- **When using MSE**:\n",
    "  - Validation loss will directly reflect the squared residuals, with **large penalties** for outliers.\n",
    "  - If outliers are present, MSE will likely result in larger validation losses compared to Huber Loss.\n",
    "\n",
    "#### **2. Validation RMSE**\n",
    "- **Independent of Loss Function**:\n",
    "  - RMSE always uses squared residuals.\n",
    "  - If there are outliers, RMSE will still be inflated regardless of whether the model was trained with MSE or Huber Loss.\n",
    "- **Mismatch Possibility**:\n",
    "  - If you train with Huber Loss (less sensitive to outliers) but evaluate using RMSE (sensitive to outliers), you may observe higher RMSE than expected based on the validation loss.\n",
    "\n",
    "---\n",
    "\n",
    "### **When to Use MSE vs. Huber Loss**\n",
    "\n",
    "| **Use MSE**                           | **Use Huber Loss**                        |\n",
    "|---------------------------------------|-------------------------------------------|\n",
    "| When outliers are rare or negligible. | When the dataset contains significant outliers. |\n",
    "| When penalizing large errors is crucial.| When robustness to outliers is important. |\n",
    "| When you want RMSE to match training. | When you care more about average predictive behavior. |\n",
    "\n",
    "---\n",
    "\n",
    "### **Summary**\n",
    "- **Validation Loss** reflects the behavior of the loss function used in training:\n",
    "  - MSE is more sensitive to outliers than Huber Loss.\n",
    "- **Validation RMSE** is always computed using squared residuals, so it remains sensitive to outliers, even if Huber Loss is used for training.\n",
    "- When using Huber Loss, expect a potential **mismatch** between the validation loss and RMSE due to differing sensitivity to outliers.\n"
   ]
  },
  {
   "cell_type": "code",
   "execution_count": 8,
   "metadata": {},
   "outputs": [
    {
     "name": "stdout",
     "output_type": "stream",
     "text": [
      "Model saved to saved_weights/model.pth\n"
     ]
    }
   ],
   "source": [
    "# Save the dictionary\n",
    "torch.save(model_config, config_path)\n",
    "\n",
    "# Save the model state dictionary for AdvancedContentRecommendationNet\n",
    "torch.save({\n",
    "    'model_state_dict': model.state_dict(),    \n",
    "    'learning_rate': learning_rate,\n",
    "    'weight_decay': weight_decay,\n",
    "    'overlap': overlap,\n",
    "    'sequence_length': sequence_length,\n",
    "    'batch_size': batch_size,\n",
    "}, model_path)\n",
    "\n",
    "print(f\"Model saved to {model_path}\")"
   ]
  },
  {
   "cell_type": "markdown",
   "metadata": {},
   "source": [
    "# Training without K-Fold: Optuna"
   ]
  },
  {
   "cell_type": "code",
   "execution_count": 4,
   "metadata": {},
   "outputs": [
    {
     "name": "stderr",
     "output_type": "stream",
     "text": [
      "[I 2025-01-16 10:45:28,893] A new study created in memory with name: no-name-957b5d06-0450-4eba-a006-532672eb8aba\n"
     ]
    },
    {
     "name": "stdout",
     "output_type": "stream",
     "text": [
      "Using standard train/validation approach instead of k-fold.\n"
     ]
    },
    {
     "data": {
      "application/vnd.jupyter.widget-view+json": {
       "model_id": "5c32927c3a2842eb9144d8be8f9858da",
       "version_major": 2,
       "version_minor": 0
      },
      "text/plain": [
       "Training:   0%|          | 0/150 [00:00<?, ?batch/s]"
      ]
     },
     "metadata": {},
     "output_type": "display_data"
    },
    {
     "name": "stderr",
     "output_type": "stream",
     "text": [
      "/home/oliver/anaconda3/envs/pytorch_env/lib/python3.10/site-packages/torch/nn/modules/transformer.py:502: UserWarning: The PyTorch API of nested tensors is in prototype stage and will change in the near future. (Triggered internally at /opt/conda/conda-bld/pytorch_1729647327489/work/aten/src/ATen/NestedTensorImpl.cpp:178.)\n",
      "  output = torch._nested_tensor_from_mask(\n",
      "/tmp/ipykernel_9428/3161191942.py:199: FutureWarning: You are using `torch.load` with `weights_only=False` (the current default value), which uses the default pickle module implicitly. It is possible to construct malicious pickle data which will execute arbitrary code during unpickling (See https://github.com/pytorch/pytorch/blob/main/SECURITY.md#untrusted-models for more details). In a future release, the default value for `weights_only` will be flipped to `True`. This limits the functions that could be executed during unpickling. Arbitrary objects will no longer be allowed to be loaded via this mode unless they are explicitly allowlisted by the user via `torch.serialization.add_safe_globals`. We recommend you start setting `weights_only=True` for any use case where you don't have full control of the loaded file. Please open an issue on GitHub for any issues related to this experimental feature.\n",
      "  model.load_state_dict(torch.load(model_path))\n",
      "[I 2025-01-16 10:46:37,829] Trial 0 finished with value: 85.39543151855469 and parameters: {'nhead': 2, 'd_model': 32, 'dim_feedforward': 128, 'num_layers': 2, 'dropout': 0.41715106575992833, 'lr': 0.0009100125010213395, 'weight_decay': 4.468316921710944e-05}. Best is trial 0 with value: 85.39543151855469.\n"
     ]
    },
    {
     "name": "stdout",
     "output_type": "stream",
     "text": [
      "\n",
      "--- Train/Validation Summary ---\n",
      "best_epoch: 50\n",
      "best_val_loss: 7292.37939453125\n",
      "best_val_rmse: 85.39543151855469\n",
      "final_train_loss: 7127.043541217672\n",
      "final_val_loss: 7292.37939453125\n",
      "final_train_rmse: 84.42182159423828\n",
      "final_val_rmse: 85.39543151855469\n",
      "\n",
      "Training complete. Best model loaded (epoch 50).\n",
      "Using standard train/validation approach instead of k-fold.\n"
     ]
    },
    {
     "data": {
      "application/vnd.jupyter.widget-view+json": {
       "model_id": "803a8dbcb3a8471e8667c1e87eb00dce",
       "version_major": 2,
       "version_minor": 0
      },
      "text/plain": [
       "Training:   0%|          | 0/150 [00:00<?, ?batch/s]"
      ]
     },
     "metadata": {},
     "output_type": "display_data"
    },
    {
     "name": "stdout",
     "output_type": "stream",
     "text": [
      "No improvement for 1 epoch(s).\n",
      "No improvement for 2 epoch(s).\n",
      "No improvement for 3 epoch(s).\n",
      "No improvement for 4 epoch(s).\n",
      "No improvement for 5 epoch(s).\n",
      "No improvement for 6 epoch(s).\n",
      "No improvement for 7 epoch(s).\n",
      "No improvement for 8 epoch(s).\n",
      "No improvement for 9 epoch(s).\n"
     ]
    },
    {
     "name": "stderr",
     "output_type": "stream",
     "text": [
      "[I 2025-01-16 10:47:21,562] Trial 1 finished with value: 35.658477783203125 and parameters: {'nhead': 4, 'd_model': 96, 'dim_feedforward': 320, 'num_layers': 3, 'dropout': 0.21257289767210152, 'lr': 0.0027907410320924878, 'weight_decay': 3.6538160595710514e-06}. Best is trial 1 with value: 35.658477783203125.\n"
     ]
    },
    {
     "name": "stdout",
     "output_type": "stream",
     "text": [
      "No improvement for 10 epoch(s).\n",
      "Early stopping triggered.\n",
      "Early stopping at epoch 34\n",
      "\n",
      "--- Train/Validation Summary ---\n",
      "best_epoch: 23\n",
      "best_val_loss: 1268.5848388671875\n",
      "best_val_rmse: 35.6171989440918\n",
      "final_train_loss: 812.5128258014547\n",
      "final_val_loss: 1271.527099609375\n",
      "final_train_rmse: 28.50461196899414\n",
      "final_val_rmse: 35.658477783203125\n",
      "\n",
      "Training complete. Best model loaded (epoch 23).\n",
      "Using standard train/validation approach instead of k-fold.\n"
     ]
    },
    {
     "data": {
      "application/vnd.jupyter.widget-view+json": {
       "model_id": "fc26cc8bcfaa40c5a1a36b4f6db4d6e8",
       "version_major": 2,
       "version_minor": 0
      },
      "text/plain": [
       "Training:   0%|          | 0/150 [00:00<?, ?batch/s]"
      ]
     },
     "metadata": {},
     "output_type": "display_data"
    },
    {
     "name": "stderr",
     "output_type": "stream",
     "text": [
      "[I 2025-01-16 10:48:28,096] Trial 2 finished with value: 93.34913635253906 and parameters: {'nhead': 6, 'd_model': 96, 'dim_feedforward': 384, 'num_layers': 1, 'dropout': 0.10130586611119274, 'lr': 0.00022875276637802745, 'weight_decay': 1.3487486974301722e-05}. Best is trial 1 with value: 35.658477783203125.\n"
     ]
    },
    {
     "name": "stdout",
     "output_type": "stream",
     "text": [
      "\n",
      "--- Train/Validation Summary ---\n",
      "best_epoch: 50\n",
      "best_val_loss: 8714.060546875\n",
      "best_val_rmse: 93.34913635253906\n",
      "final_train_loss: 8391.460378502155\n",
      "final_val_loss: 8714.060546875\n",
      "final_train_rmse: 91.60491180419922\n",
      "final_val_rmse: 93.34913635253906\n",
      "\n",
      "Training complete. Best model loaded (epoch 50).\n",
      "Using standard train/validation approach instead of k-fold.\n"
     ]
    },
    {
     "data": {
      "application/vnd.jupyter.widget-view+json": {
       "model_id": "41ddca1b9adf4b2d9a8c64435aca0b04",
       "version_major": 2,
       "version_minor": 0
      },
      "text/plain": [
       "Training:   0%|          | 0/150 [00:00<?, ?batch/s]"
      ]
     },
     "metadata": {},
     "output_type": "display_data"
    },
    {
     "name": "stdout",
     "output_type": "stream",
     "text": [
      "No improvement for 1 epoch(s).\n",
      "No improvement for 2 epoch(s).\n",
      "No improvement for 3 epoch(s).\n",
      "No improvement for 4 epoch(s).\n",
      "No improvement for 5 epoch(s).\n",
      "No improvement for 6 epoch(s).\n",
      "No improvement for 7 epoch(s).\n",
      "No improvement for 8 epoch(s).\n",
      "No improvement for 9 epoch(s).\n",
      "No improvement for 1 epoch(s).\n",
      "No improvement for 2 epoch(s).\n",
      "No improvement for 3 epoch(s).\n",
      "No improvement for 4 epoch(s).\n",
      "No improvement for 5 epoch(s).\n",
      "No improvement for 6 epoch(s).\n",
      "No improvement for 7 epoch(s).\n",
      "No improvement for 8 epoch(s).\n",
      "No improvement for 9 epoch(s).\n"
     ]
    },
    {
     "name": "stderr",
     "output_type": "stream",
     "text": [
      "[I 2025-01-16 10:49:25,283] Trial 3 finished with value: 35.83006286621094 and parameters: {'nhead': 2, 'd_model': 32, 'dim_feedforward': 384, 'num_layers': 1, 'dropout': 0.12187187535424973, 'lr': 0.0076559160833497356, 'weight_decay': 3.185977842709043e-06}. Best is trial 1 with value: 35.658477783203125.\n"
     ]
    },
    {
     "name": "stdout",
     "output_type": "stream",
     "text": [
      "No improvement for 10 epoch(s).\n",
      "Early stopping triggered.\n",
      "Early stopping at epoch 45\n",
      "\n",
      "--- Train/Validation Summary ---\n",
      "best_epoch: 34\n",
      "best_val_loss: 1098.5098876953125\n",
      "best_val_rmse: 33.143775939941406\n",
      "final_train_loss: 778.7461871969289\n",
      "final_val_loss: 1283.79345703125\n",
      "final_train_rmse: 27.906024932861328\n",
      "final_val_rmse: 35.83006286621094\n",
      "\n",
      "Training complete. Best model loaded (epoch 34).\n",
      "Using standard train/validation approach instead of k-fold.\n"
     ]
    },
    {
     "data": {
      "application/vnd.jupyter.widget-view+json": {
       "model_id": "6328c26896994e65bf3c0a48082e7a5a",
       "version_major": 2,
       "version_minor": 0
      },
      "text/plain": [
       "Training:   0%|          | 0/150 [00:00<?, ?batch/s]"
      ]
     },
     "metadata": {},
     "output_type": "display_data"
    },
    {
     "name": "stderr",
     "output_type": "stream",
     "text": [
      "[I 2025-01-16 10:50:31,907] Trial 4 finished with value: 55.38187789916992 and parameters: {'nhead': 4, 'd_model': 64, 'dim_feedforward': 128, 'num_layers': 1, 'dropout': 0.32981189431242497, 'lr': 0.0009508062184096529, 'weight_decay': 9.546137023836632e-05}. Best is trial 1 with value: 35.658477783203125.\n"
     ]
    },
    {
     "name": "stdout",
     "output_type": "stream",
     "text": [
      "\n",
      "--- Train/Validation Summary ---\n",
      "best_epoch: 50\n",
      "best_val_loss: 3067.15234375\n",
      "best_val_rmse: 55.38187789916992\n",
      "final_train_loss: 2917.6335230334053\n",
      "final_val_loss: 3067.15234375\n",
      "final_train_rmse: 54.0151252746582\n",
      "final_val_rmse: 55.38187789916992\n",
      "\n",
      "Training complete. Best model loaded (epoch 50).\n",
      "Using standard train/validation approach instead of k-fold.\n"
     ]
    },
    {
     "data": {
      "application/vnd.jupyter.widget-view+json": {
       "model_id": "7aeb18bac8484d939105dc72ad4f5d5b",
       "version_major": 2,
       "version_minor": 0
      },
      "text/plain": [
       "Training:   0%|          | 0/150 [00:00<?, ?batch/s]"
      ]
     },
     "metadata": {},
     "output_type": "display_data"
    },
    {
     "name": "stderr",
     "output_type": "stream",
     "text": [
      "[I 2025-01-16 10:51:39,819] Trial 5 finished with value: 89.52456665039062 and parameters: {'nhead': 8, 'd_model': 256, 'dim_feedforward': 128, 'num_layers': 2, 'dropout': 0.33872842678742987, 'lr': 0.00010079164192238809, 'weight_decay': 5.802472192990997e-05}. Best is trial 1 with value: 35.658477783203125.\n"
     ]
    },
    {
     "name": "stdout",
     "output_type": "stream",
     "text": [
      "\n",
      "--- Train/Validation Summary ---\n",
      "best_epoch: 50\n",
      "best_val_loss: 8014.6484375\n",
      "best_val_rmse: 89.52456665039062\n",
      "final_train_loss: 7818.81060075431\n",
      "final_val_loss: 8014.6484375\n",
      "final_train_rmse: 88.42404174804688\n",
      "final_val_rmse: 89.52456665039062\n",
      "\n",
      "Training complete. Best model loaded (epoch 50).\n",
      "Using standard train/validation approach instead of k-fold.\n"
     ]
    },
    {
     "data": {
      "application/vnd.jupyter.widget-view+json": {
       "model_id": "1193af5373df42f58b1a9227a6f80105",
       "version_major": 2,
       "version_minor": 0
      },
      "text/plain": [
       "Training:   0%|          | 0/150 [00:00<?, ?batch/s]"
      ]
     },
     "metadata": {},
     "output_type": "display_data"
    },
    {
     "name": "stderr",
     "output_type": "stream",
     "text": [
      "[I 2025-01-16 10:52:46,733] Trial 6 finished with value: 89.36243438720703 and parameters: {'nhead': 2, 'd_model': 64, 'dim_feedforward': 512, 'num_layers': 1, 'dropout': 0.47379846247894264, 'lr': 0.0004273963498808898, 'weight_decay': 7.786806677815064e-06}. Best is trial 1 with value: 35.658477783203125.\n"
     ]
    },
    {
     "name": "stdout",
     "output_type": "stream",
     "text": [
      "\n",
      "--- Train/Validation Summary ---\n",
      "best_epoch: 50\n",
      "best_val_loss: 7985.64306640625\n",
      "best_val_rmse: 89.36243438720703\n",
      "final_train_loss: 7762.992625269397\n",
      "final_val_loss: 7985.64306640625\n",
      "final_train_rmse: 88.10784912109375\n",
      "final_val_rmse: 89.36243438720703\n",
      "\n",
      "Training complete. Best model loaded (epoch 50).\n",
      "Using standard train/validation approach instead of k-fold.\n"
     ]
    },
    {
     "data": {
      "application/vnd.jupyter.widget-view+json": {
       "model_id": "5e808e272b27426cb22f53286d2f17ba",
       "version_major": 2,
       "version_minor": 0
      },
      "text/plain": [
       "Training:   0%|          | 0/150 [00:00<?, ?batch/s]"
      ]
     },
     "metadata": {},
     "output_type": "display_data"
    },
    {
     "name": "stdout",
     "output_type": "stream",
     "text": [
      "No improvement for 1 epoch(s).\n",
      "No improvement for 2 epoch(s).\n",
      "No improvement for 3 epoch(s).\n",
      "No improvement for 4 epoch(s).\n",
      "No improvement for 5 epoch(s).\n",
      "No improvement for 6 epoch(s).\n",
      "No improvement for 7 epoch(s).\n",
      "No improvement for 8 epoch(s).\n",
      "No improvement for 9 epoch(s).\n"
     ]
    },
    {
     "name": "stderr",
     "output_type": "stream",
     "text": [
      "[I 2025-01-16 10:53:29,440] Trial 7 finished with value: 35.560115814208984 and parameters: {'nhead': 8, 'd_model': 256, 'dim_feedforward': 128, 'num_layers': 1, 'dropout': 0.16334448703805404, 'lr': 0.0013205299491193944, 'weight_decay': 6.814576807940855e-05}. Best is trial 7 with value: 35.560115814208984.\n"
     ]
    },
    {
     "name": "stdout",
     "output_type": "stream",
     "text": [
      "No improvement for 10 epoch(s).\n",
      "Early stopping triggered.\n",
      "Early stopping at epoch 34\n",
      "\n",
      "--- Train/Validation Summary ---\n",
      "best_epoch: 23\n",
      "best_val_loss: 1213.625\n",
      "best_val_rmse: 34.837120056152344\n",
      "final_train_loss: 425.05606942012395\n",
      "final_val_loss: 1264.52197265625\n",
      "final_train_rmse: 20.616886138916016\n",
      "final_val_rmse: 35.560115814208984\n",
      "\n",
      "Training complete. Best model loaded (epoch 23).\n",
      "Using standard train/validation approach instead of k-fold.\n"
     ]
    },
    {
     "data": {
      "application/vnd.jupyter.widget-view+json": {
       "model_id": "9bedb19e840b43b6a63a3504b3345835",
       "version_major": 2,
       "version_minor": 0
      },
      "text/plain": [
       "Training:   0%|          | 0/150 [00:00<?, ?batch/s]"
      ]
     },
     "metadata": {},
     "output_type": "display_data"
    },
    {
     "name": "stdout",
     "output_type": "stream",
     "text": [
      "No improvement for 1 epoch(s).\n",
      "No improvement for 1 epoch(s).\n",
      "No improvement for 1 epoch(s).\n"
     ]
    },
    {
     "name": "stderr",
     "output_type": "stream",
     "text": [
      "[I 2025-01-16 10:54:35,840] Trial 8 finished with value: 35.11940002441406 and parameters: {'nhead': 2, 'd_model': 64, 'dim_feedforward': 448, 'num_layers': 1, 'dropout': 0.2402938762454376, 'lr': 0.001848634139443336, 'weight_decay': 1.2497262447032477e-05}. Best is trial 8 with value: 35.11940002441406.\n"
     ]
    },
    {
     "name": "stdout",
     "output_type": "stream",
     "text": [
      "No improvement for 1 epoch(s).\n",
      "\n",
      "--- Train/Validation Summary ---\n",
      "best_epoch: 49\n",
      "best_val_loss: 1219.041748046875\n",
      "best_val_rmse: 34.91477966308594\n",
      "final_train_loss: 820.1900146484375\n",
      "final_val_loss: 1233.372314453125\n",
      "final_train_rmse: 28.638959884643555\n",
      "final_val_rmse: 35.11940002441406\n",
      "\n",
      "Training complete. Best model loaded (epoch 49).\n",
      "Using standard train/validation approach instead of k-fold.\n"
     ]
    },
    {
     "data": {
      "application/vnd.jupyter.widget-view+json": {
       "model_id": "034e3cf4c470483ba7a290a0f19278da",
       "version_major": 2,
       "version_minor": 0
      },
      "text/plain": [
       "Training:   0%|          | 0/150 [00:00<?, ?batch/s]"
      ]
     },
     "metadata": {},
     "output_type": "display_data"
    },
    {
     "name": "stdout",
     "output_type": "stream",
     "text": [
      "No improvement for 1 epoch(s).\n",
      "No improvement for 2 epoch(s).\n",
      "No improvement for 3 epoch(s).\n",
      "No improvement for 1 epoch(s).\n",
      "No improvement for 2 epoch(s).\n",
      "No improvement for 3 epoch(s).\n",
      "No improvement for 4 epoch(s).\n",
      "No improvement for 5 epoch(s).\n",
      "No improvement for 6 epoch(s).\n",
      "No improvement for 7 epoch(s).\n",
      "No improvement for 8 epoch(s).\n",
      "No improvement for 9 epoch(s).\n"
     ]
    },
    {
     "name": "stderr",
     "output_type": "stream",
     "text": [
      "[I 2025-01-16 10:55:04,474] Trial 9 finished with value: 55.60214614868164 and parameters: {'nhead': 8, 'd_model': 192, 'dim_feedforward': 256, 'num_layers': 3, 'dropout': 0.20864816624240873, 'lr': 0.007150775383369419, 'weight_decay': 1.6001224419562254e-06}. Best is trial 8 with value: 35.11940002441406.\n"
     ]
    },
    {
     "name": "stdout",
     "output_type": "stream",
     "text": [
      "No improvement for 10 epoch(s).\n",
      "Early stopping triggered.\n",
      "Early stopping at epoch 22\n",
      "\n",
      "--- Train/Validation Summary ---\n",
      "best_epoch: 11\n",
      "best_val_loss: 2048.22509765625\n",
      "best_val_rmse: 45.25731658935547\n",
      "final_train_loss: 1815.548685008082\n",
      "final_val_loss: 3091.598876953125\n",
      "final_train_rmse: 42.609256744384766\n",
      "final_val_rmse: 55.60214614868164\n",
      "\n",
      "Training complete. Best model loaded (epoch 11).\n",
      "Using standard train/validation approach instead of k-fold.\n"
     ]
    },
    {
     "data": {
      "application/vnd.jupyter.widget-view+json": {
       "model_id": "2c5252e2b971413aa35a732ad3119f3f",
       "version_major": 2,
       "version_minor": 0
      },
      "text/plain": [
       "Training:   0%|          | 0/150 [00:00<?, ?batch/s]"
      ]
     },
     "metadata": {},
     "output_type": "display_data"
    },
    {
     "name": "stdout",
     "output_type": "stream",
     "text": [
      "No improvement for 1 epoch(s).\n",
      "No improvement for 1 epoch(s).\n",
      "No improvement for 1 epoch(s).\n",
      "No improvement for 2 epoch(s).\n",
      "No improvement for 3 epoch(s).\n",
      "No improvement for 4 epoch(s).\n",
      "No improvement for 5 epoch(s).\n",
      "No improvement for 6 epoch(s).\n",
      "No improvement for 7 epoch(s).\n",
      "No improvement for 8 epoch(s).\n",
      "No improvement for 9 epoch(s).\n"
     ]
    },
    {
     "name": "stderr",
     "output_type": "stream",
     "text": [
      "[I 2025-01-16 10:56:02,658] Trial 10 finished with value: 37.855743408203125 and parameters: {'nhead': 4, 'd_model': 64, 'dim_feedforward': 512, 'num_layers': 4, 'dropout': 0.24910332011220224, 'lr': 0.002962016859881158, 'weight_decay': 1.9147686132350173e-05}. Best is trial 8 with value: 35.11940002441406.\n"
     ]
    },
    {
     "name": "stdout",
     "output_type": "stream",
     "text": [
      "No improvement for 10 epoch(s).\n",
      "Early stopping triggered.\n",
      "Early stopping at epoch 43\n",
      "\n",
      "--- Train/Validation Summary ---\n",
      "best_epoch: 32\n",
      "best_val_loss: 1170.123291015625\n",
      "best_val_rmse: 34.20706558227539\n",
      "final_train_loss: 886.8460162984913\n",
      "final_val_loss: 1433.057373046875\n",
      "final_train_rmse: 29.77996063232422\n",
      "final_val_rmse: 37.855743408203125\n",
      "\n",
      "Training complete. Best model loaded (epoch 32).\n",
      "Using standard train/validation approach instead of k-fold.\n"
     ]
    },
    {
     "data": {
      "application/vnd.jupyter.widget-view+json": {
       "model_id": "f978e5ff649c41e5b0de478b6b7d2137",
       "version_major": 2,
       "version_minor": 0
      },
      "text/plain": [
       "Training:   0%|          | 0/150 [00:00<?, ?batch/s]"
      ]
     },
     "metadata": {},
     "output_type": "display_data"
    },
    {
     "name": "stdout",
     "output_type": "stream",
     "text": [
      "No improvement for 1 epoch(s).\n",
      "No improvement for 2 epoch(s).\n",
      "No improvement for 3 epoch(s).\n",
      "No improvement for 4 epoch(s).\n",
      "No improvement for 5 epoch(s).\n",
      "No improvement for 6 epoch(s).\n",
      "No improvement for 7 epoch(s).\n",
      "No improvement for 8 epoch(s).\n",
      "No improvement for 9 epoch(s).\n"
     ]
    },
    {
     "name": "stderr",
     "output_type": "stream",
     "text": [
      "[I 2025-01-16 10:56:39,161] Trial 11 finished with value: 43.095672607421875 and parameters: {'nhead': 6, 'd_model': 192, 'dim_feedforward': 256, 'num_layers': 2, 'dropout': 0.16374156049395547, 'lr': 0.002039513000442568, 'weight_decay': 2.3603287644861357e-05}. Best is trial 8 with value: 35.11940002441406.\n"
     ]
    },
    {
     "name": "stdout",
     "output_type": "stream",
     "text": [
      "No improvement for 10 epoch(s).\n",
      "Early stopping triggered.\n",
      "Early stopping at epoch 28\n",
      "\n",
      "--- Train/Validation Summary ---\n",
      "best_epoch: 17\n",
      "best_val_loss: 1304.1514892578125\n",
      "best_val_rmse: 36.113037109375\n",
      "final_train_loss: 808.8610831425108\n",
      "final_val_loss: 1857.237060546875\n",
      "final_train_rmse: 28.44048309326172\n",
      "final_val_rmse: 43.095672607421875\n",
      "\n",
      "Training complete. Best model loaded (epoch 17).\n",
      "Using standard train/validation approach instead of k-fold.\n"
     ]
    },
    {
     "data": {
      "application/vnd.jupyter.widget-view+json": {
       "model_id": "668b3e17da8543158fe680a3d94e967e",
       "version_major": 2,
       "version_minor": 0
      },
      "text/plain": [
       "Training:   0%|          | 0/150 [00:00<?, ?batch/s]"
      ]
     },
     "metadata": {},
     "output_type": "display_data"
    },
    {
     "name": "stdout",
     "output_type": "stream",
     "text": [
      "No improvement for 1 epoch(s).\n",
      "No improvement for 2 epoch(s).\n",
      "No improvement for 3 epoch(s).\n",
      "No improvement for 4 epoch(s).\n",
      "No improvement for 5 epoch(s).\n",
      "No improvement for 6 epoch(s).\n",
      "No improvement for 7 epoch(s).\n",
      "No improvement for 1 epoch(s).\n",
      "No improvement for 2 epoch(s).\n",
      "No improvement for 3 epoch(s).\n",
      "No improvement for 4 epoch(s).\n",
      "No improvement for 5 epoch(s).\n",
      "No improvement for 6 epoch(s).\n",
      "No improvement for 7 epoch(s).\n",
      "No improvement for 8 epoch(s).\n",
      "No improvement for 9 epoch(s).\n"
     ]
    },
    {
     "name": "stderr",
     "output_type": "stream",
     "text": [
      "[I 2025-01-16 10:57:36,555] Trial 12 finished with value: 37.49472427368164 and parameters: {'nhead': 6, 'd_model': 144, 'dim_feedforward': 448, 'num_layers': 1, 'dropout': 0.26794664185305506, 'lr': 0.0015973408429093778, 'weight_decay': 6.962815478252563e-06}. Best is trial 8 with value: 35.11940002441406.\n"
     ]
    },
    {
     "name": "stdout",
     "output_type": "stream",
     "text": [
      "No improvement for 10 epoch(s).\n",
      "Early stopping triggered.\n",
      "Early stopping at epoch 44\n",
      "\n",
      "--- Train/Validation Summary ---\n",
      "best_epoch: 33\n",
      "best_val_loss: 1231.4510498046875\n",
      "best_val_rmse: 35.092037200927734\n",
      "final_train_loss: 437.18787210398705\n",
      "final_val_loss: 1405.8541259765625\n",
      "final_train_rmse: 20.909038543701172\n",
      "final_val_rmse: 37.49472427368164\n",
      "\n",
      "Training complete. Best model loaded (epoch 33).\n",
      "Using standard train/validation approach instead of k-fold.\n"
     ]
    },
    {
     "data": {
      "application/vnd.jupyter.widget-view+json": {
       "model_id": "38e7c9684ce9478d898e9ef2c661d160",
       "version_major": 2,
       "version_minor": 0
      },
      "text/plain": [
       "Training:   0%|          | 0/150 [00:00<?, ?batch/s]"
      ]
     },
     "metadata": {},
     "output_type": "display_data"
    },
    {
     "name": "stdout",
     "output_type": "stream",
     "text": [
      "No improvement for 1 epoch(s).\n",
      "No improvement for 2 epoch(s).\n",
      "No improvement for 3 epoch(s).\n",
      "No improvement for 4 epoch(s).\n"
     ]
    },
    {
     "name": "stderr",
     "output_type": "stream",
     "text": [
      "[I 2025-01-16 10:58:45,688] Trial 13 finished with value: 34.43501663208008 and parameters: {'nhead': 8, 'd_model': 256, 'dim_feedforward': 256, 'num_layers': 2, 'dropout': 0.1681161145583071, 'lr': 0.0005061515084944057, 'weight_decay': 3.240908172165209e-05}. Best is trial 13 with value: 34.43501663208008.\n"
     ]
    },
    {
     "name": "stdout",
     "output_type": "stream",
     "text": [
      "No improvement for 5 epoch(s).\n",
      "\n",
      "--- Train/Validation Summary ---\n",
      "best_epoch: 45\n",
      "best_val_loss: 1136.5830078125\n",
      "best_val_rmse: 33.7132453918457\n",
      "final_train_loss: 693.7994814116379\n",
      "final_val_loss: 1185.7701416015625\n",
      "final_train_rmse: 26.340072631835938\n",
      "final_val_rmse: 34.43501663208008\n",
      "\n",
      "Training complete. Best model loaded (epoch 45).\n",
      "Using standard train/validation approach instead of k-fold.\n"
     ]
    },
    {
     "data": {
      "application/vnd.jupyter.widget-view+json": {
       "model_id": "3cb358da1fe948508bf7dca619b0bba2",
       "version_major": 2,
       "version_minor": 0
      },
      "text/plain": [
       "Training:   0%|          | 0/150 [00:00<?, ?batch/s]"
      ]
     },
     "metadata": {},
     "output_type": "display_data"
    },
    {
     "name": "stderr",
     "output_type": "stream",
     "text": [
      "[I 2025-01-16 10:59:52,802] Trial 14 finished with value: 84.5206527709961 and parameters: {'nhead': 4, 'd_model': 96, 'dim_feedforward': 256, 'num_layers': 2, 'dropout': 0.31418923423325545, 'lr': 0.00043684484576550964, 'weight_decay': 2.951149514087627e-05}. Best is trial 13 with value: 34.43501663208008.\n"
     ]
    },
    {
     "name": "stdout",
     "output_type": "stream",
     "text": [
      "\n",
      "--- Train/Validation Summary ---\n",
      "best_epoch: 50\n",
      "best_val_loss: 7143.7412109375\n",
      "best_val_rmse: 84.5206527709961\n",
      "final_train_loss: 6985.657825969827\n",
      "final_val_loss: 7143.7412109375\n",
      "final_train_rmse: 83.58024597167969\n",
      "final_val_rmse: 84.5206527709961\n",
      "\n",
      "Training complete. Best model loaded (epoch 50).\n",
      "Using standard train/validation approach instead of k-fold.\n"
     ]
    },
    {
     "data": {
      "application/vnd.jupyter.widget-view+json": {
       "model_id": "fff8f8729e8a44dd88700d4c44fbd341",
       "version_major": 2,
       "version_minor": 0
      },
      "text/plain": [
       "Training:   0%|          | 0/150 [00:00<?, ?batch/s]"
      ]
     },
     "metadata": {},
     "output_type": "display_data"
    },
    {
     "name": "stderr",
     "output_type": "stream",
     "text": [
      "[I 2025-01-16 11:01:00,770] Trial 15 finished with value: 66.48810577392578 and parameters: {'nhead': 6, 'd_model': 144, 'dim_feedforward': 320, 'num_layers': 3, 'dropout': 0.187589663670677, 'lr': 0.0004133235964558729, 'weight_decay': 3.40757032899749e-05}. Best is trial 13 with value: 34.43501663208008.\n"
     ]
    },
    {
     "name": "stdout",
     "output_type": "stream",
     "text": [
      "\n",
      "--- Train/Validation Summary ---\n",
      "best_epoch: 50\n",
      "best_val_loss: 4420.66845703125\n",
      "best_val_rmse: 66.48810577392578\n",
      "final_train_loss: 4276.768756734914\n",
      "final_val_loss: 4420.66845703125\n",
      "final_train_rmse: 65.39701080322266\n",
      "final_val_rmse: 66.48810577392578\n",
      "\n",
      "Training complete. Best model loaded (epoch 50).\n",
      "Using standard train/validation approach instead of k-fold.\n"
     ]
    },
    {
     "data": {
      "application/vnd.jupyter.widget-view+json": {
       "model_id": "079cd04ef2ff46118bfab4bf74c860ea",
       "version_major": 2,
       "version_minor": 0
      },
      "text/plain": [
       "Training:   0%|          | 0/150 [00:00<?, ?batch/s]"
      ]
     },
     "metadata": {},
     "output_type": "display_data"
    },
    {
     "name": "stdout",
     "output_type": "stream",
     "text": [
      "No improvement for 1 epoch(s).\n",
      "No improvement for 2 epoch(s).\n",
      "No improvement for 1 epoch(s).\n",
      "No improvement for 2 epoch(s).\n",
      "No improvement for 3 epoch(s).\n",
      "No improvement for 4 epoch(s).\n",
      "No improvement for 5 epoch(s).\n",
      "No improvement for 6 epoch(s).\n",
      "No improvement for 7 epoch(s).\n",
      "No improvement for 8 epoch(s).\n",
      "No improvement for 9 epoch(s).\n"
     ]
    },
    {
     "name": "stderr",
     "output_type": "stream",
     "text": [
      "[I 2025-01-16 11:02:08,195] Trial 16 finished with value: 36.30607986450195 and parameters: {'nhead': 8, 'd_model': 256, 'dim_feedforward': 448, 'num_layers': 4, 'dropout': 0.3853502759382405, 'lr': 0.0006480122037288435, 'weight_decay': 1.329233100567609e-05}. Best is trial 13 with value: 34.43501663208008.\n"
     ]
    },
    {
     "name": "stdout",
     "output_type": "stream",
     "text": [
      "No improvement for 10 epoch(s).\n",
      "Early stopping triggered.\n",
      "Early stopping at epoch 49\n",
      "\n",
      "--- Train/Validation Summary ---\n",
      "best_epoch: 38\n",
      "best_val_loss: 1167.6669921875\n",
      "best_val_rmse: 34.171142578125\n",
      "final_train_loss: 737.073088126347\n",
      "final_val_loss: 1318.1317138671875\n",
      "final_train_rmse: 27.149089813232422\n",
      "final_val_rmse: 36.30607986450195\n",
      "\n",
      "Training complete. Best model loaded (epoch 38).\n",
      "Using standard train/validation approach instead of k-fold.\n"
     ]
    },
    {
     "data": {
      "application/vnd.jupyter.widget-view+json": {
       "model_id": "c7c9ee7f1d714629b343f627a42c58a8",
       "version_major": 2,
       "version_minor": 0
      },
      "text/plain": [
       "Training:   0%|          | 0/150 [00:00<?, ?batch/s]"
      ]
     },
     "metadata": {},
     "output_type": "display_data"
    },
    {
     "name": "stderr",
     "output_type": "stream",
     "text": [
      "[I 2025-01-16 11:03:15,711] Trial 17 finished with value: 101.5266342163086 and parameters: {'nhead': 2, 'd_model': 48, 'dim_feedforward': 192, 'num_layers': 2, 'dropout': 0.256183820686829, 'lr': 0.00020368396370560481, 'weight_decay': 5.022695865207742e-06}. Best is trial 13 with value: 34.43501663208008.\n"
     ]
    },
    {
     "name": "stdout",
     "output_type": "stream",
     "text": [
      "\n",
      "--- Train/Validation Summary ---\n",
      "best_epoch: 50\n",
      "best_val_loss: 10307.6572265625\n",
      "best_val_rmse: 101.5266342163086\n",
      "final_train_loss: 9901.48018588362\n",
      "final_val_loss: 10307.6572265625\n",
      "final_train_rmse: 99.50617980957031\n",
      "final_val_rmse: 101.5266342163086\n",
      "\n",
      "Training complete. Best model loaded (epoch 50).\n",
      "Using standard train/validation approach instead of k-fold.\n"
     ]
    },
    {
     "data": {
      "application/vnd.jupyter.widget-view+json": {
       "model_id": "fd13f9b23d9942ea8a89b9719dd5c90a",
       "version_major": 2,
       "version_minor": 0
      },
      "text/plain": [
       "Training:   0%|          | 0/150 [00:00<?, ?batch/s]"
      ]
     },
     "metadata": {},
     "output_type": "display_data"
    },
    {
     "name": "stdout",
     "output_type": "stream",
     "text": [
      "No improvement for 1 epoch(s).\n",
      "No improvement for 2 epoch(s).\n",
      "No improvement for 3 epoch(s).\n",
      "No improvement for 4 epoch(s).\n",
      "No improvement for 5 epoch(s).\n",
      "No improvement for 6 epoch(s).\n",
      "No improvement for 1 epoch(s).\n",
      "No improvement for 1 epoch(s).\n",
      "No improvement for 1 epoch(s).\n",
      "No improvement for 2 epoch(s).\n",
      "No improvement for 3 epoch(s).\n",
      "No improvement for 4 epoch(s).\n",
      "No improvement for 5 epoch(s).\n",
      "No improvement for 6 epoch(s).\n",
      "No improvement for 1 epoch(s).\n",
      "No improvement for 1 epoch(s).\n",
      "No improvement for 2 epoch(s).\n",
      "No improvement for 3 epoch(s).\n",
      "No improvement for 4 epoch(s).\n",
      "No improvement for 5 epoch(s).\n",
      "No improvement for 6 epoch(s).\n",
      "No improvement for 7 epoch(s).\n",
      "No improvement for 1 epoch(s).\n",
      "No improvement for 2 epoch(s).\n",
      "No improvement for 3 epoch(s).\n",
      "No improvement for 4 epoch(s).\n",
      "No improvement for 5 epoch(s).\n"
     ]
    },
    {
     "name": "stderr",
     "output_type": "stream",
     "text": [
      "[I 2025-01-16 11:04:25,011] Trial 18 finished with value: 35.757022857666016 and parameters: {'nhead': 4, 'd_model': 96, 'dim_feedforward': 384, 'num_layers': 2, 'dropout': 0.13038040897130626, 'lr': 0.00411220845706715, 'weight_decay': 1.032007007797379e-06}. Best is trial 13 with value: 34.43501663208008.\n"
     ]
    },
    {
     "name": "stdout",
     "output_type": "stream",
     "text": [
      "\n",
      "--- Train/Validation Summary ---\n",
      "best_epoch: 50\n",
      "best_val_loss: 1278.5648193359375\n",
      "best_val_rmse: 35.757022857666016\n",
      "final_train_loss: 299.2701103473532\n",
      "final_val_loss: 1278.5648193359375\n",
      "final_train_rmse: 17.29942512512207\n",
      "final_val_rmse: 35.757022857666016\n",
      "\n",
      "Training complete. Best model loaded (epoch 50).\n",
      "Using standard train/validation approach instead of k-fold.\n"
     ]
    },
    {
     "data": {
      "application/vnd.jupyter.widget-view+json": {
       "model_id": "d61ad20ce9544429942e404e18f55f1b",
       "version_major": 2,
       "version_minor": 0
      },
      "text/plain": [
       "Training:   0%|          | 0/150 [00:00<?, ?batch/s]"
      ]
     },
     "metadata": {},
     "output_type": "display_data"
    },
    {
     "name": "stderr",
     "output_type": "stream",
     "text": [
      "[I 2025-01-16 11:05:38,775] Trial 19 finished with value: 87.83821868896484 and parameters: {'nhead': 6, 'd_model': 144, 'dim_feedforward': 448, 'num_layers': 3, 'dropout': 0.2343940419782527, 'lr': 0.00022317983766231652, 'weight_decay': 1.2109866200575204e-05}. Best is trial 13 with value: 34.43501663208008.\n"
     ]
    },
    {
     "name": "stdout",
     "output_type": "stream",
     "text": [
      "\n",
      "--- Train/Validation Summary ---\n",
      "best_epoch: 50\n",
      "best_val_loss: 7715.552734375\n",
      "best_val_rmse: 87.83821868896484\n",
      "final_train_loss: 7416.435088900862\n",
      "final_val_loss: 7715.552734375\n",
      "final_train_rmse: 86.11872100830078\n",
      "final_val_rmse: 87.83821868896484\n",
      "\n",
      "Training complete. Best model loaded (epoch 50).\n",
      "Using standard train/validation approach instead of k-fold.\n"
     ]
    },
    {
     "data": {
      "application/vnd.jupyter.widget-view+json": {
       "model_id": "42f58dd9d4744d7fb97dae09f0b01f63",
       "version_major": 2,
       "version_minor": 0
      },
      "text/plain": [
       "Training:   0%|          | 0/150 [00:00<?, ?batch/s]"
      ]
     },
     "metadata": {},
     "output_type": "display_data"
    },
    {
     "name": "stdout",
     "output_type": "stream",
     "text": [
      "No improvement for 1 epoch(s).\n",
      "No improvement for 1 epoch(s).\n",
      "No improvement for 2 epoch(s).\n",
      "No improvement for 3 epoch(s).\n",
      "No improvement for 4 epoch(s).\n",
      "No improvement for 5 epoch(s).\n",
      "No improvement for 6 epoch(s).\n",
      "No improvement for 7 epoch(s).\n",
      "No improvement for 8 epoch(s).\n",
      "No improvement for 9 epoch(s).\n"
     ]
    },
    {
     "name": "stderr",
     "output_type": "stream",
     "text": [
      "[I 2025-01-16 11:06:46,238] Trial 20 finished with value: 34.1253662109375 and parameters: {'nhead': 8, 'd_model': 256, 'dim_feedforward': 192, 'num_layers': 1, 'dropout': 0.2969086900141115, 'lr': 0.0006499263720145911, 'weight_decay': 2.0321858504547665e-05}. Best is trial 20 with value: 34.1253662109375.\n"
     ]
    },
    {
     "name": "stdout",
     "output_type": "stream",
     "text": [
      "No improvement for 10 epoch(s).\n",
      "Early stopping triggered.\n",
      "\n",
      "--- Train/Validation Summary ---\n",
      "best_epoch: 40\n",
      "best_val_loss: 1091.5758056640625\n",
      "best_val_rmse: 33.039005279541016\n",
      "final_train_loss: 570.243100080819\n",
      "final_val_loss: 1164.5406494140625\n",
      "final_train_rmse: 23.879762649536133\n",
      "final_val_rmse: 34.1253662109375\n",
      "\n",
      "Training complete. Best model loaded (epoch 40).\n",
      "Using standard train/validation approach instead of k-fold.\n"
     ]
    },
    {
     "data": {
      "application/vnd.jupyter.widget-view+json": {
       "model_id": "fd78a26521304559a8aefae9bcc96cec",
       "version_major": 2,
       "version_minor": 0
      },
      "text/plain": [
       "Training:   0%|          | 0/150 [00:00<?, ?batch/s]"
      ]
     },
     "metadata": {},
     "output_type": "display_data"
    },
    {
     "name": "stdout",
     "output_type": "stream",
     "text": [
      "No improvement for 1 epoch(s).\n",
      "No improvement for 1 epoch(s).\n",
      "No improvement for 2 epoch(s).\n",
      "No improvement for 3 epoch(s).\n",
      "No improvement for 4 epoch(s).\n",
      "No improvement for 5 epoch(s).\n",
      "No improvement for 1 epoch(s).\n"
     ]
    },
    {
     "name": "stderr",
     "output_type": "stream",
     "text": [
      "[I 2025-01-16 11:07:55,873] Trial 21 finished with value: 33.25065231323242 and parameters: {'nhead': 8, 'd_model': 256, 'dim_feedforward': 192, 'num_layers': 1, 'dropout': 0.28013765316749745, 'lr': 0.0005921478547415861, 'weight_decay': 1.8817498894207575e-05}. Best is trial 21 with value: 33.25065231323242.\n"
     ]
    },
    {
     "name": "stdout",
     "output_type": "stream",
     "text": [
      "No improvement for 2 epoch(s).\n",
      "\n",
      "--- Train/Validation Summary ---\n",
      "best_epoch: 48\n",
      "best_val_loss: 1093.8504638671875\n",
      "best_val_rmse: 33.07341003417969\n",
      "final_train_loss: 597.6001902613147\n",
      "final_val_loss: 1105.6060791015625\n",
      "final_train_rmse: 24.44586181640625\n",
      "final_val_rmse: 33.25065231323242\n",
      "\n",
      "Training complete. Best model loaded (epoch 48).\n",
      "Using standard train/validation approach instead of k-fold.\n"
     ]
    },
    {
     "data": {
      "application/vnd.jupyter.widget-view+json": {
       "model_id": "b5beec5dda214e0c98fbcfcc3bae0809",
       "version_major": 2,
       "version_minor": 0
      },
      "text/plain": [
       "Training:   0%|          | 0/150 [00:00<?, ?batch/s]"
      ]
     },
     "metadata": {},
     "output_type": "display_data"
    },
    {
     "name": "stdout",
     "output_type": "stream",
     "text": [
      "No improvement for 1 epoch(s).\n",
      "No improvement for 1 epoch(s).\n",
      "No improvement for 2 epoch(s).\n",
      "No improvement for 3 epoch(s).\n",
      "No improvement for 4 epoch(s).\n",
      "No improvement for 5 epoch(s).\n",
      "No improvement for 1 epoch(s).\n",
      "No improvement for 2 epoch(s).\n",
      "No improvement for 1 epoch(s).\n",
      "No improvement for 2 epoch(s).\n",
      "No improvement for 3 epoch(s).\n",
      "No improvement for 4 epoch(s).\n"
     ]
    },
    {
     "name": "stderr",
     "output_type": "stream",
     "text": [
      "[I 2025-01-16 11:09:03,894] Trial 22 finished with value: 34.537925720214844 and parameters: {'nhead': 8, 'd_model': 256, 'dim_feedforward': 192, 'num_layers': 1, 'dropout': 0.2865393401440353, 'lr': 0.0006925652075711333, 'weight_decay': 2.1288747819418427e-05}. Best is trial 21 with value: 33.25065231323242.\n"
     ]
    },
    {
     "name": "stdout",
     "output_type": "stream",
     "text": [
      "No improvement for 5 epoch(s).\n",
      "\n",
      "--- Train/Validation Summary ---\n",
      "best_epoch: 45\n",
      "best_val_loss: 1169.0050048828125\n",
      "best_val_rmse: 34.190711975097656\n",
      "final_train_loss: 459.6306880556304\n",
      "final_val_loss: 1192.8682861328125\n",
      "final_train_rmse: 21.43899917602539\n",
      "final_val_rmse: 34.537925720214844\n",
      "\n",
      "Training complete. Best model loaded (epoch 45).\n",
      "Using standard train/validation approach instead of k-fold.\n"
     ]
    },
    {
     "data": {
      "application/vnd.jupyter.widget-view+json": {
       "model_id": "26e48f106a1a4240a0c29e9628453a0d",
       "version_major": 2,
       "version_minor": 0
      },
      "text/plain": [
       "Training:   0%|          | 0/150 [00:00<?, ?batch/s]"
      ]
     },
     "metadata": {},
     "output_type": "display_data"
    },
    {
     "name": "stderr",
     "output_type": "stream",
     "text": [
      "[I 2025-01-16 11:10:14,242] Trial 23 finished with value: 49.00241470336914 and parameters: {'nhead': 8, 'd_model': 256, 'dim_feedforward': 192, 'num_layers': 2, 'dropout': 0.3824154913497028, 'lr': 0.0003186931202974497, 'weight_decay': 3.8970376621294475e-05}. Best is trial 21 with value: 33.25065231323242.\n"
     ]
    },
    {
     "name": "stdout",
     "output_type": "stream",
     "text": [
      "\n",
      "--- Train/Validation Summary ---\n",
      "best_epoch: 50\n",
      "best_val_loss: 2401.236572265625\n",
      "best_val_rmse: 49.00241470336914\n",
      "final_train_loss: 2362.4578630118535\n",
      "final_val_loss: 2401.236572265625\n",
      "final_train_rmse: 48.60512161254883\n",
      "final_val_rmse: 49.00241470336914\n",
      "\n",
      "Training complete. Best model loaded (epoch 50).\n",
      "Using standard train/validation approach instead of k-fold.\n"
     ]
    },
    {
     "data": {
      "application/vnd.jupyter.widget-view+json": {
       "model_id": "9b98ba2cd2004af99b72f4075d0e7a53",
       "version_major": 2,
       "version_minor": 0
      },
      "text/plain": [
       "Training:   0%|          | 0/150 [00:00<?, ?batch/s]"
      ]
     },
     "metadata": {},
     "output_type": "display_data"
    },
    {
     "name": "stdout",
     "output_type": "stream",
     "text": [
      "No improvement for 1 epoch(s).\n",
      "No improvement for 2 epoch(s).\n",
      "No improvement for 1 epoch(s).\n",
      "No improvement for 2 epoch(s).\n",
      "No improvement for 3 epoch(s).\n",
      "No improvement for 4 epoch(s).\n",
      "No improvement for 1 epoch(s).\n",
      "No improvement for 2 epoch(s).\n",
      "No improvement for 3 epoch(s).\n",
      "No improvement for 4 epoch(s).\n"
     ]
    },
    {
     "name": "stderr",
     "output_type": "stream",
     "text": [
      "[I 2025-01-16 11:11:21,395] Trial 24 finished with value: 35.51943588256836 and parameters: {'nhead': 8, 'd_model': 256, 'dim_feedforward': 192, 'num_layers': 1, 'dropout': 0.35852609889556514, 'lr': 0.0006117006174157438, 'weight_decay': 1.835322148861615e-05}. Best is trial 21 with value: 33.25065231323242.\n"
     ]
    },
    {
     "name": "stdout",
     "output_type": "stream",
     "text": [
      "No improvement for 5 epoch(s).\n",
      "\n",
      "--- Train/Validation Summary ---\n",
      "best_epoch: 45\n",
      "best_val_loss: 1110.853271484375\n",
      "best_val_rmse: 33.329463958740234\n",
      "final_train_loss: 599.3076239224138\n",
      "final_val_loss: 1261.630126953125\n",
      "final_train_rmse: 24.48076057434082\n",
      "final_val_rmse: 35.51943588256836\n",
      "\n",
      "Training complete. Best model loaded (epoch 45).\n",
      "Using standard train/validation approach instead of k-fold.\n"
     ]
    },
    {
     "data": {
      "application/vnd.jupyter.widget-view+json": {
       "model_id": "62d86f641b434e80b55dc7b768390d54",
       "version_major": 2,
       "version_minor": 0
      },
      "text/plain": [
       "Training:   0%|          | 0/150 [00:00<?, ?batch/s]"
      ]
     },
     "metadata": {},
     "output_type": "display_data"
    },
    {
     "name": "stdout",
     "output_type": "stream",
     "text": [
      "No improvement for 1 epoch(s).\n",
      "No improvement for 2 epoch(s).\n",
      "No improvement for 3 epoch(s).\n",
      "No improvement for 1 epoch(s).\n",
      "No improvement for 2 epoch(s).\n",
      "No improvement for 3 epoch(s).\n",
      "No improvement for 4 epoch(s).\n",
      "No improvement for 1 epoch(s).\n",
      "No improvement for 2 epoch(s).\n",
      "No improvement for 3 epoch(s).\n",
      "No improvement for 4 epoch(s).\n",
      "No improvement for 5 epoch(s).\n",
      "No improvement for 6 epoch(s).\n",
      "No improvement for 7 epoch(s).\n",
      "No improvement for 8 epoch(s).\n",
      "No improvement for 9 epoch(s).\n"
     ]
    },
    {
     "name": "stderr",
     "output_type": "stream",
     "text": [
      "[I 2025-01-16 11:12:15,924] Trial 25 finished with value: 38.93362045288086 and parameters: {'nhead': 8, 'd_model': 256, 'dim_feedforward': 256, 'num_layers': 2, 'dropout': 0.2997322623819121, 'lr': 0.001143538587650346, 'weight_decay': 2.6975159135825348e-05}. Best is trial 21 with value: 33.25065231323242.\n"
     ]
    },
    {
     "name": "stdout",
     "output_type": "stream",
     "text": [
      "No improvement for 10 epoch(s).\n",
      "Early stopping triggered.\n",
      "Early stopping at epoch 41\n",
      "\n",
      "--- Train/Validation Summary ---\n",
      "best_epoch: 30\n",
      "best_val_loss: 1293.77978515625\n",
      "best_val_rmse: 35.96915054321289\n",
      "final_train_loss: 517.0944697939117\n",
      "final_val_loss: 1515.8270263671875\n",
      "final_train_rmse: 22.739709854125977\n",
      "final_val_rmse: 38.93362045288086\n",
      "\n",
      "Training complete. Best model loaded (epoch 30).\n",
      "Using standard train/validation approach instead of k-fold.\n"
     ]
    },
    {
     "data": {
      "application/vnd.jupyter.widget-view+json": {
       "model_id": "83b826b5dbab41bb974e7d72437e1d40",
       "version_major": 2,
       "version_minor": 0
      },
      "text/plain": [
       "Training:   0%|          | 0/150 [00:00<?, ?batch/s]"
      ]
     },
     "metadata": {},
     "output_type": "display_data"
    },
    {
     "name": "stderr",
     "output_type": "stream",
     "text": [
      "[I 2025-01-16 11:13:24,408] Trial 26 finished with value: 60.82161331176758 and parameters: {'nhead': 6, 'd_model': 192, 'dim_feedforward': 192, 'num_layers': 1, 'dropout': 0.4244523828478942, 'lr': 0.0003222659099249261, 'weight_decay': 5.7865264327983833e-05}. Best is trial 21 with value: 33.25065231323242.\n"
     ]
    },
    {
     "name": "stdout",
     "output_type": "stream",
     "text": [
      "\n",
      "--- Train/Validation Summary ---\n",
      "best_epoch: 50\n",
      "best_val_loss: 3699.2685546875\n",
      "best_val_rmse: 60.82161331176758\n",
      "final_train_loss: 3671.8020339439654\n",
      "final_val_loss: 3699.2685546875\n",
      "final_train_rmse: 60.59539794921875\n",
      "final_val_rmse: 60.82161331176758\n",
      "\n",
      "Training complete. Best model loaded (epoch 50).\n",
      "Using standard train/validation approach instead of k-fold.\n"
     ]
    },
    {
     "data": {
      "application/vnd.jupyter.widget-view+json": {
       "model_id": "78f02ade769c49b98266801d5bffc30d",
       "version_major": 2,
       "version_minor": 0
      },
      "text/plain": [
       "Training:   0%|          | 0/150 [00:00<?, ?batch/s]"
      ]
     },
     "metadata": {},
     "output_type": "display_data"
    },
    {
     "name": "stderr",
     "output_type": "stream",
     "text": [
      "[I 2025-01-16 11:14:33,848] Trial 27 finished with value: 91.09153747558594 and parameters: {'nhead': 8, 'd_model': 192, 'dim_feedforward': 256, 'num_layers': 1, 'dropout': 0.2809700325534894, 'lr': 0.00014726842263767053, 'weight_decay': 1.6559733735981937e-05}. Best is trial 21 with value: 33.25065231323242.\n"
     ]
    },
    {
     "name": "stdout",
     "output_type": "stream",
     "text": [
      "\n",
      "--- Train/Validation Summary ---\n",
      "best_epoch: 50\n",
      "best_val_loss: 8297.6669921875\n",
      "best_val_rmse: 91.09153747558594\n",
      "final_train_loss: 8106.557819234914\n",
      "final_val_loss: 8297.6669921875\n",
      "final_train_rmse: 90.03642272949219\n",
      "final_val_rmse: 91.09153747558594\n",
      "\n",
      "Training complete. Best model loaded (epoch 50).\n",
      "Using standard train/validation approach instead of k-fold.\n"
     ]
    },
    {
     "data": {
      "application/vnd.jupyter.widget-view+json": {
       "model_id": "80729c5237be42ba996ac9d6b64d006e",
       "version_major": 2,
       "version_minor": 0
      },
      "text/plain": [
       "Training:   0%|          | 0/150 [00:00<?, ?batch/s]"
      ]
     },
     "metadata": {},
     "output_type": "display_data"
    },
    {
     "name": "stdout",
     "output_type": "stream",
     "text": [
      "No improvement for 1 epoch(s).\n",
      "No improvement for 2 epoch(s).\n",
      "No improvement for 3 epoch(s).\n",
      "No improvement for 4 epoch(s).\n",
      "No improvement for 5 epoch(s).\n",
      "No improvement for 6 epoch(s).\n",
      "No improvement for 7 epoch(s).\n",
      "No improvement for 8 epoch(s).\n",
      "No improvement for 9 epoch(s).\n"
     ]
    },
    {
     "name": "stderr",
     "output_type": "stream",
     "text": [
      "[I 2025-01-16 11:15:30,768] Trial 28 finished with value: 35.623111724853516 and parameters: {'nhead': 8, 'd_model': 256, 'dim_feedforward': 320, 'num_layers': 2, 'dropout': 0.1716495129731625, 'lr': 0.0007493501472467328, 'weight_decay': 8.573556368006856e-06}. Best is trial 21 with value: 33.25065231323242.\n"
     ]
    },
    {
     "name": "stdout",
     "output_type": "stream",
     "text": [
      "No improvement for 10 epoch(s).\n",
      "Early stopping triggered.\n",
      "Early stopping at epoch 42\n",
      "\n",
      "--- Train/Validation Summary ---\n",
      "best_epoch: 31\n",
      "best_val_loss: 1074.5450439453125\n",
      "best_val_rmse: 32.78025436401367\n",
      "final_train_loss: 534.38392460264\n",
      "final_val_loss: 1269.0059814453125\n",
      "final_train_rmse: 23.11674690246582\n",
      "final_val_rmse: 35.623111724853516\n",
      "\n",
      "Training complete. Best model loaded (epoch 31).\n",
      "Using standard train/validation approach instead of k-fold.\n"
     ]
    },
    {
     "data": {
      "application/vnd.jupyter.widget-view+json": {
       "model_id": "c39f2752071347a7862f01891d1406b5",
       "version_major": 2,
       "version_minor": 0
      },
      "text/plain": [
       "Training:   0%|          | 0/150 [00:00<?, ?batch/s]"
      ]
     },
     "metadata": {},
     "output_type": "display_data"
    },
    {
     "name": "stdout",
     "output_type": "stream",
     "text": [
      "No improvement for 1 epoch(s).\n",
      "No improvement for 1 epoch(s).\n",
      "No improvement for 1 epoch(s).\n",
      "No improvement for 2 epoch(s).\n",
      "No improvement for 3 epoch(s).\n"
     ]
    },
    {
     "name": "stderr",
     "output_type": "stream",
     "text": [
      "[I 2025-01-16 11:16:38,816] Trial 29 finished with value: 33.835479736328125 and parameters: {'nhead': 6, 'd_model': 192, 'dim_feedforward': 128, 'num_layers': 2, 'dropout': 0.20776254668251715, 'lr': 0.0008205678436861176, 'weight_decay': 4.718803210287886e-05}. Best is trial 21 with value: 33.25065231323242.\n"
     ]
    },
    {
     "name": "stdout",
     "output_type": "stream",
     "text": [
      "No improvement for 4 epoch(s).\n",
      "\n",
      "--- Train/Validation Summary ---\n",
      "best_epoch: 46\n",
      "best_val_loss: 1050.86083984375\n",
      "best_val_rmse: 32.41698455810547\n",
      "final_train_loss: 611.8012518521012\n",
      "final_val_loss: 1144.839599609375\n",
      "final_train_rmse: 24.734617233276367\n",
      "final_val_rmse: 33.835479736328125\n",
      "\n",
      "Training complete. Best model loaded (epoch 46).\n",
      "Using standard train/validation approach instead of k-fold.\n"
     ]
    },
    {
     "data": {
      "application/vnd.jupyter.widget-view+json": {
       "model_id": "27afdb4be1dd4200a4b65ce0baade54d",
       "version_major": 2,
       "version_minor": 0
      },
      "text/plain": [
       "Training:   0%|          | 0/150 [00:00<?, ?batch/s]"
      ]
     },
     "metadata": {},
     "output_type": "display_data"
    },
    {
     "name": "stdout",
     "output_type": "stream",
     "text": [
      "No improvement for 1 epoch(s).\n",
      "No improvement for 2 epoch(s).\n",
      "No improvement for 1 epoch(s).\n",
      "No improvement for 2 epoch(s).\n",
      "No improvement for 3 epoch(s).\n",
      "No improvement for 4 epoch(s).\n"
     ]
    },
    {
     "name": "stderr",
     "output_type": "stream",
     "text": [
      "[I 2025-01-16 11:17:47,587] Trial 30 finished with value: 35.728599548339844 and parameters: {'nhead': 6, 'd_model': 144, 'dim_feedforward': 128, 'num_layers': 3, 'dropout': 0.20190163162752364, 'lr': 0.000898130881193464, 'weight_decay': 9.51950496362619e-05}. Best is trial 21 with value: 33.25065231323242.\n"
     ]
    },
    {
     "name": "stdout",
     "output_type": "stream",
     "text": [
      "No improvement for 5 epoch(s).\n",
      "\n",
      "--- Train/Validation Summary ---\n",
      "best_epoch: 45\n",
      "best_val_loss: 1163.4486083984375\n",
      "best_val_rmse: 34.1093635559082\n",
      "final_train_loss: 700.4110258957435\n",
      "final_val_loss: 1276.5328369140625\n",
      "final_train_rmse: 26.46527862548828\n",
      "final_val_rmse: 35.728599548339844\n",
      "\n",
      "Training complete. Best model loaded (epoch 45).\n",
      "Using standard train/validation approach instead of k-fold.\n"
     ]
    },
    {
     "data": {
      "application/vnd.jupyter.widget-view+json": {
       "model_id": "72e522966ade467ba3bc7db3bf0eee7a",
       "version_major": 2,
       "version_minor": 0
      },
      "text/plain": [
       "Training:   0%|          | 0/150 [00:00<?, ?batch/s]"
      ]
     },
     "metadata": {},
     "output_type": "display_data"
    },
    {
     "name": "stderr",
     "output_type": "stream",
     "text": [
      "[W 2025-01-16 11:18:46,639] Trial 31 failed with parameters: {'nhead': 8, 'd_model': 192, 'dim_feedforward': 192, 'num_layers': 2, 'dropout': 0.22732813634505653, 'lr': 0.0005365061798189081, 'weight_decay': 4.761324655064289e-05} because of the following error: KeyboardInterrupt().\n",
      "Traceback (most recent call last):\n",
      "  File \"/home/oliver/anaconda3/envs/pytorch_env/lib/python3.10/site-packages/optuna/study/_optimize.py\", line 197, in _run_trial\n",
      "    value_or_values = func(trial)\n",
      "  File \"/tmp/ipykernel_9428/3015086923.py\", line 32, in objective\n",
      "    _, summary = train_and_validate_single_run(\n",
      "  File \"/tmp/ipykernel_9428/3161191942.py\", line 97, in train_and_validate_single_run\n",
      "    for inputs, targets, masks, _, _ in train_loader:\n",
      "  File \"/home/oliver/anaconda3/envs/pytorch_env/lib/python3.10/site-packages/torch/utils/data/dataloader.py\", line 701, in __next__\n",
      "    data = self._next_data()\n",
      "  File \"/home/oliver/anaconda3/envs/pytorch_env/lib/python3.10/site-packages/torch/utils/data/dataloader.py\", line 1448, in _next_data\n",
      "    idx, data = self._get_data()\n",
      "  File \"/home/oliver/anaconda3/envs/pytorch_env/lib/python3.10/site-packages/torch/utils/data/dataloader.py\", line 1412, in _get_data\n",
      "    success, data = self._try_get_data()\n",
      "  File \"/home/oliver/anaconda3/envs/pytorch_env/lib/python3.10/site-packages/torch/utils/data/dataloader.py\", line 1243, in _try_get_data\n",
      "    data = self._data_queue.get(timeout=timeout)\n",
      "  File \"/home/oliver/anaconda3/envs/pytorch_env/lib/python3.10/multiprocessing/queues.py\", line 113, in get\n",
      "    if not self._poll(timeout):\n",
      "  File \"/home/oliver/anaconda3/envs/pytorch_env/lib/python3.10/multiprocessing/connection.py\", line 257, in poll\n",
      "    return self._poll(timeout)\n",
      "  File \"/home/oliver/anaconda3/envs/pytorch_env/lib/python3.10/multiprocessing/connection.py\", line 424, in _poll\n",
      "    r = wait([self], timeout)\n",
      "  File \"/home/oliver/anaconda3/envs/pytorch_env/lib/python3.10/multiprocessing/connection.py\", line 931, in wait\n",
      "    ready = selector.select(timeout)\n",
      "  File \"/home/oliver/anaconda3/envs/pytorch_env/lib/python3.10/selectors.py\", line 416, in select\n",
      "    fd_event_list = self._selector.poll(timeout)\n",
      "KeyboardInterrupt\n",
      "[W 2025-01-16 11:18:46,653] Trial 31 failed with value None.\n"
     ]
    },
    {
     "ename": "KeyboardInterrupt",
     "evalue": "",
     "output_type": "error",
     "traceback": [
      "\u001b[0;31m---------------------------------------------------------------------------\u001b[0m",
      "\u001b[0;31mKeyboardInterrupt\u001b[0m                         Traceback (most recent call last)",
      "Cell \u001b[0;32mIn[4], line 47\u001b[0m\n\u001b[1;32m     45\u001b[0m \u001b[38;5;66;03m# Optuna study configuration\u001b[39;00m\n\u001b[1;32m     46\u001b[0m study \u001b[38;5;241m=\u001b[39m optuna\u001b[38;5;241m.\u001b[39mcreate_study(direction\u001b[38;5;241m=\u001b[39m\u001b[38;5;124m\"\u001b[39m\u001b[38;5;124mminimize\u001b[39m\u001b[38;5;124m\"\u001b[39m)  \u001b[38;5;66;03m# Minimize RMSE\u001b[39;00m\n\u001b[0;32m---> 47\u001b[0m \u001b[43mstudy\u001b[49m\u001b[38;5;241;43m.\u001b[39;49m\u001b[43moptimize\u001b[49m\u001b[43m(\u001b[49m\u001b[43mobjective\u001b[49m\u001b[43m,\u001b[49m\u001b[43m \u001b[49m\u001b[43mn_trials\u001b[49m\u001b[38;5;241;43m=\u001b[39;49m\u001b[38;5;241;43m50\u001b[39;49m\u001b[43m)\u001b[49m  \u001b[38;5;66;03m# Number of trials for hyperparameter tuning\u001b[39;00m\n\u001b[1;32m     49\u001b[0m \u001b[38;5;66;03m# Print the best hyperparameters and validation RMSE\u001b[39;00m\n\u001b[1;32m     50\u001b[0m \u001b[38;5;28mprint\u001b[39m(\u001b[38;5;124m\"\u001b[39m\u001b[38;5;124mBest hyperparameters:\u001b[39m\u001b[38;5;124m\"\u001b[39m, study\u001b[38;5;241m.\u001b[39mbest_params)\n",
      "File \u001b[0;32m~/anaconda3/envs/pytorch_env/lib/python3.10/site-packages/optuna/study/study.py:475\u001b[0m, in \u001b[0;36mStudy.optimize\u001b[0;34m(self, func, n_trials, timeout, n_jobs, catch, callbacks, gc_after_trial, show_progress_bar)\u001b[0m\n\u001b[1;32m    373\u001b[0m \u001b[38;5;28;01mdef\u001b[39;00m\u001b[38;5;250m \u001b[39m\u001b[38;5;21moptimize\u001b[39m(\n\u001b[1;32m    374\u001b[0m     \u001b[38;5;28mself\u001b[39m,\n\u001b[1;32m    375\u001b[0m     func: ObjectiveFuncType,\n\u001b[0;32m   (...)\u001b[0m\n\u001b[1;32m    382\u001b[0m     show_progress_bar: \u001b[38;5;28mbool\u001b[39m \u001b[38;5;241m=\u001b[39m \u001b[38;5;28;01mFalse\u001b[39;00m,\n\u001b[1;32m    383\u001b[0m ) \u001b[38;5;241m-\u001b[39m\u001b[38;5;241m>\u001b[39m \u001b[38;5;28;01mNone\u001b[39;00m:\n\u001b[1;32m    384\u001b[0m \u001b[38;5;250m    \u001b[39m\u001b[38;5;124;03m\"\"\"Optimize an objective function.\u001b[39;00m\n\u001b[1;32m    385\u001b[0m \n\u001b[1;32m    386\u001b[0m \u001b[38;5;124;03m    Optimization is done by choosing a suitable set of hyperparameter values from a given\u001b[39;00m\n\u001b[0;32m   (...)\u001b[0m\n\u001b[1;32m    473\u001b[0m \u001b[38;5;124;03m            If nested invocation of this method occurs.\u001b[39;00m\n\u001b[1;32m    474\u001b[0m \u001b[38;5;124;03m    \"\"\"\u001b[39;00m\n\u001b[0;32m--> 475\u001b[0m     \u001b[43m_optimize\u001b[49m\u001b[43m(\u001b[49m\n\u001b[1;32m    476\u001b[0m \u001b[43m        \u001b[49m\u001b[43mstudy\u001b[49m\u001b[38;5;241;43m=\u001b[39;49m\u001b[38;5;28;43mself\u001b[39;49m\u001b[43m,\u001b[49m\n\u001b[1;32m    477\u001b[0m \u001b[43m        \u001b[49m\u001b[43mfunc\u001b[49m\u001b[38;5;241;43m=\u001b[39;49m\u001b[43mfunc\u001b[49m\u001b[43m,\u001b[49m\n\u001b[1;32m    478\u001b[0m \u001b[43m        \u001b[49m\u001b[43mn_trials\u001b[49m\u001b[38;5;241;43m=\u001b[39;49m\u001b[43mn_trials\u001b[49m\u001b[43m,\u001b[49m\n\u001b[1;32m    479\u001b[0m \u001b[43m        \u001b[49m\u001b[43mtimeout\u001b[49m\u001b[38;5;241;43m=\u001b[39;49m\u001b[43mtimeout\u001b[49m\u001b[43m,\u001b[49m\n\u001b[1;32m    480\u001b[0m \u001b[43m        \u001b[49m\u001b[43mn_jobs\u001b[49m\u001b[38;5;241;43m=\u001b[39;49m\u001b[43mn_jobs\u001b[49m\u001b[43m,\u001b[49m\n\u001b[1;32m    481\u001b[0m \u001b[43m        \u001b[49m\u001b[43mcatch\u001b[49m\u001b[38;5;241;43m=\u001b[39;49m\u001b[38;5;28;43mtuple\u001b[39;49m\u001b[43m(\u001b[49m\u001b[43mcatch\u001b[49m\u001b[43m)\u001b[49m\u001b[43m \u001b[49m\u001b[38;5;28;43;01mif\u001b[39;49;00m\u001b[43m \u001b[49m\u001b[38;5;28;43misinstance\u001b[39;49m\u001b[43m(\u001b[49m\u001b[43mcatch\u001b[49m\u001b[43m,\u001b[49m\u001b[43m \u001b[49m\u001b[43mIterable\u001b[49m\u001b[43m)\u001b[49m\u001b[43m \u001b[49m\u001b[38;5;28;43;01melse\u001b[39;49;00m\u001b[43m \u001b[49m\u001b[43m(\u001b[49m\u001b[43mcatch\u001b[49m\u001b[43m,\u001b[49m\u001b[43m)\u001b[49m\u001b[43m,\u001b[49m\n\u001b[1;32m    482\u001b[0m \u001b[43m        \u001b[49m\u001b[43mcallbacks\u001b[49m\u001b[38;5;241;43m=\u001b[39;49m\u001b[43mcallbacks\u001b[49m\u001b[43m,\u001b[49m\n\u001b[1;32m    483\u001b[0m \u001b[43m        \u001b[49m\u001b[43mgc_after_trial\u001b[49m\u001b[38;5;241;43m=\u001b[39;49m\u001b[43mgc_after_trial\u001b[49m\u001b[43m,\u001b[49m\n\u001b[1;32m    484\u001b[0m \u001b[43m        \u001b[49m\u001b[43mshow_progress_bar\u001b[49m\u001b[38;5;241;43m=\u001b[39;49m\u001b[43mshow_progress_bar\u001b[49m\u001b[43m,\u001b[49m\n\u001b[1;32m    485\u001b[0m \u001b[43m    \u001b[49m\u001b[43m)\u001b[49m\n",
      "File \u001b[0;32m~/anaconda3/envs/pytorch_env/lib/python3.10/site-packages/optuna/study/_optimize.py:63\u001b[0m, in \u001b[0;36m_optimize\u001b[0;34m(study, func, n_trials, timeout, n_jobs, catch, callbacks, gc_after_trial, show_progress_bar)\u001b[0m\n\u001b[1;32m     61\u001b[0m \u001b[38;5;28;01mtry\u001b[39;00m:\n\u001b[1;32m     62\u001b[0m     \u001b[38;5;28;01mif\u001b[39;00m n_jobs \u001b[38;5;241m==\u001b[39m \u001b[38;5;241m1\u001b[39m:\n\u001b[0;32m---> 63\u001b[0m         \u001b[43m_optimize_sequential\u001b[49m\u001b[43m(\u001b[49m\n\u001b[1;32m     64\u001b[0m \u001b[43m            \u001b[49m\u001b[43mstudy\u001b[49m\u001b[43m,\u001b[49m\n\u001b[1;32m     65\u001b[0m \u001b[43m            \u001b[49m\u001b[43mfunc\u001b[49m\u001b[43m,\u001b[49m\n\u001b[1;32m     66\u001b[0m \u001b[43m            \u001b[49m\u001b[43mn_trials\u001b[49m\u001b[43m,\u001b[49m\n\u001b[1;32m     67\u001b[0m \u001b[43m            \u001b[49m\u001b[43mtimeout\u001b[49m\u001b[43m,\u001b[49m\n\u001b[1;32m     68\u001b[0m \u001b[43m            \u001b[49m\u001b[43mcatch\u001b[49m\u001b[43m,\u001b[49m\n\u001b[1;32m     69\u001b[0m \u001b[43m            \u001b[49m\u001b[43mcallbacks\u001b[49m\u001b[43m,\u001b[49m\n\u001b[1;32m     70\u001b[0m \u001b[43m            \u001b[49m\u001b[43mgc_after_trial\u001b[49m\u001b[43m,\u001b[49m\n\u001b[1;32m     71\u001b[0m \u001b[43m            \u001b[49m\u001b[43mreseed_sampler_rng\u001b[49m\u001b[38;5;241;43m=\u001b[39;49m\u001b[38;5;28;43;01mFalse\u001b[39;49;00m\u001b[43m,\u001b[49m\n\u001b[1;32m     72\u001b[0m \u001b[43m            \u001b[49m\u001b[43mtime_start\u001b[49m\u001b[38;5;241;43m=\u001b[39;49m\u001b[38;5;28;43;01mNone\u001b[39;49;00m\u001b[43m,\u001b[49m\n\u001b[1;32m     73\u001b[0m \u001b[43m            \u001b[49m\u001b[43mprogress_bar\u001b[49m\u001b[38;5;241;43m=\u001b[39;49m\u001b[43mprogress_bar\u001b[49m\u001b[43m,\u001b[49m\n\u001b[1;32m     74\u001b[0m \u001b[43m        \u001b[49m\u001b[43m)\u001b[49m\n\u001b[1;32m     75\u001b[0m     \u001b[38;5;28;01melse\u001b[39;00m:\n\u001b[1;32m     76\u001b[0m         \u001b[38;5;28;01mif\u001b[39;00m n_jobs \u001b[38;5;241m==\u001b[39m \u001b[38;5;241m-\u001b[39m\u001b[38;5;241m1\u001b[39m:\n",
      "File \u001b[0;32m~/anaconda3/envs/pytorch_env/lib/python3.10/site-packages/optuna/study/_optimize.py:160\u001b[0m, in \u001b[0;36m_optimize_sequential\u001b[0;34m(study, func, n_trials, timeout, catch, callbacks, gc_after_trial, reseed_sampler_rng, time_start, progress_bar)\u001b[0m\n\u001b[1;32m    157\u001b[0m         \u001b[38;5;28;01mbreak\u001b[39;00m\n\u001b[1;32m    159\u001b[0m \u001b[38;5;28;01mtry\u001b[39;00m:\n\u001b[0;32m--> 160\u001b[0m     frozen_trial \u001b[38;5;241m=\u001b[39m \u001b[43m_run_trial\u001b[49m\u001b[43m(\u001b[49m\u001b[43mstudy\u001b[49m\u001b[43m,\u001b[49m\u001b[43m \u001b[49m\u001b[43mfunc\u001b[49m\u001b[43m,\u001b[49m\u001b[43m \u001b[49m\u001b[43mcatch\u001b[49m\u001b[43m)\u001b[49m\n\u001b[1;32m    161\u001b[0m \u001b[38;5;28;01mfinally\u001b[39;00m:\n\u001b[1;32m    162\u001b[0m     \u001b[38;5;66;03m# The following line mitigates memory problems that can be occurred in some\u001b[39;00m\n\u001b[1;32m    163\u001b[0m     \u001b[38;5;66;03m# environments (e.g., services that use computing containers such as GitHub Actions).\u001b[39;00m\n\u001b[1;32m    164\u001b[0m     \u001b[38;5;66;03m# Please refer to the following PR for further details:\u001b[39;00m\n\u001b[1;32m    165\u001b[0m     \u001b[38;5;66;03m# https://github.com/optuna/optuna/pull/325.\u001b[39;00m\n\u001b[1;32m    166\u001b[0m     \u001b[38;5;28;01mif\u001b[39;00m gc_after_trial:\n",
      "File \u001b[0;32m~/anaconda3/envs/pytorch_env/lib/python3.10/site-packages/optuna/study/_optimize.py:248\u001b[0m, in \u001b[0;36m_run_trial\u001b[0;34m(study, func, catch)\u001b[0m\n\u001b[1;32m    241\u001b[0m         \u001b[38;5;28;01massert\u001b[39;00m \u001b[38;5;28;01mFalse\u001b[39;00m, \u001b[38;5;124m\"\u001b[39m\u001b[38;5;124mShould not reach.\u001b[39m\u001b[38;5;124m\"\u001b[39m\n\u001b[1;32m    243\u001b[0m \u001b[38;5;28;01mif\u001b[39;00m (\n\u001b[1;32m    244\u001b[0m     frozen_trial\u001b[38;5;241m.\u001b[39mstate \u001b[38;5;241m==\u001b[39m TrialState\u001b[38;5;241m.\u001b[39mFAIL\n\u001b[1;32m    245\u001b[0m     \u001b[38;5;129;01mand\u001b[39;00m func_err \u001b[38;5;129;01mis\u001b[39;00m \u001b[38;5;129;01mnot\u001b[39;00m \u001b[38;5;28;01mNone\u001b[39;00m\n\u001b[1;32m    246\u001b[0m     \u001b[38;5;129;01mand\u001b[39;00m \u001b[38;5;129;01mnot\u001b[39;00m \u001b[38;5;28misinstance\u001b[39m(func_err, catch)\n\u001b[1;32m    247\u001b[0m ):\n\u001b[0;32m--> 248\u001b[0m     \u001b[38;5;28;01mraise\u001b[39;00m func_err\n\u001b[1;32m    249\u001b[0m \u001b[38;5;28;01mreturn\u001b[39;00m frozen_trial\n",
      "File \u001b[0;32m~/anaconda3/envs/pytorch_env/lib/python3.10/site-packages/optuna/study/_optimize.py:197\u001b[0m, in \u001b[0;36m_run_trial\u001b[0;34m(study, func, catch)\u001b[0m\n\u001b[1;32m    195\u001b[0m \u001b[38;5;28;01mwith\u001b[39;00m get_heartbeat_thread(trial\u001b[38;5;241m.\u001b[39m_trial_id, study\u001b[38;5;241m.\u001b[39m_storage):\n\u001b[1;32m    196\u001b[0m     \u001b[38;5;28;01mtry\u001b[39;00m:\n\u001b[0;32m--> 197\u001b[0m         value_or_values \u001b[38;5;241m=\u001b[39m \u001b[43mfunc\u001b[49m\u001b[43m(\u001b[49m\u001b[43mtrial\u001b[49m\u001b[43m)\u001b[49m\n\u001b[1;32m    198\u001b[0m     \u001b[38;5;28;01mexcept\u001b[39;00m exceptions\u001b[38;5;241m.\u001b[39mTrialPruned \u001b[38;5;28;01mas\u001b[39;00m e:\n\u001b[1;32m    199\u001b[0m         \u001b[38;5;66;03m# TODO(mamu): Handle multi-objective cases.\u001b[39;00m\n\u001b[1;32m    200\u001b[0m         state \u001b[38;5;241m=\u001b[39m TrialState\u001b[38;5;241m.\u001b[39mPRUNED\n",
      "Cell \u001b[0;32mIn[4], line 32\u001b[0m, in \u001b[0;36mobjective\u001b[0;34m(trial)\u001b[0m\n\u001b[1;32m     22\u001b[0m model_config \u001b[38;5;241m=\u001b[39m {\n\u001b[1;32m     23\u001b[0m     \u001b[38;5;124m\"\u001b[39m\u001b[38;5;124minput_dim\u001b[39m\u001b[38;5;124m\"\u001b[39m: input_dim,\n\u001b[1;32m     24\u001b[0m     \u001b[38;5;124m\"\u001b[39m\u001b[38;5;124md_model\u001b[39m\u001b[38;5;124m\"\u001b[39m: d_model,\n\u001b[0;32m   (...)\u001b[0m\n\u001b[1;32m     28\u001b[0m     \u001b[38;5;124m\"\u001b[39m\u001b[38;5;124mdropout\u001b[39m\u001b[38;5;124m\"\u001b[39m: dropout,\n\u001b[1;32m     29\u001b[0m }\n\u001b[1;32m     31\u001b[0m \u001b[38;5;66;03m# Call your existing train_and_validate_kfold function\u001b[39;00m\n\u001b[0;32m---> 32\u001b[0m _, summary \u001b[38;5;241m=\u001b[39m \u001b[43mtrain_and_validate_single_run\u001b[49m\u001b[43m(\u001b[49m\n\u001b[1;32m     33\u001b[0m \u001b[43m    \u001b[49m\u001b[43mtrain_loader\u001b[49m\u001b[38;5;241;43m=\u001b[39;49m\u001b[43mfold_loaders\u001b[49m\u001b[43m[\u001b[49m\u001b[38;5;241;43m0\u001b[39;49m\u001b[43m]\u001b[49m\u001b[43m[\u001b[49m\u001b[38;5;241;43m0\u001b[39;49m\u001b[43m]\u001b[49m\u001b[43m,\u001b[49m\n\u001b[1;32m     34\u001b[0m \u001b[43m    \u001b[49m\u001b[43mval_loader\u001b[49m\u001b[38;5;241;43m=\u001b[39;49m\u001b[43mfold_loaders\u001b[49m\u001b[43m[\u001b[49m\u001b[38;5;241;43m0\u001b[39;49m\u001b[43m]\u001b[49m\u001b[43m[\u001b[49m\u001b[38;5;241;43m1\u001b[39;49m\u001b[43m]\u001b[49m\u001b[43m,\u001b[49m\n\u001b[1;32m     35\u001b[0m \u001b[43m    \u001b[49m\u001b[43mmodel_config\u001b[49m\u001b[38;5;241;43m=\u001b[39;49m\u001b[43mmodel_config\u001b[49m\u001b[43m,\u001b[49m\n\u001b[1;32m     36\u001b[0m \u001b[43m    \u001b[49m\u001b[43mepochs\u001b[49m\u001b[38;5;241;43m=\u001b[39;49m\u001b[38;5;241;43m50\u001b[39;49m\u001b[43m,\u001b[49m\u001b[43m  \u001b[49m\u001b[38;5;66;43;03m# Fewer epochs for faster tuning\u001b[39;49;00m\n\u001b[1;32m     37\u001b[0m \u001b[43m    \u001b[49m\u001b[43mlr\u001b[49m\u001b[38;5;241;43m=\u001b[39;49m\u001b[43mlr\u001b[49m\u001b[43m,\u001b[49m\n\u001b[1;32m     38\u001b[0m \u001b[43m    \u001b[49m\u001b[43mweight_decay\u001b[49m\u001b[38;5;241;43m=\u001b[39;49m\u001b[43mweight_decay\u001b[49m\u001b[43m,\u001b[49m\n\u001b[1;32m     39\u001b[0m \u001b[43m    \u001b[49m\u001b[43mpatience\u001b[49m\u001b[38;5;241;43m=\u001b[39;49m\u001b[38;5;241;43m10\u001b[39;49m\u001b[43m  \u001b[49m\u001b[38;5;66;43;03m# Early stopping patience\u001b[39;49;00m\n\u001b[1;32m     40\u001b[0m \u001b[43m\u001b[49m\u001b[43m)\u001b[49m\n\u001b[1;32m     42\u001b[0m \u001b[38;5;66;03m# Return the mean validation RMSE as the objective value\u001b[39;00m\n\u001b[1;32m     43\u001b[0m \u001b[38;5;28;01mreturn\u001b[39;00m summary[\u001b[38;5;124m\"\u001b[39m\u001b[38;5;124mfinal_val_rmse\u001b[39m\u001b[38;5;124m\"\u001b[39m]\n",
      "Cell \u001b[0;32mIn[3], line 97\u001b[0m, in \u001b[0;36mtrain_and_validate_single_run\u001b[0;34m(train_loader, val_loader, model_config, epochs, lr, weight_decay, patience, model_path, loss_type)\u001b[0m\n\u001b[1;32m     94\u001b[0m train_predictions \u001b[38;5;241m=\u001b[39m []\n\u001b[1;32m     95\u001b[0m train_targets_all \u001b[38;5;241m=\u001b[39m []\n\u001b[0;32m---> 97\u001b[0m \u001b[38;5;28;01mfor\u001b[39;00m inputs, targets, masks, _, _ \u001b[38;5;129;01min\u001b[39;00m train_loader:\n\u001b[1;32m     98\u001b[0m     optimizer\u001b[38;5;241m.\u001b[39mzero_grad()\n\u001b[1;32m    100\u001b[0m     inputs \u001b[38;5;241m=\u001b[39m inputs\u001b[38;5;241m.\u001b[39mto(device)\n",
      "File \u001b[0;32m~/anaconda3/envs/pytorch_env/lib/python3.10/site-packages/torch/utils/data/dataloader.py:701\u001b[0m, in \u001b[0;36m_BaseDataLoaderIter.__next__\u001b[0;34m(self)\u001b[0m\n\u001b[1;32m    698\u001b[0m \u001b[38;5;28;01mif\u001b[39;00m \u001b[38;5;28mself\u001b[39m\u001b[38;5;241m.\u001b[39m_sampler_iter \u001b[38;5;129;01mis\u001b[39;00m \u001b[38;5;28;01mNone\u001b[39;00m:\n\u001b[1;32m    699\u001b[0m     \u001b[38;5;66;03m# TODO(https://github.com/pytorch/pytorch/issues/76750)\u001b[39;00m\n\u001b[1;32m    700\u001b[0m     \u001b[38;5;28mself\u001b[39m\u001b[38;5;241m.\u001b[39m_reset()  \u001b[38;5;66;03m# type: ignore[call-arg]\u001b[39;00m\n\u001b[0;32m--> 701\u001b[0m data \u001b[38;5;241m=\u001b[39m \u001b[38;5;28;43mself\u001b[39;49m\u001b[38;5;241;43m.\u001b[39;49m\u001b[43m_next_data\u001b[49m\u001b[43m(\u001b[49m\u001b[43m)\u001b[49m\n\u001b[1;32m    702\u001b[0m \u001b[38;5;28mself\u001b[39m\u001b[38;5;241m.\u001b[39m_num_yielded \u001b[38;5;241m+\u001b[39m\u001b[38;5;241m=\u001b[39m \u001b[38;5;241m1\u001b[39m\n\u001b[1;32m    703\u001b[0m \u001b[38;5;28;01mif\u001b[39;00m (\n\u001b[1;32m    704\u001b[0m     \u001b[38;5;28mself\u001b[39m\u001b[38;5;241m.\u001b[39m_dataset_kind \u001b[38;5;241m==\u001b[39m _DatasetKind\u001b[38;5;241m.\u001b[39mIterable\n\u001b[1;32m    705\u001b[0m     \u001b[38;5;129;01mand\u001b[39;00m \u001b[38;5;28mself\u001b[39m\u001b[38;5;241m.\u001b[39m_IterableDataset_len_called \u001b[38;5;129;01mis\u001b[39;00m \u001b[38;5;129;01mnot\u001b[39;00m \u001b[38;5;28;01mNone\u001b[39;00m\n\u001b[1;32m    706\u001b[0m     \u001b[38;5;129;01mand\u001b[39;00m \u001b[38;5;28mself\u001b[39m\u001b[38;5;241m.\u001b[39m_num_yielded \u001b[38;5;241m>\u001b[39m \u001b[38;5;28mself\u001b[39m\u001b[38;5;241m.\u001b[39m_IterableDataset_len_called\n\u001b[1;32m    707\u001b[0m ):\n",
      "File \u001b[0;32m~/anaconda3/envs/pytorch_env/lib/python3.10/site-packages/torch/utils/data/dataloader.py:1448\u001b[0m, in \u001b[0;36m_MultiProcessingDataLoaderIter._next_data\u001b[0;34m(self)\u001b[0m\n\u001b[1;32m   1445\u001b[0m     \u001b[38;5;28;01mreturn\u001b[39;00m \u001b[38;5;28mself\u001b[39m\u001b[38;5;241m.\u001b[39m_process_data(data)\n\u001b[1;32m   1447\u001b[0m \u001b[38;5;28;01massert\u001b[39;00m \u001b[38;5;129;01mnot\u001b[39;00m \u001b[38;5;28mself\u001b[39m\u001b[38;5;241m.\u001b[39m_shutdown \u001b[38;5;129;01mand\u001b[39;00m \u001b[38;5;28mself\u001b[39m\u001b[38;5;241m.\u001b[39m_tasks_outstanding \u001b[38;5;241m>\u001b[39m \u001b[38;5;241m0\u001b[39m\n\u001b[0;32m-> 1448\u001b[0m idx, data \u001b[38;5;241m=\u001b[39m \u001b[38;5;28;43mself\u001b[39;49m\u001b[38;5;241;43m.\u001b[39;49m\u001b[43m_get_data\u001b[49m\u001b[43m(\u001b[49m\u001b[43m)\u001b[49m\n\u001b[1;32m   1449\u001b[0m \u001b[38;5;28mself\u001b[39m\u001b[38;5;241m.\u001b[39m_tasks_outstanding \u001b[38;5;241m-\u001b[39m\u001b[38;5;241m=\u001b[39m \u001b[38;5;241m1\u001b[39m\n\u001b[1;32m   1450\u001b[0m \u001b[38;5;28;01mif\u001b[39;00m \u001b[38;5;28mself\u001b[39m\u001b[38;5;241m.\u001b[39m_dataset_kind \u001b[38;5;241m==\u001b[39m _DatasetKind\u001b[38;5;241m.\u001b[39mIterable:\n\u001b[1;32m   1451\u001b[0m     \u001b[38;5;66;03m# Check for _IterableDatasetStopIteration\u001b[39;00m\n",
      "File \u001b[0;32m~/anaconda3/envs/pytorch_env/lib/python3.10/site-packages/torch/utils/data/dataloader.py:1412\u001b[0m, in \u001b[0;36m_MultiProcessingDataLoaderIter._get_data\u001b[0;34m(self)\u001b[0m\n\u001b[1;32m   1408\u001b[0m     \u001b[38;5;66;03m# In this case, `self._data_queue` is a `queue.Queue`,. But we don't\u001b[39;00m\n\u001b[1;32m   1409\u001b[0m     \u001b[38;5;66;03m# need to call `.task_done()` because we don't use `.join()`.\u001b[39;00m\n\u001b[1;32m   1410\u001b[0m \u001b[38;5;28;01melse\u001b[39;00m:\n\u001b[1;32m   1411\u001b[0m     \u001b[38;5;28;01mwhile\u001b[39;00m \u001b[38;5;28;01mTrue\u001b[39;00m:\n\u001b[0;32m-> 1412\u001b[0m         success, data \u001b[38;5;241m=\u001b[39m \u001b[38;5;28;43mself\u001b[39;49m\u001b[38;5;241;43m.\u001b[39;49m\u001b[43m_try_get_data\u001b[49m\u001b[43m(\u001b[49m\u001b[43m)\u001b[49m\n\u001b[1;32m   1413\u001b[0m         \u001b[38;5;28;01mif\u001b[39;00m success:\n\u001b[1;32m   1414\u001b[0m             \u001b[38;5;28;01mreturn\u001b[39;00m data\n",
      "File \u001b[0;32m~/anaconda3/envs/pytorch_env/lib/python3.10/site-packages/torch/utils/data/dataloader.py:1243\u001b[0m, in \u001b[0;36m_MultiProcessingDataLoaderIter._try_get_data\u001b[0;34m(self, timeout)\u001b[0m\n\u001b[1;32m   1230\u001b[0m \u001b[38;5;28;01mdef\u001b[39;00m\u001b[38;5;250m \u001b[39m\u001b[38;5;21m_try_get_data\u001b[39m(\u001b[38;5;28mself\u001b[39m, timeout\u001b[38;5;241m=\u001b[39m_utils\u001b[38;5;241m.\u001b[39mMP_STATUS_CHECK_INTERVAL):\n\u001b[1;32m   1231\u001b[0m     \u001b[38;5;66;03m# Tries to fetch data from `self._data_queue` once for a given timeout.\u001b[39;00m\n\u001b[1;32m   1232\u001b[0m     \u001b[38;5;66;03m# This can also be used as inner loop of fetching without timeout, with\u001b[39;00m\n\u001b[0;32m   (...)\u001b[0m\n\u001b[1;32m   1240\u001b[0m     \u001b[38;5;66;03m# Returns a 2-tuple:\u001b[39;00m\n\u001b[1;32m   1241\u001b[0m     \u001b[38;5;66;03m#   (bool: whether successfully get data, any: data if successful else None)\u001b[39;00m\n\u001b[1;32m   1242\u001b[0m     \u001b[38;5;28;01mtry\u001b[39;00m:\n\u001b[0;32m-> 1243\u001b[0m         data \u001b[38;5;241m=\u001b[39m \u001b[38;5;28;43mself\u001b[39;49m\u001b[38;5;241;43m.\u001b[39;49m\u001b[43m_data_queue\u001b[49m\u001b[38;5;241;43m.\u001b[39;49m\u001b[43mget\u001b[49m\u001b[43m(\u001b[49m\u001b[43mtimeout\u001b[49m\u001b[38;5;241;43m=\u001b[39;49m\u001b[43mtimeout\u001b[49m\u001b[43m)\u001b[49m\n\u001b[1;32m   1244\u001b[0m         \u001b[38;5;28;01mreturn\u001b[39;00m (\u001b[38;5;28;01mTrue\u001b[39;00m, data)\n\u001b[1;32m   1245\u001b[0m     \u001b[38;5;28;01mexcept\u001b[39;00m \u001b[38;5;167;01mException\u001b[39;00m \u001b[38;5;28;01mas\u001b[39;00m e:\n\u001b[1;32m   1246\u001b[0m         \u001b[38;5;66;03m# At timeout and error, we manually check whether any worker has\u001b[39;00m\n\u001b[1;32m   1247\u001b[0m         \u001b[38;5;66;03m# failed. Note that this is the only mechanism for Windows to detect\u001b[39;00m\n\u001b[1;32m   1248\u001b[0m         \u001b[38;5;66;03m# worker failures.\u001b[39;00m\n",
      "File \u001b[0;32m~/anaconda3/envs/pytorch_env/lib/python3.10/multiprocessing/queues.py:113\u001b[0m, in \u001b[0;36mQueue.get\u001b[0;34m(self, block, timeout)\u001b[0m\n\u001b[1;32m    111\u001b[0m \u001b[38;5;28;01mif\u001b[39;00m block:\n\u001b[1;32m    112\u001b[0m     timeout \u001b[38;5;241m=\u001b[39m deadline \u001b[38;5;241m-\u001b[39m time\u001b[38;5;241m.\u001b[39mmonotonic()\n\u001b[0;32m--> 113\u001b[0m     \u001b[38;5;28;01mif\u001b[39;00m \u001b[38;5;129;01mnot\u001b[39;00m \u001b[38;5;28;43mself\u001b[39;49m\u001b[38;5;241;43m.\u001b[39;49m\u001b[43m_poll\u001b[49m\u001b[43m(\u001b[49m\u001b[43mtimeout\u001b[49m\u001b[43m)\u001b[49m:\n\u001b[1;32m    114\u001b[0m         \u001b[38;5;28;01mraise\u001b[39;00m Empty\n\u001b[1;32m    115\u001b[0m \u001b[38;5;28;01melif\u001b[39;00m \u001b[38;5;129;01mnot\u001b[39;00m \u001b[38;5;28mself\u001b[39m\u001b[38;5;241m.\u001b[39m_poll():\n",
      "File \u001b[0;32m~/anaconda3/envs/pytorch_env/lib/python3.10/multiprocessing/connection.py:257\u001b[0m, in \u001b[0;36m_ConnectionBase.poll\u001b[0;34m(self, timeout)\u001b[0m\n\u001b[1;32m    255\u001b[0m \u001b[38;5;28mself\u001b[39m\u001b[38;5;241m.\u001b[39m_check_closed()\n\u001b[1;32m    256\u001b[0m \u001b[38;5;28mself\u001b[39m\u001b[38;5;241m.\u001b[39m_check_readable()\n\u001b[0;32m--> 257\u001b[0m \u001b[38;5;28;01mreturn\u001b[39;00m \u001b[38;5;28;43mself\u001b[39;49m\u001b[38;5;241;43m.\u001b[39;49m\u001b[43m_poll\u001b[49m\u001b[43m(\u001b[49m\u001b[43mtimeout\u001b[49m\u001b[43m)\u001b[49m\n",
      "File \u001b[0;32m~/anaconda3/envs/pytorch_env/lib/python3.10/multiprocessing/connection.py:424\u001b[0m, in \u001b[0;36mConnection._poll\u001b[0;34m(self, timeout)\u001b[0m\n\u001b[1;32m    423\u001b[0m \u001b[38;5;28;01mdef\u001b[39;00m\u001b[38;5;250m \u001b[39m\u001b[38;5;21m_poll\u001b[39m(\u001b[38;5;28mself\u001b[39m, timeout):\n\u001b[0;32m--> 424\u001b[0m     r \u001b[38;5;241m=\u001b[39m \u001b[43mwait\u001b[49m\u001b[43m(\u001b[49m\u001b[43m[\u001b[49m\u001b[38;5;28;43mself\u001b[39;49m\u001b[43m]\u001b[49m\u001b[43m,\u001b[49m\u001b[43m \u001b[49m\u001b[43mtimeout\u001b[49m\u001b[43m)\u001b[49m\n\u001b[1;32m    425\u001b[0m     \u001b[38;5;28;01mreturn\u001b[39;00m \u001b[38;5;28mbool\u001b[39m(r)\n",
      "File \u001b[0;32m~/anaconda3/envs/pytorch_env/lib/python3.10/multiprocessing/connection.py:931\u001b[0m, in \u001b[0;36mwait\u001b[0;34m(object_list, timeout)\u001b[0m\n\u001b[1;32m    928\u001b[0m     deadline \u001b[38;5;241m=\u001b[39m time\u001b[38;5;241m.\u001b[39mmonotonic() \u001b[38;5;241m+\u001b[39m timeout\n\u001b[1;32m    930\u001b[0m \u001b[38;5;28;01mwhile\u001b[39;00m \u001b[38;5;28;01mTrue\u001b[39;00m:\n\u001b[0;32m--> 931\u001b[0m     ready \u001b[38;5;241m=\u001b[39m \u001b[43mselector\u001b[49m\u001b[38;5;241;43m.\u001b[39;49m\u001b[43mselect\u001b[49m\u001b[43m(\u001b[49m\u001b[43mtimeout\u001b[49m\u001b[43m)\u001b[49m\n\u001b[1;32m    932\u001b[0m     \u001b[38;5;28;01mif\u001b[39;00m ready:\n\u001b[1;32m    933\u001b[0m         \u001b[38;5;28;01mreturn\u001b[39;00m [key\u001b[38;5;241m.\u001b[39mfileobj \u001b[38;5;28;01mfor\u001b[39;00m (key, events) \u001b[38;5;129;01min\u001b[39;00m ready]\n",
      "File \u001b[0;32m~/anaconda3/envs/pytorch_env/lib/python3.10/selectors.py:416\u001b[0m, in \u001b[0;36m_PollLikeSelector.select\u001b[0;34m(self, timeout)\u001b[0m\n\u001b[1;32m    414\u001b[0m ready \u001b[38;5;241m=\u001b[39m []\n\u001b[1;32m    415\u001b[0m \u001b[38;5;28;01mtry\u001b[39;00m:\n\u001b[0;32m--> 416\u001b[0m     fd_event_list \u001b[38;5;241m=\u001b[39m \u001b[38;5;28;43mself\u001b[39;49m\u001b[38;5;241;43m.\u001b[39;49m\u001b[43m_selector\u001b[49m\u001b[38;5;241;43m.\u001b[39;49m\u001b[43mpoll\u001b[49m\u001b[43m(\u001b[49m\u001b[43mtimeout\u001b[49m\u001b[43m)\u001b[49m\n\u001b[1;32m    417\u001b[0m \u001b[38;5;28;01mexcept\u001b[39;00m \u001b[38;5;167;01mInterruptedError\u001b[39;00m:\n\u001b[1;32m    418\u001b[0m     \u001b[38;5;28;01mreturn\u001b[39;00m ready\n",
      "\u001b[0;31mKeyboardInterrupt\u001b[0m: "
     ]
    }
   ],
   "source": [
    "import optuna\n",
    "\n",
    "def objective(trial):\n",
    "    \"\"\"\n",
    "    Objective function for Optuna hyperparameter optimization.\n",
    "    Calls the existing train_and_validate_kfold function.\n",
    "    \"\"\"\n",
    "        \n",
    "    # Ensure transformer_d_model is divisible by transformer_nhead\n",
    "    nhead = trial.suggest_int(\"nhead\", 2, 8, step=2)\n",
    "    d_model = trial.suggest_int(\n",
    "        \"d_model\", nhead * 16, nhead * 32, step=nhead * 8\n",
    "    )\n",
    "    \n",
    "    dim_feedworward = trial.suggest_int(\"dim_feedforward\", 128, 512, step=64)\n",
    "    num_layers = trial.suggest_int(\"num_layers\", 1, 4)\n",
    "    dropout = trial.suggest_float(\"dropout\", 0.1, 0.5)\n",
    "    lr = trial.suggest_float(\"lr\", 1e-4, 1e-2, log=True)\n",
    "    weight_decay = trial.suggest_float(\"weight_decay\", 1e-6, 1e-4, log=True)\n",
    "\n",
    "    # Define model configuration\n",
    "    model_config = {\n",
    "        \"input_dim\": input_dim,\n",
    "        \"d_model\": d_model,\n",
    "        \"nhead\": nhead,\n",
    "        \"num_layers\": num_layers,\n",
    "        \"dim_feedforward\": dim_feedworward,\n",
    "        \"dropout\": dropout,\n",
    "    }\n",
    "\n",
    "    # Call your existing train_and_validate_kfold function\n",
    "    _, summary = train_and_validate_single_run(\n",
    "        train_loader=fold_loaders[0][0],\n",
    "        val_loader=fold_loaders[0][1],\n",
    "        model_config=model_config,\n",
    "        epochs=50,  # Fewer epochs for faster tuning\n",
    "        lr=lr,\n",
    "        weight_decay=weight_decay,\n",
    "        patience=10  # Early stopping patience\n",
    "    )\n",
    "\n",
    "    # Return the mean validation RMSE as the objective value\n",
    "    return summary[\"final_val_rmse\"]\n",
    "\n",
    "# Optuna study configuration\n",
    "study = optuna.create_study(direction=\"minimize\")  # Minimize RMSE\n",
    "study.optimize(objective, n_trials=50)  # Number of trials for hyperparameter tuning\n",
    "\n",
    "# Print the best hyperparameters and validation RMSE\n",
    "print(\"Best hyperparameters:\", study.best_params)\n",
    "print(\"Best validation RMSE:\", study.best_value)"
   ]
  },
  {
   "cell_type": "markdown",
   "metadata": {},
   "source": [
    "# Evaluate the model with the test loader"
   ]
  },
  {
   "cell_type": "code",
   "execution_count": 9,
   "metadata": {
    "ExecuteTime": {
     "end_time": "2025-01-14T14:40:01.317659Z",
     "start_time": "2025-01-14T14:40:01.128406Z"
    }
   },
   "outputs": [
    {
     "name": "stderr",
     "output_type": "stream",
     "text": [
      "/tmp/ipykernel_97383/2730750230.py:10: FutureWarning: You are using `torch.load` with `weights_only=False` (the current default value), which uses the default pickle module implicitly. It is possible to construct malicious pickle data which will execute arbitrary code during unpickling (See https://github.com/pytorch/pytorch/blob/main/SECURITY.md#untrusted-models for more details). In a future release, the default value for `weights_only` will be flipped to `True`. This limits the functions that could be executed during unpickling. Arbitrary objects will no longer be allowed to be loaded via this mode unless they are explicitly allowlisted by the user via `torch.serialization.add_safe_globals`. We recommend you start setting `weights_only=True` for any use case where you don't have full control of the loaded file. Please open an issue on GitHub for any issues related to this experimental feature.\n",
      "  config = torch.load(config_path)\n"
     ]
    },
    {
     "data": {
      "text/plain": [
       "TransformerRULModel(\n",
       "  (input_projection): Linear(in_features=38, out_features=256, bias=True)\n",
       "  (positional_encoding): PositionalEncoding()\n",
       "  (transformer_encoder): TransformerEncoder(\n",
       "    (layers): ModuleList(\n",
       "      (0): TransformerEncoderLayer(\n",
       "        (self_attn): MultiheadAttention(\n",
       "          (out_proj): NonDynamicallyQuantizableLinear(in_features=256, out_features=256, bias=True)\n",
       "        )\n",
       "        (linear1): Linear(in_features=256, out_features=448, bias=True)\n",
       "        (dropout): Dropout(p=0.1003562785910157, inplace=False)\n",
       "        (linear2): Linear(in_features=448, out_features=256, bias=True)\n",
       "        (norm1): LayerNorm((256,), eps=1e-05, elementwise_affine=True)\n",
       "        (norm2): LayerNorm((256,), eps=1e-05, elementwise_affine=True)\n",
       "        (dropout1): Dropout(p=0.1003562785910157, inplace=False)\n",
       "        (dropout2): Dropout(p=0.1003562785910157, inplace=False)\n",
       "      )\n",
       "    )\n",
       "  )\n",
       "  (attention): Sequential(\n",
       "    (0): Linear(in_features=256, out_features=256, bias=True)\n",
       "    (1): Tanh()\n",
       "    (2): Linear(in_features=256, out_features=1, bias=True)\n",
       "  )\n",
       "  (regressor): Sequential(\n",
       "    (0): Linear(in_features=256, out_features=128, bias=True)\n",
       "    (1): ReLU()\n",
       "    (2): Dropout(p=0.1003562785910157, inplace=False)\n",
       "    (3): Linear(in_features=128, out_features=1, bias=True)\n",
       "  )\n",
       ")"
      ]
     },
     "execution_count": 9,
     "metadata": {},
     "output_type": "execute_result"
    }
   ],
   "source": [
    "from codebase.v5.models import TransformerRULModel\n",
    "import os\n",
    "\n",
    "device = torch.device(\"cuda\" if torch.cuda.is_available() else \"cpu\")\n",
    "\n",
    "model_path = \"saved_weights/\"\n",
    "config_path = os.path.join(model_path, \"config.pth\")\n",
    "model_path = os.path.join(model_path, \"model.pth\")\n",
    "\n",
    "config = torch.load(config_path)\n",
    "\n",
    "# Reinitialize the model architecture\n",
    "checkpoint = torch.load(model_path, weights_only=True)\n",
    "\n",
    "# RecommendationNet model\n",
    "loaded_model = TransformerRULModel(**config).to(device)\n",
    "\n",
    "loaded_model.load_state_dict(checkpoint['model_state_dict'])\n",
    "loaded_model.eval()"
   ]
  },
  {
   "cell_type": "code",
   "execution_count": 10,
   "metadata": {
    "ExecuteTime": {
     "end_time": "2025-01-14T14:40:08.984927Z",
     "start_time": "2025-01-14T14:40:08.969952Z"
    }
   },
   "outputs": [],
   "source": [
    "import pandas as pd\n",
    "\n",
    "# Load the RUL file\n",
    "rul_file_path = \"./data/CMAPSSData/RUL_FD001.txt\"  # Adjust the path if needed\n",
    "rul_df = pd.read_csv(rul_file_path, header=None, names=[\"RUL\"])\n",
    "\n",
    "# RUL values for each engine\n",
    "rul_values = rul_df[\"RUL\"].values  # Shape: (num_engines,)"
   ]
  },
  {
   "cell_type": "code",
   "execution_count": 11,
   "metadata": {
    "ExecuteTime": {
     "end_time": "2025-01-14T16:03:26.029434Z",
     "start_time": "2025-01-14T16:03:26.000671Z"
    }
   },
   "outputs": [],
   "source": [
    "import torch.nn.functional as F\n",
    "\n",
    "def evaluate_model_final_sequence(model, test_loader, rul_values, device=\"cpu\"):\n",
    "    \"\"\"\n",
    "    Evaluate the model on the test set while persisting engine-level data across batches.\n",
    "    \n",
    "    Args:\n",
    "        model (nn.Module): Trained model.\n",
    "        test_loader (DataLoader): Test DataLoader, returning sequences.\n",
    "        rul_values (numpy.ndarray): Array of ground-truth RUL values for the test set.\n",
    "        device (str): Device to run the evaluation on (\"cpu\" or \"cuda\").\n",
    "    \n",
    "    Returns:\n",
    "        float: RMSE score for the test set.\n",
    "    \"\"\"\n",
    "    model.eval()\n",
    "    \n",
    "    # Persistent dictionaries for tracking final sequences across all batches\n",
    "    engine_id_to_best_cycle = {}\n",
    "    engine_id_to_best_pred = {}\n",
    "    \n",
    "    with torch.no_grad():\n",
    "        for (features, masks, engine_ids, cycles) in test_loader:\n",
    "            # Move data to the device\n",
    "            features, masks = features.to(device), masks.to(device)\n",
    "            \n",
    "            # Predict RUL for each sequence\n",
    "            outputs = model(features, masks)  # Shape: (batch_size,)\n",
    "\n",
    "            # Process each sequence in the batch\n",
    "            for i in range(len(engine_ids)):\n",
    "                e_id = int(engine_ids[i].item()) - 1  # Convert 1-based engine ID to 0-based index\n",
    "                cycle_array = cycles[i].cpu().numpy()  # Extract cycle array for this sequence\n",
    "                max_cycle_in_window = cycle_array.max()  # Find the highest cycle in this sequence\n",
    "                \n",
    "                # Update the persistent dictionary if this sequence is more \"final\"\n",
    "                if (e_id not in engine_id_to_best_cycle) or (max_cycle_in_window > engine_id_to_best_cycle[e_id]):\n",
    "                    engine_id_to_best_cycle[e_id] = max_cycle_in_window\n",
    "                    engine_id_to_best_pred[e_id] = outputs[i].item()\n",
    "\n",
    "    # Finalize predictions and compare with ground truth\n",
    "    predictions = []\n",
    "    ground_truth = []\n",
    "    for e_id, pred in engine_id_to_best_pred.items():\n",
    "        predictions.append(pred)\n",
    "        ground_truth.append(rul_values[e_id])  # Match RUL from the ground truth file\n",
    "\n",
    "    # Compute RMSE\n",
    "    predictions_t = torch.tensor(predictions, dtype=torch.float32)\n",
    "    ground_truth_t = torch.tensor(ground_truth, dtype=torch.float32)\n",
    "    rmse = torch.sqrt(F.mse_loss(predictions_t, ground_truth_t)).item()\n",
    "    \n",
    "    print(f\"Test RMSE: {rmse:.4f}\")\n",
    "    return rmse"
   ]
  },
  {
   "cell_type": "code",
   "execution_count": 12,
   "metadata": {
    "ExecuteTime": {
     "start_time": "2025-01-14T16:06:53.648098Z"
    },
    "jupyter": {
     "is_executing": true
    }
   },
   "outputs": [
    {
     "name": "stdout",
     "output_type": "stream",
     "text": [
      "Test RMSE: 77.5495\n"
     ]
    }
   ],
   "source": [
    "# Load the test RUL values\n",
    "rul_values = pd.read_csv(\"./data/CMAPSSData/RUL_FD001.txt\", header=None).squeeze().values\n",
    "\n",
    "# Evaluate the model\n",
    "test_eval_result = evaluate_model_final_sequence(\n",
    "    loaded_model, test_loader, rul_values, device=\"cuda\" if torch.cuda.is_available() else \"cpu\")"
   ]
  },
  {
   "cell_type": "markdown",
   "metadata": {},
   "source": [
    "# Single prediction"
   ]
  },
  {
   "cell_type": "code",
   "execution_count": 10,
   "metadata": {},
   "outputs": [],
   "source": [
    "def predict_rul_for_engine(model, test_loader, engine_id, device=\"cpu\"):\n",
    "    \"\"\"\n",
    "    Predict the RUL for a single engine by first locating its data in the test loader\n",
    "    and then performing a prediction on the relevant sequences.\n",
    "\n",
    "    Args:\n",
    "        model (nn.Module): Trained RUL prediction model.\n",
    "        test_loader (DataLoader): Test DataLoader, providing sequences for all engines.\n",
    "        engine_id (int): The ID of the engine to predict RUL for (1-based ID).\n",
    "        device (str): Device to run the evaluation on (\"cpu\" or \"cuda\").\n",
    "\n",
    "    Returns:\n",
    "        float: Predicted RUL for the specified engine.\n",
    "    \"\"\"\n",
    "    model.eval()\n",
    "\n",
    "    # Variables to store the data for the specified engine\n",
    "    engine_features = []\n",
    "    engine_masks = []\n",
    "    engine_cycles = []\n",
    "\n",
    "    # Step 1: Locate data for the specified engine in the test loader\n",
    "    with torch.no_grad():\n",
    "        for (features, masks, engine_ids, cycles) in test_loader:\n",
    "            for i in range(len(engine_ids)):\n",
    "                e_id = int(engine_ids[i].item())  # Engine ID (1-based in dataset)\n",
    "                if e_id == engine_id:\n",
    "                    engine_features.append(features[i])\n",
    "                    engine_masks.append(masks[i])\n",
    "                    engine_cycles.append(cycles[i])\n",
    "\n",
    "    # If no data was found for the specified engine\n",
    "    if not engine_features:\n",
    "        raise ValueError(f\"No data found for engine ID {engine_id} in the test loader.\")\n",
    "\n",
    "    # Step 2: Stack the data for prediction\n",
    "    engine_features = torch.stack(engine_features).to(device)  # Shape: (num_sequences, seq_len, num_features)\n",
    "    engine_masks = torch.stack(engine_masks).to(device)        # Shape: (num_sequences, seq_len)\n",
    "    engine_cycles = torch.stack(engine_cycles).cpu().numpy()   # Shape: (num_sequences, seq_len)\n",
    "\n",
    "    # Step 3: Predict RUL using only the sequences for the specified engine\n",
    "    best_cycle = -float('inf')\n",
    "    best_pred = None\n",
    "\n",
    "    print(f\"Feeding the model with {len(engine_features)} sequences for engine {engine_id}...\")\n",
    "\n",
    "    with torch.no_grad():\n",
    "        outputs = model(engine_features, engine_masks)  # Shape: (num_sequences,)\n",
    "\n",
    "        for i in range(len(engine_features)):\n",
    "            max_cycle_in_window = engine_cycles[i].max()  # Find the highest cycle in this sequence\n",
    "\n",
    "            # Update the prediction if this sequence is more \"final\"\n",
    "            if max_cycle_in_window > best_cycle:\n",
    "                best_cycle = max_cycle_in_window\n",
    "                best_pred = outputs[i].item()\n",
    "\n",
    "    # Step 4: Return the predicted RUL    \n",
    "    return best_pred"
   ]
  },
  {
   "cell_type": "code",
   "execution_count": null,
   "metadata": {},
   "outputs": [
    {
     "name": "stdout",
     "output_type": "stream",
     "text": [
      "Feeding the model with 1 sequences for engine 1...\n",
      "Predicted RUL for Engine 1: 5.0198\n"
     ]
    }
   ],
   "source": [
    "# Example: Predict RUL for Engine ID 5\n",
    "engine_id_to_predict = 1\n",
    "\n",
    "# Assuming `trained_model`, `test_loader`, and `device` are already defined\n",
    "rul_prediction = predict_rul_for_engine(loaded_model, test_loader, engine_id=engine_id_to_predict, device=\"cuda\")\n",
    "\n",
    "print(f\"Predicted RUL for Engine {engine_id_to_predict}: {rul_prediction:.4f}\")"
   ]
  },
  {
   "cell_type": "markdown",
   "metadata": {},
   "source": [
    "# Conclusion\n",
    "After several experiments I concluded that it is quite demanding to get a model which can predict a good score for all various length of the data in the test set. The sequences in the test set differs much, starting from sequences with 30 elements up to sequences with 160 and more.\n",
    "\n",
    "In the next notebook I will try a hybrid approch combining several models trainend with different length of sequences."
   ]
  },
  {
   "cell_type": "markdown",
   "metadata": {},
   "source": [
    "# Benchmark Results\n",
    "Here are some official benchmark results:\n",
    "\n",
    "While results vary by implementation and dataset preprocessing, common benchmarks for RMSE include:\n",
    "\n",
    "- Well-Engineered GBDT Models: ~25–30 RMSE.\n",
    "- RNN-Based Deep Learning Models: ~30–40 RMSE.\n",
    "- Transformer Models (TFT): ~20–35 RMSE (depending on configuration).\n",
    "- Hybrid/Ensemble Models: Often achieve ~20–30 RMSE."
   ]
  },
  {
   "cell_type": "markdown",
   "metadata": {},
   "source": []
  }
 ],
 "metadata": {
  "kernelspec": {
   "display_name": "Python 3 (ipykernel)",
   "language": "python",
   "name": "python3"
  },
  "language_info": {
   "codemirror_mode": {
    "name": "ipython",
    "version": 3
   },
   "file_extension": ".py",
   "mimetype": "text/x-python",
   "name": "python",
   "nbconvert_exporter": "python",
   "pygments_lexer": "ipython3",
   "version": "3.10.16"
  }
 },
 "nbformat": 4,
 "nbformat_minor": 4
}
