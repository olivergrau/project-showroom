{
 "cells": [
  {
   "cell_type": "markdown",
   "metadata": {},
   "source": [
    "# Transformer based Neural Network for RUL Prediction\n",
    "\n",
    "## Introduction\n",
    "\n",
    "This notebook focuses on designing and implementing neural network models for predicting the Remaining Useful Life (RUL) of engines using the NASA CMAPSS dataset and a transformer based model. The dataset provides multivariate time-series data capturing engine operational and sensor measurements. By analyzing these sequences, we aim to estimate the RUL, which is critical for predictive maintenance and avoiding unexpected failures.\n",
    "\n",
    "In this notebook we are going to NOT use the **engineered** features.\n",
    "\n",
    "### Objectives\n",
    "1. **Develop a Baseline Model:** (Done)\n",
    "   - Implement a baseline neural network using **RNN** layers to leverage the sequential nature of the data.\n",
    "   - Evaluate the baseline model's performance as a benchmark.\n",
    "\n",
    "2. **Experiment with more complex models like GRU and Transformer-Based Models:**\n",
    "   - Implement a more advanced architecture based on transformers for sequence modeling and feature extraction.\n",
    "   - Compare its performance with the LSTM-based baseline model.\n",
    "\n",
    "### Plan\n",
    "1. **Prepare the Data:**\n",
    "   - Use the preprocessed and scaled dataset created in previous notebooks.\n",
    "   - Ensure the dataset supports both original features and optional engineered features for flexibility in experimentation.\n",
    "\n",
    "2. **Baseline Model (LSTM):**\n",
    "   - Use LSTM layers to capture temporal dependencies in the sequence data.\n",
    "   - Evaluate the model's performance using Mean Squared Error (MSE) as the loss metric.\n",
    "\n",
    "3. **Transformer-Based Model:**\n",
    "   - Design a transformer architecture for sequence-to-sequence modeling.\n",
    "   - Focus on capturing long-range dependencies and complex interactions among features.\n",
    "\n",
    "4. **Model Comparison and Evaluation:**\n",
    "   - Compare the models on key metrics such as Mean Absolute Error (MAE) and MSE.\n",
    "   - Analyze the advantages and trade-offs of each approach.\n",
    "\n",
    "### Why Use LSTMs and Transformers?\n",
    "- **LSTMs:** \n",
    "  - Effective at capturing temporal dependencies and patterns in sequential data.\n",
    "  - Provide a strong benchmark for sequence modeling tasks.\n",
    "- **Transformers:**\n",
    "  - Offer enhanced capability to model long-range dependencies compared to LSTMs.\n",
    "  - Utilize attention mechanisms to focus on the most relevant parts of the sequence.\n",
    "\n",
    "### Expected Outcome\n",
    "By the end of this notebook, we aim to:\n",
    "- Establish a strong baseline model for RUL prediction.\n",
    "- Explore the potential of transformer-based models for handling sequence data.\n",
    "- Gain insights into the strengths and limitations of these architectures for predictive maintenance tasks.\n",
    "\n",
    "Let's begin by loading the prepared dataset and setting up the baseline model.\n"
   ]
  },
  {
   "cell_type": "markdown",
   "metadata": {},
   "source": [
    "# Preparing our existing CMAPSSDataset for a transformer based network\n",
    "Our sequence based CMAPSSDataset is already in good shape to serve as a data pipeline for the transformer net architecture. But we need to add one thing:\n",
    "\n",
    "1. Creating an attention mask to ignore padded timesteps"
   ]
  },
  {
   "cell_type": "markdown",
   "metadata": {},
   "source": [
    "**Another** task is:\n",
    "\n",
    "1. Clarify the question how you pool the final sequence embedding (mean pooling, [CLS] token, etc.)"
   ]
  },
  {
   "cell_type": "markdown",
   "metadata": {},
   "source": [
    "\n",
    "## Pooling the Final Sequence Embedding in Transformer Models\n",
    "\n",
    "Pooling the **final sequence embeddings** is a critical step in Transformer-based models for time-series tasks like RUL prediction. Let’s break it down and explore the options:\n",
    "\n",
    "---\n",
    "\n",
    "### 1. **Why Do You Need Pooling?**\n",
    "\n",
    "The Transformer outputs embeddings for **each timestep** (sequence position). For example:\n",
    "- Input: Shape $(\\text{batch size}, \\text{seq len}, \\text{feature dim})$\n",
    "- Transformer Output: Shape $(\\text{batch size}, \\text{seq len}, \\text{d\\_model})$\n",
    "\n",
    "Each row in this output corresponds to the representation of a specific timestep, enriched by attention over the entire sequence. However:\n",
    "- For **RUL prediction**, you need a **single output vector** per sequence because RUL is a scalar (one value per sequence).\n",
    "- To get this single vector, you must **pool** the sequence embeddings into one representation.\n",
    "\n",
    "---\n",
    "\n",
    "### 2. **Common Pooling Strategies**\n",
    "\n",
    "#### 2.1. **Mean Pooling (Global Average Pooling)**\n",
    "\n",
    "- Take the average of all timestep embeddings across the sequence:\n",
    "  $$\n",
    "  \\text{pooled\\_vector} = \\frac{1}{\\text{seq len}} \\sum_{t=1}^{\\text{seq len}} \\text{embeddings}[t]\n",
    "  $$\n",
    "- This results in a single vector of shape $(\\text{batch size}, \\text{d\\_model})$.\n",
    "\n",
    "**Advantages**:\n",
    "- Simple and computationally efficient.\n",
    "- Works well when every timestep contributes equally to the sequence’s meaning.\n",
    "\n",
    "**Disadvantages**:\n",
    "- Assumes all timesteps are equally important, which may not hold if some timesteps contain more critical information (e.g., degradation trends at later cycles).\n",
    "\n",
    "---\n",
    "\n",
    "#### 2.2. **Max Pooling**\n",
    "\n",
    "- Take the maximum value across timesteps for each embedding dimension:\n",
    "  $$\n",
    "  \\text{pooled\\_vector}[i] = \\max_{t=1}^{\\text{seq len}} \\text{embeddings}[t][i]\n",
    "  $$\n",
    "- Shape: $(\\text{batch size}, \\text{d\\_model})$.\n",
    "\n",
    "**Advantages**:\n",
    "- Focuses on the most “prominent” features across the sequence, which may highlight key degradation signals.\n",
    "\n",
    "**Disadvantages**:\n",
    "- Discards subtler variations across timesteps, which might be useful for RUL prediction.\n",
    "\n",
    "---\n",
    "\n",
    "#### 2.3. **Attention-Based Pooling**\n",
    "\n",
    "Instead of fixed pooling (mean or max), you can use an **attention mechanism** to compute a weighted sum of embeddings:\n",
    "- Learn a weight for each timestep based on its importance.\n",
    "- Formula:\n",
    "  $$\n",
    "  \\text{pooled\\_vector} = \\sum_{t=1}^{\\text{seq len}} \\alpha_t \\cdot \\text{embeddings}[t]\n",
    "  $$\n",
    "  where $\\alpha_t$ are attention weights:\n",
    "  $$\n",
    "  \\alpha_t = \\text{softmax}(W \\cdot \\text{embeddings}[t])\n",
    "  $$\n",
    "- $W$ is a learnable parameter (linear layer).\n",
    "\n",
    "**Advantages**:\n",
    "- Dynamically learns which timesteps are most important.\n",
    "- Especially useful for RUL prediction, where later timesteps may carry more degradation information.\n",
    "\n",
    "**Disadvantages**:\n",
    "- Adds extra parameters and computation.\n",
    "\n",
    "---\n",
    "\n",
    "#### 2.4. **[CLS] Token**\n",
    "\n",
    "Inspired by Transformers in NLP (e.g., BERT), you can prepend a **special token** (e.g., `[CLS]`) to your input sequence. This token:\n",
    "- Has its own learnable embedding.\n",
    "- After passing through the Transformer, the embedding of the `[CLS]` token represents the entire sequence.\n",
    "\n",
    "**Advantages**:\n",
    "- Simple to implement.\n",
    "- The model learns to focus the `[CLS]` embedding on the overall sequence meaning.\n",
    "\n",
    "**Disadvantages**:\n",
    "- The `[CLS]` token may not always effectively summarize the sequence, especially for smaller datasets or unoptimized models.\n",
    "\n",
    "---\n",
    "\n",
    "#### 2.5. **Last Timestep**\n",
    "\n",
    "For some sequence tasks, only the final timestep is considered (similar to an RNN’s default behavior). Here, you directly take the last timestep embedding:\n",
    "- \n",
    "$$\n",
    "\\text{pooled\\_vector} = \\text{embeddings}[-1]\n",
    "$$\n",
    "- Shape: $(\\text{batch size}, \\text{d\\_model})$.\n",
    "\n",
    "**Advantages**:\n",
    "- Simple and intuitive for time-series tasks like RUL, where later timesteps are often more indicative of failure.\n",
    "- Computationally cheap.\n",
    "\n",
    "**Disadvantages**:\n",
    "- Ignores information from earlier timesteps, which may still contain valuable signals (e.g., long-term trends).\n",
    "\n",
    "---\n",
    "\n",
    "### 3. **Which Pooling Strategy to Use?**\n",
    "\n",
    "#### Recommendations for the NASA Turbofan Dataset:\n",
    "\n",
    "1. **Start with Mean Pooling**:  \n",
    "   - It’s simple, effective, and works well as a baseline.\n",
    "\n",
    "2. **Explore Attention-Based Pooling**:  \n",
    "   - Particularly useful for RUL prediction since later timesteps often dominate the degradation signal.\n",
    "\n",
    "3. **Consider Last Timestep**:  \n",
    "   - If your sequences are long, or the model focuses too much on early cycles, this can prioritize the most recent data.\n",
    "\n",
    "4. **[CLS] Token**:  \n",
    "   - Works well for full-sequence modeling. If you’re using variable-length sequences or Transformers with a fixed input length, `[CLS]` pooling can be a robust alternative.\n",
    "\n",
    "---\n",
    "\n",
    "### 4. **Code Examples**\n",
    "\n",
    "#### Mean Pooling\n",
    "```python\n",
    "class TransformerRULModel(nn.Module):\n",
    "    def forward(self, x, mask=None):\n",
    "        # x: (batch_size, seq_len, d_model)\n",
    "        x = self.transformer_encoder(x, src_key_padding_mask=mask)\n",
    "        # Mean pooling over sequence dimension\n",
    "        x = x.mean(dim=1)  # Shape: (batch_size, d_model)\n",
    "        output = self.regressor(x)\n",
    "        return output\n",
    "```\n",
    "\n",
    "---\n",
    "\n",
    "#### Attention-Based Pooling\n",
    "```python\n",
    "class TransformerRULModel(nn.Module):\n",
    "    def __init__(self, d_model):\n",
    "        super().__init__()\n",
    "        self.attention = nn.Sequential(\n",
    "            nn.Linear(d_model, d_model),\n",
    "            nn.Tanh(),\n",
    "            nn.Linear(d_model, 1)  # Scalar score for each timestep\n",
    "        )\n",
    "        self.regressor = nn.Linear(d_model, 1)\n",
    "\n",
    "    def forward(self, x, mask=None):\n",
    "        # x: (batch_size, seq_len, d_model)\n",
    "        x = self.transformer_encoder(x, src_key_padding_mask=mask)\n",
    "\n",
    "        # Attention weights\n",
    "        attn_scores = self.attention(x)  # Shape: (batch_size, seq_len, 1)\n",
    "        attn_weights = torch.softmax(attn_scores, dim=1)  # Shape: (batch_size, seq_len, 1)\n",
    "\n",
    "        # Weighted sum\n",
    "        context_vector = (x * attn_weights).sum(dim=1)  # Shape: (batch_size, d_model)\n",
    "        output = self.regressor(context_vector)  # Shape: (batch_size, 1)\n",
    "        return output\n",
    "```\n",
    "\n",
    "---\n",
    "\n",
    "#### [CLS] Token\n",
    "```python\n",
    "class TransformerRULModel(nn.Module):\n",
    "    def forward(self, x, mask=None):\n",
    "        # Add [CLS] token to the input\n",
    "        cls_token = self.cls_embedding.expand(x.size(0), 1, -1)  # Shape: (batch_size, 1, d_model)\n",
    "        x = torch.cat([cls_token, x], dim=1)  # Shape: (batch_size, seq_len+1, d_model)\n",
    "\n",
    "        x = self.transformer_encoder(x, src_key_padding_mask=mask)\n",
    "\n",
    "        # Use the first embedding (CLS token)\n",
    "        cls_embedding = x[:, 0, :]  # Shape: (batch_size, d_model)\n",
    "        output = self.regressor(cls_embedding)  # Shape: (batch_size, 1)\n",
    "        return output\n",
    "```\n",
    "\n",
    "---\n",
    "\n",
    "### 5. **Comparison of Strategies**\n",
    "\n",
    "| **Pooling Method**   | **Advantages**                          | **Disadvantages**                     | **Use Case**                                 |\n",
    "|-----------------------|------------------------------------------|----------------------------------------|----------------------------------------------|\n",
    "| **Mean Pooling**      | Simple, efficient                       | Assumes all timesteps are equally important | Baseline for most tasks                       |\n",
    "| **Max Pooling**       | Focuses on prominent features           | Ignores subtler signals                | Detecting sharp degradation patterns         |\n",
    "| **Attention Pooling** | Learns importance dynamically           | Computationally more expensive         | Tasks with unequal timestep importance       |\n",
    "| **[CLS] Token**       | Learns an explicit sequence summary     | Requires training to focus on `[CLS]` | General-purpose; good for variable-length    |\n",
    "| **Last Timestep**     | Prioritizes most recent timesteps       | Ignores earlier sequence information   | Strong trend toward failure in final cycles  |\n",
    "\n",
    "---\n",
    "\n",
    "**Final Advice**: Start simple (mean pooling) and evaluate. If mean pooling doesn’t capture RUL trends effectively, experiment with attention-based pooling or [CLS] tokens.\n"
   ]
  },
  {
   "cell_type": "code",
   "execution_count": 2,
   "metadata": {
    "ExecuteTime": {
     "end_time": "2025-01-14T15:29:06.787204Z",
     "start_time": "2025-01-14T15:29:06.760963Z"
    }
   },
   "outputs": [],
   "source": [
    "# Watch for changes\n",
    "%load_ext autoreload\n",
    "%autoreload 2\n",
    "\n",
    "import torch\n",
    "from torch.utils.data import DataLoader\n",
    "from codebase.v5.dataset import CMAPSSDataset, SequenceCMAPSSDataset\n",
    "\n",
    "def collate_fn(batch, mode=\"train\"):\n",
    "        \"\"\"\n",
    "        Custom collate function to handle padding and masking.\n",
    "        \n",
    "        Args:\n",
    "            batch (list): List of tuples:\n",
    "                - Train mode: (features, target, engine_id, cycles)\n",
    "                - Test mode:  (features, engine_id, cycles)\n",
    "            mode (str): \"train\" or \"test\"\n",
    "            \n",
    "        Returns:\n",
    "            tuple:\n",
    "                If mode=\"train\": (features_tensor, targets_tensor, masks_tensor, engine_ids, cycles_tensor)\n",
    "                If mode=\"test\":  (features_tensor, masks_tensor, engine_ids, cycles_tensor)\n",
    "        \"\"\"\n",
    "        features_list = []\n",
    "        targets_list = []\n",
    "        masks_list = []\n",
    "        engine_ids = []\n",
    "        cycles_list = []\n",
    "        \n",
    "        for sample in batch:\n",
    "            # 1) Handle difference between train & test samples\n",
    "            if mode == \"train\":\n",
    "                features, target, engine_id, cycles = sample\n",
    "            else:\n",
    "                features, engine_id, cycles = sample\n",
    "                target = None  # No target in test mode\n",
    "            \n",
    "            # 2) Build a mask to distinguish padded vs. non-padded timesteps\n",
    "            #    (assuming padded rows are all zeros)\n",
    "            mask = (features.sum(dim=-1) == 0)  # True for padded positions, False for valid ones\n",
    "            \n",
    "            # 3) Skip fully-padded sequences: mask.sum() == len(mask)\n",
    "            #    means no real timesteps (all zeros).\n",
    "            if mask.sum() == mask.size(0):  # mask.size(0) is the sequence length\n",
    "                print(\"This shouldn't occur: Skipping fully-padded sequence.\")\n",
    "                continue\n",
    "            \n",
    "            # Otherwise, keep this sample\n",
    "            features_list.append(features)\n",
    "            masks_list.append(mask)\n",
    "            engine_ids.append(engine_id)\n",
    "            cycles_list.append(cycles)\n",
    "\n",
    "            # Only append target in train mode\n",
    "            if mode == \"train\":\n",
    "                targets_list.append(target)\n",
    "\n",
    "        # 4) Stack features and masks\n",
    "        features_tensor = torch.stack(features_list)  # (batch_size, seq_len, num_features)\n",
    "        masks_tensor = torch.stack(masks_list)        # (batch_size, seq_len)\n",
    "        cycles_tensor = torch.stack(cycles_list)      # (batch_size, seq_len)\n",
    "\n",
    "        # 5) Return depends on mode\n",
    "        if mode == \"train\":\n",
    "            targets_tensor = torch.stack(targets_list)  # (batch_size,)\n",
    "            return features_tensor, targets_tensor, masks_tensor, engine_ids, cycles_tensor\n",
    "        else:\n",
    "            return features_tensor, masks_tensor, engine_ids, cycles_tensor\n",
    "\n",
    "def prepare_sequence_dataloader(\n",
    "        data_dir, data_index, feature_cols, batch_size=32, \n",
    "        mode=\"train\", compute_engineered_features=True, sequence_length=30, overlap=0, scaler=None):\n",
    "    \"\"\"\n",
    "    Prepares the DataLoader for the CMAPSS dataset.\n",
    "    \n",
    "    Args:\n",
    "        data_dir (str): Directory containing the dataset files.\n",
    "        data_index (int): Index of the dataset file to load (0 to 3).\n",
    "        feature_cols (list): List of feature columns to use.\n",
    "        batch_size (int): Batch size for the DataLoader.\n",
    "        mode (str): Mode of the dataset, \"train\" or \"test\".\n",
    "        compute_engineered_features (bool): Whether to include engineered features.\n",
    "        sequence_length (int): Length of the sequence to extract.\n",
    "        overlap (int): Number of overlapping time steps between consecutive sequences.\n",
    "        \n",
    "    Returns:\n",
    "        DataLoader: PyTorch DataLoader for the CMAPSS dataset with masking.\n",
    "    \"\"\"\n",
    "    # Initialize the base dataset\n",
    "    tabular_dataset = CMAPSSDataset(\n",
    "        data_dir=data_dir,\n",
    "        data_index=data_index,\n",
    "        feature_cols=feature_cols,\n",
    "        mode=mode,\n",
    "        compute_engineered_features=compute_engineered_features,\n",
    "        features_to_engineer=[\"sensor_12\", \"sensor_7\", \"sensor_21\", \"sensor_20\", \"sensor_11\", \"sensor_4\", \"sensor_15\"],\n",
    "        scaler=scaler if mode == \"test\" else None\n",
    "    )\n",
    "    \n",
    "    # Wrap it with the sequence-based dataset\n",
    "    sequence_dataset = SequenceCMAPSSDataset(\n",
    "        dataset=tabular_dataset, sequence_length=sequence_length, overlap=overlap)\n",
    "    \n",
    "    # Create DataLoader with the custom collate function\n",
    "    dataloader = DataLoader(\n",
    "        sequence_dataset, batch_size=batch_size, shuffle=False, num_workers=8, collate_fn=lambda batch: collate_fn(batch, mode=mode)\n",
    "    )\n",
    "    \n",
    "    return dataloader, tabular_dataset, sequence_dataset"
   ]
  },
  {
   "cell_type": "code",
   "execution_count": 3,
   "metadata": {
    "ExecuteTime": {
     "end_time": "2025-01-14T15:30:02.180426Z",
     "start_time": "2025-01-14T15:30:02.154143Z"
    }
   },
   "outputs": [],
   "source": [
    "def test_sequence_dataset(dataloader, mode=\"train\"):\n",
    "    \"\"\"\n",
    "    Test the SequenceCMAPSSDataset and display an example output.\n",
    "\n",
    "    Args:\n",
    "        dataset (CMAPSSDataset): The original CMAPSSDataset instance.\n",
    "        sequence_length (int): Length of each sequence.\n",
    "        batch_size (int): Batch size for the DataLoader.\n",
    "    \"\"\"\n",
    "\n",
    "    # Fetch one batch\n",
    "    for batch_idx, batch in enumerate(dataloader):\n",
    "        if mode == \"train\":\n",
    "            sequences, targets, masks, engine_ids, cycles = batch\n",
    "            print(f\"Batch {batch_idx + 1}\")\n",
    "            print(f\"Sequences Shape: {sequences.shape}\")  # Expected: (batch_size, sequence_length, num_features)\n",
    "            print(f\"Targets Shape: {targets.shape}\")  # Expected: (batch_size,)\n",
    "            print(f\"Masks Shape: {masks.shape}\")  # Expected: (batch_size, sequence_length)\n",
    "            print(f\"Engine Ids Shape: {len(engine_ids)}\")\n",
    "            print(f\"Cycles Shape: {cycles.shape}\")\n",
    "            print()\n",
    "            print(f\"Sample Sequence (First in Batch):\\n{sequences[0]}\")\n",
    "            print(f\"Corresponding Target (First in Batch):\\n{targets[0]}\")\n",
    "            print(f\"Engine ID (First in batch): {engine_ids[0]}\")\n",
    "            print(f\"Cycles (First in batch): {cycles[0]}\")\n",
    "        else:\n",
    "            sequences, masks, engine_ids, cycles = batch\n",
    "            print(f\"Batch {batch_idx + 1}\")\n",
    "            print(f\"Sequences Shape: {sequences.shape}\")  # Expected: (batch_size, sequence_length, num_features)\n",
    "            print(f\"Masks Shape: {masks.shape}\")  # Expected: (batch_size, sequence_length)\n",
    "            print(f\"Engine Ids Shape: {len(engine_ids)}\")\n",
    "            print(f\"Cycles Shape: {cycles.shape}\")\n",
    "            print()\n",
    "            print(f\"Sample Sequence (First in Batch):\\n{sequences[0]}\")\n",
    "            print(f\"Engine ID (First in batch): {engine_ids[0]}\")\n",
    "            print(f\"Cycles (First in batch): {cycles[0]}\")\n",
    "        break  # Only fetch the first batch for demonstration\n"
   ]
  },
  {
   "cell_type": "code",
   "execution_count": 4,
   "metadata": {
    "ExecuteTime": {
     "end_time": "2025-01-14T15:32:42.395132Z",
     "start_time": "2025-01-14T15:32:40.123745Z"
    }
   },
   "outputs": [
    {
     "name": "stdout",
     "output_type": "stream",
     "text": [
      "Testing the Sequence Dataset (train):\n",
      "Batch 1\n",
      "Sequences Shape: torch.Size([256, 60, 38])\n",
      "Targets Shape: torch.Size([256])\n",
      "Masks Shape: torch.Size([256, 60])\n",
      "Engine Ids Shape: 256\n",
      "Cycles Shape: torch.Size([256, 60])\n",
      "\n",
      "Sample Sequence (First in Batch):\n",
      "tensor([[-0.8639, -0.6919, -0.6328,  ...,  1.1114, -1.1580,  0.3762],\n",
      "        [-1.9603, -0.3505, -1.1723,  ...,  0.9976, -1.2604, -0.4221],\n",
      "        [ 0.4609,  0.3323, -0.4130,  ...,  0.8967, -1.7476,  0.1414],\n",
      "        ...,\n",
      "        [ 0.1868,  0.3323, -1.0324,  ...,  0.6529,  0.7298, -1.0748],\n",
      "        [ 0.6893,  0.6737, -0.1732,  ...,  0.7715,  0.3295,  0.8739],\n",
      "        [ 0.7807,  0.6737, -0.9125,  ...,  0.6396, -0.4595,  0.4924]])\n",
      "Corresponding Target (First in Batch):\n",
      "128.0\n",
      "Engine ID (First in batch): 1\n",
      "Cycles (First in batch): tensor([ 5,  6,  7,  8,  9, 10, 11, 12, 13, 14, 15, 16, 17, 18, 19, 20, 21, 22,\n",
      "        23, 24, 25, 26, 27, 28, 29, 30, 31, 32, 33, 34, 35, 36, 37, 38, 39, 40,\n",
      "        41, 42, 43, 44, 45, 46, 47, 48, 49, 50, 51, 52, 53, 54, 55, 56, 57, 58,\n",
      "        59, 60, 61, 62, 63, 64], dtype=torch.int32)\n",
      "\n",
      "Testing the Sequence Dataset (test):\n",
      "Batch 1\n",
      "Sequences Shape: torch.Size([256, 60, 38])\n",
      "Masks Shape: torch.Size([256, 60])\n",
      "Engine Ids Shape: 256\n",
      "Cycles Shape: torch.Size([256, 60])\n",
      "\n",
      "Sample Sequence (First in Batch):\n",
      "tensor([[ 1.0548,  1.0151,  0.6660,  ...,  0.4929, -0.0304,  0.0086],\n",
      "        [-1.2294, -1.0333, -1.9515,  ...,  0.4929, -0.0304,  0.2306],\n",
      "        [ 0.1411,  0.3323, -0.4530,  ...,  0.4929, -0.0304,  0.3116],\n",
      "        ...,\n",
      "        [ 0.0000,  0.0000,  0.0000,  ...,  0.0000,  0.0000,  0.0000],\n",
      "        [ 0.0000,  0.0000,  0.0000,  ...,  0.0000,  0.0000,  0.0000],\n",
      "        [ 0.0000,  0.0000,  0.0000,  ...,  0.0000,  0.0000,  0.0000]])\n",
      "Engine ID (First in batch): 1\n",
      "Cycles (First in batch): tensor([ 1,  2,  3,  4,  5,  6,  7,  8,  9, 10, 11, 12, 13, 14, 15, 16, 17, 18,\n",
      "        19, 20, 21, 22, 23, 24, 25, 26, 27, 28, 29, 30, 31,  0,  0,  0,  0,  0,\n",
      "         0,  0,  0,  0,  0,  0,  0,  0,  0,  0,  0,  0,  0,  0,  0,  0,  0,  0,\n",
      "         0,  0,  0,  0,  0,  0], dtype=torch.int32)\n"
     ]
    }
   ],
   "source": [
    "import pandas as pd\n",
    "\n",
    "# Set up paths and features\n",
    "data_dir = \"data/CMAPSSData\"\n",
    "data_index = 1  # Choose FD001, FD002, etc.\n",
    "\n",
    "compute_engineered_features = True\n",
    "sequence_length = 60\n",
    "batch_size = 256\n",
    "overlap = 10\n",
    "\n",
    "train_data = pd.read_csv(\"./data/CMAPSSData/train_FD001.txt\", sep=r'\\s+', header=None)\n",
    "train_data.columns = ['engine_id', 'cycle'] + [f'os_{i+1}' for i in range(3)] + [f'sensor_{i}' for i in range(1, 22)]\n",
    "\n",
    "feature_cols = [f'os_{i+1}' for i in range(3)] + [f'sensor_{i}' for i in range(1, 22)]\n",
    "\n",
    "constant_cols = train_data[feature_cols].nunique()\n",
    "constant_cols = constant_cols[constant_cols == 1]\n",
    "\n",
    "feature_cols = [col for col in feature_cols if col not in constant_cols.index.tolist()]\n",
    "\n",
    "# Prepare DataLoader\n",
    "train_loader, tabular_dataset_train, sequence_train = prepare_sequence_dataloader(\n",
    "    data_dir=data_dir, data_index=data_index, feature_cols=feature_cols, \n",
    "    batch_size=batch_size, mode=\"train\", sequence_length=sequence_length, overlap=overlap,\n",
    "    compute_engineered_features=compute_engineered_features)\n",
    "\n",
    "print(\"Testing the Sequence Dataset (train):\")\n",
    "\n",
    "# Test the sequence dataset\n",
    "test_sequence_dataset(train_loader, mode=\"train\")\n",
    "\n",
    "test_loader, tabular_dataset_test, sequence_test = prepare_sequence_dataloader(\n",
    "    data_dir=data_dir, data_index=data_index, feature_cols=feature_cols, \n",
    "    batch_size=batch_size, mode=\"test\", sequence_length=sequence_length, overlap=overlap,\n",
    "    compute_engineered_features=compute_engineered_features, \n",
    "    scaler=tabular_dataset_train.scaler\n",
    ")\n",
    "\n",
    "print(\"\\nTesting the Sequence Dataset (test):\")\n",
    "# Test the sequence dataset\n",
    "test_sequence_dataset(test_loader, mode=\"test\")"
   ]
  },
  {
   "cell_type": "markdown",
   "metadata": {},
   "source": [
    "## The code for the grouped k-fold approach:\n",
    "See explanations in previous notebook."
   ]
  },
  {
   "cell_type": "code",
   "execution_count": 4,
   "metadata": {
    "ExecuteTime": {
     "end_time": "2025-01-14T14:39:30.951924Z",
     "start_time": "2025-01-14T14:39:30.878832Z"
    }
   },
   "outputs": [],
   "source": [
    "from sklearn.model_selection import GroupKFold\n",
    "from torch.utils.data import DataLoader\n",
    "\n",
    "# Function to implement Group k-Fold with your custom dataset\n",
    "def prepare_kfold_cross_validation_loaders(original_dataset, sequence_length, overlap, n_splits=5, batch_size=32):\n",
    "    \"\"\"\n",
    "    Implements Group k-Fold Cross-Validation for the CMAPSS dataset.\n",
    "    \n",
    "    Args:\n",
    "        original_dataset (CMAPSSDataset): The original dataset instance.\n",
    "        sequence_length (int): Length of each sequence.\n",
    "        overlap (int): Overlap between sequences.\n",
    "        n_splits (int): Number of folds for cross-validation.\n",
    "        batch_size (int): Batch size for the DataLoader.\n",
    "    \n",
    "    Returns:\n",
    "        List[Tuple[DataLoader, DataLoader]]: Training and validation DataLoaders for each fold.\n",
    "    \"\"\"\n",
    "\n",
    "    # Extract engine IDs and features for grouping\n",
    "    engine_ids = original_dataset.data['engine_id'].values\n",
    "    features = original_dataset.data[original_dataset.feature_cols].values\n",
    "    targets = original_dataset.data['RUL'].values\n",
    "\n",
    "    # Initialize GroupKFold\n",
    "    group_kfold = GroupKFold(n_splits=n_splits)\n",
    "\n",
    "    fold_loaders = []  # Store DataLoaders for each fold\n",
    "\n",
    "    # Perform Group k-Fold split (features and targets are not directly used for the split)\n",
    "    for fold, (train_idx, val_idx) in enumerate(group_kfold.split(features, targets, groups=engine_ids)):\n",
    "        print(f\"Fold {fold + 1}/{n_splits}\")\n",
    "        \n",
    "        # Create train and validation datasets\n",
    "        train_data = original_dataset.data.iloc[train_idx]\n",
    "        val_data = original_dataset.data.iloc[val_idx]\n",
    "\n",
    "        train_dataset = SequenceCMAPSSDataset(\n",
    "            dataset=CMAPSSDatasetSubset(train_data, original_dataset.feature_cols, mode=\"train\"),\n",
    "            sequence_length=sequence_length,\n",
    "            overlap=overlap\n",
    "        )\n",
    "\n",
    "        val_dataset = SequenceCMAPSSDataset(\n",
    "            dataset=CMAPSSDatasetSubset(val_data, original_dataset.feature_cols, mode=\"train\"),\n",
    "            sequence_length=sequence_length,\n",
    "            overlap=overlap\n",
    "        )\n",
    "\n",
    "        # Create DataLoaders\n",
    "        train_loader = DataLoader(\n",
    "            train_dataset, batch_size=batch_size, shuffle=False, num_workers=8, collate_fn=lambda batch: collate_fn(batch, mode=\"train\"))\n",
    "        \n",
    "        val_loader = DataLoader(\n",
    "            val_dataset, batch_size=batch_size, shuffle=False, num_workers=8, collate_fn=lambda batch: collate_fn(batch, mode=\"train\"))\n",
    "\n",
    "        fold_loaders.append((train_loader, val_loader))\n",
    "    \n",
    "    return fold_loaders\n",
    "\n",
    "# Helper class to create a subset of the CMAPSSDataset\n",
    "class CMAPSSDatasetSubset(CMAPSSDataset):\n",
    "    def __init__(self, data_subset, feature_cols, mode):\n",
    "        \"\"\"\n",
    "        Creates a subset of the CMAPSSDataset using the provided data.\n",
    "\n",
    "        Args:\n",
    "            data_subset (pd.DataFrame): Subset of the original dataset.\n",
    "            feature_cols (list): List of feature columns to include.\n",
    "            mode (str): Mode of the dataset, \"train\" or \"test\".\n",
    "        \"\"\"\n",
    "        self.data = data_subset\n",
    "        self.feature_cols = feature_cols\n",
    "        self.mode = mode"
   ]
  },
  {
   "cell_type": "code",
   "execution_count": 9,
   "metadata": {
    "ExecuteTime": {
     "end_time": "2025-01-14T14:36:02.133231Z",
     "start_time": "2025-01-14T14:36:00.447363Z"
    }
   },
   "outputs": [
    {
     "name": "stdout",
     "output_type": "stream",
     "text": [
      "Fold 1/5\n",
      "Fold 2/5\n",
      "Fold 3/5\n",
      "Fold 4/5\n",
      "Fold 5/5\n",
      "Fold 1\n",
      "  Number of training sequences: 363\n",
      "  Training Features Shape: torch.Size([256, 60, 38])\n",
      "  Training Targets Shape: torch.Size([256])\n",
      "  Training Masks Shape: torch.Size([256, 60])\n",
      "  First Training Item (Features):\n",
      "tensor([[ 0.2325,  1.3565, -1.9116,  ...,  1.6639, -0.9466, -0.9128],\n",
      "        [-0.4528,  1.3565, -2.7708,  ...,  1.5951, -0.9704,  0.0604],\n",
      "        [ 0.0498, -0.6919, -1.3121,  ...,  1.7334, -1.0457,  0.5441],\n",
      "        ...,\n",
      "        [-0.7725, -0.3505, -1.7517,  ...,  1.0397,  0.5330,  2.0103],\n",
      "        [-0.6355,  1.6979, -1.5519,  ...,  0.9063,  0.8011, -1.3812],\n",
      "        [ 0.0041,  0.3323, -2.0514,  ...,  0.8261,  0.5025,  0.8751]])\n",
      "  First Training Item (Target): 223.0\n",
      "  Engine ID (First in batch): 2\n",
      "  Cycles (For first sequence in batch): tensor([ 5,  6,  7,  8,  9, 10, 11, 12, 13, 14, 15, 16, 17, 18, 19, 20, 21, 22,\n",
      "        23, 24, 25, 26, 27, 28, 29, 30, 31, 32, 33, 34, 35, 36, 37, 38, 39, 40,\n",
      "        41, 42, 43, 44, 45, 46, 47, 48, 49, 50, 51, 52, 53, 54, 55, 56, 57, 58,\n",
      "        59, 60, 61, 62, 63, 64], dtype=torch.int32)\n",
      "  Number of validation sequences: 91\n",
      "  Validation Features Shape: torch.Size([91, 60, 38])\n",
      "  Validation Targets Shape: torch.Size([91])\n",
      "  Validation Masks Shape: torch.Size([91, 60])\n",
      "  First Validation Item (Features):\n",
      "tensor([[-0.8639, -0.6919, -0.6328,  ...,  1.1114, -1.1580,  0.3762],\n",
      "        [-1.9603, -0.3505, -1.1723,  ...,  0.9976, -1.2604, -0.4221],\n",
      "        [ 0.4609,  0.3323, -0.4130,  ...,  0.8967, -1.7476,  0.1414],\n",
      "        ...,\n",
      "        [ 0.1868,  0.3323, -1.0324,  ...,  0.6529,  0.7298, -1.0748],\n",
      "        [ 0.6893,  0.6737, -0.1732,  ...,  0.7715,  0.3295,  0.8739],\n",
      "        [ 0.7807,  0.6737, -0.9125,  ...,  0.6396, -0.4595,  0.4924]])\n",
      "  First Validation Item (Target): 128.0\n",
      "  Engine ID (First in batch): 1\n",
      "  Cycles (For first sequence in batch): tensor([ 5,  6,  7,  8,  9, 10, 11, 12, 13, 14, 15, 16, 17, 18, 19, 20, 21, 22,\n",
      "        23, 24, 25, 26, 27, 28, 29, 30, 31, 32, 33, 34, 35, 36, 37, 38, 39, 40,\n",
      "        41, 42, 43, 44, 45, 46, 47, 48, 49, 50, 51, 52, 53, 54, 55, 56, 57, 58,\n",
      "        59, 60, 61, 62, 63, 64], dtype=torch.int32)\n"
     ]
    }
   ],
   "source": [
    "# Initialize the dataset\n",
    "dataset = CMAPSSDataset(\n",
    "    data_dir=data_dir,\n",
    "    data_index=data_index,\n",
    "    feature_cols=feature_cols,\n",
    "    mode=\"train\",\n",
    "    compute_engineered_features=compute_engineered_features,\n",
    "    features_to_engineer=[\"sensor_12\", \"sensor_7\", \"sensor_21\", \"sensor_20\", \"sensor_11\", \"sensor_4\", \"sensor_15\"]\n",
    ")\n",
    "\n",
    "# Perform Group k-Fold Cross-Validation\n",
    "sequence_length = sequence_length\n",
    "overlap = overlap # see explanation below\n",
    "n_splits = 5\n",
    "batch_size = batch_size\n",
    "\n",
    "# 2. Perform Group k-Fold Cross-Validation\n",
    "fold_loaders = prepare_kfold_cross_validation_loaders(\n",
    "    original_dataset=dataset,\n",
    "    sequence_length=sequence_length,\n",
    "    overlap=overlap,\n",
    "    n_splits=n_splits,\n",
    "    batch_size=batch_size\n",
    ")\n",
    "\n",
    "# Access the DataLoaders for each fold\n",
    "for fold, (train_loader, val_loader) in enumerate(fold_loaders):\n",
    "    print(f\"Fold {fold + 1}\")\n",
    "    \n",
    "    # Training DataLoader\n",
    "    print(f\"  Number of training sequences: {len(train_loader.dataset)}\")\n",
    "    first_train_item = next(iter(train_loader))\n",
    "    train_features, train_targets, train_masks, train_engine_ids, cycles = first_train_item\n",
    "    print(f\"  Training Features Shape: {train_features.shape}\")\n",
    "    print(f\"  Training Targets Shape: {train_targets.shape}\")\n",
    "    print(f\"  Training Masks Shape: {train_masks.shape}\")\n",
    "    print(f\"  First Training Item (Features):\\n{train_features[0]}\")\n",
    "    print(f\"  First Training Item (Target): {train_targets[0]}\")\n",
    "    print(f\"  Engine ID (First in batch): {train_engine_ids[0]}\")\n",
    "    print(f\"  Cycles (For first sequence in batch): {cycles[0]}\")\n",
    "    \n",
    "    # Validation DataLoader\n",
    "    print(f\"  Number of validation sequences: {len(val_loader.dataset)}\")\n",
    "    first_val_item = next(iter(val_loader))\n",
    "    val_features, val_targets, val_masks, train_engine_ids, cycles = first_val_item\n",
    "    print(f\"  Validation Features Shape: {val_features.shape}\")\n",
    "    print(f\"  Validation Targets Shape: {val_targets.shape}\")\n",
    "    print(f\"  Validation Masks Shape: {val_masks.shape}\")\n",
    "    print(f\"  First Validation Item (Features):\\n{val_features[0]}\")\n",
    "    print(f\"  First Validation Item (Target): {val_targets[0]}\")\n",
    "    print(f\"  Engine ID (First in batch): {train_engine_ids[0]}\")\n",
    "    print(f\"  Cycles (For first sequence in batch): {cycles[0]}\")\n",
    "\n",
    "    break  # Only display the first fold for demonstration"
   ]
  },
  {
   "cell_type": "markdown",
   "metadata": {},
   "source": [
    "## Validate the grouped k-fold loaders"
   ]
  },
  {
   "cell_type": "code",
   "execution_count": 10,
   "metadata": {},
   "outputs": [
    {
     "name": "stdout",
     "output_type": "stream",
     "text": [
      "Validating Folds: 1\n",
      "Validating Folds: 2\n",
      "Validating Folds: 3\n",
      "Validating Folds: 4\n",
      "Validating Folds: 5\n",
      "All validations passed!\n"
     ]
    },
    {
     "data": {
      "text/plain": [
       "True"
      ]
     },
     "execution_count": 10,
     "metadata": {},
     "output_type": "execute_result"
    }
   ],
   "source": [
    "import torch\n",
    "\n",
    "def validate_kfold_loaders(original_dataset, fold_loaders):\n",
    "    \"\"\"\n",
    "    Validates the integrity of k-fold DataLoaders against the original dataset.\n",
    "    Also checks for NaN in features, targets, and cycles for both train and val loaders.\n",
    "\n",
    "    Args:\n",
    "        original_dataset (CMAPSSDataset): The original dataset instance.\n",
    "        fold_loaders (list): List of (train_loader, val_loader) tuples for k-fold cross-validation.\n",
    "\n",
    "    Returns:\n",
    "        bool: True if all validations pass, otherwise raises an AssertionError or ValueError.\n",
    "    \"\"\"\n",
    "    original_data = original_dataset.data\n",
    "    used_indices = set()  # Track all rows covered across folds\n",
    "\n",
    "    for fold, (train_loader, val_loader) in enumerate(fold_loaders):\n",
    "        print(f\"Validating Folds: {fold + 1}\")\n",
    "        \n",
    "        # Get engine IDs for train and validation sets\n",
    "        train_engines = set(train_loader.dataset.dataset.data['engine_id'])\n",
    "        val_engines = set(val_loader.dataset.dataset.data['engine_id'])\n",
    "        \n",
    "        # Check group exclusivity\n",
    "        assert train_engines.isdisjoint(val_engines), \\\n",
    "            f\"Fold {fold + 1}: Train and validation sets share engine IDs: {train_engines & val_engines}\"\n",
    "\n",
    "        # ========== Validate Training Data ========== #\n",
    "        for batch_idx, (features, targets, _, engine_ids, cycles) in enumerate(train_loader):\n",
    "            # features shape: (batch_size, seq_len, num_features)\n",
    "            # targets shape:  (batch_size,)\n",
    "            # engine_ids shape: (batch_size,)\n",
    "            # cycles shape:   (batch_size, seq_len)\n",
    "\n",
    "            batch_size = features.size(0)\n",
    "            for idx in range(batch_size):\n",
    "                seq = features[idx]          # shape: (seq_len, num_features)\n",
    "                target = targets[idx]        # scalar RUL value\n",
    "                engine_id = engine_ids[idx]  # scalar engine ID\n",
    "                seq_cycles = cycles[idx]     # shape: (seq_len,)\n",
    "\n",
    "                # ---------- NaN checks ----------\n",
    "                if torch.isnan(seq).any():\n",
    "                    raise ValueError(\n",
    "                        f\"[Train] NaN found in features for engine {engine_id.item()}, \"\n",
    "                        f\"batch {batch_idx}, sample {idx}\"\n",
    "                    )\n",
    "                if torch.isnan(target):\n",
    "                    raise ValueError(\n",
    "                        f\"[Train] NaN found in target for engine {engine_id.item()}, \"\n",
    "                        f\"batch {batch_idx}, sample {idx}\"\n",
    "                    )\n",
    "                # Convert cycles to float for NaN check (since cycles are usually int)\n",
    "                if torch.isnan(seq_cycles.float()).any():\n",
    "                    raise ValueError(\n",
    "                        f\"[Train] NaN found in cycles for engine {engine_id.item()}, \"\n",
    "                        f\"batch {batch_idx}, sample {idx}\"\n",
    "                    )\n",
    "                # ---------------------------------\n",
    "\n",
    "                # Identify real (non-padded) timesteps (padded cycles = 0)\n",
    "                real_timesteps = (seq_cycles != 0).sum().item()\n",
    "\n",
    "                # Skip if everything is padded (unlikely in normal usage)\n",
    "                if real_timesteps == 0:\n",
    "                    continue\n",
    "\n",
    "                # For each real timestep t in this sequence:\n",
    "                for t in range(real_timesteps):\n",
    "                    cycle_val = float(seq_cycles[t].item())\n",
    "                    original_row = original_data[\n",
    "                        (original_data['engine_id'] == float(engine_id)) & \n",
    "                        (original_data['cycle'] == cycle_val)\n",
    "                    ]\n",
    "                    assert not original_row.empty, (\n",
    "                        f\"Missing data for engine {engine_id}, cycle {cycle_val} in training set\"\n",
    "                    )\n",
    "\n",
    "                    # Check feature alignment\n",
    "                    original_features = original_row.iloc[0, 2:-1].values  # columns 2..-1 are features\n",
    "                    assert torch.allclose(\n",
    "                        seq[t], torch.tensor(original_features, dtype=torch.float32), atol=1e-6\n",
    "                    ), f\"Mismatch in features for engine {engine_id}, cycle {cycle_val}\"\n",
    "\n",
    "                # Verify RUL target using the last real cycle\n",
    "                last_cycle = float(seq_cycles[real_timesteps - 1].item())\n",
    "                expected_rul = original_data[\n",
    "                    (original_data['engine_id'] == float(engine_id)) &\n",
    "                    (original_data['cycle'] == last_cycle)\n",
    "                ]['RUL'].iloc[0]\n",
    "\n",
    "                assert torch.isclose(\n",
    "                    target, torch.tensor(expected_rul, dtype=torch.float32), atol=1e-6\n",
    "                ), f\"Mismatch in RUL for engine {engine_id}, last cycle {last_cycle}\"\n",
    "\n",
    "        # ========== Validate Validation Data (same logic) ========== #\n",
    "        for batch_idx, (features, targets, _, engine_ids, cycles) in enumerate(val_loader):\n",
    "            batch_size = features.size(0)\n",
    "            for idx in range(batch_size):\n",
    "                seq = features[idx]\n",
    "                target = targets[idx]\n",
    "                engine_id = engine_ids[idx]\n",
    "                seq_cycles = cycles[idx]\n",
    "\n",
    "                # ---------- NaN checks ----------\n",
    "                if torch.isnan(seq).any():\n",
    "                    raise ValueError(\n",
    "                        f\"[Val] NaN found in features for engine {engine_id.item()}, \"\n",
    "                        f\"batch {batch_idx}, sample {idx}\"\n",
    "                    )\n",
    "                if torch.isnan(target):\n",
    "                    raise ValueError(\n",
    "                        f\"[Val] NaN found in target for engine {engine_id.item()}, \"\n",
    "                        f\"batch {batch_idx}, sample {idx}\"\n",
    "                    )\n",
    "                if torch.isnan(seq_cycles.float()).any():\n",
    "                    raise ValueError(\n",
    "                        f\"[Val] NaN found in cycles for engine {engine_id.item()}, \"\n",
    "                        f\"batch {batch_idx}, sample {idx}\"\n",
    "                    )\n",
    "                # ---------------------------------\n",
    "\n",
    "                real_timesteps = (seq_cycles != 0).sum().item()\n",
    "                if real_timesteps == 0:\n",
    "                    continue\n",
    "\n",
    "                for t in range(real_timesteps):\n",
    "                    cycle_val = float(seq_cycles[t].item())\n",
    "                    original_row = original_data[\n",
    "                        (original_data['engine_id'] == float(engine_id)) & \n",
    "                        (original_data['cycle'] == cycle_val)\n",
    "                    ]\n",
    "                    assert not original_row.empty, (\n",
    "                        f\"Missing data for engine {engine_id}, cycle {cycle_val} in validation set\"\n",
    "                    )\n",
    "\n",
    "                    original_features = original_row.iloc[0, 2:-1].values\n",
    "                    assert torch.allclose(\n",
    "                        seq[t], torch.tensor(original_features, dtype=torch.float32), atol=1e-6\n",
    "                    ), f\"Mismatch in features for engine {engine_id}, cycle {cycle_val}\"\n",
    "\n",
    "                last_cycle = float(seq_cycles[real_timesteps - 1].item())\n",
    "                expected_rul = original_data[\n",
    "                    (original_data['engine_id'] == float(engine_id)) &\n",
    "                    (original_data['cycle'] == last_cycle)\n",
    "                ]['RUL'].iloc[0]\n",
    "                assert torch.isclose(\n",
    "                    target, torch.tensor(expected_rul, dtype=torch.float32), atol=1e-6\n",
    "                ), f\"Mismatch in RUL for engine {engine_id}, last cycle {last_cycle}\"\n",
    "\n",
    "        # Track covered indices\n",
    "        train_indices = train_loader.dataset.dataset.data.index\n",
    "        val_indices = val_loader.dataset.dataset.data.index\n",
    "        used_indices.update(train_indices)\n",
    "        used_indices.update(val_indices)\n",
    "\n",
    "    # Finally, ensure overall coverage if that's desired\n",
    "    assert len(used_indices) == len(original_data), \\\n",
    "        \"Not all rows in the original dataset are covered by the k-fold loaders\"\n",
    "\n",
    "    print(\"All validations passed!\")\n",
    "    return True\n",
    "\n",
    "# Usage\n",
    "validate_kfold_loaders(dataset, fold_loaders)"
   ]
  },
  {
   "cell_type": "markdown",
   "metadata": {},
   "source": [
    "## Inspect characteristics of each fold (to ensure they are homogenic)"
   ]
  },
  {
   "cell_type": "code",
   "execution_count": 10,
   "metadata": {
    "ExecuteTime": {
     "end_time": "2025-01-14T14:36:19.907097Z",
     "start_time": "2025-01-14T14:36:11.919264Z"
    }
   },
   "outputs": [
    {
     "name": "stdout",
     "output_type": "stream",
     "text": [
      "Inspecting Fold 1\n",
      "  Training RUL Statistics:\n",
      "count    363.000000\n",
      "mean      65.793388\n",
      "std       63.607010\n",
      "min        0.000000\n",
      "25%        0.000000\n",
      "50%       52.000000\n",
      "75%      112.500000\n",
      "max      277.000000\n",
      "Name: RUL, dtype: float64\n",
      "  Validation RUL Statistics:\n",
      "count     91.000000\n",
      "mean      66.197800\n",
      "std       66.344597\n",
      "min        0.000000\n",
      "25%        0.000000\n",
      "50%       51.000000\n",
      "75%      109.000000\n",
      "max      298.000000\n",
      "Name: RUL, dtype: float64\n"
     ]
    },
    {
     "data": {
      "image/png": "[encoded data removed]",
      "text/plain": [
       "<Figure size 1200x500 with 2 Axes>"
      ]
     },
     "metadata": {},
     "output_type": "display_data"
    },
    {
     "name": "stdout",
     "output_type": "stream",
     "text": [
      "Inspecting Fold 2\n",
      "  Training RUL Statistics:\n",
      "count    363.000000\n",
      "mean      65.831955\n",
      "std       64.007553\n",
      "min        0.000000\n",
      "25%        0.000000\n",
      "50%       51.000000\n",
      "75%      111.500000\n",
      "max      298.000000\n",
      "Name: RUL, dtype: float64\n",
      "  Validation RUL Statistics:\n",
      "count     91.000000\n",
      "mean      66.043953\n",
      "std       64.777557\n",
      "min        0.000000\n",
      "25%        0.000000\n",
      "50%       52.000000\n",
      "75%      110.000000\n",
      "max      277.000000\n",
      "Name: RUL, dtype: float64\n"
     ]
    },
    {
     "data": {
      "image/png": "[encoded data removed]",
      "text/plain": [
       "<Figure size 1200x500 with 2 Axes>"
      ]
     },
     "metadata": {},
     "output_type": "display_data"
    },
    {
     "name": "stdout",
     "output_type": "stream",
     "text": [
      "Inspecting Fold 3\n",
      "  Training RUL Statistics:\n",
      "count    364.000000\n",
      "mean      65.714287\n",
      "std       64.106041\n",
      "min        0.000000\n",
      "25%        0.000000\n",
      "50%       51.000000\n",
      "75%      111.250000\n",
      "max      298.000000\n",
      "Name: RUL, dtype: float64\n",
      "  Validation RUL Statistics:\n",
      "count     90.000000\n",
      "mean      66.522224\n",
      "std       64.383904\n",
      "min        0.000000\n",
      "25%        0.000000\n",
      "50%       54.000000\n",
      "75%      113.250000\n",
      "max      272.000000\n",
      "Name: RUL, dtype: float64\n"
     ]
    },
    {
     "data": {
      "image/png": "[encoded data removed]",
      "text/plain": [
       "<Figure size 1200x500 with 2 Axes>"
      ]
     },
     "metadata": {},
     "output_type": "display_data"
    },
    {
     "name": "stdout",
     "output_type": "stream",
     "text": [
      "Inspecting Fold 4\n",
      "  Training RUL Statistics:\n",
      "count    362.000000\n",
      "mean      66.201660\n",
      "std       64.310417\n",
      "min        0.000000\n",
      "25%        0.000000\n",
      "50%       51.000000\n",
      "75%      113.500000\n",
      "max      298.000000\n",
      "Name: RUL, dtype: float64\n",
      "  Validation RUL Statistics:\n",
      "count     92.000000\n",
      "mean      64.586960\n",
      "std       63.551506\n",
      "min        0.000000\n",
      "25%        0.000000\n",
      "50%       51.000000\n",
      "75%      104.250000\n",
      "max      249.000000\n",
      "Name: RUL, dtype: float64\n"
     ]
    },
    {
     "data": {
      "image/png": "[encoded data removed]",
      "text/plain": [
       "<Figure size 1200x500 with 2 Axes>"
      ]
     },
     "metadata": {},
     "output_type": "display_data"
    },
    {
     "name": "stdout",
     "output_type": "stream",
     "text": [
      "Inspecting Fold 5\n",
      "  Training RUL Statistics:\n",
      "count    364.000000\n",
      "mean      65.832420\n",
      "std       64.506142\n",
      "min        0.000000\n",
      "25%        0.000000\n",
      "50%       51.000000\n",
      "75%      109.000000\n",
      "max      298.000000\n",
      "Name: RUL, dtype: float64\n",
      "  Validation RUL Statistics:\n",
      "count     90.000000\n",
      "mean      66.044441\n",
      "std       62.736649\n",
      "min        0.000000\n",
      "25%        0.000000\n",
      "50%       54.500000\n",
      "75%      113.250000\n",
      "max      229.000000\n",
      "Name: RUL, dtype: float64\n"
     ]
    },
    {
     "data": {
      "image/png": "[encoded data removed]",
      "text/plain": [
       "<Figure size 1200x500 with 2 Axes>"
      ]
     },
     "metadata": {},
     "output_type": "display_data"
    }
   ],
   "source": [
    "import matplotlib.pyplot as plt\n",
    "import pandas as pd\n",
    "\n",
    "def inspect_fold_characteristics(fold_loaders):\n",
    "    \"\"\"\n",
    "    Inspects and visualizes RUL distribution and degradation patterns for each fold.\n",
    "\n",
    "    Args:\n",
    "        fold_loaders (list): List of (train_loader, val_loader) tuples for k-fold cross-validation.\n",
    "    \"\"\"\n",
    "    for fold, (train_loader, val_loader) in enumerate(fold_loaders):\n",
    "        print(f\"Inspecting Fold {fold + 1}\")\n",
    "        \n",
    "        # Initialize lists to collect RUL and Cycle data\n",
    "        train_ruls, train_last_cycles = [], []\n",
    "        val_ruls, val_last_cycles = [], []\n",
    "        \n",
    "        # Collect RUL and last cycles for training\n",
    "        for _, targets, _, _, cycles in train_loader:\n",
    "            train_ruls.extend(targets.cpu().numpy())  # RUL values (batch_size,)\n",
    "            last_cycles = cycles[:, -1].cpu().numpy()  # Last cycle in each sequence (batch_size,)\n",
    "            train_last_cycles.extend(last_cycles.tolist())\n",
    "        \n",
    "        # Collect RUL and last cycles for validation\n",
    "        for _, targets, _, _, cycles in val_loader:\n",
    "            val_ruls.extend(targets.cpu().numpy())  # RUL values (batch_size,)\n",
    "            last_cycles = cycles[:, -1].cpu().numpy()  # Last cycle in each sequence (batch_size,)\n",
    "            val_last_cycles.extend(last_cycles.tolist())\n",
    "        \n",
    "        # Convert to Pandas DataFrames for analysis\n",
    "        train_df = pd.DataFrame({\"RUL\": train_ruls, \"Last Cycle\": train_last_cycles})\n",
    "        val_df = pd.DataFrame({\"RUL\": val_ruls, \"Last Cycle\": val_last_cycles})\n",
    "        \n",
    "        # Print summary statistics\n",
    "        print(\"  Training RUL Statistics:\")\n",
    "        print(train_df[\"RUL\"].describe())\n",
    "        print(\"  Validation RUL Statistics:\")\n",
    "        print(val_df[\"RUL\"].describe())\n",
    "        \n",
    "        # Plot RUL distributions\n",
    "        plt.figure(figsize=(12, 5))\n",
    "        \n",
    "        # RUL Distribution\n",
    "        plt.subplot(1, 2, 1)\n",
    "        plt.hist(train_df[\"RUL\"], bins=20, alpha=0.7, label=\"Train\", color=\"blue\")\n",
    "        plt.hist(val_df[\"RUL\"], bins=20, alpha=0.7, label=\"Validation\", color=\"orange\")\n",
    "        plt.xlabel(\"RUL\")\n",
    "        plt.ylabel(\"Frequency\")\n",
    "        plt.title(f\"Fold {fold + 1}: RUL Distribution\")\n",
    "        plt.legend()\n",
    "\n",
    "        # Degradation Patterns\n",
    "        plt.subplot(1, 2, 2)\n",
    "        plt.scatter(train_df[\"Last Cycle\"], train_df[\"RUL\"], alpha=0.5, label=\"Train\", color=\"blue\")\n",
    "        plt.scatter(val_df[\"Last Cycle\"], val_df[\"RUL\"], alpha=0.5, label=\"Validation\", color=\"orange\")\n",
    "        plt.xlabel(\"Last Cycle\")\n",
    "        plt.ylabel(\"RUL\")\n",
    "        plt.title(f\"Fold {fold + 1}: Degradation Patterns\")\n",
    "        plt.legend()\n",
    "        \n",
    "        plt.tight_layout()\n",
    "        plt.show()\n",
    "\n",
    "# Call the function to inspect fold characteristics\n",
    "inspect_fold_characteristics(fold_loaders)"
   ]
  },
  {
   "cell_type": "markdown",
   "metadata": {},
   "source": [
    "# K-Fold evaluation and development of model as preparation for a final training"
   ]
  },
  {
   "cell_type": "code",
   "execution_count": 12,
   "metadata": {},
   "outputs": [
    {
     "name": "stdout",
     "output_type": "stream",
     "text": [
      "The autoreload extension is already loaded. To reload it, use:\n",
      "  %reload_ext autoreload\n"
     ]
    }
   ],
   "source": [
    "# Watch for changes\n",
    "%load_ext autoreload\n",
    "%autoreload 2\n",
    "\n",
    "import torch\n",
    "import torch.nn as nn\n",
    "from codebase.v5.models import TransformerRULModel\n",
    "from tqdm.notebook import tqdm  # Use tqdm for Jupyter-friendly progress bar\n",
    "\n",
    "device = torch.device(\"cuda\" if torch.cuda.is_available() else \"cpu\")\n",
    "\n",
    "# Model configuration\n",
    "input_dim = len(dataset.feature_cols)  # Number of input features (contains engineered features)\n",
    "\n",
    "def train_and_validate_kfold(fold_loaders, model_config, epochs=500, lr=0.001, weight_decay=1e-6, patience=10):\n",
    "    \"\"\"\n",
    "    Train and validate the model using grouped k-fold cross-validation with early stopping.\n",
    "    Summarizes metrics (e.g., RMSE, Avg MSE) across all folds.\n",
    "\n",
    "    Args:\n",
    "        fold_loaders (list): List of (train_loader, val_loader) tuples for k-fold cross-validation.\n",
    "        model_config (dict): Configuration for the model (e.g., input_dim, hidden_dim, num_layers).\n",
    "        epochs (int): Maximum number of epochs to train for each fold.\n",
    "        lr (float): Learning rate for the optimizer.\n",
    "        patience (int): Number of epochs with no improvement before stopping.\n",
    "\n",
    "    Returns:\n",
    "        dict: Summary of metrics across all folds.\n",
    "    \"\"\"\n",
    "    # Track metrics for all folds\n",
    "    fold_metrics = {\n",
    "        \"train_rmse\": [],\n",
    "        \"val_rmse\": [],\n",
    "        \"train_avg_mse\": [],\n",
    "        \"val_avg_mse\": [],\n",
    "    }\n",
    "\n",
    "    # Loop over each fold\n",
    "    for fold, (train_loader, val_loader) in enumerate(fold_loaders):\n",
    "        print(f\"Current Validation Fold {fold + 1}\")\n",
    "        \n",
    "        # Initialize model, loss function, and optimizer\n",
    "        model = TransformerRULModel(**model_config)\n",
    "        model = model.to(device)\n",
    "        criterion = nn.MSELoss()\n",
    "        optimizer = torch.optim.Adam(model.parameters(), lr=lr, weight_decay=weight_decay)\n",
    "        \n",
    "        # Early stopping variables\n",
    "        best_val_loss = float('inf')\n",
    "        epochs_no_improve = 0\n",
    "        early_stop = False\n",
    "\n",
    "        # Initialize progress bar for this fold\n",
    "        total_batches = len(train_loader) * epochs\n",
    "        with tqdm(total=total_batches, desc=f\"Fold {fold + 1} Training\", unit=\"batch\") as pbar:\n",
    "            for epoch in range(epochs):\n",
    "                if early_stop:\n",
    "                    print(f\"Early stopping at epoch {epoch + 1}\")\n",
    "                    break\n",
    "                \n",
    "                model.train()\n",
    "                train_loss = 0.0  # Track training loss\n",
    "                num_train_sequences = len(train_loader.dataset)\n",
    "\n",
    "                # Training loop\n",
    "                for inputs, targets, masks, _, _ in train_loader:\n",
    "                    optimizer.zero_grad()\n",
    "                    inputs, targets, masks = inputs.to(device), targets.to(device), masks.to(device)\n",
    "                    \n",
    "                    # Forward pass\n",
    "                    outputs = model(inputs, masks)\n",
    "                    loss = criterion(outputs, targets)\n",
    "                    \n",
    "                    # Backward pass and optimization\n",
    "                    loss.backward()\n",
    "                    optimizer.step()\n",
    "                    \n",
    "                    # Accumulate loss\n",
    "                    train_loss += loss.item() * inputs.size(0)\n",
    "                    \n",
    "                    # Update progress bar\n",
    "                    pbar.update(1)\n",
    "                \n",
    "                # Compute training metrics\n",
    "                avg_train_mse = train_loss / num_train_sequences\n",
    "                train_rmse = avg_train_mse ** 0.5\n",
    "\n",
    "                # Validation loop\n",
    "                model.eval()\n",
    "                val_loss = 0.0\n",
    "                num_val_sequences = len(val_loader.dataset)\n",
    "                with torch.no_grad():\n",
    "                    for inputs, targets, masks, _, _ in val_loader:\n",
    "                        inputs, targets, masks = inputs.to(device), targets.to(device), masks.to(device)\n",
    "                        \n",
    "                        # Forward pass\n",
    "                        outputs = model(inputs, masks)\n",
    "                        loss = criterion(outputs, targets)\n",
    "                        \n",
    "                        # Accumulate validation loss\n",
    "                        val_loss += loss.item() * inputs.size(0)\n",
    "                \n",
    "                # Compute validation metrics\n",
    "                avg_val_mse = val_loss / num_val_sequences\n",
    "                val_rmse = avg_val_mse ** 0.5\n",
    "\n",
    "                # Check for early stopping\n",
    "                if avg_val_mse < best_val_loss:\n",
    "                    best_val_loss = avg_val_mse\n",
    "                    epochs_no_improve = 0\n",
    "                else:\n",
    "                    epochs_no_improve += 1\n",
    "                    print(f\"No improvement for {epochs_no_improve} epoch(s).\")\n",
    "\n",
    "                if epochs_no_improve >= patience:\n",
    "                    print(\"Early stopping triggered.\")\n",
    "                    early_stop = True\n",
    "\n",
    "                # Print epoch metrics\n",
    "                pbar.set_postfix({\n",
    "                    \"Epoch\": f\"{epoch + 1}/{epochs}\",\n",
    "                    \"Train Loss\": f\"Avg MSE: {avg_train_mse:.4f}, RMSE: {train_rmse:.4f}\",\n",
    "                    \"Val Loss:\": f\"Avg MSE: {avg_val_mse:.4f}, RMSE: {val_rmse:.4f}\"\n",
    "                })\n",
    "                pbar.update(0)\n",
    "\n",
    "        # Store fold metrics\n",
    "        fold_metrics[\"train_rmse\"].append(train_rmse)\n",
    "        fold_metrics[\"val_rmse\"].append(val_rmse)\n",
    "        fold_metrics[\"train_avg_mse\"].append(avg_train_mse)\n",
    "        fold_metrics[\"val_avg_mse\"].append(avg_val_mse)\n",
    "\n",
    "    # Summarize metrics across all folds\n",
    "    summary = {\n",
    "        \"mean_train_rmse\": sum(fold_metrics[\"train_rmse\"]) / len(fold_metrics[\"train_rmse\"]),\n",
    "        \"mean_val_rmse\": sum(fold_metrics[\"val_rmse\"]) / len(fold_metrics[\"val_rmse\"]),\n",
    "        \"mean_train_avg_mse\": sum(fold_metrics[\"train_avg_mse\"]) / len(fold_metrics[\"train_avg_mse\"]),\n",
    "        \"mean_val_avg_mse\": sum(fold_metrics[\"val_avg_mse\"]) / len(fold_metrics[\"val_avg_mse\"]),\n",
    "    }\n",
    "\n",
    "    print(\"\\n--- k-Fold Cross-Validation Summary ---\")\n",
    "    for key, value in summary.items():\n",
    "        print(f\"{key}: {value:.4f}\")\n",
    "\n",
    "    return summary"
   ]
  },
  {
   "cell_type": "code",
   "execution_count": 59,
   "metadata": {},
   "outputs": [
    {
     "name": "stdout",
     "output_type": "stream",
     "text": [
      "Validation Fold 1\n"
     ]
    },
    {
     "data": {
      "application/vnd.jupyter.widget-view+json": {
       "model_id": "93a8d0cd0a834461b26884af7f803017",
       "version_major": 2,
       "version_minor": 0
      },
      "text/plain": [
       "Fold 1 Training:   0%|          | 0/1000 [00:00<?, ?batch/s]"
      ]
     },
     "metadata": {},
     "output_type": "display_data"
    },
    {
     "name": "stdout",
     "output_type": "stream",
     "text": [
      "No improvement for 1 epoch(s).\n",
      "No improvement for 1 epoch(s).\n",
      "No improvement for 2 epoch(s).\n",
      "No improvement for 1 epoch(s).\n",
      "No improvement for 2 epoch(s).\n",
      "No improvement for 3 epoch(s).\n",
      "No improvement for 4 epoch(s).\n",
      "No improvement for 5 epoch(s).\n",
      "No improvement for 6 epoch(s).\n",
      "No improvement for 7 epoch(s).\n",
      "No improvement for 8 epoch(s).\n",
      "No improvement for 9 epoch(s).\n",
      "No improvement for 10 epoch(s).\n",
      "Early stopping triggered.\n",
      "Early stopping at epoch 38\n",
      "Validation Fold 2\n"
     ]
    },
    {
     "data": {
      "application/vnd.jupyter.widget-view+json": {
       "model_id": "ed5342c619fb4f09b201ca467411fed7",
       "version_major": 2,
       "version_minor": 0
      },
      "text/plain": [
       "Fold 2 Training:   0%|          | 0/1000 [00:00<?, ?batch/s]"
      ]
     },
     "metadata": {},
     "output_type": "display_data"
    },
    {
     "name": "stdout",
     "output_type": "stream",
     "text": [
      "No improvement for 1 epoch(s).\n",
      "No improvement for 1 epoch(s).\n",
      "No improvement for 1 epoch(s).\n",
      "No improvement for 2 epoch(s).\n",
      "No improvement for 3 epoch(s).\n",
      "No improvement for 4 epoch(s).\n",
      "No improvement for 5 epoch(s).\n",
      "No improvement for 1 epoch(s).\n",
      "No improvement for 2 epoch(s).\n",
      "No improvement for 3 epoch(s).\n",
      "No improvement for 4 epoch(s).\n",
      "No improvement for 5 epoch(s).\n",
      "No improvement for 6 epoch(s).\n",
      "No improvement for 7 epoch(s).\n",
      "No improvement for 8 epoch(s).\n",
      "No improvement for 9 epoch(s).\n",
      "No improvement for 10 epoch(s).\n",
      "Early stopping triggered.\n",
      "Early stopping at epoch 48\n",
      "Validation Fold 3\n"
     ]
    },
    {
     "data": {
      "application/vnd.jupyter.widget-view+json": {
       "model_id": "7f52f71d03314ef5b3298148ac656b6c",
       "version_major": 2,
       "version_minor": 0
      },
      "text/plain": [
       "Fold 3 Training:   0%|          | 0/1000 [00:00<?, ?batch/s]"
      ]
     },
     "metadata": {},
     "output_type": "display_data"
    },
    {
     "name": "stdout",
     "output_type": "stream",
     "text": [
      "No improvement for 1 epoch(s).\n",
      "No improvement for 2 epoch(s).\n",
      "No improvement for 3 epoch(s).\n",
      "No improvement for 4 epoch(s).\n",
      "No improvement for 5 epoch(s).\n",
      "No improvement for 6 epoch(s).\n",
      "No improvement for 7 epoch(s).\n",
      "No improvement for 8 epoch(s).\n",
      "No improvement for 9 epoch(s).\n",
      "No improvement for 10 epoch(s).\n",
      "Early stopping triggered.\n",
      "Early stopping at epoch 32\n",
      "Validation Fold 4\n"
     ]
    },
    {
     "data": {
      "application/vnd.jupyter.widget-view+json": {
       "model_id": "60cc5fba2dc940b890bda938486166f6",
       "version_major": 2,
       "version_minor": 0
      },
      "text/plain": [
       "Fold 4 Training:   0%|          | 0/1000 [00:00<?, ?batch/s]"
      ]
     },
     "metadata": {},
     "output_type": "display_data"
    },
    {
     "name": "stdout",
     "output_type": "stream",
     "text": [
      "No improvement for 1 epoch(s).\n",
      "No improvement for 1 epoch(s).\n",
      "No improvement for 1 epoch(s).\n",
      "No improvement for 2 epoch(s).\n",
      "No improvement for 1 epoch(s).\n",
      "No improvement for 2 epoch(s).\n",
      "No improvement for 3 epoch(s).\n",
      "No improvement for 4 epoch(s).\n",
      "No improvement for 5 epoch(s).\n",
      "No improvement for 6 epoch(s).\n",
      "No improvement for 7 epoch(s).\n",
      "No improvement for 8 epoch(s).\n",
      "No improvement for 9 epoch(s).\n",
      "No improvement for 10 epoch(s).\n",
      "Early stopping triggered.\n",
      "Early stopping at epoch 42\n",
      "Validation Fold 5\n"
     ]
    },
    {
     "data": {
      "application/vnd.jupyter.widget-view+json": {
       "model_id": "2d1e4ba40d8d4242bb16e2291de07c13",
       "version_major": 2,
       "version_minor": 0
      },
      "text/plain": [
       "Fold 5 Training:   0%|          | 0/1000 [00:00<?, ?batch/s]"
      ]
     },
     "metadata": {},
     "output_type": "display_data"
    },
    {
     "name": "stdout",
     "output_type": "stream",
     "text": [
      "No improvement for 1 epoch(s).\n",
      "No improvement for 2 epoch(s).\n",
      "No improvement for 3 epoch(s).\n",
      "No improvement for 1 epoch(s).\n",
      "No improvement for 2 epoch(s).\n",
      "No improvement for 3 epoch(s).\n",
      "No improvement for 4 epoch(s).\n",
      "No improvement for 5 epoch(s).\n",
      "No improvement for 6 epoch(s).\n",
      "No improvement for 7 epoch(s).\n",
      "No improvement for 8 epoch(s).\n",
      "No improvement for 9 epoch(s).\n",
      "No improvement for 10 epoch(s).\n",
      "Early stopping triggered.\n",
      "Early stopping at epoch 35\n",
      "\n",
      "--- k-Fold Cross-Validation Summary ---\n",
      "mean_train_rmse: 30.2889\n",
      "mean_val_rmse: 34.8982\n",
      "mean_train_avg_mse: 919.2871\n",
      "mean_val_avg_mse: 1222.1316\n"
     ]
    }
   ],
   "source": [
    "# Define model configuration\n",
    "# Define model configuration\n",
    "model_config = {\n",
    "    \"input_dim\": input_dim,\n",
    "    \"d_model\": 96,\n",
    "    \"nhead\": 4,\n",
    "    \"num_layers\": 1,\n",
    "    \"dim_feedforward\": 192,\n",
    "    \"dropout\": 0.4333827218510093,\n",
    "}\n",
    "\n",
    "learning_rate = 0.003895180196123437\n",
    "weight_decay = 6.638328586838593e-06\n",
    "\n",
    "# Train using k-fold loaders\n",
    "summary = train_and_validate_kfold(fold_loaders, model_config, epochs=50, lr=learning_rate, weight_decay=weight_decay, patience=10)"
   ]
  },
  {
   "cell_type": "markdown",
   "metadata": {},
   "source": [
    "As a result of our k-Fold Cross Validation we can see that our fold setup yields an **average validation RMSE** of 34.8982."
   ]
  },
  {
   "cell_type": "markdown",
   "metadata": {},
   "source": [
    "# K-Fold evaluation: Using Optuna for hyperparameter search\n",
    "Let's use Optuna for an efficient hyperparameter search."
   ]
  },
  {
   "cell_type": "code",
   "execution_count": null,
   "metadata": {},
   "outputs": [],
   "source": [
    "import optuna\n",
    "\n",
    "def objective(trial):\n",
    "    \"\"\"\n",
    "    Objective function for Optuna hyperparameter optimization.\n",
    "    Calls the existing train_and_validate_kfold function.\n",
    "    \"\"\"\n",
    "    # Ensure transformer_d_model is divisible by transformer_nhead\n",
    "    nhead = trial.suggest_int(\"nhead\", 2, 8, step=2)\n",
    "    d_model = trial.suggest_int(\n",
    "        \"d_model\", nhead * 16, nhead * 32, step=nhead * 8\n",
    "    )\n",
    "    \n",
    "    dim_feedworward = trial.suggest_int(\"dim_feedforward\", 128, 512, step=64)\n",
    "    num_layers = trial.suggest_int(\"num_layers\", 1, 4)\n",
    "    dropout = trial.suggest_float(\"dropout\", 0.1, 0.5)\n",
    "    lr = trial.suggest_float(\"lr\", 1e-4, 1e-2, log=True)\n",
    "    weight_decay = trial.suggest_float(\"weight_decay\", 1e-6, 1e-4, log=True)\n",
    "\n",
    "    # Create the model configuration for the trial\n",
    "    # input_dim, hidden_dim=256, num_heads=3, num_layers=1, dropout=0.3\n",
    "    # Define model configuration\n",
    "    model_config = {\n",
    "        \"input_dim\": input_dim,\n",
    "        \"d_model\": d_model,\n",
    "        \"nhead\": nhead,\n",
    "        \"num_layers\": num_layers,\n",
    "        \"dim_feedforward\": dim_feedworward,\n",
    "        \"dropout\": dropout,\n",
    "    }\n",
    "\n",
    "    # Call your existing train_and_validate_kfold function\n",
    "    summary = train_and_validate_kfold(\n",
    "        fold_loaders=fold_loaders,\n",
    "        model_config=model_config,\n",
    "        epochs=100,  # Fewer epochs for faster tuning\n",
    "        lr=lr,\n",
    "        weight_decay=weight_decay,\n",
    "        patience=10  # Early stopping patience\n",
    "    )\n",
    "\n",
    "    # Return the mean validation RMSE as the objective value\n",
    "    return summary[\"mean_val_rmse\"]\n",
    "\n",
    "# Optuna study configuration\n",
    "study = optuna.create_study(direction=\"minimize\")  # Minimize RMSE\n",
    "study.optimize(objective, n_trials=50)  # Number of trials for hyperparameter tuning\n",
    "\n",
    "# Print the best hyperparameters and validation RMSE\n",
    "print(\"Best hyperparameters:\", study.best_params)\n",
    "print(\"Best validation RMSE:\", study.best_value)"
   ]
  },
  {
   "cell_type": "markdown",
   "metadata": {},
   "source": [
    "# Training without K-Fold"
   ]
  },
  {
   "cell_type": "code",
   "execution_count": 11,
   "metadata": {
    "ExecuteTime": {
     "end_time": "2025-01-14T14:36:42.472369Z",
     "start_time": "2025-01-14T14:36:42.103588Z"
    }
   },
   "outputs": [
    {
     "name": "stdout",
     "output_type": "stream",
     "text": [
      "The autoreload extension is already loaded. To reload it, use:\n",
      "  %reload_ext autoreload\n"
     ]
    }
   ],
   "source": [
    "# Watch for changes\n",
    "%load_ext autoreload\n",
    "%autoreload 2\n",
    "\n",
    "import torch\n",
    "import torch.nn as nn\n",
    "import torch.optim as optim\n",
    "from tqdm.notebook import tqdm  # Use tqdm for Jupyter-friendly progress bar\n",
    "\n",
    "from codebase.v5.models import TransformerRULModel\n",
    "\n",
    "device = torch.device(\"cuda\" if torch.cuda.is_available() else \"cpu\")\n",
    "\n",
    "input_dim = len(dataset.feature_cols)  # Number of input features (contains engineered features)\n",
    "\n",
    "def train_and_validate_single_run(\n",
    "    train_loader, val_loader,\n",
    "    model_config,\n",
    "    epochs=500,\n",
    "    lr=0.001,\n",
    "    weight_decay=1e-6,\n",
    "    patience=10,\n",
    "    model_path=\"saved_weights/model.pth\",\n",
    "    loss_type=\"mse\",  # \"mse\" or \"huber\"\n",
    "):\n",
    "    \"\"\"\n",
    "    Train and validate the model using a *single* train/validation set (no k-fold).\n",
    "    Summarizes metrics (e.g., RMSE, Avg Loss) for this single train/val split.\n",
    "\n",
    "    Args:\n",
    "        fold_loaders (list): List containing a single (train_loader, val_loader) tuple.\n",
    "        model_config (dict): Configuration for the model (e.g., input_dim, d_model, num_layers).\n",
    "        epochs (int): Maximum number of epochs to train.\n",
    "        lr (float): Learning rate for the optimizer.\n",
    "        weight_decay (float): Weight decay for regularization.\n",
    "        patience (int): Number of epochs with no improvement before stopping.\n",
    "        model_path (str): Where to save the best model weights.\n",
    "        loss_type (str): \"mse\" or \"huber\". Determines which loss function is used.\n",
    "\n",
    "    Returns:\n",
    "        model (nn.Module): Trained model (best validation loss).\n",
    "        summary (dict): Summary of metrics for the single train/val run.\n",
    "    \"\"\"\n",
    "\n",
    "    # We'll use only the first tuple from fold_loaders\n",
    "    \n",
    "    print(\"Using standard train/validation approach instead of k-fold.\")\n",
    "\n",
    "    # ======================\n",
    "    #  Set up model & loss\n",
    "    # ======================\n",
    "    model = TransformerRULModel(**model_config).to(device)\n",
    "\n",
    "    # Choose the loss function based on loss_type\n",
    "    if loss_type.lower() == \"mse\":\n",
    "        criterion = nn.MSELoss()\n",
    "    elif loss_type.lower() == \"huber\":\n",
    "        criterion = nn.HuberLoss(delta=1.0)\n",
    "    else:\n",
    "        raise ValueError(f\"Invalid loss_type: {loss_type}. Choose 'mse' or 'huber'.\")\n",
    "\n",
    "    # AdamW optimizer\n",
    "    optimizer = optim.AdamW(model.parameters(), lr=lr, weight_decay=weight_decay)\n",
    "\n",
    "    # Track metrics for this single run\n",
    "    fold_metrics = {\n",
    "        \"train_loss\": [],\n",
    "        \"val_loss\": [],\n",
    "        \"train_rmse\": [],\n",
    "        \"val_rmse\": [],\n",
    "    }\n",
    "\n",
    "    # Early stopping variables\n",
    "    best_val_loss = float(\"inf\")\n",
    "    best_epoch = 0\n",
    "    epochs_no_improve = 0\n",
    "    early_stop = False\n",
    "\n",
    "    # ======================\n",
    "    #  Training Loop\n",
    "    # ======================\n",
    "    total_batches = len(train_loader) * epochs\n",
    "    with tqdm(total=total_batches, desc=\"Training\", unit=\"batch\") as pbar:\n",
    "        for epoch in range(epochs):\n",
    "            if early_stop:\n",
    "                print(f\"Early stopping at epoch {epoch + 1}\")\n",
    "                break\n",
    "\n",
    "            # ---------------------------\n",
    "            # 1. Training\n",
    "            # ---------------------------\n",
    "            model.train()\n",
    "            train_loss_accum = 0.0\n",
    "            train_predictions = []\n",
    "            train_targets_all = []\n",
    "\n",
    "            for inputs, targets, masks, _, _ in train_loader:\n",
    "                optimizer.zero_grad()\n",
    "\n",
    "                inputs = inputs.to(device)\n",
    "                targets = targets.to(device)\n",
    "                masks = masks.to(device)\n",
    "\n",
    "                outputs = model(inputs, masks)  # (batch_size,)\n",
    "\n",
    "                loss = criterion(outputs, targets)\n",
    "                loss.backward()\n",
    "                optimizer.step()\n",
    "\n",
    "                # Accumulate for final averaging\n",
    "                batch_size = inputs.size(0)\n",
    "                train_loss_accum += loss.item() * batch_size\n",
    "\n",
    "                # For RMSE calculation, store predictions & targets\n",
    "                train_predictions.append(outputs.detach().cpu())\n",
    "                train_targets_all.append(targets.detach().cpu())\n",
    "\n",
    "                pbar.update(1)\n",
    "\n",
    "            # Compute average training loss\n",
    "            num_train_samples = len(train_loader.dataset)\n",
    "            avg_train_loss = train_loss_accum / num_train_samples\n",
    "\n",
    "            # Compute training RMSE\n",
    "            train_predictions = torch.cat(train_predictions, dim=0)\n",
    "            train_targets_all = torch.cat(train_targets_all, dim=0)\n",
    "            train_rmse = torch.sqrt(torch.mean((train_predictions - train_targets_all) ** 2)).item()\n",
    "\n",
    "            # ---------------------------\n",
    "            # 2. Validation\n",
    "            # ---------------------------\n",
    "            model.eval()\n",
    "            val_loss_accum = 0.0\n",
    "            val_predictions = []\n",
    "            val_targets_all = []\n",
    "\n",
    "            with torch.no_grad():\n",
    "                for inputs, targets, masks, _, _ in val_loader:\n",
    "                    inputs = inputs.to(device)\n",
    "                    targets = targets.to(device)\n",
    "                    masks = masks.to(device)\n",
    "\n",
    "                    outputs = model(inputs, masks)\n",
    "                    loss = criterion(outputs, targets)\n",
    "\n",
    "                    batch_size = inputs.size(0)\n",
    "                    val_loss_accum += loss.item() * batch_size\n",
    "\n",
    "                    val_predictions.append(outputs.cpu())\n",
    "                    val_targets_all.append(targets.cpu())\n",
    "\n",
    "            num_val_samples = len(val_loader.dataset)\n",
    "            avg_val_loss = val_loss_accum / num_val_samples\n",
    "\n",
    "            val_predictions = torch.cat(val_predictions, dim=0)\n",
    "            val_targets_all = torch.cat(val_targets_all, dim=0)\n",
    "            val_rmse = torch.sqrt(torch.mean((val_predictions - val_targets_all) ** 2)).item()\n",
    "\n",
    "            # ---------------------------\n",
    "            # 3. Early Stopping Logic\n",
    "            # ---------------------------\n",
    "            if avg_val_loss < best_val_loss:\n",
    "                best_val_loss = avg_val_loss\n",
    "                best_val_rmse = val_rmse\n",
    "\n",
    "                epochs_no_improve = 0\n",
    "                best_epoch = epoch + 1\n",
    "                torch.save(model.state_dict(), model_path)\n",
    "            else:\n",
    "                epochs_no_improve += 1\n",
    "                print(f\"No improvement for {epochs_no_improve} epoch(s).\")\n",
    "\n",
    "            if epochs_no_improve >= patience:\n",
    "                print(\"Early stopping triggered.\")\n",
    "                early_stop = True\n",
    "\n",
    "            # Record stats\n",
    "            fold_metrics[\"train_loss\"].append(avg_train_loss)\n",
    "            fold_metrics[\"val_loss\"].append(avg_val_loss)\n",
    "            fold_metrics[\"train_rmse\"].append(train_rmse)\n",
    "            fold_metrics[\"val_rmse\"].append(val_rmse)\n",
    "\n",
    "            # ---------------------------\n",
    "            # 4. TQDM Logging\n",
    "            # ---------------------------\n",
    "            pbar.set_postfix({\n",
    "                \"Epoch\": f\"{epoch + 1}/{epochs}\",\n",
    "                \"Train Loss\": f\"{avg_train_loss:.4f}\",\n",
    "                \"Train RMSE\": f\"{train_rmse:.4f}\",\n",
    "                \"Val Loss\": f\"{avg_val_loss:.4f}\",\n",
    "                \"Val RMSE\": f\"{val_rmse:.4f}\"\n",
    "            })\n",
    "            pbar.update(0)\n",
    "\n",
    "    # ======================\n",
    "    #  Final Summary\n",
    "    # ======================\n",
    "    # Load best model\n",
    "    model.load_state_dict(torch.load(model_path))\n",
    "\n",
    "    # Summaries\n",
    "    summary = {\n",
    "        \"best_epoch\": best_epoch,\n",
    "        \"best_val_loss\": best_val_loss,\n",
    "        \"best_val_rmse\": best_val_rmse,\n",
    "        \"final_train_loss\": fold_metrics[\"train_loss\"][-1] if fold_metrics[\"train_loss\"] else None,\n",
    "        \"final_val_loss\": fold_metrics[\"val_loss\"][-1] if fold_metrics[\"val_loss\"] else None,\n",
    "        \"final_train_rmse\": fold_metrics[\"train_rmse\"][-1] if fold_metrics[\"train_rmse\"] else None,\n",
    "        \"final_val_rmse\": fold_metrics[\"val_rmse\"][-1] if fold_metrics[\"val_rmse\"] else None,\n",
    "    }\n",
    "\n",
    "    print(\"\\n--- Train/Validation Summary ---\")\n",
    "    for key, value in summary.items():\n",
    "        print(f\"{key}: {value}\")\n",
    "\n",
    "    print(f\"\\nTraining complete. Best model loaded (epoch {best_epoch}).\")\n",
    "\n",
    "    return model, summary"
   ]
  },
  {
   "cell_type": "code",
   "execution_count": 21,
   "metadata": {},
   "outputs": [
    {
     "name": "stdout",
     "output_type": "stream",
     "text": [
      "Using standard train/validation approach instead of k-fold.\n"
     ]
    },
    {
     "data": {
      "application/vnd.jupyter.widget-view+json": {
       "model_id": "027263e922734d76b63baae13f6b5b8a",
       "version_major": 2,
       "version_minor": 0
      },
      "text/plain": [
       "Training:   0%|          | 0/200 [00:00<?, ?batch/s]"
      ]
     },
     "metadata": {},
     "output_type": "display_data"
    },
    {
     "name": "stdout",
     "output_type": "stream",
     "text": [
      "No improvement for 1 epoch(s).\n",
      "No improvement for 2 epoch(s).\n",
      "No improvement for 1 epoch(s).\n",
      "No improvement for 2 epoch(s).\n",
      "No improvement for 3 epoch(s).\n",
      "No improvement for 4 epoch(s).\n",
      "No improvement for 5 epoch(s).\n",
      "No improvement for 6 epoch(s).\n",
      "No improvement for 7 epoch(s).\n",
      "No improvement for 8 epoch(s).\n",
      "No improvement for 9 epoch(s).\n",
      "No improvement for 10 epoch(s).\n",
      "Early stopping triggered.\n",
      "Early stopping at epoch 38\n",
      "\n",
      "--- Train/Validation Summary ---\n",
      "best_epoch: 27\n",
      "best_val_loss: 745.372802734375\n",
      "best_val_rmse: 27.301515579223633\n",
      "final_train_loss: 774.2369445296358\n",
      "final_val_loss: 986.54638671875\n",
      "final_train_rmse: 27.825115203857422\n",
      "final_val_rmse: 31.40933609008789\n",
      "\n",
      "Training complete. Best model loaded (epoch 27).\n"
     ]
    },
    {
     "name": "stderr",
     "output_type": "stream",
     "text": [
      "/tmp/ipykernel_514730/3102478286.py:199: FutureWarning: You are using `torch.load` with `weights_only=False` (the current default value), which uses the default pickle module implicitly. It is possible to construct malicious pickle data which will execute arbitrary code during unpickling (See https://github.com/pytorch/pytorch/blob/main/SECURITY.md#untrusted-models for more details). In a future release, the default value for `weights_only` will be flipped to `True`. This limits the functions that could be executed during unpickling. Arbitrary objects will no longer be allowed to be loaded via this mode unless they are explicitly allowlisted by the user via `torch.serialization.add_safe_globals`. We recommend you start setting `weights_only=True` for any use case where you don't have full control of the loaded file. Please open an issue on GitHub for any issues related to this experimental feature.\n",
      "  model.load_state_dict(torch.load(model_path))\n"
     ]
    }
   ],
   "source": [
    "# Best hyperparameters: \n",
    "#   {'nhead': 4, 'd_model': 96, 'dim_feedforward': 192, 'num_layers': 1, 'dropout': 0.4333827218510093, \n",
    "#       'lr': 0.003895180196123437, 'weight_decay': 6.638328586838593e-06}\n",
    "# Best validation RMSE: 34.41191377372541\n",
    "\n",
    "# Define model configuration\n",
    "model_config = {\n",
    "    \"input_dim\": input_dim,\n",
    "    \"d_model\": 96,\n",
    "    \"nhead\": 4,\n",
    "    \"num_layers\": 1,\n",
    "    \"dim_feedforward\": 192,\n",
    "    \"dropout\": 0.4333827218510093,\n",
    "}\n",
    "\n",
    "learning_rate = 0.003895180196123437\n",
    "weight_decay = 6.638328586838593e-06\n",
    "\n",
    "train_loader, val_loader = fold_loaders[1]\n",
    "\n",
    "# Train using k-fold loaders\n",
    "model, summary = train_and_validate_single_run(\n",
    "        train_loader=train_loader, val_loader=val_loader,\n",
    "        model_config=model_config,\n",
    "        epochs=100, \n",
    "        lr=learning_rate,\n",
    "        weight_decay=weight_decay,\n",
    "        patience=10,\n",
    "        loss_type=\"mse\"\n",
    "    )"
   ]
  },
  {
   "cell_type": "markdown",
   "metadata": {},
   "source": [
    "## **Difference Between MSE and Huber Loss and Implications on Validation Loss and RMSE**\n",
    "\n",
    "Both **Mean Squared Error (MSE)** and **Huber Loss** are used in regression tasks, but they handle errors differently, particularly when it comes to **outliers**.\n",
    "\n",
    "---\n",
    "\n",
    "### **1. Mean Squared Error (MSE)**\n",
    "- **Formula**:\n",
    "  $$\n",
    "  L_{\\text{MSE}} = \\frac{1}{N} \\sum_{i=1}^N (\\hat{y}_i - y_i)^2\n",
    "  $$\n",
    "- **Characteristics**:\n",
    "  - Penalizes **larger errors more severely** because the error is squared.\n",
    "  - Sensitive to **outliers**: A single large error can dominate the loss, destabilizing training.\n",
    "  - Best for data where outliers are rare or unimportant.\n",
    "- **Implications on Metrics**:\n",
    "  - **Validation Loss**:\n",
    "    - Directly reflects the average of squared errors.\n",
    "    - Sensitive to outliers; validation loss can become large if the test set contains outliers.\n",
    "  - **Validation RMSE**:\n",
    "    - RMSE is derived from MSE:  \n",
    "      $$\n",
    "      \\text{RMSE} = \\sqrt{\\frac{1}{N} \\sum_{i=1}^N (\\hat{y}_i - y_i)^2}\n",
    "      $$\n",
    "    - RMSE magnifies large errors (due to the square root), making it more sensitive to outliers than MAE.\n",
    "\n",
    "---\n",
    "\n",
    "### **2. Huber Loss**\n",
    "- **Formula**:\n",
    "  $$\n",
    "  L_{\\text{Huber}} =\n",
    "  \\begin{cases}\n",
    "    \\frac{1}{2} (\\hat{y}_i - y_i)^2 & \\text{if } |\\hat{y}_i - y_i| \\leq \\delta, \\\\\n",
    "    \\delta \\cdot |\\hat{y}_i - y_i| - \\frac{1}{2} \\delta^2 & \\text{otherwise.}\n",
    "  \\end{cases}\n",
    "  $$\n",
    "  where $\\delta$ is the threshold for determining whether an error is small or large.\n",
    "  \n",
    "- **Characteristics**:\n",
    "  - **Quadratic for small errors** ($ |error| \\leq \\delta $): Similar to MSE for small errors.\n",
    "  - **Linear for large errors** ($ |error| > \\delta $): Less sensitive to outliers compared to MSE.\n",
    "  - The transition point is controlled by $\\delta$ (default is 1.0 in PyTorch).\n",
    "- **Implications on Metrics**:\n",
    "  - **Validation Loss**:\n",
    "    - Huber Loss will be smaller than MSE if the dataset contains large outliers, as large errors are penalized linearly instead of quadratically.\n",
    "    - Loss reflects a combination of MSE (for small errors) and MAE-like behavior (for large errors).\n",
    "  - **Validation RMSE**:\n",
    "    - RMSE is still calculated from squared residuals, so it remains sensitive to outliers.\n",
    "    - There might be a **mismatch** between the Huber Loss (less sensitive to outliers) and RMSE (still sensitive to outliers).\n",
    "\n",
    "---\n",
    "\n",
    "### **Key Differences in Behavior**\n",
    "\n",
    "| **Aspect**            | **MSE**                                          | **Huber Loss**                                   |\n",
    "|------------------------|--------------------------------------------------|-------------------------------------------------|\n",
    "| **Outlier Sensitivity**| Very sensitive to large errors                   | Less sensitive; outlier impact reduced linearly |\n",
    "| **Validation Loss**    | Can be dominated by outliers                     | More robust; reflects balanced error behavior   |\n",
    "| **Validation RMSE**    | Sensitive to outliers (matches MSE behavior)     | Remains sensitive to outliers despite Huber Loss|\n",
    "\n",
    "---\n",
    "\n",
    "### **Implications for Validation Metrics**\n",
    "\n",
    "#### **1. Validation Loss**\n",
    "- **When using Huber Loss**:\n",
    "  - Validation loss reflects the mix of quadratic (small errors) and linear (large errors) penalties.\n",
    "  - Outliers have **less influence** compared to MSE.\n",
    "  - You may notice that validation loss is smaller with Huber Loss if outliers are present.\n",
    "\n",
    "- **When using MSE**:\n",
    "  - Validation loss will directly reflect the squared residuals, with **large penalties** for outliers.\n",
    "  - If outliers are present, MSE will likely result in larger validation losses compared to Huber Loss.\n",
    "\n",
    "#### **2. Validation RMSE**\n",
    "- **Independent of Loss Function**:\n",
    "  - RMSE always uses squared residuals.\n",
    "  - If there are outliers, RMSE will still be inflated regardless of whether the model was trained with MSE or Huber Loss.\n",
    "- **Mismatch Possibility**:\n",
    "  - If you train with Huber Loss (less sensitive to outliers) but evaluate using RMSE (sensitive to outliers), you may observe higher RMSE than expected based on the validation loss.\n",
    "\n",
    "---\n",
    "\n",
    "### **When to Use MSE vs. Huber Loss**\n",
    "\n",
    "| **Use MSE**                           | **Use Huber Loss**                        |\n",
    "|---------------------------------------|-------------------------------------------|\n",
    "| When outliers are rare or negligible. | When the dataset contains significant outliers. |\n",
    "| When penalizing large errors is crucial.| When robustness to outliers is important. |\n",
    "| When you want RMSE to match training. | When you care more about average predictive behavior. |\n",
    "\n",
    "---\n",
    "\n",
    "### **Summary**\n",
    "- **Validation Loss** reflects the behavior of the loss function used in training:\n",
    "  - MSE is more sensitive to outliers than Huber Loss.\n",
    "- **Validation RMSE** is always computed using squared residuals, so it remains sensitive to outliers, even if Huber Loss is used for training.\n",
    "- When using Huber Loss, expect a potential **mismatch** between the validation loss and RMSE due to differing sensitivity to outliers.\n"
   ]
  },
  {
   "cell_type": "code",
   "execution_count": 22,
   "metadata": {},
   "outputs": [
    {
     "name": "stdout",
     "output_type": "stream",
     "text": [
      "Model saved to saved_weights/model.pth\n"
     ]
    }
   ],
   "source": [
    "import os\n",
    "\n",
    "# Save the model state dictionary\n",
    "model_path = \"saved_weights/\"\n",
    "config_path = os.path.join(model_path, \"config.pth\")\n",
    "model_path = os.path.join(model_path, \"model.pth\")\n",
    "\n",
    "# Save the dictionary\n",
    "torch.save(model_config, config_path)\n",
    "\n",
    "# Save the model state dictionary for AdvancedContentRecommendationNet\n",
    "torch.save({\n",
    "    'model_state_dict': model.state_dict(),    \n",
    "    'learning_rate': learning_rate,\n",
    "    'weight_decay': weight_decay,\n",
    "}, model_path)\n",
    "\n",
    "print(f\"Model saved to {model_path}\")"
   ]
  },
  {
   "cell_type": "markdown",
   "metadata": {},
   "source": [
    "# Training without K-Fold: Optuna"
   ]
  },
  {
   "cell_type": "code",
   "execution_count": 8,
   "metadata": {},
   "outputs": [
    {
     "name": "stderr",
     "output_type": "stream",
     "text": [
      "[I 2025-01-13 19:04:08,343] A new study created in memory with name: no-name-5fcdb3cd-8b0c-459b-8823-851dc0ba9514\n"
     ]
    },
    {
     "name": "stdout",
     "output_type": "stream",
     "text": [
      "Using standard train/validation approach instead of k-fold.\n"
     ]
    },
    {
     "data": {
      "application/vnd.jupyter.widget-view+json": {
       "model_id": "1ccedd03fd074f06b2113189b821bc91",
       "version_major": 2,
       "version_minor": 0
      },
      "text/plain": [
       "Training:   0%|          | 0/50 [00:00<?, ?batch/s]"
      ]
     },
     "metadata": {},
     "output_type": "display_data"
    },
    {
     "name": "stderr",
     "output_type": "stream",
     "text": [
      "/home/oliver/anaconda3/envs/pytorch_env/lib/python3.9/site-packages/torch/nn/modules/transformer.py:502: UserWarning: The PyTorch API of nested tensors is in prototype stage and will change in the near future. (Triggered internally at ../aten/src/ATen/NestedTensorImpl.cpp:178.)\n",
      "  output = torch._nested_tensor_from_mask(\n"
     ]
    },
    {
     "name": "stdout",
     "output_type": "stream",
     "text": [
      "No improvement for 1 epoch(s).\n",
      "No improvement for 2 epoch(s).\n",
      "No improvement for 3 epoch(s).\n",
      "No improvement for 4 epoch(s).\n",
      "No improvement for 5 epoch(s).\n",
      "No improvement for 6 epoch(s).\n",
      "No improvement for 1 epoch(s).\n",
      "No improvement for 1 epoch(s).\n",
      "No improvement for 2 epoch(s).\n",
      "No improvement for 3 epoch(s).\n",
      "No improvement for 4 epoch(s).\n",
      "No improvement for 5 epoch(s).\n",
      "No improvement for 6 epoch(s).\n",
      "No improvement for 7 epoch(s).\n",
      "No improvement for 8 epoch(s).\n",
      "No improvement for 9 epoch(s).\n"
     ]
    },
    {
     "name": "stderr",
     "output_type": "stream",
     "text": [
      "[I 2025-01-13 19:05:03,789] Trial 0 finished with value: 100.58610952655192 and parameters: {'nhead': 6, 'd_model': 144, 'dim_feedforward': 512, 'num_layers': 3, 'dropout': 0.2935843795699245, 'lr': 0.0064418695174574, 'weight_decay': 2.58530010209735e-05}. Best is trial 0 with value: 100.58610952655192.\n"
     ]
    },
    {
     "name": "stdout",
     "output_type": "stream",
     "text": [
      "No improvement for 10 epoch(s).\n",
      "Early stopping triggered.\n",
      "Early stopping at epoch 39\n",
      "\n",
      "--- Train/Validation Summary ---\n",
      "mean_train_rmse: 99.8278\n",
      "mean_val_rmse: 100.5861\n",
      "mean_train_avg_mse: 9965.5977\n",
      "mean_val_avg_mse: 10117.5654\n",
      "Using standard train/validation approach instead of k-fold.\n"
     ]
    },
    {
     "data": {
      "application/vnd.jupyter.widget-view+json": {
       "model_id": "ecbf1578bb214a44b2ff57b381cc70a5",
       "version_major": 2,
       "version_minor": 0
      },
      "text/plain": [
       "Training:   0%|          | 0/50 [00:00<?, ?batch/s]"
      ]
     },
     "metadata": {},
     "output_type": "display_data"
    },
    {
     "name": "stderr",
     "output_type": "stream",
     "text": [
      "[I 2025-01-13 19:06:06,110] Trial 1 finished with value: 66.78735860573653 and parameters: {'nhead': 6, 'd_model': 96, 'dim_feedforward': 448, 'num_layers': 2, 'dropout': 0.3294682351571344, 'lr': 0.0019301841207366196, 'weight_decay': 4.208893627720645e-06}. Best is trial 1 with value: 66.78735860573653.\n"
     ]
    },
    {
     "name": "stdout",
     "output_type": "stream",
     "text": [
      "\n",
      "--- Train/Validation Summary ---\n",
      "mean_train_rmse: 66.6310\n",
      "mean_val_rmse: 66.7874\n",
      "mean_train_avg_mse: 4439.6846\n",
      "mean_val_avg_mse: 4460.5513\n",
      "Using standard train/validation approach instead of k-fold.\n"
     ]
    },
    {
     "data": {
      "application/vnd.jupyter.widget-view+json": {
       "model_id": "6e94c96979fc458da25146393e7cf73d",
       "version_major": 2,
       "version_minor": 0
      },
      "text/plain": [
       "Training:   0%|          | 0/50 [00:00<?, ?batch/s]"
      ]
     },
     "metadata": {},
     "output_type": "display_data"
    },
    {
     "name": "stderr",
     "output_type": "stream",
     "text": [
      "[I 2025-01-13 19:07:06,780] Trial 2 finished with value: 101.35849703835885 and parameters: {'nhead': 2, 'd_model': 48, 'dim_feedforward': 128, 'num_layers': 1, 'dropout': 0.2837935088376563, 'lr': 0.000185138741004499, 'weight_decay': 9.873478011911473e-05}. Best is trial 1 with value: 66.78735860573653.\n"
     ]
    },
    {
     "name": "stdout",
     "output_type": "stream",
     "text": [
      "\n",
      "--- Train/Validation Summary ---\n",
      "mean_train_rmse: 100.0137\n",
      "mean_val_rmse: 101.3585\n",
      "mean_train_avg_mse: 10002.7471\n",
      "mean_val_avg_mse: 10273.5449\n",
      "Using standard train/validation approach instead of k-fold.\n"
     ]
    },
    {
     "data": {
      "application/vnd.jupyter.widget-view+json": {
       "model_id": "6ee59cb8f0c045adb2c02b4319c0f63d",
       "version_major": 2,
       "version_minor": 0
      },
      "text/plain": [
       "Training:   0%|          | 0/50 [00:00<?, ?batch/s]"
      ]
     },
     "metadata": {},
     "output_type": "display_data"
    },
    {
     "name": "stderr",
     "output_type": "stream",
     "text": [
      "[I 2025-01-13 19:08:09,564] Trial 3 finished with value: 100.95522290228476 and parameters: {'nhead': 2, 'd_model': 64, 'dim_feedforward': 192, 'num_layers': 4, 'dropout': 0.2532339066313839, 'lr': 0.00029830058475993507, 'weight_decay': 4.859352826898666e-06}. Best is trial 1 with value: 66.78735860573653.\n"
     ]
    },
    {
     "name": "stdout",
     "output_type": "stream",
     "text": [
      "\n",
      "--- Train/Validation Summary ---\n",
      "mean_train_rmse: 99.5669\n",
      "mean_val_rmse: 100.9552\n",
      "mean_train_avg_mse: 9913.5684\n",
      "mean_val_avg_mse: 10191.9570\n",
      "Using standard train/validation approach instead of k-fold.\n"
     ]
    },
    {
     "data": {
      "application/vnd.jupyter.widget-view+json": {
       "model_id": "bf0bb1aad59f4c628f827f775c544487",
       "version_major": 2,
       "version_minor": 0
      },
      "text/plain": [
       "Training:   0%|          | 0/50 [00:00<?, ?batch/s]"
      ]
     },
     "metadata": {},
     "output_type": "display_data"
    },
    {
     "name": "stderr",
     "output_type": "stream",
     "text": [
      "[I 2025-01-13 19:09:13,537] Trial 4 finished with value: 99.90082973254026 and parameters: {'nhead': 4, 'd_model': 64, 'dim_feedforward': 448, 'num_layers': 4, 'dropout': 0.12059789086302947, 'lr': 0.0002513370986313105, 'weight_decay': 2.290940735173932e-05}. Best is trial 1 with value: 66.78735860573653.\n"
     ]
    },
    {
     "name": "stdout",
     "output_type": "stream",
     "text": [
      "\n",
      "--- Train/Validation Summary ---\n",
      "mean_train_rmse: 98.5358\n",
      "mean_val_rmse: 99.9008\n",
      "mean_train_avg_mse: 9709.2979\n",
      "mean_val_avg_mse: 9980.1758\n",
      "Using standard train/validation approach instead of k-fold.\n"
     ]
    },
    {
     "data": {
      "application/vnd.jupyter.widget-view+json": {
       "model_id": "1be282da9bcb4c7ebe4a95e822b7afb9",
       "version_major": 2,
       "version_minor": 0
      },
      "text/plain": [
       "Training:   0%|          | 0/50 [00:00<?, ?batch/s]"
      ]
     },
     "metadata": {},
     "output_type": "display_data"
    },
    {
     "name": "stdout",
     "output_type": "stream",
     "text": [
      "No improvement for 1 epoch(s).\n",
      "No improvement for 2 epoch(s).\n",
      "No improvement for 3 epoch(s).\n",
      "No improvement for 4 epoch(s).\n",
      "No improvement for 5 epoch(s).\n",
      "No improvement for 6 epoch(s).\n",
      "No improvement for 7 epoch(s).\n",
      "No improvement for 1 epoch(s).\n",
      "No improvement for 2 epoch(s).\n",
      "No improvement for 3 epoch(s).\n",
      "No improvement for 4 epoch(s).\n",
      "No improvement for 5 epoch(s).\n",
      "No improvement for 6 epoch(s).\n",
      "No improvement for 7 epoch(s).\n",
      "No improvement for 8 epoch(s).\n",
      "No improvement for 1 epoch(s).\n",
      "No improvement for 2 epoch(s).\n",
      "No improvement for 3 epoch(s).\n",
      "No improvement for 4 epoch(s).\n",
      "No improvement for 5 epoch(s).\n"
     ]
    },
    {
     "name": "stderr",
     "output_type": "stream",
     "text": [
      "[I 2025-01-13 19:10:17,838] Trial 5 finished with value: 40.48281759596054 and parameters: {'nhead': 6, 'd_model': 96, 'dim_feedforward': 320, 'num_layers': 2, 'dropout': 0.2111268351306359, 'lr': 0.006462261113826016, 'weight_decay': 5.869383876612836e-06}. Best is trial 5 with value: 40.48281759596054.\n"
     ]
    },
    {
     "name": "stdout",
     "output_type": "stream",
     "text": [
      "No improvement for 6 epoch(s).\n",
      "\n",
      "--- Train/Validation Summary ---\n",
      "mean_train_rmse: 25.4365\n",
      "mean_val_rmse: 40.4828\n",
      "mean_train_avg_mse: 647.0175\n",
      "mean_val_avg_mse: 1638.8585\n",
      "Using standard train/validation approach instead of k-fold.\n"
     ]
    },
    {
     "data": {
      "application/vnd.jupyter.widget-view+json": {
       "model_id": "211004978c07488da25f58ec5127f5fa",
       "version_major": 2,
       "version_minor": 0
      },
      "text/plain": [
       "Training:   0%|          | 0/50 [00:00<?, ?batch/s]"
      ]
     },
     "metadata": {},
     "output_type": "display_data"
    },
    {
     "name": "stderr",
     "output_type": "stream",
     "text": [
      "[I 2025-01-13 19:11:22,468] Trial 6 finished with value: 96.55865688145211 and parameters: {'nhead': 4, 'd_model': 128, 'dim_feedforward': 512, 'num_layers': 1, 'dropout': 0.3348804362271552, 'lr': 0.0003711996659049027, 'weight_decay': 5.917140660006114e-05}. Best is trial 5 with value: 40.48281759596054.\n"
     ]
    },
    {
     "name": "stdout",
     "output_type": "stream",
     "text": [
      "\n",
      "--- Train/Validation Summary ---\n",
      "mean_train_rmse: 95.7809\n",
      "mean_val_rmse: 96.5587\n",
      "mean_train_avg_mse: 9173.9814\n",
      "mean_val_avg_mse: 9323.5742\n",
      "Using standard train/validation approach instead of k-fold.\n"
     ]
    },
    {
     "data": {
      "application/vnd.jupyter.widget-view+json": {
       "model_id": "3d9d4307c9e74c5e956d5463e8ef5a01",
       "version_major": 2,
       "version_minor": 0
      },
      "text/plain": [
       "Training:   0%|          | 0/50 [00:00<?, ?batch/s]"
      ]
     },
     "metadata": {},
     "output_type": "display_data"
    },
    {
     "name": "stderr",
     "output_type": "stream",
     "text": [
      "[I 2025-01-13 19:12:27,241] Trial 7 finished with value: 94.02878340899132 and parameters: {'nhead': 8, 'd_model': 256, 'dim_feedforward': 320, 'num_layers': 3, 'dropout': 0.10894316950568142, 'lr': 0.00022530044291337994, 'weight_decay': 2.14894843174962e-06}. Best is trial 5 with value: 40.48281759596054.\n"
     ]
    },
    {
     "name": "stdout",
     "output_type": "stream",
     "text": [
      "\n",
      "--- Train/Validation Summary ---\n",
      "mean_train_rmse: 92.7413\n",
      "mean_val_rmse: 94.0288\n",
      "mean_train_avg_mse: 8600.9521\n",
      "mean_val_avg_mse: 8841.4121\n",
      "Using standard train/validation approach instead of k-fold.\n"
     ]
    },
    {
     "data": {
      "application/vnd.jupyter.widget-view+json": {
       "model_id": "938bbfad53424f3abbb126610cfaf9ed",
       "version_major": 2,
       "version_minor": 0
      },
      "text/plain": [
       "Training:   0%|          | 0/50 [00:00<?, ?batch/s]"
      ]
     },
     "metadata": {},
     "output_type": "display_data"
    },
    {
     "name": "stderr",
     "output_type": "stream",
     "text": [
      "[I 2025-01-13 19:13:30,898] Trial 8 finished with value: 99.11282731847831 and parameters: {'nhead': 8, 'd_model': 128, 'dim_feedforward': 256, 'num_layers': 3, 'dropout': 0.12871268417883713, 'lr': 0.0001670917945466713, 'weight_decay': 2.730031666483082e-06}. Best is trial 5 with value: 40.48281759596054.\n"
     ]
    },
    {
     "name": "stdout",
     "output_type": "stream",
     "text": [
      "\n",
      "--- Train/Validation Summary ---\n",
      "mean_train_rmse: 97.7735\n",
      "mean_val_rmse: 99.1128\n",
      "mean_train_avg_mse: 9559.6650\n",
      "mean_val_avg_mse: 9823.3525\n",
      "Using standard train/validation approach instead of k-fold.\n"
     ]
    },
    {
     "data": {
      "application/vnd.jupyter.widget-view+json": {
       "model_id": "276a8cc7d02f4d5eb513b9e773703ad1",
       "version_major": 2,
       "version_minor": 0
      },
      "text/plain": [
       "Training:   0%|          | 0/50 [00:00<?, ?batch/s]"
      ]
     },
     "metadata": {},
     "output_type": "display_data"
    },
    {
     "name": "stderr",
     "output_type": "stream",
     "text": [
      "[I 2025-01-13 19:14:32,798] Trial 9 finished with value: 79.6160739943967 and parameters: {'nhead': 8, 'd_model': 128, 'dim_feedforward': 512, 'num_layers': 4, 'dropout': 0.14905405681856615, 'lr': 0.001112172258840648, 'weight_decay': 1.3110423000244446e-05}. Best is trial 5 with value: 40.48281759596054.\n"
     ]
    },
    {
     "name": "stdout",
     "output_type": "stream",
     "text": [
      "\n",
      "--- Train/Validation Summary ---\n",
      "mean_train_rmse: 78.6456\n",
      "mean_val_rmse: 79.6161\n",
      "mean_train_avg_mse: 6185.1250\n",
      "mean_val_avg_mse: 6338.7192\n",
      "Using standard train/validation approach instead of k-fold.\n"
     ]
    },
    {
     "data": {
      "application/vnd.jupyter.widget-view+json": {
       "model_id": "674fa1b3e1cd41bf9c4e557b2390fd16",
       "version_major": 2,
       "version_minor": 0
      },
      "text/plain": [
       "Training:   0%|          | 0/50 [00:00<?, ?batch/s]"
      ]
     },
     "metadata": {},
     "output_type": "display_data"
    },
    {
     "name": "stdout",
     "output_type": "stream",
     "text": [
      "No improvement for 1 epoch(s).\n",
      "No improvement for 2 epoch(s).\n",
      "No improvement for 1 epoch(s).\n",
      "No improvement for 1 epoch(s).\n",
      "No improvement for 2 epoch(s).\n",
      "No improvement for 3 epoch(s).\n",
      "No improvement for 4 epoch(s).\n",
      "No improvement for 5 epoch(s).\n",
      "No improvement for 6 epoch(s).\n",
      "No improvement for 7 epoch(s).\n",
      "No improvement for 8 epoch(s).\n",
      "No improvement for 9 epoch(s).\n"
     ]
    },
    {
     "name": "stderr",
     "output_type": "stream",
     "text": [
      "[I 2025-01-13 19:15:05,835] Trial 10 finished with value: 52.624327304192214 and parameters: {'nhead': 6, 'd_model': 192, 'dim_feedforward': 320, 'num_layers': 2, 'dropout': 0.4712525730482982, 'lr': 0.008845977387076313, 'weight_decay': 1.2123643232488628e-06}. Best is trial 5 with value: 40.48281759596054.\n"
     ]
    },
    {
     "name": "stdout",
     "output_type": "stream",
     "text": [
      "No improvement for 10 epoch(s).\n",
      "Early stopping triggered.\n",
      "Early stopping at epoch 28\n",
      "\n",
      "--- Train/Validation Summary ---\n",
      "mean_train_rmse: 41.5136\n",
      "mean_val_rmse: 52.6243\n",
      "mean_train_avg_mse: 1723.3794\n",
      "mean_val_avg_mse: 2769.3198\n",
      "Using standard train/validation approach instead of k-fold.\n"
     ]
    },
    {
     "data": {
      "application/vnd.jupyter.widget-view+json": {
       "model_id": "d9b1c5ff3ee64ff18005245a4eef9767",
       "version_major": 2,
       "version_minor": 0
      },
      "text/plain": [
       "Training:   0%|          | 0/50 [00:00<?, ?batch/s]"
      ]
     },
     "metadata": {},
     "output_type": "display_data"
    },
    {
     "name": "stdout",
     "output_type": "stream",
     "text": [
      "No improvement for 1 epoch(s).\n",
      "No improvement for 1 epoch(s).\n",
      "No improvement for 2 epoch(s).\n",
      "No improvement for 3 epoch(s).\n",
      "No improvement for 4 epoch(s).\n",
      "No improvement for 5 epoch(s).\n",
      "No improvement for 6 epoch(s).\n",
      "No improvement for 1 epoch(s).\n",
      "No improvement for 2 epoch(s).\n",
      "No improvement for 3 epoch(s).\n",
      "No improvement for 4 epoch(s).\n",
      "No improvement for 5 epoch(s).\n",
      "No improvement for 6 epoch(s).\n",
      "No improvement for 7 epoch(s).\n",
      "No improvement for 8 epoch(s).\n",
      "No improvement for 9 epoch(s).\n"
     ]
    },
    {
     "name": "stderr",
     "output_type": "stream",
     "text": [
      "[I 2025-01-13 19:15:43,517] Trial 11 finished with value: 57.938513424928544 and parameters: {'nhead': 6, 'd_model': 192, 'dim_feedforward': 320, 'num_layers': 2, 'dropout': 0.4598875772134153, 'lr': 0.008408312789176505, 'weight_decay': 1.04719310136384e-06}. Best is trial 5 with value: 40.48281759596054.\n"
     ]
    },
    {
     "name": "stdout",
     "output_type": "stream",
     "text": [
      "No improvement for 10 epoch(s).\n",
      "Early stopping triggered.\n",
      "Early stopping at epoch 31\n",
      "\n",
      "--- Train/Validation Summary ---\n",
      "mean_train_rmse: 38.4951\n",
      "mean_val_rmse: 57.9385\n",
      "mean_train_avg_mse: 1481.8744\n",
      "mean_val_avg_mse: 3356.8713\n",
      "Using standard train/validation approach instead of k-fold.\n"
     ]
    },
    {
     "data": {
      "application/vnd.jupyter.widget-view+json": {
       "model_id": "05ee7ebd310b45d68d59380f3fff4d50",
       "version_major": 2,
       "version_minor": 0
      },
      "text/plain": [
       "Training:   0%|          | 0/50 [00:00<?, ?batch/s]"
      ]
     },
     "metadata": {},
     "output_type": "display_data"
    },
    {
     "name": "stdout",
     "output_type": "stream",
     "text": [
      "No improvement for 1 epoch(s).\n",
      "No improvement for 2 epoch(s).\n",
      "No improvement for 3 epoch(s).\n",
      "No improvement for 1 epoch(s).\n",
      "No improvement for 2 epoch(s).\n",
      "No improvement for 3 epoch(s).\n",
      "No improvement for 4 epoch(s).\n",
      "No improvement for 5 epoch(s).\n",
      "No improvement for 1 epoch(s).\n",
      "No improvement for 2 epoch(s).\n",
      "No improvement for 3 epoch(s).\n",
      "No improvement for 4 epoch(s).\n",
      "No improvement for 5 epoch(s).\n",
      "No improvement for 6 epoch(s).\n",
      "No improvement for 7 epoch(s).\n",
      "No improvement for 8 epoch(s).\n",
      "No improvement for 1 epoch(s).\n"
     ]
    },
    {
     "name": "stderr",
     "output_type": "stream",
     "text": [
      "[I 2025-01-13 19:16:47,819] Trial 12 finished with value: 40.55705706692348 and parameters: {'nhead': 6, 'd_model': 192, 'dim_feedforward': 384, 'num_layers': 2, 'dropout': 0.4802011429262515, 'lr': 0.003078470282299403, 'weight_decay': 1.0425837395802152e-06}. Best is trial 5 with value: 40.48281759596054.\n"
     ]
    },
    {
     "name": "stdout",
     "output_type": "stream",
     "text": [
      "No improvement for 2 epoch(s).\n",
      "\n",
      "--- Train/Validation Summary ---\n",
      "mean_train_rmse: 25.2909\n",
      "mean_val_rmse: 40.5571\n",
      "mean_train_avg_mse: 639.6295\n",
      "mean_val_avg_mse: 1644.8749\n",
      "Using standard train/validation approach instead of k-fold.\n"
     ]
    },
    {
     "data": {
      "application/vnd.jupyter.widget-view+json": {
       "model_id": "c2995f040832441cadaae71f33e4b1fc",
       "version_major": 2,
       "version_minor": 0
      },
      "text/plain": [
       "Training:   0%|          | 0/50 [00:00<?, ?batch/s]"
      ]
     },
     "metadata": {},
     "output_type": "display_data"
    },
    {
     "name": "stderr",
     "output_type": "stream",
     "text": [
      "[I 2025-01-13 19:17:51,670] Trial 13 finished with value: 39.64343333568152 and parameters: {'nhead': 4, 'd_model': 96, 'dim_feedforward': 384, 'num_layers': 2, 'dropout': 0.2150458558760363, 'lr': 0.0032570619218285552, 'weight_decay': 7.63946690705339e-06}. Best is trial 13 with value: 39.64343333568152.\n"
     ]
    },
    {
     "name": "stdout",
     "output_type": "stream",
     "text": [
      "\n",
      "--- Train/Validation Summary ---\n",
      "mean_train_rmse: 36.7444\n",
      "mean_val_rmse: 39.6434\n",
      "mean_train_avg_mse: 1350.1475\n",
      "mean_val_avg_mse: 1571.6018\n",
      "Using standard train/validation approach instead of k-fold.\n"
     ]
    },
    {
     "data": {
      "application/vnd.jupyter.widget-view+json": {
       "model_id": "579328033c774862af480effd6574854",
       "version_major": 2,
       "version_minor": 0
      },
      "text/plain": [
       "Training:   0%|          | 0/50 [00:00<?, ?batch/s]"
      ]
     },
     "metadata": {},
     "output_type": "display_data"
    },
    {
     "name": "stdout",
     "output_type": "stream",
     "text": [
      "No improvement for 1 epoch(s).\n"
     ]
    },
    {
     "name": "stderr",
     "output_type": "stream",
     "text": [
      "[I 2025-01-13 19:18:54,714] Trial 14 finished with value: 38.15605324734285 and parameters: {'nhead': 4, 'd_model': 96, 'dim_feedforward': 384, 'num_layers': 1, 'dropout': 0.20707069295504554, 'lr': 0.003593050192408803, 'weight_decay': 8.434885613568983e-06}. Best is trial 14 with value: 38.15605324734285.\n"
     ]
    },
    {
     "name": "stdout",
     "output_type": "stream",
     "text": [
      "No improvement for 1 epoch(s).\n",
      "\n",
      "--- Train/Validation Summary ---\n",
      "mean_train_rmse: 34.0555\n",
      "mean_val_rmse: 38.1561\n",
      "mean_train_avg_mse: 1159.7792\n",
      "mean_val_avg_mse: 1455.8844\n",
      "Using standard train/validation approach instead of k-fold.\n"
     ]
    },
    {
     "data": {
      "application/vnd.jupyter.widget-view+json": {
       "model_id": "8615eb1d5b6545dbb5b87f18f3950aed",
       "version_major": 2,
       "version_minor": 0
      },
      "text/plain": [
       "Training:   0%|          | 0/50 [00:00<?, ?batch/s]"
      ]
     },
     "metadata": {},
     "output_type": "display_data"
    },
    {
     "name": "stderr",
     "output_type": "stream",
     "text": [
      "[I 2025-01-13 19:19:58,843] Trial 15 finished with value: 52.51319821081292 and parameters: {'nhead': 4, 'd_model': 96, 'dim_feedforward': 384, 'num_layers': 1, 'dropout': 0.206157444643497, 'lr': 0.002793332299228273, 'weight_decay': 1.168778701871031e-05}. Best is trial 14 with value: 38.15605324734285.\n"
     ]
    },
    {
     "name": "stdout",
     "output_type": "stream",
     "text": [
      "\n",
      "--- Train/Validation Summary ---\n",
      "mean_train_rmse: 53.3896\n",
      "mean_val_rmse: 52.5132\n",
      "mean_train_avg_mse: 2850.4458\n",
      "mean_val_avg_mse: 2757.6360\n",
      "Using standard train/validation approach instead of k-fold.\n"
     ]
    },
    {
     "data": {
      "application/vnd.jupyter.widget-view+json": {
       "model_id": "059707a254724667ad991203f8fd3559",
       "version_major": 2,
       "version_minor": 0
      },
      "text/plain": [
       "Training:   0%|          | 0/50 [00:00<?, ?batch/s]"
      ]
     },
     "metadata": {},
     "output_type": "display_data"
    },
    {
     "name": "stderr",
     "output_type": "stream",
     "text": [
      "[I 2025-01-13 19:21:01,104] Trial 16 finished with value: 99.64725872734783 and parameters: {'nhead': 2, 'd_model': 32, 'dim_feedforward': 384, 'num_layers': 1, 'dropout': 0.19694281871132538, 'lr': 0.0006964695888488414, 'weight_decay': 8.310273343589129e-06}. Best is trial 14 with value: 38.15605324734285.\n"
     ]
    },
    {
     "name": "stdout",
     "output_type": "stream",
     "text": [
      "\n",
      "--- Train/Validation Summary ---\n",
      "mean_train_rmse: 98.3567\n",
      "mean_val_rmse: 99.6473\n",
      "mean_train_avg_mse: 9674.0449\n",
      "mean_val_avg_mse: 9929.5762\n",
      "Using standard train/validation approach instead of k-fold.\n"
     ]
    },
    {
     "data": {
      "application/vnd.jupyter.widget-view+json": {
       "model_id": "f8d1078c710242928c5c160ff4bd4ef9",
       "version_major": 2,
       "version_minor": 0
      },
      "text/plain": [
       "Training:   0%|          | 0/50 [00:00<?, ?batch/s]"
      ]
     },
     "metadata": {},
     "output_type": "display_data"
    },
    {
     "name": "stdout",
     "output_type": "stream",
     "text": [
      "No improvement for 1 epoch(s).\n"
     ]
    },
    {
     "name": "stderr",
     "output_type": "stream",
     "text": [
      "[I 2025-01-13 19:22:04,167] Trial 17 finished with value: 37.46244864652803 and parameters: {'nhead': 4, 'd_model': 96, 'dim_feedforward': 256, 'num_layers': 1, 'dropout': 0.39544490160263673, 'lr': 0.0038097481639554147, 'weight_decay': 2.2210070832829056e-05}. Best is trial 17 with value: 37.46244864652803.\n"
     ]
    },
    {
     "name": "stdout",
     "output_type": "stream",
     "text": [
      "\n",
      "--- Train/Validation Summary ---\n",
      "mean_train_rmse: 33.4768\n",
      "mean_val_rmse: 37.4624\n",
      "mean_train_avg_mse: 1120.6992\n",
      "mean_val_avg_mse: 1403.4351\n",
      "Using standard train/validation approach instead of k-fold.\n"
     ]
    },
    {
     "data": {
      "application/vnd.jupyter.widget-view+json": {
       "model_id": "1d05c8f049c446e29ab4ba729b082ba3",
       "version_major": 2,
       "version_minor": 0
      },
      "text/plain": [
       "Training:   0%|          | 0/50 [00:00<?, ?batch/s]"
      ]
     },
     "metadata": {},
     "output_type": "display_data"
    },
    {
     "name": "stderr",
     "output_type": "stream",
     "text": [
      "[I 2025-01-13 19:23:06,359] Trial 18 finished with value: 79.02934396179212 and parameters: {'nhead': 4, 'd_model': 96, 'dim_feedforward': 192, 'num_layers': 1, 'dropout': 0.39203099879513487, 'lr': 0.0015466572086002607, 'weight_decay': 2.5810653129671943e-05}. Best is trial 17 with value: 37.46244864652803.\n"
     ]
    },
    {
     "name": "stdout",
     "output_type": "stream",
     "text": [
      "\n",
      "--- Train/Validation Summary ---\n",
      "mean_train_rmse: 79.3542\n",
      "mean_val_rmse: 79.0293\n",
      "mean_train_avg_mse: 6297.0918\n",
      "mean_val_avg_mse: 6245.6372\n",
      "Using standard train/validation approach instead of k-fold.\n"
     ]
    },
    {
     "data": {
      "application/vnd.jupyter.widget-view+json": {
       "model_id": "371d0bece2784171b6507b6edd42b65c",
       "version_major": 2,
       "version_minor": 0
      },
      "text/plain": [
       "Training:   0%|          | 0/50 [00:00<?, ?batch/s]"
      ]
     },
     "metadata": {},
     "output_type": "display_data"
    },
    {
     "name": "stderr",
     "output_type": "stream",
     "text": [
      "[I 2025-01-13 19:24:08,534] Trial 19 finished with value: 84.70778412522813 and parameters: {'nhead': 2, 'd_model': 32, 'dim_feedforward': 256, 'num_layers': 1, 'dropout': 0.3947565385693864, 'lr': 0.0044616960525897115, 'weight_decay': 1.6983950992758717e-05}. Best is trial 17 with value: 37.46244864652803.\n"
     ]
    },
    {
     "name": "stdout",
     "output_type": "stream",
     "text": [
      "\n",
      "--- Train/Validation Summary ---\n",
      "mean_train_rmse: 84.1291\n",
      "mean_val_rmse: 84.7078\n",
      "mean_train_avg_mse: 7077.7095\n",
      "mean_val_avg_mse: 7175.4087\n",
      "Using standard train/validation approach instead of k-fold.\n"
     ]
    },
    {
     "data": {
      "application/vnd.jupyter.widget-view+json": {
       "model_id": "d7703e2d2a54433193c8eb9d4890e688",
       "version_major": 2,
       "version_minor": 0
      },
      "text/plain": [
       "Training:   0%|          | 0/50 [00:00<?, ?batch/s]"
      ]
     },
     "metadata": {},
     "output_type": "display_data"
    },
    {
     "name": "stderr",
     "output_type": "stream",
     "text": [
      "[I 2025-01-13 19:25:12,358] Trial 20 finished with value: 101.13613871751036 and parameters: {'nhead': 4, 'd_model': 96, 'dim_feedforward': 256, 'num_layers': 1, 'dropout': 0.40991953695220246, 'lr': 0.00010554337296807177, 'weight_decay': 4.384833459934987e-05}. Best is trial 17 with value: 37.46244864652803.\n"
     ]
    },
    {
     "name": "stdout",
     "output_type": "stream",
     "text": [
      "\n",
      "--- Train/Validation Summary ---\n",
      "mean_train_rmse: 99.8171\n",
      "mean_val_rmse: 101.1361\n",
      "mean_train_avg_mse: 9963.4512\n",
      "mean_val_avg_mse: 10228.5186\n",
      "Using standard train/validation approach instead of k-fold.\n"
     ]
    },
    {
     "data": {
      "application/vnd.jupyter.widget-view+json": {
       "model_id": "0214475f95ad43289589628427f19bc7",
       "version_major": 2,
       "version_minor": 0
      },
      "text/plain": [
       "Training:   0%|          | 0/50 [00:00<?, ?batch/s]"
      ]
     },
     "metadata": {},
     "output_type": "display_data"
    },
    {
     "name": "stdout",
     "output_type": "stream",
     "text": [
      "No improvement for 1 epoch(s).\n",
      "No improvement for 1 epoch(s).\n"
     ]
    },
    {
     "name": "stderr",
     "output_type": "stream",
     "text": [
      "[I 2025-01-13 19:26:15,357] Trial 21 finished with value: 36.96995520541815 and parameters: {'nhead': 4, 'd_model': 96, 'dim_feedforward': 448, 'num_layers': 2, 'dropout': 0.2494789834658099, 'lr': 0.00371499436984857, 'weight_decay': 7.92013340927943e-06}. Best is trial 21 with value: 36.96995520541815.\n"
     ]
    },
    {
     "name": "stdout",
     "output_type": "stream",
     "text": [
      "No improvement for 2 epoch(s).\n",
      "\n",
      "--- Train/Validation Summary ---\n",
      "mean_train_rmse: 31.7776\n",
      "mean_val_rmse: 36.9700\n",
      "mean_train_avg_mse: 1009.8188\n",
      "mean_val_avg_mse: 1366.7776\n",
      "Using standard train/validation approach instead of k-fold.\n"
     ]
    },
    {
     "data": {
      "application/vnd.jupyter.widget-view+json": {
       "model_id": "352aefff8c194ae996daa31591db1114",
       "version_major": 2,
       "version_minor": 0
      },
      "text/plain": [
       "Training:   0%|          | 0/50 [00:00<?, ?batch/s]"
      ]
     },
     "metadata": {},
     "output_type": "display_data"
    },
    {
     "name": "stderr",
     "output_type": "stream",
     "text": [
      "[I 2025-01-13 19:27:18,518] Trial 22 finished with value: 71.13705755111923 and parameters: {'nhead': 4, 'd_model': 96, 'dim_feedforward': 448, 'num_layers': 1, 'dropout': 0.24774304022633067, 'lr': 0.001717707020350931, 'weight_decay': 1.61936784697257e-05}. Best is trial 21 with value: 36.96995520541815.\n"
     ]
    },
    {
     "name": "stdout",
     "output_type": "stream",
     "text": [
      "\n",
      "--- Train/Validation Summary ---\n",
      "mean_train_rmse: 71.2551\n",
      "mean_val_rmse: 71.1371\n",
      "mean_train_avg_mse: 5077.2856\n",
      "mean_val_avg_mse: 5060.4810\n",
      "Using standard train/validation approach instead of k-fold.\n"
     ]
    },
    {
     "data": {
      "application/vnd.jupyter.widget-view+json": {
       "model_id": "6b9d589eccd94ef691e593b4cd1fdda1",
       "version_major": 2,
       "version_minor": 0
      },
      "text/plain": [
       "Training:   0%|          | 0/50 [00:00<?, ?batch/s]"
      ]
     },
     "metadata": {},
     "output_type": "display_data"
    },
    {
     "name": "stdout",
     "output_type": "stream",
     "text": [
      "No improvement for 1 epoch(s).\n",
      "No improvement for 1 epoch(s).\n",
      "No improvement for 2 epoch(s).\n",
      "No improvement for 3 epoch(s).\n"
     ]
    },
    {
     "name": "stderr",
     "output_type": "stream",
     "text": [
      "[I 2025-01-13 19:28:22,858] Trial 23 finished with value: 40.465014004673684 and parameters: {'nhead': 4, 'd_model': 96, 'dim_feedforward': 192, 'num_layers': 2, 'dropout': 0.3462300876778299, 'lr': 0.004201757138323948, 'weight_decay': 3.836473117919386e-05}. Best is trial 21 with value: 36.96995520541815.\n"
     ]
    },
    {
     "name": "stdout",
     "output_type": "stream",
     "text": [
      "No improvement for 1 epoch(s).\n",
      "\n",
      "--- Train/Validation Summary ---\n",
      "mean_train_rmse: 34.8622\n",
      "mean_val_rmse: 40.4650\n",
      "mean_train_avg_mse: 1215.3716\n",
      "mean_val_avg_mse: 1637.4174\n",
      "Using standard train/validation approach instead of k-fold.\n"
     ]
    },
    {
     "data": {
      "application/vnd.jupyter.widget-view+json": {
       "model_id": "4c3511fc8f2340158651b9bf5a4ebb13",
       "version_major": 2,
       "version_minor": 0
      },
      "text/plain": [
       "Training:   0%|          | 0/50 [00:00<?, ?batch/s]"
      ]
     },
     "metadata": {},
     "output_type": "display_data"
    },
    {
     "name": "stderr",
     "output_type": "stream",
     "text": [
      "[I 2025-01-13 19:29:24,967] Trial 24 finished with value: 98.48293594260379 and parameters: {'nhead': 2, 'd_model': 48, 'dim_feedforward': 448, 'num_layers': 1, 'dropout': 0.17816418333861875, 'lr': 0.0008598426872425167, 'weight_decay': 7.96229460008353e-06}. Best is trial 21 with value: 36.96995520541815.\n"
     ]
    },
    {
     "name": "stdout",
     "output_type": "stream",
     "text": [
      "\n",
      "--- Train/Validation Summary ---\n",
      "mean_train_rmse: 97.3071\n",
      "mean_val_rmse: 98.4829\n",
      "mean_train_avg_mse: 9468.6709\n",
      "mean_val_avg_mse: 9698.8887\n",
      "Using standard train/validation approach instead of k-fold.\n"
     ]
    },
    {
     "data": {
      "application/vnd.jupyter.widget-view+json": {
       "model_id": "aad46ebd468f4fa8b115f9138942fcdf",
       "version_major": 2,
       "version_minor": 0
      },
      "text/plain": [
       "Training:   0%|          | 0/50 [00:00<?, ?batch/s]"
      ]
     },
     "metadata": {},
     "output_type": "display_data"
    },
    {
     "name": "stderr",
     "output_type": "stream",
     "text": [
      "[I 2025-01-13 19:30:28,279] Trial 25 finished with value: 51.37359810283148 and parameters: {'nhead': 4, 'd_model': 96, 'dim_feedforward': 384, 'num_layers': 3, 'dropout': 0.2432770721117787, 'lr': 0.0024006510450058, 'weight_decay': 3.986831785993688e-06}. Best is trial 21 with value: 36.96995520541815.\n"
     ]
    },
    {
     "name": "stdout",
     "output_type": "stream",
     "text": [
      "\n",
      "--- Train/Validation Summary ---\n",
      "mean_train_rmse: 50.8536\n",
      "mean_val_rmse: 51.3736\n",
      "mean_train_avg_mse: 2586.0898\n",
      "mean_val_avg_mse: 2639.2466\n",
      "Using standard train/validation approach instead of k-fold.\n"
     ]
    },
    {
     "data": {
      "application/vnd.jupyter.widget-view+json": {
       "model_id": "909ad7b8a8694f7a8eb009b8365b9f57",
       "version_major": 2,
       "version_minor": 0
      },
      "text/plain": [
       "Training:   0%|          | 0/50 [00:00<?, ?batch/s]"
      ]
     },
     "metadata": {},
     "output_type": "display_data"
    },
    {
     "name": "stdout",
     "output_type": "stream",
     "text": [
      "No improvement for 1 epoch(s).\n",
      "No improvement for 2 epoch(s).\n",
      "No improvement for 3 epoch(s).\n",
      "No improvement for 1 epoch(s).\n",
      "No improvement for 2 epoch(s).\n",
      "No improvement for 3 epoch(s).\n",
      "No improvement for 4 epoch(s).\n"
     ]
    },
    {
     "name": "stderr",
     "output_type": "stream",
     "text": [
      "[I 2025-01-13 19:31:29,494] Trial 26 finished with value: 41.57502895039957 and parameters: {'nhead': 4, 'd_model': 96, 'dim_feedforward': 256, 'num_layers': 2, 'dropout': 0.16375090205269927, 'lr': 0.0048653907242023975, 'weight_decay': 1.146229446822895e-05}. Best is trial 21 with value: 36.96995520541815.\n"
     ]
    },
    {
     "name": "stdout",
     "output_type": "stream",
     "text": [
      "No improvement for 1 epoch(s).\n",
      "\n",
      "--- Train/Validation Summary ---\n",
      "mean_train_rmse: 29.2331\n",
      "mean_val_rmse: 41.5750\n",
      "mean_train_avg_mse: 854.5765\n",
      "mean_val_avg_mse: 1728.4830\n",
      "Using standard train/validation approach instead of k-fold.\n"
     ]
    },
    {
     "data": {
      "application/vnd.jupyter.widget-view+json": {
       "model_id": "74daba376b98471ca22e5a74f30e0a3e",
       "version_major": 2,
       "version_minor": 0
      },
      "text/plain": [
       "Training:   0%|          | 0/50 [00:00<?, ?batch/s]"
      ]
     },
     "metadata": {},
     "output_type": "display_data"
    },
    {
     "name": "stderr",
     "output_type": "stream",
     "text": [
      "[I 2025-01-13 19:32:28,416] Trial 27 finished with value: 98.40165021799685 and parameters: {'nhead': 2, 'd_model': 32, 'dim_feedforward': 448, 'num_layers': 1, 'dropout': 0.36298229068999993, 'lr': 0.0012339283119189813, 'weight_decay': 1.8645704202413428e-05}. Best is trial 21 with value: 36.96995520541815.\n"
     ]
    },
    {
     "name": "stdout",
     "output_type": "stream",
     "text": [
      "\n",
      "--- Train/Validation Summary ---\n",
      "mean_train_rmse: 97.3743\n",
      "mean_val_rmse: 98.4017\n",
      "mean_train_avg_mse: 9481.7607\n",
      "mean_val_avg_mse: 9682.8848\n",
      "Using standard train/validation approach instead of k-fold.\n"
     ]
    },
    {
     "data": {
      "application/vnd.jupyter.widget-view+json": {
       "model_id": "077f56f5dec24a27b916a0f7931eaa38",
       "version_major": 2,
       "version_minor": 0
      },
      "text/plain": [
       "Training:   0%|          | 0/50 [00:00<?, ?batch/s]"
      ]
     },
     "metadata": {},
     "output_type": "display_data"
    },
    {
     "name": "stdout",
     "output_type": "stream",
     "text": [
      "No improvement for 1 epoch(s).\n",
      "No improvement for 2 epoch(s).\n",
      "No improvement for 3 epoch(s).\n",
      "No improvement for 1 epoch(s).\n",
      "No improvement for 2 epoch(s).\n",
      "No improvement for 1 epoch(s).\n",
      "No improvement for 2 epoch(s).\n",
      "No improvement for 3 epoch(s).\n",
      "No improvement for 1 epoch(s).\n",
      "No improvement for 2 epoch(s).\n",
      "No improvement for 3 epoch(s).\n"
     ]
    },
    {
     "name": "stderr",
     "output_type": "stream",
     "text": [
      "[I 2025-01-13 19:33:29,029] Trial 28 finished with value: 36.289761329385314 and parameters: {'nhead': 4, 'd_model': 96, 'dim_feedforward': 128, 'num_layers': 1, 'dropout': 0.43062542199764076, 'lr': 0.005304954591011702, 'weight_decay': 3.059991194075941e-06}. Best is trial 28 with value: 36.289761329385314.\n"
     ]
    },
    {
     "name": "stdout",
     "output_type": "stream",
     "text": [
      "No improvement for 4 epoch(s).\n",
      "\n",
      "--- Train/Validation Summary ---\n",
      "mean_train_rmse: 29.7892\n",
      "mean_val_rmse: 36.2898\n",
      "mean_train_avg_mse: 887.3990\n",
      "mean_val_avg_mse: 1316.9468\n",
      "Using standard train/validation approach instead of k-fold.\n"
     ]
    },
    {
     "data": {
      "application/vnd.jupyter.widget-view+json": {
       "model_id": "822fa9568af24042990183f0a2133686",
       "version_major": 2,
       "version_minor": 0
      },
      "text/plain": [
       "Training:   0%|          | 0/50 [00:00<?, ?batch/s]"
      ]
     },
     "metadata": {},
     "output_type": "display_data"
    },
    {
     "name": "stdout",
     "output_type": "stream",
     "text": [
      "No improvement for 1 epoch(s).\n",
      "No improvement for 2 epoch(s).\n",
      "No improvement for 3 epoch(s).\n",
      "No improvement for 4 epoch(s).\n",
      "No improvement for 5 epoch(s).\n",
      "No improvement for 6 epoch(s).\n",
      "No improvement for 7 epoch(s).\n",
      "No improvement for 8 epoch(s).\n",
      "No improvement for 9 epoch(s).\n"
     ]
    },
    {
     "name": "stderr",
     "output_type": "stream",
     "text": [
      "[I 2025-01-13 19:34:04,088] Trial 29 finished with value: 77.81077119063433 and parameters: {'nhead': 6, 'd_model': 144, 'dim_feedforward': 128, 'num_layers': 3, 'dropout': 0.29554592526376344, 'lr': 0.006948293153742428, 'weight_decay': 2.133984257394093e-06}. Best is trial 28 with value: 36.289761329385314.\n"
     ]
    },
    {
     "name": "stdout",
     "output_type": "stream",
     "text": [
      "No improvement for 10 epoch(s).\n",
      "Early stopping triggered.\n",
      "Early stopping at epoch 28\n",
      "\n",
      "--- Train/Validation Summary ---\n",
      "mean_train_rmse: 42.8760\n",
      "mean_val_rmse: 77.8108\n",
      "mean_train_avg_mse: 1838.3536\n",
      "mean_val_avg_mse: 6054.5161\n",
      "Using standard train/validation approach instead of k-fold.\n"
     ]
    },
    {
     "data": {
      "application/vnd.jupyter.widget-view+json": {
       "model_id": "493561943a1149f994fd83c9ce4bb00e",
       "version_major": 2,
       "version_minor": 0
      },
      "text/plain": [
       "Training:   0%|          | 0/50 [00:00<?, ?batch/s]"
      ]
     },
     "metadata": {},
     "output_type": "display_data"
    },
    {
     "name": "stderr",
     "output_type": "stream",
     "text": [
      "[I 2025-01-13 19:35:07,376] Trial 30 finished with value: 41.28497570242715 and parameters: {'nhead': 2, 'd_model': 48, 'dim_feedforward': 128, 'num_layers': 2, 'dropout': 0.4400022936794569, 'lr': 0.005672265055816298, 'weight_decay': 3.148868163791272e-06}. Best is trial 28 with value: 36.289761329385314.\n"
     ]
    },
    {
     "name": "stdout",
     "output_type": "stream",
     "text": [
      "\n",
      "--- Train/Validation Summary ---\n",
      "mean_train_rmse: 44.0156\n",
      "mean_val_rmse: 41.2850\n",
      "mean_train_avg_mse: 1937.3771\n",
      "mean_val_avg_mse: 1704.4492\n",
      "Using standard train/validation approach instead of k-fold.\n"
     ]
    },
    {
     "data": {
      "application/vnd.jupyter.widget-view+json": {
       "model_id": "af5d642f3d8c457986647a5357dec6c8",
       "version_major": 2,
       "version_minor": 0
      },
      "text/plain": [
       "Training:   0%|          | 0/50 [00:00<?, ?batch/s]"
      ]
     },
     "metadata": {},
     "output_type": "display_data"
    },
    {
     "name": "stdout",
     "output_type": "stream",
     "text": [
      "No improvement for 1 epoch(s).\n",
      "No improvement for 2 epoch(s).\n"
     ]
    },
    {
     "name": "stderr",
     "output_type": "stream",
     "text": [
      "[I 2025-01-13 19:36:10,799] Trial 31 finished with value: 34.41191377372541 and parameters: {'nhead': 4, 'd_model': 96, 'dim_feedforward': 192, 'num_layers': 1, 'dropout': 0.4333827218510093, 'lr': 0.003895180196123437, 'weight_decay': 6.638328586838593e-06}. Best is trial 31 with value: 34.41191377372541.\n"
     ]
    },
    {
     "name": "stdout",
     "output_type": "stream",
     "text": [
      "\n",
      "--- Train/Validation Summary ---\n",
      "mean_train_rmse: 32.0327\n",
      "mean_val_rmse: 34.4119\n",
      "mean_train_avg_mse: 1026.0968\n",
      "mean_val_avg_mse: 1184.1798\n",
      "Using standard train/validation approach instead of k-fold.\n"
     ]
    },
    {
     "data": {
      "application/vnd.jupyter.widget-view+json": {
       "model_id": "d0def991ea294941a20c02aa81dbc76f",
       "version_major": 2,
       "version_minor": 0
      },
      "text/plain": [
       "Training:   0%|          | 0/50 [00:00<?, ?batch/s]"
      ]
     },
     "metadata": {},
     "output_type": "display_data"
    },
    {
     "name": "stderr",
     "output_type": "stream",
     "text": [
      "[I 2025-01-13 19:37:14,264] Trial 32 finished with value: 69.01840716318908 and parameters: {'nhead': 4, 'd_model': 96, 'dim_feedforward': 192, 'num_layers': 1, 'dropout': 0.4256381742037442, 'lr': 0.002168878606451331, 'weight_decay': 5.194921197245779e-06}. Best is trial 31 with value: 34.41191377372541.\n"
     ]
    },
    {
     "name": "stdout",
     "output_type": "stream",
     "text": [
      "\n",
      "--- Train/Validation Summary ---\n",
      "mean_train_rmse: 70.4501\n",
      "mean_val_rmse: 69.0184\n",
      "mean_train_avg_mse: 4963.2217\n",
      "mean_val_avg_mse: 4763.5405\n",
      "Using standard train/validation approach instead of k-fold.\n"
     ]
    },
    {
     "data": {
      "application/vnd.jupyter.widget-view+json": {
       "model_id": "771bbfd3854f4b1caa62ab33e339193d",
       "version_major": 2,
       "version_minor": 0
      },
      "text/plain": [
       "Training:   0%|          | 0/50 [00:00<?, ?batch/s]"
      ]
     },
     "metadata": {},
     "output_type": "display_data"
    },
    {
     "name": "stdout",
     "output_type": "stream",
     "text": [
      "No improvement for 1 epoch(s).\n",
      "No improvement for 2 epoch(s).\n",
      "No improvement for 3 epoch(s).\n",
      "No improvement for 4 epoch(s).\n",
      "No improvement for 5 epoch(s).\n",
      "No improvement for 6 epoch(s).\n",
      "No improvement for 7 epoch(s).\n",
      "No improvement for 8 epoch(s).\n",
      "No improvement for 9 epoch(s).\n"
     ]
    },
    {
     "name": "stderr",
     "output_type": "stream",
     "text": [
      "[I 2025-01-13 19:37:57,293] Trial 33 finished with value: 46.84153753531021 and parameters: {'nhead': 4, 'd_model': 96, 'dim_feedforward': 128, 'num_layers': 1, 'dropout': 0.44611952278141864, 'lr': 0.009362894131183661, 'weight_decay': 1.6776351947759836e-06}. Best is trial 31 with value: 34.41191377372541.\n"
     ]
    },
    {
     "name": "stdout",
     "output_type": "stream",
     "text": [
      "No improvement for 10 epoch(s).\n",
      "Early stopping triggered.\n",
      "Early stopping at epoch 36\n",
      "\n",
      "--- Train/Validation Summary ---\n",
      "mean_train_rmse: 37.0136\n",
      "mean_val_rmse: 46.8415\n",
      "mean_train_avg_mse: 1370.0042\n",
      "mean_val_avg_mse: 2194.1296\n",
      "Using standard train/validation approach instead of k-fold.\n"
     ]
    },
    {
     "data": {
      "application/vnd.jupyter.widget-view+json": {
       "model_id": "604cbd7d9f9b4a9d92757413f9307930",
       "version_major": 2,
       "version_minor": 0
      },
      "text/plain": [
       "Training:   0%|          | 0/50 [00:00<?, ?batch/s]"
      ]
     },
     "metadata": {},
     "output_type": "display_data"
    },
    {
     "name": "stdout",
     "output_type": "stream",
     "text": [
      "No improvement for 1 epoch(s).\n",
      "No improvement for 2 epoch(s).\n",
      "No improvement for 3 epoch(s).\n",
      "No improvement for 4 epoch(s).\n",
      "No improvement for 5 epoch(s).\n",
      "No improvement for 6 epoch(s).\n",
      "No improvement for 7 epoch(s).\n",
      "No improvement for 8 epoch(s).\n",
      "No improvement for 9 epoch(s).\n"
     ]
    },
    {
     "name": "stderr",
     "output_type": "stream",
     "text": [
      "[I 2025-01-13 19:38:52,112] Trial 34 finished with value: 37.904984392515914 and parameters: {'nhead': 4, 'd_model': 96, 'dim_feedforward': 192, 'num_layers': 1, 'dropout': 0.4964634727292341, 'lr': 0.005255556595506424, 'weight_decay': 3.5685764421213768e-06}. Best is trial 31 with value: 34.41191377372541.\n"
     ]
    },
    {
     "name": "stdout",
     "output_type": "stream",
     "text": [
      "No improvement for 10 epoch(s).\n",
      "Early stopping triggered.\n",
      "Early stopping at epoch 45\n",
      "\n",
      "--- Train/Validation Summary ---\n",
      "mean_train_rmse: 33.4702\n",
      "mean_val_rmse: 37.9050\n",
      "mean_train_avg_mse: 1120.2511\n",
      "mean_val_avg_mse: 1436.7878\n",
      "Using standard train/validation approach instead of k-fold.\n"
     ]
    },
    {
     "data": {
      "application/vnd.jupyter.widget-view+json": {
       "model_id": "555d1e29b4c342618ade3c66d79db41f",
       "version_major": 2,
       "version_minor": 0
      },
      "text/plain": [
       "Training:   0%|          | 0/50 [00:00<?, ?batch/s]"
      ]
     },
     "metadata": {},
     "output_type": "display_data"
    },
    {
     "name": "stderr",
     "output_type": "stream",
     "text": [
      "[I 2025-01-13 19:39:56,064] Trial 35 finished with value: 42.046226130723525 and parameters: {'nhead': 6, 'd_model': 144, 'dim_feedforward': 128, 'num_layers': 2, 'dropout': 0.37002985524707, 'lr': 0.0023398078052391347, 'weight_decay': 6.0142515154133205e-06}. Best is trial 31 with value: 34.41191377372541.\n"
     ]
    },
    {
     "name": "stdout",
     "output_type": "stream",
     "text": [
      "\n",
      "--- Train/Validation Summary ---\n",
      "mean_train_rmse: 40.7621\n",
      "mean_val_rmse: 42.0462\n",
      "mean_train_avg_mse: 1661.5524\n",
      "mean_val_avg_mse: 1767.8851\n",
      "Using standard train/validation approach instead of k-fold.\n"
     ]
    },
    {
     "data": {
      "application/vnd.jupyter.widget-view+json": {
       "model_id": "bfde7d241e60495ab3683fe48c959cba",
       "version_major": 2,
       "version_minor": 0
      },
      "text/plain": [
       "Training:   0%|          | 0/50 [00:00<?, ?batch/s]"
      ]
     },
     "metadata": {},
     "output_type": "display_data"
    },
    {
     "name": "stderr",
     "output_type": "stream",
     "text": [
      "[I 2025-01-13 19:40:59,096] Trial 36 finished with value: 57.80544931667883 and parameters: {'nhead': 2, 'd_model': 64, 'dim_feedforward': 192, 'num_layers': 1, 'dropout': 0.30960557094659025, 'lr': 0.003874997153737424, 'weight_decay': 3.3607201757331686e-05}. Best is trial 31 with value: 34.41191377372541.\n"
     ]
    },
    {
     "name": "stdout",
     "output_type": "stream",
     "text": [
      "\n",
      "--- Train/Validation Summary ---\n",
      "mean_train_rmse: 58.6612\n",
      "mean_val_rmse: 57.8054\n",
      "mean_train_avg_mse: 3441.1411\n",
      "mean_val_avg_mse: 3341.4700\n",
      "Using standard train/validation approach instead of k-fold.\n"
     ]
    },
    {
     "data": {
      "application/vnd.jupyter.widget-view+json": {
       "model_id": "d41a6f2ac2a64ba8a7d226c7e44badf6",
       "version_major": 2,
       "version_minor": 0
      },
      "text/plain": [
       "Training:   0%|          | 0/50 [00:00<?, ?batch/s]"
      ]
     },
     "metadata": {},
     "output_type": "display_data"
    },
    {
     "name": "stdout",
     "output_type": "stream",
     "text": [
      "No improvement for 1 epoch(s).\n",
      "No improvement for 2 epoch(s).\n",
      "No improvement for 3 epoch(s).\n",
      "No improvement for 4 epoch(s).\n",
      "No improvement for 5 epoch(s).\n",
      "No improvement for 6 epoch(s).\n",
      "No improvement for 7 epoch(s).\n",
      "No improvement for 8 epoch(s).\n",
      "No improvement for 9 epoch(s).\n"
     ]
    },
    {
     "name": "stderr",
     "output_type": "stream",
     "text": [
      "[I 2025-01-13 19:41:43,682] Trial 37 finished with value: 45.1648753656741 and parameters: {'nhead': 4, 'd_model': 96, 'dim_feedforward': 256, 'num_layers': 2, 'dropout': 0.28013268684757586, 'lr': 0.007039533968929951, 'weight_decay': 6.469775789035523e-06}. Best is trial 31 with value: 34.41191377372541.\n"
     ]
    },
    {
     "name": "stdout",
     "output_type": "stream",
     "text": [
      "No improvement for 10 epoch(s).\n",
      "Early stopping triggered.\n",
      "Early stopping at epoch 36\n",
      "\n",
      "--- Train/Validation Summary ---\n",
      "mean_train_rmse: 40.8318\n",
      "mean_val_rmse: 45.1649\n",
      "mean_train_avg_mse: 1667.2338\n",
      "mean_val_avg_mse: 2039.8660\n",
      "Using standard train/validation approach instead of k-fold.\n"
     ]
    },
    {
     "data": {
      "application/vnd.jupyter.widget-view+json": {
       "model_id": "7004f9ada7db492e8ec4196ebfb5148a",
       "version_major": 2,
       "version_minor": 0
      },
      "text/plain": [
       "Training:   0%|          | 0/50 [00:00<?, ?batch/s]"
      ]
     },
     "metadata": {},
     "output_type": "display_data"
    },
    {
     "name": "stderr",
     "output_type": "stream",
     "text": [
      "[I 2025-01-13 19:42:47,392] Trial 38 finished with value: 98.19277615518618 and parameters: {'nhead': 4, 'd_model': 96, 'dim_feedforward': 192, 'num_layers': 1, 'dropout': 0.42169999330200736, 'lr': 0.00048785578490421013, 'weight_decay': 8.286309045592644e-05}. Best is trial 31 with value: 34.41191377372541.\n"
     ]
    },
    {
     "name": "stdout",
     "output_type": "stream",
     "text": [
      "\n",
      "--- Train/Validation Summary ---\n",
      "mean_train_rmse: 97.2736\n",
      "mean_val_rmse: 98.1928\n",
      "mean_train_avg_mse: 9462.1533\n",
      "mean_val_avg_mse: 9641.8213\n",
      "Using standard train/validation approach instead of k-fold.\n"
     ]
    },
    {
     "data": {
      "application/vnd.jupyter.widget-view+json": {
       "model_id": "fa3ab89b42f34740ae71aeccf2517663",
       "version_major": 2,
       "version_minor": 0
      },
      "text/plain": [
       "Training:   0%|          | 0/50 [00:00<?, ?batch/s]"
      ]
     },
     "metadata": {},
     "output_type": "display_data"
    },
    {
     "name": "stderr",
     "output_type": "stream",
     "text": [
      "[I 2025-01-13 19:43:52,427] Trial 39 finished with value: 69.90363065052487 and parameters: {'nhead': 6, 'd_model': 144, 'dim_feedforward': 128, 'num_layers': 4, 'dropout': 0.3846017071197403, 'lr': 0.001477875941033149, 'weight_decay': 5.078349049720768e-06}. Best is trial 31 with value: 34.41191377372541.\n"
     ]
    },
    {
     "name": "stdout",
     "output_type": "stream",
     "text": [
      "\n",
      "--- Train/Validation Summary ---\n",
      "mean_train_rmse: 69.9992\n",
      "mean_val_rmse: 69.9036\n",
      "mean_train_avg_mse: 4899.8892\n",
      "mean_val_avg_mse: 4886.5176\n",
      "Using standard train/validation approach instead of k-fold.\n"
     ]
    },
    {
     "data": {
      "application/vnd.jupyter.widget-view+json": {
       "model_id": "d7ab9a99268d452a92643579b6ba7eaf",
       "version_major": 2,
       "version_minor": 0
      },
      "text/plain": [
       "Training:   0%|          | 0/50 [00:00<?, ?batch/s]"
      ]
     },
     "metadata": {},
     "output_type": "display_data"
    },
    {
     "name": "stderr",
     "output_type": "stream",
     "text": [
      "[I 2025-01-13 19:44:57,064] Trial 40 finished with value: 47.53147857029197 and parameters: {'nhead': 4, 'd_model': 96, 'dim_feedforward': 256, 'num_layers': 2, 'dropout': 0.3253491476138439, 'lr': 0.002853627482376128, 'weight_decay': 2.7943937580308382e-06}. Best is trial 31 with value: 34.41191377372541.\n"
     ]
    },
    {
     "name": "stdout",
     "output_type": "stream",
     "text": [
      "\n",
      "--- Train/Validation Summary ---\n",
      "mean_train_rmse: 48.7972\n",
      "mean_val_rmse: 47.5315\n",
      "mean_train_avg_mse: 2381.1646\n",
      "mean_val_avg_mse: 2259.2415\n",
      "Using standard train/validation approach instead of k-fold.\n"
     ]
    },
    {
     "data": {
      "application/vnd.jupyter.widget-view+json": {
       "model_id": "06bf12b42c944f019b9bf27842dcffca",
       "version_major": 2,
       "version_minor": 0
      },
      "text/plain": [
       "Training:   0%|          | 0/50 [00:00<?, ?batch/s]"
      ]
     },
     "metadata": {},
     "output_type": "display_data"
    },
    {
     "name": "stdout",
     "output_type": "stream",
     "text": [
      "No improvement for 1 epoch(s).\n",
      "No improvement for 1 epoch(s).\n",
      "No improvement for 2 epoch(s).\n",
      "No improvement for 3 epoch(s).\n",
      "No improvement for 4 epoch(s).\n",
      "No improvement for 5 epoch(s).\n",
      "No improvement for 1 epoch(s).\n",
      "No improvement for 2 epoch(s).\n"
     ]
    },
    {
     "name": "stderr",
     "output_type": "stream",
     "text": [
      "[I 2025-01-13 19:45:59,832] Trial 41 finished with value: 36.360501365772066 and parameters: {'nhead': 4, 'd_model': 96, 'dim_feedforward': 192, 'num_layers': 1, 'dropout': 0.49700886010589984, 'lr': 0.004911517395259913, 'weight_decay': 3.725050837992479e-06}. Best is trial 31 with value: 34.41191377372541.\n"
     ]
    },
    {
     "name": "stdout",
     "output_type": "stream",
     "text": [
      "No improvement for 3 epoch(s).\n",
      "\n",
      "--- Train/Validation Summary ---\n",
      "mean_train_rmse: 35.6035\n",
      "mean_val_rmse: 36.3605\n",
      "mean_train_avg_mse: 1267.6096\n",
      "mean_val_avg_mse: 1322.0861\n",
      "Using standard train/validation approach instead of k-fold.\n"
     ]
    },
    {
     "data": {
      "application/vnd.jupyter.widget-view+json": {
       "model_id": "abe160f65f3b46c7ba40bea7f1a58f00",
       "version_major": 2,
       "version_minor": 0
      },
      "text/plain": [
       "Training:   0%|          | 0/50 [00:00<?, ?batch/s]"
      ]
     },
     "metadata": {},
     "output_type": "display_data"
    },
    {
     "name": "stdout",
     "output_type": "stream",
     "text": [
      "No improvement for 1 epoch(s).\n",
      "No improvement for 1 epoch(s).\n",
      "No improvement for 2 epoch(s).\n",
      "No improvement for 1 epoch(s).\n",
      "No improvement for 2 epoch(s).\n",
      "No improvement for 3 epoch(s).\n",
      "No improvement for 4 epoch(s).\n",
      "No improvement for 5 epoch(s).\n",
      "No improvement for 6 epoch(s).\n",
      "No improvement for 7 epoch(s).\n",
      "No improvement for 8 epoch(s).\n",
      "No improvement for 9 epoch(s).\n"
     ]
    },
    {
     "name": "stderr",
     "output_type": "stream",
     "text": [
      "[I 2025-01-13 19:46:49,984] Trial 42 finished with value: 42.419052046957624 and parameters: {'nhead': 4, 'd_model': 96, 'dim_feedforward': 192, 'num_layers': 1, 'dropout': 0.4516798267290959, 'lr': 0.00653994906509209, 'weight_decay': 4.21856592749621e-06}. Best is trial 31 with value: 34.41191377372541.\n"
     ]
    },
    {
     "name": "stdout",
     "output_type": "stream",
     "text": [
      "No improvement for 10 epoch(s).\n",
      "Early stopping triggered.\n",
      "Early stopping at epoch 41\n",
      "\n",
      "--- Train/Validation Summary ---\n",
      "mean_train_rmse: 30.1565\n",
      "mean_val_rmse: 42.4191\n",
      "mean_train_avg_mse: 909.4129\n",
      "mean_val_avg_mse: 1799.3760\n",
      "Using standard train/validation approach instead of k-fold.\n"
     ]
    },
    {
     "data": {
      "application/vnd.jupyter.widget-view+json": {
       "model_id": "bd87a077d49a4c8486342f49ddd33f31",
       "version_major": 2,
       "version_minor": 0
      },
      "text/plain": [
       "Training:   0%|          | 0/50 [00:00<?, ?batch/s]"
      ]
     },
     "metadata": {},
     "output_type": "display_data"
    },
    {
     "name": "stdout",
     "output_type": "stream",
     "text": [
      "No improvement for 1 epoch(s).\n",
      "No improvement for 1 epoch(s).\n",
      "No improvement for 2 epoch(s).\n",
      "No improvement for 1 epoch(s).\n",
      "No improvement for 2 epoch(s).\n",
      "No improvement for 3 epoch(s).\n",
      "No improvement for 1 epoch(s).\n",
      "No improvement for 2 epoch(s).\n",
      "No improvement for 3 epoch(s).\n"
     ]
    },
    {
     "name": "stderr",
     "output_type": "stream",
     "text": [
      "[I 2025-01-13 19:47:53,014] Trial 43 finished with value: 39.17270236212409 and parameters: {'nhead': 4, 'd_model': 96, 'dim_feedforward': 128, 'num_layers': 1, 'dropout': 0.48651713714518846, 'lr': 0.0046483970135019394, 'weight_decay': 2.070820871155513e-06}. Best is trial 31 with value: 34.41191377372541.\n"
     ]
    },
    {
     "name": "stdout",
     "output_type": "stream",
     "text": [
      "No improvement for 4 epoch(s).\n",
      "\n",
      "--- Train/Validation Summary ---\n",
      "mean_train_rmse: 31.3012\n",
      "mean_val_rmse: 39.1727\n",
      "mean_train_avg_mse: 979.7645\n",
      "mean_val_avg_mse: 1534.5006\n",
      "Using standard train/validation approach instead of k-fold.\n"
     ]
    },
    {
     "data": {
      "application/vnd.jupyter.widget-view+json": {
       "model_id": "c120541134dc40768755e135ed2313a1",
       "version_major": 2,
       "version_minor": 0
      },
      "text/plain": [
       "Training:   0%|          | 0/50 [00:00<?, ?batch/s]"
      ]
     },
     "metadata": {},
     "output_type": "display_data"
    },
    {
     "name": "stdout",
     "output_type": "stream",
     "text": [
      "No improvement for 1 epoch(s).\n",
      "No improvement for 1 epoch(s).\n",
      "No improvement for 2 epoch(s).\n",
      "No improvement for 3 epoch(s).\n",
      "No improvement for 4 epoch(s).\n",
      "No improvement for 5 epoch(s).\n",
      "No improvement for 6 epoch(s).\n",
      "No improvement for 7 epoch(s).\n",
      "No improvement for 8 epoch(s).\n",
      "No improvement for 9 epoch(s).\n"
     ]
    },
    {
     "name": "stderr",
     "output_type": "stream",
     "text": [
      "[I 2025-01-13 19:48:47,244] Trial 44 finished with value: 40.47733529830691 and parameters: {'nhead': 4, 'd_model': 96, 'dim_feedforward': 192, 'num_layers': 1, 'dropout': 0.4734776388388411, 'lr': 0.005632862795098952, 'weight_decay': 4.4868224506083965e-06}. Best is trial 31 with value: 34.41191377372541.\n"
     ]
    },
    {
     "name": "stdout",
     "output_type": "stream",
     "text": [
      "No improvement for 10 epoch(s).\n",
      "Early stopping triggered.\n",
      "Early stopping at epoch 45\n",
      "\n",
      "--- Train/Validation Summary ---\n",
      "mean_train_rmse: 34.5438\n",
      "mean_val_rmse: 40.4773\n",
      "mean_train_avg_mse: 1193.2729\n",
      "mean_val_avg_mse: 1638.4147\n",
      "Using standard train/validation approach instead of k-fold.\n"
     ]
    },
    {
     "data": {
      "application/vnd.jupyter.widget-view+json": {
       "model_id": "e60e213ecfaa49bfadfc8c06147719ba",
       "version_major": 2,
       "version_minor": 0
      },
      "text/plain": [
       "Training:   0%|          | 0/50 [00:00<?, ?batch/s]"
      ]
     },
     "metadata": {},
     "output_type": "display_data"
    },
    {
     "name": "stdout",
     "output_type": "stream",
     "text": [
      "No improvement for 1 epoch(s).\n",
      "No improvement for 2 epoch(s).\n",
      "No improvement for 3 epoch(s).\n",
      "No improvement for 1 epoch(s).\n",
      "No improvement for 2 epoch(s).\n",
      "No improvement for 3 epoch(s).\n",
      "No improvement for 4 epoch(s).\n",
      "No improvement for 5 epoch(s).\n",
      "No improvement for 6 epoch(s).\n",
      "No improvement for 7 epoch(s).\n",
      "No improvement for 8 epoch(s).\n",
      "No improvement for 9 epoch(s).\n"
     ]
    },
    {
     "name": "stderr",
     "output_type": "stream",
     "text": [
      "[I 2025-01-13 19:49:46,716] Trial 45 finished with value: 37.10342057491971 and parameters: {'nhead': 6, 'd_model': 144, 'dim_feedforward': 512, 'num_layers': 1, 'dropout': 0.276832185545035, 'lr': 0.0037173571129031297, 'weight_decay': 6.691344759622987e-06}. Best is trial 31 with value: 34.41191377372541.\n"
     ]
    },
    {
     "name": "stdout",
     "output_type": "stream",
     "text": [
      "No improvement for 10 epoch(s).\n",
      "Early stopping triggered.\n",
      "Early stopping at epoch 48\n",
      "\n",
      "--- Train/Validation Summary ---\n",
      "mean_train_rmse: 24.2056\n",
      "mean_val_rmse: 37.1034\n",
      "mean_train_avg_mse: 585.9094\n",
      "mean_val_avg_mse: 1376.6638\n",
      "Using standard train/validation approach instead of k-fold.\n"
     ]
    },
    {
     "data": {
      "application/vnd.jupyter.widget-view+json": {
       "model_id": "11a9055faca640399dc0a25a000df076",
       "version_major": 2,
       "version_minor": 0
      },
      "text/plain": [
       "Training:   0%|          | 0/50 [00:00<?, ?batch/s]"
      ]
     },
     "metadata": {},
     "output_type": "display_data"
    },
    {
     "name": "stdout",
     "output_type": "stream",
     "text": [
      "No improvement for 1 epoch(s).\n",
      "No improvement for 2 epoch(s).\n",
      "No improvement for 3 epoch(s).\n",
      "No improvement for 4 epoch(s).\n",
      "No improvement for 5 epoch(s).\n",
      "No improvement for 1 epoch(s).\n",
      "No improvement for 2 epoch(s).\n",
      "No improvement for 3 epoch(s).\n",
      "No improvement for 4 epoch(s).\n",
      "No improvement for 5 epoch(s).\n",
      "No improvement for 6 epoch(s).\n",
      "No improvement for 7 epoch(s).\n",
      "No improvement for 8 epoch(s).\n",
      "No improvement for 9 epoch(s).\n"
     ]
    },
    {
     "name": "stderr",
     "output_type": "stream",
     "text": [
      "[I 2025-01-13 19:50:25,753] Trial 46 finished with value: 47.33665891614817 and parameters: {'nhead': 6, 'd_model': 192, 'dim_feedforward': 512, 'num_layers': 1, 'dropout': 0.2636438184666757, 'lr': 0.007550549938518972, 'weight_decay': 9.801295860382312e-06}. Best is trial 31 with value: 34.41191377372541.\n"
     ]
    },
    {
     "name": "stdout",
     "output_type": "stream",
     "text": [
      "No improvement for 10 epoch(s).\n",
      "Early stopping triggered.\n",
      "Early stopping at epoch 32\n",
      "\n",
      "--- Train/Validation Summary ---\n",
      "mean_train_rmse: 26.8899\n",
      "mean_val_rmse: 47.3367\n",
      "mean_train_avg_mse: 723.0657\n",
      "mean_val_avg_mse: 2240.7593\n",
      "Using standard train/validation approach instead of k-fold.\n"
     ]
    },
    {
     "data": {
      "application/vnd.jupyter.widget-view+json": {
       "model_id": "224631cc108e429fbfae14fc706e8f83",
       "version_major": 2,
       "version_minor": 0
      },
      "text/plain": [
       "Training:   0%|          | 0/50 [00:00<?, ?batch/s]"
      ]
     },
     "metadata": {},
     "output_type": "display_data"
    },
    {
     "name": "stdout",
     "output_type": "stream",
     "text": [
      "No improvement for 1 epoch(s).\n",
      "No improvement for 1 epoch(s).\n",
      "No improvement for 2 epoch(s).\n"
     ]
    },
    {
     "name": "stderr",
     "output_type": "stream",
     "text": [
      "[I 2025-01-13 19:51:30,235] Trial 47 finished with value: 39.24809036954856 and parameters: {'nhead': 8, 'd_model': 192, 'dim_feedforward': 512, 'num_layers': 2, 'dropout': 0.23065469194983593, 'lr': 0.0019924546882874347, 'weight_decay': 6.268629015660241e-06}. Best is trial 31 with value: 34.41191377372541.\n"
     ]
    },
    {
     "name": "stdout",
     "output_type": "stream",
     "text": [
      "\n",
      "--- Train/Validation Summary ---\n",
      "mean_train_rmse: 34.2601\n",
      "mean_val_rmse: 39.2481\n",
      "mean_train_avg_mse: 1173.7571\n",
      "mean_val_avg_mse: 1540.4126\n",
      "Using standard train/validation approach instead of k-fold.\n"
     ]
    },
    {
     "data": {
      "application/vnd.jupyter.widget-view+json": {
       "model_id": "e0d947ce15d94354b00fe79b1b7ca12a",
       "version_major": 2,
       "version_minor": 0
      },
      "text/plain": [
       "Training:   0%|          | 0/50 [00:00<?, ?batch/s]"
      ]
     },
     "metadata": {},
     "output_type": "display_data"
    },
    {
     "name": "stdout",
     "output_type": "stream",
     "text": [
      "No improvement for 1 epoch(s).\n",
      "No improvement for 1 epoch(s).\n",
      "No improvement for 2 epoch(s).\n",
      "No improvement for 3 epoch(s).\n",
      "No improvement for 4 epoch(s).\n",
      "No improvement for 5 epoch(s).\n",
      "No improvement for 6 epoch(s).\n",
      "No improvement for 7 epoch(s).\n",
      "No improvement for 8 epoch(s).\n",
      "No improvement for 9 epoch(s).\n"
     ]
    },
    {
     "name": "stderr",
     "output_type": "stream",
     "text": [
      "[I 2025-01-13 19:52:01,900] Trial 48 finished with value: 50.28833610338361 and parameters: {'nhead': 6, 'd_model': 144, 'dim_feedforward': 512, 'num_layers': 1, 'dropout': 0.31555403322453246, 'lr': 0.009845562145309255, 'weight_decay': 1.6721714613910317e-06}. Best is trial 31 with value: 34.41191377372541.\n"
     ]
    },
    {
     "name": "stdout",
     "output_type": "stream",
     "text": [
      "No improvement for 10 epoch(s).\n",
      "Early stopping triggered.\n",
      "Early stopping at epoch 26\n",
      "\n",
      "--- Train/Validation Summary ---\n",
      "mean_train_rmse: 34.1877\n",
      "mean_val_rmse: 50.2883\n",
      "mean_train_avg_mse: 1168.7969\n",
      "mean_val_avg_mse: 2528.9167\n",
      "Using standard train/validation approach instead of k-fold.\n"
     ]
    },
    {
     "data": {
      "application/vnd.jupyter.widget-view+json": {
       "model_id": "aa38d5d3d0204261afff5bc8bddd3b67",
       "version_major": 2,
       "version_minor": 0
      },
      "text/plain": [
       "Training:   0%|          | 0/50 [00:00<?, ?batch/s]"
      ]
     },
     "metadata": {},
     "output_type": "display_data"
    },
    {
     "name": "stdout",
     "output_type": "stream",
     "text": [
      "No improvement for 1 epoch(s).\n",
      "No improvement for 2 epoch(s).\n",
      "No improvement for 3 epoch(s).\n",
      "No improvement for 4 epoch(s).\n",
      "No improvement for 1 epoch(s).\n",
      "No improvement for 2 epoch(s).\n",
      "No improvement for 1 epoch(s).\n"
     ]
    },
    {
     "name": "stderr",
     "output_type": "stream",
     "text": [
      "[I 2025-01-13 19:53:06,243] Trial 49 finished with value: 37.305668344435276 and parameters: {'nhead': 6, 'd_model': 144, 'dim_feedforward': 448, 'num_layers': 2, 'dropout': 0.27857748331799276, 'lr': 0.003234055375740396, 'weight_decay': 3.1666240823826977e-06}. Best is trial 31 with value: 34.41191377372541.\n"
     ]
    },
    {
     "name": "stdout",
     "output_type": "stream",
     "text": [
      "No improvement for 2 epoch(s).\n",
      "\n",
      "--- Train/Validation Summary ---\n",
      "mean_train_rmse: 27.9636\n",
      "mean_val_rmse: 37.3057\n",
      "mean_train_avg_mse: 781.9618\n",
      "mean_val_avg_mse: 1391.7129\n",
      "Best hyperparameters: {'nhead': 4, 'd_model': 96, 'dim_feedforward': 192, 'num_layers': 1, 'dropout': 0.4333827218510093, 'lr': 0.003895180196123437, 'weight_decay': 6.638328586838593e-06}\n",
      "Best validation RMSE: 34.41191377372541\n"
     ]
    }
   ],
   "source": [
    "import optuna\n",
    "\n",
    "def objective(trial):\n",
    "    \"\"\"\n",
    "    Objective function for Optuna hyperparameter optimization.\n",
    "    Calls the existing train_and_validate_kfold function.\n",
    "    \"\"\"\n",
    "        \n",
    "    # Ensure transformer_d_model is divisible by transformer_nhead\n",
    "    nhead = trial.suggest_int(\"nhead\", 2, 8, step=2)\n",
    "    d_model = trial.suggest_int(\n",
    "        \"d_model\", nhead * 16, nhead * 32, step=nhead * 8\n",
    "    )\n",
    "    \n",
    "    dim_feedworward = trial.suggest_int(\"dim_feedforward\", 128, 512, step=64)\n",
    "    num_layers = trial.suggest_int(\"num_layers\", 1, 4)\n",
    "    dropout = trial.suggest_float(\"dropout\", 0.1, 0.5)\n",
    "    lr = trial.suggest_float(\"lr\", 1e-4, 1e-2, log=True)\n",
    "    weight_decay = trial.suggest_float(\"weight_decay\", 1e-6, 1e-4, log=True)\n",
    "\n",
    "    # Define model configuration\n",
    "    model_config = {\n",
    "        \"input_dim\": input_dim,\n",
    "        \"d_model\": d_model,\n",
    "        \"nhead\": nhead,\n",
    "        \"num_layers\": num_layers,\n",
    "        \"dim_feedforward\": dim_feedworward,\n",
    "        \"dropout\": dropout,\n",
    "    }\n",
    "\n",
    "    # Call your existing train_and_validate_kfold function\n",
    "    model, summary = train_and_validate_single_run(\n",
    "        fold_loaders=fold_loaders,\n",
    "        model_config=model_config,\n",
    "        epochs=50,  # Fewer epochs for faster tuning\n",
    "        lr=lr,\n",
    "        weight_decay=weight_decay,\n",
    "        patience=10  # Early stopping patience\n",
    "    )\n",
    "\n",
    "    # Return the mean validation RMSE as the objective value\n",
    "    return summary[\"mean_val_rmse\"]\n",
    "\n",
    "# Optuna study configuration\n",
    "study = optuna.create_study(direction=\"minimize\")  # Minimize RMSE\n",
    "study.optimize(objective, n_trials=50)  # Number of trials for hyperparameter tuning\n",
    "\n",
    "# Print the best hyperparameters and validation RMSE\n",
    "print(\"Best hyperparameters:\", study.best_params)\n",
    "print(\"Best validation RMSE:\", study.best_value)"
   ]
  },
  {
   "cell_type": "markdown",
   "metadata": {},
   "source": [
    "# Evaluate the model with the test loader"
   ]
  },
  {
   "cell_type": "code",
   "execution_count": 5,
   "metadata": {
    "ExecuteTime": {
     "end_time": "2025-01-14T14:40:01.317659Z",
     "start_time": "2025-01-14T14:40:01.128406Z"
    }
   },
   "outputs": [
    {
     "name": "stderr",
     "output_type": "stream",
     "text": [
      "/tmp/ipykernel_673226/2730750230.py:10: FutureWarning: You are using `torch.load` with `weights_only=False` (the current default value), which uses the default pickle module implicitly. It is possible to construct malicious pickle data which will execute arbitrary code during unpickling (See https://github.com/pytorch/pytorch/blob/main/SECURITY.md#untrusted-models for more details). In a future release, the default value for `weights_only` will be flipped to `True`. This limits the functions that could be executed during unpickling. Arbitrary objects will no longer be allowed to be loaded via this mode unless they are explicitly allowlisted by the user via `torch.serialization.add_safe_globals`. We recommend you start setting `weights_only=True` for any use case where you don't have full control of the loaded file. Please open an issue on GitHub for any issues related to this experimental feature.\n",
      "  config = torch.load(config_path)\n"
     ]
    },
    {
     "data": {
      "text/plain": [
       "TransformerRULModel(\n",
       "  (input_projection): Linear(in_features=38, out_features=96, bias=True)\n",
       "  (positional_encoding): PositionalEncoding()\n",
       "  (transformer_encoder): TransformerEncoder(\n",
       "    (layers): ModuleList(\n",
       "      (0): TransformerEncoderLayer(\n",
       "        (self_attn): MultiheadAttention(\n",
       "          (out_proj): NonDynamicallyQuantizableLinear(in_features=96, out_features=96, bias=True)\n",
       "        )\n",
       "        (linear1): Linear(in_features=96, out_features=192, bias=True)\n",
       "        (dropout): Dropout(p=0.4333827218510093, inplace=False)\n",
       "        (linear2): Linear(in_features=192, out_features=96, bias=True)\n",
       "        (norm1): LayerNorm((96,), eps=1e-05, elementwise_affine=True)\n",
       "        (norm2): LayerNorm((96,), eps=1e-05, elementwise_affine=True)\n",
       "        (dropout1): Dropout(p=0.4333827218510093, inplace=False)\n",
       "        (dropout2): Dropout(p=0.4333827218510093, inplace=False)\n",
       "      )\n",
       "    )\n",
       "  )\n",
       "  (attention): Sequential(\n",
       "    (0): Linear(in_features=96, out_features=96, bias=True)\n",
       "    (1): Tanh()\n",
       "    (2): Linear(in_features=96, out_features=1, bias=True)\n",
       "  )\n",
       "  (regressor): Sequential(\n",
       "    (0): Linear(in_features=96, out_features=48, bias=True)\n",
       "    (1): ReLU()\n",
       "    (2): Dropout(p=0.4333827218510093, inplace=False)\n",
       "    (3): Linear(in_features=48, out_features=1, bias=True)\n",
       "  )\n",
       ")"
      ]
     },
     "execution_count": 5,
     "metadata": {},
     "output_type": "execute_result"
    }
   ],
   "source": [
    "from codebase.v5.models import TransformerRULModel\n",
    "import os\n",
    "\n",
    "device = torch.device(\"cuda\" if torch.cuda.is_available() else \"cpu\")\n",
    "\n",
    "model_path = \"saved_weights/\"\n",
    "config_path = os.path.join(model_path, \"config.pth\")\n",
    "model_path = os.path.join(model_path, \"model.pth\")\n",
    "\n",
    "config = torch.load(config_path)\n",
    "\n",
    "# Reinitialize the model architecture\n",
    "checkpoint = torch.load(model_path, weights_only=True)\n",
    "\n",
    "# RecommendationNet model\n",
    "loaded_model = TransformerRULModel(**config).to(device)\n",
    "\n",
    "loaded_model.load_state_dict(checkpoint['model_state_dict'])\n",
    "loaded_model.eval()"
   ]
  },
  {
   "cell_type": "code",
   "execution_count": 6,
   "metadata": {
    "ExecuteTime": {
     "end_time": "2025-01-14T14:40:08.984927Z",
     "start_time": "2025-01-14T14:40:08.969952Z"
    }
   },
   "outputs": [],
   "source": [
    "import pandas as pd\n",
    "\n",
    "# Load the RUL file\n",
    "rul_file_path = \"./data/CMAPSSData/RUL_FD001.txt\"  # Adjust the path if needed\n",
    "rul_df = pd.read_csv(rul_file_path, header=None, names=[\"RUL\"])\n",
    "\n",
    "# RUL values for each engine\n",
    "rul_values = rul_df[\"RUL\"].values  # Shape: (num_engines,)\n"
   ]
  },
  {
   "cell_type": "code",
   "execution_count": 7,
   "metadata": {
    "ExecuteTime": {
     "end_time": "2025-01-14T16:03:26.029434Z",
     "start_time": "2025-01-14T16:03:26.000671Z"
    }
   },
   "outputs": [],
   "source": [
    "def evaluate_model_final_sequence(model, test_loader, rul_values, device=\"cpu\"):\n",
    "    \"\"\"\n",
    "    Evaluate the model on the test set while persisting engine-level data across batches.\n",
    "    \n",
    "    Args:\n",
    "        model (nn.Module): Trained model.\n",
    "        test_loader (DataLoader): Test DataLoader, returning sequences.\n",
    "        rul_values (numpy.ndarray): Array of ground-truth RUL values for the test set.\n",
    "        device (str): Device to run the evaluation on (\"cpu\" or \"cuda\").\n",
    "    \n",
    "    Returns:\n",
    "        float: RMSE score for the test set.\n",
    "    \"\"\"\n",
    "    model.eval()\n",
    "    \n",
    "    # Persistent dictionaries for tracking final sequences across all batches\n",
    "    engine_id_to_best_cycle = {}\n",
    "    engine_id_to_best_pred = {}\n",
    "    \n",
    "    with torch.no_grad():\n",
    "        for (features, masks, engine_ids, cycles) in test_loader:\n",
    "            # Move data to the device\n",
    "            features, masks = features.to(device), masks.to(device)\n",
    "            \n",
    "            # Predict RUL for each sequence\n",
    "            outputs = model(features, masks)  # Shape: (batch_size,)\n",
    "\n",
    "            # Process each sequence in the batch\n",
    "            for i in range(len(engine_ids)):\n",
    "                e_id = int(engine_ids[i].item()) - 1  # Convert 1-based engine ID to 0-based index\n",
    "                cycle_array = cycles[i].cpu().numpy()  # Extract cycle array for this sequence\n",
    "                max_cycle_in_window = cycle_array.max()  # Find the highest cycle in this sequence\n",
    "                \n",
    "                # Update the persistent dictionary if this sequence is more \"final\"\n",
    "                if (e_id not in engine_id_to_best_cycle) or (max_cycle_in_window > engine_id_to_best_cycle[e_id]):\n",
    "                    engine_id_to_best_cycle[e_id] = max_cycle_in_window\n",
    "                    engine_id_to_best_pred[e_id] = outputs[i].item()\n",
    "\n",
    "    # Finalize predictions and compare with ground truth\n",
    "    predictions = []\n",
    "    ground_truth = []\n",
    "    for e_id, pred in engine_id_to_best_pred.items():\n",
    "        predictions.append(pred)\n",
    "        ground_truth.append(rul_values[e_id])  # Match RUL from the ground truth file\n",
    "\n",
    "    # Compute RMSE\n",
    "    predictions_t = torch.tensor(predictions, dtype=torch.float32)\n",
    "    ground_truth_t = torch.tensor(ground_truth, dtype=torch.float32)\n",
    "    rmse = torch.sqrt(F.mse_loss(predictions_t, ground_truth_t)).item()\n",
    "    \n",
    "    print(f\"Test RMSE: {rmse:.4f}\")\n",
    "    return rmse"
   ]
  },
  {
   "cell_type": "code",
   "execution_count": 9,
   "metadata": {
    "ExecuteTime": {
     "start_time": "2025-01-14T16:06:53.648098Z"
    },
    "jupyter": {
     "is_executing": true
    }
   },
   "outputs": [
    {
     "name": "stdout",
     "output_type": "stream",
     "text": [
      "Test RMSE: 79.0542\n"
     ]
    }
   ],
   "source": [
    "import torch.nn.functional as F\n",
    "\n",
    "# Load the test RUL values\n",
    "rul_values = pd.read_csv(\"./data/CMAPSSData/RUL_FD001.txt\", header=None).squeeze().values\n",
    "\n",
    "# Evaluate the model\n",
    "test_eval_result = evaluate_model_final_sequence(loaded_model, test_loader, rul_values, device=\"cuda\" if torch.cuda.is_available() else \"cpu\")"
   ]
  },
  {
   "cell_type": "markdown",
   "metadata": {},
   "source": [
    "# Conclusion\n",
    "This concludes the notebook. We tried out several different models, starting with simple GRU based networks up to a combination of several approaches (multi-head attention, multi-head GRU, feature processing with conv2d layers).\n",
    "\n",
    "In the 4. Part we are going to try a transformer based architecture."
   ]
  },
  {
   "cell_type": "markdown",
   "metadata": {},
   "source": [
    "# Benchmark Results\n",
    "Here are some official benchmark results:\n",
    "\n",
    "While results vary by implementation and dataset preprocessing, common benchmarks for RMSE include:\n",
    "\n",
    "- Well-Engineered GBDT Models: ~25–30 RMSE.\n",
    "- RNN-Based Deep Learning Models: ~30–40 RMSE.\n",
    "- Transformer Models (TFT): ~20–35 RMSE (depending on configuration).\n",
    "- Hybrid/Ensemble Models: Often achieve ~20–30 RMSE."
   ]
  },
  {
   "cell_type": "markdown",
   "metadata": {},
   "source": []
  }
 ],
 "metadata": {
  "kernelspec": {
   "display_name": "Python 3 (ipykernel)",
   "language": "python",
   "name": "python3"
  },
  "language_info": {
   "codemirror_mode": {
    "name": "ipython",
    "version": 3
   },
   "file_extension": ".py",
   "mimetype": "text/x-python",
   "name": "python",
   "nbconvert_exporter": "python",
   "pygments_lexer": "ipython3",
   "version": "3.9.20"
  }
 },
 "nbformat": 4,
 "nbformat_minor": 2
}
