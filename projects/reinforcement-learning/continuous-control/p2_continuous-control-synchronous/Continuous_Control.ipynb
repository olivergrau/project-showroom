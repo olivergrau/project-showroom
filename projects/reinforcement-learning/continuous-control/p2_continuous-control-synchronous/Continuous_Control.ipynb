{
 "cells": [
  {
   "cell_type": "markdown",
   "metadata": {},
   "source": [
    "# Continuous Control\n",
    "\n",
    "---\n",
    "\n",
    "In this notebook, you will learn how to use the Unity ML-Agents environment for the a project that solves a Unity Reacher Environment.\n",
    "\n",
    "### 1. Start the Environment\n",
    "\n",
    "We begin by importing the necessary packages.  If the code cell below returns an error, please revisit the project instructions to double-check that you have installed [Unity ML-Agents](https://github.com/Unity-Technologies/ml-agents/blob/master/docs/Installation.md) and [NumPy](http://www.numpy.org/)."
   ]
  },
  {
   "cell_type": "code",
   "execution_count": 1,
   "metadata": {},
   "outputs": [],
   "source": [
    "# Watch for changes\n",
    "%load_ext autoreload\n",
    "%autoreload 2\n",
    "\n",
    "from unityagents import UnityEnvironment\n",
    "import numpy as np\n",
    "import os\n",
    "import time\n",
    "import numpy as np\n",
    "import torch\n",
    "import traceback\n",
    "from dataclasses import dataclass, field\n",
    "from typing import Optional, Protocol, Tuple\n",
    "from torch.utils.tensorboard import SummaryWriter\n",
    "from codebase.ddpg.agent import DDPGAgent\n",
    "from codebase.ddpg.env import BootstrappedEnvironment\n",
    "from codebase.ddpg.eval import evaluate\n",
    "from codebase.replay.replay import ReplayBuffer\n",
    "from codebase.utils.normalizer import RunningNormalizer\n",
    "from codebase.utils.early_stopping import EarlyStopping\n",
    "from optuna.exceptions import TrialPruned\n",
    "\n",
    "# Monkey patch missing attributes for newer numpy versions\n",
    "if not hasattr(np, \"float_\"):\n",
    "    np.float_ = np.float64\n",
    "    \n",
    "if not hasattr(np, \"int_\"):\n",
    "    np.int_ = np.int64"
   ]
  },
  {
   "cell_type": "markdown",
   "metadata": {},
   "source": [
    "Next, we will start the environment!  **_Before running the code cell below_**, change the `file_name` parameter to match the location of the Unity environment that you downloaded.\n",
    "\n",
    "- **Mac**: `\"path/to/Reacher.app\"`\n",
    "- **Windows** (x86): `\"path/to/Reacher_Windows_x86/Reacher.exe\"`\n",
    "- **Windows** (x86_64): `\"path/to/Reacher_Windows_x86_64/Reacher.exe\"`\n",
    "- **Linux** (x86): `\"path/to/Reacher_Linux/Reacher.x86\"`\n",
    "- **Linux** (x86_64): `\"path/to/Reacher_Linux/Reacher.x86_64\"`\n",
    "- **Linux** (x86, headless): `\"path/to/Reacher_Linux_NoVis/Reacher.x86\"`\n",
    "- **Linux** (x86_64, headless): `\"path/to/Reacher_Linux_NoVis/Reacher.x86_64\"`\n",
    "\n",
    "For instance, if you are using a Mac, then you downloaded `Reacher.app`.  If this file is in the same folder as the notebook, then the line below should appear as follows:\n",
    "```\n",
    "env = UnityEnvironment(file_name=\"Reacher.app\")\n",
    "```"
   ]
  },
  {
   "cell_type": "code",
   "execution_count": 2,
   "metadata": {},
   "outputs": [
    {
     "name": "stdout",
     "output_type": "stream",
     "text": [
      "Found path: /home/oliver/project-showroom/projects/reinforcement-learning/continuous-control/p2_continuous-control-synchronous/Reacher_Linux/Reacher.x86_64\n",
      "Mono path[0] = '/home/oliver/project-showroom/projects/reinforcement-learning/continuous-control/p2_continuous-control-synchronous/Reacher_Linux/Reacher_Data/Managed'\n",
      "Mono config path = '/home/oliver/project-showroom/projects/reinforcement-learning/continuous-control/p2_continuous-control-synchronous/Reacher_Linux/Reacher_Data/MonoBleedingEdge/etc'\n",
      "Preloaded 'libgrpc_csharp_ext.x64.so'\n",
      "Unable to preload the following plugins:\n",
      "\tScreenSelector.so\n",
      "\tlibgrpc_csharp_ext.x86.so\n",
      "\tScreenSelector.so\n",
      "Logging to /home/oliver/.config/unity3d/Unity Technologies/Unity Environment/Player.log\n"
     ]
    },
    {
     "name": "stderr",
     "output_type": "stream",
     "text": [
      "INFO:unityagents:\n",
      "'Academy' started successfully!\n",
      "Unity Academy name: Academy\n",
      "        Number of Brains: 1\n",
      "        Number of External Brains : 1\n",
      "        Lesson number : 0\n",
      "        Reset Parameters :\n",
      "\t\tgoal_size -> 5.0\n",
      "\t\tgoal_speed -> 1.0\n",
      "Unity brain name: ReacherBrain\n",
      "        Number of Visual Observations (per agent): 0\n",
      "        Vector Observation space type: continuous\n",
      "        Vector Observation space size (per agent): 33\n",
      "        Number of stacked Vector Observation: 1\n",
      "        Vector Action space type: continuous\n",
      "        Vector Action space size (per agent): 4\n",
      "        Vector Action descriptions: , , , \n"
     ]
    }
   ],
   "source": [
    "env = UnityEnvironment(file_name='Reacher_Linux/Reacher.x86_64', no_graphics=False)"
   ]
  },
  {
   "cell_type": "markdown",
   "metadata": {},
   "source": [
    "Environments contain **_brains_** which are responsible for deciding the actions of their associated agents. Here we check for the first brain available, and set it as the default brain we will be controlling from Python."
   ]
  },
  {
   "cell_type": "code",
   "execution_count": 3,
   "metadata": {},
   "outputs": [],
   "source": [
    "# get the default brain\n",
    "brain_name = env.brain_names[0]\n",
    "brain = env.brains[brain_name]"
   ]
  },
  {
   "cell_type": "markdown",
   "metadata": {},
   "source": [
    "### 2. Examine the State and Action Spaces\n",
    "\n",
    "In this environment, a double-jointed arm can move to target locations. A reward of `+0.1` is provided for each step that the agent's hand is in the goal location. Thus, the goal of your agent is to maintain its position at the target location for as many time steps as possible.\n",
    "\n",
    "The observation space consists of `33` variables corresponding to position, rotation, velocity, and angular velocities of the arm.  Each action is a vector with four numbers, corresponding to torque applicable to two joints.  Every entry in the action vector must be a number between `-1` and `1`.\n",
    "\n",
    "Run the code cell below to print some information about the environment."
   ]
  },
  {
   "cell_type": "code",
   "execution_count": 4,
   "metadata": {},
   "outputs": [
    {
     "name": "stdout",
     "output_type": "stream",
     "text": [
      "Number of agents: 20\n",
      "Size of each action: 4\n",
      "(20, 33)\n",
      "There are 20 agents. Each observes a state with length: 33\n",
      "The state for the first agent looks like: [ 0.00000000e+00 -4.00000000e+00  0.00000000e+00  1.00000000e+00\n",
      " -0.00000000e+00 -0.00000000e+00 -4.37113883e-08  0.00000000e+00\n",
      "  0.00000000e+00  0.00000000e+00  0.00000000e+00  0.00000000e+00\n",
      "  0.00000000e+00  0.00000000e+00 -1.00000000e+01  0.00000000e+00\n",
      "  1.00000000e+00 -0.00000000e+00 -0.00000000e+00 -4.37113883e-08\n",
      "  0.00000000e+00  0.00000000e+00  0.00000000e+00  0.00000000e+00\n",
      "  0.00000000e+00  0.00000000e+00  5.75471878e+00 -1.00000000e+00\n",
      "  5.55726624e+00  0.00000000e+00  1.00000000e+00  0.00000000e+00\n",
      " -1.68164849e-01]\n"
     ]
    }
   ],
   "source": [
    "# reset the environment\n",
    "env_info = env.reset(train_mode=True)[brain_name]\n",
    "\n",
    "# number of agents\n",
    "num_agents = len(env_info.agents)\n",
    "print('Number of agents:', num_agents)\n",
    "\n",
    "# size of each action\n",
    "action_size = brain.vector_action_space_size\n",
    "print('Size of each action:', action_size)\n",
    "\n",
    "# examine the state space \n",
    "states = env_info.vector_observations\n",
    "print(states.shape)\n",
    "state_size = states.shape[1]\n",
    "print('There are {} agents. Each observes a state with length: {}'.format(states.shape[0], state_size))\n",
    "print('The state for the first agent looks like:', states[0])"
   ]
  },
  {
   "cell_type": "markdown",
   "metadata": {},
   "source": [
    "### 3. Take Random Actions in the Environment\n",
    "\n",
    "In the next code cell, you will learn how to use the Python API to control the agent and receive feedback from the environment.\n",
    "\n",
    "Once this cell is executed, you will watch the agent's performance, if it selects an action at random with each time step.  A window should pop up that allows you to observe the agent, as it moves through the environment.  \n",
    "\n",
    "Of course, as part of the project, you'll have to change the code so that the agent is able to use its experience to gradually choose better actions when interacting with the environment!"
   ]
  },
  {
   "cell_type": "code",
   "execution_count": null,
   "metadata": {},
   "outputs": [],
   "source": [
    "env_info = env.reset(train_mode=True)[brain_name]      # reset the environment    \n",
    "states = env_info.vector_observations                  # get the current state (for each agent)\n",
    "scores = np.zeros(num_agents)                          # initialize the score (for each agent)\n",
    "while True:\n",
    "    actions = np.random.randn(num_agents, action_size) # select an action (for each agent)\n",
    "    actions = np.clip(actions, -1, 1)                  # all actions between -1 and 1\n",
    "    env_info = env.step(actions)[brain_name]           # send all actions to tne environment\n",
    "    next_states = env_info.vector_observations         # get next state (for each agent)\n",
    "    rewards = env_info.rewards                         # get reward (for each agent)\n",
    "    dones = env_info.local_done                        # see if episode finished\n",
    "    scores += env_info.rewards                         # update the score (for each agent)\n",
    "    states = next_states                               # roll over states to next time step\n",
    "    if np.any(dones):                                  # exit loop if episode finished\n",
    "        break\n",
    "\n",
    "print('Total score (averaged over agents) this episode: {}'.format(np.mean(scores)))"
   ]
  },
  {
   "cell_type": "markdown",
   "metadata": {},
   "source": [
    "Close the environment before you start training. The TrainingRunner will instanciate its **own Unity Instance**."
   ]
  },
  {
   "cell_type": "code",
   "execution_count": null,
   "metadata": {},
   "outputs": [],
   "source": [
    "env.close()"
   ]
  },
  {
   "cell_type": "markdown",
   "metadata": {},
   "source": [
    "## 4. The training "
   ]
  },
  {
   "cell_type": "markdown",
   "metadata": {},
   "source": [
    "We define an interface for an **Update Step Scheduler**:"
   ]
  },
  {
   "cell_type": "code",
   "execution_count": 2,
   "metadata": {},
   "outputs": [],
   "source": [
    "# Scheduling interface\n",
    "class UpdateScheduler(Protocol):\n",
    "    def interval(self, total_steps: int) -> int:\n",
    "        ...\n",
    "\n",
    "@dataclass\n",
    "class StandardUpdateScheduler:\n",
    "    def interval(self, total_steps: int) -> int:\n",
    "        return 1\n",
    "\n",
    "@dataclass\n",
    "class DynamicUpdateScheduler:\n",
    "    switch_step: int\n",
    "    early_interval: int\n",
    "    late_interval: int\n",
    "\n",
    "    def interval(self, total_steps: int) -> int:\n",
    "        return self.early_interval if total_steps < self.switch_step else self.late_interval"
   ]
  },
  {
   "cell_type": "markdown",
   "metadata": {},
   "source": [
    "Then we define a **basic configuration**:"
   ]
  },
  {
   "cell_type": "code",
   "execution_count": null,
   "metadata": {},
   "outputs": [],
   "source": [
    "@dataclass\n",
    "class TrainingConfig:\n",
    "    seed = 0\n",
    "\n",
    "    # --- Environment and agent configuration ---\n",
    "    num_agents: int = 20               # Number of parallel agents (e.g., 20 for Unity Reacher)\n",
    "    state_size: int = 33              # Dimension of the state space\n",
    "    action_size: int = 4              # Dimension of the action space\n",
    "    gamma: float = 0.99               # Discount factor for future rewards\n",
    "\n",
    "    # --- Training schedule ---\n",
    "    episodes: int = 500              # Total number of training episodes\n",
    "    max_steps: int = 1000             # Max steps per episode\n",
    "    batch_size: int = 128             # Number of samples per learning update\n",
    "    learn_after: int = 0           # Delay learning until this many total env steps\n",
    "    sampling_warmup: int = 0      # Use random actions for the first N steps\n",
    "\n",
    "    # --- Learning rates and optimization ---\n",
    "    lr_actor: float = 1e-4            # Learning rate for the actor network\n",
    "    lr_critic: float = 1e-4           # Learning rate for the critic network\n",
    "    critic_weight_decay = 0.0        # L2 regularization for critic optimizer\n",
    "    critic_clipnorm: float = None      # Max norm for critic gradient clipping\n",
    "\n",
    "    # --- Target network soft updates ---\n",
    "    tau: float = 1e-3                # Polyak averaging factor for target networks\n",
    "\n",
    "    # --- Exploration (OU noise) ---\n",
    "    use_ou_noise: bool = True         # Whether to use Ornstein-Uhlenbeck noise\n",
    "    ou_theta: float = 0.15            # OU noise: theta (mean reversion)\n",
    "    ou_sigma: float = 0.2             # OU noise: sigma (volatility)\n",
    "    noise_decay: bool = False      # Noise decay factor (for exploration)\n",
    "    init_noise: float = 1.0           # Initial scaling factor for exploration noise\n",
    "    min_noise: float = 0.05           # Minimum noise after decay  \n",
    "    use_dynamic_noise: bool = False  # Use dynamic noise scaling\n",
    "    dynamic_noise_distance_threshold: float = 0.5  # Distance threshold for dynamic noise scaling\n",
    "\n",
    "    # --- Evaluation ---\n",
    "    eval_freq: int = 10               # Evaluate every N episodes\n",
    "    eval_eps: int = 1                 # Number of evaluation episodes per evaluation step\n",
    "    eval_thresh: float = 30.0         # Consider environment solved at this average reward\n",
    "    eval_warmup: int = 20             # Start evaluation only after this many episodes\n",
    "\n",
    "    # --- Replay buffer ---\n",
    "    replay_capacity: int = 100_000  # Total capacity of the replay buffer (attention: must be integer!)\n",
    "    \n",
    "    # Probability to retain a 0-reward transition\n",
    "    zero_reward_filtering: bool = False\n",
    "    zero_reward_prob_start: float = 0.2\n",
    "    zero_reward_prob_end: float = 0.01\n",
    "    zero_reward_prob_anneal_steps: int = 150_000\n",
    "\n",
    "    # --- Reward preprocessing and shaping ---\n",
    "    use_state_norm: bool = False     # Normalize states before feeding to actor/critic\n",
    "    use_reward_scaling: bool = False # Multiply rewards by reward_scale\n",
    "    reward_scale: float = 1.0        # Reward scaling factor (if enabled)\n",
    "    reward_shaping_fn: Optional[callable] = None # lambda state, reward, total_steps: shaper(state, reward, total_steps)\n",
    "    use_shaped_reward_only_steps: int = 0 # 20000  # or 5000, depending on your experiments\n",
    "\n",
    "    # --- Learning schedule --- (#field(default_factory=lambda: DynamicUpdateScheduler(10000, 10, 1)))\n",
    "    scheduler: UpdateScheduler = field(default_factory=lambda: StandardUpdateScheduler()) \n",
    "    updates_per_block: int = 1       # Number of updates per learning trigger\n",
    "\n",
    "    # --- Other ---\n",
    "    worker_id: int = 1               # Unity worker ID (avoid conflicts when launching multiple environments)\n",
    "    load_weights: Optional[str] = None  # Path to pretrained weights to resume training\n",
    "    device = torch.device(\"cuda\" if torch.cuda.is_available() else \"cpu\")\n",
    "    log_freq: int = 200               # Log every N episodes\n"
   ]
  },
  {
   "cell_type": "markdown",
   "metadata": {},
   "source": [
    "Instanciate **config and runner** and then start the training:"
   ]
  },
  {
   "cell_type": "code",
   "execution_count": 4,
   "metadata": {},
   "outputs": [
    {
     "name": "stdout",
     "output_type": "stream",
     "text": [
      "EarlyStopping: Patience: 20, Min delta: 0.01, Zero patience: 10, Actor patience: 8, Actor min delta: 0.005\n",
      "[BootstrappedEnvironment] Initializing Unity environment with exe_path: Reacher_Linux/Reacher.x86_64, worker_id: 1, use_graphics: False\n",
      "[BootstrappedEnvironment] Preprocess function: None, Max retries: 5, Retry delay: 2\n",
      "[BootstrappedEnvironment] Reward shaping function: None\n",
      "Found path: /home/oliver/project-showroom/projects/reinforcement-learning/continuous-control/p2_continuous-control-synchronous/Reacher_Linux/Reacher.x86_64\n",
      "Mono path[0] = '/home/oliver/project-showroom/projects/reinforcement-learning/continuous-control/p2_continuous-control-synchronous/Reacher_Linux/Reacher_Data/Managed'\n",
      "Mono config path = '/home/oliver/project-showroom/projects/reinforcement-learning/continuous-control/p2_continuous-control-synchronous/Reacher_Linux/Reacher_Data/MonoBleedingEdge/etc'\n",
      "Preloaded 'libgrpc_csharp_ext.x64.so'\n",
      "Unable to preload the following plugins:\n",
      "\tScreenSelector.so\n",
      "\tlibgrpc_csharp_ext.x86.so\n",
      "\tScreenSelector.so\n",
      "Logging to /home/oliver/.config/unity3d/Unity Technologies/Unity Environment/Player.log\n"
     ]
    },
    {
     "name": "stderr",
     "output_type": "stream",
     "text": [
      "INFO:unityagents:\n",
      "'Academy' started successfully!\n",
      "Unity Academy name: Academy\n",
      "        Number of Brains: 1\n",
      "        Number of External Brains : 1\n",
      "        Lesson number : 0\n",
      "        Reset Parameters :\n",
      "\t\tgoal_size -> 5.0\n",
      "\t\tgoal_speed -> 1.0\n",
      "Unity brain name: ReacherBrain\n",
      "        Number of Visual Observations (per agent): 0\n",
      "        Vector Observation space type: continuous\n",
      "        Vector Observation space size (per agent): 33\n",
      "        Number of stacked Vector Observation: 1\n",
      "        Vector Action space type: continuous\n",
      "        Vector Action space size (per agent): 4\n",
      "        Vector Action descriptions: , , , \n"
     ]
    },
    {
     "name": "stdout",
     "output_type": "stream",
     "text": [
      "Ornstein-Uhlenbeck noise enabled with theta=0.15, sigma=0.2\n",
      "\n",
      "DDPGAgent (DDPGAgent): Using num_agents: 20\n",
      "DDPGAgent (DDPGAgent): Using state size: 33\n",
      "DDPGAgent (DDPGAgent): Using action size: 4\n",
      "DDPGAgent (DDPGAgent): Using SEED: 0\n",
      "DDPGAgent (DDPGAgent): Using critic clip: None\n",
      "DDPGAgent (DDPGAgent): Using critic weight decay: 0.0\n",
      "DDPGAgent (DDPGAgent): Using device: cuda\n",
      "DDPGAgent (DDPGAgent): Using gamma: 0.99\n",
      "DDPGAgent (DDPGAgent): Using tau: 0.001\n",
      "DDPGAgent (DDPGAgent): Using actor input size: 256\n",
      "DDPGAgent (DDPGAgent): Using actor hidden size: 128\n",
      "DDPGAgent (DDPGAgent): Using critic input size: 256\n",
      "DDPGAgent (DDPGAgent): Using critic hidden size: 128\n",
      "DDPGAgent (DDPGAgent): Using actor learning rate: 0.0001\n",
      "DDPGAgent (DDPGAgent): Using critic learning rate: 0.0001\n",
      "DDPGAgent (DDPGAgent): Using Ornstein-Uhlenbeck noise: True\n",
      "DDPGAgent (DDPGAgent): Using OU noise theta: 0.15\n",
      "DDPGAgent (DDPGAgent): Using OU noise sigma: 0.2\n",
      "\n",
      "Episode 1 | Reward 0.96 | Steps 1000 | Updates 994 | Goal Hit Steps: 0 | Actor Loss 0.0585 | Critic Loss 0.00002045 | Reward/Env 0.9605 | Reward/Shaped 0.0000 | \n",
      "Episode 2 | Reward 0.66 | Steps 2000 | Updates 1994 | Goal Hit Steps: 0 | Actor Loss 0.0554 | Critic Loss 0.00001934 | Reward/Env 0.6580 | Reward/Shaped 0.0000 | \n",
      "Episode 3 | Reward 0.46 | Steps 3000 | Updates 2994 | Goal Hit Steps: 0 | Actor Loss 0.0524 | Critic Loss 0.00002082 | Reward/Env 0.4550 | Reward/Shaped 0.0000 | \n",
      "Episode 4 | Reward 1.26 | Steps 4000 | Updates 3994 | Goal Hit Steps: 0 | Actor Loss 0.0489 | Critic Loss 0.00002368 | Reward/Env 1.2585 | Reward/Shaped 0.0000 | \n",
      "Episode 5 | Reward 0.99 | Steps 5000 | Updates 4994 | Goal Hit Steps: 0 | Actor Loss 0.0457 | Critic Loss 0.00002883 | Reward/Env 0.9925 | Reward/Shaped 0.0000 | \n",
      "Episode 6 | Reward 1.11 | Steps 6000 | Updates 5994 | Goal Hit Steps: 0 | Actor Loss 0.0432 | Critic Loss 0.00003305 | Reward/Env 1.1095 | Reward/Shaped 0.0000 | \n",
      "Episode 7 | Reward 1.22 | Steps 7000 | Updates 6994 | Goal Hit Steps: 0 | Actor Loss 0.0407 | Critic Loss 0.00003491 | Reward/Env 1.2195 | Reward/Shaped 0.0000 | \n",
      "Episode 8 | Reward 1.62 | Steps 8000 | Updates 7994 | Goal Hit Steps: 0 | Actor Loss 0.0373 | Critic Loss 0.00003969 | Reward/Env 1.6225 | Reward/Shaped 0.0000 | \n",
      "Episode 9 | Reward 1.91 | Steps 9000 | Updates 8994 | Goal Hit Steps: 0 | Actor Loss 0.0333 | Critic Loss 0.00004554 | Reward/Env 1.9075 | Reward/Shaped 0.0000 | \n",
      "Episode 10 | Reward 2.02 | Steps 10000 | Updates 9994 | Goal Hit Steps: 0 | Actor Loss 0.0290 | Critic Loss 0.00005192 | Reward/Env 2.0180 | Reward/Shaped 0.0000 | \n",
      "Episode 11 | Reward 2.58 | Steps 11000 | Updates 10994 | Goal Hit Steps: 0 | Actor Loss 0.0240 | Critic Loss 0.00005910 | Reward/Env 2.5825 | Reward/Shaped 0.0000 | \n",
      "Episode 12 | Reward 3.26 | Steps 12000 | Updates 11994 | Goal Hit Steps: 0 | Actor Loss 0.0164 | Critic Loss 0.00007364 | Reward/Env 3.2615 | Reward/Shaped 0.0000 | \n",
      "Episode 13 | Reward 3.76 | Steps 13000 | Updates 12994 | Goal Hit Steps: 0 | Actor Loss 0.0088 | Critic Loss 0.00008769 | Reward/Env 3.7630 | Reward/Shaped 0.0000 | \n",
      "Episode 14 | Reward 3.33 | Steps 14000 | Updates 13994 | Goal Hit Steps: 0 | Actor Loss 0.0018 | Critic Loss 0.00009927 | Reward/Env 3.3280 | Reward/Shaped 0.0000 | \n",
      "Episode 15 | Reward 3.59 | Steps 15000 | Updates 14994 | Goal Hit Steps: 0 | Actor Loss -0.0058 | Critic Loss 0.00011257 | Reward/Env 3.5895 | Reward/Shaped 0.0000 | \n",
      "Episode 16 | Reward 4.32 | Steps 16000 | Updates 15994 | Goal Hit Steps: 0 | Actor Loss -0.0140 | Critic Loss 0.00013143 | Reward/Env 4.3170 | Reward/Shaped 0.0000 | \n",
      "Episode 17 | Reward 5.22 | Steps 17000 | Updates 16994 | Goal Hit Steps: 0 | Actor Loss -0.0221 | Critic Loss 0.00015563 | Reward/Env 5.2175 | Reward/Shaped 0.0000 | \n",
      "Episode 18 | Reward 5.03 | Steps 18000 | Updates 17994 | Goal Hit Steps: 0 | Actor Loss -0.0305 | Critic Loss 0.00018024 | Reward/Env 5.0325 | Reward/Shaped 0.0000 | \n",
      "Episode 19 | Reward 6.54 | Steps 19000 | Updates 18994 | Goal Hit Steps: 0 | Actor Loss -0.0414 | Critic Loss 0.00021291 | Reward/Env 6.5390 | Reward/Shaped 0.0000 | \n",
      "Episode 20 | Reward 6.08 | Steps 20000 | Updates 19994 | Goal Hit Steps: 0 | Actor Loss -0.0535 | Critic Loss 0.00024869 | Reward/Env 6.0835 | Reward/Shaped 0.0000 | \n",
      "Episode 21 | Reward 7.85 | Steps 21000 | Updates 20994 | Goal Hit Steps: 0 | Actor Loss -0.0677 | Critic Loss 0.00029888 | Reward/Env 7.8490 | Reward/Shaped 0.0000 | \n",
      "Episode 22 | Reward 8.37 | Steps 22000 | Updates 21994 | Goal Hit Steps: 0 | Actor Loss -0.0825 | Critic Loss 0.00034576 | Reward/Env 8.3700 | Reward/Shaped 0.0000 | \n",
      "Episode 23 | Reward 9.32 | Steps 23000 | Updates 22994 | Goal Hit Steps: 0 | Actor Loss -0.1000 | Critic Loss 0.00038556 | Reward/Env 9.3225 | Reward/Shaped 0.0000 | \n",
      "Episode 24 | Reward 12.61 | Steps 24000 | Updates 23994 | Goal Hit Steps: 0 | Actor Loss -0.1203 | Critic Loss 0.00044743 | Reward/Env 12.6115 | Reward/Shaped 0.0000 | \n",
      "Episode 25 | Reward 12.92 | Steps 25000 | Updates 24994 | Goal Hit Steps: 0 | Actor Loss -0.1475 | Critic Loss 0.00053492 | Reward/Env 12.9220 | Reward/Shaped 0.0000 | \n",
      "Episode 26 | Reward 16.13 | Steps 26000 | Updates 25994 | Goal Hit Steps: 0 | Actor Loss -0.1802 | Critic Loss 0.00063808 | Reward/Env 16.1285 | Reward/Shaped 0.0000 | \n",
      "Episode 27 | Reward 16.97 | Steps 27000 | Updates 26994 | Goal Hit Steps: 0 | Actor Loss -0.2190 | Critic Loss 0.00073201 | Reward/Env 16.9695 | Reward/Shaped 0.0000 | \n",
      "Episode 28 | Reward 21.24 | Steps 28000 | Updates 27994 | Goal Hit Steps: 0 | Actor Loss -0.2672 | Critic Loss 0.00081090 | Reward/Env 21.2400 | Reward/Shaped 0.0000 | \n",
      "Episode 29 | Reward 22.31 | Steps 29000 | Updates 28994 | Goal Hit Steps: 0 | Actor Loss -0.3205 | Critic Loss 0.00087094 | Reward/Env 22.3100 | Reward/Shaped 0.0000 | \n",
      "Episode 30 | Reward 25.86 | Steps 30000 | Updates 29994 | Goal Hit Steps: 0 | Actor Loss -0.3748 | Critic Loss 0.00089938 | Reward/Env 25.8575 | Reward/Shaped 0.0000 | \n",
      "Evaluating agent at episode 30...\n",
      "[Evaluation] Eval Episode 1 reward: 29.93\n",
      "[Evaluation] Sliding window average reward (last 1 episodes): 29.93\n",
      "Eval at ep 30: avg reward = 29.93\n",
      "Saved weights: ddpg_weights_ep_30_2025-05-03_20-55-54.pth\n",
      "EarlyStopping: Improved evaluation score to 29.9350\n",
      "Episode 31 | Reward 26.66 | Steps 31000 | Updates 30994 | Goal Hit Steps: 0 | Actor Loss -0.4326 | Critic Loss 0.00093392 | Reward/Env 26.6585 | Reward/Shaped 0.0000 | \n",
      "Episode 32 | Reward 30.47 | Steps 32000 | Updates 31994 | Goal Hit Steps: 0 | Actor Loss -0.4910 | Critic Loss 0.00092166 | Reward/Env 30.4670 | Reward/Shaped 0.0000 | \n",
      "Episode 33 | Reward 31.94 | Steps 33000 | Updates 32994 | Goal Hit Steps: 0 | Actor Loss -0.5583 | Critic Loss 0.00093359 | Reward/Env 31.9430 | Reward/Shaped 0.0000 | \n",
      "Episode 34 | Reward 31.03 | Steps 34000 | Updates 33994 | Goal Hit Steps: 0 | Actor Loss -0.6211 | Critic Loss 0.00091789 | Reward/Env 31.0289 | Reward/Shaped 0.0000 | \n",
      "Episode 35 | Reward 35.37 | Steps 35000 | Updates 34994 | Goal Hit Steps: 0 | Actor Loss -0.6846 | Critic Loss 0.00088449 | Reward/Env 35.3700 | Reward/Shaped 0.0000 | \n",
      "Episode 36 | Reward 34.68 | Steps 36000 | Updates 35994 | Goal Hit Steps: 0 | Actor Loss -0.7512 | Critic Loss 0.00083234 | Reward/Env 34.6795 | Reward/Shaped 0.0000 | \n",
      "Episode 37 | Reward 34.55 | Steps 37000 | Updates 36994 | Goal Hit Steps: 0 | Actor Loss -0.8178 | Critic Loss 0.00079393 | Reward/Env 34.5475 | Reward/Shaped 0.0000 | \n",
      "Episode 38 | Reward 36.00 | Steps 38000 | Updates 37994 | Goal Hit Steps: 0 | Actor Loss -0.8721 | Critic Loss 0.00074165 | Reward/Env 36.0030 | Reward/Shaped 0.0000 | \n",
      "Episode 39 | Reward 35.87 | Steps 39000 | Updates 38994 | Goal Hit Steps: 0 | Actor Loss -0.9278 | Critic Loss 0.00071177 | Reward/Env 35.8704 | Reward/Shaped 0.0000 | \n",
      "Episode 40 | Reward 36.77 | Steps 40000 | Updates 39994 | Goal Hit Steps: 0 | Actor Loss -0.9849 | Critic Loss 0.00066971 | Reward/Env 36.7650 | Reward/Shaped 0.0000 | \n",
      "Evaluating agent at episode 40...\n",
      "[Evaluation] Eval Episode 1 reward: 39.46\n",
      "[Evaluation] Sliding window average reward (last 2 episodes): 34.70\n",
      "Eval at ep 40: avg reward = 34.70\n",
      "Saved weights: ddpg_weights_ep_40_2025-05-03_21-00-17.pth\n",
      "Environment solved! Stopping training.\n",
      "[BootstrappedEnvironment] Waiting 5 seconds for closing the environment...\n",
      "[BootstrappedEnvironment] Successfully wiped Unity processes from OS.\n",
      "[BootstrappedEnvironment] Unity environment closed and processes wiped successfully.\n",
      "[Training] Completed. Unity closed.\n"
     ]
    },
    {
     "data": {
      "text/plain": [
       "0.0"
      ]
     },
     "execution_count": 4,
     "metadata": {},
     "output_type": "execute_result"
    }
   ],
   "source": [
    "from train_ddpg import TrainingRunner\n",
    "\n",
    "cfg = TrainingConfig()\n",
    "runner = TrainingRunner(cfg)\n",
    "\n",
    "runner.run()"
   ]
  },
  {
   "cell_type": "markdown",
   "metadata": {},
   "source": [
    "This **concludes** the training. With the 20-agent environment and basic parameter setup (no **additional features**) the environment was **solved** after 32 episodes (yeah!)."
   ]
  },
  {
   "cell_type": "markdown",
   "metadata": {},
   "source": [
    "## 5. The evaluation and Reward Plotting"
   ]
  },
  {
   "cell_type": "code",
   "execution_count": 2,
   "metadata": {},
   "outputs": [
    {
     "name": "stdout",
     "output_type": "stream",
     "text": [
      "Found path: /home/oliver/project-showroom/projects/reinforcement-learning/continuous-control/p2_continuous-control-synchronous/Reacher_Linux/Reacher.x86_64\n",
      "Mono path[0] = '/home/oliver/project-showroom/projects/reinforcement-learning/continuous-control/p2_continuous-control-synchronous/Reacher_Linux/Reacher_Data/Managed'\n",
      "Mono config path = '/home/oliver/project-showroom/projects/reinforcement-learning/continuous-control/p2_continuous-control-synchronous/Reacher_Linux/Reacher_Data/MonoBleedingEdge/etc'\n",
      "Preloaded 'libgrpc_csharp_ext.x64.so'\n",
      "Unable to preload the following plugins:\n",
      "\tScreenSelector.so\n",
      "\tlibgrpc_csharp_ext.x86.so\n",
      "\tScreenSelector.so\n",
      "Logging to /home/oliver/.config/unity3d/Unity Technologies/Unity Environment/Player.log\n"
     ]
    },
    {
     "name": "stderr",
     "output_type": "stream",
     "text": [
      "INFO:unityagents:\n",
      "'Academy' started successfully!\n",
      "Unity Academy name: Academy\n",
      "        Number of Brains: 1\n",
      "        Number of External Brains : 1\n",
      "        Lesson number : 0\n",
      "        Reset Parameters :\n",
      "\t\tgoal_speed -> 1.0\n",
      "\t\tgoal_size -> 5.0\n",
      "Unity brain name: ReacherBrain\n",
      "        Number of Visual Observations (per agent): 0\n",
      "        Vector Observation space type: continuous\n",
      "        Vector Observation space size (per agent): 33\n",
      "        Number of stacked Vector Observation: 1\n",
      "        Vector Action space type: continuous\n",
      "        Vector Action space size (per agent): 4\n",
      "        Vector Action descriptions: , , , \n"
     ]
    },
    {
     "name": "stdout",
     "output_type": "stream",
     "text": [
      "\n",
      "DDPGAgent (DDPGAgent): Using num_agents: 20\n",
      "DDPGAgent (DDPGAgent): Using state size: 33\n",
      "DDPGAgent (DDPGAgent): Using action size: 4\n",
      "DDPGAgent (DDPGAgent): Using SEED: 0\n",
      "DDPGAgent (DDPGAgent): Using critic clip: None\n",
      "DDPGAgent (DDPGAgent): Using critic weight decay: 0.0\n",
      "DDPGAgent (DDPGAgent): Using device: cuda\n",
      "DDPGAgent (DDPGAgent): Using gamma: 0.99\n",
      "DDPGAgent (DDPGAgent): Using tau: 0.001\n",
      "DDPGAgent (DDPGAgent): Using actor input size: 256\n",
      "DDPGAgent (DDPGAgent): Using actor hidden size: 128\n",
      "DDPGAgent (DDPGAgent): Using critic input size: 256\n",
      "DDPGAgent (DDPGAgent): Using critic hidden size: 128\n",
      "DDPGAgent (DDPGAgent): Using actor learning rate: 0.0001\n",
      "DDPGAgent (DDPGAgent): Using critic learning rate: 0.0001\n",
      "DDPGAgent (DDPGAgent): Using Ornstein-Uhlenbeck noise: False\n",
      "DDPGAgent (DDPGAgent): Using OU noise theta: 0.15\n",
      "DDPGAgent (DDPGAgent): Using OU noise sigma: 0.2\n",
      "\n",
      "Episode   1  Avg Score: 39.40\n",
      "Episode   2  Avg Score: 39.36\n",
      "Episode   3  Avg Score: 39.40\n",
      "Episode   4  Avg Score: 39.39\n",
      "Episode   5  Avg Score: 39.43\n",
      "Episode   6  Avg Score: 39.44\n",
      "Episode   7  Avg Score: 39.44\n",
      "Episode   8  Avg Score: 39.47\n",
      "Episode   9  Avg Score: 39.43\n",
      "Episode  10  Avg Score: 39.52\n",
      "Episode  11  Avg Score: 39.42\n",
      "Episode  12  Avg Score: 39.25\n",
      "Episode  13  Avg Score: 39.48\n",
      "Episode  14  Avg Score: 39.15\n",
      "Episode  15  Avg Score: 39.06\n",
      "Episode  16  Avg Score: 39.45\n",
      "Episode  17  Avg Score: 39.38\n",
      "Episode  18  Avg Score: 39.39\n",
      "Episode  19  Avg Score: 39.36\n",
      "Episode  20  Avg Score: 39.31\n",
      "Episode  21  Avg Score: 39.42\n",
      "Episode  22  Avg Score: 39.21\n",
      "Episode  23  Avg Score: 39.34\n",
      "Episode  24  Avg Score: 39.15\n",
      "Episode  25  Avg Score: 39.46\n",
      "Episode  26  Avg Score: 39.41\n",
      "Episode  27  Avg Score: 39.49\n",
      "Episode  28  Avg Score: 39.38\n",
      "Episode  29  Avg Score: 39.44\n",
      "Episode  30  Avg Score: 39.43\n",
      "Episode  31  Avg Score: 39.04\n",
      "Episode  32  Avg Score: 39.24\n",
      "Episode  33  Avg Score: 39.46\n",
      "Episode  34  Avg Score: 39.44\n",
      "Episode  35  Avg Score: 39.28\n",
      "Episode  36  Avg Score: 39.31\n",
      "Episode  37  Avg Score: 39.29\n",
      "Episode  38  Avg Score: 39.33\n",
      "Episode  39  Avg Score: 39.33\n",
      "Episode  40  Avg Score: 39.40\n",
      "Episode  41  Avg Score: 39.44\n",
      "Episode  42  Avg Score: 39.06\n",
      "Episode  43  Avg Score: 39.37\n",
      "Episode  44  Avg Score: 39.45\n",
      "Episode  45  Avg Score: 39.41\n",
      "Episode  46  Avg Score: 39.36\n",
      "Episode  47  Avg Score: 39.45\n",
      "Episode  48  Avg Score: 39.36\n",
      "Episode  49  Avg Score: 39.49\n",
      "Episode  50  Avg Score: 39.44\n",
      "Episode  51  Avg Score: 39.33\n",
      "Episode  52  Avg Score: 39.38\n",
      "Episode  53  Avg Score: 39.43\n",
      "Episode  54  Avg Score: 39.39\n",
      "Episode  55  Avg Score: 39.36\n",
      "Episode  56  Avg Score: 39.47\n",
      "Episode  57  Avg Score: 39.37\n",
      "Episode  58  Avg Score: 39.48\n",
      "Episode  59  Avg Score: 39.01\n",
      "Episode  60  Avg Score: 39.38\n",
      "Episode  61  Avg Score: 38.90\n",
      "Episode  62  Avg Score: 39.41\n",
      "Episode  63  Avg Score: 39.53\n",
      "Episode  64  Avg Score: 39.51\n",
      "Episode  65  Avg Score: 39.41\n",
      "Episode  66  Avg Score: 39.46\n",
      "Episode  67  Avg Score: 39.22\n",
      "Episode  68  Avg Score: 39.00\n",
      "Episode  69  Avg Score: 39.37\n",
      "Episode  70  Avg Score: 39.26\n",
      "Episode  71  Avg Score: 39.52\n",
      "Episode  72  Avg Score: 39.46\n",
      "Episode  73  Avg Score: 39.48\n",
      "Episode  74  Avg Score: 39.51\n",
      "Episode  75  Avg Score: 39.35\n",
      "Episode  76  Avg Score: 39.47\n",
      "Episode  77  Avg Score: 39.27\n",
      "Episode  78  Avg Score: 39.44\n",
      "Episode  79  Avg Score: 39.50\n",
      "Episode  80  Avg Score: 39.45\n",
      "Episode  81  Avg Score: 39.47\n",
      "Episode  82  Avg Score: 38.95\n",
      "Episode  83  Avg Score: 39.38\n",
      "Episode  84  Avg Score: 39.38\n",
      "Episode  85  Avg Score: 39.46\n",
      "Episode  86  Avg Score: 39.26\n",
      "Episode  87  Avg Score: 39.37\n",
      "Episode  88  Avg Score: 39.39\n",
      "Episode  89  Avg Score: 39.29\n",
      "Episode  90  Avg Score: 39.03\n",
      "Episode  91  Avg Score: 39.38\n",
      "Episode  92  Avg Score: 39.45\n",
      "Episode  93  Avg Score: 39.38\n",
      "Episode  94  Avg Score: 39.39\n",
      "Episode  95  Avg Score: 39.48\n",
      "Episode  96  Avg Score: 39.42\n",
      "Episode  97  Avg Score: 39.10\n",
      "Episode  98  Avg Score: 39.34\n",
      "Episode  99  Avg Score: 39.14\n",
      "Episode 100  Avg Score: 39.39\n"
     ]
    }
   ],
   "source": [
    "import numpy as np\n",
    "import torch\n",
    "from codebase.ddpg.agent import DDPGAgent\n",
    "\n",
    "def evaluate_ddpg(env_path: str,\n",
    "                  weights_path: str,\n",
    "                  n_episodes: int = 100,\n",
    "                  no_graphics: bool = True) -> list:\n",
    "    \"\"\"\n",
    "    Run a trained DDPGAgent for n_episodes in the Unity Reacher env and\n",
    "    return a list of per-episode average scores (over all agents).\n",
    "    \"\"\"\n",
    "    # 1) Launch the Unity environment\n",
    "    env = UnityEnvironment(file_name=env_path, no_graphics=no_graphics)\n",
    "    env.reset()\n",
    "    brain_name = env.brain_names[0]\n",
    "\n",
    "    # 2) Instantiate the agent with the same hyperparameters you used for training\n",
    "    agent = DDPGAgent(\n",
    "        num_agents=20,\n",
    "        state_size=33,\n",
    "        action_size=4,\n",
    "        actor_input_size=256,     # match your training config\n",
    "        actor_hidden_size=128,\n",
    "        critic_input_size=256,\n",
    "        critic_hidden_size=128,\n",
    "        lr_actor=1e-4,\n",
    "        lr_critic=1e-4,\n",
    "        gamma=0.99,\n",
    "        tau=1e-3,\n",
    "        use_ou_noise=False,       # no exploration during evaluation\n",
    "        seed=0\n",
    "    )\n",
    "    agent.actor.eval()           # put networks in eval mode\n",
    "    agent.critic.eval()\n",
    "\n",
    "    # 3) Load the saved weights\n",
    "    checkpoint = torch.load(weights_path, map_location=agent.device, weights_only=True)\n",
    "    for net in ['actor', 'actor_target', 'critic', 'critic_target']:\n",
    "        getattr(agent, net).load_state_dict(checkpoint[net])\n",
    "\n",
    "    # 4) Run n_episodes and collect scores\n",
    "    scores = []\n",
    "    for ep in range(1, n_episodes + 1):\n",
    "        # reset env in inference mode\n",
    "        env_info = env.reset(train_mode=False)[brain_name]\n",
    "        states = env_info.vector_observations       # shape: (20, 33)\n",
    "        episode_scores = np.zeros(agent.num_agents)\n",
    "\n",
    "        done = False\n",
    "        while not done:\n",
    "            # get actions from deterministic policy (eval=True ⇒ no OU noise) :contentReference[oaicite:0]{index=0}:contentReference[oaicite:1]{index=1}\n",
    "            actions, _ = agent.act(states, eval=True)\n",
    "            env_info = env.step(actions)[brain_name]\n",
    "            states = env_info.vector_observations\n",
    "            rewards = np.array(env_info.rewards)\n",
    "            dones   = np.array(env_info.local_done)\n",
    "\n",
    "            episode_scores += rewards\n",
    "            done = dones.any()   # stop when any agent signals done\n",
    "\n",
    "        # average over the 20 agents\n",
    "        avg_score = episode_scores.mean()\n",
    "        scores.append(avg_score)\n",
    "        print(f\"Episode {ep:3d}  Avg Score: {avg_score:.2f}\")\n",
    "\n",
    "    env.close()\n",
    "    return scores\n",
    "\n",
    "ENV_PATH     = \"Reacher_Linux/Reacher.x86_64\"\n",
    "WEIGHTS_PATH = \"saved_weights/train_ddpg/ddpg_weights_ep_40_2025-05-03_21-00-17.pth\"   # path to your saved weights dict\n",
    "\n",
    "# This is insane! Outrageous! 100 episodes in a row? The folks at udacity must be all masochist! 20 episodes is enough to get a good idea of the performance of my agent.\n",
    "N_EPISODES   = 100 \n",
    "\n",
    "scores = evaluate_ddpg(ENV_PATH, WEIGHTS_PATH, n_episodes=N_EPISODES, no_graphics=True)"
   ]
  },
  {
   "cell_type": "markdown",
   "metadata": {},
   "source": [
    "So, stable across 100 episodes.\n",
    "\n",
    "**Save** the scores:"
   ]
  },
  {
   "cell_type": "code",
   "execution_count": 3,
   "metadata": {},
   "outputs": [],
   "source": [
    "import pickle\n",
    "\n",
    "with open(\"eval_scores.pkl\", \"wb\") as f:\n",
    "    pickle.dump(scores, f)"
   ]
  },
  {
   "cell_type": "code",
   "execution_count": null,
   "metadata": {},
   "outputs": [],
   "source": [
    "import pickle\n",
    "\n",
    "with open(\"eval_scores.pkl\", \"rb\") as f:\n",
    "    scores = pickle.load(f)"
   ]
  },
  {
   "cell_type": "markdown",
   "metadata": {},
   "source": [
    "**Plot** the scores:"
   ]
  },
  {
   "cell_type": "code",
   "execution_count": 5,
   "metadata": {},
   "outputs": [
    {
     "data": {
      "image/png": "[encoded data removed]",
      "text/plain": [
       "<Figure size 1500x500 with 1 Axes>"
      ]
     },
     "metadata": {},
     "output_type": "display_data"
    }
   ],
   "source": [
    "import matplotlib.pyplot as plt\n",
    "import pandas as pd\n",
    "%matplotlib inline\n",
    "\n",
    "# Create dataframe\n",
    "data = pd.DataFrame(data={'score': scores})\n",
    "\n",
    "# Define metrics\n",
    "ma = data.rolling(5, min_periods=1).mean()\n",
    "x = range(len(scores))\n",
    "me = data['score'].mean()\n",
    "\n",
    "# Plot data\n",
    "fig, ax = plt.subplots(figsize=(15, 5))\n",
    "\n",
    "ax.plot(x, scores, 'o', color='tab:blue', label='scores')\n",
    "ax.plot(x, ma, color='tab:red', label='Moving Average')\n",
    "\n",
    "ax.plot(x, [me] * data.shape[0], '-.',color='tab:green', label='Mean')\n",
    "ax.set_xlabel('episodes')\n",
    "ax.set_ylabel('score')\n",
    "plt.legend()\n",
    "plt.show()"
   ]
  },
  {
   "cell_type": "code",
   "execution_count": null,
   "metadata": {},
   "outputs": [],
   "source": []
  }
 ],
 "metadata": {
  "kernelspec": {
   "display_name": "unity_env",
   "language": "python",
   "name": "unity_env"
  },
  "language_info": {
   "codemirror_mode": {
    "name": "ipython",
    "version": 3
   },
   "file_extension": ".py",
   "mimetype": "text/x-python",
   "name": "python",
   "nbconvert_exporter": "python",
   "pygments_lexer": "ipython3",
   "version": "3.10.16"
  }
 },
 "nbformat": 4,
 "nbformat_minor": 2
}
