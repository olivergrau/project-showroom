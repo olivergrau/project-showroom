{
 "cells": [
  {
   "cell_type": "markdown",
   "metadata": {},
   "source": [
    "# Navigation\n",
    "\n",
    "---\n",
    "\n",
    "In this notebook, you will learn how to use the Unity ML-Agents environment for to train an agent to collect bananas!\n",
    "\n",
    "### 1. Start the Environment\n",
    "\n",
    "We begin by importing some necessary packages.  If the code cell below returns an error, please revisit the project instructions to double-check that you have installed [Unity ML-Agents](https://github.com/Unity-Technologies/ml-agents/blob/master/docs/Installation.md) and [NumPy](http://www.numpy.org/)."
   ]
  },
  {
   "cell_type": "code",
   "execution_count": null,
   "metadata": {},
   "outputs": [],
   "source": [
    "# Watch for changes\n",
    "%load_ext autoreload\n",
    "%autoreload 2\n",
    "\n",
    "from torch.utils.tensorboard import SummaryWriter\n",
    "from unityagents import UnityEnvironment\n",
    "import numpy as np\n",
    "import matplotlib.pyplot as plt\n",
    "%matplotlib inline\n",
    "\n",
    "# Monkey patch missing attributes for newer numpy versions\n",
    "if not hasattr(np, \"float_\"):\n",
    "    np.float_ = np.float64\n",
    "    \n",
    "if not hasattr(np, \"int_\"):\n",
    "    np.int_ = np.int64"
   ]
  },
  {
   "cell_type": "markdown",
   "metadata": {},
   "source": [
    "Next, we will start the environment!  **_Before running the code cell below_**, change the `file_name` parameter to match the location of the Unity environment that you downloaded.\n",
    "\n",
    "- **Mac**: `\"path/to/Banana.app\"`\n",
    "- **Windows** (x86): `\"path/to/Banana_Windows_x86/Banana.exe\"`\n",
    "- **Windows** (x86_64): `\"path/to/Banana_Windows_x86_64/Banana.exe\"`\n",
    "- **Linux** (x86): `\"path/to/Banana_Linux/Banana.x86\"`\n",
    "- **Linux** (x86_64): `\"path/to/Banana_Linux/Banana.x86_64\"`\n",
    "- **Linux** (x86, headless): `\"path/to/Banana_Linux_NoVis/Banana.x86\"`\n",
    "- **Linux** (x86_64, headless): `\"path/to/Banana_Linux_NoVis/Banana.x86_64\"`\n",
    "\n",
    "For instance, if you are using a Mac, then you downloaded `Banana.app`.  If this file is in the same folder as the notebook, then the line below should appear as follows:\n",
    "```\n",
    "env = UnityEnvironment(file_name=\"Banana.app\")\n",
    "```"
   ]
  },
  {
   "cell_type": "code",
   "execution_count": 2,
   "metadata": {},
   "outputs": [
    {
     "name": "stdout",
     "output_type": "stream",
     "text": [
      "/home/oliver/project-showroom/projects/reinforcement-learning/navigation/p1_navigation\n"
     ]
    }
   ],
   "source": [
    "# print current working directory\n",
    "import os\n",
    "print(os.getcwd())"
   ]
  },
  {
   "cell_type": "code",
   "execution_count": 2,
   "metadata": {},
   "outputs": [
    {
     "name": "stdout",
     "output_type": "stream",
     "text": [
      "Found path: /home/oliver/project-showroom/projects/reinforcement-learning/navigation/p1_navigation/Banana_Linux/Banana.x86_64\n",
      "Mono path[0] = '/home/oliver/project-showroom/projects/reinforcement-learning/navigation/p1_navigation/Banana_Linux/Banana_Data/Managed'\n",
      "Mono config path = '/home/oliver/project-showroom/projects/reinforcement-learning/navigation/p1_navigation/Banana_Linux/Banana_Data/MonoBleedingEdge/etc'\n",
      "Preloaded 'libgrpc_csharp_ext.x64.so'\n",
      "Unable to preload the following plugins:\n",
      "\tScreenSelector.so\n",
      "\tlibgrpc_csharp_ext.x86.so\n",
      "\tScreenSelector.so\n",
      "Logging to /home/oliver/.config/unity3d/Unity Technologies/Unity Environment/Player.log\n"
     ]
    },
    {
     "name": "stderr",
     "output_type": "stream",
     "text": [
      "INFO:unityagents:\n",
      "'Academy' started successfully!\n",
      "Unity Academy name: Academy\n",
      "        Number of Brains: 1\n",
      "        Number of External Brains : 1\n",
      "        Lesson number : 0\n",
      "        Reset Parameters :\n",
      "\t\t\n",
      "Unity brain name: BananaBrain\n",
      "        Number of Visual Observations (per agent): 0\n",
      "        Vector Observation space type: continuous\n",
      "        Vector Observation space size (per agent): 37\n",
      "        Number of stacked Vector Observation: 1\n",
      "        Vector Action space type: discrete\n",
      "        Vector Action space size (per agent): 4\n",
      "        Vector Action descriptions: , , , \n"
     ]
    }
   ],
   "source": [
    "env = UnityEnvironment(file_name=\"Banana_Linux/Banana.x86_64\")"
   ]
  },
  {
   "cell_type": "markdown",
   "metadata": {},
   "source": [
    "Environments contain **_brains_** which are responsible for deciding the actions of their associated agents. Here we check for the first brain available, and set it as the default brain we will be controlling from Python."
   ]
  },
  {
   "cell_type": "code",
   "execution_count": 3,
   "metadata": {},
   "outputs": [],
   "source": [
    "# get the default brain\n",
    "brain_name = env.brain_names[0]\n",
    "brain = env.brains[brain_name]"
   ]
  },
  {
   "cell_type": "markdown",
   "metadata": {},
   "source": [
    "### 2. Examine the State and Action Spaces\n",
    "\n",
    "The simulation contains a single agent that navigates a large environment.  At each time step, it has four actions at its disposal:\n",
    "- `0` - walk forward \n",
    "- `1` - walk backward\n",
    "- `2` - turn left\n",
    "- `3` - turn right\n",
    "\n",
    "The state space has `37` dimensions and contains the agent's velocity, along with ray-based perception of objects around agent's forward direction.  A reward of `+1` is provided for collecting a yellow banana, and a reward of `-1` is provided for collecting a blue banana. \n",
    "\n",
    "Run the code cell below to print some information about the environment and to initialize **action_size** and **state_size**."
   ]
  },
  {
   "cell_type": "code",
   "execution_count": null,
   "metadata": {},
   "outputs": [
    {
     "name": "stdout",
     "output_type": "stream",
     "text": [
      "Number of agents: 1\n",
      "Number of actions: 4\n",
      "States look like: [1.         0.         0.         0.         0.84408134 0.\n",
      " 0.         1.         0.         0.0748472  0.         1.\n",
      " 0.         0.         0.25755    1.         0.         0.\n",
      " 0.         0.74177343 0.         1.         0.         0.\n",
      " 0.25854847 0.         0.         1.         0.         0.09355672\n",
      " 0.         1.         0.         0.         0.31969345 0.\n",
      " 0.        ]\n",
      "States have length: 37\n"
     ]
    }
   ],
   "source": [
    "# reset the environment\n",
    "env_info = env.reset(train_mode=True)[brain_name]\n",
    "\n",
    "# number of agents in the environment\n",
    "print('Number of agents:', len(env_info.agents))\n",
    "\n",
    "# number of actions\n",
    "action_size = brain.vector_action_space_size\n",
    "print('Number of actions:', action_size)\n",
    "\n",
    "# examine the state space \n",
    "state = env_info.vector_observations[0]\n",
    "print('States look like:', state)\n",
    "\n",
    "state_size = len(state)\n",
    "print('States have length:', state_size)"
   ]
  },
  {
   "cell_type": "markdown",
   "metadata": {},
   "source": [
    "### 3. Take Random Actions in the Environment\n",
    "\n",
    "In the next code cell, you will learn how to use the Python API to control the agent and receive feedback from the environment.\n",
    "\n",
    "Once this cell is executed, you will watch the agent's performance, if it selects an action (uniformly) at random with each time step.  A window should pop up that allows you to observe the agent, as it moves through the environment.  \n",
    "\n",
    "Of course, as part of the project, you'll have to change the code so that the agent is able to use its experience to gradually choose better actions when interacting with the environment!"
   ]
  },
  {
   "cell_type": "code",
   "execution_count": 8,
   "metadata": {},
   "outputs": [
    {
     "name": "stdout",
     "output_type": "stream",
     "text": [
      "Score: -1.0\n"
     ]
    }
   ],
   "source": [
    "env_info = env.reset(train_mode=False)[brain_name] # reset the environment\n",
    "state = env_info.vector_observations[0]            # get the current state\n",
    "score = 0                                          # initialize the score\n",
    "while True:\n",
    "    action = np.random.randint(action_size)        # select an action\n",
    "    env_info = env.step(action)[brain_name]        # send the action to the environment\n",
    "    next_state = env_info.vector_observations[0]   # get the next state\n",
    "    reward = env_info.rewards[0]                   # get the reward\n",
    "    done = env_info.local_done[0]                  # see if episode has finished\n",
    "    score += reward                                # update the score\n",
    "    state = next_state                             # roll over the state to next time step\n",
    "    if done:                                       # exit loop if episode finished\n",
    "        break\n",
    "    \n",
    "print(\"Score: {}\".format(score))"
   ]
  },
  {
   "cell_type": "markdown",
   "metadata": {},
   "source": [
    "### 4. Now train the agent in the banana environment!\n",
    "\n",
    "Now it's your turn to train your own agent to solve the environment!  When training the environment, set `train_mode=True`, so that the line for resetting the environment looks like the following:\n",
    "```python\n",
    "env_info = env.reset(train_mode=True)[brain_name]\n",
    "```\n",
    "\n",
    "<div style=\"border-left: 5px solid #2196F3; background-color: #E3F2FD; padding: 10px;\">\n",
    "    <b>ℹ️:</b> The source code for the agent and the neural net model can be found in 'codebase/v2' directory.\n",
    "</div>\n"
   ]
  },
  {
   "cell_type": "code",
   "execution_count": null,
   "metadata": {},
   "outputs": [
    {
     "name": "stdout",
     "output_type": "stream",
     "text": [
      "Buffer size: 100000, Batch size: 64, Beta start: 0.4, Beta frames: 100000\n"
     ]
    }
   ],
   "source": [
    "from collections import deque\n",
    "import torch\n",
    "from codebase.v2.dqn_agent import Agent\n",
    "from tqdm.notebook import tqdm\n",
    "from datetime import datetime\n",
    "\n",
    "# Generate a timestamped directory name\n",
    "timestamp = datetime.now().strftime(\"%Y-%m-%d_%H-%M-%S\")\n",
    "log_dir = f\"runs/banana_experiment_{timestamp}\"\n",
    "\n",
    "# Initialize TensorBoard writer with a unique directory\n",
    "writer = SummaryWriter(log_dir=log_dir)\n",
    "\n",
    "agent = Agent(state_size=state_size, action_size=action_size, seed=20)\n",
    "\n",
    "def dqn(env, n_episodes=2000, max_t=1000, eps_start=1.0, eps_end=0.01, eps_decay=0.99):\n",
    "    \"\"\"Deep Q-Learning with tqdm progress bar updates.\n",
    "    \n",
    "    Params\n",
    "    ======\n",
    "        n_episodes (int): maximum number of training episodes\n",
    "        max_t (int): maximum number of timesteps per episode\n",
    "        eps_start (float): starting value of epsilon for epsilon-greedy action selection\n",
    "        eps_end (float): minimum value of epsilon\n",
    "        eps_decay (float): multiplicative factor (per episode) for decreasing epsilon\n",
    "    \"\"\"\n",
    "    scores = []                        # list containing scores from each episode\n",
    "    scores_window = deque(maxlen=100)  # last 100 scores\n",
    "    eps = eps_start\n",
    "\n",
    "    for i_episode in range(1, n_episodes+1):\n",
    "        env_info = env.reset(train_mode=False)[brain_name]  # reset the environment\n",
    "        state = env_info.vector_observations[0]\n",
    "        score = 0\n",
    "\n",
    "        # Use tqdm to create a progress bar for the steps within an episode.\n",
    "        with tqdm(total=max_t, desc=f\"Episode {i_episode}\", leave=False) as pbar:\n",
    "            for _ in range(max_t):\n",
    "                # Select an action and let the agent record its Q-values.\n",
    "                action = agent.act(state, eps)\n",
    "                \n",
    "                # Access the Q-values after act() is called.                                \n",
    "                writer.add_histogram(\"Q-values\", agent.last_q_values, global_step=i_episode)\n",
    "            \n",
    "                q_values = agent.last_q_values\n",
    "                \n",
    "                env_info = env.step(action)[brain_name]  # send the action to the environment\n",
    "                next_state = env_info.vector_observations[0]  # get the next state\n",
    "                reward = env_info.rewards[0]                  # get the reward\n",
    "                done = env_info.local_done[0]                 # check if episode is finished\n",
    "                score += reward\n",
    "\n",
    "                agent.step(state, action, reward, next_state, done)\n",
    "\n",
    "                # Retrieve the loss from the last learning update.\n",
    "                loss = agent.last_loss if hasattr(agent, \"last_loss\") else \"N/A\"\n",
    "\n",
    "                if loss is not None: # this is a hack to avoid the error when loss is None\n",
    "                    writer.add_scalar(\"Loss\", agent.last_loss, global_step=i_episode)\n",
    "                \n",
    "                state = next_state\n",
    "\n",
    "                # Update the progress bar's postfix with the current loss and Q-values.\n",
    "                pbar.set_postfix(loss=loss, q_values=q_values)\n",
    "                pbar.update(1)\n",
    "\n",
    "                writer.add_scalar(\"Episode/Beta\", agent.last_beta, i_episode)\n",
    "\n",
    "                if done:\n",
    "                    break\n",
    "\n",
    "        scores_window.append(score)  # save most recent score\n",
    "        scores.append(score)         # save most recent score\n",
    "        eps = max(eps_end, eps_decay * eps)  # decrease epsilon\n",
    "\n",
    "        # Log episode-level statistics.\n",
    "        writer.add_scalar(\"Episode/Average_Score\", np.mean(scores_window), i_episode)\n",
    "        writer.add_scalar(\"Episode/Score\", score, i_episode)\n",
    "        writer.add_scalar(\"Episode/Epsilon\", eps, i_episode)\n",
    "        \n",
    "        print('\\rEpisode {}\\tAverage Score: {:.2f}'.format(i_episode, np.mean(scores_window)), end=\"\")\n",
    "        if i_episode % 100 == 0:\n",
    "            print('\\rEpisode {}\\tAverage Score: {:.2f}'.format(i_episode, np.mean(scores_window)))\n",
    "        \n",
    "        # save every 5 episodes\n",
    "        if i_episode % 5 == 0:\n",
    "            torch.save(agent.qnetwork_local.state_dict(), 'checkpoint.pth')\n",
    "\n",
    "        if np.mean(scores_window) >= 13.0: # I am stupid, I forgot to set this to 13.0 (from 200) before training the agent, rrrrrr\n",
    "            print('\\nEnvironment solved in {:d} episodes!\\tAverage Score: {:.2f}'\n",
    "                  .format(i_episode - 100, np.mean(scores_window)))\n",
    "            \n",
    "            torch.save(agent.qnetwork_local.state_dict(), 'checkpoint.pth')\n",
    "            break\n",
    "    \n",
    "    writer.close()\n",
    "    \n",
    "    return scores"
   ]
  },
  {
   "cell_type": "code",
   "execution_count": 6,
   "metadata": {},
   "outputs": [
    {
     "name": "stdout",
     "output_type": "stream",
     "text": [
      "Episode 267\tAverage Score: 9.53"
     ]
    },
    {
     "data": {
      "application/vnd.jupyter.widget-view+json": {
       "model_id": "178a0b408ae5452eab6205020d702e3f",
       "version_major": 2,
       "version_minor": 0
      },
      "text/plain": [
       "Episode 268:   0%|          | 0/300 [00:00<?, ?it/s]"
      ]
     },
     "metadata": {},
     "output_type": "display_data"
    },
    {
     "name": "stdout",
     "output_type": "stream",
     "text": [
      "Episode 268\tAverage Score: 9.52"
     ]
    },
    {
     "data": {
      "application/vnd.jupyter.widget-view+json": {
       "model_id": "dd658e3064064b958ef7b7e7fb9e95b0",
       "version_major": 2,
       "version_minor": 0
      },
      "text/plain": [
       "Episode 269:   0%|          | 0/300 [00:00<?, ?it/s]"
      ]
     },
     "metadata": {},
     "output_type": "display_data"
    },
    {
     "name": "stdout",
     "output_type": "stream",
     "text": [
      "Episode 269\tAverage Score: 9.55"
     ]
    },
    {
     "data": {
      "application/vnd.jupyter.widget-view+json": {
       "model_id": "59b4c26c203e47c5a39d728b21511e7e",
       "version_major": 2,
       "version_minor": 0
      },
      "text/plain": [
       "Episode 270:   0%|          | 0/300 [00:00<?, ?it/s]"
      ]
     },
     "metadata": {},
     "output_type": "display_data"
    },
    {
     "name": "stdout",
     "output_type": "stream",
     "text": [
      "Episode 270\tAverage Score: 9.53"
     ]
    },
    {
     "data": {
      "application/vnd.jupyter.widget-view+json": {
       "model_id": "1ec73839ffae42f9b26c50a67de63c4f",
       "version_major": 2,
       "version_minor": 0
      },
      "text/plain": [
       "Episode 271:   0%|          | 0/300 [00:00<?, ?it/s]"
      ]
     },
     "metadata": {},
     "output_type": "display_data"
    },
    {
     "name": "stdout",
     "output_type": "stream",
     "text": [
      "Episode 271\tAverage Score: 9.65"
     ]
    },
    {
     "data": {
      "application/vnd.jupyter.widget-view+json": {
       "model_id": "044ccef10ce34b7ead1a377ffbaa2ff1",
       "version_major": 2,
       "version_minor": 0
      },
      "text/plain": [
       "Episode 272:   0%|          | 0/300 [00:00<?, ?it/s]"
      ]
     },
     "metadata": {},
     "output_type": "display_data"
    },
    {
     "name": "stdout",
     "output_type": "stream",
     "text": [
      "Episode 272\tAverage Score: 9.76"
     ]
    },
    {
     "data": {
      "application/vnd.jupyter.widget-view+json": {
       "model_id": "00070632876843858e703fe4a80f3cec",
       "version_major": 2,
       "version_minor": 0
      },
      "text/plain": [
       "Episode 273:   0%|          | 0/300 [00:00<?, ?it/s]"
      ]
     },
     "metadata": {},
     "output_type": "display_data"
    },
    {
     "name": "stdout",
     "output_type": "stream",
     "text": [
      "Episode 273\tAverage Score: 9.72"
     ]
    },
    {
     "data": {
      "application/vnd.jupyter.widget-view+json": {
       "model_id": "1737e82ff76f4c18996a8c54ab93ca88",
       "version_major": 2,
       "version_minor": 0
      },
      "text/plain": [
       "Episode 274:   0%|          | 0/300 [00:00<?, ?it/s]"
      ]
     },
     "metadata": {},
     "output_type": "display_data"
    },
    {
     "name": "stdout",
     "output_type": "stream",
     "text": [
      "Episode 274\tAverage Score: 9.77"
     ]
    },
    {
     "data": {
      "application/vnd.jupyter.widget-view+json": {
       "model_id": "e3ee7ec4824b48079f8e34e723e4d546",
       "version_major": 2,
       "version_minor": 0
      },
      "text/plain": [
       "Episode 275:   0%|          | 0/300 [00:00<?, ?it/s]"
      ]
     },
     "metadata": {},
     "output_type": "display_data"
    },
    {
     "name": "stdout",
     "output_type": "stream",
     "text": [
      "Episode 275\tAverage Score: 9.67"
     ]
    },
    {
     "data": {
      "application/vnd.jupyter.widget-view+json": {
       "model_id": "d00edc0d0c0b4cefa99d236919558423",
       "version_major": 2,
       "version_minor": 0
      },
      "text/plain": [
       "Episode 276:   0%|          | 0/300 [00:00<?, ?it/s]"
      ]
     },
     "metadata": {},
     "output_type": "display_data"
    },
    {
     "name": "stdout",
     "output_type": "stream",
     "text": [
      "Episode 276\tAverage Score: 9.72"
     ]
    },
    {
     "data": {
      "application/vnd.jupyter.widget-view+json": {
       "model_id": "d50019f083cb408bbf762035929f45ec",
       "version_major": 2,
       "version_minor": 0
      },
      "text/plain": [
       "Episode 277:   0%|          | 0/300 [00:00<?, ?it/s]"
      ]
     },
     "metadata": {},
     "output_type": "display_data"
    },
    {
     "name": "stdout",
     "output_type": "stream",
     "text": [
      "Episode 277\tAverage Score: 9.75"
     ]
    },
    {
     "data": {
      "application/vnd.jupyter.widget-view+json": {
       "model_id": "294a5d1af7ec4e2d9f17556ed7c70f6d",
       "version_major": 2,
       "version_minor": 0
      },
      "text/plain": [
       "Episode 278:   0%|          | 0/300 [00:00<?, ?it/s]"
      ]
     },
     "metadata": {},
     "output_type": "display_data"
    },
    {
     "name": "stdout",
     "output_type": "stream",
     "text": [
      "Episode 278\tAverage Score: 9.77"
     ]
    },
    {
     "data": {
      "application/vnd.jupyter.widget-view+json": {
       "model_id": "244ed408899847d0bee02e4f2d850416",
       "version_major": 2,
       "version_minor": 0
      },
      "text/plain": [
       "Episode 279:   0%|          | 0/300 [00:00<?, ?it/s]"
      ]
     },
     "metadata": {},
     "output_type": "display_data"
    },
    {
     "name": "stdout",
     "output_type": "stream",
     "text": [
      "Episode 279\tAverage Score: 9.87"
     ]
    },
    {
     "data": {
      "application/vnd.jupyter.widget-view+json": {
       "model_id": "b6f562b593fd4791bd31169d31d71f51",
       "version_major": 2,
       "version_minor": 0
      },
      "text/plain": [
       "Episode 280:   0%|          | 0/300 [00:00<?, ?it/s]"
      ]
     },
     "metadata": {},
     "output_type": "display_data"
    },
    {
     "name": "stdout",
     "output_type": "stream",
     "text": [
      "Episode 280\tAverage Score: 9.87"
     ]
    },
    {
     "data": {
      "application/vnd.jupyter.widget-view+json": {
       "model_id": "669ead40b04843f9b8427b34769d2a6a",
       "version_major": 2,
       "version_minor": 0
      },
      "text/plain": [
       "Episode 281:   0%|          | 0/300 [00:00<?, ?it/s]"
      ]
     },
     "metadata": {},
     "output_type": "display_data"
    },
    {
     "name": "stdout",
     "output_type": "stream",
     "text": [
      "Episode 281\tAverage Score: 9.84"
     ]
    },
    {
     "data": {
      "application/vnd.jupyter.widget-view+json": {
       "model_id": "34cb82e98bf2422289c90dd22d4c4c38",
       "version_major": 2,
       "version_minor": 0
      },
      "text/plain": [
       "Episode 282:   0%|          | 0/300 [00:00<?, ?it/s]"
      ]
     },
     "metadata": {},
     "output_type": "display_data"
    },
    {
     "name": "stdout",
     "output_type": "stream",
     "text": [
      "Episode 282\tAverage Score: 9.92"
     ]
    },
    {
     "data": {
      "application/vnd.jupyter.widget-view+json": {
       "model_id": "4fa1dc02ad2c41b2a9e315be6274b9bc",
       "version_major": 2,
       "version_minor": 0
      },
      "text/plain": [
       "Episode 283:   0%|          | 0/300 [00:00<?, ?it/s]"
      ]
     },
     "metadata": {},
     "output_type": "display_data"
    },
    {
     "name": "stdout",
     "output_type": "stream",
     "text": [
      "Episode 283\tAverage Score: 9.94"
     ]
    },
    {
     "data": {
      "application/vnd.jupyter.widget-view+json": {
       "model_id": "a74eff61ef884affacfe211f68170335",
       "version_major": 2,
       "version_minor": 0
      },
      "text/plain": [
       "Episode 284:   0%|          | 0/300 [00:00<?, ?it/s]"
      ]
     },
     "metadata": {},
     "output_type": "display_data"
    },
    {
     "name": "stdout",
     "output_type": "stream",
     "text": [
      "Episode 284\tAverage Score: 9.96"
     ]
    },
    {
     "data": {
      "application/vnd.jupyter.widget-view+json": {
       "model_id": "335af3a96b1f43db8cc659312a1c36c4",
       "version_major": 2,
       "version_minor": 0
      },
      "text/plain": [
       "Episode 285:   0%|          | 0/300 [00:00<?, ?it/s]"
      ]
     },
     "metadata": {},
     "output_type": "display_data"
    },
    {
     "name": "stdout",
     "output_type": "stream",
     "text": [
      "Episode 285\tAverage Score: 10.02"
     ]
    },
    {
     "data": {
      "application/vnd.jupyter.widget-view+json": {
       "model_id": "f18a0fbe140c49bd91b27018e51c409e",
       "version_major": 2,
       "version_minor": 0
      },
      "text/plain": [
       "Episode 286:   0%|          | 0/300 [00:00<?, ?it/s]"
      ]
     },
     "metadata": {},
     "output_type": "display_data"
    },
    {
     "name": "stdout",
     "output_type": "stream",
     "text": [
      "Episode 286\tAverage Score: 10.11"
     ]
    },
    {
     "data": {
      "application/vnd.jupyter.widget-view+json": {
       "model_id": "33185d03ad984f50b01faa912c928fe2",
       "version_major": 2,
       "version_minor": 0
      },
      "text/plain": [
       "Episode 287:   0%|          | 0/300 [00:00<?, ?it/s]"
      ]
     },
     "metadata": {},
     "output_type": "display_data"
    },
    {
     "name": "stdout",
     "output_type": "stream",
     "text": [
      "Episode 287\tAverage Score: 10.13"
     ]
    },
    {
     "data": {
      "application/vnd.jupyter.widget-view+json": {
       "model_id": "695a9162f31c4e9f982fce3c3c92b393",
       "version_major": 2,
       "version_minor": 0
      },
      "text/plain": [
       "Episode 288:   0%|          | 0/300 [00:00<?, ?it/s]"
      ]
     },
     "metadata": {},
     "output_type": "display_data"
    },
    {
     "name": "stdout",
     "output_type": "stream",
     "text": [
      "Episode 288\tAverage Score: 10.13"
     ]
    },
    {
     "data": {
      "application/vnd.jupyter.widget-view+json": {
       "model_id": "f6b51c46e4b34899a64f01c8f471a19d",
       "version_major": 2,
       "version_minor": 0
      },
      "text/plain": [
       "Episode 289:   0%|          | 0/300 [00:00<?, ?it/s]"
      ]
     },
     "metadata": {},
     "output_type": "display_data"
    },
    {
     "name": "stdout",
     "output_type": "stream",
     "text": [
      "Episode 289\tAverage Score: 10.20"
     ]
    },
    {
     "data": {
      "application/vnd.jupyter.widget-view+json": {
       "model_id": "7fcbb352079d4e27b9bde6f7fe7ce187",
       "version_major": 2,
       "version_minor": 0
      },
      "text/plain": [
       "Episode 290:   0%|          | 0/300 [00:00<?, ?it/s]"
      ]
     },
     "metadata": {},
     "output_type": "display_data"
    },
    {
     "name": "stdout",
     "output_type": "stream",
     "text": [
      "Episode 290\tAverage Score: 10.17"
     ]
    },
    {
     "data": {
      "application/vnd.jupyter.widget-view+json": {
       "model_id": "5a16eb7b03be439b84ad7f8fbe33b24b",
       "version_major": 2,
       "version_minor": 0
      },
      "text/plain": [
       "Episode 291:   0%|          | 0/300 [00:00<?, ?it/s]"
      ]
     },
     "metadata": {},
     "output_type": "display_data"
    },
    {
     "name": "stdout",
     "output_type": "stream",
     "text": [
      "Episode 291\tAverage Score: 10.08"
     ]
    },
    {
     "data": {
      "application/vnd.jupyter.widget-view+json": {
       "model_id": "2bb9dc582c2848bf8c75cf4e0c69e9cd",
       "version_major": 2,
       "version_minor": 0
      },
      "text/plain": [
       "Episode 292:   0%|          | 0/300 [00:00<?, ?it/s]"
      ]
     },
     "metadata": {},
     "output_type": "display_data"
    },
    {
     "name": "stdout",
     "output_type": "stream",
     "text": [
      "Episode 292\tAverage Score: 10.05"
     ]
    },
    {
     "data": {
      "application/vnd.jupyter.widget-view+json": {
       "model_id": "26326bdabaab48758240237928db8b5f",
       "version_major": 2,
       "version_minor": 0
      },
      "text/plain": [
       "Episode 293:   0%|          | 0/300 [00:00<?, ?it/s]"
      ]
     },
     "metadata": {},
     "output_type": "display_data"
    },
    {
     "name": "stdout",
     "output_type": "stream",
     "text": [
      "Episode 293\tAverage Score: 9.97"
     ]
    },
    {
     "data": {
      "application/vnd.jupyter.widget-view+json": {
       "model_id": "80eafd0f2a96411aa64202526142fb69",
       "version_major": 2,
       "version_minor": 0
      },
      "text/plain": [
       "Episode 294:   0%|          | 0/300 [00:00<?, ?it/s]"
      ]
     },
     "metadata": {},
     "output_type": "display_data"
    },
    {
     "name": "stdout",
     "output_type": "stream",
     "text": [
      "Episode 294\tAverage Score: 9.97"
     ]
    },
    {
     "data": {
      "application/vnd.jupyter.widget-view+json": {
       "model_id": "88929309ae364c0f985e896ea47666a3",
       "version_major": 2,
       "version_minor": 0
      },
      "text/plain": [
       "Episode 295:   0%|          | 0/300 [00:00<?, ?it/s]"
      ]
     },
     "metadata": {},
     "output_type": "display_data"
    },
    {
     "name": "stdout",
     "output_type": "stream",
     "text": [
      "Episode 295\tAverage Score: 9.94"
     ]
    },
    {
     "data": {
      "application/vnd.jupyter.widget-view+json": {
       "model_id": "e74e664f67774cf4a93c238d83c99014",
       "version_major": 2,
       "version_minor": 0
      },
      "text/plain": [
       "Episode 296:   0%|          | 0/300 [00:00<?, ?it/s]"
      ]
     },
     "metadata": {},
     "output_type": "display_data"
    },
    {
     "name": "stdout",
     "output_type": "stream",
     "text": [
      "Episode 296\tAverage Score: 9.86"
     ]
    },
    {
     "data": {
      "application/vnd.jupyter.widget-view+json": {
       "model_id": "82da82c3a0de4e73903a34de48c69e88",
       "version_major": 2,
       "version_minor": 0
      },
      "text/plain": [
       "Episode 297:   0%|          | 0/300 [00:00<?, ?it/s]"
      ]
     },
     "metadata": {},
     "output_type": "display_data"
    },
    {
     "name": "stdout",
     "output_type": "stream",
     "text": [
      "Episode 297\tAverage Score: 9.96"
     ]
    },
    {
     "data": {
      "application/vnd.jupyter.widget-view+json": {
       "model_id": "3c0f501728d44656b0f0900383ccb328",
       "version_major": 2,
       "version_minor": 0
      },
      "text/plain": [
       "Episode 298:   0%|          | 0/300 [00:00<?, ?it/s]"
      ]
     },
     "metadata": {},
     "output_type": "display_data"
    },
    {
     "name": "stdout",
     "output_type": "stream",
     "text": [
      "Episode 298\tAverage Score: 9.96"
     ]
    },
    {
     "data": {
      "application/vnd.jupyter.widget-view+json": {
       "model_id": "4836213d571f48c6892d804bab1ecfc4",
       "version_major": 2,
       "version_minor": 0
      },
      "text/plain": [
       "Episode 299:   0%|          | 0/300 [00:00<?, ?it/s]"
      ]
     },
     "metadata": {},
     "output_type": "display_data"
    },
    {
     "name": "stdout",
     "output_type": "stream",
     "text": [
      "Episode 299\tAverage Score: 9.96"
     ]
    },
    {
     "data": {
      "application/vnd.jupyter.widget-view+json": {
       "model_id": "21be06bac12946dd85770fb48505a6d6",
       "version_major": 2,
       "version_minor": 0
      },
      "text/plain": [
       "Episode 300:   0%|          | 0/300 [00:00<?, ?it/s]"
      ]
     },
     "metadata": {},
     "output_type": "display_data"
    },
    {
     "name": "stdout",
     "output_type": "stream",
     "text": [
      "Episode 300\tAverage Score: 10.00\n"
     ]
    },
    {
     "data": {
      "application/vnd.jupyter.widget-view+json": {
       "model_id": "a965366e97df465ab4ac3953ce4f95af",
       "version_major": 2,
       "version_minor": 0
      },
      "text/plain": [
       "Episode 301:   0%|          | 0/300 [00:00<?, ?it/s]"
      ]
     },
     "metadata": {},
     "output_type": "display_data"
    },
    {
     "name": "stdout",
     "output_type": "stream",
     "text": [
      "Episode 301\tAverage Score: 9.98"
     ]
    },
    {
     "data": {
      "application/vnd.jupyter.widget-view+json": {
       "model_id": "5dd49e7f793d4971b09728b4a88ff387",
       "version_major": 2,
       "version_minor": 0
      },
      "text/plain": [
       "Episode 302:   0%|          | 0/300 [00:00<?, ?it/s]"
      ]
     },
     "metadata": {},
     "output_type": "display_data"
    },
    {
     "name": "stdout",
     "output_type": "stream",
     "text": [
      "Episode 302\tAverage Score: 10.01"
     ]
    },
    {
     "data": {
      "application/vnd.jupyter.widget-view+json": {
       "model_id": "a5132253962f4a60bb899ba34cd88cd3",
       "version_major": 2,
       "version_minor": 0
      },
      "text/plain": [
       "Episode 303:   0%|          | 0/300 [00:00<?, ?it/s]"
      ]
     },
     "metadata": {},
     "output_type": "display_data"
    },
    {
     "name": "stdout",
     "output_type": "stream",
     "text": [
      "Episode 303\tAverage Score: 10.01"
     ]
    },
    {
     "data": {
      "application/vnd.jupyter.widget-view+json": {
       "model_id": "dd408be1afee4ca08f636ef7aeeab7ed",
       "version_major": 2,
       "version_minor": 0
      },
      "text/plain": [
       "Episode 304:   0%|          | 0/300 [00:00<?, ?it/s]"
      ]
     },
     "metadata": {},
     "output_type": "display_data"
    },
    {
     "name": "stdout",
     "output_type": "stream",
     "text": [
      "Episode 304\tAverage Score: 10.08"
     ]
    },
    {
     "data": {
      "application/vnd.jupyter.widget-view+json": {
       "model_id": "51b31bd304e84cb1a82b334c4140fcf9",
       "version_major": 2,
       "version_minor": 0
      },
      "text/plain": [
       "Episode 305:   0%|          | 0/300 [00:00<?, ?it/s]"
      ]
     },
     "metadata": {},
     "output_type": "display_data"
    },
    {
     "name": "stdout",
     "output_type": "stream",
     "text": [
      "Episode 305\tAverage Score: 10.16"
     ]
    },
    {
     "data": {
      "application/vnd.jupyter.widget-view+json": {
       "model_id": "7f05a3f20b83466198b9dcf49ca74297",
       "version_major": 2,
       "version_minor": 0
      },
      "text/plain": [
       "Episode 306:   0%|          | 0/300 [00:00<?, ?it/s]"
      ]
     },
     "metadata": {},
     "output_type": "display_data"
    },
    {
     "name": "stdout",
     "output_type": "stream",
     "text": [
      "Episode 306\tAverage Score: 10.14"
     ]
    },
    {
     "data": {
      "application/vnd.jupyter.widget-view+json": {
       "model_id": "56d2c42258dd45319fb83060309b209e",
       "version_major": 2,
       "version_minor": 0
      },
      "text/plain": [
       "Episode 307:   0%|          | 0/300 [00:00<?, ?it/s]"
      ]
     },
     "metadata": {},
     "output_type": "display_data"
    },
    {
     "name": "stdout",
     "output_type": "stream",
     "text": [
      "Episode 307\tAverage Score: 10.14"
     ]
    },
    {
     "data": {
      "application/vnd.jupyter.widget-view+json": {
       "model_id": "f641b7f9de234b8986ddb064c7271e77",
       "version_major": 2,
       "version_minor": 0
      },
      "text/plain": [
       "Episode 308:   0%|          | 0/300 [00:00<?, ?it/s]"
      ]
     },
     "metadata": {},
     "output_type": "display_data"
    },
    {
     "name": "stdout",
     "output_type": "stream",
     "text": [
      "Episode 308\tAverage Score: 10.21"
     ]
    },
    {
     "data": {
      "application/vnd.jupyter.widget-view+json": {
       "model_id": "2fb6d01bba8b4728be1e1bb4eb5c779b",
       "version_major": 2,
       "version_minor": 0
      },
      "text/plain": [
       "Episode 309:   0%|          | 0/300 [00:00<?, ?it/s]"
      ]
     },
     "metadata": {},
     "output_type": "display_data"
    },
    {
     "name": "stdout",
     "output_type": "stream",
     "text": [
      "Episode 309\tAverage Score: 10.23"
     ]
    },
    {
     "data": {
      "application/vnd.jupyter.widget-view+json": {
       "model_id": "7de31cabdb2646429b3421dd483ca866",
       "version_major": 2,
       "version_minor": 0
      },
      "text/plain": [
       "Episode 310:   0%|          | 0/300 [00:00<?, ?it/s]"
      ]
     },
     "metadata": {},
     "output_type": "display_data"
    },
    {
     "name": "stdout",
     "output_type": "stream",
     "text": [
      "Episode 310\tAverage Score: 10.18"
     ]
    },
    {
     "data": {
      "application/vnd.jupyter.widget-view+json": {
       "model_id": "c6391d30a6e94a63b3c1757ad92b0bf0",
       "version_major": 2,
       "version_minor": 0
      },
      "text/plain": [
       "Episode 311:   0%|          | 0/300 [00:00<?, ?it/s]"
      ]
     },
     "metadata": {},
     "output_type": "display_data"
    },
    {
     "name": "stdout",
     "output_type": "stream",
     "text": [
      "Episode 311\tAverage Score: 10.24"
     ]
    },
    {
     "data": {
      "application/vnd.jupyter.widget-view+json": {
       "model_id": "77e312b7290b48889e589c82b29650f3",
       "version_major": 2,
       "version_minor": 0
      },
      "text/plain": [
       "Episode 312:   0%|          | 0/300 [00:00<?, ?it/s]"
      ]
     },
     "metadata": {},
     "output_type": "display_data"
    },
    {
     "name": "stdout",
     "output_type": "stream",
     "text": [
      "Episode 312\tAverage Score: 10.24"
     ]
    },
    {
     "data": {
      "application/vnd.jupyter.widget-view+json": {
       "model_id": "7e2af0548e7d44aaabe9ba7a18353b4e",
       "version_major": 2,
       "version_minor": 0
      },
      "text/plain": [
       "Episode 313:   0%|          | 0/300 [00:00<?, ?it/s]"
      ]
     },
     "metadata": {},
     "output_type": "display_data"
    },
    {
     "name": "stdout",
     "output_type": "stream",
     "text": [
      "Episode 313\tAverage Score: 10.29"
     ]
    },
    {
     "data": {
      "application/vnd.jupyter.widget-view+json": {
       "model_id": "afbbc82d940d4dea918a246edd809e51",
       "version_major": 2,
       "version_minor": 0
      },
      "text/plain": [
       "Episode 314:   0%|          | 0/300 [00:00<?, ?it/s]"
      ]
     },
     "metadata": {},
     "output_type": "display_data"
    },
    {
     "name": "stdout",
     "output_type": "stream",
     "text": [
      "Episode 314\tAverage Score: 10.29"
     ]
    },
    {
     "data": {
      "application/vnd.jupyter.widget-view+json": {
       "model_id": "12ac34f07c514cc48eecda4791c7dc16",
       "version_major": 2,
       "version_minor": 0
      },
      "text/plain": [
       "Episode 315:   0%|          | 0/300 [00:00<?, ?it/s]"
      ]
     },
     "metadata": {},
     "output_type": "display_data"
    },
    {
     "name": "stdout",
     "output_type": "stream",
     "text": [
      "Episode 315\tAverage Score: 10.26"
     ]
    },
    {
     "data": {
      "application/vnd.jupyter.widget-view+json": {
       "model_id": "06c6717b38514786a6fce3392f15d36d",
       "version_major": 2,
       "version_minor": 0
      },
      "text/plain": [
       "Episode 316:   0%|          | 0/300 [00:00<?, ?it/s]"
      ]
     },
     "metadata": {},
     "output_type": "display_data"
    },
    {
     "name": "stdout",
     "output_type": "stream",
     "text": [
      "Episode 316\tAverage Score: 10.40"
     ]
    },
    {
     "data": {
      "application/vnd.jupyter.widget-view+json": {
       "model_id": "e4d2fc7092704252a94fc867f7028575",
       "version_major": 2,
       "version_minor": 0
      },
      "text/plain": [
       "Episode 317:   0%|          | 0/300 [00:00<?, ?it/s]"
      ]
     },
     "metadata": {},
     "output_type": "display_data"
    },
    {
     "name": "stdout",
     "output_type": "stream",
     "text": [
      "Episode 317\tAverage Score: 10.42"
     ]
    },
    {
     "data": {
      "application/vnd.jupyter.widget-view+json": {
       "model_id": "6d37de7eafb34522aa8de14500ce9096",
       "version_major": 2,
       "version_minor": 0
      },
      "text/plain": [
       "Episode 318:   0%|          | 0/300 [00:00<?, ?it/s]"
      ]
     },
     "metadata": {},
     "output_type": "display_data"
    },
    {
     "name": "stdout",
     "output_type": "stream",
     "text": [
      "Episode 318\tAverage Score: 10.43"
     ]
    },
    {
     "data": {
      "application/vnd.jupyter.widget-view+json": {
       "model_id": "fb9fef01a8a34e56b8c4581774f43285",
       "version_major": 2,
       "version_minor": 0
      },
      "text/plain": [
       "Episode 319:   0%|          | 0/300 [00:00<?, ?it/s]"
      ]
     },
     "metadata": {},
     "output_type": "display_data"
    },
    {
     "name": "stdout",
     "output_type": "stream",
     "text": [
      "Episode 319\tAverage Score: 10.47"
     ]
    },
    {
     "data": {
      "application/vnd.jupyter.widget-view+json": {
       "model_id": "a3c712a125284faf9fa4bd12a7a92c92",
       "version_major": 2,
       "version_minor": 0
      },
      "text/plain": [
       "Episode 320:   0%|          | 0/300 [00:00<?, ?it/s]"
      ]
     },
     "metadata": {},
     "output_type": "display_data"
    },
    {
     "name": "stdout",
     "output_type": "stream",
     "text": [
      "Episode 320\tAverage Score: 10.39"
     ]
    },
    {
     "data": {
      "application/vnd.jupyter.widget-view+json": {
       "model_id": "0fcb1862f4784811b0d689ed4e26aa51",
       "version_major": 2,
       "version_minor": 0
      },
      "text/plain": [
       "Episode 321:   0%|          | 0/300 [00:00<?, ?it/s]"
      ]
     },
     "metadata": {},
     "output_type": "display_data"
    },
    {
     "name": "stdout",
     "output_type": "stream",
     "text": [
      "Episode 321\tAverage Score: 10.35"
     ]
    },
    {
     "data": {
      "application/vnd.jupyter.widget-view+json": {
       "model_id": "c6e30735f1f9408ea569cc8ec7327653",
       "version_major": 2,
       "version_minor": 0
      },
      "text/plain": [
       "Episode 322:   0%|          | 0/300 [00:00<?, ?it/s]"
      ]
     },
     "metadata": {},
     "output_type": "display_data"
    },
    {
     "name": "stdout",
     "output_type": "stream",
     "text": [
      "Episode 322\tAverage Score: 10.39"
     ]
    },
    {
     "data": {
      "application/vnd.jupyter.widget-view+json": {
       "model_id": "2eb9071cca3041f09658c03b3f0d33ed",
       "version_major": 2,
       "version_minor": 0
      },
      "text/plain": [
       "Episode 323:   0%|          | 0/300 [00:00<?, ?it/s]"
      ]
     },
     "metadata": {},
     "output_type": "display_data"
    },
    {
     "name": "stdout",
     "output_type": "stream",
     "text": [
      "Episode 323\tAverage Score: 10.30"
     ]
    },
    {
     "data": {
      "application/vnd.jupyter.widget-view+json": {
       "model_id": "a95ded6f286b4868850703c19f5d5f82",
       "version_major": 2,
       "version_minor": 0
      },
      "text/plain": [
       "Episode 324:   0%|          | 0/300 [00:00<?, ?it/s]"
      ]
     },
     "metadata": {},
     "output_type": "display_data"
    },
    {
     "name": "stdout",
     "output_type": "stream",
     "text": [
      "Episode 324\tAverage Score: 10.35"
     ]
    },
    {
     "data": {
      "application/vnd.jupyter.widget-view+json": {
       "model_id": "0582e238fd354064bb7493062e74c376",
       "version_major": 2,
       "version_minor": 0
      },
      "text/plain": [
       "Episode 325:   0%|          | 0/300 [00:00<?, ?it/s]"
      ]
     },
     "metadata": {},
     "output_type": "display_data"
    },
    {
     "name": "stdout",
     "output_type": "stream",
     "text": [
      "Episode 325\tAverage Score: 10.38"
     ]
    },
    {
     "data": {
      "application/vnd.jupyter.widget-view+json": {
       "model_id": "e1dd791185614e9098d4bee7600a7335",
       "version_major": 2,
       "version_minor": 0
      },
      "text/plain": [
       "Episode 326:   0%|          | 0/300 [00:00<?, ?it/s]"
      ]
     },
     "metadata": {},
     "output_type": "display_data"
    },
    {
     "name": "stdout",
     "output_type": "stream",
     "text": [
      "Episode 326\tAverage Score: 10.36"
     ]
    },
    {
     "data": {
      "application/vnd.jupyter.widget-view+json": {
       "model_id": "36608415143f49a9a94dcbb7c65230ae",
       "version_major": 2,
       "version_minor": 0
      },
      "text/plain": [
       "Episode 327:   0%|          | 0/300 [00:00<?, ?it/s]"
      ]
     },
     "metadata": {},
     "output_type": "display_data"
    },
    {
     "name": "stdout",
     "output_type": "stream",
     "text": [
      "Episode 327\tAverage Score: 10.34"
     ]
    },
    {
     "data": {
      "application/vnd.jupyter.widget-view+json": {
       "model_id": "8bb77a8a071848419d158a9e2c91ed91",
       "version_major": 2,
       "version_minor": 0
      },
      "text/plain": [
       "Episode 328:   0%|          | 0/300 [00:00<?, ?it/s]"
      ]
     },
     "metadata": {},
     "output_type": "display_data"
    },
    {
     "name": "stdout",
     "output_type": "stream",
     "text": [
      "Episode 328\tAverage Score: 10.42"
     ]
    },
    {
     "data": {
      "application/vnd.jupyter.widget-view+json": {
       "model_id": "75b58215b0cd43978884f81ab0a07db3",
       "version_major": 2,
       "version_minor": 0
      },
      "text/plain": [
       "Episode 329:   0%|          | 0/300 [00:00<?, ?it/s]"
      ]
     },
     "metadata": {},
     "output_type": "display_data"
    },
    {
     "name": "stdout",
     "output_type": "stream",
     "text": [
      "Episode 329\tAverage Score: 10.40"
     ]
    },
    {
     "data": {
      "application/vnd.jupyter.widget-view+json": {
       "model_id": "add2574fa5124cfbbcc56277e7bacd49",
       "version_major": 2,
       "version_minor": 0
      },
      "text/plain": [
       "Episode 330:   0%|          | 0/300 [00:00<?, ?it/s]"
      ]
     },
     "metadata": {},
     "output_type": "display_data"
    },
    {
     "name": "stdout",
     "output_type": "stream",
     "text": [
      "Episode 330\tAverage Score: 10.35"
     ]
    },
    {
     "data": {
      "application/vnd.jupyter.widget-view+json": {
       "model_id": "3e59d8d5786042d7a60de9365e4fc11d",
       "version_major": 2,
       "version_minor": 0
      },
      "text/plain": [
       "Episode 331:   0%|          | 0/300 [00:00<?, ?it/s]"
      ]
     },
     "metadata": {},
     "output_type": "display_data"
    },
    {
     "name": "stdout",
     "output_type": "stream",
     "text": [
      "Episode 331\tAverage Score: 10.33"
     ]
    },
    {
     "data": {
      "application/vnd.jupyter.widget-view+json": {
       "model_id": "0c39bad34ce3497fa75ceadfeee66f84",
       "version_major": 2,
       "version_minor": 0
      },
      "text/plain": [
       "Episode 332:   0%|          | 0/300 [00:00<?, ?it/s]"
      ]
     },
     "metadata": {},
     "output_type": "display_data"
    },
    {
     "name": "stdout",
     "output_type": "stream",
     "text": [
      "Episode 332\tAverage Score: 10.36"
     ]
    },
    {
     "data": {
      "application/vnd.jupyter.widget-view+json": {
       "model_id": "8d7e4134209c45be95dae021d9be5b8c",
       "version_major": 2,
       "version_minor": 0
      },
      "text/plain": [
       "Episode 333:   0%|          | 0/300 [00:00<?, ?it/s]"
      ]
     },
     "metadata": {},
     "output_type": "display_data"
    },
    {
     "name": "stdout",
     "output_type": "stream",
     "text": [
      "Episode 333\tAverage Score: 10.36"
     ]
    },
    {
     "data": {
      "application/vnd.jupyter.widget-view+json": {
       "model_id": "519b5cc4024847d68b8b9df9ff7c41d1",
       "version_major": 2,
       "version_minor": 0
      },
      "text/plain": [
       "Episode 334:   0%|          | 0/300 [00:00<?, ?it/s]"
      ]
     },
     "metadata": {},
     "output_type": "display_data"
    },
    {
     "name": "stdout",
     "output_type": "stream",
     "text": [
      "Episode 334\tAverage Score: 10.34"
     ]
    },
    {
     "data": {
      "application/vnd.jupyter.widget-view+json": {
       "model_id": "21b259a86ed14e08bcfdc9b71470508b",
       "version_major": 2,
       "version_minor": 0
      },
      "text/plain": [
       "Episode 335:   0%|          | 0/300 [00:00<?, ?it/s]"
      ]
     },
     "metadata": {},
     "output_type": "display_data"
    },
    {
     "name": "stdout",
     "output_type": "stream",
     "text": [
      "Episode 335\tAverage Score: 10.36"
     ]
    },
    {
     "data": {
      "application/vnd.jupyter.widget-view+json": {
       "model_id": "45b79b4972f742d8b39954292bd342c6",
       "version_major": 2,
       "version_minor": 0
      },
      "text/plain": [
       "Episode 336:   0%|          | 0/300 [00:00<?, ?it/s]"
      ]
     },
     "metadata": {},
     "output_type": "display_data"
    },
    {
     "name": "stdout",
     "output_type": "stream",
     "text": [
      "Episode 336\tAverage Score: 10.45"
     ]
    },
    {
     "data": {
      "application/vnd.jupyter.widget-view+json": {
       "model_id": "631f55d06d384363bc0c01a9b23c93c4",
       "version_major": 2,
       "version_minor": 0
      },
      "text/plain": [
       "Episode 337:   0%|          | 0/300 [00:00<?, ?it/s]"
      ]
     },
     "metadata": {},
     "output_type": "display_data"
    },
    {
     "name": "stdout",
     "output_type": "stream",
     "text": [
      "Episode 337\tAverage Score: 10.41"
     ]
    },
    {
     "data": {
      "application/vnd.jupyter.widget-view+json": {
       "model_id": "8564e7e9ebc5421cb90209f5591adc8d",
       "version_major": 2,
       "version_minor": 0
      },
      "text/plain": [
       "Episode 338:   0%|          | 0/300 [00:00<?, ?it/s]"
      ]
     },
     "metadata": {},
     "output_type": "display_data"
    },
    {
     "name": "stdout",
     "output_type": "stream",
     "text": [
      "Episode 338\tAverage Score: 10.51"
     ]
    },
    {
     "data": {
      "application/vnd.jupyter.widget-view+json": {
       "model_id": "9fba99058a5f45868adef3d6c9dc687e",
       "version_major": 2,
       "version_minor": 0
      },
      "text/plain": [
       "Episode 339:   0%|          | 0/300 [00:00<?, ?it/s]"
      ]
     },
     "metadata": {},
     "output_type": "display_data"
    },
    {
     "name": "stdout",
     "output_type": "stream",
     "text": [
      "Episode 339\tAverage Score: 10.47"
     ]
    },
    {
     "data": {
      "application/vnd.jupyter.widget-view+json": {
       "model_id": "8fb8fb817c464920b465b9cda99c74b4",
       "version_major": 2,
       "version_minor": 0
      },
      "text/plain": [
       "Episode 340:   0%|          | 0/300 [00:00<?, ?it/s]"
      ]
     },
     "metadata": {},
     "output_type": "display_data"
    },
    {
     "name": "stdout",
     "output_type": "stream",
     "text": [
      "Episode 340\tAverage Score: 10.42"
     ]
    },
    {
     "data": {
      "application/vnd.jupyter.widget-view+json": {
       "model_id": "c5be299db2cd49b29f45c4ddda958d59",
       "version_major": 2,
       "version_minor": 0
      },
      "text/plain": [
       "Episode 341:   0%|          | 0/300 [00:00<?, ?it/s]"
      ]
     },
     "metadata": {},
     "output_type": "display_data"
    },
    {
     "name": "stdout",
     "output_type": "stream",
     "text": [
      "Episode 341\tAverage Score: 10.42"
     ]
    },
    {
     "data": {
      "application/vnd.jupyter.widget-view+json": {
       "model_id": "5fe050ef63d94db29413ec1640fdb3da",
       "version_major": 2,
       "version_minor": 0
      },
      "text/plain": [
       "Episode 342:   0%|          | 0/300 [00:00<?, ?it/s]"
      ]
     },
     "metadata": {},
     "output_type": "display_data"
    },
    {
     "name": "stdout",
     "output_type": "stream",
     "text": [
      "Episode 342\tAverage Score: 10.34"
     ]
    },
    {
     "data": {
      "application/vnd.jupyter.widget-view+json": {
       "model_id": "dbde9bd366f5444b9782680470189be7",
       "version_major": 2,
       "version_minor": 0
      },
      "text/plain": [
       "Episode 343:   0%|          | 0/300 [00:00<?, ?it/s]"
      ]
     },
     "metadata": {},
     "output_type": "display_data"
    },
    {
     "name": "stdout",
     "output_type": "stream",
     "text": [
      "Episode 343\tAverage Score: 10.30"
     ]
    },
    {
     "data": {
      "application/vnd.jupyter.widget-view+json": {
       "model_id": "d45bf13525d84a2aa6f9e982da5c4e3a",
       "version_major": 2,
       "version_minor": 0
      },
      "text/plain": [
       "Episode 344:   0%|          | 0/300 [00:00<?, ?it/s]"
      ]
     },
     "metadata": {},
     "output_type": "display_data"
    },
    {
     "name": "stdout",
     "output_type": "stream",
     "text": [
      "Episode 344\tAverage Score: 10.30"
     ]
    },
    {
     "data": {
      "application/vnd.jupyter.widget-view+json": {
       "model_id": "b430af58055e421ea6c3ebbeba872201",
       "version_major": 2,
       "version_minor": 0
      },
      "text/plain": [
       "Episode 345:   0%|          | 0/300 [00:00<?, ?it/s]"
      ]
     },
     "metadata": {},
     "output_type": "display_data"
    },
    {
     "name": "stdout",
     "output_type": "stream",
     "text": [
      "Episode 345\tAverage Score: 10.31"
     ]
    },
    {
     "data": {
      "application/vnd.jupyter.widget-view+json": {
       "model_id": "c685e00a371e4cb68b4f8067005f8598",
       "version_major": 2,
       "version_minor": 0
      },
      "text/plain": [
       "Episode 346:   0%|          | 0/300 [00:00<?, ?it/s]"
      ]
     },
     "metadata": {},
     "output_type": "display_data"
    },
    {
     "name": "stdout",
     "output_type": "stream",
     "text": [
      "Episode 346\tAverage Score: 10.25"
     ]
    },
    {
     "data": {
      "application/vnd.jupyter.widget-view+json": {
       "model_id": "3d019bf125284c16a6817051ad9b07b1",
       "version_major": 2,
       "version_minor": 0
      },
      "text/plain": [
       "Episode 347:   0%|          | 0/300 [00:00<?, ?it/s]"
      ]
     },
     "metadata": {},
     "output_type": "display_data"
    },
    {
     "name": "stdout",
     "output_type": "stream",
     "text": [
      "Episode 347\tAverage Score: 10.23"
     ]
    },
    {
     "data": {
      "application/vnd.jupyter.widget-view+json": {
       "model_id": "ded14072e4e64f91a14098c0b3fb2fe8",
       "version_major": 2,
       "version_minor": 0
      },
      "text/plain": [
       "Episode 348:   0%|          | 0/300 [00:00<?, ?it/s]"
      ]
     },
     "metadata": {},
     "output_type": "display_data"
    },
    {
     "name": "stdout",
     "output_type": "stream",
     "text": [
      "Episode 348\tAverage Score: 10.21"
     ]
    },
    {
     "data": {
      "application/vnd.jupyter.widget-view+json": {
       "model_id": "fe3cc848df79463888d8fab652e0257a",
       "version_major": 2,
       "version_minor": 0
      },
      "text/plain": [
       "Episode 349:   0%|          | 0/300 [00:00<?, ?it/s]"
      ]
     },
     "metadata": {},
     "output_type": "display_data"
    },
    {
     "name": "stdout",
     "output_type": "stream",
     "text": [
      "Episode 349\tAverage Score: 10.22"
     ]
    },
    {
     "data": {
      "application/vnd.jupyter.widget-view+json": {
       "model_id": "ffac36416c3a4d1891c997d127b1da6a",
       "version_major": 2,
       "version_minor": 0
      },
      "text/plain": [
       "Episode 350:   0%|          | 0/300 [00:00<?, ?it/s]"
      ]
     },
     "metadata": {},
     "output_type": "display_data"
    },
    {
     "name": "stdout",
     "output_type": "stream",
     "text": [
      "Episode 350\tAverage Score: 10.34"
     ]
    },
    {
     "data": {
      "application/vnd.jupyter.widget-view+json": {
       "model_id": "e2327ad1313048b887374149ecd01aa7",
       "version_major": 2,
       "version_minor": 0
      },
      "text/plain": [
       "Episode 351:   0%|          | 0/300 [00:00<?, ?it/s]"
      ]
     },
     "metadata": {},
     "output_type": "display_data"
    },
    {
     "name": "stdout",
     "output_type": "stream",
     "text": [
      "Episode 351\tAverage Score: 10.36"
     ]
    },
    {
     "data": {
      "application/vnd.jupyter.widget-view+json": {
       "model_id": "1aa5f06b83df484b80c2c1d6e60fe1af",
       "version_major": 2,
       "version_minor": 0
      },
      "text/plain": [
       "Episode 352:   0%|          | 0/300 [00:00<?, ?it/s]"
      ]
     },
     "metadata": {},
     "output_type": "display_data"
    },
    {
     "name": "stdout",
     "output_type": "stream",
     "text": [
      "Episode 352\tAverage Score: 10.31"
     ]
    },
    {
     "data": {
      "application/vnd.jupyter.widget-view+json": {
       "model_id": "092bb3a4307742d5861445ab33c4d426",
       "version_major": 2,
       "version_minor": 0
      },
      "text/plain": [
       "Episode 353:   0%|          | 0/300 [00:00<?, ?it/s]"
      ]
     },
     "metadata": {},
     "output_type": "display_data"
    },
    {
     "name": "stdout",
     "output_type": "stream",
     "text": [
      "Episode 353\tAverage Score: 10.34"
     ]
    },
    {
     "data": {
      "application/vnd.jupyter.widget-view+json": {
       "model_id": "ba1c37c82eb142b7933f89cb75d49a77",
       "version_major": 2,
       "version_minor": 0
      },
      "text/plain": [
       "Episode 354:   0%|          | 0/300 [00:00<?, ?it/s]"
      ]
     },
     "metadata": {},
     "output_type": "display_data"
    },
    {
     "name": "stdout",
     "output_type": "stream",
     "text": [
      "Episode 354\tAverage Score: 10.40"
     ]
    },
    {
     "data": {
      "application/vnd.jupyter.widget-view+json": {
       "model_id": "c01dc70d91b841e5885ad5514e933acc",
       "version_major": 2,
       "version_minor": 0
      },
      "text/plain": [
       "Episode 355:   0%|          | 0/300 [00:00<?, ?it/s]"
      ]
     },
     "metadata": {},
     "output_type": "display_data"
    },
    {
     "name": "stdout",
     "output_type": "stream",
     "text": [
      "Episode 355\tAverage Score: 10.49"
     ]
    },
    {
     "data": {
      "application/vnd.jupyter.widget-view+json": {
       "model_id": "9f6bd25726794fa2b3ca11e4b6b0f63c",
       "version_major": 2,
       "version_minor": 0
      },
      "text/plain": [
       "Episode 356:   0%|          | 0/300 [00:00<?, ?it/s]"
      ]
     },
     "metadata": {},
     "output_type": "display_data"
    },
    {
     "name": "stdout",
     "output_type": "stream",
     "text": [
      "Episode 356\tAverage Score: 10.47"
     ]
    },
    {
     "data": {
      "application/vnd.jupyter.widget-view+json": {
       "model_id": "49c8dba2352f4b6fb7950806261e4de4",
       "version_major": 2,
       "version_minor": 0
      },
      "text/plain": [
       "Episode 357:   0%|          | 0/300 [00:00<?, ?it/s]"
      ]
     },
     "metadata": {},
     "output_type": "display_data"
    },
    {
     "name": "stdout",
     "output_type": "stream",
     "text": [
      "Episode 357\tAverage Score: 10.51"
     ]
    },
    {
     "data": {
      "application/vnd.jupyter.widget-view+json": {
       "model_id": "228824ee4ea44d9c83b8590ca75aca62",
       "version_major": 2,
       "version_minor": 0
      },
      "text/plain": [
       "Episode 358:   0%|          | 0/300 [00:00<?, ?it/s]"
      ]
     },
     "metadata": {},
     "output_type": "display_data"
    },
    {
     "name": "stdout",
     "output_type": "stream",
     "text": [
      "Episode 358\tAverage Score: 10.59"
     ]
    },
    {
     "data": {
      "application/vnd.jupyter.widget-view+json": {
       "model_id": "7d7d1cd36f03497ea1105cf9701e2f17",
       "version_major": 2,
       "version_minor": 0
      },
      "text/plain": [
       "Episode 359:   0%|          | 0/300 [00:00<?, ?it/s]"
      ]
     },
     "metadata": {},
     "output_type": "display_data"
    },
    {
     "name": "stdout",
     "output_type": "stream",
     "text": [
      "Episode 359\tAverage Score: 10.52"
     ]
    },
    {
     "data": {
      "application/vnd.jupyter.widget-view+json": {
       "model_id": "82b2e37a23cb4bf6ae804212a2995ef4",
       "version_major": 2,
       "version_minor": 0
      },
      "text/plain": [
       "Episode 360:   0%|          | 0/300 [00:00<?, ?it/s]"
      ]
     },
     "metadata": {},
     "output_type": "display_data"
    },
    {
     "name": "stdout",
     "output_type": "stream",
     "text": [
      "Episode 360\tAverage Score: 10.46"
     ]
    },
    {
     "data": {
      "application/vnd.jupyter.widget-view+json": {
       "model_id": "753802c6820e408b938948c90fb0f67f",
       "version_major": 2,
       "version_minor": 0
      },
      "text/plain": [
       "Episode 361:   0%|          | 0/300 [00:00<?, ?it/s]"
      ]
     },
     "metadata": {},
     "output_type": "display_data"
    },
    {
     "name": "stdout",
     "output_type": "stream",
     "text": [
      "Episode 361\tAverage Score: 10.55"
     ]
    },
    {
     "data": {
      "application/vnd.jupyter.widget-view+json": {
       "model_id": "a99cf4df734f42d28a9195a6eb962c0d",
       "version_major": 2,
       "version_minor": 0
      },
      "text/plain": [
       "Episode 362:   0%|          | 0/300 [00:00<?, ?it/s]"
      ]
     },
     "metadata": {},
     "output_type": "display_data"
    },
    {
     "name": "stdout",
     "output_type": "stream",
     "text": [
      "Episode 362\tAverage Score: 10.49"
     ]
    },
    {
     "data": {
      "application/vnd.jupyter.widget-view+json": {
       "model_id": "fab296483e994fe0b17e0cd18b327a34",
       "version_major": 2,
       "version_minor": 0
      },
      "text/plain": [
       "Episode 363:   0%|          | 0/300 [00:00<?, ?it/s]"
      ]
     },
     "metadata": {},
     "output_type": "display_data"
    },
    {
     "name": "stdout",
     "output_type": "stream",
     "text": [
      "Episode 363\tAverage Score: 10.50"
     ]
    },
    {
     "data": {
      "application/vnd.jupyter.widget-view+json": {
       "model_id": "bcf4ba7b5018412e970a4d53a4ed9fba",
       "version_major": 2,
       "version_minor": 0
      },
      "text/plain": [
       "Episode 364:   0%|          | 0/300 [00:00<?, ?it/s]"
      ]
     },
     "metadata": {},
     "output_type": "display_data"
    },
    {
     "name": "stdout",
     "output_type": "stream",
     "text": [
      "Episode 364\tAverage Score: 10.48"
     ]
    },
    {
     "data": {
      "application/vnd.jupyter.widget-view+json": {
       "model_id": "14b6726ff3ad4078adfddee322f105d6",
       "version_major": 2,
       "version_minor": 0
      },
      "text/plain": [
       "Episode 365:   0%|          | 0/300 [00:00<?, ?it/s]"
      ]
     },
     "metadata": {},
     "output_type": "display_data"
    },
    {
     "name": "stdout",
     "output_type": "stream",
     "text": [
      "Episode 365\tAverage Score: 10.52"
     ]
    },
    {
     "data": {
      "application/vnd.jupyter.widget-view+json": {
       "model_id": "dc83e10956044645ac6af704a76cfee7",
       "version_major": 2,
       "version_minor": 0
      },
      "text/plain": [
       "Episode 366:   0%|          | 0/300 [00:00<?, ?it/s]"
      ]
     },
     "metadata": {},
     "output_type": "display_data"
    },
    {
     "name": "stdout",
     "output_type": "stream",
     "text": [
      "Episode 366\tAverage Score: 10.53"
     ]
    },
    {
     "data": {
      "application/vnd.jupyter.widget-view+json": {
       "model_id": "be207c8384014be8be3357cea5785c65",
       "version_major": 2,
       "version_minor": 0
      },
      "text/plain": [
       "Episode 367:   0%|          | 0/300 [00:00<?, ?it/s]"
      ]
     },
     "metadata": {},
     "output_type": "display_data"
    },
    {
     "name": "stdout",
     "output_type": "stream",
     "text": [
      "Episode 367\tAverage Score: 10.54"
     ]
    },
    {
     "data": {
      "application/vnd.jupyter.widget-view+json": {
       "model_id": "42cc14559c6b43bf9f558b4383899721",
       "version_major": 2,
       "version_minor": 0
      },
      "text/plain": [
       "Episode 368:   0%|          | 0/300 [00:00<?, ?it/s]"
      ]
     },
     "metadata": {},
     "output_type": "display_data"
    },
    {
     "name": "stdout",
     "output_type": "stream",
     "text": [
      "Episode 368\tAverage Score: 10.61"
     ]
    },
    {
     "data": {
      "application/vnd.jupyter.widget-view+json": {
       "model_id": "0b626351b4484bc08861eda586926ca7",
       "version_major": 2,
       "version_minor": 0
      },
      "text/plain": [
       "Episode 369:   0%|          | 0/300 [00:00<?, ?it/s]"
      ]
     },
     "metadata": {},
     "output_type": "display_data"
    },
    {
     "name": "stdout",
     "output_type": "stream",
     "text": [
      "Episode 369\tAverage Score: 10.64"
     ]
    },
    {
     "data": {
      "application/vnd.jupyter.widget-view+json": {
       "model_id": "de1a325400f14842bfbdfe78b785e365",
       "version_major": 2,
       "version_minor": 0
      },
      "text/plain": [
       "Episode 370:   0%|          | 0/300 [00:00<?, ?it/s]"
      ]
     },
     "metadata": {},
     "output_type": "display_data"
    },
    {
     "name": "stdout",
     "output_type": "stream",
     "text": [
      "Episode 370\tAverage Score: 10.71"
     ]
    },
    {
     "data": {
      "application/vnd.jupyter.widget-view+json": {
       "model_id": "d7b19436cfde47ef80bed892e20c1dd9",
       "version_major": 2,
       "version_minor": 0
      },
      "text/plain": [
       "Episode 371:   0%|          | 0/300 [00:00<?, ?it/s]"
      ]
     },
     "metadata": {},
     "output_type": "display_data"
    },
    {
     "name": "stdout",
     "output_type": "stream",
     "text": [
      "Episode 371\tAverage Score: 10.71"
     ]
    },
    {
     "data": {
      "application/vnd.jupyter.widget-view+json": {
       "model_id": "4e8bc20b511648758a7e60c59c01b755",
       "version_major": 2,
       "version_minor": 0
      },
      "text/plain": [
       "Episode 372:   0%|          | 0/300 [00:00<?, ?it/s]"
      ]
     },
     "metadata": {},
     "output_type": "display_data"
    },
    {
     "name": "stdout",
     "output_type": "stream",
     "text": [
      "Episode 372\tAverage Score: 10.70"
     ]
    },
    {
     "data": {
      "application/vnd.jupyter.widget-view+json": {
       "model_id": "7270cab15b3f4d3eb9c96037e3cb6780",
       "version_major": 2,
       "version_minor": 0
      },
      "text/plain": [
       "Episode 373:   0%|          | 0/300 [00:00<?, ?it/s]"
      ]
     },
     "metadata": {},
     "output_type": "display_data"
    },
    {
     "name": "stdout",
     "output_type": "stream",
     "text": [
      "Episode 373\tAverage Score: 10.76"
     ]
    },
    {
     "data": {
      "application/vnd.jupyter.widget-view+json": {
       "model_id": "e8e154031df84063b6b9764ac6924134",
       "version_major": 2,
       "version_minor": 0
      },
      "text/plain": [
       "Episode 374:   0%|          | 0/300 [00:00<?, ?it/s]"
      ]
     },
     "metadata": {},
     "output_type": "display_data"
    },
    {
     "name": "stdout",
     "output_type": "stream",
     "text": [
      "Episode 374\tAverage Score: 10.76"
     ]
    },
    {
     "data": {
      "application/vnd.jupyter.widget-view+json": {
       "model_id": "c1d7834462bb4328a5c3c7e51574049f",
       "version_major": 2,
       "version_minor": 0
      },
      "text/plain": [
       "Episode 375:   0%|          | 0/300 [00:00<?, ?it/s]"
      ]
     },
     "metadata": {},
     "output_type": "display_data"
    },
    {
     "name": "stdout",
     "output_type": "stream",
     "text": [
      "Episode 375\tAverage Score: 10.80"
     ]
    },
    {
     "data": {
      "application/vnd.jupyter.widget-view+json": {
       "model_id": "30b67b980dc643b7a34bbe42eccd366a",
       "version_major": 2,
       "version_minor": 0
      },
      "text/plain": [
       "Episode 376:   0%|          | 0/300 [00:00<?, ?it/s]"
      ]
     },
     "metadata": {},
     "output_type": "display_data"
    },
    {
     "name": "stdout",
     "output_type": "stream",
     "text": [
      "Episode 376\tAverage Score: 10.85"
     ]
    },
    {
     "data": {
      "application/vnd.jupyter.widget-view+json": {
       "model_id": "2fa8a281561746c8b94d35c432526156",
       "version_major": 2,
       "version_minor": 0
      },
      "text/plain": [
       "Episode 377:   0%|          | 0/300 [00:00<?, ?it/s]"
      ]
     },
     "metadata": {},
     "output_type": "display_data"
    },
    {
     "name": "stdout",
     "output_type": "stream",
     "text": [
      "Episode 377\tAverage Score: 10.84"
     ]
    },
    {
     "data": {
      "application/vnd.jupyter.widget-view+json": {
       "model_id": "d29d714d26f64bfba8fc2dacee613dc5",
       "version_major": 2,
       "version_minor": 0
      },
      "text/plain": [
       "Episode 378:   0%|          | 0/300 [00:00<?, ?it/s]"
      ]
     },
     "metadata": {},
     "output_type": "display_data"
    },
    {
     "name": "stdout",
     "output_type": "stream",
     "text": [
      "Episode 378\tAverage Score: 10.89"
     ]
    },
    {
     "data": {
      "application/vnd.jupyter.widget-view+json": {
       "model_id": "a09c03628aaa431ba52be8de7f0d1fe1",
       "version_major": 2,
       "version_minor": 0
      },
      "text/plain": [
       "Episode 379:   0%|          | 0/300 [00:00<?, ?it/s]"
      ]
     },
     "metadata": {},
     "output_type": "display_data"
    },
    {
     "name": "stdout",
     "output_type": "stream",
     "text": [
      "Episode 379\tAverage Score: 10.81"
     ]
    },
    {
     "data": {
      "application/vnd.jupyter.widget-view+json": {
       "model_id": "d66c2963bebc4b2db8f402c6348a137b",
       "version_major": 2,
       "version_minor": 0
      },
      "text/plain": [
       "Episode 380:   0%|          | 0/300 [00:00<?, ?it/s]"
      ]
     },
     "metadata": {},
     "output_type": "display_data"
    },
    {
     "name": "stdout",
     "output_type": "stream",
     "text": [
      "Episode 380\tAverage Score: 10.81"
     ]
    },
    {
     "data": {
      "application/vnd.jupyter.widget-view+json": {
       "model_id": "bca17a0d2c13439781396a75e0ef2849",
       "version_major": 2,
       "version_minor": 0
      },
      "text/plain": [
       "Episode 381:   0%|          | 0/300 [00:00<?, ?it/s]"
      ]
     },
     "metadata": {},
     "output_type": "display_data"
    },
    {
     "name": "stdout",
     "output_type": "stream",
     "text": [
      "Episode 381\tAverage Score: 10.89"
     ]
    },
    {
     "data": {
      "application/vnd.jupyter.widget-view+json": {
       "model_id": "cc313ccea7694836bd18694453c7dbab",
       "version_major": 2,
       "version_minor": 0
      },
      "text/plain": [
       "Episode 382:   0%|          | 0/300 [00:00<?, ?it/s]"
      ]
     },
     "metadata": {},
     "output_type": "display_data"
    },
    {
     "name": "stdout",
     "output_type": "stream",
     "text": [
      "Episode 382\tAverage Score: 10.83"
     ]
    },
    {
     "data": {
      "application/vnd.jupyter.widget-view+json": {
       "model_id": "d0b08f3aa8744533ac7647af25e69c5e",
       "version_major": 2,
       "version_minor": 0
      },
      "text/plain": [
       "Episode 383:   0%|          | 0/300 [00:00<?, ?it/s]"
      ]
     },
     "metadata": {},
     "output_type": "display_data"
    },
    {
     "name": "stdout",
     "output_type": "stream",
     "text": [
      "Episode 383\tAverage Score: 10.84"
     ]
    },
    {
     "data": {
      "application/vnd.jupyter.widget-view+json": {
       "model_id": "131f8964100c4ee0b1c757f48ec08f6d",
       "version_major": 2,
       "version_minor": 0
      },
      "text/plain": [
       "Episode 384:   0%|          | 0/300 [00:00<?, ?it/s]"
      ]
     },
     "metadata": {},
     "output_type": "display_data"
    },
    {
     "name": "stdout",
     "output_type": "stream",
     "text": [
      "Episode 384\tAverage Score: 10.90"
     ]
    },
    {
     "data": {
      "application/vnd.jupyter.widget-view+json": {
       "model_id": "8c0eb1bdadc342e2b6107435855991a1",
       "version_major": 2,
       "version_minor": 0
      },
      "text/plain": [
       "Episode 385:   0%|          | 0/300 [00:00<?, ?it/s]"
      ]
     },
     "metadata": {},
     "output_type": "display_data"
    },
    {
     "name": "stdout",
     "output_type": "stream",
     "text": [
      "Episode 385\tAverage Score: 10.90"
     ]
    },
    {
     "data": {
      "application/vnd.jupyter.widget-view+json": {
       "model_id": "a883d53c8de543c4a0a86d17dfa4e41d",
       "version_major": 2,
       "version_minor": 0
      },
      "text/plain": [
       "Episode 386:   0%|          | 0/300 [00:00<?, ?it/s]"
      ]
     },
     "metadata": {},
     "output_type": "display_data"
    },
    {
     "name": "stdout",
     "output_type": "stream",
     "text": [
      "Episode 386\tAverage Score: 10.88"
     ]
    },
    {
     "data": {
      "application/vnd.jupyter.widget-view+json": {
       "model_id": "7f8c69a0362748b698152a820c8ca6ec",
       "version_major": 2,
       "version_minor": 0
      },
      "text/plain": [
       "Episode 387:   0%|          | 0/300 [00:00<?, ?it/s]"
      ]
     },
     "metadata": {},
     "output_type": "display_data"
    },
    {
     "name": "stdout",
     "output_type": "stream",
     "text": [
      "Episode 387\tAverage Score: 10.74"
     ]
    },
    {
     "data": {
      "application/vnd.jupyter.widget-view+json": {
       "model_id": "3302842cb30a4ff7a3df558ba0534125",
       "version_major": 2,
       "version_minor": 0
      },
      "text/plain": [
       "Episode 388:   0%|          | 0/300 [00:00<?, ?it/s]"
      ]
     },
     "metadata": {},
     "output_type": "display_data"
    },
    {
     "name": "stdout",
     "output_type": "stream",
     "text": [
      "Episode 388\tAverage Score: 10.79"
     ]
    },
    {
     "data": {
      "application/vnd.jupyter.widget-view+json": {
       "model_id": "20ab967e8cd44d83b4aa63bc648527e0",
       "version_major": 2,
       "version_minor": 0
      },
      "text/plain": [
       "Episode 389:   0%|          | 0/300 [00:00<?, ?it/s]"
      ]
     },
     "metadata": {},
     "output_type": "display_data"
    },
    {
     "name": "stdout",
     "output_type": "stream",
     "text": [
      "Episode 389\tAverage Score: 10.75"
     ]
    },
    {
     "data": {
      "application/vnd.jupyter.widget-view+json": {
       "model_id": "2f88d46d1dce41f480838537b1c98059",
       "version_major": 2,
       "version_minor": 0
      },
      "text/plain": [
       "Episode 390:   0%|          | 0/300 [00:00<?, ?it/s]"
      ]
     },
     "metadata": {},
     "output_type": "display_data"
    },
    {
     "name": "stdout",
     "output_type": "stream",
     "text": [
      "Episode 390\tAverage Score: 10.79"
     ]
    },
    {
     "data": {
      "application/vnd.jupyter.widget-view+json": {
       "model_id": "07e283b922bc4203982654d1cc9bf0aa",
       "version_major": 2,
       "version_minor": 0
      },
      "text/plain": [
       "Episode 391:   0%|          | 0/300 [00:00<?, ?it/s]"
      ]
     },
     "metadata": {},
     "output_type": "display_data"
    },
    {
     "name": "stdout",
     "output_type": "stream",
     "text": [
      "Episode 391\tAverage Score: 10.91"
     ]
    },
    {
     "data": {
      "application/vnd.jupyter.widget-view+json": {
       "model_id": "d700a05714bd468b99356789fbc5bf96",
       "version_major": 2,
       "version_minor": 0
      },
      "text/plain": [
       "Episode 392:   0%|          | 0/300 [00:00<?, ?it/s]"
      ]
     },
     "metadata": {},
     "output_type": "display_data"
    },
    {
     "name": "stdout",
     "output_type": "stream",
     "text": [
      "Episode 392\tAverage Score: 11.00"
     ]
    },
    {
     "data": {
      "application/vnd.jupyter.widget-view+json": {
       "model_id": "d4eb839da7834c77b65edfc7b96bae0b",
       "version_major": 2,
       "version_minor": 0
      },
      "text/plain": [
       "Episode 393:   0%|          | 0/300 [00:00<?, ?it/s]"
      ]
     },
     "metadata": {},
     "output_type": "display_data"
    },
    {
     "name": "stdout",
     "output_type": "stream",
     "text": [
      "Episode 393\tAverage Score: 10.96"
     ]
    },
    {
     "data": {
      "application/vnd.jupyter.widget-view+json": {
       "model_id": "cdd876b0dd3e4b368066a73f54e05495",
       "version_major": 2,
       "version_minor": 0
      },
      "text/plain": [
       "Episode 394:   0%|          | 0/300 [00:00<?, ?it/s]"
      ]
     },
     "metadata": {},
     "output_type": "display_data"
    },
    {
     "name": "stdout",
     "output_type": "stream",
     "text": [
      "Episode 394\tAverage Score: 10.92"
     ]
    },
    {
     "data": {
      "application/vnd.jupyter.widget-view+json": {
       "model_id": "390ad5dfcc5045cca80e4d9d39fb1e82",
       "version_major": 2,
       "version_minor": 0
      },
      "text/plain": [
       "Episode 395:   0%|          | 0/300 [00:00<?, ?it/s]"
      ]
     },
     "metadata": {},
     "output_type": "display_data"
    },
    {
     "name": "stdout",
     "output_type": "stream",
     "text": [
      "Episode 395\tAverage Score: 11.03"
     ]
    },
    {
     "data": {
      "application/vnd.jupyter.widget-view+json": {
       "model_id": "482921f5a8fe4332a63f35737c9b14a3",
       "version_major": 2,
       "version_minor": 0
      },
      "text/plain": [
       "Episode 396:   0%|          | 0/300 [00:00<?, ?it/s]"
      ]
     },
     "metadata": {},
     "output_type": "display_data"
    },
    {
     "name": "stdout",
     "output_type": "stream",
     "text": [
      "Episode 396\tAverage Score: 11.14"
     ]
    },
    {
     "data": {
      "application/vnd.jupyter.widget-view+json": {
       "model_id": "f2a32a325a4541c1b94c9f98910df78c",
       "version_major": 2,
       "version_minor": 0
      },
      "text/plain": [
       "Episode 397:   0%|          | 0/300 [00:00<?, ?it/s]"
      ]
     },
     "metadata": {},
     "output_type": "display_data"
    },
    {
     "name": "stdout",
     "output_type": "stream",
     "text": [
      "Episode 397\tAverage Score: 11.15"
     ]
    },
    {
     "data": {
      "application/vnd.jupyter.widget-view+json": {
       "model_id": "74fc436556424175aea16e3cdfde9f4e",
       "version_major": 2,
       "version_minor": 0
      },
      "text/plain": [
       "Episode 398:   0%|          | 0/300 [00:00<?, ?it/s]"
      ]
     },
     "metadata": {},
     "output_type": "display_data"
    },
    {
     "name": "stdout",
     "output_type": "stream",
     "text": [
      "Episode 398\tAverage Score: 11.15"
     ]
    },
    {
     "data": {
      "application/vnd.jupyter.widget-view+json": {
       "model_id": "3af0ccb474ad477380e2e3a824f0e654",
       "version_major": 2,
       "version_minor": 0
      },
      "text/plain": [
       "Episode 399:   0%|          | 0/300 [00:00<?, ?it/s]"
      ]
     },
     "metadata": {},
     "output_type": "display_data"
    },
    {
     "name": "stdout",
     "output_type": "stream",
     "text": [
      "Episode 399\tAverage Score: 11.22"
     ]
    },
    {
     "data": {
      "application/vnd.jupyter.widget-view+json": {
       "model_id": "af347d8324654f74a87a555293d982f4",
       "version_major": 2,
       "version_minor": 0
      },
      "text/plain": [
       "Episode 400:   0%|          | 0/300 [00:00<?, ?it/s]"
      ]
     },
     "metadata": {},
     "output_type": "display_data"
    },
    {
     "name": "stdout",
     "output_type": "stream",
     "text": [
      "Episode 400\tAverage Score: 11.36\n"
     ]
    },
    {
     "data": {
      "application/vnd.jupyter.widget-view+json": {
       "model_id": "c9b73752deeb4d288ecd7e2501e8a86c",
       "version_major": 2,
       "version_minor": 0
      },
      "text/plain": [
       "Episode 401:   0%|          | 0/300 [00:00<?, ?it/s]"
      ]
     },
     "metadata": {},
     "output_type": "display_data"
    },
    {
     "name": "stdout",
     "output_type": "stream",
     "text": [
      "Episode 401\tAverage Score: 11.43"
     ]
    },
    {
     "data": {
      "application/vnd.jupyter.widget-view+json": {
       "model_id": "3d79f1d0d6b54a28a5f8afaa63f85cd3",
       "version_major": 2,
       "version_minor": 0
      },
      "text/plain": [
       "Episode 402:   0%|          | 0/300 [00:00<?, ?it/s]"
      ]
     },
     "metadata": {},
     "output_type": "display_data"
    },
    {
     "name": "stdout",
     "output_type": "stream",
     "text": [
      "Episode 402\tAverage Score: 11.46"
     ]
    },
    {
     "data": {
      "application/vnd.jupyter.widget-view+json": {
       "model_id": "e2205dd4c0b74d5ab611ce6a13b902b5",
       "version_major": 2,
       "version_minor": 0
      },
      "text/plain": [
       "Episode 403:   0%|          | 0/300 [00:00<?, ?it/s]"
      ]
     },
     "metadata": {},
     "output_type": "display_data"
    },
    {
     "name": "stdout",
     "output_type": "stream",
     "text": [
      "Episode 403\tAverage Score: 11.56"
     ]
    },
    {
     "data": {
      "application/vnd.jupyter.widget-view+json": {
       "model_id": "26ee62677d654d9c9bdc30c409c0081c",
       "version_major": 2,
       "version_minor": 0
      },
      "text/plain": [
       "Episode 404:   0%|          | 0/300 [00:00<?, ?it/s]"
      ]
     },
     "metadata": {},
     "output_type": "display_data"
    },
    {
     "name": "stdout",
     "output_type": "stream",
     "text": [
      "Episode 404\tAverage Score: 11.54"
     ]
    },
    {
     "data": {
      "application/vnd.jupyter.widget-view+json": {
       "model_id": "8d2e169b02fc4f898ad7e5742fed3d08",
       "version_major": 2,
       "version_minor": 0
      },
      "text/plain": [
       "Episode 405:   0%|          | 0/300 [00:00<?, ?it/s]"
      ]
     },
     "metadata": {},
     "output_type": "display_data"
    },
    {
     "name": "stdout",
     "output_type": "stream",
     "text": [
      "Episode 405\tAverage Score: 11.55"
     ]
    },
    {
     "data": {
      "application/vnd.jupyter.widget-view+json": {
       "model_id": "35eaa7ace0604f5585fe724296dfa7e9",
       "version_major": 2,
       "version_minor": 0
      },
      "text/plain": [
       "Episode 406:   0%|          | 0/300 [00:00<?, ?it/s]"
      ]
     },
     "metadata": {},
     "output_type": "display_data"
    },
    {
     "name": "stdout",
     "output_type": "stream",
     "text": [
      "Episode 406\tAverage Score: 11.53"
     ]
    },
    {
     "data": {
      "application/vnd.jupyter.widget-view+json": {
       "model_id": "852cfbee7ae54f9f9da3e4faacbc9c03",
       "version_major": 2,
       "version_minor": 0
      },
      "text/plain": [
       "Episode 407:   0%|          | 0/300 [00:00<?, ?it/s]"
      ]
     },
     "metadata": {},
     "output_type": "display_data"
    },
    {
     "name": "stdout",
     "output_type": "stream",
     "text": [
      "Episode 407\tAverage Score: 11.49"
     ]
    },
    {
     "data": {
      "application/vnd.jupyter.widget-view+json": {
       "model_id": "db18340b2ca5464c830dceb5687574b8",
       "version_major": 2,
       "version_minor": 0
      },
      "text/plain": [
       "Episode 408:   0%|          | 0/300 [00:00<?, ?it/s]"
      ]
     },
     "metadata": {},
     "output_type": "display_data"
    },
    {
     "name": "stdout",
     "output_type": "stream",
     "text": [
      "Episode 408\tAverage Score: 11.44"
     ]
    },
    {
     "data": {
      "application/vnd.jupyter.widget-view+json": {
       "model_id": "f847124f6d5e46de906d6fab72f36006",
       "version_major": 2,
       "version_minor": 0
      },
      "text/plain": [
       "Episode 409:   0%|          | 0/300 [00:00<?, ?it/s]"
      ]
     },
     "metadata": {},
     "output_type": "display_data"
    },
    {
     "name": "stdout",
     "output_type": "stream",
     "text": [
      "Episode 409\tAverage Score: 11.45"
     ]
    },
    {
     "data": {
      "application/vnd.jupyter.widget-view+json": {
       "model_id": "320584d414af4c728cbe5993c8939dce",
       "version_major": 2,
       "version_minor": 0
      },
      "text/plain": [
       "Episode 410:   0%|          | 0/300 [00:00<?, ?it/s]"
      ]
     },
     "metadata": {},
     "output_type": "display_data"
    },
    {
     "name": "stdout",
     "output_type": "stream",
     "text": [
      "Episode 410\tAverage Score: 11.53"
     ]
    },
    {
     "data": {
      "application/vnd.jupyter.widget-view+json": {
       "model_id": "d6198facb18a4b53b44ebac5ef5ad890",
       "version_major": 2,
       "version_minor": 0
      },
      "text/plain": [
       "Episode 411:   0%|          | 0/300 [00:00<?, ?it/s]"
      ]
     },
     "metadata": {},
     "output_type": "display_data"
    },
    {
     "name": "stdout",
     "output_type": "stream",
     "text": [
      "Episode 411\tAverage Score: 11.51"
     ]
    },
    {
     "data": {
      "application/vnd.jupyter.widget-view+json": {
       "model_id": "9a4b280556ea48a0a63ff25c75b2d571",
       "version_major": 2,
       "version_minor": 0
      },
      "text/plain": [
       "Episode 412:   0%|          | 0/300 [00:00<?, ?it/s]"
      ]
     },
     "metadata": {},
     "output_type": "display_data"
    },
    {
     "name": "stdout",
     "output_type": "stream",
     "text": [
      "Episode 412\tAverage Score: 11.55"
     ]
    },
    {
     "data": {
      "application/vnd.jupyter.widget-view+json": {
       "model_id": "e55d11cea7a544739499b945bfbd5f82",
       "version_major": 2,
       "version_minor": 0
      },
      "text/plain": [
       "Episode 413:   0%|          | 0/300 [00:00<?, ?it/s]"
      ]
     },
     "metadata": {},
     "output_type": "display_data"
    },
    {
     "name": "stdout",
     "output_type": "stream",
     "text": [
      "Episode 413\tAverage Score: 11.62"
     ]
    },
    {
     "data": {
      "application/vnd.jupyter.widget-view+json": {
       "model_id": "a45cc6f1d7a34e7493a112bda80babd0",
       "version_major": 2,
       "version_minor": 0
      },
      "text/plain": [
       "Episode 414:   0%|          | 0/300 [00:00<?, ?it/s]"
      ]
     },
     "metadata": {},
     "output_type": "display_data"
    },
    {
     "name": "stdout",
     "output_type": "stream",
     "text": [
      "Episode 414\tAverage Score: 11.63"
     ]
    },
    {
     "data": {
      "application/vnd.jupyter.widget-view+json": {
       "model_id": "ff31a0a62d0d4854907ff7262cc780b7",
       "version_major": 2,
       "version_minor": 0
      },
      "text/plain": [
       "Episode 415:   0%|          | 0/300 [00:00<?, ?it/s]"
      ]
     },
     "metadata": {},
     "output_type": "display_data"
    },
    {
     "name": "stdout",
     "output_type": "stream",
     "text": [
      "Episode 415\tAverage Score: 11.71"
     ]
    },
    {
     "data": {
      "application/vnd.jupyter.widget-view+json": {
       "model_id": "2cd2c5a1b007441486fbf56082d81a39",
       "version_major": 2,
       "version_minor": 0
      },
      "text/plain": [
       "Episode 416:   0%|          | 0/300 [00:00<?, ?it/s]"
      ]
     },
     "metadata": {},
     "output_type": "display_data"
    },
    {
     "name": "stdout",
     "output_type": "stream",
     "text": [
      "Episode 416\tAverage Score: 11.68"
     ]
    },
    {
     "data": {
      "application/vnd.jupyter.widget-view+json": {
       "model_id": "90334ce2944948f9acd4a6b6bc33a8e8",
       "version_major": 2,
       "version_minor": 0
      },
      "text/plain": [
       "Episode 417:   0%|          | 0/300 [00:00<?, ?it/s]"
      ]
     },
     "metadata": {},
     "output_type": "display_data"
    },
    {
     "name": "stdout",
     "output_type": "stream",
     "text": [
      "Episode 417\tAverage Score: 11.70"
     ]
    },
    {
     "data": {
      "application/vnd.jupyter.widget-view+json": {
       "model_id": "4b40972977d84c0c9dc8988645e3ef28",
       "version_major": 2,
       "version_minor": 0
      },
      "text/plain": [
       "Episode 418:   0%|          | 0/300 [00:00<?, ?it/s]"
      ]
     },
     "metadata": {},
     "output_type": "display_data"
    },
    {
     "name": "stdout",
     "output_type": "stream",
     "text": [
      "Episode 418\tAverage Score: 11.78"
     ]
    },
    {
     "data": {
      "application/vnd.jupyter.widget-view+json": {
       "model_id": "03db8ec27daa43f9814ff862df624dbc",
       "version_major": 2,
       "version_minor": 0
      },
      "text/plain": [
       "Episode 419:   0%|          | 0/300 [00:00<?, ?it/s]"
      ]
     },
     "metadata": {},
     "output_type": "display_data"
    },
    {
     "name": "stdout",
     "output_type": "stream",
     "text": [
      "Episode 419\tAverage Score: 11.75"
     ]
    },
    {
     "data": {
      "application/vnd.jupyter.widget-view+json": {
       "model_id": "7e7cedbce8994207a3c3105c3f6475a3",
       "version_major": 2,
       "version_minor": 0
      },
      "text/plain": [
       "Episode 420:   0%|          | 0/300 [00:00<?, ?it/s]"
      ]
     },
     "metadata": {},
     "output_type": "display_data"
    },
    {
     "name": "stdout",
     "output_type": "stream",
     "text": [
      "Episode 420\tAverage Score: 11.85"
     ]
    },
    {
     "data": {
      "application/vnd.jupyter.widget-view+json": {
       "model_id": "134cf49402104407a86ec36e253c1f78",
       "version_major": 2,
       "version_minor": 0
      },
      "text/plain": [
       "Episode 421:   0%|          | 0/300 [00:00<?, ?it/s]"
      ]
     },
     "metadata": {},
     "output_type": "display_data"
    },
    {
     "name": "stdout",
     "output_type": "stream",
     "text": [
      "Episode 421\tAverage Score: 11.95"
     ]
    },
    {
     "data": {
      "application/vnd.jupyter.widget-view+json": {
       "model_id": "43293cd2b22b4fae9047e9aebcbe0722",
       "version_major": 2,
       "version_minor": 0
      },
      "text/plain": [
       "Episode 422:   0%|          | 0/300 [00:00<?, ?it/s]"
      ]
     },
     "metadata": {},
     "output_type": "display_data"
    },
    {
     "name": "stdout",
     "output_type": "stream",
     "text": [
      "Episode 422\tAverage Score: 11.96"
     ]
    },
    {
     "data": {
      "application/vnd.jupyter.widget-view+json": {
       "model_id": "93532703409d4884abe9fc2d593f232e",
       "version_major": 2,
       "version_minor": 0
      },
      "text/plain": [
       "Episode 423:   0%|          | 0/300 [00:00<?, ?it/s]"
      ]
     },
     "metadata": {},
     "output_type": "display_data"
    },
    {
     "name": "stdout",
     "output_type": "stream",
     "text": [
      "Episode 423\tAverage Score: 12.08"
     ]
    },
    {
     "data": {
      "application/vnd.jupyter.widget-view+json": {
       "model_id": "e9b0464b7c30442683979cbb3d854be6",
       "version_major": 2,
       "version_minor": 0
      },
      "text/plain": [
       "Episode 424:   0%|          | 0/300 [00:00<?, ?it/s]"
      ]
     },
     "metadata": {},
     "output_type": "display_data"
    },
    {
     "name": "stdout",
     "output_type": "stream",
     "text": [
      "Episode 424\tAverage Score: 12.04"
     ]
    },
    {
     "data": {
      "application/vnd.jupyter.widget-view+json": {
       "model_id": "d0f66dd186444cd0bcc7a2e19d5a6bc9",
       "version_major": 2,
       "version_minor": 0
      },
      "text/plain": [
       "Episode 425:   0%|          | 0/300 [00:00<?, ?it/s]"
      ]
     },
     "metadata": {},
     "output_type": "display_data"
    },
    {
     "name": "stdout",
     "output_type": "stream",
     "text": [
      "Episode 425\tAverage Score: 12.05"
     ]
    },
    {
     "data": {
      "application/vnd.jupyter.widget-view+json": {
       "model_id": "59c22fdbe22e42498c7abe560d7618cc",
       "version_major": 2,
       "version_minor": 0
      },
      "text/plain": [
       "Episode 426:   0%|          | 0/300 [00:00<?, ?it/s]"
      ]
     },
     "metadata": {},
     "output_type": "display_data"
    },
    {
     "name": "stdout",
     "output_type": "stream",
     "text": [
      "Episode 426\tAverage Score: 12.04"
     ]
    },
    {
     "data": {
      "application/vnd.jupyter.widget-view+json": {
       "model_id": "f525ebb7593a4621974b61a203a943e7",
       "version_major": 2,
       "version_minor": 0
      },
      "text/plain": [
       "Episode 427:   0%|          | 0/300 [00:00<?, ?it/s]"
      ]
     },
     "metadata": {},
     "output_type": "display_data"
    },
    {
     "name": "stdout",
     "output_type": "stream",
     "text": [
      "Episode 427\tAverage Score: 12.13"
     ]
    },
    {
     "data": {
      "application/vnd.jupyter.widget-view+json": {
       "model_id": "38ae6e4bc0e64658ba63639ee96c5b7d",
       "version_major": 2,
       "version_minor": 0
      },
      "text/plain": [
       "Episode 428:   0%|          | 0/300 [00:00<?, ?it/s]"
      ]
     },
     "metadata": {},
     "output_type": "display_data"
    },
    {
     "name": "stdout",
     "output_type": "stream",
     "text": [
      "Episode 428\tAverage Score: 12.07"
     ]
    },
    {
     "data": {
      "application/vnd.jupyter.widget-view+json": {
       "model_id": "e9ce08a8a12442df8cfa76d64670a783",
       "version_major": 2,
       "version_minor": 0
      },
      "text/plain": [
       "Episode 429:   0%|          | 0/300 [00:00<?, ?it/s]"
      ]
     },
     "metadata": {},
     "output_type": "display_data"
    },
    {
     "name": "stdout",
     "output_type": "stream",
     "text": [
      "Episode 429\tAverage Score: 12.05"
     ]
    },
    {
     "data": {
      "application/vnd.jupyter.widget-view+json": {
       "model_id": "475c4348fd274e8698e8f57b835562cd",
       "version_major": 2,
       "version_minor": 0
      },
      "text/plain": [
       "Episode 430:   0%|          | 0/300 [00:00<?, ?it/s]"
      ]
     },
     "metadata": {},
     "output_type": "display_data"
    },
    {
     "name": "stdout",
     "output_type": "stream",
     "text": [
      "Episode 430\tAverage Score: 12.17"
     ]
    },
    {
     "data": {
      "application/vnd.jupyter.widget-view+json": {
       "model_id": "b69aae96b39c49dc8b1dc20bd5c1adbb",
       "version_major": 2,
       "version_minor": 0
      },
      "text/plain": [
       "Episode 431:   0%|          | 0/300 [00:00<?, ?it/s]"
      ]
     },
     "metadata": {},
     "output_type": "display_data"
    },
    {
     "name": "stdout",
     "output_type": "stream",
     "text": [
      "Episode 431\tAverage Score: 12.22"
     ]
    },
    {
     "data": {
      "application/vnd.jupyter.widget-view+json": {
       "model_id": "52bb9c0769bd421c8ecfc791eee796a7",
       "version_major": 2,
       "version_minor": 0
      },
      "text/plain": [
       "Episode 432:   0%|          | 0/300 [00:00<?, ?it/s]"
      ]
     },
     "metadata": {},
     "output_type": "display_data"
    },
    {
     "name": "stdout",
     "output_type": "stream",
     "text": [
      "Episode 432\tAverage Score: 12.12"
     ]
    },
    {
     "data": {
      "application/vnd.jupyter.widget-view+json": {
       "model_id": "71a6fdfbafd042ffab066c0ba1bdcd71",
       "version_major": 2,
       "version_minor": 0
      },
      "text/plain": [
       "Episode 433:   0%|          | 0/300 [00:00<?, ?it/s]"
      ]
     },
     "metadata": {},
     "output_type": "display_data"
    },
    {
     "name": "stdout",
     "output_type": "stream",
     "text": [
      "Episode 433\tAverage Score: 12.14"
     ]
    },
    {
     "data": {
      "application/vnd.jupyter.widget-view+json": {
       "model_id": "7f83cae70bea4dd09edd1fc88a3a176c",
       "version_major": 2,
       "version_minor": 0
      },
      "text/plain": [
       "Episode 434:   0%|          | 0/300 [00:00<?, ?it/s]"
      ]
     },
     "metadata": {},
     "output_type": "display_data"
    },
    {
     "name": "stdout",
     "output_type": "stream",
     "text": [
      "Episode 434\tAverage Score: 12.25"
     ]
    },
    {
     "data": {
      "application/vnd.jupyter.widget-view+json": {
       "model_id": "d3d9f6c07a294ebe865857380f62f87d",
       "version_major": 2,
       "version_minor": 0
      },
      "text/plain": [
       "Episode 435:   0%|          | 0/300 [00:00<?, ?it/s]"
      ]
     },
     "metadata": {},
     "output_type": "display_data"
    },
    {
     "name": "stdout",
     "output_type": "stream",
     "text": [
      "Episode 435\tAverage Score: 12.30"
     ]
    },
    {
     "data": {
      "application/vnd.jupyter.widget-view+json": {
       "model_id": "11353f61f9d94e43acf00cb5cbc55711",
       "version_major": 2,
       "version_minor": 0
      },
      "text/plain": [
       "Episode 436:   0%|          | 0/300 [00:00<?, ?it/s]"
      ]
     },
     "metadata": {},
     "output_type": "display_data"
    },
    {
     "name": "stdout",
     "output_type": "stream",
     "text": [
      "Episode 436\tAverage Score: 12.31"
     ]
    },
    {
     "data": {
      "application/vnd.jupyter.widget-view+json": {
       "model_id": "e6d06d124ee147dea1c49efaa40e20c5",
       "version_major": 2,
       "version_minor": 0
      },
      "text/plain": [
       "Episode 437:   0%|          | 0/300 [00:00<?, ?it/s]"
      ]
     },
     "metadata": {},
     "output_type": "display_data"
    },
    {
     "name": "stdout",
     "output_type": "stream",
     "text": [
      "Episode 437\tAverage Score: 12.42"
     ]
    },
    {
     "data": {
      "application/vnd.jupyter.widget-view+json": {
       "model_id": "14c8e5e3a1814e05b156d767a2a1b278",
       "version_major": 2,
       "version_minor": 0
      },
      "text/plain": [
       "Episode 438:   0%|          | 0/300 [00:00<?, ?it/s]"
      ]
     },
     "metadata": {},
     "output_type": "display_data"
    },
    {
     "name": "stdout",
     "output_type": "stream",
     "text": [
      "Episode 438\tAverage Score: 12.41"
     ]
    },
    {
     "data": {
      "application/vnd.jupyter.widget-view+json": {
       "model_id": "c811df7667424ebeb2edb64bedd5061d",
       "version_major": 2,
       "version_minor": 0
      },
      "text/plain": [
       "Episode 439:   0%|          | 0/300 [00:00<?, ?it/s]"
      ]
     },
     "metadata": {},
     "output_type": "display_data"
    },
    {
     "name": "stdout",
     "output_type": "stream",
     "text": [
      "Episode 439\tAverage Score: 12.45"
     ]
    },
    {
     "data": {
      "application/vnd.jupyter.widget-view+json": {
       "model_id": "66d17bf1b992464c95108a586be8efb8",
       "version_major": 2,
       "version_minor": 0
      },
      "text/plain": [
       "Episode 440:   0%|          | 0/300 [00:00<?, ?it/s]"
      ]
     },
     "metadata": {},
     "output_type": "display_data"
    },
    {
     "name": "stdout",
     "output_type": "stream",
     "text": [
      "Episode 440\tAverage Score: 12.48"
     ]
    },
    {
     "data": {
      "application/vnd.jupyter.widget-view+json": {
       "model_id": "a0533a2ddc8b44469178057325bdd329",
       "version_major": 2,
       "version_minor": 0
      },
      "text/plain": [
       "Episode 441:   0%|          | 0/300 [00:00<?, ?it/s]"
      ]
     },
     "metadata": {},
     "output_type": "display_data"
    },
    {
     "name": "stdout",
     "output_type": "stream",
     "text": [
      "Episode 441\tAverage Score: 12.58"
     ]
    },
    {
     "data": {
      "application/vnd.jupyter.widget-view+json": {
       "model_id": "6b65023abd71493bb04da034b43b78fb",
       "version_major": 2,
       "version_minor": 0
      },
      "text/plain": [
       "Episode 442:   0%|          | 0/300 [00:00<?, ?it/s]"
      ]
     },
     "metadata": {},
     "output_type": "display_data"
    },
    {
     "name": "stdout",
     "output_type": "stream",
     "text": [
      "Episode 442\tAverage Score: 12.71"
     ]
    },
    {
     "data": {
      "application/vnd.jupyter.widget-view+json": {
       "model_id": "6456aa0810244199af12092135bed5c4",
       "version_major": 2,
       "version_minor": 0
      },
      "text/plain": [
       "Episode 443:   0%|          | 0/300 [00:00<?, ?it/s]"
      ]
     },
     "metadata": {},
     "output_type": "display_data"
    },
    {
     "name": "stdout",
     "output_type": "stream",
     "text": [
      "Episode 443\tAverage Score: 12.77"
     ]
    },
    {
     "data": {
      "application/vnd.jupyter.widget-view+json": {
       "model_id": "51d8f546150b490b83049204f9b0d522",
       "version_major": 2,
       "version_minor": 0
      },
      "text/plain": [
       "Episode 444:   0%|          | 0/300 [00:00<?, ?it/s]"
      ]
     },
     "metadata": {},
     "output_type": "display_data"
    },
    {
     "name": "stdout",
     "output_type": "stream",
     "text": [
      "Episode 444\tAverage Score: 12.78"
     ]
    },
    {
     "data": {
      "application/vnd.jupyter.widget-view+json": {
       "model_id": "f6e8490cb19b4491b3637922e4ee9052",
       "version_major": 2,
       "version_minor": 0
      },
      "text/plain": [
       "Episode 445:   0%|          | 0/300 [00:00<?, ?it/s]"
      ]
     },
     "metadata": {},
     "output_type": "display_data"
    },
    {
     "name": "stdout",
     "output_type": "stream",
     "text": [
      "Episode 445\tAverage Score: 12.91"
     ]
    },
    {
     "data": {
      "application/vnd.jupyter.widget-view+json": {
       "model_id": "d4516e0aeef04468951f4fa1871cbd62",
       "version_major": 2,
       "version_minor": 0
      },
      "text/plain": [
       "Episode 446:   0%|          | 0/300 [00:00<?, ?it/s]"
      ]
     },
     "metadata": {},
     "output_type": "display_data"
    },
    {
     "name": "stdout",
     "output_type": "stream",
     "text": [
      "Episode 446\tAverage Score: 12.91"
     ]
    },
    {
     "data": {
      "application/vnd.jupyter.widget-view+json": {
       "model_id": "d5f2e4b8dcee448098e52d27c466dd43",
       "version_major": 2,
       "version_minor": 0
      },
      "text/plain": [
       "Episode 447:   0%|          | 0/300 [00:00<?, ?it/s]"
      ]
     },
     "metadata": {},
     "output_type": "display_data"
    },
    {
     "name": "stdout",
     "output_type": "stream",
     "text": [
      "Episode 447\tAverage Score: 12.99"
     ]
    },
    {
     "data": {
      "application/vnd.jupyter.widget-view+json": {
       "model_id": "0ac0143285ee4e01aa89d5a2019dd0cd",
       "version_major": 2,
       "version_minor": 0
      },
      "text/plain": [
       "Episode 448:   0%|          | 0/300 [00:00<?, ?it/s]"
      ]
     },
     "metadata": {},
     "output_type": "display_data"
    },
    {
     "name": "stdout",
     "output_type": "stream",
     "text": [
      "Episode 448\tAverage Score: 13.09"
     ]
    },
    {
     "data": {
      "application/vnd.jupyter.widget-view+json": {
       "model_id": "508f9eb7f2ca4a67bcfae8685ffbcffd",
       "version_major": 2,
       "version_minor": 0
      },
      "text/plain": [
       "Episode 449:   0%|          | 0/300 [00:00<?, ?it/s]"
      ]
     },
     "metadata": {},
     "output_type": "display_data"
    },
    {
     "name": "stdout",
     "output_type": "stream",
     "text": [
      "Episode 449\tAverage Score: 13.14"
     ]
    },
    {
     "data": {
      "application/vnd.jupyter.widget-view+json": {
       "model_id": "7ef197c1979742dfb5a3dfe73bbd46ad",
       "version_major": 2,
       "version_minor": 0
      },
      "text/plain": [
       "Episode 450:   0%|          | 0/300 [00:00<?, ?it/s]"
      ]
     },
     "metadata": {},
     "output_type": "display_data"
    },
    {
     "name": "stdout",
     "output_type": "stream",
     "text": [
      "Episode 450\tAverage Score: 13.14"
     ]
    },
    {
     "data": {
      "application/vnd.jupyter.widget-view+json": {
       "model_id": "c17a2fa0feb8420c96f592067d09f470",
       "version_major": 2,
       "version_minor": 0
      },
      "text/plain": [
       "Episode 451:   0%|          | 0/300 [00:00<?, ?it/s]"
      ]
     },
     "metadata": {},
     "output_type": "display_data"
    },
    {
     "name": "stdout",
     "output_type": "stream",
     "text": [
      "Episode 451\tAverage Score: 13.07"
     ]
    },
    {
     "data": {
      "application/vnd.jupyter.widget-view+json": {
       "model_id": "cad91d6fdb0b40d297e289af2a9c65a7",
       "version_major": 2,
       "version_minor": 0
      },
      "text/plain": [
       "Episode 452:   0%|          | 0/300 [00:00<?, ?it/s]"
      ]
     },
     "metadata": {},
     "output_type": "display_data"
    },
    {
     "name": "stdout",
     "output_type": "stream",
     "text": [
      "Episode 452\tAverage Score: 13.13"
     ]
    },
    {
     "data": {
      "application/vnd.jupyter.widget-view+json": {
       "model_id": "ffb6d44681f94c609139fc0e0ba97889",
       "version_major": 2,
       "version_minor": 0
      },
      "text/plain": [
       "Episode 453:   0%|          | 0/300 [00:00<?, ?it/s]"
      ]
     },
     "metadata": {},
     "output_type": "display_data"
    },
    {
     "name": "stdout",
     "output_type": "stream",
     "text": [
      "Episode 453\tAverage Score: 13.20"
     ]
    },
    {
     "data": {
      "application/vnd.jupyter.widget-view+json": {
       "model_id": "120c25765ade44659e55ea3c97066493",
       "version_major": 2,
       "version_minor": 0
      },
      "text/plain": [
       "Episode 454:   0%|          | 0/300 [00:00<?, ?it/s]"
      ]
     },
     "metadata": {},
     "output_type": "display_data"
    },
    {
     "name": "stdout",
     "output_type": "stream",
     "text": [
      "Episode 454\tAverage Score: 13.18"
     ]
    },
    {
     "data": {
      "application/vnd.jupyter.widget-view+json": {
       "model_id": "716df9072e98417d9b0a80efcfa698b8",
       "version_major": 2,
       "version_minor": 0
      },
      "text/plain": [
       "Episode 455:   0%|          | 0/300 [00:00<?, ?it/s]"
      ]
     },
     "metadata": {},
     "output_type": "display_data"
    },
    {
     "ename": "KeyboardInterrupt",
     "evalue": "",
     "output_type": "error",
     "traceback": [
      "\u001b[0;31m---------------------------------------------------------------------------\u001b[0m",
      "\u001b[0;31mKeyboardInterrupt\u001b[0m                         Traceback (most recent call last)",
      "Cell \u001b[0;32mIn[6], line 1\u001b[0m\n\u001b[0;32m----> 1\u001b[0m scores \u001b[38;5;241m=\u001b[39m \u001b[43mdqn\u001b[49m\u001b[43m(\u001b[49m\n\u001b[1;32m      2\u001b[0m \u001b[43m    \u001b[49m\u001b[43menv\u001b[49m\u001b[43m,\u001b[49m\u001b[43m \u001b[49m\u001b[43mn_episodes\u001b[49m\u001b[38;5;241;43m=\u001b[39;49m\u001b[38;5;241;43m2000\u001b[39;49m\u001b[43m,\u001b[49m\u001b[43m \u001b[49m\u001b[43mmax_t\u001b[49m\u001b[38;5;241;43m=\u001b[39;49m\u001b[38;5;241;43m300\u001b[39;49m\u001b[43m,\u001b[49m\u001b[43m \u001b[49m\u001b[43meps_start\u001b[49m\u001b[38;5;241;43m=\u001b[39;49m\u001b[38;5;241;43m1.0\u001b[39;49m\u001b[43m,\u001b[49m\u001b[43m \u001b[49m\u001b[43meps_end\u001b[49m\u001b[38;5;241;43m=\u001b[39;49m\u001b[38;5;241;43m0.01\u001b[39;49m\u001b[43m,\u001b[49m\u001b[43m \u001b[49m\u001b[43meps_decay\u001b[49m\u001b[38;5;241;43m=\u001b[39;49m\u001b[38;5;241;43m0.99\u001b[39;49m\u001b[43m)\u001b[49m\n\u001b[1;32m      4\u001b[0m \u001b[38;5;66;03m# plot the scores\u001b[39;00m\n\u001b[1;32m      5\u001b[0m fig \u001b[38;5;241m=\u001b[39m plt\u001b[38;5;241m.\u001b[39mfigure()\n",
      "Cell \u001b[0;32mIn[5], line 49\u001b[0m, in \u001b[0;36mdqn\u001b[0;34m(env, n_episodes, max_t, eps_start, eps_end, eps_decay)\u001b[0m\n\u001b[1;32m     45\u001b[0m writer\u001b[38;5;241m.\u001b[39madd_histogram(\u001b[38;5;124m\"\u001b[39m\u001b[38;5;124mQ-values\u001b[39m\u001b[38;5;124m\"\u001b[39m, agent\u001b[38;5;241m.\u001b[39mlast_q_values, global_step\u001b[38;5;241m=\u001b[39mglobal_step)\n\u001b[1;32m     47\u001b[0m q_values \u001b[38;5;241m=\u001b[39m agent\u001b[38;5;241m.\u001b[39mlast_q_values\n\u001b[0;32m---> 49\u001b[0m env_info \u001b[38;5;241m=\u001b[39m \u001b[43menv\u001b[49m\u001b[38;5;241;43m.\u001b[39;49m\u001b[43mstep\u001b[49m\u001b[43m(\u001b[49m\u001b[43maction\u001b[49m\u001b[43m)\u001b[49m[brain_name]  \u001b[38;5;66;03m# send the action to the environment\u001b[39;00m\n\u001b[1;32m     50\u001b[0m next_state \u001b[38;5;241m=\u001b[39m env_info\u001b[38;5;241m.\u001b[39mvector_observations[\u001b[38;5;241m0\u001b[39m]  \u001b[38;5;66;03m# get the next state\u001b[39;00m\n\u001b[1;32m     51\u001b[0m reward \u001b[38;5;241m=\u001b[39m env_info\u001b[38;5;241m.\u001b[39mrewards[\u001b[38;5;241m0\u001b[39m]                  \u001b[38;5;66;03m# get the reward\u001b[39;00m\n",
      "File \u001b[0;32m~/anaconda3/envs/unity_env/lib/python3.10/site-packages/unityagents/environment.py:368\u001b[0m, in \u001b[0;36mUnityEnvironment.step\u001b[0;34m(self, vector_action, memory, text_action)\u001b[0m\n\u001b[1;32m    357\u001b[0m     \u001b[38;5;28;01mif\u001b[39;00m \u001b[38;5;129;01mnot\u001b[39;00m ((\u001b[38;5;28mself\u001b[39m\u001b[38;5;241m.\u001b[39m_brains[b]\u001b[38;5;241m.\u001b[39mvector_action_space_type \u001b[38;5;241m==\u001b[39m \u001b[38;5;124m\"\u001b[39m\u001b[38;5;124mdiscrete\u001b[39m\u001b[38;5;124m\"\u001b[39m \u001b[38;5;129;01mand\u001b[39;00m \u001b[38;5;28mlen\u001b[39m(vector_action[b]) \u001b[38;5;241m==\u001b[39m n_agent) \u001b[38;5;129;01mor\u001b[39;00m\n\u001b[1;32m    358\u001b[0m                 (\u001b[38;5;28mself\u001b[39m\u001b[38;5;241m.\u001b[39m_brains[b]\u001b[38;5;241m.\u001b[39mvector_action_space_type \u001b[38;5;241m==\u001b[39m \u001b[38;5;124m\"\u001b[39m\u001b[38;5;124mcontinuous\u001b[39m\u001b[38;5;124m\"\u001b[39m \u001b[38;5;129;01mand\u001b[39;00m \u001b[38;5;28mlen\u001b[39m(\n\u001b[1;32m    359\u001b[0m                     vector_action[b]) \u001b[38;5;241m==\u001b[39m \u001b[38;5;28mself\u001b[39m\u001b[38;5;241m.\u001b[39m_brains[b]\u001b[38;5;241m.\u001b[39mvector_action_space_size \u001b[38;5;241m*\u001b[39m n_agent)):\n\u001b[1;32m    360\u001b[0m         \u001b[38;5;28;01mraise\u001b[39;00m UnityActionException(\n\u001b[1;32m    361\u001b[0m             \u001b[38;5;124m\"\u001b[39m\u001b[38;5;124mThere was a mismatch between the provided action and environment\u001b[39m\u001b[38;5;124m'\u001b[39m\u001b[38;5;124ms expectation: \u001b[39m\u001b[38;5;124m\"\u001b[39m\n\u001b[1;32m    362\u001b[0m             \u001b[38;5;124m\"\u001b[39m\u001b[38;5;124mThe brain \u001b[39m\u001b[38;5;132;01m{0}\u001b[39;00m\u001b[38;5;124m expected \u001b[39m\u001b[38;5;132;01m{1}\u001b[39;00m\u001b[38;5;124m \u001b[39m\u001b[38;5;132;01m{2}\u001b[39;00m\u001b[38;5;124m action(s), but was provided: \u001b[39m\u001b[38;5;132;01m{3}\u001b[39;00m\u001b[38;5;124m\"\u001b[39m\n\u001b[0;32m   (...)\u001b[0m\n\u001b[1;32m    365\u001b[0m             \u001b[38;5;28mself\u001b[39m\u001b[38;5;241m.\u001b[39m_brains[b]\u001b[38;5;241m.\u001b[39mvector_action_space_type,\n\u001b[1;32m    366\u001b[0m             \u001b[38;5;28mstr\u001b[39m(vector_action[b])))\n\u001b[0;32m--> 368\u001b[0m outputs \u001b[38;5;241m=\u001b[39m \u001b[38;5;28;43mself\u001b[39;49m\u001b[38;5;241;43m.\u001b[39;49m\u001b[43mcommunicator\u001b[49m\u001b[38;5;241;43m.\u001b[39;49m\u001b[43mexchange\u001b[49m\u001b[43m(\u001b[49m\n\u001b[1;32m    369\u001b[0m \u001b[43m    \u001b[49m\u001b[38;5;28;43mself\u001b[39;49m\u001b[38;5;241;43m.\u001b[39;49m\u001b[43m_generate_step_input\u001b[49m\u001b[43m(\u001b[49m\u001b[43mvector_action\u001b[49m\u001b[43m,\u001b[49m\u001b[43m \u001b[49m\u001b[43mmemory\u001b[49m\u001b[43m,\u001b[49m\u001b[43m \u001b[49m\u001b[43mtext_action\u001b[49m\u001b[43m)\u001b[49m\n\u001b[1;32m    370\u001b[0m \u001b[43m\u001b[49m\u001b[43m)\u001b[49m\n\u001b[1;32m    371\u001b[0m \u001b[38;5;28;01mif\u001b[39;00m outputs \u001b[38;5;129;01mis\u001b[39;00m \u001b[38;5;28;01mNone\u001b[39;00m:\n\u001b[1;32m    372\u001b[0m     \u001b[38;5;28;01mraise\u001b[39;00m \u001b[38;5;167;01mKeyboardInterrupt\u001b[39;00m\n",
      "File \u001b[0;32m~/anaconda3/envs/unity_env/lib/python3.10/site-packages/unityagents/rpc_communicator.py:78\u001b[0m, in \u001b[0;36mRpcCommunicator.exchange\u001b[0;34m(self, inputs)\u001b[0m\n\u001b[1;32m     76\u001b[0m message\u001b[38;5;241m.\u001b[39munity_input\u001b[38;5;241m.\u001b[39mCopyFrom(inputs)\n\u001b[1;32m     77\u001b[0m \u001b[38;5;28mself\u001b[39m\u001b[38;5;241m.\u001b[39munity_to_external\u001b[38;5;241m.\u001b[39mparent_conn\u001b[38;5;241m.\u001b[39msend(message)\n\u001b[0;32m---> 78\u001b[0m output \u001b[38;5;241m=\u001b[39m \u001b[38;5;28;43mself\u001b[39;49m\u001b[38;5;241;43m.\u001b[39;49m\u001b[43munity_to_external\u001b[49m\u001b[38;5;241;43m.\u001b[39;49m\u001b[43mparent_conn\u001b[49m\u001b[38;5;241;43m.\u001b[39;49m\u001b[43mrecv\u001b[49m\u001b[43m(\u001b[49m\u001b[43m)\u001b[49m\n\u001b[1;32m     79\u001b[0m \u001b[38;5;28;01mif\u001b[39;00m output\u001b[38;5;241m.\u001b[39mheader\u001b[38;5;241m.\u001b[39mstatus \u001b[38;5;241m!=\u001b[39m \u001b[38;5;241m200\u001b[39m:\n\u001b[1;32m     80\u001b[0m     \u001b[38;5;28;01mreturn\u001b[39;00m \u001b[38;5;28;01mNone\u001b[39;00m\n",
      "File \u001b[0;32m~/anaconda3/envs/unity_env/lib/python3.10/multiprocessing/connection.py:250\u001b[0m, in \u001b[0;36m_ConnectionBase.recv\u001b[0;34m(self)\u001b[0m\n\u001b[1;32m    248\u001b[0m \u001b[38;5;28mself\u001b[39m\u001b[38;5;241m.\u001b[39m_check_closed()\n\u001b[1;32m    249\u001b[0m \u001b[38;5;28mself\u001b[39m\u001b[38;5;241m.\u001b[39m_check_readable()\n\u001b[0;32m--> 250\u001b[0m buf \u001b[38;5;241m=\u001b[39m \u001b[38;5;28;43mself\u001b[39;49m\u001b[38;5;241;43m.\u001b[39;49m\u001b[43m_recv_bytes\u001b[49m\u001b[43m(\u001b[49m\u001b[43m)\u001b[49m\n\u001b[1;32m    251\u001b[0m \u001b[38;5;28;01mreturn\u001b[39;00m _ForkingPickler\u001b[38;5;241m.\u001b[39mloads(buf\u001b[38;5;241m.\u001b[39mgetbuffer())\n",
      "File \u001b[0;32m~/anaconda3/envs/unity_env/lib/python3.10/multiprocessing/connection.py:414\u001b[0m, in \u001b[0;36mConnection._recv_bytes\u001b[0;34m(self, maxsize)\u001b[0m\n\u001b[1;32m    413\u001b[0m \u001b[38;5;28;01mdef\u001b[39;00m\u001b[38;5;250m \u001b[39m\u001b[38;5;21m_recv_bytes\u001b[39m(\u001b[38;5;28mself\u001b[39m, maxsize\u001b[38;5;241m=\u001b[39m\u001b[38;5;28;01mNone\u001b[39;00m):\n\u001b[0;32m--> 414\u001b[0m     buf \u001b[38;5;241m=\u001b[39m \u001b[38;5;28;43mself\u001b[39;49m\u001b[38;5;241;43m.\u001b[39;49m\u001b[43m_recv\u001b[49m\u001b[43m(\u001b[49m\u001b[38;5;241;43m4\u001b[39;49m\u001b[43m)\u001b[49m\n\u001b[1;32m    415\u001b[0m     size, \u001b[38;5;241m=\u001b[39m struct\u001b[38;5;241m.\u001b[39munpack(\u001b[38;5;124m\"\u001b[39m\u001b[38;5;124m!i\u001b[39m\u001b[38;5;124m\"\u001b[39m, buf\u001b[38;5;241m.\u001b[39mgetvalue())\n\u001b[1;32m    416\u001b[0m     \u001b[38;5;28;01mif\u001b[39;00m size \u001b[38;5;241m==\u001b[39m \u001b[38;5;241m-\u001b[39m\u001b[38;5;241m1\u001b[39m:\n",
      "File \u001b[0;32m~/anaconda3/envs/unity_env/lib/python3.10/multiprocessing/connection.py:379\u001b[0m, in \u001b[0;36mConnection._recv\u001b[0;34m(self, size, read)\u001b[0m\n\u001b[1;32m    377\u001b[0m remaining \u001b[38;5;241m=\u001b[39m size\n\u001b[1;32m    378\u001b[0m \u001b[38;5;28;01mwhile\u001b[39;00m remaining \u001b[38;5;241m>\u001b[39m \u001b[38;5;241m0\u001b[39m:\n\u001b[0;32m--> 379\u001b[0m     chunk \u001b[38;5;241m=\u001b[39m \u001b[43mread\u001b[49m\u001b[43m(\u001b[49m\u001b[43mhandle\u001b[49m\u001b[43m,\u001b[49m\u001b[43m \u001b[49m\u001b[43mremaining\u001b[49m\u001b[43m)\u001b[49m\n\u001b[1;32m    380\u001b[0m     n \u001b[38;5;241m=\u001b[39m \u001b[38;5;28mlen\u001b[39m(chunk)\n\u001b[1;32m    381\u001b[0m     \u001b[38;5;28;01mif\u001b[39;00m n \u001b[38;5;241m==\u001b[39m \u001b[38;5;241m0\u001b[39m:\n",
      "\u001b[0;31mKeyboardInterrupt\u001b[0m: "
     ]
    }
   ],
   "source": [
    "scores = dqn(\n",
    "    env, n_episodes=2000, max_t=300, eps_start=1.0, eps_end=0.01, eps_decay=0.99)\n",
    "\n",
    "# plot the scores\n",
    "fig = plt.figure()\n",
    "ax = fig.add_subplot(111)\n",
    "plt.plot(np.arange(len(scores)), scores)\n",
    "plt.ylabel('Score')\n",
    "plt.xlabel('Episode #')\n",
    "plt.show()"
   ]
  },
  {
   "cell_type": "markdown",
   "metadata": {},
   "source": [
    "I am an idiot. I forgot to adapt the reward check in my training (taken over from my lunarlander code) from 200 to only 13. Thus I had to terminate the training by myself. Let's hope the weights are properly saved."
   ]
  },
  {
   "cell_type": "markdown",
   "metadata": {},
   "source": [
    "But here I insert some **metrics** I recorded with **Tensorboard** to document the training progress:\n",
    "\n",
    "Development of Average Score / Episode:\n",
    "![Episode / Average Score](screenshots/Episode_Average_Score.png)\n",
    "---\n",
    "Development of Epsilon:\n",
    "![Episode / Epsilon Value](screenshots/Episode_Epsilon_Score.png)\n",
    "---\n",
    "Loss of the Q-Model:\n",
    "![Loss / Q-Model](screenshots/Loss_QModel.png)\n",
    "---\n",
    "Development of Q-Values\n",
    "![Q Values growing](screenshots/QValues_orange.png)\n",
    "---"
   ]
  },
  {
   "cell_type": "markdown",
   "metadata": {},
   "source": [
    "**Explanation**: The bluish curves were from a previous not successful training run. It crashed after several hours (the unity environment stopped responding)."
   ]
  },
  {
   "cell_type": "markdown",
   "metadata": {},
   "source": [
    "## Let's get our trained agent into the wilds!\n",
    "Ok, now let's check the weights and if our trained agent can collect enough bananas:"
   ]
  },
  {
   "cell_type": "code",
   "execution_count": null,
   "metadata": {},
   "outputs": [
    {
     "name": "stdout",
     "output_type": "stream",
     "text": [
      "Buffer size: 100000, Batch size: 64, Beta start: 0.4, Beta frames: 100000\n",
      "Agent's Device: cuda:0\n",
      "Score: 20.0\n"
     ]
    }
   ],
   "source": [
    "from codebase.v2.dqn_agent import Agent\n",
    "import torch\n",
    "\n",
    "# environment is startet some cells above\n",
    "env_info = env.reset(train_mode=False)[brain_name] # reset the environment\n",
    "state = env_info.vector_observations[0]            # get the current state\n",
    "score = 0                                          # initialize the score\n",
    "\n",
    "bananaCollector = Agent(state_size=state_size, action_size=action_size, seed=20)\n",
    "bananaCollector.qnetwork_local.load_state_dict(torch.load('checkpoint.pth', weights_only=True))\n",
    "\n",
    "while True:\n",
    "    action = bananaCollector.act(state)            # select an action\n",
    "    env_info = env.step(action)[brain_name]        # send the action to the environment\n",
    "    next_state = env_info.vector_observations[0]   # get the next state\n",
    "    reward = env_info.rewards[0]                   # get the reward\n",
    "    done = env_info.local_done[0]                  # see if episode has finished\n",
    "    score += reward                                # update the score\n",
    "    state = next_state                             # roll over the state to next time step\n",
    "    if done:                                       # exit loop if episode finished\n",
    "        break\n",
    "    \n",
    "print(\"Score: {}\".format(score))"
   ]
  },
  {
   "cell_type": "markdown",
   "metadata": {},
   "source": [
    "Results: **Wow, wow, wow!!** <b>20</b> is a nice result. Training payed off ;-)"
   ]
  },
  {
   "cell_type": "markdown",
   "metadata": {},
   "source": []
  }
 ],
 "metadata": {
  "kernelspec": {
   "display_name": "unity_env",
   "language": "python",
   "name": "unity_env"
  },
  "language_info": {
   "codemirror_mode": {
    "name": "ipython",
    "version": 3
   },
   "file_extension": ".py",
   "mimetype": "text/x-python",
   "name": "python",
   "nbconvert_exporter": "python",
   "pygments_lexer": "ipython3",
   "version": "3.10.16"
  }
 },
 "nbformat": 4,
 "nbformat_minor": 2
}
