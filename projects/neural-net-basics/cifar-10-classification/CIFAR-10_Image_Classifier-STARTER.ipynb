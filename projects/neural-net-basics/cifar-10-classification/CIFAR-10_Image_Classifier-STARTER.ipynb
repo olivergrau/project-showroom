{
 "cells": [
  {
   "cell_type": "markdown",
   "metadata": {},
   "source": [
    "# Introduction\n",
    "\n",
    "In this project, you will build a neural network of your own design to evaluate the CIFAR-10 dataset.\n",
    "Our target accuracy is 70%, but any accuracy over 50% is a great start.\n",
    "Some of the benchmark results on CIFAR-10 include:\n",
    "\n",
    "78.9% Accuracy | [Deep Belief Networks; Krizhevsky, 2010](https://www.cs.toronto.edu/~kriz/conv-cifar10-aug2010.pdf)\n",
    "\n",
    "90.6% Accuracy | [Maxout Networks; Goodfellow et al., 2013](https://arxiv.org/pdf/1302.4389.pdf)\n",
    "\n",
    "96.0% Accuracy | [Wide Residual Networks; Zagoruyko et al., 2016](https://arxiv.org/pdf/1605.07146.pdf)\n",
    "\n",
    "99.0% Accuracy | [GPipe; Huang et al., 2018](https://arxiv.org/pdf/1811.06965.pdf)\n",
    "\n",
    "98.5% Accuracy | [Rethinking Recurrent Neural Networks and other Improvements for ImageClassification; Nguyen et al., 2020](https://arxiv.org/pdf/2007.15161.pdf)\n",
    "\n",
    "Research with this dataset is ongoing. Notably, many of these networks are quite large and quite expensive to train. \n",
    "\n",
    "## Imports"
   ]
  },
  {
   "cell_type": "code",
   "execution_count": 1,
   "metadata": {},
   "outputs": [],
   "source": [
    "## This cell contains the essential imports you will need – DO NOT CHANGE THE CONTENTS! ##\n",
    "import torch\n",
    "import torch.nn as nn\n",
    "import torch.nn.functional as F\n",
    "import torch.optim as optim\n",
    "import torchvision\n",
    "import torchvision.transforms as transforms\n",
    "import matplotlib.pyplot as plt\n",
    "import numpy as np\n",
    "import time\n",
    "import copy\n",
    "import os"
   ]
  },
  {
   "cell_type": "markdown",
   "metadata": {},
   "source": [
    "## Load the Dataset\n",
    "\n",
    "Specify your transforms as a list first.\n",
    "The transforms module is already loaded as `transforms`.\n",
    "\n",
    "CIFAR-10 is fortunately included in the torchvision module.\n",
    "Then, you can create your dataset using the `CIFAR10` object from `torchvision.datasets` ([the documentation is available here](https://pytorch.org/docs/stable/torchvision/datasets.html#cifar)).\n",
    "Make sure to specify `download=True`! \n",
    "\n",
    "Once your dataset is created, you'll also need to define a `DataLoader` from the `torch.utils.data` module for both the train and the test set."
   ]
  },
  {
   "cell_type": "code",
   "execution_count": 3,
   "metadata": {},
   "outputs": [],
   "source": [
    "def show_dataset_shapes(dataloaders):\n",
    "    \"\"\"\n",
    "    Prints the shapes of one batch of data from the train, validation, and test datasets.\n",
    "\n",
    "    Args:\n",
    "        dataloaders (dict): A dictionary containing DataLoader objects for 'train', 'valid', and 'test'.\n",
    "    \"\"\"\n",
    "    for phase in ['train', 'valid', 'test']:\n",
    "        dataiter = iter(dataloaders[phase])\n",
    "        images, labels = next(dataiter)\n",
    "\n",
    "        print(f\"{phase.capitalize()} set:\")\n",
    "        print(f\"  Images batch shape: {images.shape}\")\n",
    "        print(f\"  Labels batch shape: {labels.shape}\")\n",
    "        print(f\"  Number of samples: {len(dataloaders[phase].dataset)}\")\n",
    "        print()\n"
   ]
  },
  {
   "cell_type": "code",
   "execution_count": 4,
   "metadata": {},
   "outputs": [
    {
     "name": "stdout",
     "output_type": "stream",
     "text": [
      "Files already downloaded and verified\n",
      "Files already downloaded and verified\n",
      "\n",
      "Train set:\n",
      "  Images batch shape: torch.Size([128, 3, 32, 32])\n",
      "  Labels batch shape: torch.Size([128])\n",
      "  Number of samples: 40000\n",
      "\n",
      "Valid set:\n",
      "  Images batch shape: torch.Size([128, 3, 32, 32])\n",
      "  Labels batch shape: torch.Size([128])\n",
      "  Number of samples: 10000\n",
      "\n",
      "Test set:\n",
      "  Images batch shape: torch.Size([128, 3, 32, 32])\n",
      "  Labels batch shape: torch.Size([128])\n",
      "  Number of samples: 10000\n",
      "\n"
     ]
    }
   ],
   "source": [
    "import torch\n",
    "import torchvision\n",
    "import torchvision.transforms as transforms\n",
    "from torch.utils.data import random_split\n",
    "\n",
    "# batch size\n",
    "batch_size = 128\n",
    "\n",
    "# determine the device (GPU or CPU)\n",
    "device = torch.device(\"cuda:0\" if torch.cuda.is_available() else \"cpu\")\n",
    "\n",
    "# Transform data for use in neural networks.\n",
    "\n",
    "# define data augmentation and normalization transforms\n",
    "transform_train = transforms.Compose([\n",
    "    transforms.RandomCrop(32, padding=4), # Augment training data to improve robustness of neural networks.\n",
    "    transforms.RandomHorizontalFlip(), # Augment training data to improve robustness of neural networks.\n",
    "    transforms.ToTensor(),\n",
    "    transforms.Normalize((0.4914, 0.4822, 0.4465), (0.2023, 0.1994, 0.2010)) # recommended normalize values for IFAR10\n",
    "])\n",
    "\n",
    "transform_test = transforms.Compose([\n",
    "    transforms.ToTensor(),\n",
    "    transforms.Normalize((0.4914, 0.4822, 0.4465), (0.2023, 0.1994, 0.2010))\n",
    "])\n",
    "\n",
    "# create training set and define training dataloader\n",
    "trainset = torchvision.datasets.CIFAR10(root='./data', train=True,\n",
    "                                        download=True, transform=transform_train)\n",
    "\n",
    "# split the training set into train, validation and testing sets\n",
    "train_size = int(0.8 * len(trainset))\n",
    "valid_size = len(trainset) - train_size\n",
    "\n",
    "trainset, validset = random_split(trainset, [train_size, valid_size])\n",
    "\n",
    "# Use DataLoader to feed training data to PyTorch models.\n",
    "trainloader = torch.utils.data.DataLoader(trainset, batch_size=batch_size,\n",
    "                                          shuffle=True, num_workers=4)\n",
    "\n",
    "# define validation dataloader\n",
    "validloader = torch.utils.data.DataLoader(validset, batch_size=batch_size,\n",
    "                                          shuffle=False, num_workers=4)\n",
    "\n",
    "# create test set and define test dataloader\n",
    "testset = torchvision.datasets.CIFAR10(root='./data', train=False,\n",
    "                                       download=True, transform=transform_test)\n",
    "\n",
    "testloader = torch.utils.data.DataLoader(testset, batch_size=batch_size,\n",
    "                                         shuffle=False, num_workers=4)\n",
    "\n",
    "# Update dataloaders and dataset sizes dictionaries\n",
    "dataloaders = {'train': trainloader, 'valid': validloader, 'test': testloader}\n",
    "dataset_sizes = {'train': len(trainset), 'valid': len(validset), 'test': len(testset)}\n",
    "\n",
    "# The 10 classes in the dataset\n",
    "classes = ('plane', 'car', 'bird', 'cat', 'deer', 'dog', 'frog', 'horse', 'ship', 'truck')\n",
    "\n",
    "print()\n",
    "# Explore datasets and describe their properties to set and optimize neural network parameters.\n",
    "show_dataset_shapes(dataloaders)\n"
   ]
  },
  {
   "cell_type": "markdown",
   "metadata": {},
   "source": [
    "## Explore the Dataset\n",
    "Using matplotlib, numpy, and torch, explore the dimensions of your data.\n",
    "\n",
    "You can view images using the `show5` function defined below – it takes a data loader as an argument.\n",
    "Remember that normalized images will look really weird to you! You may want to try changing your transforms to view images.\n",
    "Typically using no transforms other than `toTensor()` works well for viewing – but not as well for training your network.\n",
    "If `show5` doesn't work, go back and check your code for creating your data loaders and your training/test sets."
   ]
  },
  {
   "cell_type": "code",
   "execution_count": 5,
   "metadata": {},
   "outputs": [],
   "source": [
    "def show5(img_loader):\n",
    "    dataiter = iter(img_loader)\n",
    "    \n",
    "    batch = next(dataiter)\n",
    "    labels = batch[1][0:5]\n",
    "    images = batch[0][0:5]\n",
    "    \n",
    "    # Mean and std for the CIFAR-10 dataset\n",
    "    mean = np.array([0.4914, 0.4822, 0.4465])\n",
    "    std = np.array([0.2023, 0.1994, 0.2010])\n",
    "\n",
    "    for i in range(len(images)):\n",
    "        print(\"Label: \" + classes[labels[i]])\n",
    "    \n",
    "        image = images[i].numpy()\n",
    "        \n",
    "        # Denormalise\n",
    "        for channel in range(3):  # iterate over color channels\n",
    "            image[channel] = image[channel] * std[channel] + mean[channel]\n",
    "                \n",
    "        image = np.clip(image, 0, 1)\n",
    "        \n",
    "        # Transpose (von PyTorch(C, H, W) zu Numpy(H, W, C))\n",
    "        image = np.transpose(image, (1, 2, 0))\n",
    "        \n",
    "        plt.figure(figsize=(1, 1))\n",
    "        plt.axis('off')\n",
    "        plt.imshow(image)\n",
    "        plt.show()"
   ]
  },
  {
   "cell_type": "code",
   "execution_count": 6,
   "metadata": {},
   "outputs": [
    {
     "name": "stdout",
     "output_type": "stream",
     "text": [
      "Label: cat\n"
     ]
    },
    {
     "data": {
      "image/png": "[encoded data removed]",
      "text/plain": [
       "<Figure size 100x100 with 1 Axes>"
      ]
     },
     "metadata": {},
     "output_type": "display_data"
    },
    {
     "name": "stdout",
     "output_type": "stream",
     "text": [
      "Label: ship\n"
     ]
    },
    {
     "data": {
      "image/png": "[encoded data removed]",
      "text/plain": [
       "<Figure size 100x100 with 1 Axes>"
      ]
     },
     "metadata": {},
     "output_type": "display_data"
    },
    {
     "name": "stdout",
     "output_type": "stream",
     "text": [
      "Label: ship\n"
     ]
    },
    {
     "data": {
      "image/png": "[encoded data removed]",
      "text/plain": [
       "<Figure size 100x100 with 1 Axes>"
      ]
     },
     "metadata": {},
     "output_type": "display_data"
    },
    {
     "name": "stdout",
     "output_type": "stream",
     "text": [
      "Label: plane\n"
     ]
    },
    {
     "data": {
      "image/png": "[encoded data removed]",
      "text/plain": [
       "<Figure size 100x100 with 1 Axes>"
      ]
     },
     "metadata": {},
     "output_type": "display_data"
    },
    {
     "name": "stdout",
     "output_type": "stream",
     "text": [
      "Label: frog\n"
     ]
    },
    {
     "data": {
      "image/png": "[encoded data removed]",
      "text/plain": [
       "<Figure size 100x100 with 1 Axes>"
      ]
     },
     "metadata": {},
     "output_type": "display_data"
    }
   ],
   "source": [
    "# Explore datasets and describe their properties to set and optimize neural network parameters.\n",
    "show5(testloader)"
   ]
  },
  {
   "cell_type": "markdown",
   "metadata": {},
   "source": [
    "## Build your Neural Network\n",
    "Using the layers in `torch.nn` (which has been imported as `nn`) and the `torch.nn.functional` module (imported as `F`), construct a neural network based on the parameters of the dataset. \n",
    "Feel free to construct a model of any architecture – feedforward, convolutional, or even something more advanced!"
   ]
  },
  {
   "cell_type": "markdown",
   "metadata": {},
   "source": [
    "Lets try something simple first. A \"classic\" **CNN** aproach."
   ]
  },
  {
   "cell_type": "code",
   "execution_count": 23,
   "metadata": {},
   "outputs": [],
   "source": [
    "# Use PyTorch to build a neural network for image classification.\n",
    "class SimpleCNN(nn.Module):\n",
    "    def __init__(self, num_classes=10):\n",
    "        super(SimpleCNN, self).__init__()\n",
    "        self.conv1 = nn.Conv2d(3, 32, kernel_size=3, stride=1, padding=1)\n",
    "        self.conv2 = nn.Conv2d(32, 64, kernel_size=3, stride=1, padding=1)\n",
    "        self.conv3 = nn.Conv2d(64, 128, kernel_size=3, stride=1, padding=1)\n",
    "        self.fc1 = nn.Linear(128 * 4 * 4, 256)\n",
    "        self.fc2 = nn.Linear(256, num_classes) # no explicit activation function here because a soft max is integrated in CrossEntropyLoss\n",
    "        self.dropout = nn.Dropout(0.5)\n",
    "\n",
    "    def forward(self, x):\n",
    "        x = nn.functional.relu(nn.functional.max_pool2d(self.conv1(x), 2))\n",
    "        x = nn.functional.relu(nn.functional.max_pool2d(self.conv2(x), 2))\n",
    "        x = nn.functional.relu(nn.functional.max_pool2d(self.conv3(x), 2))\n",
    "        x = x.view(x.size(0), -1)  # Flatten\n",
    "        x = self.dropout(x)\n",
    "        x = nn.functional.relu(self.fc1(x))\n",
    "        x = self.fc2(x)\n",
    "        return x"
   ]
  },
  {
   "cell_type": "markdown",
   "metadata": {},
   "source": [
    "Lets try a more advanced model."
   ]
  },
  {
   "cell_type": "code",
   "execution_count": 7,
   "metadata": {},
   "outputs": [],
   "source": [
    "# Use PyTorch to build a neural network for image classification.\n",
    "class AdvancedCNN(nn.Module):\n",
    "    def __init__(self, num_classes=10):\n",
    "        super(AdvancedCNN, self).__init__()\n",
    "        self.conv1 = nn.Conv2d(3, 64, kernel_size=3, stride=1, padding=1)\n",
    "        self.conv2 = nn.Conv2d(64, 128, kernel_size=3, stride=1, padding=1)\n",
    "        self.conv3 = nn.Conv2d(128, 256, kernel_size=3, stride=1, padding=1)\n",
    "        self.fc1 = nn.Linear(256 * 4 * 4, 512)\n",
    "        self.fc2 = nn.Linear(512, num_classes) # no explicit activation function here because a soft max is integrated in CrossEntropyLoss\n",
    "        self.dropout = nn.Dropout(0.5)\n",
    "\n",
    "    def forward(self, x):\n",
    "        x = nn.functional.relu(nn.functional.max_pool2d(self.conv1(x), 2))\n",
    "        x = nn.functional.relu(nn.functional.max_pool2d(self.conv2(x), 2))\n",
    "        x = nn.functional.relu(nn.functional.max_pool2d(self.conv3(x), 2))\n",
    "        x = x.view(x.size(0), -1)  # Flatten\n",
    "        x = self.dropout(x)\n",
    "        x = nn.functional.relu(self.fc1(x))\n",
    "        x = self.fc2(x)\n",
    "        return x"
   ]
  },
  {
   "cell_type": "code",
   "execution_count": 24,
   "metadata": {},
   "outputs": [
    {
     "name": "stdout",
     "output_type": "stream",
     "text": [
      "SimpleCNN(\n",
      "  (conv1): Conv2d(3, 32, kernel_size=(3, 3), stride=(1, 1), padding=(1, 1))\n",
      "  (conv2): Conv2d(32, 64, kernel_size=(3, 3), stride=(1, 1), padding=(1, 1))\n",
      "  (conv3): Conv2d(64, 128, kernel_size=(3, 3), stride=(1, 1), padding=(1, 1))\n",
      "  (fc1): Linear(in_features=2048, out_features=256, bias=True)\n",
      "  (fc2): Linear(in_features=256, out_features=10, bias=True)\n",
      "  (dropout): Dropout(p=0.5, inplace=False)\n",
      ")\n",
      "Start/Continue with epoch: 0\n"
     ]
    }
   ],
   "source": [
    "device = torch.device(\"cuda\" if torch.cuda.is_available() else \"cpu\")\n",
    "\n",
    "model = SimpleCNN(num_classes=10).to(device) \n",
    "model = model.to(device)\n",
    "\n",
    "# Select a loss function for training a classification network.\n",
    "criterion = nn.CrossEntropyLoss()\n",
    "\n",
    "# Define an optimizer to minimize loss function and update model parameters for improved accuracy.\n",
    "optimizer = optim.Adam(model.parameters(), lr=0.001)\n",
    "\n",
    "# override the learning rate of the default optimizer and integrate a StepLR strategy (because I wanted to test that too)\n",
    "scheduler = optim.lr_scheduler.StepLR(optimizer, step_size=7, gamma=0.1)\n",
    "\n",
    "print(model)\n",
    "\n",
    "# you can load a previously saved model here\n",
    "if os.path.exists(\"checkpoint/checkpoint.pth\"):\n",
    "    start_epoch, criterion = load_checkpoint(model, optimizer, 'checkpoint/checkpoint.pth')\n",
    "else:\n",
    "    start_epoch = 0\n",
    "\n",
    "#start_epoch = 0\n",
    "print(f\"Start/Continue with epoch: {start_epoch}\")"
   ]
  },
  {
   "cell_type": "code",
   "execution_count": 10,
   "metadata": {},
   "outputs": [],
   "source": [
    "# Train a neural network using PyTorch to achieve a given level of accuracy.\n",
    "def train_model(model, criterion, optimizer, scheduler, start_epoch=0, num_epochs=20, patience=5, min_delta=0.001):\n",
    "    since = time.time()\n",
    "\n",
    "    # lets deep copy the current model so we can return the model with the highest accuracy later on\n",
    "    best_model_wts = copy.deepcopy(model.state_dict())\n",
    "    best_acc = 0.0\n",
    "    epochs_no_improve = 0\n",
    "    \n",
    "    train_losses = []\n",
    "    valid_losses = []\n",
    "    \n",
    "    for epoch in range(start_epoch, num_epochs + start_epoch):\n",
    "        print(f'Epoch {epoch}/{num_epochs  + start_epoch - 1}')\n",
    "        print('-' * 10)\n",
    "\n",
    "        # time measure for epoch\n",
    "        epoch_since = time.time()\n",
    "        \n",
    "        for phase in ['train', 'valid']:\n",
    "            if phase == 'train':\n",
    "                model.train()\n",
    "            else:\n",
    "                model.eval()\n",
    "\n",
    "            running_loss = 0.0\n",
    "            running_corrects = 0\n",
    "\n",
    "            for inputs, labels in dataloaders[phase]:\n",
    "                inputs = inputs.to(device)\n",
    "                labels = labels.to(device)\n",
    "\n",
    "                optimizer.zero_grad()\n",
    "\n",
    "                with torch.set_grad_enabled(phase == 'train'):\n",
    "                    outputs = model(inputs)\n",
    "                    _, preds = torch.max(outputs, 1)\n",
    "                    loss = criterion(outputs, labels)\n",
    "\n",
    "                    if phase == 'train':\n",
    "                        loss.backward()\n",
    "                        optimizer.step()\n",
    "\n",
    "                running_loss += loss.item() * inputs.size(0)\n",
    "                running_corrects += torch.sum(preds == labels.data)\n",
    "\n",
    "            if phase == 'train':\n",
    "                scheduler.step()\n",
    "\n",
    "            epoch_loss = running_loss / dataset_sizes[phase]\n",
    "            epoch_acc = running_corrects.double() / dataset_sizes[phase]\n",
    "\n",
    "            # save the losses for plotting it later\n",
    "            if phase == 'train':\n",
    "                train_losses.append(epoch_loss)\n",
    "            else:\n",
    "                valid_losses.append(epoch_loss)\n",
    "                \n",
    "            # validation Loss and Accuracy\n",
    "            print(f'{phase} Loss: {epoch_loss:.4f} Acc: {epoch_acc:.4f}')\n",
    "\n",
    "            # check for improvement in validation phase\n",
    "            if phase == 'valid':\n",
    "                if epoch_acc > best_acc + min_delta:\n",
    "                    best_acc = epoch_acc\n",
    "                    best_model_wts = copy.deepcopy(model.state_dict())\n",
    "                    epochs_no_improve = 0\n",
    "                else:\n",
    "                    epochs_no_improve += 1\n",
    "\n",
    "        # early stopping\n",
    "        if epochs_no_improve >= patience:\n",
    "            print(f'Early stopping triggered after {patience} epochs with no improvement.')\n",
    "            break\n",
    "\n",
    "        epoch_time_elapsed = time.time() - epoch_since\n",
    "        print(f'Epoch {epoch} complete in {epoch_time_elapsed // 60:.0f}m {epoch_time_elapsed % 60:.0f}s')\n",
    "        print()\n",
    "\n",
    "    # validation Loss and Accuracy\n",
    "    time_elapsed = time.time() - since\n",
    "    print(f'Training complete in {time_elapsed // 60:.0f}m {time_elapsed % 60:.0f}s')\n",
    "    print(f'Best val Acc: {best_acc:.4f}')\n",
    "\n",
    "    # return the best (most accurate) model\n",
    "    model.load_state_dict(best_model_wts)\n",
    "    return model, train_losses, valid_losses"
   ]
  },
  {
   "cell_type": "markdown",
   "metadata": {},
   "source": [
    "Specify a loss function and an optimizer, and instantiate the model.\n",
    "\n",
    "If you use a less common loss function, please note why you chose that loss function in a comment."
   ]
  },
  {
   "cell_type": "markdown",
   "metadata": {},
   "source": [
    "**Remarks** to Loss Function:\n",
    "\n",
    "I think CrossEntropyLoss is not so exotic, so I am going to try it with that loss function type first. Please be **aware** of the fact, that no explicit soft-max activation function needs to be defined in the output layer if CrossEntropyLoss is used. CrossEntropyLoss already implements a soft-max."
   ]
  },
  {
   "cell_type": "markdown",
   "metadata": {},
   "source": [
    "## Running your Neural Network\n",
    "Use whatever method you like to train your neural network, and ensure you record the average loss at each epoch. \n",
    "Don't forget to use `torch.device()` and the `.to()` method for both your model and your data if you are using GPU!\n",
    "\n",
    "If you want to print your loss during each epoch, you can use the `enumerate` function and print the loss after a set number of batches. 250 batches works well for most people!"
   ]
  },
  {
   "cell_type": "code",
   "execution_count": 25,
   "metadata": {},
   "outputs": [
    {
     "name": "stdout",
     "output_type": "stream",
     "text": [
      "Epoch 0/19\n",
      "----------\n",
      "train Loss: 1.6723 Acc: 0.3864\n",
      "valid Loss: 1.4085 Acc: 0.4779\n",
      "Epoch 0 complete in 0m 4s\n",
      "\n",
      "Epoch 1/19\n",
      "----------\n",
      "train Loss: 1.3459 Acc: 0.5148\n",
      "valid Loss: 1.1949 Acc: 0.5707\n",
      "Epoch 1 complete in 0m 3s\n",
      "\n",
      "Epoch 2/19\n",
      "----------\n",
      "train Loss: 1.1875 Acc: 0.5746\n",
      "valid Loss: 1.0702 Acc: 0.6101\n",
      "Epoch 2 complete in 0m 3s\n",
      "\n",
      "Epoch 3/19\n",
      "----------\n",
      "train Loss: 1.0769 Acc: 0.6116\n",
      "valid Loss: 1.0202 Acc: 0.6289\n",
      "Epoch 3 complete in 0m 3s\n",
      "\n",
      "Epoch 4/19\n",
      "----------\n",
      "train Loss: 1.0004 Acc: 0.6424\n",
      "valid Loss: 0.9227 Acc: 0.6751\n",
      "Epoch 4 complete in 0m 3s\n",
      "\n",
      "Epoch 5/19\n",
      "----------\n",
      "train Loss: 0.9474 Acc: 0.6633\n",
      "valid Loss: 0.8814 Acc: 0.6916\n",
      "Epoch 5 complete in 0m 3s\n",
      "\n",
      "Epoch 6/19\n",
      "----------\n",
      "train Loss: 0.9027 Acc: 0.6784\n",
      "valid Loss: 0.8167 Acc: 0.7152\n",
      "Epoch 6 complete in 0m 3s\n",
      "\n",
      "Epoch 7/19\n",
      "----------\n",
      "train Loss: 0.8118 Acc: 0.7134\n",
      "valid Loss: 0.7667 Acc: 0.7355\n",
      "Epoch 7 complete in 0m 3s\n",
      "\n",
      "Epoch 8/19\n",
      "----------\n",
      "train Loss: 0.7910 Acc: 0.7192\n",
      "valid Loss: 0.7479 Acc: 0.7401\n",
      "Epoch 8 complete in 0m 3s\n",
      "\n",
      "Epoch 9/19\n",
      "----------\n",
      "train Loss: 0.7804 Acc: 0.7251\n",
      "valid Loss: 0.7399 Acc: 0.7427\n",
      "Epoch 9 complete in 0m 3s\n",
      "\n",
      "Epoch 10/19\n",
      "----------\n",
      "train Loss: 0.7705 Acc: 0.7288\n",
      "valid Loss: 0.7287 Acc: 0.7490\n",
      "Epoch 10 complete in 0m 3s\n",
      "\n",
      "Epoch 11/19\n",
      "----------\n",
      "train Loss: 0.7623 Acc: 0.7309\n",
      "valid Loss: 0.7331 Acc: 0.7450\n",
      "Epoch 11 complete in 0m 3s\n",
      "\n",
      "Epoch 12/19\n",
      "----------\n",
      "train Loss: 0.7578 Acc: 0.7342\n",
      "valid Loss: 0.7272 Acc: 0.7448\n",
      "Epoch 12 complete in 0m 3s\n",
      "\n",
      "Epoch 13/19\n",
      "----------\n",
      "train Loss: 0.7552 Acc: 0.7353\n",
      "valid Loss: 0.7209 Acc: 0.7533\n",
      "Epoch 13 complete in 0m 3s\n",
      "\n",
      "Epoch 14/19\n",
      "----------\n",
      "train Loss: 0.7415 Acc: 0.7385\n",
      "valid Loss: 0.7163 Acc: 0.7503\n",
      "Epoch 14 complete in 0m 3s\n",
      "\n",
      "Epoch 15/19\n",
      "----------\n",
      "train Loss: 0.7386 Acc: 0.7378\n",
      "valid Loss: 0.7039 Acc: 0.7549\n",
      "Epoch 15 complete in 0m 3s\n",
      "\n",
      "Epoch 16/19\n",
      "----------\n",
      "train Loss: 0.7435 Acc: 0.7379\n",
      "valid Loss: 0.7080 Acc: 0.7534\n",
      "Epoch 16 complete in 0m 3s\n",
      "\n",
      "Epoch 17/19\n",
      "----------\n",
      "train Loss: 0.7365 Acc: 0.7401\n",
      "valid Loss: 0.7092 Acc: 0.7481\n",
      "Epoch 17 complete in 0m 3s\n",
      "\n",
      "Epoch 18/19\n",
      "----------\n",
      "train Loss: 0.7392 Acc: 0.7390\n",
      "valid Loss: 0.7064 Acc: 0.7536\n",
      "Epoch 18 complete in 0m 3s\n",
      "\n",
      "Epoch 19/19\n",
      "----------\n",
      "train Loss: 0.7336 Acc: 0.7387\n",
      "valid Loss: 0.7052 Acc: 0.7565\n",
      "Epoch 19 complete in 0m 3s\n",
      "\n",
      "Training complete in 1m 2s\n",
      "Best val Acc: 0.7565\n"
     ]
    }
   ],
   "source": [
    "# Train a neural network using PyTorch to achieve a given level of accuracy.\n",
    "trained_model, train_loss, valid_loss = train_model(model, criterion, optimizer, scheduler, start_epoch=start_epoch, num_epochs=20, patience=5)"
   ]
  },
  {
   "cell_type": "markdown",
   "metadata": {},
   "source": [
    "Plot the training loss (and validation loss/accuracy, if recorded)."
   ]
  },
  {
   "cell_type": "code",
   "execution_count": 12,
   "metadata": {},
   "outputs": [],
   "source": [
    "def plot_losses(train_losses, valid_losses):\n",
    "    \"\"\"\n",
    "    Plots the training and validation losses over epochs.\n",
    "\n",
    "    Args:\n",
    "        train_losses (list): List of training losses recorded at the end of each epoch.\n",
    "        valid_losses (list): List of validation losses recorded at the end of each epoch.\n",
    "    \"\"\"\n",
    "    plt.figure(figsize=(10, 6))\n",
    "    plt.plot(train_losses, label='Training Loss')\n",
    "    plt.plot(valid_losses, label='Validation Loss')\n",
    "    plt.xlabel('Epoch')\n",
    "    plt.ylabel('Loss')\n",
    "    plt.title('Training and Validation Loss Over Epochs')\n",
    "    plt.legend()\n",
    "    plt.grid(True)\n",
    "    plt.show()"
   ]
  },
  {
   "cell_type": "code",
   "execution_count": 13,
   "metadata": {},
   "outputs": [
    {
     "data": {
      "image/png": "[encoded data removed]",
      "text/plain": [
       "<Figure size 1000x600 with 1 Axes>"
      ]
     },
     "metadata": {},
     "output_type": "display_data"
    }
   ],
   "source": [
    "# Compute and plot average loss to track model performance.\n",
    "plot_losses(train_loss, valid_loss)"
   ]
  },
  {
   "cell_type": "markdown",
   "metadata": {},
   "source": [
    "## Testing your model\n",
    "Using the previously created `DataLoader` for the test set, compute the percentage of correct predictions using the highest probability prediction. \n",
    "\n",
    "If your accuracy is over 70%, great work! \n",
    "This is a hard task to exceed 70% on.\n",
    "\n",
    "If your accuracy is under 45%, you'll need to make improvements.\n",
    "Go back and check your model architecture, loss function, and optimizer to make sure they're appropriate for an image classification task."
   ]
  },
  {
   "cell_type": "code",
   "execution_count": 14,
   "metadata": {},
   "outputs": [],
   "source": [
    "def evaluate_model(model, dataloader, criterion, device):\n",
    "    \"\"\"\n",
    "    Evaluates the model on the test set.\n",
    "\n",
    "    Args:\n",
    "        model (nn.Module): The model to evaluate.\n",
    "        dataloader (torch.utils.data.DataLoader): The dataloader for the test set.\n",
    "        criterion (nn.CrossEntropyLoss): The loss function.\n",
    "        device (torch.device): The device to evaluate on (CPU/GPU).\n",
    "\n",
    "    Returns:\n",
    "        None\n",
    "    \"\"\"\n",
    "    model.eval()\n",
    "    running_loss = 0.0\n",
    "    running_corrects = 0\n",
    "\n",
    "    for inputs, labels in dataloader:\n",
    "        inputs = inputs.to(device)\n",
    "        labels = labels.to(device)\n",
    "\n",
    "        with torch.no_grad():\n",
    "            outputs = model(inputs)\n",
    "            _, preds = torch.max(outputs, 1)\n",
    "            loss = criterion(outputs, labels)\n",
    "\n",
    "        running_loss += loss.item() * inputs.size(0)\n",
    "        running_corrects += torch.sum(preds == labels.data)\n",
    "\n",
    "    total_loss = running_loss / len(dataloader.dataset)\n",
    "    total_acc = running_corrects.double() / len(dataloader.dataset)\n",
    "\n",
    "    print(f'Test Loss: {total_loss:.4f} Acc: {total_acc:.4f}')"
   ]
  },
  {
   "cell_type": "code",
   "execution_count": 15,
   "metadata": {},
   "outputs": [
    {
     "name": "stdout",
     "output_type": "stream",
     "text": [
      "\n",
      "Evaluating the model on the test set...\n",
      "Test Loss: 0.5862 Acc: 0.7990\n"
     ]
    }
   ],
   "source": [
    "# Use DataLoaders to test the accuracy of a model.\n",
    "print(\"\\nEvaluating the model on the test set...\")\n",
    "evaluate_model(model, dataloaders['test'], criterion, device)"
   ]
  },
  {
   "cell_type": "markdown",
   "metadata": {},
   "source": [
    "## Loading existing model"
   ]
  },
  {
   "cell_type": "code",
   "execution_count": 19,
   "metadata": {},
   "outputs": [],
   "source": [
    "import torch\n",
    "import os\n",
    "\n",
    "def load_checkpoint(model, optimizer, checkpoint_path):\n",
    "    \"\"\"\n",
    "    Loads the state of the model, optimizer, and other relevant information from a checkpoint file.\n",
    "\n",
    "    Args:\n",
    "        model (nn.Module): The model to load the state into.\n",
    "        optimizer (optim.Adam): The optimizer to load the state into.\n",
    "        checkpoint_path (str): The path to the checkpoint file.\n",
    "    \n",
    "    Returns:\n",
    "        int: The epoch at which the checkpoint was saved.\n",
    "        float: The learning rate at which the checkpoint was saved.\n",
    "    \"\"\"\n",
    "    if not os.path.exists(checkpoint_path):\n",
    "        raise FileNotFoundError(f\"Checkpoint file not found at '{checkpoint_path}'\")\n",
    "\n",
    "    checkpoint = torch.load(checkpoint_path)\n",
    "    \n",
    "    model.load_state_dict(checkpoint['state_dict'])\n",
    "    optimizer.load_state_dict(checkpoint['optimizer_state_dict'])\n",
    "\n",
    "    # load criterion if present\n",
    "    if 'criterion' in checkpoint:\n",
    "        criterion = nn.CrossEntropyLoss()\n",
    "        criterion.load_state_dict(checkpoint['criterion'])\n",
    "    else:\n",
    "        criterion = None\n",
    "\n",
    "    # return learning rate and epoch\n",
    "    return checkpoint['epoch'], criterion"
   ]
  },
  {
   "cell_type": "markdown",
   "metadata": {},
   "source": [
    "## Saving your model\n",
    "Using `torch.save`, save your model for future loading."
   ]
  },
  {
   "cell_type": "code",
   "execution_count": 16,
   "metadata": {},
   "outputs": [],
   "source": [
    "# Save trained model parameters for later use.\n",
    "def save_checkpoint(model, optimizer, save_dir, epoch, criterion):\n",
    "    \"\"\"\n",
    "    Saves the current state of the model, optimizer, and other relevant information to a checkpoint file.\n",
    "\n",
    "    Args:\n",
    "        model (nn.Module): The model to save.\n",
    "        optimizer (optim.Adam): The optimizer to save.\n",
    "        save_dir (str): The directory to save the checkpoint file in.\n",
    "        epoch (int): The current epoch.        \n",
    "        criterion (nn.CrossEntropyLoss): The loss function to save.\n",
    "    \"\"\"\n",
    "    checkpoint = {\n",
    "        'epoch': epoch,        \n",
    "        'state_dict': model.state_dict(),\n",
    "        'optimizer_state_dict': optimizer.state_dict(),        \n",
    "        'criterion': criterion.state_dict(),\n",
    "        #'learning_rate': learning_rate\n",
    "    }\n",
    "    \n",
    "    torch.save(checkpoint, os.path.join(save_dir, 'checkpoint.pth'))"
   ]
  },
  {
   "cell_type": "code",
   "execution_count": 17,
   "metadata": {},
   "outputs": [],
   "source": [
    "save_checkpoint(model, optimizer, \"./checkpoint\", 20, criterion)"
   ]
  },
  {
   "cell_type": "markdown",
   "metadata": {},
   "source": [
    "## Make a Recommendation\n",
    "\n",
    "Based on your evaluation, what is your recommendation on whether to build or buy? Explain your reasoning below."
   ]
  },
  {
   "cell_type": "markdown",
   "metadata": {},
   "source": [
    "The network configured in-house (AdvancedCNN) achieves an accuracy of approx. 78%. That is 8% more than the solution from Detectorcorp. And that after just 20 epochs of training. Of course, the self-built solution stagnates at around 78%, but if that is sufficient, then you can rely on an in-house solution. With more time and computing resources and more complex architectures, you can certainly get even more out of it.\r\n",
    "\n",
    "**My advice:**\n",
    "\n",
    "\r\n",
    "I would therefore advise against buying a network from Detectorcorp.\n",
    "\n"
   ]
  },
  {
   "cell_type": "code",
   "execution_count": null,
   "metadata": {},
   "outputs": [],
   "source": []
  }
 ],
 "metadata": {
  "kernelspec": {
   "display_name": "Python 3 (ipykernel)",
   "language": "python",
   "name": "python3"
  },
  "language_info": {
   "codemirror_mode": {
    "name": "ipython",
    "version": 3
   },
   "file_extension": ".py",
   "mimetype": "text/x-python",
   "name": "python",
   "nbconvert_exporter": "python",
   "pygments_lexer": "ipython3",
   "version": "3.10.14"
  }
 },
 "nbformat": 4,
 "nbformat_minor": 4
}
